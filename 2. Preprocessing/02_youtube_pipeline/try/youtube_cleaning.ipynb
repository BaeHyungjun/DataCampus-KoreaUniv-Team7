{
 "cells": [
  {
   "cell_type": "markdown",
   "metadata": {},
   "source": [
    "# 뉴스 유튜브 채널 자료 제공 현황\n",
    "\n",
    "이렇게 8개의 채널만 가져와도 충분할 것이라고 생각합니다!\n",
    "\n",
    "## 영상 설명에 내용 있는 언론사\n",
    "\n",
    "1. ytn : 영상 설명에 내용 O, 원문 보기 링크 O, 링크 : https://www.youtube.com/user/ytnnews24/\n",
    "\n",
    "채널 id : UChlgI3UHCOnwUGzWzbJ3H5w\n",
    "\n",
    "2. 연합뉴스 : 영상 설명에 내용 O, 원문 보기 링크 X, 링크 : https://www.youtube.com/channel/UCTHCOPwqNfZ0uiKOvFyhGwg\n",
    "\n",
    "채널 id : UCTHCOPwqNfZ0uiKOvFyhGwg\n",
    "\n",
    "3. 채널A : 영상 설명에 내용 O, 원문 보기 링크 X, 링크 : https://www.youtube.com/user/tvchanews\n",
    "\n",
    "채널 id : UCfq4V1DAuaojnr2ryvWNysw\n",
    "\n",
    "4. MBN : 영상 설명에 내용 O, 원문 보기 링크 X, 링크 : https://www.youtube.com/user/mbn\n",
    "\n",
    "채널 id : UCG9aFJTZ-lMCHAiO1KJsirg\n",
    "\n",
    "5. kbs : 영상 설명에 내용 X, 원문 보기 링크 O, 링크 : https://www.youtube.com/user/NewsKBS\n",
    "\n",
    "채널 id : UCcQTRi69dsVYHN3exePtZ1A\n",
    "\n",
    "## 영상 설명에 내용 없고 원문 보기 링크가 있는 언론사\n",
    "\n",
    "원문 보기 링크가 없는 동영상은 삭제하는 방식으로 가야겠다\n",
    "\n",
    "pattern3 = re.compile(r'\\bhttps?://\\w+(?:[.]?\\w+)+\\b') # url 규칙\n",
    "\n",
    "6. mbc : 영상 설명에 내용 X, 원문 보기 링크 O, 링크 : https://www.youtube.com/user/MBCnews\n",
    "\n",
    "채널 id : UCF4Wxdo3inmxP-Y59wXDsFw\n",
    "\n",
    "원문 보기 링크 예시\n",
    "\n",
    "5분 37초 : https://imnews.imbc.com/replay/2020/nwtoday/article/5865528_32531.html\n",
    "\n",
    "2분 40초 : https://imnews.imbc.com/replay/2020/nwtoday/article/5865560_32531.html\n",
    "\n",
    "7. sbs : 영상 설명에 내용 X, 원문 보기 링크 O, 링크 : https://www.youtube.com/user/sbsnews8\n",
    "\n",
    "채널 id : UCkinYTS9IHqOEwR1Sze2JTw\n",
    "\n",
    "원문 보기 링크 예시\n",
    "\n",
    "2분 24초 : https://news.sbs.co.kr/news/endPage.do?news_id=N1005918079&plink=LINK&cooper=YOUTUBE\n",
    "\n",
    "3분 47초 : https://news.sbs.co.kr/news/endPage.do?news_id=N1005917222&plink=LINK&cooper=YOUTUBE\n",
    "\n",
    "4분 몇초짜리 연애기사는 시간이 짧았음에도 불구하고 원문 기사가 없었음\n",
    "\n",
    "5분 32초 : https://news.sbs.co.kr/news/endPage.do?news_id=N1005915372&plink=LINK&cooper=YOUTUBE\n",
    "\n",
    "16분 4초 : https://news.sbs.co.kr/news/endPage.do?news_id=N1005916633&plink=LINK&cooper=YOUTUBE\n",
    "\n",
    "8. jtbc : 영상 설명에 내용 X, 원문 보기 링크 O, 링크 : https://www.youtube.com/user/JTBC10news\n",
    "\n",
    "채널 id : UCsU-I-vHLiaMfV_ceaYz5rQ\n",
    "\n",
    "원문 보기 링크 예시\n",
    "\n",
    "2분 14초 : 없음\n",
    "\n",
    "6분 9초 : https://www.youtube.com/watch?v=LqzWyUxN8yU 원문 보기 링크는 없는데 영상 설명이 좀 자세한 편\n",
    "\n",
    "20분 31초 : 없음\n",
    "\n",
    "6분 12초 : http://news.jtbc.joins.com/html/210/NB11963210.html\n",
    "\n",
    "이게 있는게 있고 없는게 있네\n",
    "\n",
    "데이터 수집 단계에서 정제를 하고 싶었는데 막막해서... 일단 8월 1일 ~ 8월 7일에 대한 영상들을 수집\n",
    "\n",
    "정제 필요!"
   ]
  },
  {
   "cell_type": "code",
   "execution_count": 1,
   "metadata": {
    "ExecuteTime": {
     "end_time": "2020-08-20T13:30:46.984729Z",
     "start_time": "2020-08-20T13:30:45.082911Z"
    }
   },
   "outputs": [],
   "source": [
    "import numpy as np\n",
    "import pandas as pd\n",
    "import re\n",
    "\n",
    "import urllib\n",
    "import requests\n",
    "from bs4 import BeautifulSoup"
   ]
  },
  {
   "cell_type": "code",
   "execution_count": 2,
   "metadata": {
    "ExecuteTime": {
     "end_time": "2020-08-20T13:30:47.005718Z",
     "start_time": "2020-08-20T13:30:46.988727Z"
    }
   },
   "outputs": [],
   "source": [
    "def df_cleaning(DataFrame, cleaning_function):\n",
    "    \n",
    "    copy = DataFrame.copy()\n",
    "    \n",
    "    copy.dropna(axis=0, inplace=True)\n",
    "    copy.reset_index(drop=True, inplace=True)\n",
    "    \n",
    "    cleaned_description = [cleaning_function(element) for element in copy['description']]\n",
    "    copy['cleaned_description'] = cleaned_description\n",
    "    \n",
    "    copy.dropna(axis=0, inplace=True)\n",
    "    copy.reset_index(drop=True, inplace=True)\n",
    "    \n",
    "    copy = copy.loc[copy['cleaned_description'].str.len() > 250]\n",
    "    copy.reset_index(drop=True, inplace=True)\n",
    "    \n",
    "    return copy"
   ]
  },
  {
   "cell_type": "markdown",
   "metadata": {},
   "source": [
    "### 1. ytn"
   ]
  },
  {
   "cell_type": "code",
   "execution_count": 3,
   "metadata": {
    "ExecuteTime": {
     "end_time": "2020-08-20T13:30:47.153625Z",
     "start_time": "2020-08-20T13:30:47.010714Z"
    }
   },
   "outputs": [],
   "source": [
    "def ytn_description_cleaning(text):\n",
    "    text = str(text)\n",
    "    # 정규표현식으로 제거\n",
    "    text = re.sub(r'(취재기자\\s?:\\s?\\w{1,})?', '', text)\n",
    "    text = re.sub(r'(촬영기자\\s?:\\s?\\w{1,})?', '', text)\n",
    "    text = re.sub(r'(그래픽\\s?:\\s?\\w{1,})?', '', text)\n",
    "    text = re.sub(r'(자막뉴스\\s?:\\s?\\w{1,})?', '', text)\n",
    "    text = re.sub(r'\\[앵커\\]|\\[기자\\]', '', text)\n",
    "    text = re.sub(r'\\n', ' ', text)\n",
    "    text = re.sub(r'\\.\\.\\. \\(중략\\)', ' ', text)\n",
    "    text = re.sub(r\"\\'|\\\"\", ' ', text)\n",
    "    text = re.sub(r\"(美)\", '미국', text)\n",
    "    text = re.sub(r\"(佛)\", '프랑스', text)\n",
    "    text = re.sub(r\"(UAE)\", '아랍에미리트', text)\n",
    "    text = re.sub(r\"(中)\", '중국', text)\n",
    "    text = re.sub(r\"(日)\", '일본', text)\n",
    "    text = re.sub(r\"(韓)\", '한국', text)\n",
    "    text = re.sub(r\"(北)\", '북한', text)\n",
    "    text = re.sub(r\"(▲)\", '', text)\n",
    "    text = re.sub(r\"(靑)\", '청와대', text)\n",
    "    text = re.sub(r\"(與)\", '여당', text)\n",
    "    text = re.sub(r\"(野)\", '야당', text)\n",
    "    text = re.sub(r\"(新)\", '신규', text)\n",
    "    text = re.sub(r\"(外)\", '외', text)\n",
    "    text = re.sub(r\"(英)\", '영국', text)\n",
    "    \n",
    "    text = re.sub(r\"■ 진행 : \\w{1,} 앵커(, \\w{1,} 앵커)?\", '', text)\n",
    "    text = re.sub(r\"■ 출연 : \\w{1,} 기자(, \\w{1,} 기자)?\", '', text)\n",
    "    text = re.sub(r\"■ 출연 : \\w{1,} 기상 캐스터(, \\w{1,} 기상 캐스터)?\", '', text)\n",
    "    text = re.sub(r\"■ 출연 : \\w{1,} / 기상청 통보관(, \\w{1,} / 기상청 통보관)?\", '', text)\n",
    "    text = re.sub(r\"■ 출연 : \\w{1,} / 한국기상산업협회 본부장(, \\w{1,} / 한국기상산업협회 본부장)?\", '', text)\n",
    "    text = re.sub(r\"■ 출연 : \\w{1,} / 케이웨더 예보센터장(, \\w{1,} / 케이웨더 예보센터장)?\", '', text)\n",
    "    text = re.sub(r\"\\* 아래 텍스트는 실제 방송 내용과 차이가 있을 수 있으니 보다 정확한 내용은 방송로 확인하시기 바랍니다.\",\n",
    "                  '', text)\n",
    "    text = re.sub(r\"\\* 아래 텍스트는 실제 방송 내용과 차이가 있을 수 있으니 보다 정확한 내용은 방송으로 확인하시기 바랍니다.\",\n",
    "                  '', text)\n",
    "    text = re.sub(r\"(■ 출연 : )\", '', text)\n",
    "    \n",
    "    \n",
    "    # 단위\n",
    "    text = re.sub(r'(㎥)', '세제곱미터', text)\n",
    "    text = re.sub(r'(km)', '킬로미터', text)\n",
    "    text = re.sub(r'(㎞)', '킬로미터', text)\n",
    "    text = re.sub(r'(mm)', '밀리미터', text)\n",
    "    text = re.sub(r'(㎜)', '밀리미터', text)\n",
    "    text = re.sub(r'(ｍ)|(m)', '미터', text)\n",
    "    text = re.sub(r'(%)', '퍼센트', text)\n",
    "    text = re.sub(r'(％)', '퍼센트', text)\n",
    "    text = re.sub(r'(㎿)', '메가와트', text)\n",
    "    text = re.sub(r'(㏊)', '헥타르', text)\n",
    "    text = re.sub(r'(↓)', ' 감소', text)\n",
    "    text = re.sub(r'(↑)', ' 상승', text)\n",
    "    \n",
    "    # #, ▣, ▶ 뒤에 문자열은 다 제거\n",
    "    text = text.split('▶')[0].split('※')[0]\n",
    "    \n",
    "    # []로 쌓여있는 문자열 제거\n",
    "#     text = re.sub(r'\\[[\\S\\s]*?\\]', '', text)\n",
    "    text = re.sub(r'\\([\\S\\s]*?\\)', '', text)\n",
    "    \n",
    "    # 끝 문자가 .이 될때까지 삭제\n",
    "    try:\n",
    "        while text[-1] != '.':\n",
    "            text = text[:-1]\n",
    "    except:\n",
    "        pass\n",
    "    \n",
    "    # 특수문자, 띄어쓰기 중복으로 되어 있는 부분 정리\n",
    "    text = re.sub(r'’', '', text)\n",
    "    text = re.sub(r'…', ' ', text)\n",
    "    text = re.sub(r'·', ', ', text)\n",
    "    text = re.sub(r'\\s+', ' ', text)\n",
    "    text = text.strip()\n",
    "    \n",
    "    return text"
   ]
  },
  {
   "cell_type": "code",
   "execution_count": 4,
   "metadata": {
    "ExecuteTime": {
     "end_time": "2020-08-20T13:30:47.457437Z",
     "start_time": "2020-08-20T13:30:47.158623Z"
    }
   },
   "outputs": [],
   "source": [
    "ytn = pd.read_csv('youtube_crawling_0801_0807/csv_file/ytn_video_info_0801_0807.csv',\n",
    "                  index_col=0)"
   ]
  },
  {
   "cell_type": "code",
   "execution_count": 5,
   "metadata": {
    "ExecuteTime": {
     "end_time": "2020-08-20T13:30:51.947655Z",
     "start_time": "2020-08-20T13:30:47.460436Z"
    }
   },
   "outputs": [],
   "source": [
    "cleaned_ytn = df_cleaning(ytn, ytn_description_cleaning)"
   ]
  },
  {
   "cell_type": "code",
   "execution_count": 6,
   "metadata": {
    "ExecuteTime": {
     "end_time": "2020-08-20T13:30:51.988627Z",
     "start_time": "2020-08-20T13:30:51.951651Z"
    }
   },
   "outputs": [
    {
     "name": "stdout",
     "output_type": "stream",
     "text": [
      "<class 'pandas.core.frame.DataFrame'>\n",
      "RangeIndex: 1242 entries, 0 to 1241\n",
      "Data columns (total 13 columns):\n",
      " #   Column               Non-Null Count  Dtype  \n",
      "---  ------               --------------  -----  \n",
      " 0   published_time       1242 non-null   object \n",
      " 1   video_id             1242 non-null   object \n",
      " 2   video_url            1242 non-null   object \n",
      " 3   crawling_time        1242 non-null   object \n",
      " 4   author               1242 non-null   object \n",
      " 5   title                1242 non-null   object \n",
      " 6   length               1242 non-null   float64\n",
      " 7   rating               1242 non-null   float64\n",
      " 8   views                1242 non-null   float64\n",
      " 9   thumbnail_url        1242 non-null   object \n",
      " 10  captions             1242 non-null   object \n",
      " 11  description          1242 non-null   object \n",
      " 12  cleaned_description  1242 non-null   object \n",
      "dtypes: float64(3), object(10)\n",
      "memory usage: 126.3+ KB\n"
     ]
    }
   ],
   "source": [
    "cleaned_ytn.info()"
   ]
  },
  {
   "cell_type": "code",
   "execution_count": 7,
   "metadata": {
    "ExecuteTime": {
     "end_time": "2020-08-20T13:30:52.088573Z",
     "start_time": "2020-08-20T13:30:51.991625Z"
    }
   },
   "outputs": [
    {
     "data": {
      "text/plain": [
       "'앤서니 파우치 미국 국립알레르기, 전염병연구소 소장은 미국에서 코로나19 세계적 대유행 사태가 언제 끝날지 예측하는 것이 불가능하다고 말했습니다. 파우치 소장은 현지 시각 31일 CNN에 출연해 코로나19 예방 조치를 준수하려는 국가적 노력 없이는 미국에서 코로나19 사태가 얼마나 오래갈지 예측하기는 불가능하다고 강조했습니다. 파우치 소장은 마스크 착용, 대규모 모임 자제 등을 사람들이 잘 지킨다면 코로나19를 통제할 수 있지만 그러지 못한다면 우리는 이게 얼마나 오래 지속할지 예측할 수 없다 고 설명했습니다. 파우치 소장은 현지 시각 31일 미 하원 코로나19 위기 관련 특별소위원회의 청문회에서 출석해 왜 유럽은 코로나19를 대체로 억제한 반면 미국에서는 신규 환자가 증가하고 있느냐는 질문에 미국의 봉쇄 조치가 상대적으로 느슨했다는 점을 들었습니다. 유럽에서 일어난 일을 보면 폐쇄 또는 봉쇄했을 때 약 95퍼센트 이상에 달할 정도로 진짜로 그것을 했다 며 우리가 한 것을 보면 나라 전체의 관점에서 볼 때 기능적으로 약 50퍼센트만 폐쇄했다 고 말했습니다.'"
      ]
     },
     "execution_count": 7,
     "metadata": {},
     "output_type": "execute_result"
    }
   ],
   "source": [
    "cleaned_ytn.cleaned_description[0]"
   ]
  },
  {
   "cell_type": "code",
   "execution_count": 8,
   "metadata": {
    "ExecuteTime": {
     "end_time": "2020-08-20T13:30:52.169516Z",
     "start_time": "2020-08-20T13:30:52.098560Z"
    }
   },
   "outputs": [
    {
     "data": {
      "text/plain": [
       "'경기 북부에 호우주의보가 내려진 가운데 국지적으로 강한 비가 이어지고 있습니다. 장마전선이 북상하면서 수도권과 영서 지방에는 모레까지 250밀리미터 이상의 폭우가 쏟아진다는 예보인데요 취재기자 연결해 자세한 호우 전망 알아보겠습니다. 정혜윤 기자! 지금 강한 비가 오는 곳 어딘가요? 지금 강한 비가 오는 곳은 호우특보가 내려진 인천 강화와 파주 등 경기 북부 지역입니다. 이 지역에는 시간당 20에서 40밀리미터의 장대비가 쏟아지고 있습니다. 장마전선이 북상하면서 경기 북부와 서해안 일대를 중심으로 강한 비가 집중되고 있어 주의가 필요합니다. 현재 레이더 모습을 보시면 서해에서 강하게 발달한 비구름이 수도권을 중심으로 영향을 주는 모습입니다. 특히 남쪽의 따뜻한 공기와 북쪽 찬 공기의 맞부딪히는 경계 지점을 중심으로 그 앞자리에서 만들어진 비구름이 경기 북부와 서울 일부, 강원 남부에 국지적으로 강한 비를 뿌리고 있습니다. 특히 장마전선 상에서 강한 비구름이 주로 북한 쪽에 더 집중되는 경향을 보이고 있어 경기 북부 인근 강 유역 한탄강과 임진강 등을 중심으로는 수위가 급격히 상승할 수 있습니다. 캠핑장, 피서지 야영객은 물론, 저지대 침수 구역에서는 각별히 유의해주셔야 겠습니다. 밤사이 가장 강한 비가 내린 곳은 경기 지역으로 이 지역에는 시간당 20에서 40밀리미터의 호우가 쏟아졌고, 서울에도 도봉구를 중심으로도 한때 시간당 30밀리미터의 강한 비가 내렸습니다. 기상청은 수도권과 영서 지방에 오늘 낮부터 내일 오전 사이, 내일 저녁부터 모레 밤사이에 시간당 50∼80밀리미터의 호우를 예상했는데요 이로 인해 모레까지 총 강우량은 서울 등 수도권과 영서 지방이 최고 250밀리미터 이상에 달할 전망입니다. 이번 장맛비는 짧은 시간에 강한 비가 집중되는 것이 특징으로, 하천 범람과 침수 피해가 발생할 수 있어 각별한 주의가 필요합니다. 중부 지방의 장마가 이례적으로 길어지고 있는 가운데, 장마전선은 이달 10일 이후까지 중부와 북한 지방을 오르내리면서 중북부 지방에 국지성 호우를 쏟아부을 전망입니다.'"
      ]
     },
     "execution_count": 8,
     "metadata": {},
     "output_type": "execute_result"
    }
   ],
   "source": [
    "cleaned_ytn.cleaned_description[1]"
   ]
  },
  {
   "cell_type": "code",
   "execution_count": 9,
   "metadata": {
    "ExecuteTime": {
     "end_time": "2020-08-20T13:30:52.640623Z",
     "start_time": "2020-08-20T13:30:52.174512Z"
    }
   },
   "outputs": [],
   "source": [
    "cleaned_ytn.to_csv('youtube_crawling_0801_0807/cleaned_csv_file/cleaned_ytn_0801_0807.csv')"
   ]
  },
  {
   "cell_type": "markdown",
   "metadata": {},
   "source": [
    "### 2. 연합뉴스"
   ]
  },
  {
   "cell_type": "code",
   "execution_count": 10,
   "metadata": {
    "ExecuteTime": {
     "end_time": "2020-08-20T13:30:52.681600Z",
     "start_time": "2020-08-20T13:30:52.644623Z"
    }
   },
   "outputs": [],
   "source": [
    "def yoenhab_description_cleaning(text):\n",
    "    text = str(text)\n",
    "    # 정규표현식으로 제거\n",
    "    text = re.sub(r'\\b([a-z1-9]+(?:[.@]?[a-z]+)+)\\b', '', text)\n",
    "    text = re.sub(r'\\n', ' ', text)\n",
    "    text = re.sub(r\"\\'|\\\"\", ' ', text)\n",
    "    text = re.sub(r\"(美)\", '미국', text)\n",
    "    text = re.sub(r\"(佛)\", '프랑스', text)\n",
    "    text = re.sub(r\"(UAE)\", '아랍에미리트', text)\n",
    "    text = re.sub(r\"(中)\", '중국', text)\n",
    "    text = re.sub(r\"(日)\", '일본', text)\n",
    "    text = re.sub(r\"(韓)\", '한국', text)\n",
    "    text = re.sub(r\"(北)\", '북한', text)\n",
    "    text = re.sub(r\"(▲)\", '', text)\n",
    "    text = re.sub(r\"(靑)\", '청와대', text)\n",
    "    text = re.sub(r\"(與)\", '여당', text)\n",
    "    text = re.sub(r\"(野)\", '야당', text)\n",
    "    text = re.sub(r\"(新)\", '신규', text)\n",
    "    text = re.sub(r\"(外)\", '외', text)\n",
    "    text = re.sub(r\"(英)\", '영국', text)\n",
    "    \n",
    "    # 단위\n",
    "    text = re.sub(r'(㎥)', '세제곱미터', text)\n",
    "    text = re.sub(r'(km)', '킬로미터', text)\n",
    "    text = re.sub(r'(㎞)', '킬로미터', text)\n",
    "    text = re.sub(r'(mm)', '밀리미터', text)\n",
    "    text = re.sub(r'(㎜)', '밀리미터', text)\n",
    "    text = re.sub(r'(ｍ)|(m)', '미터', text)\n",
    "    text = re.sub(r'(%)', '퍼센트', text)\n",
    "    text = re.sub(r'(％)', '퍼센트', text)\n",
    "    text = re.sub(r'(㎿)', '메가와트', text)\n",
    "    text = re.sub(r'(㏊)', '헥타르', text)\n",
    "    text = re.sub(r'(↓)', ' 감소', text)\n",
    "    text = re.sub(r'(↑)', ' 상승', text)\n",
    "    \n",
    "    # #, ▣, ▶ 뒤에 문자열은 다 제거\n",
    "    text = text.split('▣')[0]\n",
    "    \n",
    "    # []로 쌓여있는 문자열 제거\n",
    "#     text = re.sub(r'\\[[\\S\\s]*?\\]', '', text)\n",
    "    text = re.sub(r'\\([\\S\\s]*?\\)', '', text)\n",
    "    \n",
    "    # 끝 문자가 .이 될때까지 삭제\n",
    "    try:\n",
    "        while text[-1] != '.':\n",
    "            text = text[:-1]\n",
    "    except:\n",
    "        pass\n",
    "    \n",
    "    # 특수문자, 띄어쓰기 중복으로 되어 있는 부분 정리\n",
    "    text = re.sub(r'▶', '', text)\n",
    "    text = re.sub(r'’', '', text)\n",
    "    text = re.sub(r'…', ' ', text)\n",
    "    text = re.sub(r'·', ', ', text)\n",
    "    text = re.sub(r'\\s+', ' ', text)\n",
    "    text = text.strip()\n",
    "    \n",
    "    return text"
   ]
  },
  {
   "cell_type": "code",
   "execution_count": 11,
   "metadata": {
    "ExecuteTime": {
     "end_time": "2020-08-20T13:30:52.898892Z",
     "start_time": "2020-08-20T13:30:52.685597Z"
    }
   },
   "outputs": [],
   "source": [
    "yoenhab = pd.read_csv('youtube_crawling_0801_0807/add_comments_csv_file/yoenhab_0801_0807.csv',\n",
    "                      index_col=0)"
   ]
  },
  {
   "cell_type": "code",
   "execution_count": 12,
   "metadata": {
    "ExecuteTime": {
     "end_time": "2020-08-20T13:30:53.505859Z",
     "start_time": "2020-08-20T13:30:52.902890Z"
    }
   },
   "outputs": [],
   "source": [
    "cleaned_yoenhab = df_cleaning(yoenhab, yoenhab_description_cleaning)"
   ]
  },
  {
   "cell_type": "code",
   "execution_count": 13,
   "metadata": {
    "ExecuteTime": {
     "end_time": "2020-08-20T13:30:53.533844Z",
     "start_time": "2020-08-20T13:30:53.508858Z"
    }
   },
   "outputs": [
    {
     "name": "stdout",
     "output_type": "stream",
     "text": [
      "<class 'pandas.core.frame.DataFrame'>\n",
      "RangeIndex: 1019 entries, 0 to 1018\n",
      "Data columns (total 14 columns):\n",
      " #   Column               Non-Null Count  Dtype  \n",
      "---  ------               --------------  -----  \n",
      " 0   published_time       1019 non-null   object \n",
      " 1   video_id             1019 non-null   object \n",
      " 2   video_url            1019 non-null   object \n",
      " 3   crawling_time        1019 non-null   object \n",
      " 4   author               1019 non-null   object \n",
      " 5   title                1019 non-null   object \n",
      " 6   length               1019 non-null   float64\n",
      " 7   rating               1019 non-null   float64\n",
      " 8   views                1019 non-null   float64\n",
      " 9   thumbnail_url        1019 non-null   object \n",
      " 10  captions             1019 non-null   object \n",
      " 11  description          1019 non-null   object \n",
      " 12  comments             1019 non-null   object \n",
      " 13  cleaned_description  1019 non-null   object \n",
      "dtypes: float64(3), object(11)\n",
      "memory usage: 111.6+ KB\n"
     ]
    }
   ],
   "source": [
    "cleaned_yoenhab.info()"
   ]
  },
  {
   "cell_type": "code",
   "execution_count": 14,
   "metadata": {
    "ExecuteTime": {
     "end_time": "2020-08-20T13:30:53.660774Z",
     "start_time": "2020-08-20T13:30:53.538839Z"
    }
   },
   "outputs": [
    {
     "data": {
      "text/plain": [
       "'수도권 주말 내내 250밀리미터 물벼락 남부는 찜통 [앵커] 충청과 호남에 기록적인 폭우를 쏟은 장마전선이 수도권까지 북상했습니다. 서울 등 중북부에는 주말 내내 물벼락이 떨어지겠고, 장마의 영향에서 벗어난 남부는 찜통더위가 예상됩니다. 김동혁 기자 입니다. [기자] 장마전선이 수도권까지 북상했습니다. 한반도 남쪽의 덥고 습한 공기덩이가 남부지방을 뒤덮으면서 장마구름들을 중부로 밀어올린 겁니다. 뒤늦게 장마의 영향권에 든 수도권은 주말 동안 집중호우 비상입니다. 북쪽에 자리한 차가운 공기와 남부지방까지 북상한 뜨거운 수증기가 충돌하는 수도권에서 폭이 좁고 강한 비구름 통로가 주말 내내 발달하겠습니다 특히 야행성 집중호우가 예상돼 비 피해가 우려됩니다. [이경 / 기상청 예보분석관] 수도권과 강원영서에는 매우 강한 비구름이 지나면서 1일 새벽부터 오전사이에 시간당 30~50밀리미터, 2일 새벽부터 오전 사이에는 시간당 50~80밀리미터의 매우 강한 비가 쏟아질 것으로 예상됩니다. 서울과 경기, 영서에선 총 강수량이 250밀리미터를 넘는 곳이 있겠고, 그 밖의 중부 곳곳으로도 100밀리미터 안팎의 많은 장맛비가 내리겠습니다. 기상청은 침수 피해와 함께 경기 북부 지역의 한탄강과 임진강 주변 수위 상승도 예상된다고 밝혔습니다. 중부지방은 다음 주에도 내내 비가 내리면서 역대 최장 장마 기간인 49일을 넘어설 가능성이 있습니다. 사실상 장마에서 탈출한 남부지방은 전역에 폭염주의보가 발효 중 입니다. 오후 시간대 체감온도는 주말 내내 33도를 웃돌겠고, 잠 못 들게 하는 열대야도 연일 기승을 부리겠습니다. 연합뉴스TV 김동혁입니다.'"
      ]
     },
     "execution_count": 14,
     "metadata": {},
     "output_type": "execute_result"
    }
   ],
   "source": [
    "cleaned_yoenhab.cleaned_description[0]"
   ]
  },
  {
   "cell_type": "code",
   "execution_count": 15,
   "metadata": {
    "ExecuteTime": {
     "end_time": "2020-08-20T13:30:53.743723Z",
     "start_time": "2020-08-20T13:30:53.663773Z"
    }
   },
   "outputs": [
    {
     "data": {
      "text/plain": [
       "'휴가철 방역 비상 축구는 유관중 경기 개시 [앵커] 강원도 홍천의 한 캠핑장에서 코로나19 소규모 집단감염이 발생하면서 휴가철 방역에 비상이 걸렸습니다. 밤 사이 들어온 코로나19 소식 알아보겠습니다. 방현덕 기자. [기자] 네, 어제 0시를 기준으로 국내 코로나19 신규 확진자는 서른 여섯 명입니다. 이 가운데 지역사회 감염자는 14명인데, 서울 경기 등 수도권이 12명으로 대부분을 차지하고 있습니다. 경기 김포에선 강원도 홍천 캠핑장을 다녀온 일가족 3명이 추가로 확진 판정을 받았습니다. 함께 캠핑장에서 휴가를 보낸 여섯 가족, 열 여덟명 중, 절반인 아홉 명이 감염된 건데, 이들과 접촉한 지역 감염자가 추가로 나올 가능성도 있습니다. 방역 당국은 이렇게 불특정 다수가 모이는 휴가지에서 다시 집단 감염이 이어질 수 있다며, 과하다 싶을 정도의 휴가철 방역을 당부했습니다. 이번 여름 휴가 기간이 지금과 같은 코로나19 확산세가 가을까지 이어질지를 결정하는 중대 고비라는 겁니다. 신규 확진자 가운데 해외 유입 사례는 스물 두명입니다. 지난 6월 25일 이후 삼십 육일째 두 자릿수를 기록하고 있습니다. [앵커] 이런 가운데, 오늘부터 프로축구도 관중을 받는다고요. [기자] 네, 오늘부터는 프로축구도 전체 수용인원의 10퍼센트 이내에서 관중 입장이 가능해집니다. 이미 야구는 지난 일요일부터 시작됐는데요. 하지만 일부 경기장에선 관중들이 밀집해 큰소리로 응원을 하는 등 방역수칙을 정면으로 어긴 모습이 목격됐고, 이 때문에 야구협회와 구단이 정부의 경고를 받기도 했습니다. 축구 역시 과연 방역수칙이 제대로 지켜질지 긴장 속에서 바라볼 수밖에 없습니다. 일단 관중들은 축구장에 들어가서 앞뒤좌우로 2칸 이상씩 띄워서 앉아야 합니다. 비말 전파 가능성을 막기 위해 소리를 지르거나 노래를 부르는 응원은 금지됩니다. 경기 내내 마스크를 쓰고 있어야 하고 취식도 하면 안 됩니다. 당국은 특히 경기를 보고 난 뒤에 음식점이나 카페를 방문하는 것은 피해달라고 당부했는데요. 경기가 끝나도 경각심을 잃지 말자는 취지입니다. 지금까지 보도국에서 전해드렸습니다.'"
      ]
     },
     "execution_count": 15,
     "metadata": {},
     "output_type": "execute_result"
    }
   ],
   "source": [
    "cleaned_yoenhab.cleaned_description[1]"
   ]
  },
  {
   "cell_type": "code",
   "execution_count": 16,
   "metadata": {
    "ExecuteTime": {
     "end_time": "2020-08-20T13:30:54.123486Z",
     "start_time": "2020-08-20T13:30:53.747720Z"
    }
   },
   "outputs": [],
   "source": [
    "cleaned_yoenhab.to_csv('youtube_crawling_0801_0807/cleaned_csv_file/cleaned_yoenhab_0801_0807.csv')"
   ]
  },
  {
   "cell_type": "markdown",
   "metadata": {},
   "source": [
    "### 3. 채널 a"
   ]
  },
  {
   "cell_type": "code",
   "execution_count": 17,
   "metadata": {
    "ExecuteTime": {
     "end_time": "2020-08-20T13:30:54.183449Z",
     "start_time": "2020-08-20T13:30:54.127484Z"
    }
   },
   "outputs": [],
   "source": [
    "def channel_a_description_cleaning(text):\n",
    "    text = str(text)\n",
    "    # 정규표현식으로 제거\n",
    "    text = re.sub(r'■ 방송 : 채널A 뉴스A 라이브', '', text)\n",
    "    text = re.sub(r'■ 방송일 : 2020년 \\d{1,}월 \\d{1,}일', '', text)\n",
    "    text = re.sub(r'■ 진행 : [가-힣]{1,} 앵커(, [가-힣]{1,} 앵커)?', '', text)\n",
    "    text = re.sub(r'■ 출연 : [가-힣]{1,}', '', text)\n",
    "    text = re.sub(r'--------------------------------------------', '', text)\n",
    "    text = re.sub(r'\\* 위 텍스트는 실제 토크 내용의 일부분입니다. 전체 토크 내용은 동영상으로 확인하시기 바랍니다.', '', text)\n",
    "    text = re.sub(r'\\&nbsp\\;', '', text)\n",
    "    text = re.sub(r'\\b([a-z1-9]+(?:[.@]?[a-z]+)+)\\b', '', text)\n",
    "    text = re.sub(r'\\bhttps?://\\w+(?:[.]?\\w+)+\\b', '', text)\n",
    "    text = re.sub(r'(영상편집 : \\w{1,}( \\w{1,})?)?', '', text)\n",
    "    text = re.sub(r'(영상취재 : \\w{1,}( \\w{1,})?)?', '', text)\n",
    "    text = re.sub(r'\\/', '', text)\n",
    "    text = re.sub(r'\\n', ' ', text)\n",
    "    text = re.sub(r\"\\'|\\\"\", ' ', text)\n",
    "    text = re.sub(r\"’|‘|“|”\", ' ', text)\n",
    "    text = re.sub(r\"\\&\", ' ', text)\n",
    "    text = re.sub(r'\\u200b', '', text)\n",
    "    text = re.sub(r\"(美)\", '미국', text)\n",
    "    text = re.sub(r\"(佛)\", '프랑스', text)\n",
    "    text = re.sub(r\"(UAE)\", '아랍에미리트', text)\n",
    "    text = re.sub(r\"(中)\", '중국', text)\n",
    "    text = re.sub(r\"(日)\", '일본', text)\n",
    "    text = re.sub(r\"(韓)\", '한국', text)\n",
    "    text = re.sub(r\"(北)\", '북한', text)\n",
    "    text = re.sub(r\"(▲)\", '', text)\n",
    "    text = re.sub(r\"(靑)\", '청와대', text)\n",
    "    text = re.sub(r\"(與)\", '여당', text)\n",
    "    text = re.sub(r\"(野)\", '야당', text)\n",
    "    text = re.sub(r\"(新)\", '신규', text)\n",
    "    text = re.sub(r\"(外)\", '외', text)\n",
    "    text = re.sub(r\"(英)\", '영국', text)\n",
    "    text = re.sub(r\"(Q.)\", '', text)\n",
    "    text = re.sub(r\"(\\+α)\", ' 이상', text)\n",
    "    \n",
    "    # 단위\n",
    "    text = re.sub(r'(㎥)', '세제곱미터', text)\n",
    "    text = re.sub(r'(km)', '킬로미터', text)\n",
    "    text = re.sub(r'(㎞)', '킬로미터', text)\n",
    "    text = re.sub(r'(mm)', '밀리미터', text)\n",
    "    text = re.sub(r'(㎜)', '밀리미터', text)\n",
    "    text = re.sub(r'(ｍ)|(m)', '미터', text)\n",
    "    text = re.sub(r'(%)', '퍼센트', text)\n",
    "    text = re.sub(r'(％)', '퍼센트', text)\n",
    "    text = re.sub(r'(㎿)', '메가와트', text)\n",
    "    text = re.sub(r'(㏊)', '헥타르', text)\n",
    "    text = re.sub(r'(↓)', ' 감소', text)\n",
    "    text = re.sub(r'(↑)', ' 상승', text)\n",
    "    \n",
    "    # 문단을 나누는 특수문자 뒤의 문자열은 다 제거\n",
    "    text = text.split('▷')[0].split('※')[0]\n",
    "    \n",
    "    # [], ()로 쌓여있는 문자열 제거\n",
    "#     text = re.sub(r'\\[[\\S\\s]*?\\]', '', text)\n",
    "    text = re.sub(r'\\([\\S\\s]*?\\)', '', text)\n",
    "    \n",
    "    # 끝 문자가 .이 될때까지 삭제\n",
    "    try:\n",
    "        while text[-1] != '.':\n",
    "            text = text[:-1]\n",
    "    except:\n",
    "        pass\n",
    "    \n",
    "    # 문자열이 전부 영어면 제거 => 한국어로 되어있으면 '다'를 포함하지 않는 글은 없음\n",
    "    if '다' not in text:\n",
    "        text = re.sub(r'[^가-힣]', '', text)\n",
    "    \n",
    "    # 띄어쓰기 중복으로 되어 있는 부분 정리\n",
    "    \n",
    "    text = re.sub(r'…', ' ', text)\n",
    "    text = re.sub(r'·', ', ', text)\n",
    "    text = re.sub(r'\\s+', ' ', text)\n",
    "    text = text.strip()\n",
    "    \n",
    "    return text"
   ]
  },
  {
   "cell_type": "code",
   "execution_count": 18,
   "metadata": {
    "ExecuteTime": {
     "end_time": "2020-08-20T13:30:54.334356Z",
     "start_time": "2020-08-20T13:30:54.187447Z"
    }
   },
   "outputs": [],
   "source": [
    "channel_a = pd.read_csv('youtube_crawling_0801_0807/add_comments_csv_file/channel_a_0801_0807.csv',\n",
    "                        index_col=0)"
   ]
  },
  {
   "cell_type": "code",
   "execution_count": 19,
   "metadata": {
    "ExecuteTime": {
     "end_time": "2020-08-20T13:30:54.695134Z",
     "start_time": "2020-08-20T13:30:54.337354Z"
    }
   },
   "outputs": [],
   "source": [
    "cleaned_channel_a = df_cleaning(channel_a, channel_a_description_cleaning)"
   ]
  },
  {
   "cell_type": "code",
   "execution_count": 20,
   "metadata": {
    "ExecuteTime": {
     "end_time": "2020-08-20T13:30:54.719135Z",
     "start_time": "2020-08-20T13:30:54.698132Z"
    }
   },
   "outputs": [
    {
     "name": "stdout",
     "output_type": "stream",
     "text": [
      "<class 'pandas.core.frame.DataFrame'>\n",
      "RangeIndex: 105 entries, 0 to 104\n",
      "Data columns (total 14 columns):\n",
      " #   Column               Non-Null Count  Dtype  \n",
      "---  ------               --------------  -----  \n",
      " 0   published_time       105 non-null    object \n",
      " 1   video_id             105 non-null    object \n",
      " 2   video_url            105 non-null    object \n",
      " 3   crawling_time        105 non-null    object \n",
      " 4   author               105 non-null    object \n",
      " 5   title                105 non-null    object \n",
      " 6   length               105 non-null    int64  \n",
      " 7   rating               105 non-null    float64\n",
      " 8   views                105 non-null    int64  \n",
      " 9   thumbnail_url        105 non-null    object \n",
      " 10  captions             105 non-null    object \n",
      " 11  description          105 non-null    object \n",
      " 12  comments             105 non-null    object \n",
      " 13  cleaned_description  105 non-null    object \n",
      "dtypes: float64(1), int64(2), object(11)\n",
      "memory usage: 11.6+ KB\n"
     ]
    }
   ],
   "source": [
    "cleaned_channel_a.info()"
   ]
  },
  {
   "cell_type": "code",
   "execution_count": 21,
   "metadata": {
    "ExecuteTime": {
     "end_time": "2020-08-20T13:30:55.163977Z",
     "start_time": "2020-08-20T13:30:54.724115Z"
    }
   },
   "outputs": [
    {
     "data": {
      "text/plain": [
       "'이번 주말 내내 수도권에는 많은 비가 올 것으로 예상되는데요, 여기서 날씨 소식 알아보겠습니다. 취재기자 연결해보죠. 남영주 기자, [질문 1] 경기 북부 지역에 호우특보가 내려졌다고요? [리포트] 네, 현재 경기 북부에 호우특보가 발효된 가운데 경기 연천군과 파주시에는 시간당 30밀리미터 이상의 강한 비가 오고 있는데요. 특히 임진강 최북단 필승교 수위가 행락객 대피 기준인 1미터를 넘어서며 경기도는 연천과 파주지역에 주의를 당부하기도 했습니다. 서울과 경기 일대에는 천둥과 번개를 동반해 시간당 최대 80밀리미터 이상의 많은 비가 내리는 곳이 있겠습니다. 어제 오후 6시부터 오늘 오전 9시까지 강수량을 보면 경기 강화 119.5, 파주 93.0, 김포 87.5밀리미터로 집계됐습니다. 경기도 파주와 연천에는 호우 경보가, 인천 옹진과 강화, 경기도 가평, 양주, 고양, 포천, 동두천, 김포에는 호우주의보가 내려졌습니다. 기상청은 서울을 비롯해 경기도 안산, 성남, 용인, 의정부와 부천, 과천 등에 호우예비특보를 내렸습니다. [질문 2] 비 피해도 심각한데요. 현재 상황 어떻습니까? 네, 폭우로 인한 인명피해가 잇따랐는데요, 어제 전남 구례의 계곡에서 피서객을 구하던 순천소방서 구조대원과 피서객이 숨졌습니다. 구조작업을 벌이다 숨진 28살 김모 소방교는 몸에 묶고 있던 안전줄이 끊어지면서 계곡물에 휩쓸린 것으로 알려졌습니다. 김 소방교의 장례는 전라남도장으로 치러지며, 1계급 특진이 추서됐습니다. 또 어제 오후에는 강원 삼척시의 한 하천에서 20대 남성이 물에 빠져 숨지는 사고도 있었습니다. 하천에 남성이 떠내려가고 있다 는 신고를 접수받고 소방당국이 구조에 나섰는데요, 남성은 50분 만에 의식이 없는 채로 발견돼 병원으로 옮겨졌지만 숨졌습니다. 지금까지 사회부에서 전해드렸습니다.'"
      ]
     },
     "execution_count": 21,
     "metadata": {},
     "output_type": "execute_result"
    }
   ],
   "source": [
    "cleaned_channel_a.cleaned_description[0]"
   ]
  },
  {
   "cell_type": "code",
   "execution_count": 22,
   "metadata": {
    "ExecuteTime": {
     "end_time": "2020-08-20T13:30:55.240928Z",
     "start_time": "2020-08-20T13:30:55.167974Z"
    }
   },
   "outputs": [
    {
     "data": {
      "text/plain": [
       "'임대차 3법. 이번주 더불어민주당 주도로 국회 문턱을 넘더니 어제 국무회의까지 통과하면서 곧바로 시행됩니다. 하지만 정부 부동산 대책을 헌법위반이라며 규탄해왔던 일부 시민들은 오늘도 거리에 나왔습니다. 남영주 기자가 현장을 다녀왔습니다. [리포트] 굵은 빗줄기에도 거리에 나온 시민들이 피켓을 들고 구호를 외칩니다. [현장음] 사유재산 강탈정부 사유재산 강탈정부 오늘 집회에는 임대차 3법과 6.17 부동산 대책에 반대하는 시민 3천여명이 모였습니다. 참가자들은 임대차 3법이 소급적용돼 재산권이 침해당했다며 정부와 여당을 비난했습니다. [현장음] 왜 정부가 국민들의 사유재산을 자기 마음대로 간섭하고 임대료를 제한하고 어길시에 무거운 징벌적인 과세를 한단 말입니까. 또 임차인도 국민이고 임대인도 국민인데 왜 집 가진 자를 적폐 투기꾼으로 모냐고 목소리를 높였습니다. [A 씨 경기 수원시] 왜 국가가 개인의 재산권을 제한하는지 우선은 그 근거를 알고 싶고요. 이 임대차 3법을 철회했으면 좋겠습니다. [B 씨 서울 마포구] 노후생활에 불편하지 않도록 하기 위해서 임대사업자가 됐습니다. 기존 임대사업자들의 세제상 혜택은 상당부분 줄어들게 되는 피해가 있죠. 참가자들은 문재인 대통령에게 신발을 던지는 퍼포먼스도 이어갔습니다. 또 더불어민주당 당사까지 행진하며 김태년 민주당 원내대표, 김현미 국토교통부 장관에게 면담을 요청하기도 했습니다. 태릉골프장을 주택부지로 활용한다는 방침에 반대하는 주민들도 집회를 열었습니다. [현장음] 그린벨트에 아파트가 웬말이냐 웬말이냐. 정부의 부동산 대책을 놓고 반발들이 터져나오면서 혼란이 가중되고 있습니다. 채널A 뉴스 남영주입니다. 한 번도 겪어보지 못한 주택 임대 체계가 시작됐죠. 전세가 동나고 월세가 채울 거라는 전망이 우세한 와중에 그래도 전세제도는 유효하다는 반론도 있습니다. 애매한 조항 때문에 집주인 세입자 싸움이 늘 거다, 이런 지적도 나옵니다. 이상연, 박정서 기자가 하나 하나 짚어보겠습니다. [리포트] 서울 강남구의 한 아파트 전셋값을 2년전과 비교해보면 4억 원 후반대에서 6억 원 초반대로 27퍼센트 정도 올랐습니다. 그런데 어제부터 시행된 입대차보호법에 따르면 앞으로는 전세 계약을 갱신할 때 27퍼센트의 5분의 1 수준인 5퍼센트까지만 올릴 수 있습니다. 지난 54주 연속 이어진 전셋값 상승세를 어떻게든 막아보겠다는 정부 의지가 반영된 겁니다. 하지만 이렇게되면 전셋값을 마음대로 못 올리는 집주인 입장에서는 앞으로 월세를 선호하는 현상이 뚜렷해질 수 있습니다. 전세에서 월세로 전환할 때의 비율은 서울이 4퍼센트로 보증금 1억 원에 1년에 400만 원을 받을 수 있습니다. 0.89퍼센트인 예금금리에 비해 훨씬 유리합니다. 여기에 보유세 인상 부담까지 더해져 월세를 선호하게 돼 전세가 시장에서 사라진다는 겁니다. [박원갑 KB국민은행 부동산 수석전문위원] 세입자로부터 전세보증금을 받아서 은행에 예치하기보다는 월세로 돌렸을 때의 수익이 훨씬 더 크기 때문에 집주인 입장에서는 월세를 선호할 수밖에 없는 거죠. 각종 부동산 규제에 실거주 조건이 강화된 것도 전세 공급을 위축 시킬 것으로 보입니다. 하지만 월세 전환이 급격하기 일어나지는 않을 거라는 예측도 있습니다 서울의 경우 전세가율이 54퍼센트로 매매가격의 절반 이상인 만큼, 보증금 빼줄 목돈 마련이 어려운 집주인이 상당수이기 때문입니다. 또 집값이 더 오를 거라는 기대가 있는 한 전세를 낀 부동산 투자는 이어질 거라는 전망도 나오고 있습니다. [리포트] 어제부터 계약갱신청구권과 전월세상한제가 시행됐지만, 시행 초기부터 혼란이 속속 나타나고 있습니다. 구체적인 가이드라인을 찾아보기 어렵기 때문인데요. 혼란을 가중시키는 3가지 키워드, 짚어보겠습니다. 1) 우선 집주인 실거주 입니다. 집주인 본인이나 직계 존비속이 직접 거주하면 계약 갱신을 거부할 권리가 생기죠. 그런데 집주인이 내가 살겠다 해놓고 다른 세입자를 들였다면 이 사실을 직전 세입자가 어떻게 알 수 있냐는 겁니다. 인터넷 카페에서는 흥신소라도 가야하냐 는 반응까지 나오는데, 실제로 세입자가 집주인의 실거주 여부를 확인할 방법은 마땅치 않습니다. 집주인의 주민등록등본을 떼보거나 우편물을 확인하는 것도 불법 소지가 있고 확정일자 는 이해당사자만 볼 수 있기 때문에 전 세입자는 확인하기 어려운 실정입니다. 2) 다음은 주택 파손 입니다. 임차인이 주택의 전부 또는 일부를 고의나 중대한 과실로 파손한 경우 집주인이 계약 갱신을 거부할 수 있다 는데, 전문가에게 물어봤습니다. [권대중 명지대 부동산학과 교수] 파손되는 부분이 자본적 지출로 수리를 해야하는 경우라면 아마 계약해지 조건이 될 수 있습니다. 그러나 이제 자본적 지출의 범위와 한계가 정해지지 않아서 애매하게 됐기 때문에 임차인과 임대인의 다툼이 있을수도 있습니다. 그러니까 주택이 어떻게, 어느정도 파손돼야 갱신 거절 사유가 되는지 법만으로는 알 수 없다는 겁니다. 3) 마지막으로 법 시행 이전에 집주인이 새 세입자와 가계약 만 했을 때 법 적용 대상인지 혼란스러워하는 경우가 많은데요, 정부는 가계약은 계약 이전 단계이기 때문에 영향을 미치기 어렵다고 밝혔지만, 전문가들은 일반적으로 가계약도 계약으로 인정하는 사례가 많다고 지적합니다. 정부 해석과 시장 관행이 엇갈리는 대표적인 사례입니다. 이렇게 복잡한 사례가 많은 만큼 임대차3법 관련 분쟁도 늘어날 것으로 보입니다. 정부는 임대차분쟁조정위원회를 늘리겠다지만, 세부 규정부터 조속히 마련되어야한다는 목소리가 나옵니다. 채널A뉴스 박정서입니다.'"
      ]
     },
     "execution_count": 22,
     "metadata": {},
     "output_type": "execute_result"
    }
   ],
   "source": [
    "cleaned_channel_a.cleaned_description[1]"
   ]
  },
  {
   "cell_type": "code",
   "execution_count": 23,
   "metadata": {
    "ExecuteTime": {
     "end_time": "2020-08-20T13:30:55.457796Z",
     "start_time": "2020-08-20T13:30:55.254919Z"
    }
   },
   "outputs": [],
   "source": [
    "cleaned_channel_a.to_csv('youtube_crawling_0801_0807/cleaned_csv_file/cleaned_channel_a_0801_0807.csv')"
   ]
  },
  {
   "cell_type": "markdown",
   "metadata": {},
   "source": [
    "### 4. mbn"
   ]
  },
  {
   "cell_type": "code",
   "execution_count": 24,
   "metadata": {
    "ExecuteTime": {
     "end_time": "2020-08-20T13:30:55.511764Z",
     "start_time": "2020-08-20T13:30:55.463793Z"
    }
   },
   "outputs": [],
   "source": [
    "def mbn_description_cleaning(text):\n",
    "    text = str(text)\n",
    "    # 정규표현식으로 제거\n",
    "    text = re.sub(r'\\b([a-z1-9]+(?:[.@]?[a-z]+)+)\\b', '', text)\n",
    "    text = re.sub(r'\\/', '', text)\n",
    "    text = re.sub(r'\\n', ' ', text)\n",
    "    text = re.sub(r\"\\'|\\\"\", ' ', text)\n",
    "    text = re.sub(r'\\u200b', '', text)\n",
    "    text = re.sub(r\"(美)\", '미국', text)\n",
    "    text = re.sub(r\"(佛)\", '프랑스', text)\n",
    "    text = re.sub(r\"(UAE)\", '아랍에미리트', text)\n",
    "    text = re.sub(r\"(中)\", '중국', text)\n",
    "    text = re.sub(r\"(日)\", '일본', text)\n",
    "    text = re.sub(r\"(韓)\", '한국', text)\n",
    "    text = re.sub(r\"(北)\", '북한', text)\n",
    "    text = re.sub(r\"(▲)\", '', text)\n",
    "    text = re.sub(r\"(靑)\", '청와대', text)\n",
    "    text = re.sub(r\"(與)\", '여당', text)\n",
    "    text = re.sub(r\"(野)\", '야당', text)\n",
    "    text = re.sub(r\"(新)\", '신규', text)\n",
    "    text = re.sub(r\"(外)\", '외', text)\n",
    "    text = re.sub(r\"(英)\", '영국', text)\n",
    "    \n",
    "    # 단위\n",
    "    text = re.sub(r'(㎥)', '세제곱미터', text)\n",
    "    text = re.sub(r'(km)', '킬로미터', text)\n",
    "    text = re.sub(r'(㎞)', '킬로미터', text)\n",
    "    text = re.sub(r'(mm)', '밀리미터', text)\n",
    "    text = re.sub(r'(㎜)', '밀리미터', text)\n",
    "    text = re.sub(r'(cm)', '센치미터', text)\n",
    "    text = re.sub(r'(ｍ)|(m)', '미터', text)\n",
    "    text = re.sub(r'(%)', '퍼센트', text)\n",
    "    text = re.sub(r'(％)', '퍼센트', text)\n",
    "    text = re.sub(r'(㎿)', '메가와트', text)\n",
    "    text = re.sub(r'(㏊)', '헥타르', text)\n",
    "    text = re.sub(r'(↓)', ' 감소', text)\n",
    "    text = re.sub(r'(↑)', ' 상승', text)\n",
    "    \n",
    "    # #, ▣, ▶ 뒤에 문자열은 다 제거\n",
    "    text = text.split('☞')[0].split('📢')[0]\n",
    "    \n",
    "    # [], ()로 쌓여있는 문자열 제거\n",
    "#     text = re.sub(r'\\[[\\S\\s]*?\\]', '', text)\n",
    "    text = re.sub(r'\\([\\S\\s]*?\\)', '', text)\n",
    "    text = re.sub(r'\\【[\\S\\s]*?\\】', '', text)\n",
    "    \n",
    "    text = re.sub(r\"(▶ 스탠딩 \\: [가-힣]{1,4}  기자)\", '', text)\n",
    "    text = re.sub(r\"(▶ 인터뷰 \\: [가-힣]{1,4})\", '', text)\n",
    "    text = re.sub(r\"(▶ 인터뷰 \\: [가-힣]{1,4})\", '', text)\n",
    "    \n",
    "    # 끝 문자가 .이 될때까지 삭제\n",
    "    try:\n",
    "        while text[-1] != '.':\n",
    "            text = text[:-1]\n",
    "    except:\n",
    "        pass\n",
    "    \n",
    "    # 문자열이 전부 영어면 제거 => 한국어로 되어있으면 '다'를 포함하지 않는 글은 없음\n",
    "    if '다' not in text:\n",
    "        text = re.sub(r'[^가-힣]', '', text)\n",
    "    \n",
    "    # 띄어쓰기 중복으로 되어 있는 부분 정리\n",
    "    text = re.sub(r'「|」', ' ', text)\n",
    "    text = re.sub(r'『|』', ' ', text)\n",
    "    text = re.sub(r'▶', ' ', text)\n",
    "    text = re.sub(r'…', ' ', text)\n",
    "    text = re.sub(r'·', ', ', text)\n",
    "    text = re.sub(r'\\s+', ' ', text)\n",
    "    text = text.strip()\n",
    "    \n",
    "    return text"
   ]
  },
  {
   "cell_type": "code",
   "execution_count": 25,
   "metadata": {
    "ExecuteTime": {
     "end_time": "2020-08-20T13:30:55.675662Z",
     "start_time": "2020-08-20T13:30:55.515761Z"
    }
   },
   "outputs": [],
   "source": [
    "mbn = pd.read_csv('youtube_crawling_0801_0807/add_comments_csv_file/mbn_0801_0807.csv',\n",
    "                  index_col=0)"
   ]
  },
  {
   "cell_type": "code",
   "execution_count": 26,
   "metadata": {
    "ExecuteTime": {
     "end_time": "2020-08-20T13:30:55.960488Z",
     "start_time": "2020-08-20T13:30:55.678660Z"
    }
   },
   "outputs": [],
   "source": [
    "cleaned_mbn = df_cleaning(mbn, mbn_description_cleaning)"
   ]
  },
  {
   "cell_type": "code",
   "execution_count": 27,
   "metadata": {
    "ExecuteTime": {
     "end_time": "2020-08-20T13:30:55.986472Z",
     "start_time": "2020-08-20T13:30:55.964484Z"
    }
   },
   "outputs": [
    {
     "name": "stdout",
     "output_type": "stream",
     "text": [
      "<class 'pandas.core.frame.DataFrame'>\n",
      "RangeIndex: 304 entries, 0 to 303\n",
      "Data columns (total 14 columns):\n",
      " #   Column               Non-Null Count  Dtype  \n",
      "---  ------               --------------  -----  \n",
      " 0   published_time       304 non-null    object \n",
      " 1   video_id             304 non-null    object \n",
      " 2   video_url            304 non-null    object \n",
      " 3   crawling_time        304 non-null    object \n",
      " 4   author               304 non-null    object \n",
      " 5   title                304 non-null    object \n",
      " 6   length               304 non-null    float64\n",
      " 7   rating               304 non-null    float64\n",
      " 8   views                304 non-null    float64\n",
      " 9   thumbnail_url        304 non-null    object \n",
      " 10  captions             304 non-null    object \n",
      " 11  description          304 non-null    object \n",
      " 12  comments             304 non-null    object \n",
      " 13  cleaned_description  304 non-null    object \n",
      "dtypes: float64(3), object(11)\n",
      "memory usage: 33.4+ KB\n"
     ]
    }
   ],
   "source": [
    "cleaned_mbn.info()"
   ]
  },
  {
   "cell_type": "code",
   "execution_count": 28,
   "metadata": {
    "ExecuteTime": {
     "end_time": "2020-08-20T13:30:56.203335Z",
     "start_time": "2020-08-20T13:30:55.991466Z"
    }
   },
   "outputs": [
    {
     "data": {
      "text/plain": [
       "'막바지 장맛비가 수도권과 강원 영서 지역을 중심으로 강하게 쏟아졌습니다. 내일까지 많은 곳에는 250밀리미터 이상의 비가 더 내릴 것으로 보이는데요. 현장에 나가 있는 취재기자 연결해 자세한 상황 알아보겠습니다. 권용범 기자! 지금도 비가 오고 있나요? 네, 경기 파주시 문산대교에 나와있습니다. 호우경보는 오후 4시 30분 호우주의보로 바뀌었습니다. 이곳에는 24시간 동안 100밀리미터가 넘는 많은 비가 내렸는데요. 지금은 비가 그친 상태입니다. 그동안 내린 비로, 제 뒤로 보이는 임진강의 수위는 눈에 띄게 불어났습니다. 수도권에서 경기 파주시는 물론 김포시와 연천군, 인천 강화군에도 100밀리미터가 넘는 비가 내렸습니다. 경기 북부를 포함한 수도권과 강원 영서 지역에 여전히 호우특보가 내려진 상태입니다. 기상청은 오늘부터 내일 오전까지 수도권과 강원 영서, 충남 서해안을 중심으로 돌풍과 천둥, 번개를 동반한 많은 비가 내릴 것으로 내다봤습니다. 시간당 50~80밀리미터의 매우 강한 비를 예상했는데, 누적 강수량은 최대 250밀리미터가 될 것으로 보입니다. 폭우는 내일 저녁부터 모레 밤사이에도 예보돼 있습니다. 비 피해가 없도록 시설물 관리와 교통안전에 각별히 주의하셔야겠습니다. 집중호우로 인한 비 피해에 대처하기 위해 행정안전부는 오전 10시부터 중앙재난안전대책본부 1단계 비상근무에 들어갔습니다. 남부지방과 충청 일대의 침수 피해가 컸던 만큼, 관계 부처와 지방자치단체에 피해 예방을 위한 협조를 요청했습니다. 지금까지 경기 파주시 문산대교에서 MBN뉴스 권용범입니다.'"
      ]
     },
     "execution_count": 28,
     "metadata": {},
     "output_type": "execute_result"
    }
   ],
   "source": [
    "cleaned_mbn.cleaned_description[0]"
   ]
  },
  {
   "cell_type": "code",
   "execution_count": 29,
   "metadata": {
    "ExecuteTime": {
     "end_time": "2020-08-20T13:30:56.288286Z",
     "start_time": "2020-08-20T13:30:56.207333Z"
    }
   },
   "outputs": [
    {
     "data": {
      "text/plain": [
       "'많이 비가 예보된 강원 영서 지방도 비상입니다. 내일까지 천둥과 번개를 동반한 매우 강한 비가 예상됩니다. 강재묵 기자가 다녀왔습니다. 회색 구름이 온 하늘을 덮은 가운데 계속해서 비가 내리고 있습니다. 산책로 침수 위험이 있는 유원지에도 시민들의 발길이 뜸해졌습니다. 강원 철원장흥과 홍천 등 일부 지역에선 시간당 50밀리미터가 넘는 비가 내리면서 강원 지역 곳곳에서도 호우주의보가 내려졌습니다. - 비는 소강 상태를 보이고 있지만 장마 전선이 오르내리면서 천둥, 번개를 동반한 강한 비가 다시 내릴 것으로 예상됩니다. 기상청은 오늘 밤부터 내일 오전 사이 강원 영서 지방에 시간당 최대 80밀리미터의 장대비가 예상된다고 밝혔습니다. 침수 피해로 인한 사고가 발생하는 가운데 시민들의 걱정은 큽니다. 강원 춘천시 효자동 - 창문이나 이런 거 닫고, 웬만하면 집에서 쉬고 . 다치는 사람 없을지 걱정하고 있습니다. 기상청은 비가 내일 오후 주춤했다가 저녁부터 다시 강해질 것으로 전망하며 폭우에 대비해 시설물 관리 등에 각별한 주의를 당부했습니다. MBN뉴스 강재묵입니다.'"
      ]
     },
     "execution_count": 29,
     "metadata": {},
     "output_type": "execute_result"
    }
   ],
   "source": [
    "cleaned_mbn.cleaned_description[1]"
   ]
  },
  {
   "cell_type": "code",
   "execution_count": 30,
   "metadata": {
    "ExecuteTime": {
     "end_time": "2020-08-20T13:30:56.469171Z",
     "start_time": "2020-08-20T13:30:56.292279Z"
    }
   },
   "outputs": [],
   "source": [
    "cleaned_mbn.to_csv('youtube_crawling_0801_0807/cleaned_csv_file/cleaned_mbn_0801_0807.csv')"
   ]
  },
  {
   "cell_type": "markdown",
   "metadata": {},
   "source": [
    "### 5. kbs\n",
    "\n",
    "결측값 날리고\n",
    "\n",
    "0번 데이터 : [리포트] 같이 대괄호 포함해서 사이에 있는 내용 삭제\n",
    "\n",
    "1번 데이터 : ▣ 와 같은 특수문자 이후에 나오는 내용 삭제\n",
    "\n",
    "3번 데이터 : # 해시태그 뒤에 있는 내용 삭제\n",
    "\n",
    "6번 데이터 : 1, 3번 둘 다 해당\n",
    "\n",
    "8번 데이터 : 영상편집:XXX, ▶ 특수문자 뒤에 내용 날리기\n",
    "\n",
    "101번 데이터 : 촬영기자:심규일/영상편집:김은주 삭제\n",
    "\n",
    "영살 설명이 너무 짧은 동영상도 삭제"
   ]
  },
  {
   "cell_type": "code",
   "execution_count": 31,
   "metadata": {
    "ExecuteTime": {
     "end_time": "2020-08-20T13:30:56.519140Z",
     "start_time": "2020-08-20T13:30:56.474167Z"
    }
   },
   "outputs": [],
   "source": [
    "def kbs_description_cleaning(text):\n",
    "    text = str(text)\n",
    "    # 정규표현식으로 제거\n",
    "    text = re.sub(r'(촬영기자:\\w{1,}·\\w{1,})?', '', text)\n",
    "    text = re.sub(r'(촬영기자:\\w{1,}( \\w{1,})?( \\w{1,})?( \\w{1,})?( \\w{1,})?)?', '', text)\n",
    "    text = re.sub(r'(촬영감독:\\w{1,}( \\w{1,})?)?', '', text)\n",
    "    text = re.sub(r'(항공촬영:\\w{1,}( \\w{1,})?)?', '', text)\n",
    "    text = re.sub(r'(항공취재:\\w{1,}( \\w{1,})?)?', '', text)\n",
    "    text = re.sub(r'(영상 편집:\\w{1,}( \\w{1,})?)?', '', text)\n",
    "    text = re.sub(r'(영상편집:\\w{1,}( \\w{1,})?)?', '', text)\n",
    "    text = re.sub(r'(영상편집 : \\w{1,}( \\w{1,})?)?', '', text)\n",
    "    text = re.sub(r'(촬영기자 \\w{1,}( \\w{1,})?)?', '', text)\n",
    "    text = re.sub(r'(촬영:\\w{1,}( \\w{1,})?)?', '', text)\n",
    "    text = re.sub(r'(편집:\\w{1,}( \\w{1,})?)?', '', text)\n",
    "    text = re.sub(r'(그래픽:\\w{1,}( \\w{1,})?)?', '', text)\n",
    "    text = re.sub(r'\\/', '', text)\n",
    "    text = re.sub(r'\\n', ' ', text)\n",
    "    text = re.sub(r\"\\'|\\\"\", ' ', text)\n",
    "    text = re.sub(r'\\u200b', '', text)\n",
    "    text = re.sub(r\"(美)\", '미국', text)\n",
    "    text = re.sub(r\"(佛)\", '프랑스', text)\n",
    "    text = re.sub(r\"(UAE)\", '아랍에미리트', text)\n",
    "    text = re.sub(r\"(中)\", '중국', text)\n",
    "    text = re.sub(r\"(日)\", '일본', text)\n",
    "    text = re.sub(r\"(韓)\", '한국', text)\n",
    "    text = re.sub(r\"(北)\", '북한', text)\n",
    "    text = re.sub(r\"(▲)\", '', text)\n",
    "    text = re.sub(r\"(靑)\", '청와대', text)\n",
    "    text = re.sub(r\"(與)\", '여당', text)\n",
    "    text = re.sub(r\"(野)\", '야당', text)\n",
    "    text = re.sub(r\"(新)\", '신규', text)\n",
    "    text = re.sub(r\"(外)\", '외', text)\n",
    "    text = re.sub(r\"(英)\", '영국', text)\n",
    "    \n",
    "    # 단위\n",
    "    text = re.sub(r'(㎥)', '세제곱미터', text)\n",
    "    text = re.sub(r'(km)', '킬로미터', text)\n",
    "    text = re.sub(r'(㎞)', '킬로미터', text)\n",
    "    text = re.sub(r'(mm)', '밀리미터', text)\n",
    "    text = re.sub(r'(㎜)', '밀리미터', text)\n",
    "    text = re.sub(r'(ｍ)|(m)', '미터', text)\n",
    "    text = re.sub(r'(%)', '퍼센트', text)\n",
    "    text = re.sub(r'(％)', '퍼센트', text)\n",
    "    text = re.sub(r'(㎿)', '메가와트', text)\n",
    "    text = re.sub(r'(㏊)', '헥타르', text)\n",
    "    text = re.sub(r'(↓)', ' 감소', text)\n",
    "    text = re.sub(r'(↑)', ' 상승', text)\n",
    "    \n",
    "    # #, ▣, ▶ 뒤에 문자열은 다 제거\n",
    "    text = text.split('#')[0].split('▣')[0].split('▶')[0]\n",
    "    \n",
    "    # [], ()로 쌓여있는 문자열 제거\n",
    "#     text = re.sub(r'\\[[\\S\\s]*?\\]', '', text)\n",
    "    text = re.sub(r'\\([\\S\\s]*?\\)', '', text)\n",
    "    \n",
    "    # 끝 문자가 .이 될때까지 삭제\n",
    "    try:\n",
    "        while text[-1] != '.':\n",
    "            text = text[:-1]\n",
    "    except:\n",
    "        pass\n",
    "    \n",
    "    # 문자열이 전부 영어면 제거 => 한국어로 되어있으면 '다'를 포함하지 않는 글은 없음\n",
    "    if '다' not in text:\n",
    "        text = re.sub(r'[^가-힣]', '', text)\n",
    "    \n",
    "    # 띄어쓰기 중복으로 되어 있는 부분 정리\n",
    "    text = re.sub(r'…', ' ', text)\n",
    "    text = re.sub(r'·', ', ', text)\n",
    "    text = re.sub(r'\\s+', ' ', text)\n",
    "    text = text.strip()\n",
    "    \n",
    "    return text"
   ]
  },
  {
   "cell_type": "code",
   "execution_count": 32,
   "metadata": {
    "ExecuteTime": {
     "end_time": "2020-08-20T13:30:56.733009Z",
     "start_time": "2020-08-20T13:30:56.524136Z"
    }
   },
   "outputs": [],
   "source": [
    "kbs = pd.read_csv('youtube_crawling_0801_0807/add_comments_csv_file/kbs_0801_0807.csv',\n",
    "                  index_col=0)"
   ]
  },
  {
   "cell_type": "code",
   "execution_count": 33,
   "metadata": {
    "ExecuteTime": {
     "end_time": "2020-08-20T13:31:02.275542Z",
     "start_time": "2020-08-20T13:30:56.737004Z"
    }
   },
   "outputs": [],
   "source": [
    "cleaned_kbs = df_cleaning(kbs, kbs_description_cleaning)"
   ]
  },
  {
   "cell_type": "code",
   "execution_count": 34,
   "metadata": {
    "ExecuteTime": {
     "end_time": "2020-08-20T13:31:02.299527Z",
     "start_time": "2020-08-20T13:31:02.278540Z"
    }
   },
   "outputs": [
    {
     "name": "stdout",
     "output_type": "stream",
     "text": [
      "<class 'pandas.core.frame.DataFrame'>\n",
      "RangeIndex: 458 entries, 0 to 457\n",
      "Data columns (total 14 columns):\n",
      " #   Column               Non-Null Count  Dtype  \n",
      "---  ------               --------------  -----  \n",
      " 0   published_time       458 non-null    object \n",
      " 1   video_id             458 non-null    object \n",
      " 2   video_url            458 non-null    object \n",
      " 3   crawling_time        458 non-null    object \n",
      " 4   author               458 non-null    object \n",
      " 5   title                458 non-null    object \n",
      " 6   length               458 non-null    float64\n",
      " 7   rating               458 non-null    float64\n",
      " 8   views                458 non-null    float64\n",
      " 9   thumbnail_url        458 non-null    object \n",
      " 10  captions             458 non-null    object \n",
      " 11  description          458 non-null    object \n",
      " 12  comments             458 non-null    object \n",
      " 13  cleaned_description  458 non-null    object \n",
      "dtypes: float64(3), object(11)\n",
      "memory usage: 50.2+ KB\n"
     ]
    }
   ],
   "source": [
    "cleaned_kbs.info()"
   ]
  },
  {
   "cell_type": "code",
   "execution_count": 35,
   "metadata": {
    "ExecuteTime": {
     "end_time": "2020-08-20T13:31:02.395468Z",
     "start_time": "2020-08-20T13:31:02.304524Z"
    }
   },
   "outputs": [
    {
     "data": {
      "text/plain": [
       "'충청과 호남지방에 기록적인 폭우를 뿌렸던 장마전선이 북상하면서 중부지방을 중심으로 집중호우가 쏟아지겠습니다. 월요일인 모레까지 서울, 경기와 강원영서에는 최고 250밀리미터가 넘는 물벼락이 떨어지겠는데요. 기상센터 연결해서 자세한 비 상황과 전망을 알아보겠습니다. 이설아 기상캐스터! 지금은 어느 지역에 강한 비가 쏟아지고 있죠? [리포트] 네, 지금은 경기북부지역에 한시간에 50밀리미터 안팎의 폭우가 쏟아지고 있습니다. 월요일인 모레까지는 북한 황해도에서 서울, 경기와 강원도 사이를 오르내리는 장마전선의 영향으로 서울, 경기와 강원영서에 비가 집중되겠습니다. 특히 오늘 낮부터 내일 오전사이, 다시 내일 저녁부터 모레 밤사이 시간당 50에서 80밀리미터의 물폭탄이 예고돼 있어 안전 사고가 없도록 대비해야 합니다. 현재 인천과 경기북부, 강원영서북부지역에 호우주의보가 발효 중인데요. 빗줄기가 더 굵어짐에 따라 조금 전 9시를 기해 경기도 파주와 연천은 경보로 강화됐습니다. 중부지방과 달리 장마철에서 벗어난 남부지방은 폭염주의보가 내려진 가운데 낮기온이 33도 안팎까지 올라 무더위가 기승을 부리겠습니다. 서울, 경기와 강원영서지방은 다음주 내내 장맛비가 이어지겠습니다. 기상센터였습니다.'"
      ]
     },
     "execution_count": 35,
     "metadata": {},
     "output_type": "execute_result"
    }
   ],
   "source": [
    "cleaned_kbs.cleaned_description[0]"
   ]
  },
  {
   "cell_type": "code",
   "execution_count": 36,
   "metadata": {
    "ExecuteTime": {
     "end_time": "2020-08-20T13:31:02.503400Z",
     "start_time": "2020-08-20T13:31:02.399466Z"
    }
   },
   "outputs": [
    {
     "data": {
      "text/plain": [
       "'지난해 말 중국에서 첫 환자가 보고된 이후 7개월 만에 전 세계 코로나19 누적 확진자수는 1,760만여 명이 됐습니다. 이 가운데 67만여 명은 생명을 잃었습니다. 거브러여수스 세계보건기구 사무총장은 코로나19 긴급위원회에서 코로나19가 100년에 한 번 나올 보건 위기라고 평가했습니다. 이어 팬데믹, 즉 세계적 대유행의 영향이 수십 년 동안 느껴질 것이라고 말했습니다. 대부분의 사람이 감염되기 쉬운 상태고, 심각한 발병을 경험했던 지역도 마찬가지라고 덧붙였습니다. 최악의 고비는 넘겼다고 믿었던 많은 나라가 지금 새로운 발병과 씨름하고 있다는 겁니다. 백신 개발이 기록적인 속도로 진행되고 있지만, 이 바이러스와 함께 살아가는 법을 배워야 한다고도 강조했습니다. 이번 긴급위원회는 WHO가 코로나19에 대해 국제적 비상사태를 선포한 지 6개월이 지나 현재 발병 상황을 재평가하기 위해 소집됐습니다. 긴급위원회에서는 현재 상황이 여전히 국제적 비상사태라는 평가가 유지될 것으로 전망됩니다. 기존 권고안에 더해 새로운 내용이 추가될 가능성도 있습니다. 코로나19 신규 확진자는 또다시 최고치를 기록했습니다. WHO는 현지시간 7월 31일 기준으로 지난 24시간 동안 전 세계 신규 확진자가 29만 2천여 명으로 집계돼 가장 많은 하루 확진자수를 나타냈다고 밝혔습니다. 대륙별로는 미주 대륙에서, 국가별로는 미국에서 신규 확진자가 가장 많이 나왔습니다. 베를린에서 KBS 뉴스 유광석입니다.'"
      ]
     },
     "execution_count": 36,
     "metadata": {},
     "output_type": "execute_result"
    }
   ],
   "source": [
    "cleaned_kbs.cleaned_description[1]"
   ]
  },
  {
   "cell_type": "code",
   "execution_count": 37,
   "metadata": {
    "ExecuteTime": {
     "end_time": "2020-08-20T13:31:02.775233Z",
     "start_time": "2020-08-20T13:31:02.507398Z"
    }
   },
   "outputs": [],
   "source": [
    "cleaned_kbs.to_csv('youtube_crawling_0801_0807/cleaned_csv_file/cleaned_kbs_0801_0807.csv')"
   ]
  },
  {
   "cell_type": "markdown",
   "metadata": {},
   "source": [
    "# url로 들어가서 해야되는 언론사"
   ]
  },
  {
   "cell_type": "code",
   "execution_count": 38,
   "metadata": {
    "ExecuteTime": {
     "end_time": "2020-08-20T13:31:02.798218Z",
     "start_time": "2020-08-20T13:31:02.778230Z"
    }
   },
   "outputs": [],
   "source": [
    "def url_extract(DataFrame, channel):\n",
    "    '''DataFrame.description에서 기사 본문 url 추출'''\n",
    "    \n",
    "    copy = DataFrame.copy()\n",
    "    \n",
    "    url_pattern = {'mbc':r'\\bhttps://imnews.imbc.com[/_\\w]+.html\\b',\n",
    "                   'sbs':r'(https://news.sbs.co.kr/y/\\?id=\\w+)',\n",
    "                   'jtbc':r'기사 전문 https://bit.ly/[\\w]+'}\n",
    "    jtbc_pattern = r'https://bit.ly/[\\w]+'\n",
    "    \n",
    "    url_list = []\n",
    "    for element in copy.description:\n",
    "        temp = re.findall(url_pattern[channel], str(element))\n",
    "        if temp:\n",
    "            url = temp[0]\n",
    "        else:\n",
    "            url = None\n",
    "            \n",
    "        url_list.append(url)\n",
    "        \n",
    "    if channel=='jtbc':\n",
    "        jtbc_url_list = []\n",
    "        for element in url_list:\n",
    "            if element:\n",
    "                url = re.findall(r'https://bit.ly/[\\w]+', element)[0]\n",
    "            else:\n",
    "                url = None\n",
    "                \n",
    "            jtbc_url_list.append(url)\n",
    "        url_list = jtbc_url_list\n",
    "    \n",
    "    copy['article_url'] = url_list\n",
    "    copy.dropna(axis=0, inplace=True)\n",
    "    copy.reset_index(drop=True, inplace=True)\n",
    "    \n",
    "    return copy"
   ]
  },
  {
   "cell_type": "code",
   "execution_count": 39,
   "metadata": {
    "ExecuteTime": {
     "end_time": "2020-08-20T13:31:02.978950Z",
     "start_time": "2020-08-20T13:31:02.802216Z"
    }
   },
   "outputs": [],
   "source": [
    "def get_article_body(article_url, channel):\n",
    "    \n",
    "    selector = {'mbc':'div.news_txt',\n",
    "                'sbs':'div.main_text > div',\n",
    "                'jtbc':'div.article_content'}\n",
    "    req = urllib.request.Request(article_url)\n",
    "    \n",
    "    with urllib.request.urlopen(req) as response:\n",
    "        the_page = response.read()\n",
    "\n",
    "    try:\n",
    "        source = BeautifulSoup(the_page, 'html.parser')\n",
    "        article_text = source.select_one(selector[channel]).text\n",
    "    except:\n",
    "        article_text = None\n",
    "    \n",
    "    return article_text"
   ]
  },
  {
   "cell_type": "code",
   "execution_count": 40,
   "metadata": {
    "ExecuteTime": {
     "end_time": "2020-08-20T13:31:03.083886Z",
     "start_time": "2020-08-20T13:31:02.983947Z"
    }
   },
   "outputs": [],
   "source": [
    "def article_cleaning(DataFrame, cleaning_function, channel):\n",
    "    \n",
    "    copy = DataFrame.copy()\n",
    "    \n",
    "    copy.dropna(axis=0, inplace=True)\n",
    "    copy.reset_index(drop=True, inplace=True)\n",
    "    \n",
    "    cleaned_description = [cleaning_function(get_article_body(element, channel)) for element in copy['article_url']]\n",
    "    copy['cleaned_description'] = cleaned_description\n",
    "\n",
    "    copy.dropna(axis=0, inplace=True)\n",
    "    copy.reset_index(drop=True, inplace=True)\n",
    "    \n",
    "    copy = copy.loc[copy['cleaned_description'].str.len() > 250]\n",
    "    copy.reset_index(drop=True, inplace=True)\n",
    "    \n",
    "    return copy"
   ]
  },
  {
   "cell_type": "markdown",
   "metadata": {},
   "source": [
    "### 6. mbc"
   ]
  },
  {
   "cell_type": "code",
   "execution_count": 41,
   "metadata": {
    "ExecuteTime": {
     "end_time": "2020-08-20T13:31:03.252290Z",
     "start_time": "2020-08-20T13:31:03.087884Z"
    }
   },
   "outputs": [],
   "source": [
    "def mbc_article_cleaning(text):\n",
    "    text = str(text)\n",
    "    # 정규표현식으로 제거\n",
    "    text = re.sub(r'\\r|\\n', '', text)\n",
    "    text = re.sub(r'<.+?>', '', text)\n",
    "    text = re.sub(r'◀.+?▶', '', text)\n",
    "    text = re.sub(r'\\/', '', text)\n",
    "    text = re.sub(r\"\\'|\\\"\", ' ', text)\n",
    "    text = re.sub(r'\\u200b', '', text)\n",
    "    text = re.sub(r\"(美)\", '미국', text)\n",
    "    text = re.sub(r\"(佛)\", '프랑스', text)\n",
    "    text = re.sub(r\"(UAE)\", '아랍에미리트', text)\n",
    "    text = re.sub(r\"(中)\", '중국', text)\n",
    "    text = re.sub(r\"(日)\", '일본', text)\n",
    "    text = re.sub(r\"(韓)\", '한국', text)\n",
    "    text = re.sub(r\"(北)\", '북한', text)\n",
    "    text = re.sub(r\"(▲)\", '', text)\n",
    "    text = re.sub(r\"(靑)\", '청와대', text)\n",
    "    text = re.sub(r\"(與)\", '여당', text)\n",
    "    text = re.sub(r\"(野)\", '야당', text)\n",
    "    text = re.sub(r\"(新)\", '신규', text)\n",
    "    text = re.sub(r\"(外)\", '외', text)\n",
    "    text = re.sub(r\"(英)\", '영국', text)\n",
    "    \n",
    "    # 단위\n",
    "    text = re.sub(r'(㎥)', '세제곱미터', text)\n",
    "    text = re.sub(r'(km)', '킬로미터', text)\n",
    "    text = re.sub(r'(㎞)', '킬로미터', text)\n",
    "    text = re.sub(r'(mm)', '밀리미터', text)\n",
    "    text = re.sub(r'(㎜)', '밀리미터', text)\n",
    "    text = re.sub(r'(ｍ)|(m)', '미터', text)\n",
    "    text = re.sub(r'(%)', '퍼센트', text)\n",
    "    text = re.sub(r'(％)', '퍼센트', text)\n",
    "    text = re.sub(r'(㎿)', '메가와트', text)\n",
    "    text = re.sub(r'(㏊)', '헥타르', text)\n",
    "    text = re.sub(r'(↓)', ' 감소', text)\n",
    "    text = re.sub(r'(↑)', ' 상승', text)\n",
    "    \n",
    "    # #, ▣, ▶ 뒤에 문자열은 다 제거\n",
    "    text = text.split('▷')[0]\n",
    "    \n",
    "    # [], ()로 쌓여있는 문자열 제거\n",
    "    text = re.sub(r'(\\(.+\\))', '', text)\n",
    "    \n",
    "    # 끝 문자가 .이 될때까지 삭제\n",
    "    try:\n",
    "        while text[-1] != '.':\n",
    "            text = text[:-1]\n",
    "    except:\n",
    "        pass\n",
    "    \n",
    "    # 띄어쓰기 중복으로 되어 있는 부분 정리\n",
    "    text = re.sub(r'”|“|‘|’', '', text)\n",
    "    text = re.sub(r'\\={2,}', ' ', text)\n",
    "    text = re.sub(r'‥', ' ', text)\n",
    "    text = re.sub(r'…', ' ', text)\n",
    "    text = re.sub(r'·', ', ', text)\n",
    "    text = re.sub(r'\\s+', ' ', text)\n",
    "    text = text.strip()\n",
    "    \n",
    "    return text"
   ]
  },
  {
   "cell_type": "code",
   "execution_count": 42,
   "metadata": {
    "ExecuteTime": {
     "end_time": "2020-08-20T13:31:03.416188Z",
     "start_time": "2020-08-20T13:31:03.255289Z"
    }
   },
   "outputs": [],
   "source": [
    "mbc = pd.read_csv('youtube_crawling_0801_0807/add_comments_csv_file/mbc_0801_0807.csv',\n",
    "                  index_col=0)"
   ]
  },
  {
   "cell_type": "code",
   "execution_count": 43,
   "metadata": {
    "ExecuteTime": {
     "end_time": "2020-08-20T13:31:03.451168Z",
     "start_time": "2020-08-20T13:31:03.420187Z"
    }
   },
   "outputs": [],
   "source": [
    "url_mbc = url_extract(mbc, 'mbc')"
   ]
  },
  {
   "cell_type": "code",
   "execution_count": 44,
   "metadata": {
    "ExecuteTime": {
     "end_time": "2020-08-20T13:32:15.898018Z",
     "start_time": "2020-08-20T13:31:03.455165Z"
    }
   },
   "outputs": [],
   "source": [
    "cleaned_mbc = article_cleaning(url_mbc, mbc_article_cleaning, 'mbc')"
   ]
  },
  {
   "cell_type": "code",
   "execution_count": 45,
   "metadata": {
    "ExecuteTime": {
     "end_time": "2020-08-20T13:32:15.927001Z",
     "start_time": "2020-08-20T13:32:15.903015Z"
    }
   },
   "outputs": [
    {
     "name": "stdout",
     "output_type": "stream",
     "text": [
      "<class 'pandas.core.frame.DataFrame'>\n",
      "RangeIndex: 482 entries, 0 to 481\n",
      "Data columns (total 15 columns):\n",
      " #   Column               Non-Null Count  Dtype  \n",
      "---  ------               --------------  -----  \n",
      " 0   published_time       482 non-null    object \n",
      " 1   video_id             482 non-null    object \n",
      " 2   video_url            482 non-null    object \n",
      " 3   crawling_time        482 non-null    object \n",
      " 4   author               482 non-null    object \n",
      " 5   title                482 non-null    object \n",
      " 6   length               482 non-null    float64\n",
      " 7   rating               482 non-null    float64\n",
      " 8   views                482 non-null    float64\n",
      " 9   thumbnail_url        482 non-null    object \n",
      " 10  captions             482 non-null    object \n",
      " 11  description          482 non-null    object \n",
      " 12  comments             482 non-null    object \n",
      " 13  article_url          482 non-null    object \n",
      " 14  cleaned_description  482 non-null    object \n",
      "dtypes: float64(3), object(12)\n",
      "memory usage: 56.6+ KB\n"
     ]
    }
   ],
   "source": [
    "cleaned_mbc.info()"
   ]
  },
  {
   "cell_type": "code",
   "execution_count": 46,
   "metadata": {
    "ExecuteTime": {
     "end_time": "2020-08-20T13:32:16.108888Z",
     "start_time": "2020-08-20T13:32:15.940992Z"
    }
   },
   "outputs": [
    {
     "data": {
      "text/plain": [
       "'대전 등 충청지역을 강타했던 장마전선이 북상하면서 수도권과 강원 일부 지역에 많은 비가 쏟아질 것으로 예상됩니다. 모레까지 최대 250밀리미터가 넘는 폭우가 예보돼 비 피해가 걱정되는데요. 현장에 나가있는 취재기자 연결해 현재 상황과 이후의 기상 전망, 알아보겠습니다. 양소연 기자, 현재 상황 어떻습니까? 네, 서울 마포대교입니다. 서울 지역은 비가 내렸다 그쳤다를 반복하고 있는데요. 지금은 약한 빗방울만 조금씩 날리고 있습니다. 제 뒤로, 흙탕물로 변한 한강의 수위가 높아진 모습도 보실 수 있으실 텐데요. 서해상에서 발달한 비구름이 계속 북동쪽으로 움직이고 있어 오후에는 폭우에 대비하셔야 할 것 같습니다. 서울 전역에도 잠시 뒤인 낮12시를 기해 호우주의보가 발효될 예정입니다. 현재 경기 연천과 파주에는 호우경보가 발령된 상태입니다. 경기 김포와 고양, 양주, 동두천과 포천, 가평을 비롯해 인천 강화, 옹진, 그리고 서해5도에는 호우주의보가 내려졌습니다. 어제 저녁부터 오늘 오전까지 인천 강화에는 120밀리미터가 넘는 비가 내렸고, 경기 파주에는 110밀리미터 이상, 김포에는 100밀리미터 넘는 비가 왔습니다. 임진강 최북단 필승교 수위가 대피 수위인 1미터를 넘어 연천, 파주지역에는 재난 문자가 발송됐습니다. 수도권 외에 현재 호우 주의보가 내려진 곳은 철원 춘천 등 강원도 4개 시군과 충남 당진, 서산 등입니다. 호우특보는 점차 확대될 것으로 보입니다. 기상청은 오늘 서울과 경기, 강원영서를 중심으로 시간당 50에서 80밀리미터의 매우 강한 비가 쏟아질 것으로 내다봤습니다. 모레까지 서울, 경기와 강원 영서에는 최대 250밀리미터 이상의 비가 쏟아질 것으로 예보된 상황입니다. 기상청은 짧은 시간에 강한 비가 내리면서 하천이나 계곡물이 불어날 수 있으니 피해가 없도록 각별히 유의해 달라고 요청했습니다. 또 최근 계속된 비로 지반이 많이 약해진 만큼 산사태와 축대 붕괴, 침수 피해 등도 우려되고 있습니다. 현재 장마전선에서 벗어난 강원 동해안과 남부지방, 제주도에는 폭염특보가 내려진 상태입니다. 지금까지 서울 마포대교에서 MBC뉴스 양소연입니다.'"
      ]
     },
     "execution_count": 46,
     "metadata": {},
     "output_type": "execute_result"
    }
   ],
   "source": [
    "cleaned_mbc.cleaned_description[0]"
   ]
  },
  {
   "cell_type": "code",
   "execution_count": 47,
   "metadata": {
    "ExecuteTime": {
     "end_time": "2020-08-20T13:32:16.264789Z",
     "start_time": "2020-08-20T13:32:16.113885Z"
    }
   },
   "outputs": [
    {
     "data": {
      "text/plain": [
       "'산업통상자원부는 지난달 수출이 지난해 같은 기간 대비 7퍼센트 감소한 428억 3천만 달러를 기록했다고 밝혔습니다. 월별 수출은 코로나 19의 여파로 4월 -25.5퍼센트, 5월 -23.6퍼센트, 6월 -10.9퍼센트로 3개월 연속 두 자릿수대 감소율을 보이다 이번 달 한 자릿수로 감소폭이 줄었습니다. 산업부 관계자는 석유나 기계, 철강 등 주요 품목의 수출 감소가 여전했지만, 바이오, 헬스 47퍼센트, 컴퓨터 77.1퍼센트 증가하는 등 15대 수출 품목 가운데 6개 품목이 증가로 돌아서면서 수출 감소율이 둔화했다고 설명했습니다.'"
      ]
     },
     "execution_count": 47,
     "metadata": {},
     "output_type": "execute_result"
    }
   ],
   "source": [
    "cleaned_mbc.cleaned_description[1]"
   ]
  },
  {
   "cell_type": "code",
   "execution_count": 48,
   "metadata": {
    "ExecuteTime": {
     "end_time": "2020-08-20T13:32:16.568604Z",
     "start_time": "2020-08-20T13:32:16.270786Z"
    }
   },
   "outputs": [],
   "source": [
    "cleaned_mbc.to_csv('youtube_crawling_0801_0807/cleaned_csv_file/cleaned_mbc_0801_0807.csv')"
   ]
  },
  {
   "cell_type": "markdown",
   "metadata": {},
   "source": [
    "### 7.sbs"
   ]
  },
  {
   "cell_type": "code",
   "execution_count": 49,
   "metadata": {
    "ExecuteTime": {
     "end_time": "2020-08-20T13:32:16.624568Z",
     "start_time": "2020-08-20T13:32:16.572600Z"
    }
   },
   "outputs": [],
   "source": [
    "def sbs_article_cleaning(text):\n",
    "    text = str(text)\n",
    "    # 정규표현식으로 제거\n",
    "    text = re.sub(r'\\r|\\n', '', text)\n",
    "    text = re.sub(r'\\&.+?\\&.+?;', '', text)\n",
    "    text = re.sub(r'<.+?>', '', text)\n",
    "    text = re.sub(r'◀.+?▶', '', text)\n",
    "    text = re.sub(r'\\/', '', text)\n",
    "    text = re.sub(r\"\\'|\\\"\", ' ', text)\n",
    "    text = re.sub(r'\\u200b', '', text)\n",
    "    text = re.sub(r\"(美)\", '미국', text)\n",
    "    text = re.sub(r\"(佛)\", '프랑스', text)\n",
    "    text = re.sub(r\"(UAE)\", '아랍에미리트', text)\n",
    "    text = re.sub(r\"(中)\", '중국', text)\n",
    "    text = re.sub(r\"(日)\", '일본', text)\n",
    "    text = re.sub(r\"(韓)\", '한국', text)\n",
    "    text = re.sub(r\"(北)\", '북한', text)\n",
    "    text = re.sub(r\"(▲)\", '', text)\n",
    "    text = re.sub(r\"(靑)\", '청와대', text)\n",
    "    text = re.sub(r\"(與)\", '여당', text)\n",
    "    text = re.sub(r\"(野)\", '야당', text)\n",
    "    text = re.sub(r\"(新)\", '신규', text)\n",
    "    text = re.sub(r\"(外)\", '외', text)\n",
    "    text = re.sub(r\"(英)\", '영국', text)\n",
    "    \n",
    "    # 단위\n",
    "    text = re.sub(r'(㎥)', '세제곱미터', text)\n",
    "    text = re.sub(r'(km)', '킬로미터', text)\n",
    "    text = re.sub(r'(㎞)', '킬로미터', text)\n",
    "    text = re.sub(r'(mm)', '밀리미터', text)\n",
    "    text = re.sub(r'(㎜)', '밀리미터', text)\n",
    "    text = re.sub(r'(ｍ)|(m)', '미터', text)\n",
    "    text = re.sub(r'(%)', '퍼센트', text)\n",
    "    text = re.sub(r'(％)', '퍼센트', text)\n",
    "    text = re.sub(r'(㎿)', '메가와트', text)\n",
    "    text = re.sub(r'(㏊)', '헥타르', text)\n",
    "    text = re.sub(r'(↓)', ' 감소', text)\n",
    "    text = re.sub(r'(↑)', ' 상승', text)\n",
    "    \n",
    "    # #, ▣, ▶ 뒤에 문자열은 다 제거\n",
    "#     text = text.split('▷')[0]\n",
    "    \n",
    "    # [], ()로 쌓여있는 문자열 제거\n",
    "#     text = re.sub(r'(\\[.+\\])', '', text)\n",
    "    text = re.sub(r'(\\(.+\\))', '', text)\n",
    "    \n",
    "    # 끝 문자가 .이 될때까지 삭제\n",
    "    try:\n",
    "        while text[-1] != '.':\n",
    "            text = text[:-1]\n",
    "    except:\n",
    "        pass\n",
    "    \n",
    "    # 띄어쓰기 중복으로 되어 있는 부분 정리\n",
    "    text = re.sub(r'”|“|‘|’', '', text)\n",
    "    text = re.sub(r'\\={2,}', ' ', text)\n",
    "    text = re.sub(r'‥', ' ', text)\n",
    "    text = re.sub(r'…', ' ', text)\n",
    "    text = re.sub(r'·', ', ', text)\n",
    "    text = re.sub(r'\\s+', ' ', text)\n",
    "    text = text.strip()\n",
    "    \n",
    "    return text"
   ]
  },
  {
   "cell_type": "code",
   "execution_count": 50,
   "metadata": {
    "ExecuteTime": {
     "end_time": "2020-08-20T13:32:16.943743Z",
     "start_time": "2020-08-20T13:32:16.627566Z"
    }
   },
   "outputs": [],
   "source": [
    "sbs = pd.read_csv('youtube_crawling_0801_0807/add_comments_csv_file/sbs_0801_0807.csv',\n",
    "                  index_col=0)"
   ]
  },
  {
   "cell_type": "code",
   "execution_count": 51,
   "metadata": {
    "ExecuteTime": {
     "end_time": "2020-08-20T13:32:16.969728Z",
     "start_time": "2020-08-20T13:32:16.947744Z"
    }
   },
   "outputs": [],
   "source": [
    "url_sbs = url_extract(sbs, 'sbs')"
   ]
  },
  {
   "cell_type": "code",
   "execution_count": 52,
   "metadata": {
    "ExecuteTime": {
     "end_time": "2020-08-20T13:34:45.254575Z",
     "start_time": "2020-08-20T13:32:16.972726Z"
    }
   },
   "outputs": [],
   "source": [
    "cleaned_sbs = article_cleaning(url_sbs, sbs_article_cleaning, 'sbs')"
   ]
  },
  {
   "cell_type": "code",
   "execution_count": 53,
   "metadata": {
    "ExecuteTime": {
     "end_time": "2020-08-20T13:34:45.280560Z",
     "start_time": "2020-08-20T13:34:45.256575Z"
    }
   },
   "outputs": [
    {
     "name": "stdout",
     "output_type": "stream",
     "text": [
      "<class 'pandas.core.frame.DataFrame'>\n",
      "RangeIndex: 279 entries, 0 to 278\n",
      "Data columns (total 15 columns):\n",
      " #   Column               Non-Null Count  Dtype  \n",
      "---  ------               --------------  -----  \n",
      " 0   published_time       279 non-null    object \n",
      " 1   video_id             279 non-null    object \n",
      " 2   video_url            279 non-null    object \n",
      " 3   crawling_time        279 non-null    object \n",
      " 4   author               279 non-null    object \n",
      " 5   title                279 non-null    object \n",
      " 6   length               279 non-null    float64\n",
      " 7   rating               279 non-null    float64\n",
      " 8   views                279 non-null    float64\n",
      " 9   thumbnail_url        279 non-null    object \n",
      " 10  captions             279 non-null    object \n",
      " 11  description          279 non-null    object \n",
      " 12  comments             279 non-null    object \n",
      " 13  article_url          279 non-null    object \n",
      " 14  cleaned_description  279 non-null    object \n",
      "dtypes: float64(3), object(12)\n",
      "memory usage: 32.8+ KB\n"
     ]
    }
   ],
   "source": [
    "cleaned_sbs.info()"
   ]
  },
  {
   "cell_type": "code",
   "execution_count": 54,
   "metadata": {
    "ExecuteTime": {
     "end_time": "2020-08-20T13:34:45.431487Z",
     "start_time": "2020-08-20T13:34:45.283560Z"
    }
   },
   "outputs": [
    {
     "data": {
      "text/plain": [
       "'지난 4, 15 총선을 통해 국회에 입성한 초선 의원들이 인사청문회와 대정부질문 등에서 활약을 하고 있는데요, 특히 이목을 끈 초선 의원들이 있습니다. 이 초선 의원들은 모두 뜨거운 응원과 냉엄한 비판을 동시에 받기도 했는데요.지난 29일, 조수진 미래통합당 의원은 국회에서 정말 송구스럽다며 사과했습니다. 이유는 스스로의 약속을 지키지 못했다는 건데요. 첫째는 상임위원장석에 가까이 가지 않기, 둘째는 큰 목소리 내지 않기였습니다.조수진 의원은 이 두 가지 약속을 며칠 새 모두 깨고 말았습니다. 지난 29일 법사위원회에서는 윤호중 법사위원장 자리 앞으로 나가 이러려고 법사위원장을 가져갔냐 며 고성으로 목소리를 높였다가 여기 싸움하러 왔냐 는 핀잔을 듣기도 했습니다.30일 본회의에서는 발언 시간 초과로 마이크가 꺼진 뒤에도 육성으로 정부를 비판해 민주당의 야유와 동시에 통합당의 응원을 받았습니다.'"
      ]
     },
     "execution_count": 54,
     "metadata": {},
     "output_type": "execute_result"
    }
   ],
   "source": [
    "cleaned_sbs.cleaned_description[0]"
   ]
  },
  {
   "cell_type": "code",
   "execution_count": 55,
   "metadata": {
    "ExecuteTime": {
     "end_time": "2020-08-20T13:34:45.576390Z",
     "start_time": "2020-08-20T13:34:45.436468Z"
    }
   },
   "outputs": [
    {
     "data": {
      "text/plain": [
       "'장마전선이 북상하면서 수도권과 강원, 충남지역 곳곳에 강한 비가 내리고 있습니다. 모레까지 최고 250밀리미터가 넘는 폭우가 예상돼 피해가 우려됩니다.안영인 기자가 보도합니다.현재 비가 내리는 지역은 서울, 경기와 강원, 충남지역입니다.특히 파주와 연천에는 호우경보가 내려져 있고, 서울과 경기 서해안, 경기 북부, 영서 북부, 충남 북서부에는 호우주의보가 내려져 있습니다.지금까지 파주 진동에 110밀리미터가 넘는 많은 비가 내린 것을 비롯해 호우 특보가 내려진 지역에는 많게는 100밀리미터 안팎의 비가 내렸습니다.장마전선이 황해도에서 서울, 경기 지방을 오르내리면서 모레까지는 중부 지방에 강한 비를 뿌릴 전망입니다.모레까지 예상 강수량은 서울, 경기와 강원 영서, 충청 북부가 50에서 최고 250밀리미터 이상, 강원 영동과 충청 남부, 호남과 경북 내륙은 20에서 최고 80밀리미터가 넘는 곳도 있겠습니다.특히 오늘 낮부터 내일 오전 사이, 내일 저녁부터 모레 밤사이 매우 강한 비가 내릴 것으로 기상청은 예보했습니다.중부 지방에 강한 비가 이어지는 것은 남쪽에서 올라온 뜨거운 수증기가 북쪽에서 내려온 차고 건조한 공기와 중부 지방 상공에서 강하게 충돌하기 때문입니다.장마전선의 영향에서 벗어난 남부 지방은 폭염경보와 주의보가 내려진 가운데 체감온도가 34도까지 올라갈 전망입니다.기상청은 다음 주까지도 중부 지방은 장맛비, 남부 지방은 폭염과 열대야가 이어질 것으로 전망했습니다.'"
      ]
     },
     "execution_count": 55,
     "metadata": {},
     "output_type": "execute_result"
    }
   ],
   "source": [
    "cleaned_sbs.cleaned_description[1]"
   ]
  },
  {
   "cell_type": "code",
   "execution_count": 56,
   "metadata": {
    "ExecuteTime": {
     "end_time": "2020-08-20T13:34:45.766271Z",
     "start_time": "2020-08-20T13:34:45.579386Z"
    }
   },
   "outputs": [],
   "source": [
    "cleaned_sbs.to_csv('youtube_crawling_0801_0807/cleaned_csv_file/cleaned_sbs_0801_0807.csv')"
   ]
  },
  {
   "cell_type": "markdown",
   "metadata": {},
   "source": [
    "### 8. jtbc"
   ]
  },
  {
   "cell_type": "code",
   "execution_count": 57,
   "metadata": {
    "ExecuteTime": {
     "end_time": "2020-08-20T13:34:45.817244Z",
     "start_time": "2020-08-20T13:34:45.770267Z"
    }
   },
   "outputs": [],
   "source": [
    "def jtbc_article_cleaning(text):\n",
    "    text = str(text)\n",
    "    # 정규표현식으로 제거\n",
    "    text = re.sub(r'\\r|\\n', '', text)\n",
    "    text = re.sub(r'\\&.+?\\&.+?;', '', text)\n",
    "    text = re.sub(r'<.+?>', '', text)\n",
    "    text = re.sub(r'◀.+?▶', '', text)\n",
    "    text = re.sub(r'\\/', '', text)\n",
    "    text = re.sub(r\"\\'|\\\"\", ' ', text)\n",
    "    text = re.sub(r'\\u200b', '', text)\n",
    "    text = re.sub(r'(Q\\.)', '', text)\n",
    "    text = re.sub(r'\\[앵커\\]|\\[기자\\]', '', text)\n",
    "    text = re.sub(r\"(美)\", '미국', text)\n",
    "    text = re.sub(r\"(佛)\", '프랑스', text)\n",
    "    text = re.sub(r\"(UAE)\", '아랍에미리트', text)\n",
    "    text = re.sub(r\"(中)\", '중국', text)\n",
    "    text = re.sub(r\"(日)\", '일본', text)\n",
    "    text = re.sub(r\"(韓)\", '한국', text)\n",
    "    text = re.sub(r\"(北)\", '북한', text)\n",
    "    text = re.sub(r\"(■)\", '', text)\n",
    "    text = re.sub(r\"(▲)\", '', text)\n",
    "    text = re.sub(r\"(靑)\", '청와대', text)\n",
    "    text = re.sub(r\"(與)\", '여당', text)\n",
    "    text = re.sub(r\"(野)\", '야당', text)\n",
    "    text = re.sub(r\"(新)\", '신규', text)\n",
    "    text = re.sub(r\"(外)\", '외', text)\n",
    "    text = re.sub(r\"(英)\", '영국', text)\n",
    "    text = re.sub(r'인용보도 시 프로그램명 (.+) 을 밝혀주시기 바랍니다\\.', '', text)\n",
    "    text = re.sub(r'저작권은 JTBC에 있습니다\\.', '', text)\n",
    "    text = re.sub(r\"방송 \\: JTBC 아침\\&\", '', text)\n",
    "    text = re.sub(r\"방송 \\: JTBC 뉴스룸\", '', text)\n",
    "    text = re.sub(r\"진행 \\: \\w{1,}\", '', text)\n",
    "    \n",
    "    # 단위\n",
    "    text = re.sub(r'(㎥)', '세제곱미터', text)\n",
    "    text = re.sub(r'(km)', '킬로미터', text)\n",
    "    text = re.sub(r'(㎞)', '킬로미터', text)\n",
    "    text = re.sub(r'(mm)', '밀리미터', text)\n",
    "    text = re.sub(r'(㎜)', '밀리미터', text)\n",
    "    text = re.sub(r'(ｍ)|(m)', '미터', text)\n",
    "    text = re.sub(r'(%)', '퍼센트', text)\n",
    "    text = re.sub(r'(％)', '퍼센트', text)\n",
    "    text = re.sub(r'(㎿)', '메가와트', text)\n",
    "    text = re.sub(r'(㏊)', '헥타르', text)\n",
    "    text = re.sub(r'(↓)', ' 감소', text)\n",
    "    text = re.sub(r'(↑)', ' 상승', text)\n",
    "    \n",
    "    # #, ▣, ▶ 뒤에 문자열은 다 제거\n",
    "    text = text.split('※')[0].split('☎')[0]\n",
    "    \n",
    "    # [], ()로 쌓여있는 문자열 제거\n",
    "#     text = re.sub(r'(\\[.+\\])', '', text)\n",
    "#      text = re.sub(r'(\\(.+\\))', '', text)\n",
    "    \n",
    "    # 끝 문자가 .이 될때까지 삭제\n",
    "    try:\n",
    "        while text[-1] != '.':\n",
    "            text = text[:-1]\n",
    "    except:\n",
    "        pass\n",
    "    \n",
    "    # 띄어쓰기 중복으로 되어 있는 부분 정리\n",
    "    text = re.sub(r'”|“|‘|’', '', text)\n",
    "    text = re.sub(r'\\={2,}', ' ', text)\n",
    "    text = re.sub(r'‥', ' ', text)\n",
    "    text = re.sub(r'…', ' ', text)\n",
    "    text = re.sub(r'·', ', ', text)\n",
    "    text = re.sub(r'\\s+', ' ', text)\n",
    "    text = text.strip()\n",
    "    \n",
    "    return text"
   ]
  },
  {
   "cell_type": "code",
   "execution_count": 58,
   "metadata": {
    "ExecuteTime": {
     "end_time": "2020-08-20T13:34:45.996133Z",
     "start_time": "2020-08-20T13:34:45.820243Z"
    }
   },
   "outputs": [],
   "source": [
    "jtbc = pd.read_csv('youtube_crawling_0801_0807/add_comments_csv_file/jtbc_0801_0807.csv',\n",
    "                   index_col=0)"
   ]
  },
  {
   "cell_type": "code",
   "execution_count": 59,
   "metadata": {
    "ExecuteTime": {
     "end_time": "2020-08-20T13:34:46.027116Z",
     "start_time": "2020-08-20T13:34:46.000131Z"
    }
   },
   "outputs": [],
   "source": [
    "url_jtbc = url_extract(jtbc, 'jtbc')"
   ]
  },
  {
   "cell_type": "code",
   "execution_count": 60,
   "metadata": {
    "ExecuteTime": {
     "end_time": "2020-08-20T13:37:04.503684Z",
     "start_time": "2020-08-20T13:34:46.032113Z"
    }
   },
   "outputs": [],
   "source": [
    "cleaned_jtbc = article_cleaning(url_jtbc, jtbc_article_cleaning, 'jtbc')"
   ]
  },
  {
   "cell_type": "code",
   "execution_count": 61,
   "metadata": {
    "ExecuteTime": {
     "end_time": "2020-08-20T13:37:04.524670Z",
     "start_time": "2020-08-20T13:37:04.506678Z"
    }
   },
   "outputs": [
    {
     "name": "stdout",
     "output_type": "stream",
     "text": [
      "<class 'pandas.core.frame.DataFrame'>\n",
      "RangeIndex: 293 entries, 0 to 292\n",
      "Data columns (total 15 columns):\n",
      " #   Column               Non-Null Count  Dtype  \n",
      "---  ------               --------------  -----  \n",
      " 0   published_time       293 non-null    object \n",
      " 1   video_id             293 non-null    object \n",
      " 2   video_url            293 non-null    object \n",
      " 3   crawling_time        293 non-null    object \n",
      " 4   author               293 non-null    object \n",
      " 5   title                293 non-null    object \n",
      " 6   length               293 non-null    float64\n",
      " 7   rating               293 non-null    float64\n",
      " 8   views                293 non-null    float64\n",
      " 9   thumbnail_url        293 non-null    object \n",
      " 10  captions             293 non-null    object \n",
      " 11  description          293 non-null    object \n",
      " 12  comments             293 non-null    object \n",
      " 13  article_url          293 non-null    object \n",
      " 14  cleaned_description  293 non-null    object \n",
      "dtypes: float64(3), object(12)\n",
      "memory usage: 34.5+ KB\n"
     ]
    }
   ],
   "source": [
    "cleaned_jtbc.info()"
   ]
  },
  {
   "cell_type": "code",
   "execution_count": 62,
   "metadata": {
    "ExecuteTime": {
     "end_time": "2020-08-20T13:37:04.701588Z",
     "start_time": "2020-08-20T13:37:04.527664Z"
    }
   },
   "outputs": [
    {
     "data": {
      "text/plain": [
       "'오늘(1일)도 전국 곳곳에서 비가 쏟아졌습니다. 서울과 경기, 강원 영서와 충남, 전북에 강한 비가 내리면서 피해도 이어졌습니다. 서울 관악구에선 도림천이 갑자기 불어나면서 산책로에 있던 80대 남성이 급류에 휩쓸려 끝내 숨졌습니다.먼저 전국 비 상황부터 서영지 기자가 전해드리고, 현장 직접 연결해보겠습니다.오후 6시 10분 현재 서울, 경기도와 강원영서, 충남북부에는 호우특보가 발효된 가운데, 강원영동과 충청도, 전북에는 10밀리미터 내외의 비가 내리고 있습니다.서울 관악구에서는 낮 한때 내린 비가 시간당 50밀리미터가 넘기도 했습니다.어제 오후 6시부터 오늘 오후 5시까지 인천 강화군 교동면에는 125밀리미터 가 넘는 비가 내렸습니다.파주와 김포, 연천 등 경기 북부에도 100밀리미터가 넘는 비가 쏟아졌습니다.강남역은 낮 한때 침수되기도 했고, 북한에서도 비 소식이 이어졌습니다.수도권 등에 호우특보가 발효되면서 행정안전부는 오늘 오전 중앙재난안전대책본부 1단계를 가동하고 비상근무에 들어갔습니다.기상청은 오늘 밤사이 서울, 경기도와 강원영서, 충남 서해안을 중심으로 돌풍과 천둥, 번개를 동반한 시간당 50~80밀리미터의 매우 강한 비가 내릴 것으로 내다봤습니다.전라 서해안도 천둥, 번개를 동반한 시간당 30밀리미터 내외의 강한 비가 올 것으로 예보했습니다.이 비는 내일도 이어지다가 저녁부터 다시 강하게 내릴 것으로 예상됩니다.반면 강원 동해안과 남부지방, 제주도는 폭염특보가 내려진 상태입니다.일부 지역에서는 열대야 현상이 나타날 것으로 전망됐습니다.'"
      ]
     },
     "execution_count": 62,
     "metadata": {},
     "output_type": "execute_result"
    }
   ],
   "source": [
    "cleaned_jtbc.cleaned_description[0]"
   ]
  },
  {
   "cell_type": "code",
   "execution_count": 63,
   "metadata": {
    "ExecuteTime": {
     "end_time": "2020-08-20T13:37:04.849514Z",
     "start_time": "2020-08-20T13:37:04.706589Z"
    }
   },
   "outputs": [
    {
     "data": {
      "text/plain": [
       "'서해안에도 어제(31일) 오후부터 100밀리미터 넘는 많은 양의 비가 내렸다고 하는데요. 강화도에 나가 있는 취재기자 연결합니다.김재현 기자, 지금도 계속 비가 내리고 있습니까?네, 이곳은 비가 내렸다 그쳤다를 반복하고 있습니다.방금 전부터 빗방물이 조금씩 떨어지고 있는데요, 이곳 강화도에선 어제 오후 6시부터 오늘 낮까지도 120밀리미터 넘는 비가 내렸습니다.현재 이곳 강화도를 비롯해 인천 전역엔 호우주의보가 내려졌습니다.인천시는 아직까지 침수 피해가 접수된 곳은 없다고 밝혔습니다.서해안과 경기 지역에선 밤사이 비가 많이 올 거란 예보가 있는데요?서울과 경기, 강원영서 지방에도 마찬가지로 호우 주의보가 내려진 상태입니다.경기도 연천과 파주에는 호우경보가 내렸다가 오후 4시 반쯤 주의보 단계로 내려갔습니다.경기도에선 임진강 최북단 필승교 수위가 행락객 대피 기준인 1미터를 넘자, 주의를 당부하는 재난 문자를 보내기도 했습니다.충남과 전북에도 여전히 호우 특보가 내려진 상태입니다.전남 구례에선 어제 계곡에서 피서객을 구하던 순천소방서 구조대원과 피서객이 숨지기도 했는데요.구조 작업을 하다 숨진 대원은 몸에 묶고 있던 안전줄이 끊어지면서 계곡물에 휩쓸린 걸로 알려졌습니다.'"
      ]
     },
     "execution_count": 63,
     "metadata": {},
     "output_type": "execute_result"
    }
   ],
   "source": [
    "cleaned_jtbc.cleaned_description[1]"
   ]
  },
  {
   "cell_type": "code",
   "execution_count": 64,
   "metadata": {
    "ExecuteTime": {
     "end_time": "2020-08-20T13:37:05.157322Z",
     "start_time": "2020-08-20T13:37:04.859509Z"
    }
   },
   "outputs": [],
   "source": [
    "cleaned_jtbc.to_csv('youtube_crawling_0801_0807/cleaned_csv_file/cleaned_jtbc_0801_0807.csv')"
   ]
  },
  {
   "cell_type": "code",
   "execution_count": null,
   "metadata": {},
   "outputs": [],
   "source": []
  }
 ],
 "metadata": {
  "kernelspec": {
   "display_name": "Python 3",
   "language": "python",
   "name": "python3"
  },
  "language_info": {
   "codemirror_mode": {
    "name": "ipython",
    "version": 3
   },
   "file_extension": ".py",
   "mimetype": "text/x-python",
   "name": "python",
   "nbconvert_exporter": "python",
   "pygments_lexer": "ipython3",
   "version": "3.7.7"
  },
  "varInspector": {
   "cols": {
    "lenName": 16,
    "lenType": 16,
    "lenVar": 40
   },
   "kernels_config": {
    "python": {
     "delete_cmd_postfix": "",
     "delete_cmd_prefix": "del ",
     "library": "var_list.py",
     "varRefreshCmd": "print(var_dic_list())"
    },
    "r": {
     "delete_cmd_postfix": ") ",
     "delete_cmd_prefix": "rm(",
     "library": "var_list.r",
     "varRefreshCmd": "cat(var_dic_list()) "
    }
   },
   "types_to_exclude": [
    "module",
    "function",
    "builtin_function_or_method",
    "instance",
    "_Feature"
   ],
   "window_display": false
  }
 },
 "nbformat": 4,
 "nbformat_minor": 4
}
