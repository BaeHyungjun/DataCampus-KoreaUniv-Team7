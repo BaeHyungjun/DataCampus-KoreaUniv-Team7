{
 "cells": [
  {
   "cell_type": "markdown",
   "metadata": {},
   "source": [
    "- cleaning 완료한 데이터는 news_cleaned.db에 저장함\n",
    "- **2020.08.11 cleaning 업데이트 -> 같은 이름의 db에 다시 저장**\n",
    "- 전처리 중간과정을 진행할 때는 import, 한글깨짐 부분 실행하고 바로 해당 전처리 부분으로 넘어가서 db 가져오면 됨"
   ]
  },
  {
   "cell_type": "code",
   "execution_count": 1,
   "metadata": {},
   "outputs": [],
   "source": [
    "import sqlite3\n",
    "import pandas as pd\n",
    "import numpy as np\n",
    "import re\n",
    "from konlpy.tag import Kkma, Hannanum, Komoran, Okt\n",
    "from nltk import Text\n",
    "import matplotlib.pyplot as plt\n",
    "import matplotlib as mpl\n",
    "from nltk.tokenize import sent_tokenize, regexp_tokenize\n",
    "import seaborn as sns\n",
    "from collections import Counter\n",
    "import datetime\n",
    "import pickle"
   ]
  },
  {
   "cell_type": "code",
   "execution_count": 2,
   "metadata": {},
   "outputs": [],
   "source": [
    "# 한글깨짐 해결\n",
    "plt.rcParams[\"font.family\"] = \"Malgun Gothic\"\n",
    "plt.rcParams[\"font.size\"] = 12\n",
    "plt.rcParams[\"figure.figsize\"] = (14,4)\n",
    "\n",
    "# 마이너스 깨짐 해결\n",
    "mpl.rcParams['axes.unicode_minus'] = False"
   ]
  },
  {
   "cell_type": "markdown",
   "metadata": {},
   "source": [
    "# Data Cleaning"
   ]
  },
  {
   "cell_type": "markdown",
   "metadata": {},
   "source": [
    "## Data Load (raw)"
   ]
  },
  {
   "cell_type": "code",
   "execution_count": 9,
   "metadata": {},
   "outputs": [],
   "source": [
    "conn = sqlite3.connect('../../../data/news_raw.db')\n",
    "cur = conn.cursor()"
   ]
  },
  {
   "cell_type": "code",
   "execution_count": 10,
   "metadata": {},
   "outputs": [
    {
     "data": {
      "text/plain": [
       "(112466, 6)"
      ]
     },
     "execution_count": 10,
     "metadata": {},
     "output_type": "execute_result"
    }
   ],
   "source": [
    "query = cur.execute('SELECT * FROM navernews')\n",
    "cols = [column[0] for column in query.description]\n",
    "naver = pd.DataFrame.from_records(data=query.fetchall(), columns=cols)\n",
    "naver.shape"
   ]
  },
  {
   "cell_type": "code",
   "execution_count": 11,
   "metadata": {},
   "outputs": [
    {
     "data": {
      "text/plain": [
       "(109419, 6)"
      ]
     },
     "execution_count": 11,
     "metadata": {},
     "output_type": "execute_result"
    }
   ],
   "source": [
    "query = cur.execute('SELECT * FROM daumnews')\n",
    "cols = [column[0] for column in query.description]\n",
    "daum = pd.DataFrame.from_records(data=query.fetchall(), columns=cols)\n",
    "daum.shape"
   ]
  },
  {
   "cell_type": "code",
   "execution_count": 12,
   "metadata": {},
   "outputs": [
    {
     "data": {
      "text/html": [
       "<div>\n",
       "<style scoped>\n",
       "    .dataframe tbody tr th:only-of-type {\n",
       "        vertical-align: middle;\n",
       "    }\n",
       "\n",
       "    .dataframe tbody tr th {\n",
       "        vertical-align: top;\n",
       "    }\n",
       "\n",
       "    .dataframe thead th {\n",
       "        text-align: right;\n",
       "    }\n",
       "</style>\n",
       "<table border=\"1\" class=\"dataframe\">\n",
       "  <thead>\n",
       "    <tr style=\"text-align: right;\">\n",
       "      <th></th>\n",
       "      <th>id</th>\n",
       "      <th>title</th>\n",
       "      <th>date</th>\n",
       "      <th>body</th>\n",
       "      <th>summary</th>\n",
       "      <th>link</th>\n",
       "    </tr>\n",
       "  </thead>\n",
       "  <tbody>\n",
       "    <tr>\n",
       "      <th>0</th>\n",
       "      <td>1</td>\n",
       "      <td>이총리 \"폭염, 특별재난 준해…전기요금 제한적 특별배려 검토\"</td>\n",
       "      <td>2018.07.31. 오전 11:53</td>\n",
       "      <td>[연합뉴스TV 제공]국무회의 주재…체계적 폭염대책 주문\"최저임금 명암…변화 수용하되...</td>\n",
       "      <td>이낙연 국무총리는 31일 계속되는 폭염으로 전기요금 부담에 대한 우려가 커지고 있는...</td>\n",
       "      <td>https://news.naver.com/main/ranking/read.nhn?r...</td>\n",
       "    </tr>\n",
       "    <tr>\n",
       "      <th>1</th>\n",
       "      <td>2</td>\n",
       "      <td>김성태 \"盧 탄핵때도 기무사 대응문건 의혹…즉시 제출하라\"</td>\n",
       "      <td>2018.07.31. 오전 10:25</td>\n",
       "      <td>\"文대통령, 여름휴가 때 노동자·소상공인 생각하길\"김성태 자유한국당 원내대표. 뉴스...</td>\n",
       "      <td>김성태 자유한국당 원내대표는 31일 \"지난 2004년 노무현 전 대통령 탄핵 당시 ...</td>\n",
       "      <td>https://news.naver.com/main/ranking/read.nhn?r...</td>\n",
       "    </tr>\n",
       "    <tr>\n",
       "      <th>2</th>\n",
       "      <td>3</td>\n",
       "      <td>합참, 北 ICBM 제작 정황 보도에 \"면밀히 추적·감시중\"</td>\n",
       "      <td>2018.07.31. 오전 11:29</td>\n",
       "      <td>노재천 공보실장 \"공식확인 부적절…한미간 공조\"워싱턴포스트 \"액화연료 사용 ICBM...</td>\n",
       "      <td>합동참모본부는 31일 북한이 대륙간탄도미사일을 만들고 있는 정황을 포착했다는 보도와...</td>\n",
       "      <td>https://news.naver.com/main/ranking/read.nhn?r...</td>\n",
       "    </tr>\n",
       "    <tr>\n",
       "      <th>3</th>\n",
       "      <td>4</td>\n",
       "      <td>기무사 \"盧 대통령 탄핵 당시 계엄검토 문건 작성 안해\"</td>\n",
       "      <td>2018.07.31. 오후 2:43</td>\n",
       "      <td>김성태 의원 주장에 반박…지난 정부에서도 관련 내용 확인【과천=뉴시스】이영환 기자 ...</td>\n",
       "      <td>국군기무사령부는 31일 노무현 전 대통령 탄핵 당시 계엄령 문건을 작성했다는 김성태...</td>\n",
       "      <td>https://news.naver.com/main/ranking/read.nhn?r...</td>\n",
       "    </tr>\n",
       "    <tr>\n",
       "      <th>4</th>\n",
       "      <td>5</td>\n",
       "      <td>'종전문제 다룰까' 北, 이례적 회담 제의 이어 전향적 태도 보여</td>\n",
       "      <td>2018.07.31. 오후 12:55</td>\n",
       "      <td>안익산 대표 \"南 흔들어 종전선언? 보도, 그럴 수 있다\" 이해【파주=뉴시스】사진공...</td>\n",
       "      <td>북한이 이례적으로 남북 장성급 군사회담을 먼저 제의한데 이어 회담에서 전향적인 태도...</td>\n",
       "      <td>https://news.naver.com/main/ranking/read.nhn?r...</td>\n",
       "    </tr>\n",
       "  </tbody>\n",
       "</table>\n",
       "</div>"
      ],
      "text/plain": [
       "   id                                 title                  date  \\\n",
       "0   1    이총리 \"폭염, 특별재난 준해…전기요금 제한적 특별배려 검토\"  2018.07.31. 오전 11:53   \n",
       "1   2      김성태 \"盧 탄핵때도 기무사 대응문건 의혹…즉시 제출하라\"  2018.07.31. 오전 10:25   \n",
       "2   3     합참, 北 ICBM 제작 정황 보도에 \"면밀히 추적·감시중\"  2018.07.31. 오전 11:29   \n",
       "3   4       기무사 \"盧 대통령 탄핵 당시 계엄검토 문건 작성 안해\"   2018.07.31. 오후 2:43   \n",
       "4   5  '종전문제 다룰까' 北, 이례적 회담 제의 이어 전향적 태도 보여  2018.07.31. 오후 12:55   \n",
       "\n",
       "                                                body  \\\n",
       "0  [연합뉴스TV 제공]국무회의 주재…체계적 폭염대책 주문\"최저임금 명암…변화 수용하되...   \n",
       "1  \"文대통령, 여름휴가 때 노동자·소상공인 생각하길\"김성태 자유한국당 원내대표. 뉴스...   \n",
       "2  노재천 공보실장 \"공식확인 부적절…한미간 공조\"워싱턴포스트 \"액화연료 사용 ICBM...   \n",
       "3  김성태 의원 주장에 반박…지난 정부에서도 관련 내용 확인【과천=뉴시스】이영환 기자 ...   \n",
       "4  안익산 대표 \"南 흔들어 종전선언? 보도, 그럴 수 있다\" 이해【파주=뉴시스】사진공...   \n",
       "\n",
       "                                             summary  \\\n",
       "0  이낙연 국무총리는 31일 계속되는 폭염으로 전기요금 부담에 대한 우려가 커지고 있는...   \n",
       "1  김성태 자유한국당 원내대표는 31일 \"지난 2004년 노무현 전 대통령 탄핵 당시 ...   \n",
       "2  합동참모본부는 31일 북한이 대륙간탄도미사일을 만들고 있는 정황을 포착했다는 보도와...   \n",
       "3  국군기무사령부는 31일 노무현 전 대통령 탄핵 당시 계엄령 문건을 작성했다는 김성태...   \n",
       "4  북한이 이례적으로 남북 장성급 군사회담을 먼저 제의한데 이어 회담에서 전향적인 태도...   \n",
       "\n",
       "                                                link  \n",
       "0  https://news.naver.com/main/ranking/read.nhn?r...  \n",
       "1  https://news.naver.com/main/ranking/read.nhn?r...  \n",
       "2  https://news.naver.com/main/ranking/read.nhn?r...  \n",
       "3  https://news.naver.com/main/ranking/read.nhn?r...  \n",
       "4  https://news.naver.com/main/ranking/read.nhn?r...  "
      ]
     },
     "execution_count": 12,
     "metadata": {},
     "output_type": "execute_result"
    }
   ],
   "source": [
    "naver.head()"
   ]
  },
  {
   "cell_type": "code",
   "execution_count": 13,
   "metadata": {},
   "outputs": [
    {
     "data": {
      "text/html": [
       "<div>\n",
       "<style scoped>\n",
       "    .dataframe tbody tr th:only-of-type {\n",
       "        vertical-align: middle;\n",
       "    }\n",
       "\n",
       "    .dataframe tbody tr th {\n",
       "        vertical-align: top;\n",
       "    }\n",
       "\n",
       "    .dataframe thead th {\n",
       "        text-align: right;\n",
       "    }\n",
       "</style>\n",
       "<table border=\"1\" class=\"dataframe\">\n",
       "  <thead>\n",
       "    <tr style=\"text-align: right;\">\n",
       "      <th></th>\n",
       "      <th>id</th>\n",
       "      <th>title</th>\n",
       "      <th>date</th>\n",
       "      <th>body</th>\n",
       "      <th>summary</th>\n",
       "      <th>link</th>\n",
       "    </tr>\n",
       "  </thead>\n",
       "  <tbody>\n",
       "    <tr>\n",
       "      <th>0</th>\n",
       "      <td>1</td>\n",
       "      <td>반복된 음식점 단속에 절망한 26살 청년의 '극단적 선택'</td>\n",
       "      <td>2017.08.01. 09:00</td>\n",
       "      <td>\"벌금과 단속 걱정하던 아들, 장사 준비하던 현수막으로 목 메 숨져\"결혼까지 미루고...</td>\n",
       "      <td>26살 황승우씨는 지난 30일 오전 경기 남양주시 조안면 막국수집 주방에서 목을 메...</td>\n",
       "      <td>https://v.daum.net/v/20170801090037914</td>\n",
       "    </tr>\n",
       "    <tr>\n",
       "      <th>1</th>\n",
       "      <td>2</td>\n",
       "      <td>'즉석만남에 술 한잔 했는데'..휴가철 성범죄 표적된 여성들</td>\n",
       "      <td>2017.08.01. 15:59</td>\n",
       "      <td>#1. 20대 여성 A씨는 지난해 7월 서해 한 해수욕장에 놀러갔다가 우연히 30대...</td>\n",
       "      <td>본격적인 여름 휴가철을 맞아 해수욕장, 계곡과 같은 피서지에 인파가 몰리면서 성범죄...</td>\n",
       "      <td>https://v.daum.net/v/20170801155924346</td>\n",
       "    </tr>\n",
       "    <tr>\n",
       "      <th>2</th>\n",
       "      <td>3</td>\n",
       "      <td>필리핀서 한국인 관광객 숨진채 발견..\"카지노서 거액 잃어\"</td>\n",
       "      <td>2017.08.01. 18:41</td>\n",
       "      <td>(하노이=연합뉴스) 김문성 특파원 = 필리핀에서 30대 한국인 관광객이 숨진 채 발...</td>\n",
       "      <td>필리핀에서 30대 한국인 관광객이 숨진 채 발견됐다.\\n현지 경찰은 이 한국인이 카...</td>\n",
       "      <td>https://v.daum.net/v/20170801184128126</td>\n",
       "    </tr>\n",
       "    <tr>\n",
       "      <th>3</th>\n",
       "      <td>4</td>\n",
       "      <td>\"부인이 공관병 상대 갑질\" 논란 박찬주 육군대장 전역지원(종합)</td>\n",
       "      <td>2017.08.01. 18:50</td>\n",
       "      <td>\\n(서울=연합뉴스) 김귀근 이영재 기자 = 공관병에 대한 부인의 '갑질' 의혹을 ...</td>\n",
       "      <td>공관병에 대한 부인의 '갑질' 의혹을 받고 있는 박찬주 육군 2작전사령관(대장)이 ...</td>\n",
       "      <td>https://v.daum.net/v/20170801185020317</td>\n",
       "    </tr>\n",
       "    <tr>\n",
       "      <th>4</th>\n",
       "      <td>5</td>\n",
       "      <td>화장실에 몰카 설치해 딸 친구 '찰칵' 목사 입건</td>\n",
       "      <td>2017.08.01. 07:45</td>\n",
       "      <td>(청주=연합뉴스) 이승민 기자 = 청주 흥덕경찰서는 화장실에 '몰래카메라'를 설치해...</td>\n",
       "      <td>경찰에 따르면 A씨는 지난달 29일 오후 3시 25분께 흥덕구의 자신의 집 화장실 ...</td>\n",
       "      <td>https://v.daum.net/v/20170801074552385</td>\n",
       "    </tr>\n",
       "  </tbody>\n",
       "</table>\n",
       "</div>"
      ],
      "text/plain": [
       "   id                                 title               date  \\\n",
       "0   1      반복된 음식점 단속에 절망한 26살 청년의 '극단적 선택'  2017.08.01. 09:00   \n",
       "1   2     '즉석만남에 술 한잔 했는데'..휴가철 성범죄 표적된 여성들  2017.08.01. 15:59   \n",
       "2   3     필리핀서 한국인 관광객 숨진채 발견..\"카지노서 거액 잃어\"  2017.08.01. 18:41   \n",
       "3   4  \"부인이 공관병 상대 갑질\" 논란 박찬주 육군대장 전역지원(종합)  2017.08.01. 18:50   \n",
       "4   5           화장실에 몰카 설치해 딸 친구 '찰칵' 목사 입건  2017.08.01. 07:45   \n",
       "\n",
       "                                                body  \\\n",
       "0  \"벌금과 단속 걱정하던 아들, 장사 준비하던 현수막으로 목 메 숨져\"결혼까지 미루고...   \n",
       "1  #1. 20대 여성 A씨는 지난해 7월 서해 한 해수욕장에 놀러갔다가 우연히 30대...   \n",
       "2  (하노이=연합뉴스) 김문성 특파원 = 필리핀에서 30대 한국인 관광객이 숨진 채 발...   \n",
       "3  \\n(서울=연합뉴스) 김귀근 이영재 기자 = 공관병에 대한 부인의 '갑질' 의혹을 ...   \n",
       "4  (청주=연합뉴스) 이승민 기자 = 청주 흥덕경찰서는 화장실에 '몰래카메라'를 설치해...   \n",
       "\n",
       "                                             summary  \\\n",
       "0  26살 황승우씨는 지난 30일 오전 경기 남양주시 조안면 막국수집 주방에서 목을 메...   \n",
       "1  본격적인 여름 휴가철을 맞아 해수욕장, 계곡과 같은 피서지에 인파가 몰리면서 성범죄...   \n",
       "2  필리핀에서 30대 한국인 관광객이 숨진 채 발견됐다.\\n현지 경찰은 이 한국인이 카...   \n",
       "3  공관병에 대한 부인의 '갑질' 의혹을 받고 있는 박찬주 육군 2작전사령관(대장)이 ...   \n",
       "4  경찰에 따르면 A씨는 지난달 29일 오후 3시 25분께 흥덕구의 자신의 집 화장실 ...   \n",
       "\n",
       "                                     link  \n",
       "0  https://v.daum.net/v/20170801090037914  \n",
       "1  https://v.daum.net/v/20170801155924346  \n",
       "2  https://v.daum.net/v/20170801184128126  \n",
       "3  https://v.daum.net/v/20170801185020317  \n",
       "4  https://v.daum.net/v/20170801074552385  "
      ]
     },
     "execution_count": 13,
     "metadata": {},
     "output_type": "execute_result"
    }
   ],
   "source": [
    "daum.head()"
   ]
  },
  {
   "cell_type": "code",
   "execution_count": 14,
   "metadata": {},
   "outputs": [],
   "source": [
    "cur.close()\n",
    "conn.close()"
   ]
  },
  {
   "cell_type": "markdown",
   "metadata": {},
   "source": [
    "## body"
   ]
  },
  {
   "cell_type": "code",
   "execution_count": 198,
   "metadata": {},
   "outputs": [],
   "source": [
    "naver_copy = naver.copy()\n",
    "daum_copy = daum.copy()"
   ]
  },
  {
   "cell_type": "code",
   "execution_count": 196,
   "metadata": {},
   "outputs": [],
   "source": [
    "def cleaning_body(row):\n",
    "    '''\n",
    "    1. 여러 개의 공백 하나로 줄이기\n",
    "    2. 특수문자 대체\n",
    "    3. 일부 특수 문자, 띄어쓰기, 영어, 한글 등을 제외하고 모두 제거 (ex. 한자)\n",
    "    4. 언론사명, 기자명 제거\n",
    "    5. 기자이메일, 각종 계정 제거\n",
    "    6. 음성정보 제공용 텍스트 안내문구 제거\n",
    "    '''\n",
    "    \n",
    "    # 1. 여러 개의 공백 하나로 줄이기\n",
    "    result = re.sub(r'\\s+',\n",
    "                   ' ', row).strip()\n",
    "    \n",
    "    # 2. 특수문자 대체\n",
    "    result = re.sub(r'＂', '\"', result)\n",
    "    result = re.sub(r'，', ',', result)\n",
    "    result = re.sub(r'∙', '·', result)\n",
    "    result = re.sub(r'½', '2분의 1', result)\n",
    "    result = re.sub(r'‘”', '\\'\"', result)\n",
    "    result = re.sub(r'㎜', 'mm', result)\n",
    "    result = re.sub(r'㎢', '제곱킬로미터', result)\n",
    "    result = re.sub(r'……', '··· ···', result)\n",
    "    result = re.sub(r'’”', '\\'\"', result)\n",
    "    result = re.sub(r'[○ㅇ]', 'ㅇ', result)\n",
    "    result = re.sub(r'＊', '*', result)\n",
    "    result = re.sub(r'⋯‘', \"···'\", result)\n",
    "    result = re.sub(r'…', '···', result)\n",
    "    result = re.sub(r'㎚', 'nm', result)\n",
    "    result = re.sub(r'…’', \"···'\", result)\n",
    "    result = re.sub(r'＆', '&', result)\n",
    "    result = re.sub(r'“', '\"', result)\n",
    "    result = re.sub(r'”', '\"', result).strip()\n",
    "    \n",
    "    # 3. 일부 특수문자(.,?!/@$%~％·∼()【】©), 띄어쓰기, ASCII 문자(\\x00-\\x7F), 한글(가-힣)) 제외하고 제거\n",
    "    result = re.sub(r'[^ .,?!/@$%~％·∼()【】©\\x00-\\x7F가-힣]+',\n",
    "                   '', result).strip()\n",
    "    \n",
    "    # 4. 언론사명, 기자명 제거\n",
    "        # = 이 있는 경우\n",
    "    result = re.sub(r'[\\[\\(【][가-힣A-Za-z0-9\\s,\\(\\)/·!]+=[가-힣A-Za-z0-9\\s,\\(\\)/·]+[\\]\\)】]\\s?([가-힣A-Za-z\\s]+=)*',\n",
    "                   '', result).strip()\n",
    "        # = 이 없는 경우 본문의 중요 정보가 사라지지 않도록 ()는 match에서 제외\n",
    "    result = re.sub(r'[\\[【][가-힣A-Za-z0-9\\s,\\(\\)/·:|!]+[\\]】]\\s?([가-힣A-Za-z\\s]+=)*',\n",
    "                   '', result).strip()\n",
    "    result = re.sub(r'[가-힣A-Za-z0-9\\s,\\(\\)/·:|]*©[가-힣A-Za-z0-9\\s,\\(\\)/·:|]+기자',\n",
    "                   '', result).strip()\n",
    "    result = re.sub(r'\\(베스트 일레븐\\)',\n",
    "                   '', result).strip()\n",
    "    \n",
    "    # 5. 기자이메일, 각종 계정 제거\n",
    "    result = re.sub(r'([A-Za-z가-힣]+\\s?기자)?\\s?[A-Za-z0-9]+@([A-Za-z0-9.]+\\s*[A-Za-z가-힣 ]*)?',\n",
    "                   '', result).strip()\n",
    "    \n",
    "    # 6. 음성정보 제공용 텍스트 안내문구 제거\n",
    "    result = re.sub(r'<<[가-힣A-Za-z0-9 ]+>>',\n",
    "                    '', result).strip()\n",
    "    return result"
   ]
  },
  {
   "cell_type": "code",
   "execution_count": 199,
   "metadata": {},
   "outputs": [],
   "source": [
    "n_body_cleaned = naver_copy.body.apply(cleaning_body)\n",
    "d_body_cleaned = daum_copy.body.apply(cleaning_body)"
   ]
  },
  {
   "cell_type": "code",
   "execution_count": 200,
   "metadata": {},
   "outputs": [],
   "source": [
    "naver_copy.body = n_body_cleaned\n",
    "daum_copy.body = d_body_cleaned"
   ]
  },
  {
   "cell_type": "markdown",
   "metadata": {},
   "source": [
    "body 없는 행 제거"
   ]
  },
  {
   "cell_type": "code",
   "execution_count": 201,
   "metadata": {},
   "outputs": [
    {
     "data": {
      "text/plain": [
       "(12, 214)"
      ]
     },
     "execution_count": 201,
     "metadata": {},
     "output_type": "execute_result"
    }
   ],
   "source": [
    "n_blank_idx = []\n",
    "for i in range(len(naver_copy)):\n",
    "    if naver_copy.loc[i, 'body'] == '':\n",
    "        n_blank_idx.append(i)\n",
    "        \n",
    "d_blank_idx = []\n",
    "for i in range(len(daum_copy)):\n",
    "    if daum_copy.loc[i, 'body'] == '':\n",
    "        d_blank_idx.append(i)\n",
    "\n",
    "len(n_blank_idx), len(d_blank_idx)"
   ]
  },
  {
   "cell_type": "code",
   "execution_count": 202,
   "metadata": {},
   "outputs": [
    {
     "name": "stdout",
     "output_type": "stream",
     "text": [
      "(112466, 6)\n",
      "(112454, 6)\n"
     ]
    }
   ],
   "source": [
    "print(naver_copy.shape)\n",
    "naver_copy.drop(index=n_blank_idx, inplace=True)\n",
    "print(naver_copy.shape)"
   ]
  },
  {
   "cell_type": "code",
   "execution_count": 203,
   "metadata": {},
   "outputs": [
    {
     "name": "stdout",
     "output_type": "stream",
     "text": [
      "(109419, 6)\n",
      "(109205, 6)\n"
     ]
    }
   ],
   "source": [
    "print(daum_copy.shape)\n",
    "daum_copy.drop(index=d_blank_idx, inplace=True)\n",
    "print(daum_copy.shape)"
   ]
  },
  {
   "cell_type": "markdown",
   "metadata": {},
   "source": [
    "## summary"
   ]
  },
  {
   "cell_type": "code",
   "execution_count": 197,
   "metadata": {},
   "outputs": [],
   "source": [
    "def cleaning_summary(row):\n",
    "    '''\n",
    "    1. 여러 개의 공백 하나로 줄이기\n",
    "    2. 특수문자 대체\n",
    "    3. 일부 특수 문자, 띄어쓰기, 영어, 한글 등을 제외하고 모두 제거 (ex. 한자)\n",
    "    '''\n",
    "    # 1. 여러 개의 공백 하나로 줄이기\n",
    "    result = re.sub(r'\\s+',\n",
    "                   ' ', row).strip()\n",
    "    \n",
    "    # 2. 특수문자 대체\n",
    "    result = re.sub(r'＂', '\"', result)\n",
    "    result = re.sub(r'，', ',', result)\n",
    "    result = re.sub(r'∙', '·', result)\n",
    "    result = re.sub(r'½', '2분의 1', result)\n",
    "    result = re.sub(r'‘”', '\\'\"', result)\n",
    "    result = re.sub(r'㎜', 'mm', result)\n",
    "    result = re.sub(r'㎢', '제곱킬로미터', result)\n",
    "    result = re.sub(r'……', '··· ···', result)\n",
    "    result = re.sub(r'’”', '\\'\"', result)\n",
    "    result = re.sub(r'[○ㅇ]', 'ㅇ', result)\n",
    "    result = re.sub(r'＊', '*', result)\n",
    "    result = re.sub(r'⋯‘', \"···'\", result)\n",
    "    result = re.sub(r'…', '···', result)\n",
    "    result = re.sub(r'㎚', 'nm', result)\n",
    "    result = re.sub(r'…’', \"···'\", result)\n",
    "    result = re.sub(r'＆', '&', result)\n",
    "    result = re.sub(r'“', '\"', result)\n",
    "    result = re.sub(r'”', '\"', result).strip()\n",
    "    \n",
    "    # 3. 일부 특수문자(.,?!/@$%~％·∼()), 띄어쓰기, ASCII 문자(\\x00-\\x7F), 한글(가-힣)) 제외하고 제거\n",
    "    result = re.sub(r'[^ .,?!/@$%~％·∼()\\x00-\\x7F가-힣]+',\n",
    "                   '', result).strip()\n",
    "    return result    "
   ]
  },
  {
   "cell_type": "code",
   "execution_count": 204,
   "metadata": {},
   "outputs": [],
   "source": [
    "n_summ_cleaned = naver_copy.summary.apply(cleaning_summary)\n",
    "d_summ_cleaned = daum_copy.summary.apply(cleaning_summary)"
   ]
  },
  {
   "cell_type": "code",
   "execution_count": 205,
   "metadata": {},
   "outputs": [],
   "source": [
    "naver_copy.summary = n_summ_cleaned\n",
    "daum_copy.summary = d_summ_cleaned"
   ]
  },
  {
   "cell_type": "markdown",
   "metadata": {},
   "source": [
    "## DB에 저장 (cleaned)"
   ]
  },
  {
   "cell_type": "code",
   "execution_count": 210,
   "metadata": {},
   "outputs": [],
   "source": [
    "conn = sqlite3.connect('../../../data/news_cleaned.db')\n",
    "cur = conn.cursor()"
   ]
  },
  {
   "cell_type": "code",
   "execution_count": 211,
   "metadata": {},
   "outputs": [],
   "source": [
    "naver_copy.to_sql('navernews', conn, index=False)\n",
    "daum_copy.to_sql('daumnews', conn, index=False)"
   ]
  },
  {
   "cell_type": "code",
   "execution_count": 212,
   "metadata": {},
   "outputs": [],
   "source": [
    "cur.close()\n",
    "conn.close()"
   ]
  },
  {
   "cell_type": "markdown",
   "metadata": {},
   "source": [
    "# Tokenizing & Lematization"
   ]
  },
  {
   "cell_type": "markdown",
   "metadata": {},
   "source": [
    "## Data Load (cleaned)"
   ]
  },
  {
   "cell_type": "code",
   "execution_count": 15,
   "metadata": {},
   "outputs": [],
   "source": [
    "conn = sqlite3.connect('../../../data/news_cleaned.db')\n",
    "cur = conn.cursor()"
   ]
  },
  {
   "cell_type": "code",
   "execution_count": 4,
   "metadata": {},
   "outputs": [
    {
     "data": {
      "text/plain": [
       "(112454, 6)"
      ]
     },
     "execution_count": 4,
     "metadata": {},
     "output_type": "execute_result"
    }
   ],
   "source": [
    "query = cur.execute('SELECT * FROM navernews')\n",
    "cols = [column[0] for column in query.description]\n",
    "naver_cleaned = pd.DataFrame.from_records(data=query.fetchall(), columns=cols)\n",
    "naver_cleaned.shape"
   ]
  },
  {
   "cell_type": "code",
   "execution_count": 16,
   "metadata": {},
   "outputs": [
    {
     "data": {
      "text/plain": [
       "(109205, 6)"
      ]
     },
     "execution_count": 16,
     "metadata": {},
     "output_type": "execute_result"
    }
   ],
   "source": [
    "query = cur.execute('SELECT * FROM daumnews')\n",
    "cols = [column[0] for column in query.description]\n",
    "daum_cleaned = pd.DataFrame.from_records(data=query.fetchall(), columns=cols)\n",
    "daum_cleaned.shape"
   ]
  },
  {
   "cell_type": "code",
   "execution_count": 6,
   "metadata": {},
   "outputs": [
    {
     "data": {
      "text/html": [
       "<div>\n",
       "<style scoped>\n",
       "    .dataframe tbody tr th:only-of-type {\n",
       "        vertical-align: middle;\n",
       "    }\n",
       "\n",
       "    .dataframe tbody tr th {\n",
       "        vertical-align: top;\n",
       "    }\n",
       "\n",
       "    .dataframe thead th {\n",
       "        text-align: right;\n",
       "    }\n",
       "</style>\n",
       "<table border=\"1\" class=\"dataframe\">\n",
       "  <thead>\n",
       "    <tr style=\"text-align: right;\">\n",
       "      <th></th>\n",
       "      <th>id</th>\n",
       "      <th>title</th>\n",
       "      <th>date</th>\n",
       "      <th>body</th>\n",
       "      <th>summary</th>\n",
       "      <th>link</th>\n",
       "    </tr>\n",
       "  </thead>\n",
       "  <tbody>\n",
       "    <tr>\n",
       "      <th>0</th>\n",
       "      <td>1</td>\n",
       "      <td>이총리 \"폭염, 특별재난 준해…전기요금 제한적 특별배려 검토\"</td>\n",
       "      <td>2018.07.31. 오전 11:53</td>\n",
       "      <td>국무회의 주재···체계적 폭염대책 주문\"최저임금 명암···변화 수용하되 진통 최소화...</td>\n",
       "      <td>이낙연 국무총리는 31일 계속되는 폭염으로 전기요금 부담에 대한 우려가 커지고 있는...</td>\n",
       "      <td>https://news.naver.com/main/ranking/read.nhn?r...</td>\n",
       "    </tr>\n",
       "    <tr>\n",
       "      <th>1</th>\n",
       "      <td>2</td>\n",
       "      <td>김성태 \"盧 탄핵때도 기무사 대응문건 의혹…즉시 제출하라\"</td>\n",
       "      <td>2018.07.31. 오전 10:25</td>\n",
       "      <td>\"대통령, 여름휴가 때 노동자·소상공인 생각하길\"김성태 자유한국당 원내대표. = 김...</td>\n",
       "      <td>김성태 자유한국당 원내대표는 31일 \"지난 2004년 노무현 전 대통령 탄핵 당시 ...</td>\n",
       "      <td>https://news.naver.com/main/ranking/read.nhn?r...</td>\n",
       "    </tr>\n",
       "    <tr>\n",
       "      <th>2</th>\n",
       "      <td>3</td>\n",
       "      <td>합참, 北 ICBM 제작 정황 보도에 \"면밀히 추적·감시중\"</td>\n",
       "      <td>2018.07.31. 오전 11:29</td>\n",
       "      <td>노재천 공보실장 \"공식확인 부적절···한미간 공조\"워싱턴포스트 \"액화연료 사용 IC...</td>\n",
       "      <td>합동참모본부는 31일 북한이 대륙간탄도미사일을 만들고 있는 정황을 포착했다는 보도와...</td>\n",
       "      <td>https://news.naver.com/main/ranking/read.nhn?r...</td>\n",
       "    </tr>\n",
       "    <tr>\n",
       "      <th>3</th>\n",
       "      <td>4</td>\n",
       "      <td>기무사 \"盧 대통령 탄핵 당시 계엄검토 문건 작성 안해\"</td>\n",
       "      <td>2018.07.31. 오후 2:43</td>\n",
       "      <td>김성태 의원 주장에 반박···지난 정부에서도 관련 내용 확인 국방부 특별수사단이 계...</td>\n",
       "      <td>국군기무사령부는 31일 노무현 전 대통령 탄핵 당시 계엄령 문건을 작성했다는 김성태...</td>\n",
       "      <td>https://news.naver.com/main/ranking/read.nhn?r...</td>\n",
       "    </tr>\n",
       "    <tr>\n",
       "      <th>4</th>\n",
       "      <td>5</td>\n",
       "      <td>'종전문제 다룰까' 北, 이례적 회담 제의 이어 전향적 태도 보여</td>\n",
       "      <td>2018.07.31. 오후 12:55</td>\n",
       "      <td>안익산 대표 \" 흔들어 종전선언? 보도, 그럴 수 있다\" 이해 안익산 북측 수석대표...</td>\n",
       "      <td>북한이 이례적으로 남북 장성급 군사회담을 먼저 제의한데 이어 회담에서 전향적인 태도...</td>\n",
       "      <td>https://news.naver.com/main/ranking/read.nhn?r...</td>\n",
       "    </tr>\n",
       "  </tbody>\n",
       "</table>\n",
       "</div>"
      ],
      "text/plain": [
       "   id                                 title                  date  \\\n",
       "0   1    이총리 \"폭염, 특별재난 준해…전기요금 제한적 특별배려 검토\"  2018.07.31. 오전 11:53   \n",
       "1   2      김성태 \"盧 탄핵때도 기무사 대응문건 의혹…즉시 제출하라\"  2018.07.31. 오전 10:25   \n",
       "2   3     합참, 北 ICBM 제작 정황 보도에 \"면밀히 추적·감시중\"  2018.07.31. 오전 11:29   \n",
       "3   4       기무사 \"盧 대통령 탄핵 당시 계엄검토 문건 작성 안해\"   2018.07.31. 오후 2:43   \n",
       "4   5  '종전문제 다룰까' 北, 이례적 회담 제의 이어 전향적 태도 보여  2018.07.31. 오후 12:55   \n",
       "\n",
       "                                                body  \\\n",
       "0  국무회의 주재···체계적 폭염대책 주문\"최저임금 명암···변화 수용하되 진통 최소화...   \n",
       "1  \"대통령, 여름휴가 때 노동자·소상공인 생각하길\"김성태 자유한국당 원내대표. = 김...   \n",
       "2  노재천 공보실장 \"공식확인 부적절···한미간 공조\"워싱턴포스트 \"액화연료 사용 IC...   \n",
       "3  김성태 의원 주장에 반박···지난 정부에서도 관련 내용 확인 국방부 특별수사단이 계...   \n",
       "4  안익산 대표 \" 흔들어 종전선언? 보도, 그럴 수 있다\" 이해 안익산 북측 수석대표...   \n",
       "\n",
       "                                             summary  \\\n",
       "0  이낙연 국무총리는 31일 계속되는 폭염으로 전기요금 부담에 대한 우려가 커지고 있는...   \n",
       "1  김성태 자유한국당 원내대표는 31일 \"지난 2004년 노무현 전 대통령 탄핵 당시 ...   \n",
       "2  합동참모본부는 31일 북한이 대륙간탄도미사일을 만들고 있는 정황을 포착했다는 보도와...   \n",
       "3  국군기무사령부는 31일 노무현 전 대통령 탄핵 당시 계엄령 문건을 작성했다는 김성태...   \n",
       "4  북한이 이례적으로 남북 장성급 군사회담을 먼저 제의한데 이어 회담에서 전향적인 태도...   \n",
       "\n",
       "                                                link  \n",
       "0  https://news.naver.com/main/ranking/read.nhn?r...  \n",
       "1  https://news.naver.com/main/ranking/read.nhn?r...  \n",
       "2  https://news.naver.com/main/ranking/read.nhn?r...  \n",
       "3  https://news.naver.com/main/ranking/read.nhn?r...  \n",
       "4  https://news.naver.com/main/ranking/read.nhn?r...  "
      ]
     },
     "execution_count": 6,
     "metadata": {},
     "output_type": "execute_result"
    }
   ],
   "source": [
    "naver_cleaned.head()"
   ]
  },
  {
   "cell_type": "code",
   "execution_count": 17,
   "metadata": {},
   "outputs": [
    {
     "data": {
      "text/html": [
       "<div>\n",
       "<style scoped>\n",
       "    .dataframe tbody tr th:only-of-type {\n",
       "        vertical-align: middle;\n",
       "    }\n",
       "\n",
       "    .dataframe tbody tr th {\n",
       "        vertical-align: top;\n",
       "    }\n",
       "\n",
       "    .dataframe thead th {\n",
       "        text-align: right;\n",
       "    }\n",
       "</style>\n",
       "<table border=\"1\" class=\"dataframe\">\n",
       "  <thead>\n",
       "    <tr style=\"text-align: right;\">\n",
       "      <th></th>\n",
       "      <th>id</th>\n",
       "      <th>title</th>\n",
       "      <th>date</th>\n",
       "      <th>body</th>\n",
       "      <th>summary</th>\n",
       "      <th>link</th>\n",
       "    </tr>\n",
       "  </thead>\n",
       "  <tbody>\n",
       "    <tr>\n",
       "      <th>0</th>\n",
       "      <td>1</td>\n",
       "      <td>반복된 음식점 단속에 절망한 26살 청년의 '극단적 선택'</td>\n",
       "      <td>2017.08.01. 09:00</td>\n",
       "      <td>\"벌금과 단속 걱정하던 아들, 장사 준비하던 현수막으로 목 메 숨져\"결혼까지 미루고...</td>\n",
       "      <td>26살 황승우씨는 지난 30일 오전 경기 남양주시 조안면 막국수집 주방에서 목을 메...</td>\n",
       "      <td>https://v.daum.net/v/20170801090037914</td>\n",
       "    </tr>\n",
       "    <tr>\n",
       "      <th>1</th>\n",
       "      <td>2</td>\n",
       "      <td>'즉석만남에 술 한잔 했는데'..휴가철 성범죄 표적된 여성들</td>\n",
       "      <td>2017.08.01. 15:59</td>\n",
       "      <td>#1. 20대 여성 A씨는 지난해 7월 서해 한 해수욕장에 놀러갔다가 우연히 30대...</td>\n",
       "      <td>본격적인 여름 휴가철을 맞아 해수욕장, 계곡과 같은 피서지에 인파가 몰리면서 성범죄...</td>\n",
       "      <td>https://v.daum.net/v/20170801155924346</td>\n",
       "    </tr>\n",
       "    <tr>\n",
       "      <th>2</th>\n",
       "      <td>3</td>\n",
       "      <td>필리핀서 한국인 관광객 숨진채 발견..\"카지노서 거액 잃어\"</td>\n",
       "      <td>2017.08.01. 18:41</td>\n",
       "      <td>필리핀에서 30대 한국인 관광객이 숨진 채 발견됐다. 현지 경찰은 이 한국인이 카지...</td>\n",
       "      <td>필리핀에서 30대 한국인 관광객이 숨진 채 발견됐다. 현지 경찰은 이 한국인이 카지...</td>\n",
       "      <td>https://v.daum.net/v/20170801184128126</td>\n",
       "    </tr>\n",
       "    <tr>\n",
       "      <th>3</th>\n",
       "      <td>4</td>\n",
       "      <td>\"부인이 공관병 상대 갑질\" 논란 박찬주 육군대장 전역지원(종합)</td>\n",
       "      <td>2017.08.01. 18:50</td>\n",
       "      <td>공관병에 대한 부인의 '갑질' 의혹을 받고 있는 박찬주 육군 2작전사령관(대장)이 ...</td>\n",
       "      <td>공관병에 대한 부인의 '갑질' 의혹을 받고 있는 박찬주 육군 2작전사령관(대장)이 ...</td>\n",
       "      <td>https://v.daum.net/v/20170801185020317</td>\n",
       "    </tr>\n",
       "    <tr>\n",
       "      <th>4</th>\n",
       "      <td>5</td>\n",
       "      <td>화장실에 몰카 설치해 딸 친구 '찰칵' 목사 입건</td>\n",
       "      <td>2017.08.01. 07:45</td>\n",
       "      <td>청주 흥덕경찰서는 화장실에 '몰래카메라'를 설치해 한 집에 사는 딸의 친구를 촬영한...</td>\n",
       "      <td>경찰에 따르면 A씨는 지난달 29일 오후 3시 25분께 흥덕구의 자신의 집 화장실 ...</td>\n",
       "      <td>https://v.daum.net/v/20170801074552385</td>\n",
       "    </tr>\n",
       "  </tbody>\n",
       "</table>\n",
       "</div>"
      ],
      "text/plain": [
       "   id                                 title               date  \\\n",
       "0   1      반복된 음식점 단속에 절망한 26살 청년의 '극단적 선택'  2017.08.01. 09:00   \n",
       "1   2     '즉석만남에 술 한잔 했는데'..휴가철 성범죄 표적된 여성들  2017.08.01. 15:59   \n",
       "2   3     필리핀서 한국인 관광객 숨진채 발견..\"카지노서 거액 잃어\"  2017.08.01. 18:41   \n",
       "3   4  \"부인이 공관병 상대 갑질\" 논란 박찬주 육군대장 전역지원(종합)  2017.08.01. 18:50   \n",
       "4   5           화장실에 몰카 설치해 딸 친구 '찰칵' 목사 입건  2017.08.01. 07:45   \n",
       "\n",
       "                                                body  \\\n",
       "0  \"벌금과 단속 걱정하던 아들, 장사 준비하던 현수막으로 목 메 숨져\"결혼까지 미루고...   \n",
       "1  #1. 20대 여성 A씨는 지난해 7월 서해 한 해수욕장에 놀러갔다가 우연히 30대...   \n",
       "2  필리핀에서 30대 한국인 관광객이 숨진 채 발견됐다. 현지 경찰은 이 한국인이 카지...   \n",
       "3  공관병에 대한 부인의 '갑질' 의혹을 받고 있는 박찬주 육군 2작전사령관(대장)이 ...   \n",
       "4  청주 흥덕경찰서는 화장실에 '몰래카메라'를 설치해 한 집에 사는 딸의 친구를 촬영한...   \n",
       "\n",
       "                                             summary  \\\n",
       "0  26살 황승우씨는 지난 30일 오전 경기 남양주시 조안면 막국수집 주방에서 목을 메...   \n",
       "1  본격적인 여름 휴가철을 맞아 해수욕장, 계곡과 같은 피서지에 인파가 몰리면서 성범죄...   \n",
       "2  필리핀에서 30대 한국인 관광객이 숨진 채 발견됐다. 현지 경찰은 이 한국인이 카지...   \n",
       "3  공관병에 대한 부인의 '갑질' 의혹을 받고 있는 박찬주 육군 2작전사령관(대장)이 ...   \n",
       "4  경찰에 따르면 A씨는 지난달 29일 오후 3시 25분께 흥덕구의 자신의 집 화장실 ...   \n",
       "\n",
       "                                     link  \n",
       "0  https://v.daum.net/v/20170801090037914  \n",
       "1  https://v.daum.net/v/20170801155924346  \n",
       "2  https://v.daum.net/v/20170801184128126  \n",
       "3  https://v.daum.net/v/20170801185020317  \n",
       "4  https://v.daum.net/v/20170801074552385  "
      ]
     },
     "execution_count": 17,
     "metadata": {},
     "output_type": "execute_result"
    }
   ],
   "source": [
    "daum_cleaned.head()"
   ]
  },
  {
   "cell_type": "code",
   "execution_count": 18,
   "metadata": {},
   "outputs": [],
   "source": [
    "cur.close()\n",
    "conn.close()"
   ]
  },
  {
   "cell_type": "markdown",
   "metadata": {},
   "source": [
    "## 기사 본문에서 Summary 문장의 위치 찾기"
   ]
  },
  {
   "cell_type": "code",
   "execution_count": 11,
   "metadata": {},
   "outputs": [],
   "source": [
    "naver_cleaned_copy = naver_cleaned.copy()\n",
    "daum_cleaned_copy = daum_cleaned.copy()"
   ]
  },
  {
   "cell_type": "code",
   "execution_count": 221,
   "metadata": {},
   "outputs": [
    {
     "data": {
      "text/plain": [
       "[41, 69, 72]"
      ]
     },
     "execution_count": 221,
     "metadata": {},
     "output_type": "execute_result"
    }
   ],
   "source": [
    "summary_loc_in_body(daum_cleaned.loc[1])"
   ]
  },
  {
   "cell_type": "code",
   "execution_count": 8,
   "metadata": {},
   "outputs": [],
   "source": [
    "def summary_loc_in_body(row):\n",
    "    '''기사 본문에서 summary 문장들의 위치를 비율로 나타내는 함수'''\n",
    "    \n",
    "    body_sentences = []\n",
    "    summary_sentences = []\n",
    "    summary_loc_p = []\n",
    "    \n",
    "    for _ in re.split(r'[?!.\\n]', row['body']):\n",
    "        if _ != '':\n",
    "            body_sentences.append(_.strip())     \n",
    "    for _ in re.split(r'[?!.\\n]', row['summary']):\n",
    "        if _ != '':\n",
    "            summary_sentences.append(_.strip())\n",
    "    \n",
    "    for idx, sentence in enumerate(body_sentences):\n",
    "        if sentence in summary_sentences:\n",
    "            summary_loc_p.append(round(100 * ((idx+1) / len(body_sentences))))\n",
    "            \n",
    "    return summary_loc_p"
   ]
  },
  {
   "cell_type": "code",
   "execution_count": 222,
   "metadata": {},
   "outputs": [],
   "source": [
    "def loc_ok(row):\n",
    "    '''summary 문장이 모두 본문에서 발견되는지 확인'''\n",
    "    \n",
    "    body_sentences = []\n",
    "    summary_sentences = []\n",
    "    summary_loc_p = []\n",
    "    \n",
    "    for _ in re.split(r'[?!.\\n]', row['body']):\n",
    "        if _ != '':\n",
    "            body_sentences.append(_.strip())     \n",
    "    for _ in re.split(r'[?!.\\n]', row['summary']):\n",
    "        if _ != '':\n",
    "            summary_sentences.append(_.strip())\n",
    "    \n",
    "    for idx, sentence in enumerate(body_sentences):\n",
    "        if sentence in summary_sentences:\n",
    "            summary_loc_p.append(round(100 * ((idx+1) / len(body_sentences))))\n",
    "    \n",
    "    loc_ok = (len(summary_sentences) == len(summary_loc_p))\n",
    "            \n",
    "    return loc_ok"
   ]
  },
  {
   "cell_type": "code",
   "execution_count": 223,
   "metadata": {},
   "outputs": [],
   "source": [
    "locok = daum_cleaned_copy.apply(loc_ok, axis=1)"
   ]
  },
  {
   "cell_type": "code",
   "execution_count": 226,
   "metadata": {},
   "outputs": [
    {
     "data": {
      "text/plain": [
       "0.6528821940387345"
      ]
     },
     "execution_count": 226,
     "metadata": {},
     "output_type": "execute_result"
    }
   ],
   "source": [
    "locok.sum() / len(daum_cleaned_copy) # 65.3%가 본문 내 summary 위치를 정확하게 찾았고 나머지는 1~2건 차이"
   ]
  },
  {
   "cell_type": "code",
   "execution_count": 227,
   "metadata": {},
   "outputs": [],
   "source": [
    "locok_n = naver_cleaned_copy.apply(loc_ok, axis=1)"
   ]
  },
  {
   "cell_type": "code",
   "execution_count": 228,
   "metadata": {},
   "outputs": [
    {
     "data": {
      "text/plain": [
       "0.10852437441087022"
      ]
     },
     "execution_count": 228,
     "metadata": {},
     "output_type": "execute_result"
    }
   ],
   "source": [
    "locok_n.sum() / len(naver_cleaned_copy) # 10%는 좀 문제가..."
   ]
  },
  {
   "cell_type": "code",
   "execution_count": 229,
   "metadata": {},
   "outputs": [],
   "source": [
    "daum_cleaned_copy['summary_loc'] = daum_cleaned_copy.apply(summary_loc_in_body, axis=1)"
   ]
  },
  {
   "cell_type": "code",
   "execution_count": 230,
   "metadata": {},
   "outputs": [
    {
     "data": {
      "text/plain": [
       "0                     [12, 23, 46]\n",
       "1                     [41, 69, 72]\n",
       "2                     [17, 33, 67]\n",
       "3                      [5, 11, 16]\n",
       "4                    [50, 75, 100]\n",
       "                    ...           \n",
       "109200            [10, 40, 70, 80]\n",
       "109201    [4, 21, 32, 36, 39, 100]\n",
       "109202           [11, 56, 67, 100]\n",
       "109203             [4, 8, 20, 100]\n",
       "109204                 [9, 27, 55]\n",
       "Name: summary_loc, Length: 109205, dtype: object"
      ]
     },
     "execution_count": 230,
     "metadata": {},
     "output_type": "execute_result"
    }
   ],
   "source": [
    "daum_cleaned_copy.summary_loc"
   ]
  },
  {
   "cell_type": "code",
   "execution_count": 232,
   "metadata": {},
   "outputs": [],
   "source": [
    "summary_loc_list = []\n",
    "for _ in daum_cleaned_copy.summary_loc:\n",
    "    summary_loc_list += _"
   ]
  },
  {
   "cell_type": "code",
   "execution_count": 233,
   "metadata": {
    "scrolled": true
   },
   "outputs": [
    {
     "data": {
      "text/plain": [
       "<matplotlib.axes._subplots.AxesSubplot at 0x1e43034b3a0>"
      ]
     },
     "execution_count": 233,
     "metadata": {},
     "output_type": "execute_result"
    },
    {
     "data": {
      "image/png": "[encoded data removed]",
      "text/plain": [
       "<Figure size 1008x288 with 1 Axes>"
      ]
     },
     "metadata": {
      "needs_background": "light"
     },
     "output_type": "display_data"
    }
   ],
   "source": [
    "sns.distplot(summary_loc_list, bins=400, kde=False)"
   ]
  },
  {
   "cell_type": "code",
   "execution_count": 235,
   "metadata": {},
   "outputs": [],
   "source": [
    "c = Counter(summary_loc_list)"
   ]
  },
  {
   "cell_type": "code",
   "execution_count": 239,
   "metadata": {},
   "outputs": [
    {
     "data": {
      "text/plain": [
       "[(6, 14200),\n",
       " (8, 13765),\n",
       " (5, 13257),\n",
       " (7, 12399),\n",
       " (4, 12314),\n",
       " (12, 11222),\n",
       " (100, 9905),\n",
       " (11, 9879),\n",
       " (3, 9694),\n",
       " (10, 9501),\n",
       " (50, 8918),\n",
       " (9, 8852),\n",
       " (14, 8400),\n",
       " (17, 8025),\n",
       " (33, 7763),\n",
       " (25, 7359),\n",
       " (20, 7302),\n",
       " (18, 5478),\n",
       " (29, 5329),\n",
       " (67, 5067)]"
      ]
     },
     "execution_count": 239,
     "metadata": {},
     "output_type": "execute_result"
    }
   ],
   "source": [
    "c.most_common(20)"
   ]
  },
  {
   "cell_type": "markdown",
   "metadata": {},
   "source": [
    "## 형태소분석"
   ]
  },
  {
   "cell_type": "code",
   "execution_count": 7,
   "metadata": {},
   "outputs": [],
   "source": [
    "han = Hannanum()"
   ]
  },
  {
   "cell_type": "markdown",
   "metadata": {},
   "source": [
    "**naver**"
   ]
  },
  {
   "cell_type": "code",
   "execution_count": 28,
   "metadata": {
    "scrolled": false
   },
   "outputs": [
    {
     "name": "stdout",
     "output_type": "stream",
     "text": [
      "(100000, 6)\n"
     ]
    },
    {
     "data": {
      "text/html": [
       "<div>\n",
       "<style scoped>\n",
       "    .dataframe tbody tr th:only-of-type {\n",
       "        vertical-align: middle;\n",
       "    }\n",
       "\n",
       "    .dataframe tbody tr th {\n",
       "        vertical-align: top;\n",
       "    }\n",
       "\n",
       "    .dataframe thead th {\n",
       "        text-align: right;\n",
       "    }\n",
       "</style>\n",
       "<table border=\"1\" class=\"dataframe\">\n",
       "  <thead>\n",
       "    <tr style=\"text-align: right;\">\n",
       "      <th></th>\n",
       "      <th>id</th>\n",
       "      <th>title</th>\n",
       "      <th>date</th>\n",
       "      <th>body</th>\n",
       "      <th>summary</th>\n",
       "      <th>link</th>\n",
       "    </tr>\n",
       "  </thead>\n",
       "  <tbody>\n",
       "    <tr>\n",
       "      <th>0</th>\n",
       "      <td>1</td>\n",
       "      <td>이총리 \"폭염, 특별재난 준해…전기요금 제한적 특별배려 검토\"</td>\n",
       "      <td>2018.07.31. 오전 11:53</td>\n",
       "      <td>국무회의 주재···체계적 폭염대책 주문\"최저임금 명암···변화 수용하되 진통 최소화...</td>\n",
       "      <td>이낙연 국무총리는 31일 계속되는 폭염으로 전기요금 부담에 대한 우려가 커지고 있는...</td>\n",
       "      <td>https://news.naver.com/main/ranking/read.nhn?r...</td>\n",
       "    </tr>\n",
       "    <tr>\n",
       "      <th>1</th>\n",
       "      <td>2</td>\n",
       "      <td>김성태 \"盧 탄핵때도 기무사 대응문건 의혹…즉시 제출하라\"</td>\n",
       "      <td>2018.07.31. 오전 10:25</td>\n",
       "      <td>\"대통령, 여름휴가 때 노동자·소상공인 생각하길\"김성태 자유한국당 원내대표. = 김...</td>\n",
       "      <td>김성태 자유한국당 원내대표는 31일 \"지난 2004년 노무현 전 대통령 탄핵 당시 ...</td>\n",
       "      <td>https://news.naver.com/main/ranking/read.nhn?r...</td>\n",
       "    </tr>\n",
       "    <tr>\n",
       "      <th>2</th>\n",
       "      <td>3</td>\n",
       "      <td>합참, 北 ICBM 제작 정황 보도에 \"면밀히 추적·감시중\"</td>\n",
       "      <td>2018.07.31. 오전 11:29</td>\n",
       "      <td>노재천 공보실장 \"공식확인 부적절···한미간 공조\"워싱턴포스트 \"액화연료 사용 IC...</td>\n",
       "      <td>합동참모본부는 31일 북한이 대륙간탄도미사일을 만들고 있는 정황을 포착했다는 보도와...</td>\n",
       "      <td>https://news.naver.com/main/ranking/read.nhn?r...</td>\n",
       "    </tr>\n",
       "    <tr>\n",
       "      <th>3</th>\n",
       "      <td>4</td>\n",
       "      <td>기무사 \"盧 대통령 탄핵 당시 계엄검토 문건 작성 안해\"</td>\n",
       "      <td>2018.07.31. 오후 2:43</td>\n",
       "      <td>김성태 의원 주장에 반박···지난 정부에서도 관련 내용 확인 국방부 특별수사단이 계...</td>\n",
       "      <td>국군기무사령부는 31일 노무현 전 대통령 탄핵 당시 계엄령 문건을 작성했다는 김성태...</td>\n",
       "      <td>https://news.naver.com/main/ranking/read.nhn?r...</td>\n",
       "    </tr>\n",
       "    <tr>\n",
       "      <th>4</th>\n",
       "      <td>5</td>\n",
       "      <td>'종전문제 다룰까' 北, 이례적 회담 제의 이어 전향적 태도 보여</td>\n",
       "      <td>2018.07.31. 오후 12:55</td>\n",
       "      <td>안익산 대표 \" 흔들어 종전선언? 보도, 그럴 수 있다\" 이해 안익산 북측 수석대표...</td>\n",
       "      <td>북한이 이례적으로 남북 장성급 군사회담을 먼저 제의한데 이어 회담에서 전향적인 태도...</td>\n",
       "      <td>https://news.naver.com/main/ranking/read.nhn?r...</td>\n",
       "    </tr>\n",
       "  </tbody>\n",
       "</table>\n",
       "</div>"
      ],
      "text/plain": [
       "   id                                 title                  date  \\\n",
       "0   1    이총리 \"폭염, 특별재난 준해…전기요금 제한적 특별배려 검토\"  2018.07.31. 오전 11:53   \n",
       "1   2      김성태 \"盧 탄핵때도 기무사 대응문건 의혹…즉시 제출하라\"  2018.07.31. 오전 10:25   \n",
       "2   3     합참, 北 ICBM 제작 정황 보도에 \"면밀히 추적·감시중\"  2018.07.31. 오전 11:29   \n",
       "3   4       기무사 \"盧 대통령 탄핵 당시 계엄검토 문건 작성 안해\"   2018.07.31. 오후 2:43   \n",
       "4   5  '종전문제 다룰까' 北, 이례적 회담 제의 이어 전향적 태도 보여  2018.07.31. 오후 12:55   \n",
       "\n",
       "                                                body  \\\n",
       "0  국무회의 주재···체계적 폭염대책 주문\"최저임금 명암···변화 수용하되 진통 최소화...   \n",
       "1  \"대통령, 여름휴가 때 노동자·소상공인 생각하길\"김성태 자유한국당 원내대표. = 김...   \n",
       "2  노재천 공보실장 \"공식확인 부적절···한미간 공조\"워싱턴포스트 \"액화연료 사용 IC...   \n",
       "3  김성태 의원 주장에 반박···지난 정부에서도 관련 내용 확인 국방부 특별수사단이 계...   \n",
       "4  안익산 대표 \" 흔들어 종전선언? 보도, 그럴 수 있다\" 이해 안익산 북측 수석대표...   \n",
       "\n",
       "                                             summary  \\\n",
       "0  이낙연 국무총리는 31일 계속되는 폭염으로 전기요금 부담에 대한 우려가 커지고 있는...   \n",
       "1  김성태 자유한국당 원내대표는 31일 \"지난 2004년 노무현 전 대통령 탄핵 당시 ...   \n",
       "2  합동참모본부는 31일 북한이 대륙간탄도미사일을 만들고 있는 정황을 포착했다는 보도와...   \n",
       "3  국군기무사령부는 31일 노무현 전 대통령 탄핵 당시 계엄령 문건을 작성했다는 김성태...   \n",
       "4  북한이 이례적으로 남북 장성급 군사회담을 먼저 제의한데 이어 회담에서 전향적인 태도...   \n",
       "\n",
       "                                                link  \n",
       "0  https://news.naver.com/main/ranking/read.nhn?r...  \n",
       "1  https://news.naver.com/main/ranking/read.nhn?r...  \n",
       "2  https://news.naver.com/main/ranking/read.nhn?r...  \n",
       "3  https://news.naver.com/main/ranking/read.nhn?r...  \n",
       "4  https://news.naver.com/main/ranking/read.nhn?r...  "
      ]
     },
     "execution_count": 28,
     "metadata": {},
     "output_type": "execute_result"
    }
   ],
   "source": [
    "# 앞에서부터 10만개 데이터로 한정\n",
    "naver_cleaned_copy = naver_cleaned.iloc[:100000, :].copy()\n",
    "naver_cleaned_copy.reset_index(inplace=True)\n",
    "del naver_cleaned_copy['index']\n",
    "print(naver_cleaned_copy.shape)\n",
    "naver_cleaned_copy.head()"
   ]
  },
  {
   "cell_type": "code",
   "execution_count": 23,
   "metadata": {},
   "outputs": [],
   "source": [
    "def get_morphs_body(row):\n",
    "    morphs_list = han.morphs(row['body'])\n",
    "    if row['id'] % 10000 == 0:\n",
    "        print('{0} id {1} is processed'.format(datetime.datetime.now(), row['id']))\n",
    "    return morphs_list"
   ]
  },
  {
   "cell_type": "code",
   "execution_count": 30,
   "metadata": {
    "scrolled": true
   },
   "outputs": [
    {
     "name": "stdout",
     "output_type": "stream",
     "text": [
      "2020-08-16 00:56:59.592441 id 10000 is processed\n",
      "2020-08-16 01:16:51.642888 id 20000 is processed\n",
      "2020-08-16 01:40:13.594638 id 30000 is processed\n",
      "2020-08-16 02:04:55.969914 id 40000 is processed\n",
      "2020-08-16 02:31:33.842516 id 50000 is processed\n",
      "2020-08-16 02:59:32.834241 id 60000 is processed\n",
      "2020-08-16 03:31:04.665996 id 70000 is processed\n",
      "2020-08-16 04:05:54.752962 id 80000 is processed\n",
      "2020-08-16 04:45:22.669260 id 90000 is processed\n",
      "2020-08-17 06:32:30.562788 id 100000 is processed\n"
     ]
    }
   ],
   "source": [
    "naver_cleaned_copy['body_morphs'] = naver_cleaned_copy.apply(get_morphs_body, axis=1)"
   ]
  },
  {
   "cell_type": "code",
   "execution_count": 129,
   "metadata": {},
   "outputs": [],
   "source": [
    "test = naver_cleaned_copy.copy()"
   ]
  },
  {
   "cell_type": "code",
   "execution_count": 130,
   "metadata": {},
   "outputs": [
    {
     "name": "stdout",
     "output_type": "stream",
     "text": [
      "51815\n",
      "61153\n",
      "61160\n"
     ]
    }
   ],
   "source": [
    "for i in range(len(test)):\n",
    "    if test.loc[i,'body_morphs'] == []:\n",
    "        print(i)"
   ]
  },
  {
   "cell_type": "code",
   "execution_count": 152,
   "metadata": {},
   "outputs": [
    {
     "name": "stdout",
     "output_type": "stream",
     "text": [
      "(99997, 1)\n"
     ]
    },
    {
     "data": {
      "text/html": [
       "<div>\n",
       "<style scoped>\n",
       "    .dataframe tbody tr th:only-of-type {\n",
       "        vertical-align: middle;\n",
       "    }\n",
       "\n",
       "    .dataframe tbody tr th {\n",
       "        vertical-align: top;\n",
       "    }\n",
       "\n",
       "    .dataframe thead th {\n",
       "        text-align: right;\n",
       "    }\n",
       "</style>\n",
       "<table border=\"1\" class=\"dataframe\">\n",
       "  <thead>\n",
       "    <tr style=\"text-align: right;\">\n",
       "      <th></th>\n",
       "      <th>body_morphs</th>\n",
       "    </tr>\n",
       "  </thead>\n",
       "  <tbody>\n",
       "    <tr>\n",
       "      <th>0</th>\n",
       "      <td>[국무회의, 주재···체계적, 폭염대책, 주문, \", 최저임금, 명암···변화, 수...</td>\n",
       "    </tr>\n",
       "    <tr>\n",
       "      <th>1</th>\n",
       "      <td>[\", 대통령, ,, 여름휴가, 때, 노동자·소상공, 이, ㄴ, 생각하길\"김성태, ...</td>\n",
       "    </tr>\n",
       "    <tr>\n",
       "      <th>2</th>\n",
       "      <td>[노재천, 공보실장, \", 공식확인, 부적절···한미간, 공조\"워싱턴포스트, \", ...</td>\n",
       "    </tr>\n",
       "    <tr>\n",
       "      <th>3</th>\n",
       "      <td>[김성태, 의원, 주장, 에, 반박···지난, 정부, 에서도, 관련, 내용, 확인,...</td>\n",
       "    </tr>\n",
       "    <tr>\n",
       "      <th>4</th>\n",
       "      <td>[안익산, 대표, \", 흔들, 어, 종전선언, ?, 보도, ,, 그렇, 을, 수, ...</td>\n",
       "    </tr>\n",
       "    <tr>\n",
       "      <th>...</th>\n",
       "      <td>...</td>\n",
       "    </tr>\n",
       "    <tr>\n",
       "      <th>99992</th>\n",
       "      <td>[음식, 을, 먼저, 받, 고, 다음, 에, 결제, 를, 하, 겠다, 고, 제안, ...</td>\n",
       "    </tr>\n",
       "    <tr>\n",
       "      <th>99993</th>\n",
       "      <td>[철거왕, 이금열(51)씨, 를, 알, 시나, 요, ., 조직폭력배, 이, 었던, ...</td>\n",
       "    </tr>\n",
       "    <tr>\n",
       "      <th>99994</th>\n",
       "      <td>[&lt;32&gt;홍현희, 의, 양치, 다이어트, 최근, 개그맨, 홍현희, 에, 관심, 이,...</td>\n",
       "    </tr>\n",
       "    <tr>\n",
       "      <th>99995</th>\n",
       "      <td>[밀, ㄴ, 식, 이, 부모, ,, 유튜버, 상대, 허위사실, 유포, 명예훼손, 등...</td>\n",
       "    </tr>\n",
       "    <tr>\n",
       "      <th>99996</th>\n",
       "      <td>[사진, 과, 기사, 는, 관련, 없음, =게티이미지뱅크직업, 에, 귀천, 이, 없...</td>\n",
       "    </tr>\n",
       "  </tbody>\n",
       "</table>\n",
       "<p>99997 rows × 1 columns</p>\n",
       "</div>"
      ],
      "text/plain": [
       "                                             body_morphs\n",
       "0      [국무회의, 주재···체계적, 폭염대책, 주문, \", 최저임금, 명암···변화, 수...\n",
       "1      [\", 대통령, ,, 여름휴가, 때, 노동자·소상공, 이, ㄴ, 생각하길\"김성태, ...\n",
       "2      [노재천, 공보실장, \", 공식확인, 부적절···한미간, 공조\"워싱턴포스트, \", ...\n",
       "3      [김성태, 의원, 주장, 에, 반박···지난, 정부, 에서도, 관련, 내용, 확인,...\n",
       "4      [안익산, 대표, \", 흔들, 어, 종전선언, ?, 보도, ,, 그렇, 을, 수, ...\n",
       "...                                                  ...\n",
       "99992  [음식, 을, 먼저, 받, 고, 다음, 에, 결제, 를, 하, 겠다, 고, 제안, ...\n",
       "99993  [철거왕, 이금열(51)씨, 를, 알, 시나, 요, ., 조직폭력배, 이, 었던, ...\n",
       "99994  [<32>홍현희, 의, 양치, 다이어트, 최근, 개그맨, 홍현희, 에, 관심, 이,...\n",
       "99995  [밀, ㄴ, 식, 이, 부모, ,, 유튜버, 상대, 허위사실, 유포, 명예훼손, 등...\n",
       "99996  [사진, 과, 기사, 는, 관련, 없음, =게티이미지뱅크직업, 에, 귀천, 이, 없...\n",
       "\n",
       "[99997 rows x 1 columns]"
      ]
     },
     "execution_count": 152,
     "metadata": {},
     "output_type": "execute_result"
    }
   ],
   "source": [
    "new_body_morphs = test[['body_morphs']].drop(index=[51815, 61153, 61160]).reset_index()\n",
    "del new_body_morphs['index']\n",
    "print(new_body_morphs.shape)\n",
    "new_body_morphs"
   ]
  },
  {
   "cell_type": "code",
   "execution_count": 133,
   "metadata": {},
   "outputs": [
    {
     "data": {
      "text/html": [
       "<div>\n",
       "<style scoped>\n",
       "    .dataframe tbody tr th:only-of-type {\n",
       "        vertical-align: middle;\n",
       "    }\n",
       "\n",
       "    .dataframe tbody tr th {\n",
       "        vertical-align: top;\n",
       "    }\n",
       "\n",
       "    .dataframe thead th {\n",
       "        text-align: right;\n",
       "    }\n",
       "</style>\n",
       "<table border=\"1\" class=\"dataframe\">\n",
       "  <thead>\n",
       "    <tr style=\"text-align: right;\">\n",
       "      <th></th>\n",
       "      <th>id</th>\n",
       "      <th>title</th>\n",
       "      <th>date</th>\n",
       "      <th>body</th>\n",
       "      <th>summary</th>\n",
       "      <th>link</th>\n",
       "    </tr>\n",
       "  </thead>\n",
       "  <tbody>\n",
       "    <tr>\n",
       "      <th>99997</th>\n",
       "      <td>100007</td>\n",
       "      <td>“포르쉐로 폼 잡지 마”…‘3000만원대 슈퍼카’ 벨로스터N</td>\n",
       "      <td>2020.05.16. 오후 3:54</td>\n",
       "      <td>도로 위 악동()이 있다. 작은 악마라는 애칭도 있다. 남자의 로망이라는 페라리, ...</td>\n",
       "      <td>'남자의 로망'이라는 페라리, 람보르기니, 포르쉐 등이 만든 '폼생폼사' 슈퍼카나 ...</td>\n",
       "      <td>https://news.naver.com/main/ranking/read.nhn?r...</td>\n",
       "    </tr>\n",
       "    <tr>\n",
       "      <th>99998</th>\n",
       "      <td>100008</td>\n",
       "      <td>커피는 건강에 좋다?  지나치면 골관절염·비만 위험 키운다</td>\n",
       "      <td>2020.05.16. 오전 11:09</td>\n",
       "      <td>1천117개 질병 증상과 커피 소비 연관성, 첫 유전적 분석 사우스오스트레일리아대 ...</td>\n",
       "      <td>커피는 가장 많이 소비되는 음료 가운데 하나다.휘페넨 교수는 \"종전의 연구에선 커피...</td>\n",
       "      <td>https://news.naver.com/main/ranking/read.nhn?r...</td>\n",
       "    </tr>\n",
       "    <tr>\n",
       "      <th>99999</th>\n",
       "      <td>100009</td>\n",
       "      <td>“어딜 만져!” 보안요원 뺨 때리고 콜라 뿌린 백화점 난동女 결국…</td>\n",
       "      <td>2020.05.15. 오전 10:50</td>\n",
       "      <td>신병 확보 어려움 겪던 경찰, 지명수배 내린 이틀 만에 안양서 검거 올 초 서울의 ...</td>\n",
       "      <td>올 초 서울의 한 백화점 패스트푸드 코너에서 보안요원에 욕설하고 뺨까지 때린 여성이...</td>\n",
       "      <td>https://news.naver.com/main/ranking/read.nhn?r...</td>\n",
       "    </tr>\n",
       "  </tbody>\n",
       "</table>\n",
       "</div>"
      ],
      "text/plain": [
       "           id                                  title                  date  \\\n",
       "99997  100007      “포르쉐로 폼 잡지 마”…‘3000만원대 슈퍼카’ 벨로스터N   2020.05.16. 오후 3:54   \n",
       "99998  100008       커피는 건강에 좋다?  지나치면 골관절염·비만 위험 키운다  2020.05.16. 오전 11:09   \n",
       "99999  100009  “어딜 만져!” 보안요원 뺨 때리고 콜라 뿌린 백화점 난동女 결국…  2020.05.15. 오전 10:50   \n",
       "\n",
       "                                                    body  \\\n",
       "99997  도로 위 악동()이 있다. 작은 악마라는 애칭도 있다. 남자의 로망이라는 페라리, ...   \n",
       "99998  1천117개 질병 증상과 커피 소비 연관성, 첫 유전적 분석 사우스오스트레일리아대 ...   \n",
       "99999  신병 확보 어려움 겪던 경찰, 지명수배 내린 이틀 만에 안양서 검거 올 초 서울의 ...   \n",
       "\n",
       "                                                 summary  \\\n",
       "99997  '남자의 로망'이라는 페라리, 람보르기니, 포르쉐 등이 만든 '폼생폼사' 슈퍼카나 ...   \n",
       "99998  커피는 가장 많이 소비되는 음료 가운데 하나다.휘페넨 교수는 \"종전의 연구에선 커피...   \n",
       "99999  올 초 서울의 한 백화점 패스트푸드 코너에서 보안요원에 욕설하고 뺨까지 때린 여성이...   \n",
       "\n",
       "                                                    link  \n",
       "99997  https://news.naver.com/main/ranking/read.nhn?r...  \n",
       "99998  https://news.naver.com/main/ranking/read.nhn?r...  \n",
       "99999  https://news.naver.com/main/ranking/read.nhn?r...  "
      ]
     },
     "execution_count": 133,
     "metadata": {},
     "output_type": "execute_result"
    }
   ],
   "source": [
    "missing_df = naver_cleaned.iloc[99997:100000]\n",
    "missing_df"
   ]
  },
  {
   "cell_type": "code",
   "execution_count": 135,
   "metadata": {},
   "outputs": [
    {
     "data": {
      "text/plain": [
       "99997    [도, 로, 위, 악동(), 이, 있, 다, ., 작, 은, 악마, 라는, 애칭, ...\n",
       "99998    [1천117개, 질병, 증상, 과, 커피, 소비, 연관성, ,, 첫, 유전적, 분석...\n",
       "99999    [신병, 확보, 어려움, 겪, 던, 경찰, ,, 지명수배, 내리, ㄴ, 이틀, 만,...\n",
       "dtype: object"
      ]
     },
     "execution_count": 135,
     "metadata": {},
     "output_type": "execute_result"
    }
   ],
   "source": [
    "missing_morphs = missing_df.apply(get_morphs_body, axis=1)\n",
    "missing_morphs"
   ]
  },
  {
   "cell_type": "code",
   "execution_count": 149,
   "metadata": {},
   "outputs": [
    {
     "data": {
      "text/html": [
       "<div>\n",
       "<style scoped>\n",
       "    .dataframe tbody tr th:only-of-type {\n",
       "        vertical-align: middle;\n",
       "    }\n",
       "\n",
       "    .dataframe tbody tr th {\n",
       "        vertical-align: top;\n",
       "    }\n",
       "\n",
       "    .dataframe thead th {\n",
       "        text-align: right;\n",
       "    }\n",
       "</style>\n",
       "<table border=\"1\" class=\"dataframe\">\n",
       "  <thead>\n",
       "    <tr style=\"text-align: right;\">\n",
       "      <th></th>\n",
       "      <th>index</th>\n",
       "      <th>0</th>\n",
       "    </tr>\n",
       "  </thead>\n",
       "  <tbody>\n",
       "    <tr>\n",
       "      <th>0</th>\n",
       "      <td>99997</td>\n",
       "      <td>[도, 로, 위, 악동(), 이, 있, 다, ., 작, 은, 악마, 라는, 애칭, ...</td>\n",
       "    </tr>\n",
       "    <tr>\n",
       "      <th>1</th>\n",
       "      <td>99998</td>\n",
       "      <td>[1천117개, 질병, 증상, 과, 커피, 소비, 연관성, ,, 첫, 유전적, 분석...</td>\n",
       "    </tr>\n",
       "    <tr>\n",
       "      <th>2</th>\n",
       "      <td>99999</td>\n",
       "      <td>[신병, 확보, 어려움, 겪, 던, 경찰, ,, 지명수배, 내리, ㄴ, 이틀, 만,...</td>\n",
       "    </tr>\n",
       "  </tbody>\n",
       "</table>\n",
       "</div>"
      ],
      "text/plain": [
       "   index                                                  0\n",
       "0  99997  [도, 로, 위, 악동(), 이, 있, 다, ., 작, 은, 악마, 라는, 애칭, ...\n",
       "1  99998  [1천117개, 질병, 증상, 과, 커피, 소비, 연관성, ,, 첫, 유전적, 분석...\n",
       "2  99999  [신병, 확보, 어려움, 겪, 던, 경찰, ,, 지명수배, 내리, ㄴ, 이틀, 만,..."
      ]
     },
     "execution_count": 149,
     "metadata": {},
     "output_type": "execute_result"
    }
   ],
   "source": [
    "missing_morphs = pd.DataFrame(missing_morphs).reset_index()\n",
    "missing_morphs"
   ]
  },
  {
   "cell_type": "code",
   "execution_count": 151,
   "metadata": {},
   "outputs": [
    {
     "data": {
      "text/html": [
       "<div>\n",
       "<style scoped>\n",
       "    .dataframe tbody tr th:only-of-type {\n",
       "        vertical-align: middle;\n",
       "    }\n",
       "\n",
       "    .dataframe tbody tr th {\n",
       "        vertical-align: top;\n",
       "    }\n",
       "\n",
       "    .dataframe thead th {\n",
       "        text-align: right;\n",
       "    }\n",
       "</style>\n",
       "<table border=\"1\" class=\"dataframe\">\n",
       "  <thead>\n",
       "    <tr style=\"text-align: right;\">\n",
       "      <th></th>\n",
       "      <th>body_morphs</th>\n",
       "    </tr>\n",
       "  </thead>\n",
       "  <tbody>\n",
       "    <tr>\n",
       "      <th>0</th>\n",
       "      <td>[도, 로, 위, 악동(), 이, 있, 다, ., 작, 은, 악마, 라는, 애칭, ...</td>\n",
       "    </tr>\n",
       "    <tr>\n",
       "      <th>1</th>\n",
       "      <td>[1천117개, 질병, 증상, 과, 커피, 소비, 연관성, ,, 첫, 유전적, 분석...</td>\n",
       "    </tr>\n",
       "    <tr>\n",
       "      <th>2</th>\n",
       "      <td>[신병, 확보, 어려움, 겪, 던, 경찰, ,, 지명수배, 내리, ㄴ, 이틀, 만,...</td>\n",
       "    </tr>\n",
       "  </tbody>\n",
       "</table>\n",
       "</div>"
      ],
      "text/plain": [
       "                                         body_morphs\n",
       "0  [도, 로, 위, 악동(), 이, 있, 다, ., 작, 은, 악마, 라는, 애칭, ...\n",
       "1  [1천117개, 질병, 증상, 과, 커피, 소비, 연관성, ,, 첫, 유전적, 분석...\n",
       "2  [신병, 확보, 어려움, 겪, 던, 경찰, ,, 지명수배, 내리, ㄴ, 이틀, 만,..."
      ]
     },
     "execution_count": 151,
     "metadata": {},
     "output_type": "execute_result"
    }
   ],
   "source": [
    "# del missing_morphs['index']\n",
    "missing_morphs.rename(columns={0:'body_morphs'}, inplace=True)\n",
    "missing_morphs"
   ]
  },
  {
   "cell_type": "code",
   "execution_count": 153,
   "metadata": {},
   "outputs": [
    {
     "data": {
      "text/html": [
       "<div>\n",
       "<style scoped>\n",
       "    .dataframe tbody tr th:only-of-type {\n",
       "        vertical-align: middle;\n",
       "    }\n",
       "\n",
       "    .dataframe tbody tr th {\n",
       "        vertical-align: top;\n",
       "    }\n",
       "\n",
       "    .dataframe thead th {\n",
       "        text-align: right;\n",
       "    }\n",
       "</style>\n",
       "<table border=\"1\" class=\"dataframe\">\n",
       "  <thead>\n",
       "    <tr style=\"text-align: right;\">\n",
       "      <th></th>\n",
       "      <th>body_morphs</th>\n",
       "    </tr>\n",
       "  </thead>\n",
       "  <tbody>\n",
       "    <tr>\n",
       "      <th>0</th>\n",
       "      <td>[국무회의, 주재···체계적, 폭염대책, 주문, \", 최저임금, 명암···변화, 수...</td>\n",
       "    </tr>\n",
       "    <tr>\n",
       "      <th>1</th>\n",
       "      <td>[\", 대통령, ,, 여름휴가, 때, 노동자·소상공, 이, ㄴ, 생각하길\"김성태, ...</td>\n",
       "    </tr>\n",
       "    <tr>\n",
       "      <th>2</th>\n",
       "      <td>[노재천, 공보실장, \", 공식확인, 부적절···한미간, 공조\"워싱턴포스트, \", ...</td>\n",
       "    </tr>\n",
       "    <tr>\n",
       "      <th>3</th>\n",
       "      <td>[김성태, 의원, 주장, 에, 반박···지난, 정부, 에서도, 관련, 내용, 확인,...</td>\n",
       "    </tr>\n",
       "    <tr>\n",
       "      <th>4</th>\n",
       "      <td>[안익산, 대표, \", 흔들, 어, 종전선언, ?, 보도, ,, 그렇, 을, 수, ...</td>\n",
       "    </tr>\n",
       "    <tr>\n",
       "      <th>...</th>\n",
       "      <td>...</td>\n",
       "    </tr>\n",
       "    <tr>\n",
       "      <th>99995</th>\n",
       "      <td>[밀, ㄴ, 식, 이, 부모, ,, 유튜버, 상대, 허위사실, 유포, 명예훼손, 등...</td>\n",
       "    </tr>\n",
       "    <tr>\n",
       "      <th>99996</th>\n",
       "      <td>[사진, 과, 기사, 는, 관련, 없음, =게티이미지뱅크직업, 에, 귀천, 이, 없...</td>\n",
       "    </tr>\n",
       "    <tr>\n",
       "      <th>99997</th>\n",
       "      <td>[도, 로, 위, 악동(), 이, 있, 다, ., 작, 은, 악마, 라는, 애칭, ...</td>\n",
       "    </tr>\n",
       "    <tr>\n",
       "      <th>99998</th>\n",
       "      <td>[1천117개, 질병, 증상, 과, 커피, 소비, 연관성, ,, 첫, 유전적, 분석...</td>\n",
       "    </tr>\n",
       "    <tr>\n",
       "      <th>99999</th>\n",
       "      <td>[신병, 확보, 어려움, 겪, 던, 경찰, ,, 지명수배, 내리, ㄴ, 이틀, 만,...</td>\n",
       "    </tr>\n",
       "  </tbody>\n",
       "</table>\n",
       "<p>100000 rows × 1 columns</p>\n",
       "</div>"
      ],
      "text/plain": [
       "                                             body_morphs\n",
       "0      [국무회의, 주재···체계적, 폭염대책, 주문, \", 최저임금, 명암···변화, 수...\n",
       "1      [\", 대통령, ,, 여름휴가, 때, 노동자·소상공, 이, ㄴ, 생각하길\"김성태, ...\n",
       "2      [노재천, 공보실장, \", 공식확인, 부적절···한미간, 공조\"워싱턴포스트, \", ...\n",
       "3      [김성태, 의원, 주장, 에, 반박···지난, 정부, 에서도, 관련, 내용, 확인,...\n",
       "4      [안익산, 대표, \", 흔들, 어, 종전선언, ?, 보도, ,, 그렇, 을, 수, ...\n",
       "...                                                  ...\n",
       "99995  [밀, ㄴ, 식, 이, 부모, ,, 유튜버, 상대, 허위사실, 유포, 명예훼손, 등...\n",
       "99996  [사진, 과, 기사, 는, 관련, 없음, =게티이미지뱅크직업, 에, 귀천, 이, 없...\n",
       "99997  [도, 로, 위, 악동(), 이, 있, 다, ., 작, 은, 악마, 라는, 애칭, ...\n",
       "99998  [1천117개, 질병, 증상, 과, 커피, 소비, 연관성, ,, 첫, 유전적, 분석...\n",
       "99999  [신병, 확보, 어려움, 겪, 던, 경찰, ,, 지명수배, 내리, ㄴ, 이틀, 만,...\n",
       "\n",
       "[100000 rows x 1 columns]"
      ]
     },
     "execution_count": 153,
     "metadata": {},
     "output_type": "execute_result"
    }
   ],
   "source": [
    "new_body_morphs = pd.concat([new_body_morphs, missing_morphs], ignore_index=True)\n",
    "new_body_morphs"
   ]
  },
  {
   "cell_type": "code",
   "execution_count": 155,
   "metadata": {},
   "outputs": [
    {
     "data": {
      "text/html": [
       "<div>\n",
       "<style scoped>\n",
       "    .dataframe tbody tr th:only-of-type {\n",
       "        vertical-align: middle;\n",
       "    }\n",
       "\n",
       "    .dataframe tbody tr th {\n",
       "        vertical-align: top;\n",
       "    }\n",
       "\n",
       "    .dataframe thead th {\n",
       "        text-align: right;\n",
       "    }\n",
       "</style>\n",
       "<table border=\"1\" class=\"dataframe\">\n",
       "  <thead>\n",
       "    <tr style=\"text-align: right;\">\n",
       "      <th></th>\n",
       "      <th>id</th>\n",
       "      <th>title</th>\n",
       "      <th>date</th>\n",
       "      <th>body</th>\n",
       "      <th>summary</th>\n",
       "      <th>link</th>\n",
       "      <th>body_morphs</th>\n",
       "    </tr>\n",
       "  </thead>\n",
       "  <tbody>\n",
       "    <tr>\n",
       "      <th>0</th>\n",
       "      <td>1</td>\n",
       "      <td>이총리 \"폭염, 특별재난 준해…전기요금 제한적 특별배려 검토\"</td>\n",
       "      <td>2018.07.31. 오전 11:53</td>\n",
       "      <td>국무회의 주재···체계적 폭염대책 주문\"최저임금 명암···변화 수용하되 진통 최소화...</td>\n",
       "      <td>이낙연 국무총리는 31일 계속되는 폭염으로 전기요금 부담에 대한 우려가 커지고 있는...</td>\n",
       "      <td>https://news.naver.com/main/ranking/read.nhn?r...</td>\n",
       "      <td>[국무회의, 주재···체계적, 폭염대책, 주문, \", 최저임금, 명암···변화, 수...</td>\n",
       "    </tr>\n",
       "    <tr>\n",
       "      <th>1</th>\n",
       "      <td>2</td>\n",
       "      <td>김성태 \"盧 탄핵때도 기무사 대응문건 의혹…즉시 제출하라\"</td>\n",
       "      <td>2018.07.31. 오전 10:25</td>\n",
       "      <td>\"대통령, 여름휴가 때 노동자·소상공인 생각하길\"김성태 자유한국당 원내대표. = 김...</td>\n",
       "      <td>김성태 자유한국당 원내대표는 31일 \"지난 2004년 노무현 전 대통령 탄핵 당시 ...</td>\n",
       "      <td>https://news.naver.com/main/ranking/read.nhn?r...</td>\n",
       "      <td>[\", 대통령, ,, 여름휴가, 때, 노동자·소상공, 이, ㄴ, 생각하길\"김성태, ...</td>\n",
       "    </tr>\n",
       "    <tr>\n",
       "      <th>2</th>\n",
       "      <td>3</td>\n",
       "      <td>합참, 北 ICBM 제작 정황 보도에 \"면밀히 추적·감시중\"</td>\n",
       "      <td>2018.07.31. 오전 11:29</td>\n",
       "      <td>노재천 공보실장 \"공식확인 부적절···한미간 공조\"워싱턴포스트 \"액화연료 사용 IC...</td>\n",
       "      <td>합동참모본부는 31일 북한이 대륙간탄도미사일을 만들고 있는 정황을 포착했다는 보도와...</td>\n",
       "      <td>https://news.naver.com/main/ranking/read.nhn?r...</td>\n",
       "      <td>[노재천, 공보실장, \", 공식확인, 부적절···한미간, 공조\"워싱턴포스트, \", ...</td>\n",
       "    </tr>\n",
       "    <tr>\n",
       "      <th>3</th>\n",
       "      <td>4</td>\n",
       "      <td>기무사 \"盧 대통령 탄핵 당시 계엄검토 문건 작성 안해\"</td>\n",
       "      <td>2018.07.31. 오후 2:43</td>\n",
       "      <td>김성태 의원 주장에 반박···지난 정부에서도 관련 내용 확인 국방부 특별수사단이 계...</td>\n",
       "      <td>국군기무사령부는 31일 노무현 전 대통령 탄핵 당시 계엄령 문건을 작성했다는 김성태...</td>\n",
       "      <td>https://news.naver.com/main/ranking/read.nhn?r...</td>\n",
       "      <td>[김성태, 의원, 주장, 에, 반박···지난, 정부, 에서도, 관련, 내용, 확인,...</td>\n",
       "    </tr>\n",
       "    <tr>\n",
       "      <th>4</th>\n",
       "      <td>5</td>\n",
       "      <td>'종전문제 다룰까' 北, 이례적 회담 제의 이어 전향적 태도 보여</td>\n",
       "      <td>2018.07.31. 오후 12:55</td>\n",
       "      <td>안익산 대표 \" 흔들어 종전선언? 보도, 그럴 수 있다\" 이해 안익산 북측 수석대표...</td>\n",
       "      <td>북한이 이례적으로 남북 장성급 군사회담을 먼저 제의한데 이어 회담에서 전향적인 태도...</td>\n",
       "      <td>https://news.naver.com/main/ranking/read.nhn?r...</td>\n",
       "      <td>[안익산, 대표, \", 흔들, 어, 종전선언, ?, 보도, ,, 그렇, 을, 수, ...</td>\n",
       "    </tr>\n",
       "    <tr>\n",
       "      <th>...</th>\n",
       "      <td>...</td>\n",
       "      <td>...</td>\n",
       "      <td>...</td>\n",
       "      <td>...</td>\n",
       "      <td>...</td>\n",
       "      <td>...</td>\n",
       "      <td>...</td>\n",
       "    </tr>\n",
       "    <tr>\n",
       "      <th>99995</th>\n",
       "      <td>100005</td>\n",
       "      <td>유튜버가 민식이 부모에게 “불쾌하다”고 한 이유… 7억 사망보험금 논란</td>\n",
       "      <td>2020.05.16. 오전 7:02</td>\n",
       "      <td>민식이 부모, 유튜버 상대 허위사실 유포 명예훼손 등 고소 / 유튜버 \"사실적시 명...</td>\n",
       "      <td>일명 '민식이법'으로 불리는 도로교통법 개정안 통과를 이끌어낸 고 김민식군의 부모가...</td>\n",
       "      <td>https://news.naver.com/main/ranking/read.nhn?r...</td>\n",
       "      <td>[밀, ㄴ, 식, 이, 부모, ,, 유튜버, 상대, 허위사실, 유포, 명예훼손, 등...</td>\n",
       "    </tr>\n",
       "    <tr>\n",
       "      <th>99996</th>\n",
       "      <td>100006</td>\n",
       "      <td>\"예비 시어머니가 접대부 있는 유흥업소를 운영하신대요\" [와글와글]</td>\n",
       "      <td>2020.05.16. 오전 8:32</td>\n",
       "      <td>사진과 기사는 관련 없음/사진=게티이미지뱅크직업에 귀천이 없다지만, 예비 시어머니가...</td>\n",
       "      <td>직업에 귀천이 없다지만, 예비 시어머니가 접대부를 고용한 유흥업소를 운영한다는 말을...</td>\n",
       "      <td>https://news.naver.com/main/ranking/read.nhn?r...</td>\n",
       "      <td>[사진, 과, 기사, 는, 관련, 없음, =게티이미지뱅크직업, 에, 귀천, 이, 없...</td>\n",
       "    </tr>\n",
       "    <tr>\n",
       "      <th>99997</th>\n",
       "      <td>100007</td>\n",
       "      <td>“포르쉐로 폼 잡지 마”…‘3000만원대 슈퍼카’ 벨로스터N</td>\n",
       "      <td>2020.05.16. 오후 3:54</td>\n",
       "      <td>도로 위 악동()이 있다. 작은 악마라는 애칭도 있다. 남자의 로망이라는 페라리, ...</td>\n",
       "      <td>'남자의 로망'이라는 페라리, 람보르기니, 포르쉐 등이 만든 '폼생폼사' 슈퍼카나 ...</td>\n",
       "      <td>https://news.naver.com/main/ranking/read.nhn?r...</td>\n",
       "      <td>[도, 로, 위, 악동(), 이, 있, 다, ., 작, 은, 악마, 라는, 애칭, ...</td>\n",
       "    </tr>\n",
       "    <tr>\n",
       "      <th>99998</th>\n",
       "      <td>100008</td>\n",
       "      <td>커피는 건강에 좋다?  지나치면 골관절염·비만 위험 키운다</td>\n",
       "      <td>2020.05.16. 오전 11:09</td>\n",
       "      <td>1천117개 질병 증상과 커피 소비 연관성, 첫 유전적 분석 사우스오스트레일리아대 ...</td>\n",
       "      <td>커피는 가장 많이 소비되는 음료 가운데 하나다.휘페넨 교수는 \"종전의 연구에선 커피...</td>\n",
       "      <td>https://news.naver.com/main/ranking/read.nhn?r...</td>\n",
       "      <td>[1천117개, 질병, 증상, 과, 커피, 소비, 연관성, ,, 첫, 유전적, 분석...</td>\n",
       "    </tr>\n",
       "    <tr>\n",
       "      <th>99999</th>\n",
       "      <td>100009</td>\n",
       "      <td>“어딜 만져!” 보안요원 뺨 때리고 콜라 뿌린 백화점 난동女 결국…</td>\n",
       "      <td>2020.05.15. 오전 10:50</td>\n",
       "      <td>신병 확보 어려움 겪던 경찰, 지명수배 내린 이틀 만에 안양서 검거 올 초 서울의 ...</td>\n",
       "      <td>올 초 서울의 한 백화점 패스트푸드 코너에서 보안요원에 욕설하고 뺨까지 때린 여성이...</td>\n",
       "      <td>https://news.naver.com/main/ranking/read.nhn?r...</td>\n",
       "      <td>[신병, 확보, 어려움, 겪, 던, 경찰, ,, 지명수배, 내리, ㄴ, 이틀, 만,...</td>\n",
       "    </tr>\n",
       "  </tbody>\n",
       "</table>\n",
       "<p>100000 rows × 7 columns</p>\n",
       "</div>"
      ],
      "text/plain": [
       "           id                                    title                  date  \\\n",
       "0           1       이총리 \"폭염, 특별재난 준해…전기요금 제한적 특별배려 검토\"  2018.07.31. 오전 11:53   \n",
       "1           2         김성태 \"盧 탄핵때도 기무사 대응문건 의혹…즉시 제출하라\"  2018.07.31. 오전 10:25   \n",
       "2           3        합참, 北 ICBM 제작 정황 보도에 \"면밀히 추적·감시중\"  2018.07.31. 오전 11:29   \n",
       "3           4          기무사 \"盧 대통령 탄핵 당시 계엄검토 문건 작성 안해\"   2018.07.31. 오후 2:43   \n",
       "4           5     '종전문제 다룰까' 北, 이례적 회담 제의 이어 전향적 태도 보여  2018.07.31. 오후 12:55   \n",
       "...       ...                                      ...                   ...   \n",
       "99995  100005  유튜버가 민식이 부모에게 “불쾌하다”고 한 이유… 7억 사망보험금 논란   2020.05.16. 오전 7:02   \n",
       "99996  100006    \"예비 시어머니가 접대부 있는 유흥업소를 운영하신대요\" [와글와글]   2020.05.16. 오전 8:32   \n",
       "99997  100007        “포르쉐로 폼 잡지 마”…‘3000만원대 슈퍼카’ 벨로스터N   2020.05.16. 오후 3:54   \n",
       "99998  100008         커피는 건강에 좋다?  지나치면 골관절염·비만 위험 키운다  2020.05.16. 오전 11:09   \n",
       "99999  100009    “어딜 만져!” 보안요원 뺨 때리고 콜라 뿌린 백화점 난동女 결국…  2020.05.15. 오전 10:50   \n",
       "\n",
       "                                                    body  \\\n",
       "0      국무회의 주재···체계적 폭염대책 주문\"최저임금 명암···변화 수용하되 진통 최소화...   \n",
       "1      \"대통령, 여름휴가 때 노동자·소상공인 생각하길\"김성태 자유한국당 원내대표. = 김...   \n",
       "2      노재천 공보실장 \"공식확인 부적절···한미간 공조\"워싱턴포스트 \"액화연료 사용 IC...   \n",
       "3      김성태 의원 주장에 반박···지난 정부에서도 관련 내용 확인 국방부 특별수사단이 계...   \n",
       "4      안익산 대표 \" 흔들어 종전선언? 보도, 그럴 수 있다\" 이해 안익산 북측 수석대표...   \n",
       "...                                                  ...   \n",
       "99995  민식이 부모, 유튜버 상대 허위사실 유포 명예훼손 등 고소 / 유튜버 \"사실적시 명...   \n",
       "99996  사진과 기사는 관련 없음/사진=게티이미지뱅크직업에 귀천이 없다지만, 예비 시어머니가...   \n",
       "99997  도로 위 악동()이 있다. 작은 악마라는 애칭도 있다. 남자의 로망이라는 페라리, ...   \n",
       "99998  1천117개 질병 증상과 커피 소비 연관성, 첫 유전적 분석 사우스오스트레일리아대 ...   \n",
       "99999  신병 확보 어려움 겪던 경찰, 지명수배 내린 이틀 만에 안양서 검거 올 초 서울의 ...   \n",
       "\n",
       "                                                 summary  \\\n",
       "0      이낙연 국무총리는 31일 계속되는 폭염으로 전기요금 부담에 대한 우려가 커지고 있는...   \n",
       "1      김성태 자유한국당 원내대표는 31일 \"지난 2004년 노무현 전 대통령 탄핵 당시 ...   \n",
       "2      합동참모본부는 31일 북한이 대륙간탄도미사일을 만들고 있는 정황을 포착했다는 보도와...   \n",
       "3      국군기무사령부는 31일 노무현 전 대통령 탄핵 당시 계엄령 문건을 작성했다는 김성태...   \n",
       "4      북한이 이례적으로 남북 장성급 군사회담을 먼저 제의한데 이어 회담에서 전향적인 태도...   \n",
       "...                                                  ...   \n",
       "99995  일명 '민식이법'으로 불리는 도로교통법 개정안 통과를 이끌어낸 고 김민식군의 부모가...   \n",
       "99996  직업에 귀천이 없다지만, 예비 시어머니가 접대부를 고용한 유흥업소를 운영한다는 말을...   \n",
       "99997  '남자의 로망'이라는 페라리, 람보르기니, 포르쉐 등이 만든 '폼생폼사' 슈퍼카나 ...   \n",
       "99998  커피는 가장 많이 소비되는 음료 가운데 하나다.휘페넨 교수는 \"종전의 연구에선 커피...   \n",
       "99999  올 초 서울의 한 백화점 패스트푸드 코너에서 보안요원에 욕설하고 뺨까지 때린 여성이...   \n",
       "\n",
       "                                                    link  \\\n",
       "0      https://news.naver.com/main/ranking/read.nhn?r...   \n",
       "1      https://news.naver.com/main/ranking/read.nhn?r...   \n",
       "2      https://news.naver.com/main/ranking/read.nhn?r...   \n",
       "3      https://news.naver.com/main/ranking/read.nhn?r...   \n",
       "4      https://news.naver.com/main/ranking/read.nhn?r...   \n",
       "...                                                  ...   \n",
       "99995  https://news.naver.com/main/ranking/read.nhn?r...   \n",
       "99996  https://news.naver.com/main/ranking/read.nhn?r...   \n",
       "99997  https://news.naver.com/main/ranking/read.nhn?r...   \n",
       "99998  https://news.naver.com/main/ranking/read.nhn?r...   \n",
       "99999  https://news.naver.com/main/ranking/read.nhn?r...   \n",
       "\n",
       "                                             body_morphs  \n",
       "0      [국무회의, 주재···체계적, 폭염대책, 주문, \", 최저임금, 명암···변화, 수...  \n",
       "1      [\", 대통령, ,, 여름휴가, 때, 노동자·소상공, 이, ㄴ, 생각하길\"김성태, ...  \n",
       "2      [노재천, 공보실장, \", 공식확인, 부적절···한미간, 공조\"워싱턴포스트, \", ...  \n",
       "3      [김성태, 의원, 주장, 에, 반박···지난, 정부, 에서도, 관련, 내용, 확인,...  \n",
       "4      [안익산, 대표, \", 흔들, 어, 종전선언, ?, 보도, ,, 그렇, 을, 수, ...  \n",
       "...                                                  ...  \n",
       "99995  [밀, ㄴ, 식, 이, 부모, ,, 유튜버, 상대, 허위사실, 유포, 명예훼손, 등...  \n",
       "99996  [사진, 과, 기사, 는, 관련, 없음, =게티이미지뱅크직업, 에, 귀천, 이, 없...  \n",
       "99997  [도, 로, 위, 악동(), 이, 있, 다, ., 작, 은, 악마, 라는, 애칭, ...  \n",
       "99998  [1천117개, 질병, 증상, 과, 커피, 소비, 연관성, ,, 첫, 유전적, 분석...  \n",
       "99999  [신병, 확보, 어려움, 겪, 던, 경찰, ,, 지명수배, 내리, ㄴ, 이틀, 만,...  \n",
       "\n",
       "[100000 rows x 7 columns]"
      ]
     },
     "execution_count": 155,
     "metadata": {},
     "output_type": "execute_result"
    }
   ],
   "source": [
    "del test['body_morphs']\n",
    "test = pd.concat([test, new_body_morphs], axis=1)\n",
    "test"
   ]
  },
  {
   "cell_type": "code",
   "execution_count": 156,
   "metadata": {},
   "outputs": [],
   "source": [
    "test.to_csv('../../../data/in_progress.csv', header=True, index=False)"
   ]
  },
  {
   "cell_type": "code",
   "execution_count": 3,
   "metadata": {},
   "outputs": [
    {
     "data": {
      "text/plain": [
       "(100000, 7)"
      ]
     },
     "execution_count": 3,
     "metadata": {},
     "output_type": "execute_result"
    }
   ],
   "source": [
    "naver_tokenized = pd.read_csv('../../../data/in_progress.csv')\n",
    "naver_tokenized.shape"
   ]
  },
  {
   "cell_type": "code",
   "execution_count": 4,
   "metadata": {},
   "outputs": [
    {
     "data": {
      "text/html": [
       "<div>\n",
       "<style scoped>\n",
       "    .dataframe tbody tr th:only-of-type {\n",
       "        vertical-align: middle;\n",
       "    }\n",
       "\n",
       "    .dataframe tbody tr th {\n",
       "        vertical-align: top;\n",
       "    }\n",
       "\n",
       "    .dataframe thead th {\n",
       "        text-align: right;\n",
       "    }\n",
       "</style>\n",
       "<table border=\"1\" class=\"dataframe\">\n",
       "  <thead>\n",
       "    <tr style=\"text-align: right;\">\n",
       "      <th></th>\n",
       "      <th>id</th>\n",
       "      <th>title</th>\n",
       "      <th>date</th>\n",
       "      <th>body</th>\n",
       "      <th>summary</th>\n",
       "      <th>link</th>\n",
       "      <th>body_morphs</th>\n",
       "    </tr>\n",
       "  </thead>\n",
       "  <tbody>\n",
       "    <tr>\n",
       "      <th>0</th>\n",
       "      <td>1</td>\n",
       "      <td>이총리 \"폭염, 특별재난 준해…전기요금 제한적 특별배려 검토\"</td>\n",
       "      <td>2018.07.31. 오전 11:53</td>\n",
       "      <td>국무회의 주재···체계적 폭염대책 주문\"최저임금 명암···변화 수용하되 진통 최소화...</td>\n",
       "      <td>이낙연 국무총리는 31일 계속되는 폭염으로 전기요금 부담에 대한 우려가 커지고 있는...</td>\n",
       "      <td>https://news.naver.com/main/ranking/read.nhn?r...</td>\n",
       "      <td>['국무회의', '주재···체계적', '폭염대책', '주문', '\"', '최저임금'...</td>\n",
       "    </tr>\n",
       "  </tbody>\n",
       "</table>\n",
       "</div>"
      ],
      "text/plain": [
       "   id                               title                  date  \\\n",
       "0   1  이총리 \"폭염, 특별재난 준해…전기요금 제한적 특별배려 검토\"  2018.07.31. 오전 11:53   \n",
       "\n",
       "                                                body  \\\n",
       "0  국무회의 주재···체계적 폭염대책 주문\"최저임금 명암···변화 수용하되 진통 최소화...   \n",
       "\n",
       "                                             summary  \\\n",
       "0  이낙연 국무총리는 31일 계속되는 폭염으로 전기요금 부담에 대한 우려가 커지고 있는...   \n",
       "\n",
       "                                                link  \\\n",
       "0  https://news.naver.com/main/ranking/read.nhn?r...   \n",
       "\n",
       "                                         body_morphs  \n",
       "0  ['국무회의', '주재···체계적', '폭염대책', '주문', '\"', '최저임금'...  "
      ]
     },
     "execution_count": 4,
     "metadata": {},
     "output_type": "execute_result"
    }
   ],
   "source": [
    "naver_tokenized.head(1)"
   ]
  },
  {
   "cell_type": "code",
   "execution_count": 24,
   "metadata": {},
   "outputs": [],
   "source": [
    "def get_morphs_summary(row):\n",
    "    morphs_list = han.morphs(row['summary'])\n",
    "    if row['id'] % 10000 == 0:\n",
    "        print('{0} id {1} is processed'.format(datetime.datetime.now(), row['id']))\n",
    "    return morphs_list"
   ]
  },
  {
   "cell_type": "markdown",
   "metadata": {},
   "source": [
    "2020-08-17 11:53 시작"
   ]
  },
  {
   "cell_type": "code",
   "execution_count": 8,
   "metadata": {},
   "outputs": [
    {
     "name": "stdout",
     "output_type": "stream",
     "text": [
      "2020-08-17 11:55:36.385323 id 10000 is processed\n",
      "2020-08-17 11:57:53.395032 id 20000 is processed\n",
      "2020-08-17 12:00:14.072971 id 30000 is processed\n",
      "2020-08-17 12:02:40.927398 id 40000 is processed\n",
      "2020-08-17 12:05:11.281475 id 50000 is processed\n",
      "2020-08-17 12:07:43.877554 id 60000 is processed\n",
      "2020-08-17 12:10:57.375296 id 70000 is processed\n",
      "2020-08-17 12:13:31.170172 id 80000 is processed\n",
      "2020-08-17 12:16:09.792142 id 90000 is processed\n",
      "2020-08-17 12:18:51.432048 id 100000 is processed\n"
     ]
    }
   ],
   "source": [
    "naver_tokenized['summary_morphs'] = naver_tokenized.apply(get_morphs_summary, axis=1)"
   ]
  },
  {
   "cell_type": "code",
   "execution_count": 12,
   "metadata": {},
   "outputs": [
    {
     "data": {
      "text/html": [
       "<div>\n",
       "<style scoped>\n",
       "    .dataframe tbody tr th:only-of-type {\n",
       "        vertical-align: middle;\n",
       "    }\n",
       "\n",
       "    .dataframe tbody tr th {\n",
       "        vertical-align: top;\n",
       "    }\n",
       "\n",
       "    .dataframe thead th {\n",
       "        text-align: right;\n",
       "    }\n",
       "</style>\n",
       "<table border=\"1\" class=\"dataframe\">\n",
       "  <thead>\n",
       "    <tr style=\"text-align: right;\">\n",
       "      <th></th>\n",
       "      <th>id</th>\n",
       "      <th>title</th>\n",
       "      <th>date</th>\n",
       "      <th>body</th>\n",
       "      <th>summary</th>\n",
       "      <th>link</th>\n",
       "      <th>body_morphs</th>\n",
       "      <th>summary_morphs</th>\n",
       "    </tr>\n",
       "  </thead>\n",
       "  <tbody>\n",
       "    <tr>\n",
       "      <th>99997</th>\n",
       "      <td>100007</td>\n",
       "      <td>“포르쉐로 폼 잡지 마”…‘3000만원대 슈퍼카’ 벨로스터N</td>\n",
       "      <td>2020.05.16. 오후 3:54</td>\n",
       "      <td>도로 위 악동()이 있다. 작은 악마라는 애칭도 있다. 남자의 로망이라는 페라리, ...</td>\n",
       "      <td>'남자의 로망'이라는 페라리, 람보르기니, 포르쉐 등이 만든 '폼생폼사' 슈퍼카나 ...</td>\n",
       "      <td>https://news.naver.com/main/ranking/read.nhn?r...</td>\n",
       "      <td>['도', '로', '위', '악동()', '이', '있', '다', '.', '작...</td>\n",
       "      <td>[', 남자, 의, 로망, ', 이, 라는, 페라리,, 람보르기니,, 포르쉐, 등,...</td>\n",
       "    </tr>\n",
       "    <tr>\n",
       "      <th>99998</th>\n",
       "      <td>100008</td>\n",
       "      <td>커피는 건강에 좋다?  지나치면 골관절염·비만 위험 키운다</td>\n",
       "      <td>2020.05.16. 오전 11:09</td>\n",
       "      <td>1천117개 질병 증상과 커피 소비 연관성, 첫 유전적 분석 사우스오스트레일리아대 ...</td>\n",
       "      <td>커피는 가장 많이 소비되는 음료 가운데 하나다.휘페넨 교수는 \"종전의 연구에선 커피...</td>\n",
       "      <td>https://news.naver.com/main/ranking/read.nhn?r...</td>\n",
       "      <td>['1천117개', '질병', '증상', '과', '커피', '소비', '연관성',...</td>\n",
       "      <td>[커피, 는, 가장, 많, 이, 소비, 되, 는, 음료, 가운데, 하, 어, 나, ...</td>\n",
       "    </tr>\n",
       "    <tr>\n",
       "      <th>99999</th>\n",
       "      <td>100009</td>\n",
       "      <td>“어딜 만져!” 보안요원 뺨 때리고 콜라 뿌린 백화점 난동女 결국…</td>\n",
       "      <td>2020.05.15. 오전 10:50</td>\n",
       "      <td>신병 확보 어려움 겪던 경찰, 지명수배 내린 이틀 만에 안양서 검거 올 초 서울의 ...</td>\n",
       "      <td>올 초 서울의 한 백화점 패스트푸드 코너에서 보안요원에 욕설하고 뺨까지 때린 여성이...</td>\n",
       "      <td>https://news.naver.com/main/ranking/read.nhn?r...</td>\n",
       "      <td>['신병', '확보', '어려움', '겪', '던', '경찰', ',', '지명수배...</td>\n",
       "      <td>[오, ㄹ, 초, 서울, 의, 한, 백화점, 패스트푸드, 코너, 에서, 보안요원, ...</td>\n",
       "    </tr>\n",
       "  </tbody>\n",
       "</table>\n",
       "</div>"
      ],
      "text/plain": [
       "           id                                  title                  date  \\\n",
       "99997  100007      “포르쉐로 폼 잡지 마”…‘3000만원대 슈퍼카’ 벨로스터N   2020.05.16. 오후 3:54   \n",
       "99998  100008       커피는 건강에 좋다?  지나치면 골관절염·비만 위험 키운다  2020.05.16. 오전 11:09   \n",
       "99999  100009  “어딜 만져!” 보안요원 뺨 때리고 콜라 뿌린 백화점 난동女 결국…  2020.05.15. 오전 10:50   \n",
       "\n",
       "                                                    body  \\\n",
       "99997  도로 위 악동()이 있다. 작은 악마라는 애칭도 있다. 남자의 로망이라는 페라리, ...   \n",
       "99998  1천117개 질병 증상과 커피 소비 연관성, 첫 유전적 분석 사우스오스트레일리아대 ...   \n",
       "99999  신병 확보 어려움 겪던 경찰, 지명수배 내린 이틀 만에 안양서 검거 올 초 서울의 ...   \n",
       "\n",
       "                                                 summary  \\\n",
       "99997  '남자의 로망'이라는 페라리, 람보르기니, 포르쉐 등이 만든 '폼생폼사' 슈퍼카나 ...   \n",
       "99998  커피는 가장 많이 소비되는 음료 가운데 하나다.휘페넨 교수는 \"종전의 연구에선 커피...   \n",
       "99999  올 초 서울의 한 백화점 패스트푸드 코너에서 보안요원에 욕설하고 뺨까지 때린 여성이...   \n",
       "\n",
       "                                                    link  \\\n",
       "99997  https://news.naver.com/main/ranking/read.nhn?r...   \n",
       "99998  https://news.naver.com/main/ranking/read.nhn?r...   \n",
       "99999  https://news.naver.com/main/ranking/read.nhn?r...   \n",
       "\n",
       "                                             body_morphs  \\\n",
       "99997  ['도', '로', '위', '악동()', '이', '있', '다', '.', '작...   \n",
       "99998  ['1천117개', '질병', '증상', '과', '커피', '소비', '연관성',...   \n",
       "99999  ['신병', '확보', '어려움', '겪', '던', '경찰', ',', '지명수배...   \n",
       "\n",
       "                                          summary_morphs  \n",
       "99997  [', 남자, 의, 로망, ', 이, 라는, 페라리,, 람보르기니,, 포르쉐, 등,...  \n",
       "99998  [커피, 는, 가장, 많, 이, 소비, 되, 는, 음료, 가운데, 하, 어, 나, ...  \n",
       "99999  [오, ㄹ, 초, 서울, 의, 한, 백화점, 패스트푸드, 코너, 에서, 보안요원, ...  "
      ]
     },
     "execution_count": 12,
     "metadata": {},
     "output_type": "execute_result"
    }
   ],
   "source": [
    "naver_tokenized.tail(3)"
   ]
  },
  {
   "cell_type": "code",
   "execution_count": 13,
   "metadata": {},
   "outputs": [],
   "source": [
    "naver_tokenized.to_csv('../../../data/in_progress.csv', header=True, index=False)"
   ]
  },
  {
   "cell_type": "markdown",
   "metadata": {},
   "source": [
    "**daum**"
   ]
  },
  {
   "cell_type": "code",
   "execution_count": 21,
   "metadata": {
    "scrolled": true
   },
   "outputs": [
    {
     "name": "stdout",
     "output_type": "stream",
     "text": [
      "(100000, 6)\n"
     ]
    },
    {
     "data": {
      "text/html": [
       "<div>\n",
       "<style scoped>\n",
       "    .dataframe tbody tr th:only-of-type {\n",
       "        vertical-align: middle;\n",
       "    }\n",
       "\n",
       "    .dataframe tbody tr th {\n",
       "        vertical-align: top;\n",
       "    }\n",
       "\n",
       "    .dataframe thead th {\n",
       "        text-align: right;\n",
       "    }\n",
       "</style>\n",
       "<table border=\"1\" class=\"dataframe\">\n",
       "  <thead>\n",
       "    <tr style=\"text-align: right;\">\n",
       "      <th></th>\n",
       "      <th>id</th>\n",
       "      <th>title</th>\n",
       "      <th>date</th>\n",
       "      <th>body</th>\n",
       "      <th>summary</th>\n",
       "      <th>link</th>\n",
       "    </tr>\n",
       "  </thead>\n",
       "  <tbody>\n",
       "    <tr>\n",
       "      <th>0</th>\n",
       "      <td>1</td>\n",
       "      <td>반복된 음식점 단속에 절망한 26살 청년의 '극단적 선택'</td>\n",
       "      <td>2017.08.01. 09:00</td>\n",
       "      <td>\"벌금과 단속 걱정하던 아들, 장사 준비하던 현수막으로 목 메 숨져\"결혼까지 미루고...</td>\n",
       "      <td>26살 황승우씨는 지난 30일 오전 경기 남양주시 조안면 막국수집 주방에서 목을 메...</td>\n",
       "      <td>https://v.daum.net/v/20170801090037914</td>\n",
       "    </tr>\n",
       "    <tr>\n",
       "      <th>1</th>\n",
       "      <td>2</td>\n",
       "      <td>'즉석만남에 술 한잔 했는데'..휴가철 성범죄 표적된 여성들</td>\n",
       "      <td>2017.08.01. 15:59</td>\n",
       "      <td>#1. 20대 여성 A씨는 지난해 7월 서해 한 해수욕장에 놀러갔다가 우연히 30대...</td>\n",
       "      <td>본격적인 여름 휴가철을 맞아 해수욕장, 계곡과 같은 피서지에 인파가 몰리면서 성범죄...</td>\n",
       "      <td>https://v.daum.net/v/20170801155924346</td>\n",
       "    </tr>\n",
       "    <tr>\n",
       "      <th>2</th>\n",
       "      <td>3</td>\n",
       "      <td>필리핀서 한국인 관광객 숨진채 발견..\"카지노서 거액 잃어\"</td>\n",
       "      <td>2017.08.01. 18:41</td>\n",
       "      <td>필리핀에서 30대 한국인 관광객이 숨진 채 발견됐다. 현지 경찰은 이 한국인이 카지...</td>\n",
       "      <td>필리핀에서 30대 한국인 관광객이 숨진 채 발견됐다. 현지 경찰은 이 한국인이 카지...</td>\n",
       "      <td>https://v.daum.net/v/20170801184128126</td>\n",
       "    </tr>\n",
       "    <tr>\n",
       "      <th>3</th>\n",
       "      <td>4</td>\n",
       "      <td>\"부인이 공관병 상대 갑질\" 논란 박찬주 육군대장 전역지원(종합)</td>\n",
       "      <td>2017.08.01. 18:50</td>\n",
       "      <td>공관병에 대한 부인의 '갑질' 의혹을 받고 있는 박찬주 육군 2작전사령관(대장)이 ...</td>\n",
       "      <td>공관병에 대한 부인의 '갑질' 의혹을 받고 있는 박찬주 육군 2작전사령관(대장)이 ...</td>\n",
       "      <td>https://v.daum.net/v/20170801185020317</td>\n",
       "    </tr>\n",
       "    <tr>\n",
       "      <th>4</th>\n",
       "      <td>5</td>\n",
       "      <td>화장실에 몰카 설치해 딸 친구 '찰칵' 목사 입건</td>\n",
       "      <td>2017.08.01. 07:45</td>\n",
       "      <td>청주 흥덕경찰서는 화장실에 '몰래카메라'를 설치해 한 집에 사는 딸의 친구를 촬영한...</td>\n",
       "      <td>경찰에 따르면 A씨는 지난달 29일 오후 3시 25분께 흥덕구의 자신의 집 화장실 ...</td>\n",
       "      <td>https://v.daum.net/v/20170801074552385</td>\n",
       "    </tr>\n",
       "  </tbody>\n",
       "</table>\n",
       "</div>"
      ],
      "text/plain": [
       "   id                                 title               date  \\\n",
       "0   1      반복된 음식점 단속에 절망한 26살 청년의 '극단적 선택'  2017.08.01. 09:00   \n",
       "1   2     '즉석만남에 술 한잔 했는데'..휴가철 성범죄 표적된 여성들  2017.08.01. 15:59   \n",
       "2   3     필리핀서 한국인 관광객 숨진채 발견..\"카지노서 거액 잃어\"  2017.08.01. 18:41   \n",
       "3   4  \"부인이 공관병 상대 갑질\" 논란 박찬주 육군대장 전역지원(종합)  2017.08.01. 18:50   \n",
       "4   5           화장실에 몰카 설치해 딸 친구 '찰칵' 목사 입건  2017.08.01. 07:45   \n",
       "\n",
       "                                                body  \\\n",
       "0  \"벌금과 단속 걱정하던 아들, 장사 준비하던 현수막으로 목 메 숨져\"결혼까지 미루고...   \n",
       "1  #1. 20대 여성 A씨는 지난해 7월 서해 한 해수욕장에 놀러갔다가 우연히 30대...   \n",
       "2  필리핀에서 30대 한국인 관광객이 숨진 채 발견됐다. 현지 경찰은 이 한국인이 카지...   \n",
       "3  공관병에 대한 부인의 '갑질' 의혹을 받고 있는 박찬주 육군 2작전사령관(대장)이 ...   \n",
       "4  청주 흥덕경찰서는 화장실에 '몰래카메라'를 설치해 한 집에 사는 딸의 친구를 촬영한...   \n",
       "\n",
       "                                             summary  \\\n",
       "0  26살 황승우씨는 지난 30일 오전 경기 남양주시 조안면 막국수집 주방에서 목을 메...   \n",
       "1  본격적인 여름 휴가철을 맞아 해수욕장, 계곡과 같은 피서지에 인파가 몰리면서 성범죄...   \n",
       "2  필리핀에서 30대 한국인 관광객이 숨진 채 발견됐다. 현지 경찰은 이 한국인이 카지...   \n",
       "3  공관병에 대한 부인의 '갑질' 의혹을 받고 있는 박찬주 육군 2작전사령관(대장)이 ...   \n",
       "4  경찰에 따르면 A씨는 지난달 29일 오후 3시 25분께 흥덕구의 자신의 집 화장실 ...   \n",
       "\n",
       "                                     link  \n",
       "0  https://v.daum.net/v/20170801090037914  \n",
       "1  https://v.daum.net/v/20170801155924346  \n",
       "2  https://v.daum.net/v/20170801184128126  \n",
       "3  https://v.daum.net/v/20170801185020317  \n",
       "4  https://v.daum.net/v/20170801074552385  "
      ]
     },
     "execution_count": 21,
     "metadata": {},
     "output_type": "execute_result"
    }
   ],
   "source": [
    "# 앞에서부터 10만개 데이터로 한정\n",
    "daum_cleaned_copy = daum_cleaned.iloc[:100000, :].copy()\n",
    "daum_cleaned_copy.reset_index(inplace=True)\n",
    "del daum_cleaned_copy['index']\n",
    "print(daum_cleaned_copy.shape)\n",
    "daum_cleaned_copy.head()"
   ]
  },
  {
   "cell_type": "markdown",
   "metadata": {},
   "source": [
    "2020-08-17 12:35 시작"
   ]
  },
  {
   "cell_type": "code",
   "execution_count": 27,
   "metadata": {
    "scrolled": true
   },
   "outputs": [
    {
     "name": "stdout",
     "output_type": "stream",
     "text": [
      "2020-08-17 12:46:57.893989 id 10000 is processed\n",
      "2020-08-17 12:58:27.586303 id 20000 is processed\n",
      "2020-08-17 13:10:44.620064 id 30000 is processed\n",
      "2020-08-17 13:23:54.141517 id 40000 is processed\n",
      "2020-08-17 13:38:05.372953 id 50000 is processed\n",
      "2020-08-17 13:52:47.877843 id 60000 is processed\n",
      "2020-08-17 14:07:57.975969 id 70000 is processed\n",
      "2020-08-17 14:24:14.155447 id 80000 is processed\n",
      "2020-08-17 14:40:56.507959 id 90000 is processed\n",
      "2020-08-17 14:58:35.861097 id 100000 is processed\n"
     ]
    }
   ],
   "source": [
    "daum_cleaned_copy['body_morphs'] = daum_cleaned_copy.apply(get_morphs_body, axis=1)"
   ]
  },
  {
   "cell_type": "markdown",
   "metadata": {},
   "source": [
    "2020-08-17 15:32 시작"
   ]
  },
  {
   "cell_type": "code",
   "execution_count": 29,
   "metadata": {},
   "outputs": [
    {
     "name": "stdout",
     "output_type": "stream",
     "text": [
      "2020-08-17 15:37:17.345306 id 10000 is processed\n",
      "2020-08-17 15:41:30.233287 id 20000 is processed\n",
      "2020-08-17 15:45:44.670126 id 30000 is processed\n",
      "2020-08-17 15:50:01.306088 id 40000 is processed\n",
      "2020-08-17 15:54:18.029849 id 50000 is processed\n",
      "2020-08-17 15:58:54.445897 id 60000 is processed\n",
      "2020-08-17 16:03:30.262586 id 70000 is processed\n",
      "2020-08-17 16:08:23.488734 id 80000 is processed\n",
      "2020-08-17 16:13:21.110131 id 90000 is processed\n",
      "2020-08-17 16:18:22.951250 id 100000 is processed\n"
     ]
    }
   ],
   "source": [
    "daum_cleaned_copy['summary_morphs'] = daum_cleaned_copy.apply(get_morphs_summary, axis=1)"
   ]
  },
  {
   "cell_type": "code",
   "execution_count": 31,
   "metadata": {},
   "outputs": [
    {
     "data": {
      "text/html": [
       "<div>\n",
       "<style scoped>\n",
       "    .dataframe tbody tr th:only-of-type {\n",
       "        vertical-align: middle;\n",
       "    }\n",
       "\n",
       "    .dataframe tbody tr th {\n",
       "        vertical-align: top;\n",
       "    }\n",
       "\n",
       "    .dataframe thead th {\n",
       "        text-align: right;\n",
       "    }\n",
       "</style>\n",
       "<table border=\"1\" class=\"dataframe\">\n",
       "  <thead>\n",
       "    <tr style=\"text-align: right;\">\n",
       "      <th></th>\n",
       "      <th>id</th>\n",
       "      <th>title</th>\n",
       "      <th>date</th>\n",
       "      <th>body</th>\n",
       "      <th>summary</th>\n",
       "      <th>link</th>\n",
       "      <th>body_morphs</th>\n",
       "      <th>summary_morphs</th>\n",
       "    </tr>\n",
       "  </thead>\n",
       "  <tbody>\n",
       "    <tr>\n",
       "      <th>0</th>\n",
       "      <td>1</td>\n",
       "      <td>반복된 음식점 단속에 절망한 26살 청년의 '극단적 선택'</td>\n",
       "      <td>2017.08.01. 09:00</td>\n",
       "      <td>\"벌금과 단속 걱정하던 아들, 장사 준비하던 현수막으로 목 메 숨져\"결혼까지 미루고...</td>\n",
       "      <td>26살 황승우씨는 지난 30일 오전 경기 남양주시 조안면 막국수집 주방에서 목을 메...</td>\n",
       "      <td>https://v.daum.net/v/20170801090037914</td>\n",
       "      <td>[\", 벌금, 과, 단속, 걱정, 하, 던, 아들, ,, 장사, 준비, 하, 던, ...</td>\n",
       "      <td>[26살, 황승우씨, 는, 지나, ㄴ, 30일, 오전, 경기, 남양주시, 조안면, ...</td>\n",
       "    </tr>\n",
       "    <tr>\n",
       "      <th>1</th>\n",
       "      <td>2</td>\n",
       "      <td>'즉석만남에 술 한잔 했는데'..휴가철 성범죄 표적된 여성들</td>\n",
       "      <td>2017.08.01. 15:59</td>\n",
       "      <td>#1. 20대 여성 A씨는 지난해 7월 서해 한 해수욕장에 놀러갔다가 우연히 30대...</td>\n",
       "      <td>본격적인 여름 휴가철을 맞아 해수욕장, 계곡과 같은 피서지에 인파가 몰리면서 성범죄...</td>\n",
       "      <td>https://v.daum.net/v/20170801155924346</td>\n",
       "      <td>[#1, ., 20대, 여성, A, 씨, 는, 지난해, 7월, 서, 어, 하, 어,...</td>\n",
       "      <td>[본격적, 이, ㄴ, 여름, 휴가철, 을, 맞, 아, 해수욕장, ,, 계곡, 과, ...</td>\n",
       "    </tr>\n",
       "    <tr>\n",
       "      <th>2</th>\n",
       "      <td>3</td>\n",
       "      <td>필리핀서 한국인 관광객 숨진채 발견..\"카지노서 거액 잃어\"</td>\n",
       "      <td>2017.08.01. 18:41</td>\n",
       "      <td>필리핀에서 30대 한국인 관광객이 숨진 채 발견됐다. 현지 경찰은 이 한국인이 카지...</td>\n",
       "      <td>필리핀에서 30대 한국인 관광객이 숨진 채 발견됐다. 현지 경찰은 이 한국인이 카지...</td>\n",
       "      <td>https://v.daum.net/v/20170801184128126</td>\n",
       "      <td>[필리핀, 에서, 30대, 한국인, 관광객, 이, 숨지, ㄴ, 채, 발견, 되, 었...</td>\n",
       "      <td>[필리핀, 에서, 30대, 한국인, 관광객, 이, 숨지, ㄴ, 채, 발견, 되, 었...</td>\n",
       "    </tr>\n",
       "    <tr>\n",
       "      <th>3</th>\n",
       "      <td>4</td>\n",
       "      <td>\"부인이 공관병 상대 갑질\" 논란 박찬주 육군대장 전역지원(종합)</td>\n",
       "      <td>2017.08.01. 18:50</td>\n",
       "      <td>공관병에 대한 부인의 '갑질' 의혹을 받고 있는 박찬주 육군 2작전사령관(대장)이 ...</td>\n",
       "      <td>공관병에 대한 부인의 '갑질' 의혹을 받고 있는 박찬주 육군 2작전사령관(대장)이 ...</td>\n",
       "      <td>https://v.daum.net/v/20170801185020317</td>\n",
       "      <td>[공관병, 에, 대하, ㄴ, 부인, 의, '갑질', 의혹, 을, 받, 고, 있, 는...</td>\n",
       "      <td>[공관병, 에, 대하, ㄴ, 부인, 의, '갑질', 의혹, 을, 받, 고, 있, 는...</td>\n",
       "    </tr>\n",
       "    <tr>\n",
       "      <th>4</th>\n",
       "      <td>5</td>\n",
       "      <td>화장실에 몰카 설치해 딸 친구 '찰칵' 목사 입건</td>\n",
       "      <td>2017.08.01. 07:45</td>\n",
       "      <td>청주 흥덕경찰서는 화장실에 '몰래카메라'를 설치해 한 집에 사는 딸의 친구를 촬영한...</td>\n",
       "      <td>경찰에 따르면 A씨는 지난달 29일 오후 3시 25분께 흥덕구의 자신의 집 화장실 ...</td>\n",
       "      <td>https://v.daum.net/v/20170801074552385</td>\n",
       "      <td>[청주, 흥덕경찰서, 는, 화장실, 에, ', 몰래카메라, ', 를, 설치, 하, ...</td>\n",
       "      <td>[경찰, 에, 따르, 면, A, 씨, 는, 지난달, 29일, 오후, 3시, 25분,...</td>\n",
       "    </tr>\n",
       "    <tr>\n",
       "      <th>...</th>\n",
       "      <td>...</td>\n",
       "      <td>...</td>\n",
       "      <td>...</td>\n",
       "      <td>...</td>\n",
       "      <td>...</td>\n",
       "      <td>...</td>\n",
       "      <td>...</td>\n",
       "      <td>...</td>\n",
       "    </tr>\n",
       "    <tr>\n",
       "      <th>99995</th>\n",
       "      <td>100219</td>\n",
       "      <td>용인 확진 남성, 클럽·식당 등 잇따라 방문..\"집단감염 우려\"</td>\n",
       "      <td>2020.05.07. 12:12</td>\n",
       "      <td>전국에서 사흘 만에 첫 지역사회 감염자로 판정된 경기 용인시 거주 29세 남성 A씨...</td>\n",
       "      <td>전국에서 사흘 만에 첫 지역사회 감염자로 판정된 경기 용인시 거주 29세 남성 A씨...</td>\n",
       "      <td>https://v.daum.net/v/20200507121209139</td>\n",
       "      <td>[전국, 에서, 사흘, 만, 에, 첫, 지역사회, 감염자, 로, 판정, 되, ㄴ, ...</td>\n",
       "      <td>[전국, 에서, 사흘, 만, 에, 첫, 지역사회, 감염자, 로, 판정, 되, ㄴ, ...</td>\n",
       "    </tr>\n",
       "    <tr>\n",
       "      <th>99996</th>\n",
       "      <td>100220</td>\n",
       "      <td>재난지원금 궁금증 10가지 '동네병원 되고 백화점 안돼요'</td>\n",
       "      <td>2020.05.07. 05:06</td>\n",
       "      <td>대학병원에서는 안되지만 약국에선 사용 가능?, 그럼 마트에서는? 사상 최초로 전 국...</td>\n",
       "      <td>사상 최초로 전 국민을 상대로 한 가구당 최대 100만원 긴급 재난지원금 지급이 본...</td>\n",
       "      <td>https://v.daum.net/v/20200507050603478</td>\n",
       "      <td>[대학병원, 에서는, 안되, 지, 말, ㄴ, 약국, 에선, 사용, 가능, ?, ,,...</td>\n",
       "      <td>[사상, 최초, 로, 전, 국민, 을, 상대, 로, 하, ㄴ, 가구당, 최대, 10...</td>\n",
       "    </tr>\n",
       "    <tr>\n",
       "      <th>99997</th>\n",
       "      <td>100221</td>\n",
       "      <td>나흘만에 지역감염 발생 '긴장'..\"코로나19 '은밀한 전파' 우려\"</td>\n",
       "      <td>2020.05.07. 06:00</td>\n",
       "      <td>나흘 만에 국내 지역사회에서 신종 코로나바이러스 감염증(코로나19) 확진자가 나오면...</td>\n",
       "      <td>나흘 만에 국내 지역사회에서 신종 코로나바이러스 감염증(코로나19) 확진자가 나오면...</td>\n",
       "      <td>https://v.daum.net/v/20200507060022032</td>\n",
       "      <td>[나흘, 만, 에, 국내, 지역사회, 에서, 신종, 코로나바이러스, 감염증(코로나1...</td>\n",
       "      <td>[나흘, 만, 에, 국내, 지역사회, 에서, 신종, 코로나바이러스, 감염증(코로나1...</td>\n",
       "    </tr>\n",
       "    <tr>\n",
       "      <th>99998</th>\n",
       "      <td>100222</td>\n",
       "      <td>동네마트 양배추·두부값이..재난지원금의 역설</td>\n",
       "      <td>2020.05.07. 09:50</td>\n",
       "      <td>\"요새 '집콕'이라 라면 뽀사먹는 재미에 사는데 재난지원금으로 사려고 집 앞 마트에...</td>\n",
       "      <td>\"요새 '집콕'이라 라면 뽀사먹는 재미에 사는데 재난지원금으로 사려고 집 앞 마트에...</td>\n",
       "      <td>https://v.daum.net/v/20200507095048101</td>\n",
       "      <td>[\", 요새, '집콕', 이, 라, 라, 이, 면, 뽀사먹, 는, 재미, 에, 사,...</td>\n",
       "      <td>[\", 요새, '집콕', 이, 라, 라, 이, 면, 뽀사먹, 는, 재미, 에, 사,...</td>\n",
       "    </tr>\n",
       "    <tr>\n",
       "      <th>99999</th>\n",
       "      <td>100223</td>\n",
       "      <td>\"서양선 서빙 스푼 사용하는데.. 한국선 반찬 집기 망설여져요\"</td>\n",
       "      <td>2020.05.07. 03:01</td>\n",
       "      <td>가장 놀란 건 고깃집에서다. 상당수 손님은 집게를 사용했지만 일부는 방금 전까지 자...</td>\n",
       "      <td>포르투갈 출신의 세르지우 멘드스 씨(38)는 한식 마니아다. 그런 멘드스 씨도 식사...</td>\n",
       "      <td>https://v.daum.net/v/20200507030124511</td>\n",
       "      <td>[가장, 놀라, ㄴ, 거, 은, 고깃집에서, 이, 다, ., 상당수, 손님, 은, ...</td>\n",
       "      <td>[포르투갈, 출신, 의, 세르지우, 멘드스, 씨(38), 는, 하, ㄴ, 식, 마니...</td>\n",
       "    </tr>\n",
       "  </tbody>\n",
       "</table>\n",
       "<p>100000 rows × 8 columns</p>\n",
       "</div>"
      ],
      "text/plain": [
       "           id                                   title               date  \\\n",
       "0           1        반복된 음식점 단속에 절망한 26살 청년의 '극단적 선택'  2017.08.01. 09:00   \n",
       "1           2       '즉석만남에 술 한잔 했는데'..휴가철 성범죄 표적된 여성들  2017.08.01. 15:59   \n",
       "2           3       필리핀서 한국인 관광객 숨진채 발견..\"카지노서 거액 잃어\"  2017.08.01. 18:41   \n",
       "3           4    \"부인이 공관병 상대 갑질\" 논란 박찬주 육군대장 전역지원(종합)  2017.08.01. 18:50   \n",
       "4           5             화장실에 몰카 설치해 딸 친구 '찰칵' 목사 입건  2017.08.01. 07:45   \n",
       "...       ...                                     ...                ...   \n",
       "99995  100219     용인 확진 남성, 클럽·식당 등 잇따라 방문..\"집단감염 우려\"  2020.05.07. 12:12   \n",
       "99996  100220        재난지원금 궁금증 10가지 '동네병원 되고 백화점 안돼요'  2020.05.07. 05:06   \n",
       "99997  100221  나흘만에 지역감염 발생 '긴장'..\"코로나19 '은밀한 전파' 우려\"  2020.05.07. 06:00   \n",
       "99998  100222                동네마트 양배추·두부값이..재난지원금의 역설  2020.05.07. 09:50   \n",
       "99999  100223     \"서양선 서빙 스푼 사용하는데.. 한국선 반찬 집기 망설여져요\"  2020.05.07. 03:01   \n",
       "\n",
       "                                                    body  \\\n",
       "0      \"벌금과 단속 걱정하던 아들, 장사 준비하던 현수막으로 목 메 숨져\"결혼까지 미루고...   \n",
       "1      #1. 20대 여성 A씨는 지난해 7월 서해 한 해수욕장에 놀러갔다가 우연히 30대...   \n",
       "2      필리핀에서 30대 한국인 관광객이 숨진 채 발견됐다. 현지 경찰은 이 한국인이 카지...   \n",
       "3      공관병에 대한 부인의 '갑질' 의혹을 받고 있는 박찬주 육군 2작전사령관(대장)이 ...   \n",
       "4      청주 흥덕경찰서는 화장실에 '몰래카메라'를 설치해 한 집에 사는 딸의 친구를 촬영한...   \n",
       "...                                                  ...   \n",
       "99995  전국에서 사흘 만에 첫 지역사회 감염자로 판정된 경기 용인시 거주 29세 남성 A씨...   \n",
       "99996  대학병원에서는 안되지만 약국에선 사용 가능?, 그럼 마트에서는? 사상 최초로 전 국...   \n",
       "99997  나흘 만에 국내 지역사회에서 신종 코로나바이러스 감염증(코로나19) 확진자가 나오면...   \n",
       "99998  \"요새 '집콕'이라 라면 뽀사먹는 재미에 사는데 재난지원금으로 사려고 집 앞 마트에...   \n",
       "99999  가장 놀란 건 고깃집에서다. 상당수 손님은 집게를 사용했지만 일부는 방금 전까지 자...   \n",
       "\n",
       "                                                 summary  \\\n",
       "0      26살 황승우씨는 지난 30일 오전 경기 남양주시 조안면 막국수집 주방에서 목을 메...   \n",
       "1      본격적인 여름 휴가철을 맞아 해수욕장, 계곡과 같은 피서지에 인파가 몰리면서 성범죄...   \n",
       "2      필리핀에서 30대 한국인 관광객이 숨진 채 발견됐다. 현지 경찰은 이 한국인이 카지...   \n",
       "3      공관병에 대한 부인의 '갑질' 의혹을 받고 있는 박찬주 육군 2작전사령관(대장)이 ...   \n",
       "4      경찰에 따르면 A씨는 지난달 29일 오후 3시 25분께 흥덕구의 자신의 집 화장실 ...   \n",
       "...                                                  ...   \n",
       "99995  전국에서 사흘 만에 첫 지역사회 감염자로 판정된 경기 용인시 거주 29세 남성 A씨...   \n",
       "99996  사상 최초로 전 국민을 상대로 한 가구당 최대 100만원 긴급 재난지원금 지급이 본...   \n",
       "99997  나흘 만에 국내 지역사회에서 신종 코로나바이러스 감염증(코로나19) 확진자가 나오면...   \n",
       "99998  \"요새 '집콕'이라 라면 뽀사먹는 재미에 사는데 재난지원금으로 사려고 집 앞 마트에...   \n",
       "99999  포르투갈 출신의 세르지우 멘드스 씨(38)는 한식 마니아다. 그런 멘드스 씨도 식사...   \n",
       "\n",
       "                                         link  \\\n",
       "0      https://v.daum.net/v/20170801090037914   \n",
       "1      https://v.daum.net/v/20170801155924346   \n",
       "2      https://v.daum.net/v/20170801184128126   \n",
       "3      https://v.daum.net/v/20170801185020317   \n",
       "4      https://v.daum.net/v/20170801074552385   \n",
       "...                                       ...   \n",
       "99995  https://v.daum.net/v/20200507121209139   \n",
       "99996  https://v.daum.net/v/20200507050603478   \n",
       "99997  https://v.daum.net/v/20200507060022032   \n",
       "99998  https://v.daum.net/v/20200507095048101   \n",
       "99999  https://v.daum.net/v/20200507030124511   \n",
       "\n",
       "                                             body_morphs  \\\n",
       "0      [\", 벌금, 과, 단속, 걱정, 하, 던, 아들, ,, 장사, 준비, 하, 던, ...   \n",
       "1      [#1, ., 20대, 여성, A, 씨, 는, 지난해, 7월, 서, 어, 하, 어,...   \n",
       "2      [필리핀, 에서, 30대, 한국인, 관광객, 이, 숨지, ㄴ, 채, 발견, 되, 었...   \n",
       "3      [공관병, 에, 대하, ㄴ, 부인, 의, '갑질', 의혹, 을, 받, 고, 있, 는...   \n",
       "4      [청주, 흥덕경찰서, 는, 화장실, 에, ', 몰래카메라, ', 를, 설치, 하, ...   \n",
       "...                                                  ...   \n",
       "99995  [전국, 에서, 사흘, 만, 에, 첫, 지역사회, 감염자, 로, 판정, 되, ㄴ, ...   \n",
       "99996  [대학병원, 에서는, 안되, 지, 말, ㄴ, 약국, 에선, 사용, 가능, ?, ,,...   \n",
       "99997  [나흘, 만, 에, 국내, 지역사회, 에서, 신종, 코로나바이러스, 감염증(코로나1...   \n",
       "99998  [\", 요새, '집콕', 이, 라, 라, 이, 면, 뽀사먹, 는, 재미, 에, 사,...   \n",
       "99999  [가장, 놀라, ㄴ, 거, 은, 고깃집에서, 이, 다, ., 상당수, 손님, 은, ...   \n",
       "\n",
       "                                          summary_morphs  \n",
       "0      [26살, 황승우씨, 는, 지나, ㄴ, 30일, 오전, 경기, 남양주시, 조안면, ...  \n",
       "1      [본격적, 이, ㄴ, 여름, 휴가철, 을, 맞, 아, 해수욕장, ,, 계곡, 과, ...  \n",
       "2      [필리핀, 에서, 30대, 한국인, 관광객, 이, 숨지, ㄴ, 채, 발견, 되, 었...  \n",
       "3      [공관병, 에, 대하, ㄴ, 부인, 의, '갑질', 의혹, 을, 받, 고, 있, 는...  \n",
       "4      [경찰, 에, 따르, 면, A, 씨, 는, 지난달, 29일, 오후, 3시, 25분,...  \n",
       "...                                                  ...  \n",
       "99995  [전국, 에서, 사흘, 만, 에, 첫, 지역사회, 감염자, 로, 판정, 되, ㄴ, ...  \n",
       "99996  [사상, 최초, 로, 전, 국민, 을, 상대, 로, 하, ㄴ, 가구당, 최대, 10...  \n",
       "99997  [나흘, 만, 에, 국내, 지역사회, 에서, 신종, 코로나바이러스, 감염증(코로나1...  \n",
       "99998  [\", 요새, '집콕', 이, 라, 라, 이, 면, 뽀사먹, 는, 재미, 에, 사,...  \n",
       "99999  [포르투갈, 출신, 의, 세르지우, 멘드스, 씨(38), 는, 하, ㄴ, 식, 마니...  \n",
       "\n",
       "[100000 rows x 8 columns]"
      ]
     },
     "execution_count": 31,
     "metadata": {},
     "output_type": "execute_result"
    }
   ],
   "source": [
    "daum_cleaned_copy"
   ]
  },
  {
   "cell_type": "markdown",
   "metadata": {},
   "source": [
    "## Naver + Daum"
   ]
  },
  {
   "cell_type": "code",
   "execution_count": 49,
   "metadata": {},
   "outputs": [],
   "source": [
    "naver_tokenized['site'] = 'naver'\n",
    "daum_cleaned_copy['site'] = 'daum'"
   ]
  },
  {
   "cell_type": "code",
   "execution_count": 50,
   "metadata": {},
   "outputs": [
    {
     "name": "stdout",
     "output_type": "stream",
     "text": [
      "(100000, 9)\n",
      "(100000, 9)\n",
      "(200000, 9)\n"
     ]
    }
   ],
   "source": [
    "print(naver_tokenized.shape)\n",
    "print(daum_cleaned_copy.shape)\n",
    "\n",
    "news_tokenized = pd.concat([naver_tokenized, daum_cleaned_copy], ignore_index=True)\n",
    "\n",
    "print(news_tokenized.shape)"
   ]
  },
  {
   "cell_type": "markdown",
   "metadata": {},
   "source": [
    "## csv로 저장 (tokenized)"
   ]
  },
  {
   "cell_type": "code",
   "execution_count": 54,
   "metadata": {},
   "outputs": [],
   "source": [
    "news_tokenized.to_csv('../../../data/news_tokenized.csv', header=True, index=False)"
   ]
  },
  {
   "cell_type": "code",
   "execution_count": null,
   "metadata": {},
   "outputs": [],
   "source": []
  }
 ],
 "metadata": {
  "kernelspec": {
   "display_name": "Python 3",
   "language": "python",
   "name": "python3"
  },
  "language_info": {
   "codemirror_mode": {
    "name": "ipython",
    "version": 3
   },
   "file_extension": ".py",
   "mimetype": "text/x-python",
   "name": "python",
   "nbconvert_exporter": "python",
   "pygments_lexer": "ipython3",
   "version": "3.8.3"
  },
  "toc": {
   "base_numbering": 1,
   "nav_menu": {},
   "number_sections": true,
   "sideBar": true,
   "skip_h1_title": false,
   "title_cell": "Table of Contents",
   "title_sidebar": "Contents",
   "toc_cell": false,
   "toc_position": {
    "height": "398px",
    "left": "105px",
    "top": "110px",
    "width": "256px"
   },
   "toc_section_display": true,
   "toc_window_display": true
  },
  "varInspector": {
   "cols": {
    "lenName": 16,
    "lenType": 16,
    "lenVar": 40
   },
   "kernels_config": {
    "python": {
     "delete_cmd_postfix": "",
     "delete_cmd_prefix": "del ",
     "library": "var_list.py",
     "varRefreshCmd": "print(var_dic_list())"
    },
    "r": {
     "delete_cmd_postfix": ") ",
     "delete_cmd_prefix": "rm(",
     "library": "var_list.r",
     "varRefreshCmd": "cat(var_dic_list()) "
    }
   },
   "position": {
    "height": "257.667px",
    "left": "906px",
    "right": "20px",
    "top": "105px",
    "width": "350px"
   },
   "types_to_exclude": [
    "module",
    "function",
    "builtin_function_or_method",
    "instance",
    "_Feature"
   ],
   "window_display": false
  }
 },
 "nbformat": 4,
 "nbformat_minor": 4
}
