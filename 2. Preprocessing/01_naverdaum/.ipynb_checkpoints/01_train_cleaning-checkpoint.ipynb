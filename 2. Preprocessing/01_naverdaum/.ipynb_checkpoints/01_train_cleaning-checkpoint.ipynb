{
 "cells": [
  {
   "cell_type": "markdown",
   "metadata": {},
   "source": [
    "전처리 중간과정을 진행할 때는 import, 한글깨짐 부분 실행하고 바로 해당 전처리 부분으로 넘어가서 db 가져오면 됨"
   ]
  },
  {
   "cell_type": "code",
   "execution_count": 28,
   "metadata": {},
   "outputs": [],
   "source": [
    "# 시간 관리 및 데이터 정제\n",
    "import datetime\n",
    "import re\n",
    "\n",
    "# 데이터 관리\n",
    "import sqlite3\n",
    "import pandas as pd\n",
    "import numpy as np\n",
    "\n",
    "# 텍스트 처리\n",
    "from konlpy.tag import Hannanum\n",
    "from nltk import Text\n",
    "from nltk.tokenize import sent_tokenize, regexp_tokenize\n",
    "\n",
    "# 시각화\n",
    "import matplotlib.pyplot as plt\n",
    "import matplotlib as mpl\n",
    "import seaborn as sns\n",
    "\n",
    "# 기타\n",
    "from collections import Counter\n",
    "import ast\n",
    "import pickle"
   ]
  },
  {
   "cell_type": "code",
   "execution_count": 11,
   "metadata": {},
   "outputs": [],
   "source": [
    "# 한글깨짐 해결\n",
    "plt.rcParams[\"font.family\"] = \"Malgun Gothic\"\n",
    "plt.rcParams[\"font.size\"] = 12\n",
    "plt.rcParams[\"figure.figsize\"] = (14,4)\n",
    "\n",
    "# 마이너스 깨짐 해결\n",
    "mpl.rcParams['axes.unicode_minus'] = False"
   ]
  },
  {
   "cell_type": "markdown",
   "metadata": {},
   "source": [
    "# Data Cleaning"
   ]
  },
  {
   "cell_type": "markdown",
   "metadata": {},
   "source": [
    "## Data Load (raw)"
   ]
  },
  {
   "cell_type": "code",
   "execution_count": 4,
   "metadata": {},
   "outputs": [],
   "source": [
    "conn = sqlite3.connect('../../data/news_raw.db')\n",
    "cur = conn.cursor()"
   ]
  },
  {
   "cell_type": "code",
   "execution_count": 5,
   "metadata": {},
   "outputs": [
    {
     "data": {
      "text/plain": [
       "(112466, 6)"
      ]
     },
     "execution_count": 5,
     "metadata": {},
     "output_type": "execute_result"
    }
   ],
   "source": [
    "query = cur.execute('SELECT * FROM navernews')\n",
    "cols = [column[0] for column in query.description]\n",
    "naver = pd.DataFrame.from_records(data=query.fetchall(), columns=cols)\n",
    "naver.shape"
   ]
  },
  {
   "cell_type": "code",
   "execution_count": 6,
   "metadata": {},
   "outputs": [
    {
     "data": {
      "text/plain": [
       "(109419, 6)"
      ]
     },
     "execution_count": 6,
     "metadata": {},
     "output_type": "execute_result"
    }
   ],
   "source": [
    "query = cur.execute('SELECT * FROM daumnews')\n",
    "cols = [column[0] for column in query.description]\n",
    "daum = pd.DataFrame.from_records(data=query.fetchall(), columns=cols)\n",
    "daum.shape"
   ]
  },
  {
   "cell_type": "code",
   "execution_count": 7,
   "metadata": {},
   "outputs": [
    {
     "data": {
      "text/html": [
       "<div>\n",
       "<style scoped>\n",
       "    .dataframe tbody tr th:only-of-type {\n",
       "        vertical-align: middle;\n",
       "    }\n",
       "\n",
       "    .dataframe tbody tr th {\n",
       "        vertical-align: top;\n",
       "    }\n",
       "\n",
       "    .dataframe thead th {\n",
       "        text-align: right;\n",
       "    }\n",
       "</style>\n",
       "<table border=\"1\" class=\"dataframe\">\n",
       "  <thead>\n",
       "    <tr style=\"text-align: right;\">\n",
       "      <th></th>\n",
       "      <th>id</th>\n",
       "      <th>title</th>\n",
       "      <th>date</th>\n",
       "      <th>body</th>\n",
       "      <th>summary</th>\n",
       "      <th>link</th>\n",
       "    </tr>\n",
       "  </thead>\n",
       "  <tbody>\n",
       "    <tr>\n",
       "      <th>0</th>\n",
       "      <td>1</td>\n",
       "      <td>이총리 \"폭염, 특별재난 준해…전기요금 제한적 특별배려 검토\"</td>\n",
       "      <td>2018.07.31. 오전 11:53</td>\n",
       "      <td>[연합뉴스TV 제공]국무회의 주재…체계적 폭염대책 주문\"최저임금 명암…변화 수용하되...</td>\n",
       "      <td>이낙연 국무총리는 31일 계속되는 폭염으로 전기요금 부담에 대한 우려가 커지고 있는...</td>\n",
       "      <td>https://news.naver.com/main/ranking/read.nhn?r...</td>\n",
       "    </tr>\n",
       "    <tr>\n",
       "      <th>1</th>\n",
       "      <td>2</td>\n",
       "      <td>김성태 \"盧 탄핵때도 기무사 대응문건 의혹…즉시 제출하라\"</td>\n",
       "      <td>2018.07.31. 오전 10:25</td>\n",
       "      <td>\"文대통령, 여름휴가 때 노동자·소상공인 생각하길\"김성태 자유한국당 원내대표. 뉴스...</td>\n",
       "      <td>김성태 자유한국당 원내대표는 31일 \"지난 2004년 노무현 전 대통령 탄핵 당시 ...</td>\n",
       "      <td>https://news.naver.com/main/ranking/read.nhn?r...</td>\n",
       "    </tr>\n",
       "    <tr>\n",
       "      <th>2</th>\n",
       "      <td>3</td>\n",
       "      <td>합참, 北 ICBM 제작 정황 보도에 \"면밀히 추적·감시중\"</td>\n",
       "      <td>2018.07.31. 오전 11:29</td>\n",
       "      <td>노재천 공보실장 \"공식확인 부적절…한미간 공조\"워싱턴포스트 \"액화연료 사용 ICBM...</td>\n",
       "      <td>합동참모본부는 31일 북한이 대륙간탄도미사일을 만들고 있는 정황을 포착했다는 보도와...</td>\n",
       "      <td>https://news.naver.com/main/ranking/read.nhn?r...</td>\n",
       "    </tr>\n",
       "    <tr>\n",
       "      <th>3</th>\n",
       "      <td>4</td>\n",
       "      <td>기무사 \"盧 대통령 탄핵 당시 계엄검토 문건 작성 안해\"</td>\n",
       "      <td>2018.07.31. 오후 2:43</td>\n",
       "      <td>김성태 의원 주장에 반박…지난 정부에서도 관련 내용 확인【과천=뉴시스】이영환 기자 ...</td>\n",
       "      <td>국군기무사령부는 31일 노무현 전 대통령 탄핵 당시 계엄령 문건을 작성했다는 김성태...</td>\n",
       "      <td>https://news.naver.com/main/ranking/read.nhn?r...</td>\n",
       "    </tr>\n",
       "    <tr>\n",
       "      <th>4</th>\n",
       "      <td>5</td>\n",
       "      <td>'종전문제 다룰까' 北, 이례적 회담 제의 이어 전향적 태도 보여</td>\n",
       "      <td>2018.07.31. 오후 12:55</td>\n",
       "      <td>안익산 대표 \"南 흔들어 종전선언? 보도, 그럴 수 있다\" 이해【파주=뉴시스】사진공...</td>\n",
       "      <td>북한이 이례적으로 남북 장성급 군사회담을 먼저 제의한데 이어 회담에서 전향적인 태도...</td>\n",
       "      <td>https://news.naver.com/main/ranking/read.nhn?r...</td>\n",
       "    </tr>\n",
       "  </tbody>\n",
       "</table>\n",
       "</div>"
      ],
      "text/plain": [
       "   id                                 title                  date  \\\n",
       "0   1    이총리 \"폭염, 특별재난 준해…전기요금 제한적 특별배려 검토\"  2018.07.31. 오전 11:53   \n",
       "1   2      김성태 \"盧 탄핵때도 기무사 대응문건 의혹…즉시 제출하라\"  2018.07.31. 오전 10:25   \n",
       "2   3     합참, 北 ICBM 제작 정황 보도에 \"면밀히 추적·감시중\"  2018.07.31. 오전 11:29   \n",
       "3   4       기무사 \"盧 대통령 탄핵 당시 계엄검토 문건 작성 안해\"   2018.07.31. 오후 2:43   \n",
       "4   5  '종전문제 다룰까' 北, 이례적 회담 제의 이어 전향적 태도 보여  2018.07.31. 오후 12:55   \n",
       "\n",
       "                                                body  \\\n",
       "0  [연합뉴스TV 제공]국무회의 주재…체계적 폭염대책 주문\"최저임금 명암…변화 수용하되...   \n",
       "1  \"文대통령, 여름휴가 때 노동자·소상공인 생각하길\"김성태 자유한국당 원내대표. 뉴스...   \n",
       "2  노재천 공보실장 \"공식확인 부적절…한미간 공조\"워싱턴포스트 \"액화연료 사용 ICBM...   \n",
       "3  김성태 의원 주장에 반박…지난 정부에서도 관련 내용 확인【과천=뉴시스】이영환 기자 ...   \n",
       "4  안익산 대표 \"南 흔들어 종전선언? 보도, 그럴 수 있다\" 이해【파주=뉴시스】사진공...   \n",
       "\n",
       "                                             summary  \\\n",
       "0  이낙연 국무총리는 31일 계속되는 폭염으로 전기요금 부담에 대한 우려가 커지고 있는...   \n",
       "1  김성태 자유한국당 원내대표는 31일 \"지난 2004년 노무현 전 대통령 탄핵 당시 ...   \n",
       "2  합동참모본부는 31일 북한이 대륙간탄도미사일을 만들고 있는 정황을 포착했다는 보도와...   \n",
       "3  국군기무사령부는 31일 노무현 전 대통령 탄핵 당시 계엄령 문건을 작성했다는 김성태...   \n",
       "4  북한이 이례적으로 남북 장성급 군사회담을 먼저 제의한데 이어 회담에서 전향적인 태도...   \n",
       "\n",
       "                                                link  \n",
       "0  https://news.naver.com/main/ranking/read.nhn?r...  \n",
       "1  https://news.naver.com/main/ranking/read.nhn?r...  \n",
       "2  https://news.naver.com/main/ranking/read.nhn?r...  \n",
       "3  https://news.naver.com/main/ranking/read.nhn?r...  \n",
       "4  https://news.naver.com/main/ranking/read.nhn?r...  "
      ]
     },
     "execution_count": 7,
     "metadata": {},
     "output_type": "execute_result"
    }
   ],
   "source": [
    "naver.head()"
   ]
  },
  {
   "cell_type": "code",
   "execution_count": 8,
   "metadata": {},
   "outputs": [
    {
     "data": {
      "text/html": [
       "<div>\n",
       "<style scoped>\n",
       "    .dataframe tbody tr th:only-of-type {\n",
       "        vertical-align: middle;\n",
       "    }\n",
       "\n",
       "    .dataframe tbody tr th {\n",
       "        vertical-align: top;\n",
       "    }\n",
       "\n",
       "    .dataframe thead th {\n",
       "        text-align: right;\n",
       "    }\n",
       "</style>\n",
       "<table border=\"1\" class=\"dataframe\">\n",
       "  <thead>\n",
       "    <tr style=\"text-align: right;\">\n",
       "      <th></th>\n",
       "      <th>id</th>\n",
       "      <th>title</th>\n",
       "      <th>date</th>\n",
       "      <th>body</th>\n",
       "      <th>summary</th>\n",
       "      <th>link</th>\n",
       "    </tr>\n",
       "  </thead>\n",
       "  <tbody>\n",
       "    <tr>\n",
       "      <th>0</th>\n",
       "      <td>1</td>\n",
       "      <td>반복된 음식점 단속에 절망한 26살 청년의 '극단적 선택'</td>\n",
       "      <td>2017.08.01. 09:00</td>\n",
       "      <td>\"벌금과 단속 걱정하던 아들, 장사 준비하던 현수막으로 목 메 숨져\"결혼까지 미루고...</td>\n",
       "      <td>26살 황승우씨는 지난 30일 오전 경기 남양주시 조안면 막국수집 주방에서 목을 메...</td>\n",
       "      <td>https://v.daum.net/v/20170801090037914</td>\n",
       "    </tr>\n",
       "    <tr>\n",
       "      <th>1</th>\n",
       "      <td>2</td>\n",
       "      <td>'즉석만남에 술 한잔 했는데'..휴가철 성범죄 표적된 여성들</td>\n",
       "      <td>2017.08.01. 15:59</td>\n",
       "      <td>#1. 20대 여성 A씨는 지난해 7월 서해 한 해수욕장에 놀러갔다가 우연히 30대...</td>\n",
       "      <td>본격적인 여름 휴가철을 맞아 해수욕장, 계곡과 같은 피서지에 인파가 몰리면서 성범죄...</td>\n",
       "      <td>https://v.daum.net/v/20170801155924346</td>\n",
       "    </tr>\n",
       "    <tr>\n",
       "      <th>2</th>\n",
       "      <td>3</td>\n",
       "      <td>필리핀서 한국인 관광객 숨진채 발견..\"카지노서 거액 잃어\"</td>\n",
       "      <td>2017.08.01. 18:41</td>\n",
       "      <td>(하노이=연합뉴스) 김문성 특파원 = 필리핀에서 30대 한국인 관광객이 숨진 채 발...</td>\n",
       "      <td>필리핀에서 30대 한국인 관광객이 숨진 채 발견됐다.\\n현지 경찰은 이 한국인이 카...</td>\n",
       "      <td>https://v.daum.net/v/20170801184128126</td>\n",
       "    </tr>\n",
       "    <tr>\n",
       "      <th>3</th>\n",
       "      <td>4</td>\n",
       "      <td>\"부인이 공관병 상대 갑질\" 논란 박찬주 육군대장 전역지원(종합)</td>\n",
       "      <td>2017.08.01. 18:50</td>\n",
       "      <td>\\n(서울=연합뉴스) 김귀근 이영재 기자 = 공관병에 대한 부인의 '갑질' 의혹을 ...</td>\n",
       "      <td>공관병에 대한 부인의 '갑질' 의혹을 받고 있는 박찬주 육군 2작전사령관(대장)이 ...</td>\n",
       "      <td>https://v.daum.net/v/20170801185020317</td>\n",
       "    </tr>\n",
       "    <tr>\n",
       "      <th>4</th>\n",
       "      <td>5</td>\n",
       "      <td>화장실에 몰카 설치해 딸 친구 '찰칵' 목사 입건</td>\n",
       "      <td>2017.08.01. 07:45</td>\n",
       "      <td>(청주=연합뉴스) 이승민 기자 = 청주 흥덕경찰서는 화장실에 '몰래카메라'를 설치해...</td>\n",
       "      <td>경찰에 따르면 A씨는 지난달 29일 오후 3시 25분께 흥덕구의 자신의 집 화장실 ...</td>\n",
       "      <td>https://v.daum.net/v/20170801074552385</td>\n",
       "    </tr>\n",
       "  </tbody>\n",
       "</table>\n",
       "</div>"
      ],
      "text/plain": [
       "   id                                 title               date  \\\n",
       "0   1      반복된 음식점 단속에 절망한 26살 청년의 '극단적 선택'  2017.08.01. 09:00   \n",
       "1   2     '즉석만남에 술 한잔 했는데'..휴가철 성범죄 표적된 여성들  2017.08.01. 15:59   \n",
       "2   3     필리핀서 한국인 관광객 숨진채 발견..\"카지노서 거액 잃어\"  2017.08.01. 18:41   \n",
       "3   4  \"부인이 공관병 상대 갑질\" 논란 박찬주 육군대장 전역지원(종합)  2017.08.01. 18:50   \n",
       "4   5           화장실에 몰카 설치해 딸 친구 '찰칵' 목사 입건  2017.08.01. 07:45   \n",
       "\n",
       "                                                body  \\\n",
       "0  \"벌금과 단속 걱정하던 아들, 장사 준비하던 현수막으로 목 메 숨져\"결혼까지 미루고...   \n",
       "1  #1. 20대 여성 A씨는 지난해 7월 서해 한 해수욕장에 놀러갔다가 우연히 30대...   \n",
       "2  (하노이=연합뉴스) 김문성 특파원 = 필리핀에서 30대 한국인 관광객이 숨진 채 발...   \n",
       "3  \\n(서울=연합뉴스) 김귀근 이영재 기자 = 공관병에 대한 부인의 '갑질' 의혹을 ...   \n",
       "4  (청주=연합뉴스) 이승민 기자 = 청주 흥덕경찰서는 화장실에 '몰래카메라'를 설치해...   \n",
       "\n",
       "                                             summary  \\\n",
       "0  26살 황승우씨는 지난 30일 오전 경기 남양주시 조안면 막국수집 주방에서 목을 메...   \n",
       "1  본격적인 여름 휴가철을 맞아 해수욕장, 계곡과 같은 피서지에 인파가 몰리면서 성범죄...   \n",
       "2  필리핀에서 30대 한국인 관광객이 숨진 채 발견됐다.\\n현지 경찰은 이 한국인이 카...   \n",
       "3  공관병에 대한 부인의 '갑질' 의혹을 받고 있는 박찬주 육군 2작전사령관(대장)이 ...   \n",
       "4  경찰에 따르면 A씨는 지난달 29일 오후 3시 25분께 흥덕구의 자신의 집 화장실 ...   \n",
       "\n",
       "                                     link  \n",
       "0  https://v.daum.net/v/20170801090037914  \n",
       "1  https://v.daum.net/v/20170801155924346  \n",
       "2  https://v.daum.net/v/20170801184128126  \n",
       "3  https://v.daum.net/v/20170801185020317  \n",
       "4  https://v.daum.net/v/20170801074552385  "
      ]
     },
     "execution_count": 8,
     "metadata": {},
     "output_type": "execute_result"
    }
   ],
   "source": [
    "daum.head()"
   ]
  },
  {
   "cell_type": "code",
   "execution_count": 9,
   "metadata": {},
   "outputs": [],
   "source": [
    "cur.close()\n",
    "conn.close()"
   ]
  },
  {
   "cell_type": "code",
   "execution_count": 19,
   "metadata": {},
   "outputs": [
    {
     "data": {
      "text/plain": [
       "id         0\n",
       "title      0\n",
       "date       0\n",
       "body       0\n",
       "summary    0\n",
       "link       0\n",
       "dtype: int64"
      ]
     },
     "execution_count": 19,
     "metadata": {},
     "output_type": "execute_result"
    }
   ],
   "source": [
    "naver.isna().sum()"
   ]
  },
  {
   "cell_type": "code",
   "execution_count": 20,
   "metadata": {},
   "outputs": [
    {
     "data": {
      "text/plain": [
       "id         0\n",
       "title      0\n",
       "date       0\n",
       "body       0\n",
       "summary    0\n",
       "link       0\n",
       "dtype: int64"
      ]
     },
     "execution_count": 20,
     "metadata": {},
     "output_type": "execute_result"
    }
   ],
   "source": [
    "daum.isna().sum()"
   ]
  },
  {
   "cell_type": "markdown",
   "metadata": {},
   "source": [
    "## String 길이 250보다 큰 데이터만 남기기 (body)"
   ]
  },
  {
   "cell_type": "code",
   "execution_count": 42,
   "metadata": {},
   "outputs": [],
   "source": [
    "# 본문의 string 길이가 250보다 큰 데이터만 남기기 => 요약을 위해서 어느정도 길이가 있어야 된다고 판단\n",
    "naver_copy = naver.loc[naver['body'].str.len() > 250].copy()\n",
    "daum_copy = daum.loc[daum['body'].str.len() > 250].copy()\n",
    "\n",
    "naver_copy.reset_index(drop=True, inplace=True)\n",
    "daum_copy.reset_index(drop=True, inplace=True)"
   ]
  },
  {
   "cell_type": "code",
   "execution_count": 43,
   "metadata": {},
   "outputs": [
    {
     "data": {
      "text/plain": [
       "((112466, 6), (111918, 6), (109419, 6), (108033, 6))"
      ]
     },
     "execution_count": 43,
     "metadata": {},
     "output_type": "execute_result"
    }
   ],
   "source": [
    "naver.shape, naver_copy.shape, daum.shape, daum_copy.shape"
   ]
  },
  {
   "cell_type": "markdown",
   "metadata": {},
   "source": [
    "## cleaning"
   ]
  },
  {
   "cell_type": "code",
   "execution_count": 77,
   "metadata": {},
   "outputs": [],
   "source": [
    "def cleaning(text):\n",
    "    '''\n",
    "    1. 기자이메일, 각종 계정 제거\n",
    "    2. 특수문자 대체\n",
    "    3. 단위 통일\n",
    "    4. 한자어 대체\n",
    "    5. 일부 특수 문자, 띄어쓰기, 영어, 한글 등을 제외하고 모두 제거 (ex. 한자)\n",
    "    6. 언론사명, 기자명 제거\n",
    "    7. 음성정보 제공용 텍스트 안내문구 제거\n",
    "    8. 줄바꿈, 중략, 등호 처리\n",
    "    9. 여러 개의 공백 하나로 줄이기\n",
    "\n",
    "    '''\n",
    "    \n",
    "    # 1. 기자이메일, 각종 계정 제거\n",
    "    text = re.sub(r'([A-Za-z가-힣]+\\s?기자)?\\s?[A-Za-z0-9]+@([A-Za-z0-9.]+\\s*[A-Za-z가-힣 ]*)?', '', text)\n",
    "    \n",
    "    # 2. 특수문자 대체\n",
    "    text = re.sub(r'＂', '\"', text)\n",
    "    text = re.sub(r'，', ',', text)\n",
    "    text = re.sub(r'∙', '·', text)\n",
    "    text = re.sub(r'‘”', '\\'\"', text)\n",
    "    text = re.sub(r'……', ' ', text)\n",
    "    text = re.sub(r'’”', '\\'\"', text)\n",
    "    text = re.sub(r'[○ㅇ]', 'ㅇ', text)\n",
    "    text = re.sub(r'＊', '*', text)\n",
    "    text = re.sub(r'⋯‘', \" '\", text)\n",
    "    text = re.sub(r'…', ' ', text)\n",
    "    text = re.sub(r'…’', \" '\", text)\n",
    "    text = re.sub(r'＆', '&', text)\n",
    "    text = re.sub(r'“', '\"', text)\n",
    "    text = re.sub(r'”', '\"', text)\n",
    "    text = re.sub(r'(↓)', ' 감소', text)\n",
    "    text = re.sub(r'(↑)', ' 상승', text)\n",
    "    text = re.sub(r\"\\'|\\\"\", ' ', text)\n",
    "    text = re.sub(r\"(▲)\", '', text)\n",
    "    \n",
    "    # 3. 단위 통일\n",
    "    text = re.sub(r'(㎥)', '세제곱미터', text)\n",
    "    text = re.sub(r'(km)', '킬로미터', text)\n",
    "    text = re.sub(r'(㎞)', '킬로미터', text)\n",
    "    text = re.sub(r'(mm)', '밀리미터', text)\n",
    "    text = re.sub(r'(㎜)', '밀리미터', text)\n",
    "    text = re.sub(r'(ｍ)|(m)', '미터', text)\n",
    "    text = re.sub(r'(%)', '퍼센트', text)\n",
    "    text = re.sub(r'(％)', '퍼센트', text)\n",
    "    text = re.sub(r'(㎿)', '메가와트', text)\n",
    "    text = re.sub(r'(㏊)', '헥타르', text)\n",
    "    text = re.sub(r'½', '2분의 1', text)\n",
    "    text = re.sub(r'㎜', '밀리미터', text)\n",
    "    text = re.sub(r'mm', '밀리미터', text)\n",
    "    text = re.sub(r'㎢', '제곱킬로미터', text)\n",
    "    text = re.sub(r'㎚', '나노미터', text)\n",
    "\n",
    "    # 4. 한자어 대체\n",
    "    text = re.sub(r\"(美)\", '미국', text)\n",
    "    text = re.sub(r\"(佛)\", '프랑스', text)\n",
    "    text = re.sub(r\"(UAE)\", '아랍에미리트', text)\n",
    "    text = re.sub(r\"(中)\", '중국', text)\n",
    "    text = re.sub(r\"(日)\", '일본', text)\n",
    "    text = re.sub(r\"(韓)\", '한국', text)\n",
    "    text = re.sub(r\"(北)\", '북한', text)\n",
    "    text = re.sub(r\"(靑)\", '청와대', text)\n",
    "    text = re.sub(r\"(與)\", '여당', text)\n",
    "    text = re.sub(r\"(野)\", '야당', text)\n",
    "    text = re.sub(r\"(新)\", '신규', text)\n",
    "    text = re.sub(r\"(外)\", '외', text)\n",
    "    text = re.sub(r\"(英)\", '영국', text)\n",
    "    \n",
    "    # 5. 일부 특수문자(.,?!/@$%~％·∼()【】©), 띄어쓰기, ASCII 문자(\\x00-\\x7F), 한글(가-힣)) 제외하고 제거\n",
    "    text = re.sub(r'[^ .,?!/@$%~％·∼()【】©\\x00-\\x7F가-힣]+', '', text)\n",
    "    \n",
    "    # 6. 언론사명, 기자명 제거\n",
    "    text = re.sub(r'(취재기자\\s?:\\s?\\w{1,})?', '', text)\n",
    "    text = re.sub(r'(촬영기자\\s?:\\s?\\w{1,})?', '', text)\n",
    "    text = re.sub(r'(그래픽\\s?:\\s?\\w{1,})?', '', text)\n",
    "    text = re.sub(r'(자막뉴스\\s?:\\s?\\w{1,})?', '', text)\n",
    "    text = re.sub(r'\\[앵커\\]|\\[기자\\]', '', text)\n",
    "\n",
    "        # = 이 있는 경우\n",
    "    text = re.sub(r'[\\[\\(【][가-힣A-Za-z0-9\\s,\\(\\)/·!]+=[가-힣A-Za-z0-9\\s,\\(\\)/·]+[\\]\\)】]\\s?([가-힣A-Za-z\\s]+=)*',\n",
    "                   '', text)\n",
    "        # = 이 없는 경우 본문의 중요 정보가 사라지지 않도록 ()는 match에서 제외\n",
    "    text = re.sub(r'[\\[【][가-힣A-Za-z0-9\\s,\\(\\)/·:|!]+[\\]】]\\s?([가-힣A-Za-z\\s]+=)*', '', text)\n",
    "    text = re.sub(r'[가-힣A-Za-z0-9\\s,\\(\\)/·:|]*©[가-힣A-Za-z0-9\\s,\\(\\)/·:|]+기자', '', text)\n",
    "    text = re.sub(r'\\(베스트 일레븐\\)', '', text)\n",
    "    text = re.sub(r'News1[가-힣A-Za-z0-9\\s,\\(\\)/·:|]+디자이너', '', text)\n",
    "    \n",
    "    # 7. 음성정보 제공용 텍스트 안내문구 제거\n",
    "    text = re.sub(r'<<[가-힣A-Za-z0-9 ]+>>', '', text)\n",
    "    \n",
    "    # 8. 줄바꿈, 중략, 등호 처리\n",
    "    text = re.sub(r'\\n', ' ', text)\n",
    "    text = re.sub(r'\\.\\.\\. \\(중략\\)', ' ', text)\n",
    "    text = re.sub(r'=', '', text)\n",
    "    \n",
    "    # 9. 여러 개의 공백 하나로 줄이기\n",
    "    text = re.sub(r'\\s+', ' ', text).strip()\n",
    "    \n",
    "    return text"
   ]
  },
  {
   "cell_type": "code",
   "execution_count": 78,
   "metadata": {},
   "outputs": [],
   "source": [
    "naver_copy['body'] = naver_copy['body'].apply(cleaning)"
   ]
  },
  {
   "cell_type": "code",
   "execution_count": 79,
   "metadata": {},
   "outputs": [],
   "source": [
    "daum_copy['body'] = daum_copy['body'].apply(cleaning)"
   ]
  },
  {
   "cell_type": "code",
   "execution_count": 80,
   "metadata": {},
   "outputs": [],
   "source": [
    "naver_copy['summary'] = naver_copy['summary'].apply(cleaning)"
   ]
  },
  {
   "cell_type": "code",
   "execution_count": 81,
   "metadata": {},
   "outputs": [],
   "source": [
    "daum_copy['summary'] = daum_copy['summary'].apply(cleaning)"
   ]
  },
  {
   "cell_type": "code",
   "execution_count": 82,
   "metadata": {},
   "outputs": [
    {
     "data": {
      "text/html": [
       "<div>\n",
       "<style scoped>\n",
       "    .dataframe tbody tr th:only-of-type {\n",
       "        vertical-align: middle;\n",
       "    }\n",
       "\n",
       "    .dataframe tbody tr th {\n",
       "        vertical-align: top;\n",
       "    }\n",
       "\n",
       "    .dataframe thead th {\n",
       "        text-align: right;\n",
       "    }\n",
       "</style>\n",
       "<table border=\"1\" class=\"dataframe\">\n",
       "  <thead>\n",
       "    <tr style=\"text-align: right;\">\n",
       "      <th></th>\n",
       "      <th>id</th>\n",
       "      <th>title</th>\n",
       "      <th>date</th>\n",
       "      <th>body</th>\n",
       "      <th>summary</th>\n",
       "      <th>link</th>\n",
       "    </tr>\n",
       "  </thead>\n",
       "  <tbody>\n",
       "    <tr>\n",
       "      <th>0</th>\n",
       "      <td>1</td>\n",
       "      <td>이총리 \"폭염, 특별재난 준해…전기요금 제한적 특별배려 검토\"</td>\n",
       "      <td>2018.07.31. 오전 11:53</td>\n",
       "      <td>국무회의 주재 체계적 폭염대책 주문 최저임금 명암 변화 수용하되 진통 최소화하는 지...</td>\n",
       "      <td>이낙연 국무총리는 31일 계속되는 폭염으로 전기요금 부담에 대한 우려가 커지고 있는...</td>\n",
       "      <td>https://news.naver.com/main/ranking/read.nhn?r...</td>\n",
       "    </tr>\n",
       "    <tr>\n",
       "      <th>1</th>\n",
       "      <td>2</td>\n",
       "      <td>김성태 \"盧 탄핵때도 기무사 대응문건 의혹…즉시 제출하라\"</td>\n",
       "      <td>2018.07.31. 오전 10:25</td>\n",
       "      <td>대통령, 여름휴가 때 노동자·소상공인 생각하길 김성태 자유한국당 원내대표. 김성태 ...</td>\n",
       "      <td>김성태 자유한국당 원내대표는 31일 지난 2004년 노무현 전 대통령 탄핵 당시 국...</td>\n",
       "      <td>https://news.naver.com/main/ranking/read.nhn?r...</td>\n",
       "    </tr>\n",
       "    <tr>\n",
       "      <th>2</th>\n",
       "      <td>3</td>\n",
       "      <td>합참, 北 ICBM 제작 정황 보도에 \"면밀히 추적·감시중\"</td>\n",
       "      <td>2018.07.31. 오전 11:29</td>\n",
       "      <td>노재천 공보실장 공식확인 부적절 한미간 공조 워싱턴포스트 액화연료 사용 ICBM 1...</td>\n",
       "      <td>합동참모본부는 31일 북한이 대륙간탄도미사일을 만들고 있는 정황을 포착했다는 보도와...</td>\n",
       "      <td>https://news.naver.com/main/ranking/read.nhn?r...</td>\n",
       "    </tr>\n",
       "    <tr>\n",
       "      <th>3</th>\n",
       "      <td>4</td>\n",
       "      <td>기무사 \"盧 대통령 탄핵 당시 계엄검토 문건 작성 안해\"</td>\n",
       "      <td>2018.07.31. 오후 2:43</td>\n",
       "      <td>김성태 의원 주장에 반박 지난 정부에서도 관련 내용 확인 국방부 특별수사단이 계엄령...</td>\n",
       "      <td>국군기무사령부는 31일 노무현 전 대통령 탄핵 당시 계엄령 문건을 작성했다는 김성태...</td>\n",
       "      <td>https://news.naver.com/main/ranking/read.nhn?r...</td>\n",
       "    </tr>\n",
       "    <tr>\n",
       "      <th>4</th>\n",
       "      <td>5</td>\n",
       "      <td>'종전문제 다룰까' 北, 이례적 회담 제의 이어 전향적 태도 보여</td>\n",
       "      <td>2018.07.31. 오후 12:55</td>\n",
       "      <td>안익산 대표 흔들어 종전선언? 보도, 그럴 수 있다 이해 안익산 북측 수석대표가 3...</td>\n",
       "      <td>북한이 이례적으로 남북 장성급 군사회담을 먼저 제의한데 이어 회담에서 전향적인 태도...</td>\n",
       "      <td>https://news.naver.com/main/ranking/read.nhn?r...</td>\n",
       "    </tr>\n",
       "  </tbody>\n",
       "</table>\n",
       "</div>"
      ],
      "text/plain": [
       "   id                                 title                  date  \\\n",
       "0   1    이총리 \"폭염, 특별재난 준해…전기요금 제한적 특별배려 검토\"  2018.07.31. 오전 11:53   \n",
       "1   2      김성태 \"盧 탄핵때도 기무사 대응문건 의혹…즉시 제출하라\"  2018.07.31. 오전 10:25   \n",
       "2   3     합참, 北 ICBM 제작 정황 보도에 \"면밀히 추적·감시중\"  2018.07.31. 오전 11:29   \n",
       "3   4       기무사 \"盧 대통령 탄핵 당시 계엄검토 문건 작성 안해\"   2018.07.31. 오후 2:43   \n",
       "4   5  '종전문제 다룰까' 北, 이례적 회담 제의 이어 전향적 태도 보여  2018.07.31. 오후 12:55   \n",
       "\n",
       "                                                body  \\\n",
       "0  국무회의 주재 체계적 폭염대책 주문 최저임금 명암 변화 수용하되 진통 최소화하는 지...   \n",
       "1  대통령, 여름휴가 때 노동자·소상공인 생각하길 김성태 자유한국당 원내대표. 김성태 ...   \n",
       "2  노재천 공보실장 공식확인 부적절 한미간 공조 워싱턴포스트 액화연료 사용 ICBM 1...   \n",
       "3  김성태 의원 주장에 반박 지난 정부에서도 관련 내용 확인 국방부 특별수사단이 계엄령...   \n",
       "4  안익산 대표 흔들어 종전선언? 보도, 그럴 수 있다 이해 안익산 북측 수석대표가 3...   \n",
       "\n",
       "                                             summary  \\\n",
       "0  이낙연 국무총리는 31일 계속되는 폭염으로 전기요금 부담에 대한 우려가 커지고 있는...   \n",
       "1  김성태 자유한국당 원내대표는 31일 지난 2004년 노무현 전 대통령 탄핵 당시 국...   \n",
       "2  합동참모본부는 31일 북한이 대륙간탄도미사일을 만들고 있는 정황을 포착했다는 보도와...   \n",
       "3  국군기무사령부는 31일 노무현 전 대통령 탄핵 당시 계엄령 문건을 작성했다는 김성태...   \n",
       "4  북한이 이례적으로 남북 장성급 군사회담을 먼저 제의한데 이어 회담에서 전향적인 태도...   \n",
       "\n",
       "                                                link  \n",
       "0  https://news.naver.com/main/ranking/read.nhn?r...  \n",
       "1  https://news.naver.com/main/ranking/read.nhn?r...  \n",
       "2  https://news.naver.com/main/ranking/read.nhn?r...  \n",
       "3  https://news.naver.com/main/ranking/read.nhn?r...  \n",
       "4  https://news.naver.com/main/ranking/read.nhn?r...  "
      ]
     },
     "execution_count": 82,
     "metadata": {},
     "output_type": "execute_result"
    }
   ],
   "source": [
    "naver_copy.head()"
   ]
  },
  {
   "cell_type": "code",
   "execution_count": 87,
   "metadata": {},
   "outputs": [
    {
     "data": {
      "text/html": [
       "<div>\n",
       "<style scoped>\n",
       "    .dataframe tbody tr th:only-of-type {\n",
       "        vertical-align: middle;\n",
       "    }\n",
       "\n",
       "    .dataframe tbody tr th {\n",
       "        vertical-align: top;\n",
       "    }\n",
       "\n",
       "    .dataframe thead th {\n",
       "        text-align: right;\n",
       "    }\n",
       "</style>\n",
       "<table border=\"1\" class=\"dataframe\">\n",
       "  <thead>\n",
       "    <tr style=\"text-align: right;\">\n",
       "      <th></th>\n",
       "      <th>id</th>\n",
       "      <th>title</th>\n",
       "      <th>date</th>\n",
       "      <th>body</th>\n",
       "      <th>summary</th>\n",
       "      <th>link</th>\n",
       "    </tr>\n",
       "  </thead>\n",
       "  <tbody>\n",
       "    <tr>\n",
       "      <th>0</th>\n",
       "      <td>1</td>\n",
       "      <td>반복된 음식점 단속에 절망한 26살 청년의 '극단적 선택'</td>\n",
       "      <td>2017.08.01. 09:00</td>\n",
       "      <td>벌금과 단속 걱정하던 아들, 장사 준비하던 현수막으로 목 메 숨져 결혼까지 미루고 ...</td>\n",
       "      <td>26살 황승우씨는 지난 30일 오전 경기 남양주시 조안면 막국수집 주방에서 목을 메...</td>\n",
       "      <td>https://v.daum.net/v/20170801090037914</td>\n",
       "    </tr>\n",
       "    <tr>\n",
       "      <th>1</th>\n",
       "      <td>2</td>\n",
       "      <td>'즉석만남에 술 한잔 했는데'..휴가철 성범죄 표적된 여성들</td>\n",
       "      <td>2017.08.01. 15:59</td>\n",
       "      <td>#1. 20대 여성 A씨는 지난해 7월 서해 한 해수욕장에 놀러갔다가 우연히 30대...</td>\n",
       "      <td>본격적인 여름 휴가철을 맞아 해수욕장, 계곡과 같은 피서지에 인파가 몰리면서 성범죄...</td>\n",
       "      <td>https://v.daum.net/v/20170801155924346</td>\n",
       "    </tr>\n",
       "    <tr>\n",
       "      <th>2</th>\n",
       "      <td>3</td>\n",
       "      <td>필리핀서 한국인 관광객 숨진채 발견..\"카지노서 거액 잃어\"</td>\n",
       "      <td>2017.08.01. 18:41</td>\n",
       "      <td>필리핀에서 30대 한국인 관광객이 숨진 채 발견됐다. 현지 경찰은 이 한국인이 카지...</td>\n",
       "      <td>필리핀에서 30대 한국인 관광객이 숨진 채 발견됐다. 현지 경찰은 이 한국인이 카지...</td>\n",
       "      <td>https://v.daum.net/v/20170801184128126</td>\n",
       "    </tr>\n",
       "    <tr>\n",
       "      <th>3</th>\n",
       "      <td>4</td>\n",
       "      <td>\"부인이 공관병 상대 갑질\" 논란 박찬주 육군대장 전역지원(종합)</td>\n",
       "      <td>2017.08.01. 18:50</td>\n",
       "      <td>공관병에 대한 부인의 갑질 의혹을 받고 있는 박찬주 육군 2작전사령관(대장)이 1일...</td>\n",
       "      <td>공관병에 대한 부인의 갑질 의혹을 받고 있는 박찬주 육군 2작전사령관(대장)이 1일...</td>\n",
       "      <td>https://v.daum.net/v/20170801185020317</td>\n",
       "    </tr>\n",
       "    <tr>\n",
       "      <th>4</th>\n",
       "      <td>5</td>\n",
       "      <td>화장실에 몰카 설치해 딸 친구 '찰칵' 목사 입건</td>\n",
       "      <td>2017.08.01. 07:45</td>\n",
       "      <td>청주 흥덕경찰서는 화장실에 몰래카메라 를 설치해 한 집에 사는 딸의 친구를 촬영한 ...</td>\n",
       "      <td>경찰에 따르면 A씨는 지난달 29일 오후 3시 25분께 흥덕구의 자신의 집 화장실 ...</td>\n",
       "      <td>https://v.daum.net/v/20170801074552385</td>\n",
       "    </tr>\n",
       "  </tbody>\n",
       "</table>\n",
       "</div>"
      ],
      "text/plain": [
       "   id                                 title               date  \\\n",
       "0   1      반복된 음식점 단속에 절망한 26살 청년의 '극단적 선택'  2017.08.01. 09:00   \n",
       "1   2     '즉석만남에 술 한잔 했는데'..휴가철 성범죄 표적된 여성들  2017.08.01. 15:59   \n",
       "2   3     필리핀서 한국인 관광객 숨진채 발견..\"카지노서 거액 잃어\"  2017.08.01. 18:41   \n",
       "3   4  \"부인이 공관병 상대 갑질\" 논란 박찬주 육군대장 전역지원(종합)  2017.08.01. 18:50   \n",
       "4   5           화장실에 몰카 설치해 딸 친구 '찰칵' 목사 입건  2017.08.01. 07:45   \n",
       "\n",
       "                                                body  \\\n",
       "0  벌금과 단속 걱정하던 아들, 장사 준비하던 현수막으로 목 메 숨져 결혼까지 미루고 ...   \n",
       "1  #1. 20대 여성 A씨는 지난해 7월 서해 한 해수욕장에 놀러갔다가 우연히 30대...   \n",
       "2  필리핀에서 30대 한국인 관광객이 숨진 채 발견됐다. 현지 경찰은 이 한국인이 카지...   \n",
       "3  공관병에 대한 부인의 갑질 의혹을 받고 있는 박찬주 육군 2작전사령관(대장)이 1일...   \n",
       "4  청주 흥덕경찰서는 화장실에 몰래카메라 를 설치해 한 집에 사는 딸의 친구를 촬영한 ...   \n",
       "\n",
       "                                             summary  \\\n",
       "0  26살 황승우씨는 지난 30일 오전 경기 남양주시 조안면 막국수집 주방에서 목을 메...   \n",
       "1  본격적인 여름 휴가철을 맞아 해수욕장, 계곡과 같은 피서지에 인파가 몰리면서 성범죄...   \n",
       "2  필리핀에서 30대 한국인 관광객이 숨진 채 발견됐다. 현지 경찰은 이 한국인이 카지...   \n",
       "3  공관병에 대한 부인의 갑질 의혹을 받고 있는 박찬주 육군 2작전사령관(대장)이 1일...   \n",
       "4  경찰에 따르면 A씨는 지난달 29일 오후 3시 25분께 흥덕구의 자신의 집 화장실 ...   \n",
       "\n",
       "                                     link  \n",
       "0  https://v.daum.net/v/20170801090037914  \n",
       "1  https://v.daum.net/v/20170801155924346  \n",
       "2  https://v.daum.net/v/20170801184128126  \n",
       "3  https://v.daum.net/v/20170801185020317  \n",
       "4  https://v.daum.net/v/20170801074552385  "
      ]
     },
     "execution_count": 87,
     "metadata": {},
     "output_type": "execute_result"
    }
   ],
   "source": [
    "daum_copy.head()"
   ]
  },
  {
   "cell_type": "markdown",
   "metadata": {},
   "source": [
    "## Naver + Daum"
   ]
  },
  {
   "cell_type": "markdown",
   "metadata": {},
   "source": [
    "이후 학습 과정에서의 처리속도 향상을 위해 각각 최근 5만 건으로 한정"
   ]
  },
  {
   "cell_type": "code",
   "execution_count": 89,
   "metadata": {},
   "outputs": [],
   "source": [
    "naver_copy['site'] = 'naver'\n",
    "daum_copy['site'] = 'daum'"
   ]
  },
  {
   "cell_type": "code",
   "execution_count": 98,
   "metadata": {},
   "outputs": [],
   "source": [
    "naver_cleaned = naver_copy.iloc[61918:].copy()\n",
    "daum_cleaned = daum_copy.iloc[58033:].copy()"
   ]
  },
  {
   "cell_type": "markdown",
   "metadata": {},
   "source": [
    "concat"
   ]
  },
  {
   "cell_type": "code",
   "execution_count": 99,
   "metadata": {},
   "outputs": [
    {
     "name": "stdout",
     "output_type": "stream",
     "text": [
      "(50000, 7)\n",
      "(50000, 7)\n",
      "(100000, 7)\n"
     ]
    }
   ],
   "source": [
    "print(naver_cleaned.shape)\n",
    "print(daum_cleaned.shape)\n",
    "\n",
    "news_cleaned = pd.concat([naver_cleaned, daum_cleaned], ignore_index=True)\n",
    "\n",
    "print(news_cleaned.shape)"
   ]
  },
  {
   "cell_type": "markdown",
   "metadata": {},
   "source": [
    "reset id"
   ]
  },
  {
   "cell_type": "code",
   "execution_count": 104,
   "metadata": {},
   "outputs": [],
   "source": [
    "news_cleaned.reset_index(inplace=True)\n",
    "del news_cleaned['id']"
   ]
  },
  {
   "cell_type": "code",
   "execution_count": 108,
   "metadata": {},
   "outputs": [],
   "source": [
    "news_cleaned.rename({'index':'id'}, inplace=True, axis=1)"
   ]
  },
  {
   "cell_type": "code",
   "execution_count": 111,
   "metadata": {},
   "outputs": [
    {
     "data": {
      "text/html": [
       "<div>\n",
       "<style scoped>\n",
       "    .dataframe tbody tr th:only-of-type {\n",
       "        vertical-align: middle;\n",
       "    }\n",
       "\n",
       "    .dataframe tbody tr th {\n",
       "        vertical-align: top;\n",
       "    }\n",
       "\n",
       "    .dataframe thead th {\n",
       "        text-align: right;\n",
       "    }\n",
       "</style>\n",
       "<table border=\"1\" class=\"dataframe\">\n",
       "  <thead>\n",
       "    <tr style=\"text-align: right;\">\n",
       "      <th></th>\n",
       "      <th>id</th>\n",
       "      <th>title</th>\n",
       "      <th>date</th>\n",
       "      <th>body</th>\n",
       "      <th>summary</th>\n",
       "      <th>link</th>\n",
       "      <th>site</th>\n",
       "    </tr>\n",
       "  </thead>\n",
       "  <tbody>\n",
       "    <tr>\n",
       "      <th>0</th>\n",
       "      <td>0</td>\n",
       "      <td>액상담배 美흡연자 8명 숨졌다, 복지부 \"한국 판매 금지 검토\"</td>\n",
       "      <td>2019.09.20. 오후 6:38</td>\n",
       "      <td>중증 폐질환 유발 가능성 있다 미국서 530건 의심환자 발생, 8명 사망국내 상황 ...</td>\n",
       "      <td>정부가 액상형 전자담배 사용 자제를 권고하고 나섰다.복지부는 미국 사례를 참조해 액...</td>\n",
       "      <td>https://news.naver.com/main/ranking/read.nhn?r...</td>\n",
       "      <td>naver</td>\n",
       "    </tr>\n",
       "    <tr>\n",
       "      <th>1</th>\n",
       "      <td>1</td>\n",
       "      <td>세력 키우는 태풍 '타파'…22일 밤 부산 앞바다 통과</td>\n",
       "      <td>2019.09.20. 오후 5:19</td>\n",
       "      <td>23일까지 강하고 많은 비제주에 최대 600밀리미터 물폭탄 제17호 태풍 타파가 한...</td>\n",
       "      <td>제17호 태풍 타파 가 한반도에 접근할수록 점점 강해지고 있는 데다 부산 앞바다를 ...</td>\n",
       "      <td>https://news.naver.com/main/ranking/read.nhn?r...</td>\n",
       "      <td>naver</td>\n",
       "    </tr>\n",
       "    <tr>\n",
       "      <th>2</th>\n",
       "      <td>2</td>\n",
       "      <td>[내일날씨] 태풍 '타파' 북상…전국에 강한 비바람</td>\n",
       "      <td>2019.09.20. 오전 9:00</td>\n",
       "      <td>강한 비바람 때문에 행인이 우산을 꽉 붙잡고 지나가고 있다. 토요일인 21일 제17...</td>\n",
       "      <td>토요일인 21일 제17호 태풍 타파 영향으로 전국이 흐리고 비가 내리겠다.기상청은 ...</td>\n",
       "      <td>https://news.naver.com/main/ranking/read.nhn?r...</td>\n",
       "      <td>naver</td>\n",
       "    </tr>\n",
       "    <tr>\n",
       "      <th>3</th>\n",
       "      <td>3</td>\n",
       "      <td>30년 만에…친정에서 차례 지낸 며느리의 특별한 추석</td>\n",
       "      <td>2019.09.19. 오후 3:01</td>\n",
       "      <td>김현주의 즐거운 갱년기(22) 추석연휴를 맞아 남편과 딸은 제주도로 향했다. 나는 ...</td>\n",
       "      <td>추석 연휴가 시작되기 전 남편과 딸 아이는 제주도행 비행기를 탔고, 잡지 제작 일정...</td>\n",
       "      <td>https://news.naver.com/main/ranking/read.nhn?r...</td>\n",
       "      <td>naver</td>\n",
       "    </tr>\n",
       "    <tr>\n",
       "      <th>4</th>\n",
       "      <td>4</td>\n",
       "      <td>미국 '앨리스 공주'에게 베푼 고종의 오찬…황제의 식탁에 서린 슬픈 역사</td>\n",
       "      <td>2019.09.20. 오후 1:20</td>\n",
       "      <td>1905년 9월20일 고종이 미국 시어도어 루즈벨트 대통령의 딸인 앨리스와의 공식오...</td>\n",
       "      <td>1905년 9월20일 고종 황제는 국빈자격으로 대한제국을 방문한 앨리스 루즈벨트를 ...</td>\n",
       "      <td>https://news.naver.com/main/ranking/read.nhn?r...</td>\n",
       "      <td>naver</td>\n",
       "    </tr>\n",
       "    <tr>\n",
       "      <th>...</th>\n",
       "      <td>...</td>\n",
       "      <td>...</td>\n",
       "      <td>...</td>\n",
       "      <td>...</td>\n",
       "      <td>...</td>\n",
       "      <td>...</td>\n",
       "      <td>...</td>\n",
       "    </tr>\n",
       "    <tr>\n",
       "      <th>99995</th>\n",
       "      <td>99995</td>\n",
       "      <td>[부산 프리토크]롯데 허문회 감독 \"전준우 주루 미스라 생각, 마음가짐 좋았다\"</td>\n",
       "      <td>2020.08.02. 14:51</td>\n",
       "      <td>롯데 자이언츠 허문회 감독은 전준우의 재치 있는 주루 플레이에 대한 생각을 밝혔다....</td>\n",
       "      <td>롯데 자이언츠 허문회 감독은 전준우의 재치 있는 주루 플레이에 대한 생각을 밝혔다....</td>\n",
       "      <td>https://v.daum.net/v/20200802145136484</td>\n",
       "      <td>daum</td>\n",
       "    </tr>\n",
       "    <tr>\n",
       "      <th>99996</th>\n",
       "      <td>99996</td>\n",
       "      <td>[SC핫피플] 매일 타점 생산하는 러셀, 그가 오자 키움이 살아났다</td>\n",
       "      <td>2020.08.02. 09:28</td>\n",
       "      <td>이 정도면 새 외국인 타자 에디슨 러셀(키움 히어로즈)은 복덩이다. 험난한 7월을 ...</td>\n",
       "      <td>이 정도면 새 외국인 타자 에디슨 러셀(키움 히어로즈)은 복덩이다. 키움은 5월 말...</td>\n",
       "      <td>https://v.daum.net/v/20200802092856893</td>\n",
       "      <td>daum</td>\n",
       "    </tr>\n",
       "    <tr>\n",
       "      <th>99997</th>\n",
       "      <td>99997</td>\n",
       "      <td>STL, 코로나19 확진 4명 추가..선수 총 3명</td>\n",
       "      <td>2020.08.02. 01:16</td>\n",
       "      <td>세인트루이스 카디널스 구단에 코로나19 확진자가 추가로 발생,총 6명으로 늘어났다....</td>\n",
       "      <td>세인트루이스 카디널스 구단에 코로나19 확진자가 추가로 발생,총 6명으로 늘어났다....</td>\n",
       "      <td>https://v.daum.net/v/20200802011623768</td>\n",
       "      <td>daum</td>\n",
       "    </tr>\n",
       "    <tr>\n",
       "      <th>99998</th>\n",
       "      <td>99998</td>\n",
       "      <td>[사직 게임노트]'노경은 완벽투' 롯데, KIA 8-0 꺾고 '8월 2연승' 신바람</td>\n",
       "      <td>2020.08.02. 19:49</td>\n",
       "      <td>롯데 자이언츠가 8월 첫 주말을 연승으로 장식했다. 롯데는 2일 사직구장에서 열린 ...</td>\n",
       "      <td>롯데 자이언츠가 8월 첫 주말을 연승으로 장식했다. 롯데는 2일 사직구장에서 열린 ...</td>\n",
       "      <td>https://v.daum.net/v/20200802194902874</td>\n",
       "      <td>daum</td>\n",
       "    </tr>\n",
       "    <tr>\n",
       "      <th>99999</th>\n",
       "      <td>99999</td>\n",
       "      <td>루니의 퍼거슨 비판..\"UCL 결승전 당시 전술은 잘못되었어\"</td>\n",
       "      <td>2020.08.02. 21:33</td>\n",
       "      <td>웨인 루니(더비 카운티)가 과거 맨체스터 유나이티드에서 뛰던 시절 알렉스 퍼거슨 감...</td>\n",
       "      <td>웨인 루니(더비 카운티)가 과거 맨체스터 유나이티드에서 뛰던 시절 알렉스 퍼거슨 감...</td>\n",
       "      <td>https://v.daum.net/v/20200802213338082</td>\n",
       "      <td>daum</td>\n",
       "    </tr>\n",
       "  </tbody>\n",
       "</table>\n",
       "<p>100000 rows × 7 columns</p>\n",
       "</div>"
      ],
      "text/plain": [
       "          id                                           title  \\\n",
       "0          0             액상담배 美흡연자 8명 숨졌다, 복지부 \"한국 판매 금지 검토\"   \n",
       "1          1                  세력 키우는 태풍 '타파'…22일 밤 부산 앞바다 통과   \n",
       "2          2                    [내일날씨] 태풍 '타파' 북상…전국에 강한 비바람   \n",
       "3          3                   30년 만에…친정에서 차례 지낸 며느리의 특별한 추석   \n",
       "4          4        미국 '앨리스 공주'에게 베푼 고종의 오찬…황제의 식탁에 서린 슬픈 역사   \n",
       "...      ...                                             ...   \n",
       "99995  99995    [부산 프리토크]롯데 허문회 감독 \"전준우 주루 미스라 생각, 마음가짐 좋았다\"   \n",
       "99996  99996           [SC핫피플] 매일 타점 생산하는 러셀, 그가 오자 키움이 살아났다   \n",
       "99997  99997                    STL, 코로나19 확진 4명 추가..선수 총 3명   \n",
       "99998  99998  [사직 게임노트]'노경은 완벽투' 롯데, KIA 8-0 꺾고 '8월 2연승' 신바람   \n",
       "99999  99999              루니의 퍼거슨 비판..\"UCL 결승전 당시 전술은 잘못되었어\"   \n",
       "\n",
       "                      date                                               body  \\\n",
       "0      2019.09.20. 오후 6:38  중증 폐질환 유발 가능성 있다 미국서 530건 의심환자 발생, 8명 사망국내 상황 ...   \n",
       "1      2019.09.20. 오후 5:19  23일까지 강하고 많은 비제주에 최대 600밀리미터 물폭탄 제17호 태풍 타파가 한...   \n",
       "2      2019.09.20. 오전 9:00  강한 비바람 때문에 행인이 우산을 꽉 붙잡고 지나가고 있다. 토요일인 21일 제17...   \n",
       "3      2019.09.19. 오후 3:01  김현주의 즐거운 갱년기(22) 추석연휴를 맞아 남편과 딸은 제주도로 향했다. 나는 ...   \n",
       "4      2019.09.20. 오후 1:20  1905년 9월20일 고종이 미국 시어도어 루즈벨트 대통령의 딸인 앨리스와의 공식오...   \n",
       "...                    ...                                                ...   \n",
       "99995    2020.08.02. 14:51  롯데 자이언츠 허문회 감독은 전준우의 재치 있는 주루 플레이에 대한 생각을 밝혔다....   \n",
       "99996    2020.08.02. 09:28  이 정도면 새 외국인 타자 에디슨 러셀(키움 히어로즈)은 복덩이다. 험난한 7월을 ...   \n",
       "99997    2020.08.02. 01:16  세인트루이스 카디널스 구단에 코로나19 확진자가 추가로 발생,총 6명으로 늘어났다....   \n",
       "99998    2020.08.02. 19:49  롯데 자이언츠가 8월 첫 주말을 연승으로 장식했다. 롯데는 2일 사직구장에서 열린 ...   \n",
       "99999    2020.08.02. 21:33  웨인 루니(더비 카운티)가 과거 맨체스터 유나이티드에서 뛰던 시절 알렉스 퍼거슨 감...   \n",
       "\n",
       "                                                 summary  \\\n",
       "0      정부가 액상형 전자담배 사용 자제를 권고하고 나섰다.복지부는 미국 사례를 참조해 액...   \n",
       "1      제17호 태풍 타파 가 한반도에 접근할수록 점점 강해지고 있는 데다 부산 앞바다를 ...   \n",
       "2      토요일인 21일 제17호 태풍 타파 영향으로 전국이 흐리고 비가 내리겠다.기상청은 ...   \n",
       "3      추석 연휴가 시작되기 전 남편과 딸 아이는 제주도행 비행기를 탔고, 잡지 제작 일정...   \n",
       "4      1905년 9월20일 고종 황제는 국빈자격으로 대한제국을 방문한 앨리스 루즈벨트를 ...   \n",
       "...                                                  ...   \n",
       "99995  롯데 자이언츠 허문회 감독은 전준우의 재치 있는 주루 플레이에 대한 생각을 밝혔다....   \n",
       "99996  이 정도면 새 외국인 타자 에디슨 러셀(키움 히어로즈)은 복덩이다. 키움은 5월 말...   \n",
       "99997  세인트루이스 카디널스 구단에 코로나19 확진자가 추가로 발생,총 6명으로 늘어났다....   \n",
       "99998  롯데 자이언츠가 8월 첫 주말을 연승으로 장식했다. 롯데는 2일 사직구장에서 열린 ...   \n",
       "99999  웨인 루니(더비 카운티)가 과거 맨체스터 유나이티드에서 뛰던 시절 알렉스 퍼거슨 감...   \n",
       "\n",
       "                                                    link   site  \n",
       "0      https://news.naver.com/main/ranking/read.nhn?r...  naver  \n",
       "1      https://news.naver.com/main/ranking/read.nhn?r...  naver  \n",
       "2      https://news.naver.com/main/ranking/read.nhn?r...  naver  \n",
       "3      https://news.naver.com/main/ranking/read.nhn?r...  naver  \n",
       "4      https://news.naver.com/main/ranking/read.nhn?r...  naver  \n",
       "...                                                  ...    ...  \n",
       "99995             https://v.daum.net/v/20200802145136484   daum  \n",
       "99996             https://v.daum.net/v/20200802092856893   daum  \n",
       "99997             https://v.daum.net/v/20200802011623768   daum  \n",
       "99998             https://v.daum.net/v/20200802194902874   daum  \n",
       "99999             https://v.daum.net/v/20200802213338082   daum  \n",
       "\n",
       "[100000 rows x 7 columns]"
      ]
     },
     "execution_count": 111,
     "metadata": {},
     "output_type": "execute_result"
    }
   ],
   "source": [
    "news_cleaned"
   ]
  },
  {
   "cell_type": "markdown",
   "metadata": {},
   "source": [
    "## DB에 저장 (cleaned)"
   ]
  },
  {
   "cell_type": "code",
   "execution_count": 112,
   "metadata": {},
   "outputs": [],
   "source": [
    "conn = sqlite3.connect('../../data/news_cleaned.db')\n",
    "cur = conn.cursor()"
   ]
  },
  {
   "cell_type": "code",
   "execution_count": 113,
   "metadata": {},
   "outputs": [],
   "source": [
    "news_cleaned.to_sql('news', conn, index=False)"
   ]
  },
  {
   "cell_type": "code",
   "execution_count": 114,
   "metadata": {},
   "outputs": [],
   "source": [
    "cur.close()\n",
    "conn.close()"
   ]
  },
  {
   "cell_type": "code",
   "execution_count": null,
   "metadata": {},
   "outputs": [],
   "source": []
  }
 ],
 "metadata": {
  "kernelspec": {
   "display_name": "Python 3",
   "language": "python",
   "name": "python3"
  },
  "language_info": {
   "codemirror_mode": {
    "name": "ipython",
    "version": 3
   },
   "file_extension": ".py",
   "mimetype": "text/x-python",
   "name": "python",
   "nbconvert_exporter": "python",
   "pygments_lexer": "ipython3",
   "version": "3.8.3"
  },
  "toc": {
   "base_numbering": 1,
   "nav_menu": {},
   "number_sections": true,
   "sideBar": true,
   "skip_h1_title": false,
   "title_cell": "Table of Contents",
   "title_sidebar": "Contents",
   "toc_cell": false,
   "toc_position": {
    "height": "398px",
    "left": "105px",
    "top": "110px",
    "width": "256px"
   },
   "toc_section_display": true,
   "toc_window_display": true
  },
  "varInspector": {
   "cols": {
    "lenName": 16,
    "lenType": 16,
    "lenVar": 40
   },
   "kernels_config": {
    "python": {
     "delete_cmd_postfix": "",
     "delete_cmd_prefix": "del ",
     "library": "var_list.py",
     "varRefreshCmd": "print(var_dic_list())"
    },
    "r": {
     "delete_cmd_postfix": ") ",
     "delete_cmd_prefix": "rm(",
     "library": "var_list.r",
     "varRefreshCmd": "cat(var_dic_list()) "
    }
   },
   "position": {
    "height": "257.667px",
    "left": "906px",
    "right": "20px",
    "top": "104px",
    "width": "350px"
   },
   "types_to_exclude": [
    "module",
    "function",
    "builtin_function_or_method",
    "instance",
    "_Feature"
   ],
   "window_display": false
  }
 },
 "nbformat": 4,
 "nbformat_minor": 4
}
