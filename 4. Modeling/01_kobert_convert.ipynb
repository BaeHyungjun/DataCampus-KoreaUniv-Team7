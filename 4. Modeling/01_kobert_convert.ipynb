{
  "nbformat": 4,
  "nbformat_minor": 0,
  "metadata": {
    "colab": {
      "name": "convert_kobert.ipynb",
      "provenance": [],
      "collapsed_sections": []
    },
    "kernelspec": {
      "name": "python3",
      "display_name": "Python 3"
    },
    "accelerator": "GPU"
  },
  "cells": [
    {
      "cell_type": "code",
      "metadata": {
        "id": "rBk_vtBAFXuA",
        "colab_type": "code",
        "colab": {
          "base_uri": "https://localhost:8080/",
          "height": 721
        },
        "outputId": "b6987705-23f2-45e7-9985-123aea82b3c1"
      },
      "source": [
        "pip install kobert-transformers"
      ],
      "execution_count": 1,
      "outputs": [
        {
          "output_type": "stream",
          "text": [
            "Collecting kobert-transformers\n",
            "  Downloading https://files.pythonhosted.org/packages/f3/6d/f4e21513c1f26cacd68c144a428ccaa90dd92d85985e878976ebbaf06624/kobert_transformers-0.4.1-py3-none-any.whl\n",
            "Requirement already satisfied: torch>=1.1.0 in /usr/local/lib/python3.6/dist-packages (from kobert-transformers) (1.6.0+cu101)\n",
            "Collecting transformers>=2.9.1\n",
            "\u001b[?25l  Downloading https://files.pythonhosted.org/packages/27/3c/91ed8f5c4e7ef3227b4119200fc0ed4b4fd965b1f0172021c25701087825/transformers-3.0.2-py3-none-any.whl (769kB)\n",
            "\u001b[K     |████████████████████████████████| 778kB 18.7MB/s \n",
            "\u001b[?25hRequirement already satisfied: future in /usr/local/lib/python3.6/dist-packages (from torch>=1.1.0->kobert-transformers) (0.16.0)\n",
            "Requirement already satisfied: numpy in /usr/local/lib/python3.6/dist-packages (from torch>=1.1.0->kobert-transformers) (1.18.5)\n",
            "Requirement already satisfied: regex!=2019.12.17 in /usr/local/lib/python3.6/dist-packages (from transformers>=2.9.1->kobert-transformers) (2019.12.20)\n",
            "Collecting tokenizers==0.8.1.rc1\n",
            "\u001b[?25l  Downloading https://files.pythonhosted.org/packages/40/d0/30d5f8d221a0ed981a186c8eb986ce1c94e3a6e87f994eae9f4aa5250217/tokenizers-0.8.1rc1-cp36-cp36m-manylinux1_x86_64.whl (3.0MB)\n",
            "\u001b[K     |████████████████████████████████| 3.0MB 49.0MB/s \n",
            "\u001b[?25hCollecting sentencepiece!=0.1.92\n",
            "\u001b[?25l  Downloading https://files.pythonhosted.org/packages/d4/a4/d0a884c4300004a78cca907a6ff9a5e9fe4f090f5d95ab341c53d28cbc58/sentencepiece-0.1.91-cp36-cp36m-manylinux1_x86_64.whl (1.1MB)\n",
            "\u001b[K     |████████████████████████████████| 1.1MB 46.6MB/s \n",
            "\u001b[?25hRequirement already satisfied: filelock in /usr/local/lib/python3.6/dist-packages (from transformers>=2.9.1->kobert-transformers) (3.0.12)\n",
            "Collecting sacremoses\n",
            "\u001b[?25l  Downloading https://files.pythonhosted.org/packages/7d/34/09d19aff26edcc8eb2a01bed8e98f13a1537005d31e95233fd48216eed10/sacremoses-0.0.43.tar.gz (883kB)\n",
            "\u001b[K     |████████████████████████████████| 890kB 55.7MB/s \n",
            "\u001b[?25hRequirement already satisfied: requests in /usr/local/lib/python3.6/dist-packages (from transformers>=2.9.1->kobert-transformers) (2.23.0)\n",
            "Requirement already satisfied: packaging in /usr/local/lib/python3.6/dist-packages (from transformers>=2.9.1->kobert-transformers) (20.4)\n",
            "Requirement already satisfied: tqdm>=4.27 in /usr/local/lib/python3.6/dist-packages (from transformers>=2.9.1->kobert-transformers) (4.41.1)\n",
            "Requirement already satisfied: dataclasses; python_version < \"3.7\" in /usr/local/lib/python3.6/dist-packages (from transformers>=2.9.1->kobert-transformers) (0.7)\n",
            "Requirement already satisfied: six in /usr/local/lib/python3.6/dist-packages (from sacremoses->transformers>=2.9.1->kobert-transformers) (1.15.0)\n",
            "Requirement already satisfied: click in /usr/local/lib/python3.6/dist-packages (from sacremoses->transformers>=2.9.1->kobert-transformers) (7.1.2)\n",
            "Requirement already satisfied: joblib in /usr/local/lib/python3.6/dist-packages (from sacremoses->transformers>=2.9.1->kobert-transformers) (0.16.0)\n",
            "Requirement already satisfied: idna<3,>=2.5 in /usr/local/lib/python3.6/dist-packages (from requests->transformers>=2.9.1->kobert-transformers) (2.10)\n",
            "Requirement already satisfied: certifi>=2017.4.17 in /usr/local/lib/python3.6/dist-packages (from requests->transformers>=2.9.1->kobert-transformers) (2020.6.20)\n",
            "Requirement already satisfied: urllib3!=1.25.0,!=1.25.1,<1.26,>=1.21.1 in /usr/local/lib/python3.6/dist-packages (from requests->transformers>=2.9.1->kobert-transformers) (1.24.3)\n",
            "Requirement already satisfied: chardet<4,>=3.0.2 in /usr/local/lib/python3.6/dist-packages (from requests->transformers>=2.9.1->kobert-transformers) (3.0.4)\n",
            "Requirement already satisfied: pyparsing>=2.0.2 in /usr/local/lib/python3.6/dist-packages (from packaging->transformers>=2.9.1->kobert-transformers) (2.4.7)\n",
            "Building wheels for collected packages: sacremoses\n",
            "  Building wheel for sacremoses (setup.py) ... \u001b[?25l\u001b[?25hdone\n",
            "  Created wheel for sacremoses: filename=sacremoses-0.0.43-cp36-none-any.whl size=893260 sha256=56bc6e54de6bf3199a12cdb638268a4966576787bc2fdedea3af956eea2b4589\n",
            "  Stored in directory: /root/.cache/pip/wheels/29/3c/fd/7ce5c3f0666dab31a50123635e6fb5e19ceb42ce38d4e58f45\n",
            "Successfully built sacremoses\n",
            "Installing collected packages: tokenizers, sentencepiece, sacremoses, transformers, kobert-transformers\n",
            "Successfully installed kobert-transformers-0.4.1 sacremoses-0.0.43 sentencepiece-0.1.91 tokenizers-0.8.1rc1 transformers-3.0.2\n"
          ],
          "name": "stdout"
        }
      ]
    },
    {
      "cell_type": "markdown",
      "metadata": {
        "id": "2qpg-rfZF7D1",
        "colab_type": "text"
      },
      "source": [
        "```\n",
        "import os, sys\n",
        "from google.colab import drive\n",
        "drive.mount('/content/mnt')\n",
        "nb_path = '/content/notebooks'\n",
        "os.symlink('/content/mnt/My Drive/Colab Notebooks', nb_path)\n",
        "sys.path.insert(0, nb_path)\n",
        "```\n"
      ]
    },
    {
      "cell_type": "code",
      "metadata": {
        "id": "_cpr_K9OF9yi",
        "colab_type": "code",
        "colab": {
          "base_uri": "https://localhost:8080/",
          "height": 35
        },
        "outputId": "03d0de96-8593-4956-9ab0-d48e356474e2"
      },
      "source": [
        "cd /content/mnt/My Drive/Colab Notebooks"
      ],
      "execution_count": 2,
      "outputs": [
        {
          "output_type": "stream",
          "text": [
            "/content/mnt/My Drive/Colab Notebooks\n"
          ],
          "name": "stdout"
        }
      ]
    },
    {
      "cell_type": "code",
      "metadata": {
        "id": "9rPMIp4VFi_B",
        "colab_type": "code",
        "colab": {}
      },
      "source": [
        "import pickle\n",
        "import time\n",
        "\n",
        "import torch\n",
        "import tensorflow as tf\n",
        "\n",
        "from kobert_transformers import get_kobert_model"
      ],
      "execution_count": 3,
      "outputs": []
    },
    {
      "cell_type": "code",
      "metadata": {
        "id": "uTs9as0RF5Aw",
        "colab_type": "code",
        "colab": {}
      },
      "source": [
        "with open('body_token_id_padding.pkl', 'rb') as file:\n",
        "  train = pickle.load(file)"
      ],
      "execution_count": 4,
      "outputs": []
    },
    {
      "cell_type": "code",
      "metadata": {
        "id": "r5LwHBQKGS-y",
        "colab_type": "code",
        "colab": {
          "base_uri": "https://localhost:8080/",
          "height": 35
        },
        "outputId": "b1d5e3be-6670-4f35-c806-280bcf6a2d96"
      },
      "source": [
        "len(train), len(train[0])"
      ],
      "execution_count": 5,
      "outputs": [
        {
          "output_type": "execute_result",
          "data": {
            "text/plain": [
              "(200000, 512)"
            ]
          },
          "metadata": {
            "tags": []
          },
          "execution_count": 5
        }
      ]
    },
    {
      "cell_type": "code",
      "metadata": {
        "id": "QL_fnOQqGYmi",
        "colab_type": "code",
        "colab": {}
      },
      "source": [
        "short = train[0:10]"
      ],
      "execution_count": 6,
      "outputs": []
    },
    {
      "cell_type": "code",
      "metadata": {
        "id": "myn6Sva8GdSZ",
        "colab_type": "code",
        "colab": {}
      },
      "source": [
        "pytorch_kobert_model = get_kobert_model()"
      ],
      "execution_count": 7,
      "outputs": []
    },
    {
      "cell_type": "code",
      "metadata": {
        "id": "7lBCVhUlGk3R",
        "colab_type": "code",
        "colab": {}
      },
      "source": [
        "def kobert_convert(integer_encoding, kobert_model):\n",
        "  '''정수 인코딩된 자료를 pytorch kobert 모델 통과해서 tensorflow의 tensor로 변환'''\n",
        "  return tf.convert_to_tensor(kobert_model(torch.LongTensor(integer_encoding))[0].detach())"
      ],
      "execution_count": 8,
      "outputs": []
    },
    {
      "cell_type": "code",
      "metadata": {
        "id": "wx7mEe3HG2dh",
        "colab_type": "code",
        "colab": {
          "base_uri": "https://localhost:8080/",
          "height": 53
        },
        "outputId": "5916e2c2-d504-4b3f-8af2-025425c57b68"
      },
      "source": [
        "start = time.time()\n",
        "\n",
        "tf_kobert_example = kobert_convert(short, pytorch_kobert_model)\n",
        "\n",
        "now = time.time()\n",
        "print('colab cpu로 10개 변환하는데 걸린 시간 : 17초')\n",
        "print('colab gpu로 10개 변환하는데 걸린 시간 : {}초'.format(round(now-start)))"
      ],
      "execution_count": 9,
      "outputs": [
        {
          "output_type": "stream",
          "text": [
            "colab cpu로 10개 변환하는데 걸린 시간 : 17초\n",
            "colab gpu로 10개 변환하는데 걸린 시간 : 34초\n"
          ],
          "name": "stdout"
        }
      ]
    },
    {
      "cell_type": "markdown",
      "metadata": {
        "id": "ap4JdQ9JIA6B",
        "colab_type": "text"
      },
      "source": [
        "batch size가 10000이면 embedding 하는데만 17000초 (283분...?)\n",
        "\n",
        "gpu로 했는데 더 느린건 탑재하는데 시간이 더 많이 걸려서 그렇겠죠...?"
      ]
    },
    {
      "cell_type": "code",
      "metadata": {
        "id": "mZ26_rNAG8to",
        "colab_type": "code",
        "colab": {
          "base_uri": "https://localhost:8080/",
          "height": 1000
        },
        "outputId": "30ba5785-c3b3-4fcf-de83-75224f8021e2"
      },
      "source": [
        "tf_kobert_example"
      ],
      "execution_count": 10,
      "outputs": [
        {
          "output_type": "execute_result",
          "data": {
            "text/plain": [
              "<tf.Tensor: shape=(10, 512, 768), dtype=float32, numpy=\n",
              "array([[[ 0.11376985, -0.21250334,  0.23123363, ...,  0.04482113,\n",
              "         -0.05399163, -0.13007711],\n",
              "        [-0.07440992, -0.25053927,  0.30228177, ...,  0.05315807,\n",
              "         -0.15985559, -0.42852992],\n",
              "        [ 0.06264924, -0.26840007,  0.30180508, ...,  0.00543986,\n",
              "         -0.27195987, -0.33968994],\n",
              "        ...,\n",
              "        [ 0.41829962, -0.24579014,  0.09629665, ...,  0.25110224,\n",
              "         -0.2813625 , -0.2979598 ],\n",
              "        [ 0.36684844,  0.01402729,  0.35087198, ..., -0.38267666,\n",
              "         -0.06005426, -0.5699297 ],\n",
              "        [ 0.3947183 , -0.24423425,  0.28937173, ..., -0.36771673,\n",
              "         -0.07258511, -0.16166058]],\n",
              "\n",
              "       [[ 0.06721524, -0.22299391,  0.2612027 , ..., -0.04346022,\n",
              "          0.10466602, -0.03917927],\n",
              "        [-0.181255  , -0.32329264,  0.38036942, ...,  0.01963664,\n",
              "          0.06387495, -0.36454046],\n",
              "        [-0.01827442, -0.23147781,  0.26910493, ..., -0.06803542,\n",
              "          0.03119899, -0.34023395],\n",
              "        ...,\n",
              "        [ 0.05289195, -0.2754609 ,  0.0825436 , ...,  0.00483127,\n",
              "         -0.37922812, -0.02012759],\n",
              "        [ 0.34367797, -0.17256115,  0.1683611 , ..., -0.19973345,\n",
              "         -0.1742029 , -0.27648613],\n",
              "        [ 0.05720899, -0.38901928,  0.3568424 , ..., -0.39166057,\n",
              "         -0.2608313 , -0.04832643]],\n",
              "\n",
              "       [[-0.08952219,  0.13903171,  0.00911266, ..., -0.63971734,\n",
              "         -0.19623876,  0.34815243],\n",
              "        [-0.09250388,  0.14849618, -0.02598417, ..., -0.63342804,\n",
              "         -0.22050625,  0.35890642],\n",
              "        [-0.09395514,  0.14547825, -0.02144868, ..., -0.6342709 ,\n",
              "         -0.22627851,  0.36489114],\n",
              "        ...,\n",
              "        [-0.09098766,  0.14743085, -0.0020849 , ..., -0.64813334,\n",
              "         -0.18613979,  0.3421788 ],\n",
              "        [-0.0910117 ,  0.14757861, -0.00172547, ..., -0.6481807 ,\n",
              "         -0.18661356,  0.34202376],\n",
              "        [-0.09094483,  0.14763786, -0.0018238 , ..., -0.64814264,\n",
              "         -0.18648586,  0.34197533]],\n",
              "\n",
              "       ...,\n",
              "\n",
              "       [[-0.03480818,  0.03475919,  0.11889396, ..., -0.42373434,\n",
              "         -0.55907416,  0.03666357],\n",
              "        [-0.05227284,  0.02282015,  0.13799113, ..., -0.41903037,\n",
              "         -0.62148875,  0.017029  ],\n",
              "        [-0.04795602,  0.01438327,  0.13661645, ..., -0.42383215,\n",
              "         -0.630294  ,  0.01711189],\n",
              "        ...,\n",
              "        [-0.06111908,  0.03436603,  0.11462859, ..., -0.42256594,\n",
              "         -0.58703494,  0.02026698],\n",
              "        [-0.06157727,  0.03482842,  0.11485647, ..., -0.42277622,\n",
              "         -0.58785594,  0.01983949],\n",
              "        [-0.06133959,  0.03463818,  0.11559694, ..., -0.42279196,\n",
              "         -0.586797  ,  0.0199557 ]],\n",
              "\n",
              "       [[ 0.1106693 , -0.28931373,  0.26362845, ..., -0.1001296 ,\n",
              "          0.00667454, -0.20397162],\n",
              "        [-0.14467986, -0.19269581,  0.32175112, ...,  0.10522137,\n",
              "         -0.2553419 , -0.28027117],\n",
              "        [ 0.30732688, -0.09159014,  0.23608771, ...,  0.31024092,\n",
              "         -0.13369319, -0.46436444],\n",
              "        ...,\n",
              "        [ 0.15058722, -0.2269358 ,  0.14103246, ...,  0.13482055,\n",
              "          0.04984034, -0.52138454],\n",
              "        [ 0.03868419, -0.30133092,  0.36210594, ..., -0.41561455,\n",
              "         -0.30922103, -0.2080227 ],\n",
              "        [ 0.474667  , -0.4112404 ,  0.03043572, ...,  0.09328312,\n",
              "         -0.45776066, -0.11899459]],\n",
              "\n",
              "       [[ 0.07446817, -0.30652452,  0.3231146 , ..., -0.04653307,\n",
              "          0.10042664, -0.08208247],\n",
              "        [-0.14976622, -0.2738222 ,  0.31134075, ...,  0.00459482,\n",
              "          0.05232511, -0.34670517],\n",
              "        [-0.0185981 , -0.20793982,  0.28218716, ..., -0.12565218,\n",
              "         -0.03310478, -0.30549502],\n",
              "        ...,\n",
              "        [ 0.00308536, -0.3614064 ,  0.4160941 , ..., -0.38301384,\n",
              "         -0.09833892, -0.05211433],\n",
              "        [ 0.13286498, -0.35567433,  0.16396253, ..., -0.00631993,\n",
              "          0.32793352, -0.4502864 ],\n",
              "        [ 0.02391804, -0.35614944,  0.4015617 , ..., -0.3760851 ,\n",
              "         -0.11656778, -0.05866514]]], dtype=float32)>"
            ]
          },
          "metadata": {
            "tags": []
          },
          "execution_count": 10
        }
      ]
    },
    {
      "cell_type": "code",
      "metadata": {
        "id": "ElImd7P2HIFw",
        "colab_type": "code",
        "colab": {}
      },
      "source": [
        ""
      ],
      "execution_count": null,
      "outputs": []
    }
  ]
}
