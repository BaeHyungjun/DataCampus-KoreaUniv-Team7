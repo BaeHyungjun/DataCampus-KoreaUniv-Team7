{
 "cells": [
  {
   "cell_type": "markdown",
   "metadata": {},
   "source": [
    "cleaning 완료한 데이터는 news_cleaned의 daumnews 테이블에 저장함"
   ]
  },
  {
   "cell_type": "markdown",
   "metadata": {},
   "source": [
    "# DB에서 daumnews 데이터를 데이터프레임으로 가져오기"
   ]
  },
  {
   "cell_type": "code",
   "execution_count": 5,
   "metadata": {},
   "outputs": [],
   "source": [
    "import sqlite3\n",
    "import pandas as pd\n",
    "import re"
   ]
  },
  {
   "cell_type": "code",
   "execution_count": 2,
   "metadata": {},
   "outputs": [],
   "source": [
    "conn = sqlite3.connect('../data/news_raw.db')\n",
    "cur = conn.cursor()"
   ]
  },
  {
   "cell_type": "code",
   "execution_count": 3,
   "metadata": {},
   "outputs": [],
   "source": [
    "query = cur.execute('SELECT * FROM daumnews')"
   ]
  },
  {
   "cell_type": "code",
   "execution_count": 4,
   "metadata": {},
   "outputs": [],
   "source": [
    "cols = [column[0] for column in query.description]"
   ]
  },
  {
   "cell_type": "code",
   "execution_count": 5,
   "metadata": {},
   "outputs": [],
   "source": [
    "daum = pd.DataFrame.from_records(data=query.fetchall(), columns=cols)"
   ]
  },
  {
   "cell_type": "code",
   "execution_count": 6,
   "metadata": {},
   "outputs": [
    {
     "data": {
      "text/html": [
       "<div>\n",
       "<style scoped>\n",
       "    .dataframe tbody tr th:only-of-type {\n",
       "        vertical-align: middle;\n",
       "    }\n",
       "\n",
       "    .dataframe tbody tr th {\n",
       "        vertical-align: top;\n",
       "    }\n",
       "\n",
       "    .dataframe thead th {\n",
       "        text-align: right;\n",
       "    }\n",
       "</style>\n",
       "<table border=\"1\" class=\"dataframe\">\n",
       "  <thead>\n",
       "    <tr style=\"text-align: right;\">\n",
       "      <th></th>\n",
       "      <th>id</th>\n",
       "      <th>title</th>\n",
       "      <th>date</th>\n",
       "      <th>body</th>\n",
       "      <th>summary</th>\n",
       "      <th>link</th>\n",
       "    </tr>\n",
       "  </thead>\n",
       "  <tbody>\n",
       "    <tr>\n",
       "      <th>0</th>\n",
       "      <td>1</td>\n",
       "      <td>반복된 음식점 단속에 절망한 26살 청년의 '극단적 선택'</td>\n",
       "      <td>2017.08.01. 09:00</td>\n",
       "      <td>\"벌금과 단속 걱정하던 아들, 장사 준비하던 현수막으로 목 메 숨져\"결혼까지 미루고...</td>\n",
       "      <td>26살 황승우씨는 지난 30일 오전 경기 남양주시 조안면 막국수집 주방에서 목을 메...</td>\n",
       "      <td>https://v.daum.net/v/20170801090037914</td>\n",
       "    </tr>\n",
       "    <tr>\n",
       "      <th>1</th>\n",
       "      <td>2</td>\n",
       "      <td>'즉석만남에 술 한잔 했는데'..휴가철 성범죄 표적된 여성들</td>\n",
       "      <td>2017.08.01. 15:59</td>\n",
       "      <td>#1. 20대 여성 A씨는 지난해 7월 서해 한 해수욕장에 놀러갔다가 우연히 30대...</td>\n",
       "      <td>본격적인 여름 휴가철을 맞아 해수욕장, 계곡과 같은 피서지에 인파가 몰리면서 성범죄...</td>\n",
       "      <td>https://v.daum.net/v/20170801155924346</td>\n",
       "    </tr>\n",
       "    <tr>\n",
       "      <th>2</th>\n",
       "      <td>3</td>\n",
       "      <td>필리핀서 한국인 관광객 숨진채 발견..\"카지노서 거액 잃어\"</td>\n",
       "      <td>2017.08.01. 18:41</td>\n",
       "      <td>(하노이=연합뉴스) 김문성 특파원 = 필리핀에서 30대 한국인 관광객이 숨진 채 발...</td>\n",
       "      <td>필리핀에서 30대 한국인 관광객이 숨진 채 발견됐다.\\n현지 경찰은 이 한국인이 카...</td>\n",
       "      <td>https://v.daum.net/v/20170801184128126</td>\n",
       "    </tr>\n",
       "    <tr>\n",
       "      <th>3</th>\n",
       "      <td>4</td>\n",
       "      <td>\"부인이 공관병 상대 갑질\" 논란 박찬주 육군대장 전역지원(종합)</td>\n",
       "      <td>2017.08.01. 18:50</td>\n",
       "      <td>\\n(서울=연합뉴스) 김귀근 이영재 기자 = 공관병에 대한 부인의 '갑질' 의혹을 ...</td>\n",
       "      <td>공관병에 대한 부인의 '갑질' 의혹을 받고 있는 박찬주 육군 2작전사령관(대장)이 ...</td>\n",
       "      <td>https://v.daum.net/v/20170801185020317</td>\n",
       "    </tr>\n",
       "    <tr>\n",
       "      <th>4</th>\n",
       "      <td>5</td>\n",
       "      <td>화장실에 몰카 설치해 딸 친구 '찰칵' 목사 입건</td>\n",
       "      <td>2017.08.01. 07:45</td>\n",
       "      <td>(청주=연합뉴스) 이승민 기자 = 청주 흥덕경찰서는 화장실에 '몰래카메라'를 설치해...</td>\n",
       "      <td>경찰에 따르면 A씨는 지난달 29일 오후 3시 25분께 흥덕구의 자신의 집 화장실 ...</td>\n",
       "      <td>https://v.daum.net/v/20170801074552385</td>\n",
       "    </tr>\n",
       "  </tbody>\n",
       "</table>\n",
       "</div>"
      ],
      "text/plain": [
       "   id                                 title               date  \\\n",
       "0   1      반복된 음식점 단속에 절망한 26살 청년의 '극단적 선택'  2017.08.01. 09:00   \n",
       "1   2     '즉석만남에 술 한잔 했는데'..휴가철 성범죄 표적된 여성들  2017.08.01. 15:59   \n",
       "2   3     필리핀서 한국인 관광객 숨진채 발견..\"카지노서 거액 잃어\"  2017.08.01. 18:41   \n",
       "3   4  \"부인이 공관병 상대 갑질\" 논란 박찬주 육군대장 전역지원(종합)  2017.08.01. 18:50   \n",
       "4   5           화장실에 몰카 설치해 딸 친구 '찰칵' 목사 입건  2017.08.01. 07:45   \n",
       "\n",
       "                                                body  \\\n",
       "0  \"벌금과 단속 걱정하던 아들, 장사 준비하던 현수막으로 목 메 숨져\"결혼까지 미루고...   \n",
       "1  #1. 20대 여성 A씨는 지난해 7월 서해 한 해수욕장에 놀러갔다가 우연히 30대...   \n",
       "2  (하노이=연합뉴스) 김문성 특파원 = 필리핀에서 30대 한국인 관광객이 숨진 채 발...   \n",
       "3  \\n(서울=연합뉴스) 김귀근 이영재 기자 = 공관병에 대한 부인의 '갑질' 의혹을 ...   \n",
       "4  (청주=연합뉴스) 이승민 기자 = 청주 흥덕경찰서는 화장실에 '몰래카메라'를 설치해...   \n",
       "\n",
       "                                             summary  \\\n",
       "0  26살 황승우씨는 지난 30일 오전 경기 남양주시 조안면 막국수집 주방에서 목을 메...   \n",
       "1  본격적인 여름 휴가철을 맞아 해수욕장, 계곡과 같은 피서지에 인파가 몰리면서 성범죄...   \n",
       "2  필리핀에서 30대 한국인 관광객이 숨진 채 발견됐다.\\n현지 경찰은 이 한국인이 카...   \n",
       "3  공관병에 대한 부인의 '갑질' 의혹을 받고 있는 박찬주 육군 2작전사령관(대장)이 ...   \n",
       "4  경찰에 따르면 A씨는 지난달 29일 오후 3시 25분께 흥덕구의 자신의 집 화장실 ...   \n",
       "\n",
       "                                     link  \n",
       "0  https://v.daum.net/v/20170801090037914  \n",
       "1  https://v.daum.net/v/20170801155924346  \n",
       "2  https://v.daum.net/v/20170801184128126  \n",
       "3  https://v.daum.net/v/20170801185020317  \n",
       "4  https://v.daum.net/v/20170801074552385  "
      ]
     },
     "execution_count": 6,
     "metadata": {},
     "output_type": "execute_result"
    }
   ],
   "source": [
    "daum.head()"
   ]
  },
  {
   "cell_type": "code",
   "execution_count": 7,
   "metadata": {},
   "outputs": [
    {
     "data": {
      "text/plain": [
       "(109419, 6)"
      ]
     },
     "execution_count": 7,
     "metadata": {},
     "output_type": "execute_result"
    }
   ],
   "source": [
    "daum.shape"
   ]
  },
  {
   "cell_type": "code",
   "execution_count": 8,
   "metadata": {},
   "outputs": [],
   "source": [
    "cur.close()\n",
    "conn.close()"
   ]
  },
  {
   "cell_type": "markdown",
   "metadata": {},
   "source": [
    "# Data Cleaning"
   ]
  },
  {
   "cell_type": "markdown",
   "metadata": {},
   "source": [
    "## body"
   ]
  },
  {
   "cell_type": "code",
   "execution_count": 213,
   "metadata": {},
   "outputs": [],
   "source": [
    "daum_copy = daum.copy()"
   ]
  },
  {
   "cell_type": "code",
   "execution_count": 214,
   "metadata": {},
   "outputs": [],
   "source": [
    "def cleaning_body(row):\n",
    "    '''\n",
    "    1. 언론사명, 기자명 제거\n",
    "    2. 기자이메일 제거\n",
    "    3. 일부 특수 문자, 띄어쓰기, 영어, 한글 등을 제외하고 모두 제거 (ex. 한자)\n",
    "    4. 음성정보 제공용 텍스트 안내문구 제거\n",
    "    '''\n",
    "    # 1. 언론사명, 기자명\n",
    "        # = 이 있는 경우\n",
    "    result = re.sub(r'[\\[\\(【][가-힣A-Za-z0-9\\s,\\(\\)/·]+=[가-힣A-Za-z0-9\\s,\\(\\)/·]+[\\]\\)】]\\s?([가-힣A-Za-z\\s]+=)*',\n",
    "                   '', row).strip()\n",
    "        # = 이 없는 경우 본문의 중요 정보가 사라지지 않도록 ()는 match에서 제외\n",
    "    result = re.sub(r'[\\[【][가-힣A-Za-z0-9\\s,\\(\\)/·:|]+[\\]】]\\s?([가-힣A-Za-z\\s]+=)*',\n",
    "                   '', result).strip()\n",
    "    result = re.sub(r'\\(베스트 일레븐\\)',\n",
    "                   '', result).strip()\n",
    "    \n",
    "    # 2. 기자이메일, 각종 계정 제거\n",
    "    result = re.sub(r'([A-Za-z가-힣]+\\s?기자)?\\s?[A-Za-z0-9]+@([A-Za-z0-9.]+\\s*[A-Za-z가-힣 ]*)?',\n",
    "                   '', result).strip()\n",
    "    \n",
    "    # 3. 일부 특수문자(.,?!/@$%~％·∼(), 띄어쓰기, ASCII 문자(\\x00-\\x7F), 한글(가-힣)\n",
    "    result = re.sub(r'[^ .,?!/@$%~％·∼()\\x00-\\x7F가-힣]+',\n",
    "                   '', result).strip()\n",
    "    \n",
    "    # 4. 음성정보 제공용 텍스트 안내문구\n",
    "    result = re.sub(r'<<[가-힣A-Za-z0-9 ]+>>',\n",
    "                    '', result).strip()\n",
    "    return result"
   ]
  },
  {
   "cell_type": "code",
   "execution_count": 215,
   "metadata": {},
   "outputs": [
    {
     "data": {
      "text/plain": [
       "0         \"벌금과 단속 걱정하던 아들, 장사 준비하던 현수막으로 목 메 숨져\"결혼까지 미루고...\n",
       "1         #1. 20대 여성 A씨는 지난해 7월 서해 한 해수욕장에 놀러갔다가 우연히 30대...\n",
       "2         (하노이=연합뉴스) 김문성 특파원 = 필리핀에서 30대 한국인 관광객이 숨진 채 발...\n",
       "3         \\n(서울=연합뉴스) 김귀근 이영재 기자 = 공관병에 대한 부인의 '갑질' 의혹을 ...\n",
       "4         (청주=연합뉴스) 이승민 기자 = 청주 흥덕경찰서는 화장실에 '몰래카메라'를 설치해...\n",
       "                                ...                        \n",
       "109414    \\n[부산=스포츠조선 박상경 기자] 롯데 자이언츠 허문회 감독은 전준우의 재치 있는...\n",
       "109415    \\n[스포츠조선 선수민 기자] 이 정도면 새 외국인 타자 에디슨 러셀(키움 히어로즈...\n",
       "109416    \\n[OSEN=한용섭 기자] 세인트루이스 카디널스 구단에 코로나19 확진자가 추가로...\n",
       "109417    \\n[스포티비뉴스=부산, 고봉준 기자] 롯데 자이언츠가 8월 첫 주말을 연승으로 장...\n",
       "109418    \\n[스포탈코리아] 곽힘찬 기자= 웨인 루니(더비 카운티)가 과거 맨체스터 유나이티...\n",
       "Name: body, Length: 109419, dtype: object"
      ]
     },
     "execution_count": 215,
     "metadata": {},
     "output_type": "execute_result"
    }
   ],
   "source": [
    "daum_copy.body"
   ]
  },
  {
   "cell_type": "code",
   "execution_count": 216,
   "metadata": {},
   "outputs": [],
   "source": [
    "pp = daum_copy.body.apply(cleaning_body)"
   ]
  },
  {
   "cell_type": "code",
   "execution_count": 217,
   "metadata": {},
   "outputs": [],
   "source": [
    "pp = pp.apply(cleaning_body)"
   ]
  },
  {
   "cell_type": "code",
   "execution_count": 218,
   "metadata": {},
   "outputs": [],
   "source": [
    "daum_copy.body = pp"
   ]
  },
  {
   "cell_type": "markdown",
   "metadata": {},
   "source": [
    "body 없는 행 제거"
   ]
  },
  {
   "cell_type": "code",
   "execution_count": 219,
   "metadata": {},
   "outputs": [],
   "source": [
    "blank_idx = []\n",
    "for i in range(len(daum_copy)):\n",
    "    if daum_copy.loc[i, 'body'] == '':\n",
    "        blank_idx.append(i)"
   ]
  },
  {
   "cell_type": "code",
   "execution_count": 220,
   "metadata": {},
   "outputs": [
    {
     "data": {
      "text/plain": [
       "216"
      ]
     },
     "execution_count": 220,
     "metadata": {},
     "output_type": "execute_result"
    }
   ],
   "source": [
    "len(blank_idx)"
   ]
  },
  {
   "cell_type": "code",
   "execution_count": 221,
   "metadata": {},
   "outputs": [
    {
     "name": "stdout",
     "output_type": "stream",
     "text": [
      "(109419, 6)\n",
      "(109203, 6)\n"
     ]
    }
   ],
   "source": [
    "print(daum_copy.shape)\n",
    "daum_copy.drop(index=blank_idx, inplace=True)\n",
    "print(daum_copy.shape)"
   ]
  },
  {
   "cell_type": "markdown",
   "metadata": {},
   "source": [
    "## summary"
   ]
  },
  {
   "cell_type": "code",
   "execution_count": 222,
   "metadata": {},
   "outputs": [],
   "source": [
    "def cleaning_summary(row):\n",
    "    '''\n",
    "    일부 특수 문자, 띄어쓰기, 영어, 한글 등을 제외하고 모두 제거 (ex. 한자)\n",
    "    '''\n",
    "    # 일부 특수문자(.,?!/@$%~％·∼(), 띄어쓰기, ASCII 문자(\\x00-\\x7F), 한글(가-힣)\n",
    "    result = re.sub(r'[^ .,?!/@$%~％·∼()\\x00-\\x7F가-힣]+',\n",
    "                   '', row).strip()\n",
    "    return result    "
   ]
  },
  {
   "cell_type": "code",
   "execution_count": 223,
   "metadata": {},
   "outputs": [],
   "source": [
    "pp2 = daum_copy.summary.apply(cleaning_summary)"
   ]
  },
  {
   "cell_type": "code",
   "execution_count": 224,
   "metadata": {},
   "outputs": [],
   "source": [
    "daum_copy.summary = pp2"
   ]
  },
  {
   "cell_type": "markdown",
   "metadata": {},
   "source": [
    "## DB에 저장"
   ]
  },
  {
   "cell_type": "code",
   "execution_count": 225,
   "metadata": {},
   "outputs": [],
   "source": [
    "conn = sqlite3.connect('../data/news_cleaned.db')\n",
    "cur = conn.cursor()"
   ]
  },
  {
   "cell_type": "code",
   "execution_count": 226,
   "metadata": {},
   "outputs": [],
   "source": [
    "daum_copy.to_sql('daumnews', conn) # index=False로 지정하기"
   ]
  },
  {
   "cell_type": "code",
   "execution_count": 227,
   "metadata": {},
   "outputs": [],
   "source": [
    "cur.close()\n",
    "conn.close()"
   ]
  },
  {
   "cell_type": "markdown",
   "metadata": {},
   "source": [
    "# Tokeninzing & EDA"
   ]
  },
  {
   "cell_type": "markdown",
   "metadata": {},
   "source": [
    "## Data load"
   ]
  },
  {
   "cell_type": "code",
   "execution_count": 69,
   "metadata": {},
   "outputs": [],
   "source": [
    "from konlpy.tag import Kkma, Hannanum, Komoran, Okt\n",
    "from nltk import Text\n",
    "import matplotlib.pyplot as plt\n",
    "import matplotlib as mpl"
   ]
  },
  {
   "cell_type": "code",
   "execution_count": 65,
   "metadata": {},
   "outputs": [],
   "source": [
    "# 한글깨짐 해결\n",
    "plt.rcParams[\"font.family\"] = \"Malgun Gothic\"\n",
    "plt.rcParams[\"font.size\"] = 12\n",
    "plt.rcParams[\"figure.figsize\"] = (14,4)\n",
    "\n",
    "# 마이너스 깨짐 해결\n",
    "mpl.rcParams['axes.unicode_minus'] = False"
   ]
  },
  {
   "cell_type": "code",
   "execution_count": 6,
   "metadata": {},
   "outputs": [],
   "source": [
    "conn = sqlite3.connect('../data/news_cleaned.db')\n",
    "cur = conn.cursor()"
   ]
  },
  {
   "cell_type": "code",
   "execution_count": 7,
   "metadata": {},
   "outputs": [
    {
     "data": {
      "text/html": [
       "<div>\n",
       "<style scoped>\n",
       "    .dataframe tbody tr th:only-of-type {\n",
       "        vertical-align: middle;\n",
       "    }\n",
       "\n",
       "    .dataframe tbody tr th {\n",
       "        vertical-align: top;\n",
       "    }\n",
       "\n",
       "    .dataframe thead th {\n",
       "        text-align: right;\n",
       "    }\n",
       "</style>\n",
       "<table border=\"1\" class=\"dataframe\">\n",
       "  <thead>\n",
       "    <tr style=\"text-align: right;\">\n",
       "      <th></th>\n",
       "      <th>index</th>\n",
       "      <th>id</th>\n",
       "      <th>title</th>\n",
       "      <th>date</th>\n",
       "      <th>body</th>\n",
       "      <th>summary</th>\n",
       "      <th>link</th>\n",
       "    </tr>\n",
       "  </thead>\n",
       "  <tbody>\n",
       "    <tr>\n",
       "      <th>0</th>\n",
       "      <td>0</td>\n",
       "      <td>1</td>\n",
       "      <td>반복된 음식점 단속에 절망한 26살 청년의 '극단적 선택'</td>\n",
       "      <td>2017.08.01. 09:00</td>\n",
       "      <td>\"벌금과 단속 걱정하던 아들, 장사 준비하던 현수막으로 목 메 숨져\"결혼까지 미루고...</td>\n",
       "      <td>26살 황승우씨는 지난 30일 오전 경기 남양주시 조안면 막국수집 주방에서 목을 메...</td>\n",
       "      <td>https://v.daum.net/v/20170801090037914</td>\n",
       "    </tr>\n",
       "    <tr>\n",
       "      <th>1</th>\n",
       "      <td>1</td>\n",
       "      <td>2</td>\n",
       "      <td>'즉석만남에 술 한잔 했는데'..휴가철 성범죄 표적된 여성들</td>\n",
       "      <td>2017.08.01. 15:59</td>\n",
       "      <td>#1. 20대 여성 A씨는 지난해 7월 서해 한 해수욕장에 놀러갔다가 우연히 30대...</td>\n",
       "      <td>본격적인 여름 휴가철을 맞아 해수욕장, 계곡과 같은 피서지에 인파가 몰리면서 성범죄...</td>\n",
       "      <td>https://v.daum.net/v/20170801155924346</td>\n",
       "    </tr>\n",
       "    <tr>\n",
       "      <th>2</th>\n",
       "      <td>2</td>\n",
       "      <td>3</td>\n",
       "      <td>필리핀서 한국인 관광객 숨진채 발견..\"카지노서 거액 잃어\"</td>\n",
       "      <td>2017.08.01. 18:41</td>\n",
       "      <td>필리핀에서 30대 한국인 관광객이 숨진 채 발견됐다.\\n현지 경찰은 이 한국인이 카...</td>\n",
       "      <td>필리핀에서 30대 한국인 관광객이 숨진 채 발견됐다.\\n현지 경찰은 이 한국인이 카...</td>\n",
       "      <td>https://v.daum.net/v/20170801184128126</td>\n",
       "    </tr>\n",
       "    <tr>\n",
       "      <th>3</th>\n",
       "      <td>3</td>\n",
       "      <td>4</td>\n",
       "      <td>\"부인이 공관병 상대 갑질\" 논란 박찬주 육군대장 전역지원(종합)</td>\n",
       "      <td>2017.08.01. 18:50</td>\n",
       "      <td>공관병에 대한 부인의 '갑질' 의혹을 받고 있는 박찬주 육군 2작전사령관(대장)이 ...</td>\n",
       "      <td>공관병에 대한 부인의 '갑질' 의혹을 받고 있는 박찬주 육군 2작전사령관(대장)이 ...</td>\n",
       "      <td>https://v.daum.net/v/20170801185020317</td>\n",
       "    </tr>\n",
       "    <tr>\n",
       "      <th>4</th>\n",
       "      <td>4</td>\n",
       "      <td>5</td>\n",
       "      <td>화장실에 몰카 설치해 딸 친구 '찰칵' 목사 입건</td>\n",
       "      <td>2017.08.01. 07:45</td>\n",
       "      <td>청주 흥덕경찰서는 화장실에 '몰래카메라'를 설치해 한 집에 사는 딸의 친구를 촬영한...</td>\n",
       "      <td>경찰에 따르면 A씨는 지난달 29일 오후 3시 25분께 흥덕구의 자신의 집 화장실 ...</td>\n",
       "      <td>https://v.daum.net/v/20170801074552385</td>\n",
       "    </tr>\n",
       "  </tbody>\n",
       "</table>\n",
       "</div>"
      ],
      "text/plain": [
       "   index  id                                 title               date  \\\n",
       "0      0   1      반복된 음식점 단속에 절망한 26살 청년의 '극단적 선택'  2017.08.01. 09:00   \n",
       "1      1   2     '즉석만남에 술 한잔 했는데'..휴가철 성범죄 표적된 여성들  2017.08.01. 15:59   \n",
       "2      2   3     필리핀서 한국인 관광객 숨진채 발견..\"카지노서 거액 잃어\"  2017.08.01. 18:41   \n",
       "3      3   4  \"부인이 공관병 상대 갑질\" 논란 박찬주 육군대장 전역지원(종합)  2017.08.01. 18:50   \n",
       "4      4   5           화장실에 몰카 설치해 딸 친구 '찰칵' 목사 입건  2017.08.01. 07:45   \n",
       "\n",
       "                                                body  \\\n",
       "0  \"벌금과 단속 걱정하던 아들, 장사 준비하던 현수막으로 목 메 숨져\"결혼까지 미루고...   \n",
       "1  #1. 20대 여성 A씨는 지난해 7월 서해 한 해수욕장에 놀러갔다가 우연히 30대...   \n",
       "2  필리핀에서 30대 한국인 관광객이 숨진 채 발견됐다.\\n현지 경찰은 이 한국인이 카...   \n",
       "3  공관병에 대한 부인의 '갑질' 의혹을 받고 있는 박찬주 육군 2작전사령관(대장)이 ...   \n",
       "4  청주 흥덕경찰서는 화장실에 '몰래카메라'를 설치해 한 집에 사는 딸의 친구를 촬영한...   \n",
       "\n",
       "                                             summary  \\\n",
       "0  26살 황승우씨는 지난 30일 오전 경기 남양주시 조안면 막국수집 주방에서 목을 메...   \n",
       "1  본격적인 여름 휴가철을 맞아 해수욕장, 계곡과 같은 피서지에 인파가 몰리면서 성범죄...   \n",
       "2  필리핀에서 30대 한국인 관광객이 숨진 채 발견됐다.\\n현지 경찰은 이 한국인이 카...   \n",
       "3  공관병에 대한 부인의 '갑질' 의혹을 받고 있는 박찬주 육군 2작전사령관(대장)이 ...   \n",
       "4  경찰에 따르면 A씨는 지난달 29일 오후 3시 25분께 흥덕구의 자신의 집 화장실 ...   \n",
       "\n",
       "                                     link  \n",
       "0  https://v.daum.net/v/20170801090037914  \n",
       "1  https://v.daum.net/v/20170801155924346  \n",
       "2  https://v.daum.net/v/20170801184128126  \n",
       "3  https://v.daum.net/v/20170801185020317  \n",
       "4  https://v.daum.net/v/20170801074552385  "
      ]
     },
     "execution_count": 7,
     "metadata": {},
     "output_type": "execute_result"
    }
   ],
   "source": [
    "query = cur.execute('SELECT * FROM daumnews')\n",
    "cols = [column[0] for column in query.description]\n",
    "daum = pd.DataFrame.from_records(data=query.fetchall(), columns=cols)\n",
    "daum.head()"
   ]
  },
  {
   "cell_type": "code",
   "execution_count": 8,
   "metadata": {},
   "outputs": [],
   "source": [
    "cur.close()\n",
    "conn.close()"
   ]
  },
  {
   "cell_type": "code",
   "execution_count": 9,
   "metadata": {},
   "outputs": [
    {
     "data": {
      "text/plain": [
       "(109203, 7)"
      ]
     },
     "execution_count": 9,
     "metadata": {},
     "output_type": "execute_result"
    }
   ],
   "source": [
    "daum.shape"
   ]
  },
  {
   "cell_type": "code",
   "execution_count": 10,
   "metadata": {},
   "outputs": [],
   "source": [
    "daum.drop(columns=['index'], inplace=True)"
   ]
  },
  {
   "cell_type": "code",
   "execution_count": 11,
   "metadata": {},
   "outputs": [
    {
     "data": {
      "text/plain": [
       "(109203, 6)"
      ]
     },
     "execution_count": 11,
     "metadata": {},
     "output_type": "execute_result"
    }
   ],
   "source": [
    "daum.shape"
   ]
  },
  {
   "cell_type": "markdown",
   "metadata": {},
   "source": [
    "## 카테고리별 기사길이\n",
    "- 수집한 데이터에서 카테고리 구분이 안됨...ㅠㅠ"
   ]
  },
  {
   "cell_type": "markdown",
   "metadata": {},
   "source": [
    "## 형태소분석"
   ]
  },
  {
   "cell_type": "code",
   "execution_count": 17,
   "metadata": {},
   "outputs": [],
   "source": [
    "kkma = Kkma()\n",
    "han = Hannanum()\n",
    "komo = Komoran()\n",
    "okt = Okt()"
   ]
  },
  {
   "cell_type": "code",
   "execution_count": 13,
   "metadata": {},
   "outputs": [],
   "source": [
    "daum_copy = daum.copy()"
   ]
  },
  {
   "cell_type": "code",
   "execution_count": 15,
   "metadata": {},
   "outputs": [],
   "source": [
    "sample = daum_copy.summary[0]"
   ]
  },
  {
   "cell_type": "code",
   "execution_count": 23,
   "metadata": {},
   "outputs": [],
   "source": [
    "# kkma.morphs(sample)\n",
    "# komo.morphs(sample)\n",
    "# okt.morphs(sample)"
   ]
  },
  {
   "cell_type": "code",
   "execution_count": 27,
   "metadata": {
    "scrolled": true
   },
   "outputs": [],
   "source": [
    "sam_morphs = Text(han.morphs(sample))"
   ]
  },
  {
   "cell_type": "code",
   "execution_count": 70,
   "metadata": {},
   "outputs": [
    {
     "data": {
      "text/plain": [
       "[('을', 6),\n",
       " ('ㄴ', 5),\n",
       " ('었다', 4),\n",
       " ('.', 4),\n",
       " ('이', 3),\n",
       " ('하', 3),\n",
       " ('지나', 2),\n",
       " ('채', 2),\n",
       " ('되', 2),\n",
       " ('가', 2),\n",
       " ('도', 2),\n",
       " ('ㄹ', 2),\n",
       " ('26살', 1),\n",
       " ('황승우씨', 1),\n",
       " ('는', 1),\n",
       " ('30일', 1),\n",
       " ('오전', 1),\n",
       " ('경기', 1),\n",
       " ('남양주시', 1),\n",
       " ('조안면', 1)]"
      ]
     },
     "execution_count": 70,
     "metadata": {},
     "output_type": "execute_result"
    }
   ],
   "source": [
    "sam_morphs.vocab().most_common(20)"
   ]
  },
  {
   "cell_type": "code",
   "execution_count": 90,
   "metadata": {},
   "outputs": [
    {
     "data": {
      "image/png": "[encoded data removed]",
      "text/plain": [
       "<Figure size 1008x288 with 1 Axes>"
      ]
     },
     "metadata": {
      "needs_background": "light"
     },
     "output_type": "display_data"
    },
    {
     "data": {
      "text/plain": [
       "<matplotlib.axes._subplots.AxesSubplot at 0x1ebd91f6a30>"
      ]
     },
     "execution_count": 90,
     "metadata": {},
     "output_type": "execute_result"
    }
   ],
   "source": [
    "sam_morphs.vocab().plot(10)"
   ]
  },
  {
   "cell_type": "code",
   "execution_count": 46,
   "metadata": {},
   "outputs": [
    {
     "data": {
      "text/plain": [
       "6"
      ]
     },
     "execution_count": 46,
     "metadata": {},
     "output_type": "execute_result"
    }
   ],
   "source": [
    "sam_morphs.count('을')"
   ]
  },
  {
   "cell_type": "code",
   "execution_count": 67,
   "metadata": {},
   "outputs": [
    {
     "data": {
      "image/png": "[encoded data removed]",
      "text/plain": [
       "<Figure size 1008x288 with 1 Axes>"
      ]
     },
     "metadata": {
      "needs_background": "light"
     },
     "output_type": "display_data"
    }
   ],
   "source": [
    "sam_morphs.dispersion_plot(['을', '었다'])"
   ]
  },
  {
   "cell_type": "code",
   "execution_count": 63,
   "metadata": {},
   "outputs": [
    {
     "data": {
      "text/plain": [
       "95"
      ]
     },
     "execution_count": 63,
     "metadata": {},
     "output_type": "execute_result"
    }
   ],
   "source": [
    "len(sam_morphs)"
   ]
  },
  {
   "cell_type": "code",
   "execution_count": 68,
   "metadata": {},
   "outputs": [
    {
     "data": {
      "text/plain": [
       "210"
      ]
     },
     "execution_count": 68,
     "metadata": {},
     "output_type": "execute_result"
    }
   ],
   "source": [
    "len(sample)"
   ]
  },
  {
   "cell_type": "code",
   "execution_count": 71,
   "metadata": {},
   "outputs": [],
   "source": [
    "sample_body = daum_copy.body[0]"
   ]
  },
  {
   "cell_type": "code",
   "execution_count": 77,
   "metadata": {},
   "outputs": [
    {
     "data": {
      "image/png": "[encoded data removed]",
      "text/plain": [
       "<Figure size 1008x288 with 1 Axes>"
      ]
     },
     "metadata": {
      "needs_background": "light"
     },
     "output_type": "display_data"
    }
   ],
   "source": [
    "Text(sample_body).dispersion_plot(['이곳은 아버지 황선남(65)씨와 지난 2015년 희망을 품고 문을 연 가게였다.'])"
   ]
  },
  {
   "cell_type": "code",
   "execution_count": 75,
   "metadata": {},
   "outputs": [
    {
     "data": {
      "text/plain": [
       "'26살 황승우씨는 지난 30일 오전 경기 남양주시 조안면 막국수집 주방에서 목을 메 숨진 채 발견됐다.\\n이곳은 아버지 황선남(65)씨와 지난 2015년 희망을 품고 문을 연 가게였다.\\n황씨가 운영하던 막국수 집도 단속을 피할 수 없었다.\\n하지만 이마저도 한강유역환경청이 휴가철 수질을 오염시킬 우려가 있다며 지난달 집중단속을 하면서 승우씨의 노점상도 손해만 본 채 접게 됐다.'"
      ]
     },
     "execution_count": 75,
     "metadata": {},
     "output_type": "execute_result"
    }
   ],
   "source": [
    "sample"
   ]
  },
  {
   "cell_type": "code",
   "execution_count": 91,
   "metadata": {},
   "outputs": [],
   "source": [
    "sambody_morphs = Text(han.morphs(sample_body))"
   ]
  },
  {
   "cell_type": "code",
   "execution_count": 101,
   "metadata": {},
   "outputs": [
    {
     "data": {
      "image/png": "[encoded data removed]",
      "text/plain": [
       "<Figure size 1008x288 with 1 Axes>"
      ]
     },
     "metadata": {
      "needs_background": "light"
     },
     "output_type": "display_data"
    },
    {
     "data": {
      "text/plain": [
       "<matplotlib.axes._subplots.AxesSubplot at 0x1ebd9872670>"
      ]
     },
     "execution_count": 101,
     "metadata": {},
     "output_type": "execute_result"
    }
   ],
   "source": [
    "sambody_morphs.vocab().plot(50)"
   ]
  },
  {
   "cell_type": "markdown",
   "metadata": {},
   "source": [
    "# 각 body의 각 문장별로 인덱스를 주고 summary의 문장에 발견되는 곳의 인덱스를 추출해서 학습?"
   ]
  },
  {
   "cell_type": "code",
   "execution_count": 104,
   "metadata": {},
   "outputs": [],
   "source": [
    "from nltk.tokenize import sent_tokenize, regexp_tokenize"
   ]
  },
  {
   "cell_type": "code",
   "execution_count": 103,
   "metadata": {
    "collapsed": true
   },
   "outputs": [
    {
     "data": {
      "text/plain": [
       "['\"벌금과 단속 걱정하던 아들, 장사 준비하던 현수막으로 목 메 숨져\"결혼까지 미루고 식당 영업재개할 생각에 청소까지 열심히 했는데···\"\\n\\n \"아버지 아들인게 정말 행복했습니다.',\n",
       " '이 가게가 잘 될 수 있도록 수호신이 될게요\"\\n26살 황승우씨는 지난 30일 오전 경기 남양주시 조안면 막국수집 주방에서 목을 메 숨진 채 발견됐다.',\n",
       " '이곳은 아버지 황선남(65)씨와 지난 2015년 희망을 품고 문을 연 가게였다.',\n",
       " '건물주의 운전기사로 시작해 세를 얻어 희망을 품고 시작한 막국수 집은 인상이 서글서글한 부자의 웃음과 열의로 그나마 장사가 되는 듯 했다.',\n",
       " '그러나 이곳은 팔당상수원 환경정비구역으로 남양주시와 의정부지검이 지난해 부터 단속을 벌여 음식점을 운영하던 7명이 구속됐다.',\n",
       " '황씨가 운영하던 막국수 집도 단속을 피할 수 없었다.',\n",
       " '지난해 12월 단속을 더이상 견딜 수 없었던 이들은 결국 음식점 문을 닫았다.',\n",
       " '문제는 수입은 없는데 검찰이 내린 벌금 3000만원과 남양주시의 이행강제금 3690만원을 감당하기에는 너무나 힘에 부쳤다.',\n",
       " '주변 가게에서 아르바이트를 해도 생활비는 커녕 벌금과 과태료도 낼 수 없었다.',\n",
       " '결국 승우씨는 주변 지인과 카드빚을 내 휴가철 관광객들을 대상으로 소시지와 커피 등을 판매하는 노점상을 하기로 했다.',\n",
       " '교제하던 여자친구와는 결혼도 미뤘다.',\n",
       " '하지만 이마저도 한강유역환경청이 휴가철 수질을 오염시킬 우려가 있다며 지난달 집중단속을 하면서 승우씨의 노점상도 손해만 본 채 접게 됐다.',\n",
       " '승우씨는 지인들 뿐 아니라 금융권에서도 신용불량자의 낙인이 찍힌 채 절망에 빠졌다.',\n",
       " '이런 가운데 환경청에서 일부 원주민들에 대해서는 음식점 운영을 할 수 있도록 제도를 개선한다는 소식이 전해지면서 한줄기 희망이 생기는 듯 했다.',\n",
       " '승우씨는 다시 장사를 할 수도 있다는 생각에 문을 닫았던 음식점의 주방부터 청소를 시작했다.',\n",
       " '하지만 환경청이 주민들의 의견을 묵살하면서 이같은 희망도 오래가지 못했다.',\n",
       " '승우씨는 청소를 위해 음식점을 찾았다가 이같은 소식을 접했다.',\n",
       " '음식점 앞에는 독촉장이 쌓여 있었고 결국 승우씨는 자신이 청소해 오던 주방에서 노점상에 걸어 둔 현수막에 목을 메 스스로 목숨을 끊었다.',\n",
       " '승우씨는 목을 메는 순간에도 수사에 대한 두려움을 견디지 못한 자신을 탓하며 아버지를 걱정했다.',\n",
       " 'A4용지 2장짜리 분량에는 \"수사도 두려울 뿐더러 잘 산 것 하나 없는 아들이라 죄송합니다.',\n",
       " '늘 건강하시고 행복을 잃지 마세요\"라고 썼다.',\n",
       " '지난달 31일 오후 취재진이 찾은 승우씨의 장례시장 곳곳에서는 울음소리가 끊이지 않았다.',\n",
       " '승우씨의 아버지는 \"사람이 살 수 있게 몰아 부쳐야지 정부가 갈 곳 없이 벼랑 끝까지 아들을 내몰아 끝내 죽음을 선택하게 했다\"며 흐느꼈다.',\n",
       " '그는 \"빚까지 져가며 살아보겠다고 노점상 하나 차렸는데 이마저도 단속 당한다는 두려움과 다시 장사를 할 수 있다는 희망마저 끊어진 상태에서 이곳저곳 독촉까지 아들이 견뎌야 하는 짐이 너무 컸다\"며 \"아버지의 수호신이 된다는 아들의 마지막 말은 견딜 수 없을 정도로 아프다\"고 더이상 말을 잇지 못했다.',\n",
       " '승우씨의 지인은 \"불법이라는 것은 인정하지만 그렇다면 정상적으로 신고를 하고 영업할 수 있도록 해야지 무조건 규제를 하고 이를 빌미로 단속을 하는 것을 반복하는 것은 원주민들을 죽이기 위한 반복된 악행\"이라며 \"살 수 있는 방법은 조금이라도 마련해 줘야 하는 것 아니냐\"고 한탄했다.',\n",
       " '한편 조안면 주민들은 1일 오전 상여집회를 열기로 했다.']"
      ]
     },
     "execution_count": 103,
     "metadata": {},
     "output_type": "execute_result"
    }
   ],
   "source": [
    "sent_tokenize(sample_body)"
   ]
  },
  {
   "cell_type": "code",
   "execution_count": 115,
   "metadata": {},
   "outputs": [],
   "source": [
    "from string import punctuation\n",
    "import re"
   ]
  },
  {
   "cell_type": "code",
   "execution_count": 106,
   "metadata": {},
   "outputs": [
    {
     "data": {
      "text/plain": [
       "'!\"#$%&\\'()*+,-./:;<=>?@[\\\\]^_`{|}~'"
      ]
     },
     "execution_count": 106,
     "metadata": {},
     "output_type": "execute_result"
    }
   ],
   "source": [
    "punctuation"
   ]
  },
  {
   "cell_type": "code",
   "execution_count": 110,
   "metadata": {},
   "outputs": [
    {
     "data": {
      "text/plain": [
       "['아버지 아들인게 정말 행복했습니다.',\n",
       " '26살 황승우씨는 지난 30일 오전 경기 남양주시 조안면 막국수집 주방에서 목을 메 숨진 채 발견됐다.',\n",
       " '씨와 지난 2015년 희망을 품고 문을 연 가게였다.',\n",
       " '건물주의 운전기사로 시작해 세를 얻어 희망을 품고 시작한 막국수 집은 인상이 서글서글한 부자의 웃음과 열의로 그나마 장사가 되는 듯 했다.',\n",
       " '그러나 이곳은 팔당상수원 환경정비구역으로 남양주시와 의정부지검이 지난해 부터 단속을 벌여 음식점을 운영하던 7명이 구속됐다.',\n",
       " '황씨가 운영하던 막국수 집도 단속을 피할 수 없었다.',\n",
       " ' 지난해 12월 단속을 더이상 견딜 수 없었던 이들은 결국 음식점 문을 닫았다.',\n",
       " '문제는 수입은 없는데 검찰이 내린 벌금 3000만원과 남양주시의 이행강제금 3690만원을 감당하기에는 너무나 힘에 부쳤다.',\n",
       " ' 주변 가게에서 아르바이트를 해도 생활비는 커녕 벌금과 과태료도 낼 수 없었다.',\n",
       " '결국 승우씨는 주변 지인과 카드빚을 내 휴가철 관광객들을 대상으로 소시지와 커피 등을 판매하는 노점상을 하기로 했다.',\n",
       " ' 교제하던 여자친구와는 결혼도 미뤘다.',\n",
       " '하지만 이마저도 한강유역환경청이 휴가철 수질을 오염시킬 우려가 있다며 지난달 집중단속을 하면서 승우씨의 노점상도 손해만 본 채 접게 됐다.',\n",
       " ' 승우씨는 지인들 뿐 아니라 금융권에서도 신용불량자의 낙인이 찍힌 채 절망에 빠졌다.',\n",
       " '이런 가운데 환경청에서 일부 원주민들에 대해서는 음식점 운영을 할 수 있도록 제도를 개선한다는 소식이 전해지면서 한줄기 희망이 생기는 듯 했다.',\n",
       " ' 승우씨는 다시 장사를 할 수도 있다는 생각에 문을 닫았던 음식점의 주방부터 청소를 시작했다.',\n",
       " '하지만 환경청이 주민들의 의견을 묵살하면서 이같은 희망도 오래가지 못했다.',\n",
       " ' 승우씨는 청소를 위해 음식점을 찾았다가 이같은 소식을 접했다.',\n",
       " '음식점 앞에는 독촉장이 쌓여 있었고 결국 승우씨는 자신이 청소해 오던 주방에서 노점상에 걸어 둔 현수막에 목을 메 스스로 목숨을 끊었다.',\n",
       " '승우씨는 목을 메는 순간에도 수사에 대한 두려움을 견디지 못한 자신을 탓하며 아버지를 걱정했다.',\n",
       " '수사도 두려울 뿐더러 잘 산 것 하나 없는 아들이라 죄송합니다.',\n",
       " '라고 썼다.',\n",
       " '지난달 31일 오후 취재진이 찾은 승우씨의 장례시장 곳곳에서는 울음소리가 끊이지 않았다.',\n",
       " '며 흐느꼈다.',\n",
       " '고 더이상 말을 잇지 못했다.',\n",
       " '고 한탄했다.',\n",
       " '한편 조안면 주민들은 1일 오전 상여집회를 열기로 했다.']"
      ]
     },
     "execution_count": 110,
     "metadata": {},
     "output_type": "execute_result"
    }
   ],
   "source": [
    "regexp_tokenize(sample_body, r'[가-힣A-Za-z0-9<>^ ]+[!?.\\n]')"
   ]
  },
  {
   "cell_type": "code",
   "execution_count": 118,
   "metadata": {},
   "outputs": [
    {
     "data": {
      "text/plain": [
       "['\"벌금과 단속 걱정하던 아들, 장사 준비하던 현수막으로 목 메 숨져\"결혼까지 미루고 식당 영업재개할 생각에 청소까지 열심히 했는데···\"\\n\\n \"아버지 아들인게 정말 행복했습니다.',\n",
       " '이 가게가 잘 될 수 있도록 수호신이 될게요\"\\n26살 황승우씨는 지난 30일 오전 경기 남양주시 조안면 막국수집 주방에서 목을 메 숨진 채 발견됐다.',\n",
       " '이곳은 아버지 황선남(65)씨와 지난 2015년 희망을 품고 문을 연 가게였다.',\n",
       " '건물주의 운전기사로 시작해 세를 얻어 희망을 품고 시작한 막국수 집은 인상이 서글서글한 부자의 웃음과 열의로 그나마 장사가 되는 듯 했다.',\n",
       " '그러나 이곳은 팔당상수원 환경정비구역으로 남양주시와 의정부지검이 지난해 부터 단속을 벌여 음식점을 운영하던 7명이 구속됐다.',\n",
       " '황씨가 운영하던 막국수 집도 단속을 피할 수 없었다.',\n",
       " '지난해 12월 단속을 더이상 견딜 수 없었던 이들은 결국 음식점 문을 닫았다.',\n",
       " '문제는 수입은 없는데 검찰이 내린 벌금 3000만원과 남양주시의 이행강제금 3690만원을 감당하기에는 너무나 힘에 부쳤다.',\n",
       " '주변 가게에서 아르바이트를 해도 생활비는 커녕 벌금과 과태료도 낼 수 없었다.',\n",
       " '결국 승우씨는 주변 지인과 카드빚을 내 휴가철 관광객들을 대상으로 소시지와 커피 등을 판매하는 노점상을 하기로 했다.',\n",
       " '교제하던 여자친구와는 결혼도 미뤘다.',\n",
       " '하지만 이마저도 한강유역환경청이 휴가철 수질을 오염시킬 우려가 있다며 지난달 집중단속을 하면서 승우씨의 노점상도 손해만 본 채 접게 됐다.',\n",
       " '승우씨는 지인들 뿐 아니라 금융권에서도 신용불량자의 낙인이 찍힌 채 절망에 빠졌다.',\n",
       " '이런 가운데 환경청에서 일부 원주민들에 대해서는 음식점 운영을 할 수 있도록 제도를 개선한다는 소식이 전해지면서 한줄기 희망이 생기는 듯 했다.',\n",
       " '승우씨는 다시 장사를 할 수도 있다는 생각에 문을 닫았던 음식점의 주방부터 청소를 시작했다.',\n",
       " '하지만 환경청이 주민들의 의견을 묵살하면서 이같은 희망도 오래가지 못했다.',\n",
       " '승우씨는 청소를 위해 음식점을 찾았다가 이같은 소식을 접했다.',\n",
       " '음식점 앞에는 독촉장이 쌓여 있었고 결국 승우씨는 자신이 청소해 오던 주방에서 노점상에 걸어 둔 현수막에 목을 메 스스로 목숨을 끊었다.',\n",
       " '승우씨는 목을 메는 순간에도 수사에 대한 두려움을 견디지 못한 자신을 탓하며 아버지를 걱정했다.',\n",
       " 'A4용지 2장짜리 분량에는 \"수사도 두려울 뿐더러 잘 산 것 하나 없는 아들이라 죄송합니다.',\n",
       " '늘 건강하시고 행복을 잃지 마세요\"라고 썼다.',\n",
       " '지난달 31일 오후 취재진이 찾은 승우씨의 장례시장 곳곳에서는 울음소리가 끊이지 않았다.',\n",
       " '승우씨의 아버지는 \"사람이 살 수 있게 몰아 부쳐야지 정부가 갈 곳 없이 벼랑 끝까지 아들을 내몰아 끝내 죽음을 선택하게 했다\"며 흐느꼈다.',\n",
       " '그는 \"빚까지 져가며 살아보겠다고 노점상 하나 차렸는데 이마저도 단속 당한다는 두려움과 다시 장사를 할 수 있다는 희망마저 끊어진 상태에서 이곳저곳 독촉까지 아들이 견뎌야 하는 짐이 너무 컸다\"며 \"아버지의 수호신이 된다는 아들의 마지막 말은 견딜 수 없을 정도로 아프다\"고 더이상 말을 잇지 못했다.',\n",
       " '승우씨의 지인은 \"불법이라는 것은 인정하지만 그렇다면 정상적으로 신고를 하고 영업할 수 있도록 해야지 무조건 규제를 하고 이를 빌미로 단속을 하는 것을 반복하는 것은 원주민들을 죽이기 위한 반복된 악행\"이라며 \"살 수 있는 방법은 조금이라도 마련해 줘야 하는 것 아니냐\"고 한탄했다.',\n",
       " '한편 조안면 주민들은 1일 오전 상여집회를 열기로 했다.']"
      ]
     },
     "execution_count": 118,
     "metadata": {},
     "output_type": "execute_result"
    }
   ],
   "source": [
    "sent_tokenize(sample_body)"
   ]
  },
  {
   "cell_type": "code",
   "execution_count": 119,
   "metadata": {
    "scrolled": true
   },
   "outputs": [],
   "source": [
    "split_list = re.split(r'[?!.\\n]', sample_body)"
   ]
  },
  {
   "cell_type": "code",
   "execution_count": 134,
   "metadata": {},
   "outputs": [],
   "source": [
    "new_list = []\n",
    "for _ in split_list:\n",
    "    if _ != '':\n",
    "        new_list.append(_.strip())"
   ]
  },
  {
   "cell_type": "code",
   "execution_count": 135,
   "metadata": {},
   "outputs": [
    {
     "name": "stdout",
     "output_type": "stream",
     "text": [
      "0 \"벌금과 단속 걱정하던 아들, 장사 준비하던 현수막으로 목 메 숨져\"결혼까지 미루고 식당 영업재개할 생각에 청소까지 열심히 했는데···\"\n",
      "1 \"아버지 아들인게 정말 행복했습니다\n",
      "2 이 가게가 잘 될 수 있도록 수호신이 될게요\"\n",
      "3 26살 황승우씨는 지난 30일 오전 경기 남양주시 조안면 막국수집 주방에서 목을 메 숨진 채 발견됐다\n",
      "4 이곳은 아버지 황선남(65)씨와 지난 2015년 희망을 품고 문을 연 가게였다\n",
      "5 건물주의 운전기사로 시작해 세를 얻어 희망을 품고 시작한 막국수 집은 인상이 서글서글한 부자의 웃음과 열의로 그나마 장사가 되는 듯 했다\n",
      "6 그러나 이곳은 팔당상수원 환경정비구역으로 남양주시와 의정부지검이 지난해 부터 단속을 벌여 음식점을 운영하던 7명이 구속됐다\n",
      "7 황씨가 운영하던 막국수 집도 단속을 피할 수 없었다\n",
      "8 지난해 12월 단속을 더이상 견딜 수 없었던 이들은 결국 음식점 문을 닫았다\n",
      "9 문제는 수입은 없는데 검찰이 내린 벌금 3000만원과 남양주시의 이행강제금 3690만원을 감당하기에는 너무나 힘에 부쳤다\n",
      "10 주변 가게에서 아르바이트를 해도 생활비는 커녕 벌금과 과태료도 낼 수 없었다\n",
      "11 결국 승우씨는 주변 지인과 카드빚을 내 휴가철 관광객들을 대상으로 소시지와 커피 등을 판매하는 노점상을 하기로 했다\n",
      "12 교제하던 여자친구와는 결혼도 미뤘다\n",
      "13 하지만 이마저도 한강유역환경청이 휴가철 수질을 오염시킬 우려가 있다며 지난달 집중단속을 하면서 승우씨의 노점상도 손해만 본 채 접게 됐다\n",
      "14 승우씨는 지인들 뿐 아니라 금융권에서도 신용불량자의 낙인이 찍힌 채 절망에 빠졌다\n",
      "15 이런 가운데 환경청에서 일부 원주민들에 대해서는 음식점 운영을 할 수 있도록 제도를 개선한다는 소식이 전해지면서 한줄기 희망이 생기는 듯 했다\n",
      "16 승우씨는 다시 장사를 할 수도 있다는 생각에 문을 닫았던 음식점의 주방부터 청소를 시작했다\n",
      "17 하지만 환경청이 주민들의 의견을 묵살하면서 이같은 희망도 오래가지 못했다\n",
      "18 승우씨는 청소를 위해 음식점을 찾았다가 이같은 소식을 접했다\n",
      "19 음식점 앞에는 독촉장이 쌓여 있었고 결국 승우씨는 자신이 청소해 오던 주방에서 노점상에 걸어 둔 현수막에 목을 메 스스로 목숨을 끊었다\n",
      "20 승우씨는 목을 메는 순간에도 수사에 대한 두려움을 견디지 못한 자신을 탓하며 아버지를 걱정했다\n",
      "21 A4용지 2장짜리 분량에는 \"수사도 두려울 뿐더러 잘 산 것 하나 없는 아들이라 죄송합니다\n",
      "22 늘 건강하시고 행복을 잃지 마세요\"라고 썼다\n",
      "23 지난달 31일 오후 취재진이 찾은 승우씨의 장례시장 곳곳에서는 울음소리가 끊이지 않았다\n",
      "24 승우씨의 아버지는 \"사람이 살 수 있게 몰아 부쳐야지 정부가 갈 곳 없이 벼랑 끝까지 아들을 내몰아 끝내 죽음을 선택하게 했다\"며 흐느꼈다\n",
      "25 그는 \"빚까지 져가며 살아보겠다고 노점상 하나 차렸는데 이마저도 단속 당한다는 두려움과 다시 장사를 할 수 있다는 희망마저 끊어진 상태에서 이곳저곳 독촉까지 아들이 견뎌야 하는 짐이 너무 컸다\"며 \"아버지의 수호신이 된다는 아들의 마지막 말은 견딜 수 없을 정도로 아프다\"고 더이상 말을 잇지 못했다\n",
      "26 승우씨의 지인은 \"불법이라는 것은 인정하지만 그렇다면 정상적으로 신고를 하고 영업할 수 있도록 해야지 무조건 규제를 하고 이를 빌미로 단속을 하는 것을 반복하는 것은 원주민들을 죽이기 위한 반복된 악행\"이라며 \"살 수 있는 방법은 조금이라도 마련해 줘야 하는 것 아니냐\"고 한탄했다\n",
      "27 한편 조안면 주민들은 1일 오전 상여집회를 열기로 했다\n"
     ]
    }
   ],
   "source": [
    "for idx, sentence in enumerate(new_list):\n",
    "    print(idx, sentence)"
   ]
  },
  {
   "cell_type": "code",
   "execution_count": 136,
   "metadata": {},
   "outputs": [
    {
     "data": {
      "text/plain": [
       "'26살 황승우씨는 지난 30일 오전 경기 남양주시 조안면 막국수집 주방에서 목을 메 숨진 채 발견됐다.\\n이곳은 아버지 황선남(65)씨와 지난 2015년 희망을 품고 문을 연 가게였다.\\n황씨가 운영하던 막국수 집도 단속을 피할 수 없었다.\\n하지만 이마저도 한강유역환경청이 휴가철 수질을 오염시킬 우려가 있다며 지난달 집중단속을 하면서 승우씨의 노점상도 손해만 본 채 접게 됐다.'"
      ]
     },
     "execution_count": 136,
     "metadata": {},
     "output_type": "execute_result"
    }
   ],
   "source": [
    "sample"
   ]
  },
  {
   "cell_type": "code",
   "execution_count": 137,
   "metadata": {},
   "outputs": [],
   "source": [
    "split_summary_list = re.split(r'[?!.\\n]', sample)"
   ]
  },
  {
   "cell_type": "code",
   "execution_count": 138,
   "metadata": {},
   "outputs": [],
   "source": [
    "new_summary_list = []\n",
    "for _ in split_summary_list:\n",
    "    if _ != '':\n",
    "        new_summary_list.append(_.strip())"
   ]
  },
  {
   "cell_type": "code",
   "execution_count": 139,
   "metadata": {},
   "outputs": [
    {
     "data": {
      "text/plain": [
       "['26살 황승우씨는 지난 30일 오전 경기 남양주시 조안면 막국수집 주방에서 목을 메 숨진 채 발견됐다',\n",
       " '이곳은 아버지 황선남(65)씨와 지난 2015년 희망을 품고 문을 연 가게였다',\n",
       " '황씨가 운영하던 막국수 집도 단속을 피할 수 없었다',\n",
       " '하지만 이마저도 한강유역환경청이 휴가철 수질을 오염시킬 우려가 있다며 지난달 집중단속을 하면서 승우씨의 노점상도 손해만 본 채 접게 됐다']"
      ]
     },
     "execution_count": 139,
     "metadata": {},
     "output_type": "execute_result"
    }
   ],
   "source": [
    "new_summary_list"
   ]
  },
  {
   "cell_type": "code",
   "execution_count": 141,
   "metadata": {},
   "outputs": [
    {
     "name": "stdout",
     "output_type": "stream",
     "text": [
      "3 26살 황승우씨는 지난 30일 오전 경기 남양주시 조안면 막국수집 주방에서 목을 메 숨진 채 발견됐다\n",
      "4 이곳은 아버지 황선남(65)씨와 지난 2015년 희망을 품고 문을 연 가게였다\n",
      "7 황씨가 운영하던 막국수 집도 단속을 피할 수 없었다\n",
      "13 하지만 이마저도 한강유역환경청이 휴가철 수질을 오염시킬 우려가 있다며 지난달 집중단속을 하면서 승우씨의 노점상도 손해만 본 채 접게 됐다\n"
     ]
    }
   ],
   "source": [
    "summary_idx = []\n",
    "for idx, sentence in enumerate(new_list):\n",
    "    if sentence in new_summary_list:\n",
    "        print(idx, sentence)\n",
    "        summary_idx.append(idx)"
   ]
  },
  {
   "cell_type": "code",
   "execution_count": 144,
   "metadata": {},
   "outputs": [
    {
     "data": {
      "text/plain": [
       "28"
      ]
     },
     "execution_count": 144,
     "metadata": {},
     "output_type": "execute_result"
    }
   ],
   "source": [
    "len(new_list)"
   ]
  },
  {
   "cell_type": "code",
   "execution_count": 146,
   "metadata": {},
   "outputs": [],
   "source": [
    "summary_idx = np.array(summary_idx)"
   ]
  },
  {
   "cell_type": "code",
   "execution_count": 147,
   "metadata": {},
   "outputs": [
    {
     "data": {
      "text/plain": [
       "array([ 3,  4,  7, 13])"
      ]
     },
     "execution_count": 147,
     "metadata": {},
     "output_type": "execute_result"
    }
   ],
   "source": [
    "# 전체기사에서 서머리 문장들이 위치하는 인덱스\n",
    "summary_idx"
   ]
  },
  {
   "cell_type": "code",
   "execution_count": 148,
   "metadata": {},
   "outputs": [],
   "source": [
    "summary_idx_p = summary_idx / len(new_list)"
   ]
  },
  {
   "cell_type": "code",
   "execution_count": 149,
   "metadata": {},
   "outputs": [
    {
     "data": {
      "text/plain": [
       "array([0.10714286, 0.14285714, 0.25      , 0.46428571])"
      ]
     },
     "execution_count": 149,
     "metadata": {},
     "output_type": "execute_result"
    }
   ],
   "source": [
    "# 서머리 문장의 위치 비율로 나타내기\n",
    "summary_idx_p"
   ]
  },
  {
   "cell_type": "code",
   "execution_count": null,
   "metadata": {},
   "outputs": [],
   "source": []
  }
 ],
 "metadata": {
  "kernelspec": {
   "display_name": "Python 3",
   "language": "python",
   "name": "python3"
  },
  "language_info": {
   "codemirror_mode": {
    "name": "ipython",
    "version": 3
   },
   "file_extension": ".py",
   "mimetype": "text/x-python",
   "name": "python",
   "nbconvert_exporter": "python",
   "pygments_lexer": "ipython3",
   "version": "3.8.3"
  },
  "toc": {
   "base_numbering": 1,
   "nav_menu": {},
   "number_sections": true,
   "sideBar": true,
   "skip_h1_title": false,
   "title_cell": "Table of Contents",
   "title_sidebar": "Contents",
   "toc_cell": false,
   "toc_position": {
    "height": "calc(100% - 180px)",
    "left": "10px",
    "top": "150px",
    "width": "256px"
   },
   "toc_section_display": true,
   "toc_window_display": true
  },
  "varInspector": {
   "cols": {
    "lenName": 16,
    "lenType": 16,
    "lenVar": 40
   },
   "kernels_config": {
    "python": {
     "delete_cmd_postfix": "",
     "delete_cmd_prefix": "del ",
     "library": "var_list.py",
     "varRefreshCmd": "print(var_dic_list())"
    },
    "r": {
     "delete_cmd_postfix": ") ",
     "delete_cmd_prefix": "rm(",
     "library": "var_list.r",
     "varRefreshCmd": "cat(var_dic_list()) "
    }
   },
   "position": {
    "height": "144.667px",
    "left": "909px",
    "right": "20px",
    "top": "119px",
    "width": "350px"
   },
   "types_to_exclude": [
    "module",
    "function",
    "builtin_function_or_method",
    "instance",
    "_Feature"
   ],
   "window_display": false
  }
 },
 "nbformat": 4,
 "nbformat_minor": 4
}
