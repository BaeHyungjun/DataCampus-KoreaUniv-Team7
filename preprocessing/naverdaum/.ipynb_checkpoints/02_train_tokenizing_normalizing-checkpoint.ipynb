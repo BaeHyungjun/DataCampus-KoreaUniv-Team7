{
 "cells": [
  {
   "cell_type": "markdown",
   "metadata": {},
   "source": [
    "전처리 중간과정을 진행할 때는 import, 한글깨짐 부분 실행하고 바로 해당 전처리 부분으로 넘어가서 db 가져오면 됨"
   ]
  },
  {
   "cell_type": "code",
   "execution_count": 1,
   "metadata": {},
   "outputs": [],
   "source": [
    "# 시간 관리 및 데이터 정제\n",
    "import datetime\n",
    "import re\n",
    "\n",
    "# 데이터 관리\n",
    "import sqlite3\n",
    "import pandas as pd\n",
    "import numpy as np\n",
    "\n",
    "# 텍스트 처리\n",
    "from konlpy.tag import Hannanum\n",
    "from nltk import Text\n",
    "from nltk.tokenize import sent_tokenize, regexp_tokenize\n",
    "\n",
    "# 시각화\n",
    "import matplotlib.pyplot as plt\n",
    "import matplotlib as mpl\n",
    "import seaborn as sns\n",
    "\n",
    "# 기타\n",
    "from collections import Counter\n",
    "import ast\n",
    "import pickle"
   ]
  },
  {
   "cell_type": "code",
   "execution_count": 2,
   "metadata": {},
   "outputs": [],
   "source": [
    "# 한글깨짐 해결\n",
    "plt.rcParams[\"font.family\"] = \"Malgun Gothic\"\n",
    "plt.rcParams[\"font.size\"] = 12\n",
    "plt.rcParams[\"figure.figsize\"] = (14,4)\n",
    "\n",
    "# 마이너스 깨짐 해결\n",
    "mpl.rcParams['axes.unicode_minus'] = False"
   ]
  },
  {
   "cell_type": "markdown",
   "metadata": {},
   "source": [
    "# Tokenizing & Get Nouns"
   ]
  },
  {
   "cell_type": "markdown",
   "metadata": {},
   "source": [
    "## Data Load (cleaned)"
   ]
  },
  {
   "cell_type": "code",
   "execution_count": 3,
   "metadata": {},
   "outputs": [],
   "source": [
    "conn = sqlite3.connect('../../data/news_cleaned.db')\n",
    "cur = conn.cursor()"
   ]
  },
  {
   "cell_type": "code",
   "execution_count": 4,
   "metadata": {},
   "outputs": [
    {
     "data": {
      "text/plain": [
       "(100000, 7)"
      ]
     },
     "execution_count": 4,
     "metadata": {},
     "output_type": "execute_result"
    }
   ],
   "source": [
    "query = cur.execute('SELECT * FROM news')\n",
    "cols = [column[0] for column in query.description]\n",
    "news_cleaned = pd.DataFrame.from_records(data=query.fetchall(), columns=cols)\n",
    "news_cleaned.shape"
   ]
  },
  {
   "cell_type": "code",
   "execution_count": 5,
   "metadata": {},
   "outputs": [],
   "source": [
    "cur.close()\n",
    "conn.close()"
   ]
  },
  {
   "cell_type": "markdown",
   "metadata": {},
   "source": [
    "## 형태소분석 - 명사 추출"
   ]
  },
  {
   "cell_type": "code",
   "execution_count": 6,
   "metadata": {},
   "outputs": [],
   "source": [
    "han = Hannanum()"
   ]
  },
  {
   "cell_type": "code",
   "execution_count": 8,
   "metadata": {},
   "outputs": [],
   "source": [
    "def get_nouns(row, col_name='body'):\n",
    "    nouns_list = han.nouns(row[col_name])\n",
    "    if row['id'] % 10000 == 0:\n",
    "        print('{0} id {1} is processed'.format(datetime.datetime.now(), row['id']))\n",
    "    return nouns_list"
   ]
  },
  {
   "cell_type": "code",
   "execution_count": 9,
   "metadata": {
    "scrolled": true
   },
   "outputs": [
    {
     "name": "stdout",
     "output_type": "stream",
     "text": [
      "2020-08-27 23:39:40.032654 id 0 is processed\n",
      "2020-08-27 23:57:19.599290 id 10000 is processed\n",
      "2020-08-28 00:14:28.932532 id 20000 is processed\n",
      "2020-08-28 00:31:53.345109 id 30000 is processed\n",
      "2020-08-28 00:51:47.546000 id 40000 is processed\n",
      "2020-08-28 01:11:45.657429 id 50000 is processed\n",
      "2020-08-28 01:22:49.533267 id 60000 is processed\n",
      "2020-08-28 01:35:06.314902 id 70000 is processed\n",
      "2020-08-28 01:47:34.390007 id 80000 is processed\n",
      "2020-08-28 01:59:49.244506 id 90000 is processed\n"
     ]
    }
   ],
   "source": [
    "news_cleaned['body_nouns'] = news_cleaned.apply(get_nouns, col_name='body', axis=1)"
   ]
  },
  {
   "cell_type": "code",
   "execution_count": 10,
   "metadata": {},
   "outputs": [
    {
     "name": "stdout",
     "output_type": "stream",
     "text": [
      "2020-08-28 02:12:41.542850 id 0 is processed\n",
      "2020-08-28 02:15:59.426611 id 10000 is processed\n",
      "2020-08-28 02:19:16.208246 id 20000 is processed\n",
      "2020-08-28 02:22:38.990867 id 30000 is processed\n",
      "2020-08-28 02:26:02.996218 id 40000 is processed\n",
      "2020-08-28 02:29:25.954369 id 50000 is processed\n",
      "2020-08-28 02:32:28.847219 id 60000 is processed\n",
      "2020-08-28 02:35:38.092017 id 70000 is processed\n",
      "2020-08-28 02:38:46.339516 id 80000 is processed\n",
      "2020-08-28 02:42:00.917081 id 90000 is processed\n"
     ]
    }
   ],
   "source": [
    "news_cleaned['summary_nouns'] = news_cleaned.apply(get_nouns, col_name='summary', axis=1)"
   ]
  },
  {
   "cell_type": "markdown",
   "metadata": {},
   "source": [
    "## pickle로 저장 (tokenized)\n",
    "- 리스트 데이터가 string으로 변환되는 상황을 방지하고자 pickle로 저장함"
   ]
  },
  {
   "cell_type": "code",
   "execution_count": 14,
   "metadata": {},
   "outputs": [],
   "source": [
    "news_cleaned.to_pickle('../../data/news_nouns.pickle')"
   ]
  },
  {
   "cell_type": "markdown",
   "metadata": {},
   "source": [
    "# Normalization"
   ]
  },
  {
   "cell_type": "markdown",
   "metadata": {},
   "source": [
    "## Data Load (tokenized)"
   ]
  },
  {
   "cell_type": "code",
   "execution_count": 3,
   "metadata": {},
   "outputs": [
    {
     "data": {
      "text/plain": [
       "(100000, 9)"
      ]
     },
     "execution_count": 3,
     "metadata": {},
     "output_type": "execute_result"
    }
   ],
   "source": [
    "news_tokenized = pd.read_pickle('../../data/news_nouns.pickle')\n",
    "news_tokenized.shape"
   ]
  },
  {
   "cell_type": "code",
   "execution_count": 4,
   "metadata": {
    "scrolled": true
   },
   "outputs": [
    {
     "data": {
      "text/html": [
       "<div>\n",
       "<style scoped>\n",
       "    .dataframe tbody tr th:only-of-type {\n",
       "        vertical-align: middle;\n",
       "    }\n",
       "\n",
       "    .dataframe tbody tr th {\n",
       "        vertical-align: top;\n",
       "    }\n",
       "\n",
       "    .dataframe thead th {\n",
       "        text-align: right;\n",
       "    }\n",
       "</style>\n",
       "<table border=\"1\" class=\"dataframe\">\n",
       "  <thead>\n",
       "    <tr style=\"text-align: right;\">\n",
       "      <th></th>\n",
       "      <th>id</th>\n",
       "      <th>title</th>\n",
       "      <th>date</th>\n",
       "      <th>body</th>\n",
       "      <th>summary</th>\n",
       "      <th>link</th>\n",
       "      <th>site</th>\n",
       "      <th>body_nouns</th>\n",
       "      <th>summary_nouns</th>\n",
       "    </tr>\n",
       "  </thead>\n",
       "  <tbody>\n",
       "    <tr>\n",
       "      <th>0</th>\n",
       "      <td>0</td>\n",
       "      <td>액상담배 美흡연자 8명 숨졌다, 복지부 \"한국 판매 금지 검토\"</td>\n",
       "      <td>2019.09.20. 오후 6:38</td>\n",
       "      <td>중증 폐질환 유발 가능성 있다 미국서 530건 의심환자 발생, 8명 사망국내 상황 ...</td>\n",
       "      <td>정부가 액상형 전자담배 사용 자제를 권고하고 나섰다.복지부는 미국 사례를 참조해 액...</td>\n",
       "      <td>https://news.naver.com/main/ranking/read.nhn?r...</td>\n",
       "      <td>naver</td>\n",
       "      <td>[중증, 폐질환, 유발, 가능성, 미국서, 530건, 의심환자, 발생, 8명, 사망...</td>\n",
       "      <td>[정도, 외국, 에디슨, 러셀(키움, 히어로즈), 복덩, 험난, 7월, 반등, 성공...</td>\n",
       "    </tr>\n",
       "    <tr>\n",
       "      <th>1</th>\n",
       "      <td>1</td>\n",
       "      <td>세력 키우는 태풍 '타파'…22일 밤 부산 앞바다 통과</td>\n",
       "      <td>2019.09.20. 오후 5:19</td>\n",
       "      <td>23일까지 강하고 많은 비제주에 최대 600밀리미터 물폭탄 제17호 태풍 타파가 한...</td>\n",
       "      <td>제17호 태풍 타파 가 한반도에 접근할수록 점점 강해지고 있는 데다 부산 앞바다를 ...</td>\n",
       "      <td>https://news.naver.com/main/ranking/read.nhn?r...</td>\n",
       "      <td>naver</td>\n",
       "      <td>[23일, 제주, 최대, 600밀리미터, 물폭탄, 제17호, 태풍, 타파, 한반도,...</td>\n",
       "      <td>[세인트루이스, 카디널스, 구단, 코로나19, 확진자, 추가, 발생, 총, 6명, ...</td>\n",
       "    </tr>\n",
       "    <tr>\n",
       "      <th>2</th>\n",
       "      <td>2</td>\n",
       "      <td>[내일날씨] 태풍 '타파' 북상…전국에 강한 비바람</td>\n",
       "      <td>2019.09.20. 오전 9:00</td>\n",
       "      <td>강한 비바람 때문에 행인이 우산을 꽉 붙잡고 지나가고 있다. 토요일인 21일 제17...</td>\n",
       "      <td>토요일인 21일 제17호 태풍 타파 영향으로 전국이 흐리고 비가 내리겠다.기상청은 ...</td>\n",
       "      <td>https://news.naver.com/main/ranking/read.nhn?r...</td>\n",
       "      <td>naver</td>\n",
       "      <td>[비바람, 때문, 행인, 우산, 토요일, 21일, 제17호, 태풍, 타파, 영향, ...</td>\n",
       "      <td>[롯데, 자이언츠, 8월, 첫, 주말, 연승, 장식, 롯데, 2, 사직구장, 타이거...</td>\n",
       "    </tr>\n",
       "  </tbody>\n",
       "</table>\n",
       "</div>"
      ],
      "text/plain": [
       "   id                                title                 date  \\\n",
       "0   0  액상담배 美흡연자 8명 숨졌다, 복지부 \"한국 판매 금지 검토\"  2019.09.20. 오후 6:38   \n",
       "1   1       세력 키우는 태풍 '타파'…22일 밤 부산 앞바다 통과  2019.09.20. 오후 5:19   \n",
       "2   2         [내일날씨] 태풍 '타파' 북상…전국에 강한 비바람  2019.09.20. 오전 9:00   \n",
       "\n",
       "                                                body  \\\n",
       "0  중증 폐질환 유발 가능성 있다 미국서 530건 의심환자 발생, 8명 사망국내 상황 ...   \n",
       "1  23일까지 강하고 많은 비제주에 최대 600밀리미터 물폭탄 제17호 태풍 타파가 한...   \n",
       "2  강한 비바람 때문에 행인이 우산을 꽉 붙잡고 지나가고 있다. 토요일인 21일 제17...   \n",
       "\n",
       "                                             summary  \\\n",
       "0  정부가 액상형 전자담배 사용 자제를 권고하고 나섰다.복지부는 미국 사례를 참조해 액...   \n",
       "1  제17호 태풍 타파 가 한반도에 접근할수록 점점 강해지고 있는 데다 부산 앞바다를 ...   \n",
       "2  토요일인 21일 제17호 태풍 타파 영향으로 전국이 흐리고 비가 내리겠다.기상청은 ...   \n",
       "\n",
       "                                                link   site  \\\n",
       "0  https://news.naver.com/main/ranking/read.nhn?r...  naver   \n",
       "1  https://news.naver.com/main/ranking/read.nhn?r...  naver   \n",
       "2  https://news.naver.com/main/ranking/read.nhn?r...  naver   \n",
       "\n",
       "                                          body_nouns  \\\n",
       "0  [중증, 폐질환, 유발, 가능성, 미국서, 530건, 의심환자, 발생, 8명, 사망...   \n",
       "1  [23일, 제주, 최대, 600밀리미터, 물폭탄, 제17호, 태풍, 타파, 한반도,...   \n",
       "2  [비바람, 때문, 행인, 우산, 토요일, 21일, 제17호, 태풍, 타파, 영향, ...   \n",
       "\n",
       "                                       summary_nouns  \n",
       "0  [정도, 외국, 에디슨, 러셀(키움, 히어로즈), 복덩, 험난, 7월, 반등, 성공...  \n",
       "1  [세인트루이스, 카디널스, 구단, 코로나19, 확진자, 추가, 발생, 총, 6명, ...  \n",
       "2  [롯데, 자이언츠, 8월, 첫, 주말, 연승, 장식, 롯데, 2, 사직구장, 타이거...  "
      ]
     },
     "execution_count": 4,
     "metadata": {},
     "output_type": "execute_result"
    }
   ],
   "source": [
    "news_tokenized.head(3)"
   ]
  },
  {
   "cell_type": "code",
   "execution_count": 5,
   "metadata": {},
   "outputs": [
    {
     "name": "stdout",
     "output_type": "stream",
     "text": [
      "<class 'list'>\n"
     ]
    },
    {
     "data": {
      "text/plain": [
       "['정도', '외국', '에디슨', '러셀(키움', '히어로즈)', '복덩', '험난', '7월', '반등', '성공']"
      ]
     },
     "execution_count": 5,
     "metadata": {},
     "output_type": "execute_result"
    }
   ],
   "source": [
    "print(type(news_tokenized.loc[0, 'summary_nouns']))\n",
    "news_tokenized.loc[0, 'summary_nouns'][:10]"
   ]
  },
  {
   "cell_type": "markdown",
   "metadata": {},
   "source": [
    "##  (, ) 제거"
   ]
  },
  {
   "cell_type": "code",
   "execution_count": 6,
   "metadata": {},
   "outputs": [],
   "source": [
    "def remove_parentheses(nouns_list):\n",
    "    new_list = []\n",
    "    for _ in nouns_list:\n",
    "        new_list += re.split(r'[\\(\\)]', _)\n",
    "    return [x for x in new_list if x != '']"
   ]
  },
  {
   "cell_type": "code",
   "execution_count": 7,
   "metadata": {},
   "outputs": [],
   "source": [
    "news_tokenized['body_nouns'] = news_tokenized['body_nouns'].apply(remove_parentheses)"
   ]
  },
  {
   "cell_type": "code",
   "execution_count": 8,
   "metadata": {},
   "outputs": [],
   "source": [
    "news_tokenized['summary_nouns'] = news_tokenized['summary_nouns'].apply(remove_parentheses)"
   ]
  },
  {
   "cell_type": "markdown",
   "metadata": {},
   "source": [
    "## 숫자 제거"
   ]
  },
  {
   "cell_type": "code",
   "execution_count": 9,
   "metadata": {},
   "outputs": [],
   "source": [
    "def remove_nums(nouns_list):\n",
    "    '''명사 리스트 데이터를 받아 숫자를 제거하는 함수'''\n",
    "    new_list = [re.sub(r'[0-9]+', '', x) for x in nouns_list]\n",
    "    return [x for x in new_list if x != '']"
   ]
  },
  {
   "cell_type": "code",
   "execution_count": 10,
   "metadata": {},
   "outputs": [
    {
     "data": {
      "text/plain": [
       "0        [정도, 외국, 에디슨, 러셀, 키움, 히어로즈, 복덩, 험난, 7월, 반등, 성공...\n",
       "1        [세인트루이스, 카디널스, 구단, 코로나19, 확진자, 추가, 발생, 총, 6명, ...\n",
       "2        [롯데, 자이언츠, 8월, 첫, 주말, 연승, 장식, 롯데, 2, 사직구장, 타이거...\n",
       "3        [웨, 루니, 더비, 카운티, 과거, 맨체스터, 유나이티드, 시절, 알렉스, 퍼거슨...\n",
       "4        [정부, 액상형, 전자담배, 사용, 자제, 권고, 복지부, 미국, 사례, 참조, 액...\n",
       "                               ...                        \n",
       "99995    [히어로즈, 시리즈, 스윕, 달성, 2일, 대구, 삼성라이온즈파크, 삼성, 라이온즈...\n",
       "99996    [잉글리시, 프리미어리그, EPL, 승격, 리즈, 유나이티드, 폭풍, 영입, 예고,...\n",
       "99997    [마무리, 투수, 붕괴, 결과, 치열, 접전, 두산, 1일, 창원, 파크, 2020...\n",
       "99998    [토트넘, 홋스퍼, 공격진, 보강, 성공, 데, 리, 메, 은, 2일, 한국시간, ...\n",
       "99999    [롯데, 자이언츠, 허문회, 감독, 전준우, 재치, 주루, 플레이, 생각, 2, 3...\n",
       "Name: summary_nouns, Length: 100000, dtype: object"
      ]
     },
     "execution_count": 10,
     "metadata": {},
     "output_type": "execute_result"
    }
   ],
   "source": [
    "news_tokenized.summary_nouns"
   ]
  },
  {
   "cell_type": "code",
   "execution_count": 11,
   "metadata": {
    "scrolled": true
   },
   "outputs": [
    {
     "data": {
      "text/plain": [
       "['롯데', '자이언츠', '월', '첫', '주말', '연승', '장식', '롯데', '사직구장', '타이거즈전']"
      ]
     },
     "execution_count": 11,
     "metadata": {},
     "output_type": "execute_result"
    }
   ],
   "source": [
    "remove_nums(news_tokenized.loc[2, 'summary_nouns'])[:10]"
   ]
  },
  {
   "cell_type": "code",
   "execution_count": 12,
   "metadata": {},
   "outputs": [],
   "source": [
    "news_tokenized['body_nouns'] = news_tokenized['body_nouns'].apply(remove_nums)"
   ]
  },
  {
   "cell_type": "code",
   "execution_count": 13,
   "metadata": {},
   "outputs": [],
   "source": [
    "news_tokenized['summary_nouns'] = news_tokenized['summary_nouns'].apply(remove_nums)"
   ]
  },
  {
   "cell_type": "code",
   "execution_count": 16,
   "metadata": {},
   "outputs": [
    {
     "data": {
      "text/plain": [
       "0        [정도, 외국, 에디슨, 러셀, 키움, 히어로즈, 복덩, 험난, 월, 반등, 성공,...\n",
       "1        [세인트루이스, 카디널스, 구단, 코로나, 확진자, 추가, 발생, 총, 명, 미국,...\n",
       "2        [롯데, 자이언츠, 월, 첫, 주말, 연승, 장식, 롯데, 사직구장, 타이거즈전, ...\n",
       "3        [웨, 루니, 더비, 카운티, 과거, 맨체스터, 유나이티드, 시절, 알렉스, 퍼거슨...\n",
       "4        [정부, 액상형, 전자담배, 사용, 자제, 권고, 복지부, 미국, 사례, 참조, 액...\n",
       "                               ...                        \n",
       "99995    [히어로즈, 시리즈, 스윕, 달성, 일, 대구, 삼성라이온즈파크, 삼성, 라이온즈와...\n",
       "99996    [잉글리시, 프리미어리그, EPL, 승격, 리즈, 유나이티드, 폭풍, 영입, 예고,...\n",
       "99997    [마무리, 투수, 붕괴, 결과, 치열, 접전, 두산, 일, 창원, 파크, 신한은행,...\n",
       "99998    [토트넘, 홋스퍼, 공격진, 보강, 성공, 데, 리, 메, 은, 일, 한국시간, 토...\n",
       "99999    [롯데, 자이언츠, 허문회, 감독, 전준우, 재치, 주루, 플레이, 생각, 루, 사...\n",
       "Name: summary_nouns, Length: 100000, dtype: object"
      ]
     },
     "execution_count": 16,
     "metadata": {},
     "output_type": "execute_result"
    }
   ],
   "source": [
    "news_tokenized.summary_nouns"
   ]
  },
  {
   "cell_type": "markdown",
   "metadata": {},
   "source": [
    "## 불용어 처리"
   ]
  },
  {
   "cell_type": "markdown",
   "metadata": {},
   "source": [
    "Zipf's Law"
   ]
  },
  {
   "cell_type": "code",
   "execution_count": 17,
   "metadata": {},
   "outputs": [],
   "source": [
    "body_nouns = []\n",
    "for _ in news_tokenized['body_nouns']:\n",
    "    body_nouns += _"
   ]
  },
  {
   "cell_type": "code",
   "execution_count": 18,
   "metadata": {},
   "outputs": [],
   "source": [
    "summary_nouns = []\n",
    "for _ in news_tokenized['summary_nouns']:\n",
    "    summary_nouns += _"
   ]
  },
  {
   "cell_type": "code",
   "execution_count": 19,
   "metadata": {},
   "outputs": [],
   "source": [
    "vocabs_body = Text(body_nouns).vocab()"
   ]
  },
  {
   "cell_type": "code",
   "execution_count": 20,
   "metadata": {},
   "outputs": [],
   "source": [
    "vocabs_summary = Text(summary_nouns).vocab()"
   ]
  },
  {
   "cell_type": "code",
   "execution_count": 21,
   "metadata": {},
   "outputs": [
    {
     "data": {
      "image/png": "[encoded data removed]",
      "text/plain": [
       "<Figure size 1008x288 with 1 Axes>"
      ]
     },
     "metadata": {
      "needs_background": "light"
     },
     "output_type": "display_data"
    },
    {
     "data": {
      "text/plain": [
       "<matplotlib.axes._subplots.AxesSubplot at 0x2095e6cd340>"
      ]
     },
     "execution_count": 21,
     "metadata": {},
     "output_type": "execute_result"
    }
   ],
   "source": [
    "vocabs_body.plot(20)"
   ]
  },
  {
   "cell_type": "code",
   "execution_count": 22,
   "metadata": {},
   "outputs": [
    {
     "data": {
      "image/png": "[encoded data removed]",
      "text/plain": [
       "<Figure size 1008x288 with 1 Axes>"
      ]
     },
     "metadata": {
      "needs_background": "light"
     },
     "output_type": "display_data"
    },
    {
     "data": {
      "text/plain": [
       "<matplotlib.axes._subplots.AxesSubplot at 0x2095d912730>"
      ]
     },
     "execution_count": 22,
     "metadata": {},
     "output_type": "execute_result"
    }
   ],
   "source": [
    "vocabs_summary.plot(20)"
   ]
  },
  {
   "cell_type": "code",
   "execution_count": 23,
   "metadata": {},
   "outputs": [],
   "source": [
    "stopwords_list1 = []\n",
    "for _ in vocabs_body.most_common(17):\n",
    "    stopwords_list1.append(_[0])\n",
    "for _ in vocabs_summary.most_common(13):\n",
    "    stopwords_list1.append(_[0])"
   ]
  },
  {
   "cell_type": "code",
   "execution_count": 24,
   "metadata": {},
   "outputs": [
    {
     "data": {
      "text/plain": [
       "775"
      ]
     },
     "execution_count": 24,
     "metadata": {},
     "output_type": "execute_result"
    }
   ],
   "source": [
    "stopwords2 = pd.read_csv('../stopwords/stopwords_concat.csv')\n",
    "stopwords_list2 = list(stopwords2['stopwords'].values)\n",
    "len(stopwords_list2)"
   ]
  },
  {
   "cell_type": "code",
   "execution_count": 25,
   "metadata": {
    "scrolled": true
   },
   "outputs": [
    {
     "name": "stdout",
     "output_type": "stream",
     "text": [
      "805\n",
      "668\n"
     ]
    }
   ],
   "source": [
    "stopwords_list = stopwords_list1 + stopwords_list2\n",
    "print(len(stopwords_list))\n",
    "stopwords_list = list(set(stopwords_list))\n",
    "print(len(stopwords_list))"
   ]
  },
  {
   "cell_type": "code",
   "execution_count": 26,
   "metadata": {},
   "outputs": [],
   "source": [
    "def remove_stopwords(nouns_list, stopwords_list):\n",
    "    '''명사 리스트 데이터를 받아 불용어를 처리하는 함수'''\n",
    "    new_list = [x for x in nouns_list if x not in stopwords_list]\n",
    "    return new_list"
   ]
  },
  {
   "cell_type": "code",
   "execution_count": 27,
   "metadata": {},
   "outputs": [],
   "source": [
    "news_tokenized['body_nouns'] = news_tokenized['body_nouns'].apply(remove_stopwords, stopwords_list=stopwords_list)"
   ]
  },
  {
   "cell_type": "code",
   "execution_count": 28,
   "metadata": {},
   "outputs": [],
   "source": [
    "news_tokenized['summary_nouns'] = news_tokenized['summary_nouns'].apply(remove_stopwords, stopwords_list=stopwords_list)"
   ]
  },
  {
   "cell_type": "code",
   "execution_count": 29,
   "metadata": {
    "scrolled": false
   },
   "outputs": [
    {
     "data": {
      "text/plain": [
       "0        [외국, 에디슨, 러셀, 키움, 히어로즈, 복덩, 험난, 반등, 성공, 타격, 마운...\n",
       "1        [세인트루이스, 카디널스, 구단, 코로나, 확진자, 추가, 발생, 총, 미국, 매체...\n",
       "2        [롯데, 자이언츠, 첫, 주말, 연승, 장식, 롯데, 사직구장, 타이거즈전, 이닝,...\n",
       "3        [웨, 루니, 더비, 카운티, 과거, 맨체스터, 유나이티드, 시절, 알렉스, 퍼거슨...\n",
       "4        [정부, 액상형, 전자담배, 사용, 자제, 권고, 복지부, 미국, 사례, 참조, 액...\n",
       "                               ...                        \n",
       "99995    [히어로즈, 시리즈, 스윕, 달성, 대구, 삼성라이온즈파크, 삼성, 라이온즈와, 경...\n",
       "99996    [잉글리시, 프리미어리그, EPL, 승격, 리즈, 유나이티드, 폭풍, 영입, 예고,...\n",
       "99997    [마무리, 투수, 붕괴, 결과, 치열, 접전, 두산, 창원, 파크, 신한은행, 리그...\n",
       "99998    [토트넘, 홋스퍼, 공격진, 보강, 성공, 리, 메, 은, 한국시간, 토트넘, 왓포...\n",
       "99999    [롯데, 자이언츠, 허문회, 감독, 전준우, 재치, 주루, 플레이, 루, 사이, 전...\n",
       "Name: summary_nouns, Length: 100000, dtype: object"
      ]
     },
     "execution_count": 29,
     "metadata": {},
     "output_type": "execute_result"
    }
   ],
   "source": [
    "news_tokenized['summary_nouns']"
   ]
  },
  {
   "cell_type": "markdown",
   "metadata": {},
   "source": [
    "## pickle로 저장 (normalized)"
   ]
  },
  {
   "cell_type": "code",
   "execution_count": 30,
   "metadata": {},
   "outputs": [],
   "source": [
    "news_tokenized.to_pickle('../../data/news_normalized_final.pickle')"
   ]
  },
  {
   "cell_type": "code",
   "execution_count": null,
   "metadata": {},
   "outputs": [],
   "source": []
  }
 ],
 "metadata": {
  "kernelspec": {
   "display_name": "Python 3",
   "language": "python",
   "name": "python3"
  },
  "language_info": {
   "codemirror_mode": {
    "name": "ipython",
    "version": 3
   },
   "file_extension": ".py",
   "mimetype": "text/x-python",
   "name": "python",
   "nbconvert_exporter": "python",
   "pygments_lexer": "ipython3",
   "version": "3.8.3"
  },
  "toc": {
   "base_numbering": 1,
   "nav_menu": {},
   "number_sections": true,
   "sideBar": true,
   "skip_h1_title": false,
   "title_cell": "Table of Contents",
   "title_sidebar": "Contents",
   "toc_cell": false,
   "toc_position": {
    "height": "398px",
    "left": "105px",
    "top": "110px",
    "width": "256px"
   },
   "toc_section_display": true,
   "toc_window_display": true
  },
  "varInspector": {
   "cols": {
    "lenName": 16,
    "lenType": 16,
    "lenVar": 40
   },
   "kernels_config": {
    "python": {
     "delete_cmd_postfix": "",
     "delete_cmd_prefix": "del ",
     "library": "var_list.py",
     "varRefreshCmd": "print(var_dic_list())"
    },
    "r": {
     "delete_cmd_postfix": ") ",
     "delete_cmd_prefix": "rm(",
     "library": "var_list.r",
     "varRefreshCmd": "cat(var_dic_list()) "
    }
   },
   "position": {
    "height": "257.667px",
    "left": "906px",
    "right": "20px",
    "top": "100px",
    "width": "350px"
   },
   "types_to_exclude": [
    "module",
    "function",
    "builtin_function_or_method",
    "instance",
    "_Feature"
   ],
   "window_display": false
  }
 },
 "nbformat": 4,
 "nbformat_minor": 4
}
