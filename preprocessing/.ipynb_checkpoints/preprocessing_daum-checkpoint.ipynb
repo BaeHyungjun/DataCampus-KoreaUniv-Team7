{
 "cells": [
  {
   "cell_type": "markdown",
   "metadata": {},
   "source": [
    "cleaning 완료한 데이터는 news_cleaned의 daumnews 테이블에 저장함"
   ]
  },
  {
   "cell_type": "markdown",
   "metadata": {},
   "source": [
    "# DB에서 daumnews 데이터를 데이터프레임으로 가져오기"
   ]
  },
  {
   "cell_type": "code",
   "execution_count": 1,
   "metadata": {},
   "outputs": [],
   "source": [
    "import sqlite3\n",
    "import pandas as pd\n",
    "import re"
   ]
  },
  {
   "cell_type": "code",
   "execution_count": 2,
   "metadata": {},
   "outputs": [],
   "source": [
    "conn = sqlite3.connect('../data/news_raw.db')\n",
    "cur = conn.cursor()"
   ]
  },
  {
   "cell_type": "code",
   "execution_count": 3,
   "metadata": {},
   "outputs": [],
   "source": [
    "query = cur.execute('SELECT * FROM daumnews')"
   ]
  },
  {
   "cell_type": "code",
   "execution_count": 4,
   "metadata": {},
   "outputs": [],
   "source": [
    "cols = [column[0] for column in query.description]"
   ]
  },
  {
   "cell_type": "code",
   "execution_count": 5,
   "metadata": {},
   "outputs": [],
   "source": [
    "daum = pd.DataFrame.from_records(data=query.fetchall(), columns=cols)"
   ]
  },
  {
   "cell_type": "code",
   "execution_count": 6,
   "metadata": {},
   "outputs": [
    {
     "data": {
      "text/html": [
       "<div>\n",
       "<style scoped>\n",
       "    .dataframe tbody tr th:only-of-type {\n",
       "        vertical-align: middle;\n",
       "    }\n",
       "\n",
       "    .dataframe tbody tr th {\n",
       "        vertical-align: top;\n",
       "    }\n",
       "\n",
       "    .dataframe thead th {\n",
       "        text-align: right;\n",
       "    }\n",
       "</style>\n",
       "<table border=\"1\" class=\"dataframe\">\n",
       "  <thead>\n",
       "    <tr style=\"text-align: right;\">\n",
       "      <th></th>\n",
       "      <th>id</th>\n",
       "      <th>title</th>\n",
       "      <th>date</th>\n",
       "      <th>body</th>\n",
       "      <th>summary</th>\n",
       "      <th>link</th>\n",
       "    </tr>\n",
       "  </thead>\n",
       "  <tbody>\n",
       "    <tr>\n",
       "      <th>0</th>\n",
       "      <td>1</td>\n",
       "      <td>반복된 음식점 단속에 절망한 26살 청년의 '극단적 선택'</td>\n",
       "      <td>2017.08.01. 09:00</td>\n",
       "      <td>\"벌금과 단속 걱정하던 아들, 장사 준비하던 현수막으로 목 메 숨져\"결혼까지 미루고...</td>\n",
       "      <td>26살 황승우씨는 지난 30일 오전 경기 남양주시 조안면 막국수집 주방에서 목을 메...</td>\n",
       "      <td>https://v.daum.net/v/20170801090037914</td>\n",
       "    </tr>\n",
       "    <tr>\n",
       "      <th>1</th>\n",
       "      <td>2</td>\n",
       "      <td>'즉석만남에 술 한잔 했는데'..휴가철 성범죄 표적된 여성들</td>\n",
       "      <td>2017.08.01. 15:59</td>\n",
       "      <td>#1. 20대 여성 A씨는 지난해 7월 서해 한 해수욕장에 놀러갔다가 우연히 30대...</td>\n",
       "      <td>본격적인 여름 휴가철을 맞아 해수욕장, 계곡과 같은 피서지에 인파가 몰리면서 성범죄...</td>\n",
       "      <td>https://v.daum.net/v/20170801155924346</td>\n",
       "    </tr>\n",
       "    <tr>\n",
       "      <th>2</th>\n",
       "      <td>3</td>\n",
       "      <td>필리핀서 한국인 관광객 숨진채 발견..\"카지노서 거액 잃어\"</td>\n",
       "      <td>2017.08.01. 18:41</td>\n",
       "      <td>(하노이=연합뉴스) 김문성 특파원 = 필리핀에서 30대 한국인 관광객이 숨진 채 발...</td>\n",
       "      <td>필리핀에서 30대 한국인 관광객이 숨진 채 발견됐다.\\n현지 경찰은 이 한국인이 카...</td>\n",
       "      <td>https://v.daum.net/v/20170801184128126</td>\n",
       "    </tr>\n",
       "    <tr>\n",
       "      <th>3</th>\n",
       "      <td>4</td>\n",
       "      <td>\"부인이 공관병 상대 갑질\" 논란 박찬주 육군대장 전역지원(종합)</td>\n",
       "      <td>2017.08.01. 18:50</td>\n",
       "      <td>\\n(서울=연합뉴스) 김귀근 이영재 기자 = 공관병에 대한 부인의 '갑질' 의혹을 ...</td>\n",
       "      <td>공관병에 대한 부인의 '갑질' 의혹을 받고 있는 박찬주 육군 2작전사령관(대장)이 ...</td>\n",
       "      <td>https://v.daum.net/v/20170801185020317</td>\n",
       "    </tr>\n",
       "    <tr>\n",
       "      <th>4</th>\n",
       "      <td>5</td>\n",
       "      <td>화장실에 몰카 설치해 딸 친구 '찰칵' 목사 입건</td>\n",
       "      <td>2017.08.01. 07:45</td>\n",
       "      <td>(청주=연합뉴스) 이승민 기자 = 청주 흥덕경찰서는 화장실에 '몰래카메라'를 설치해...</td>\n",
       "      <td>경찰에 따르면 A씨는 지난달 29일 오후 3시 25분께 흥덕구의 자신의 집 화장실 ...</td>\n",
       "      <td>https://v.daum.net/v/20170801074552385</td>\n",
       "    </tr>\n",
       "  </tbody>\n",
       "</table>\n",
       "</div>"
      ],
      "text/plain": [
       "   id                                 title               date  \\\n",
       "0   1      반복된 음식점 단속에 절망한 26살 청년의 '극단적 선택'  2017.08.01. 09:00   \n",
       "1   2     '즉석만남에 술 한잔 했는데'..휴가철 성범죄 표적된 여성들  2017.08.01. 15:59   \n",
       "2   3     필리핀서 한국인 관광객 숨진채 발견..\"카지노서 거액 잃어\"  2017.08.01. 18:41   \n",
       "3   4  \"부인이 공관병 상대 갑질\" 논란 박찬주 육군대장 전역지원(종합)  2017.08.01. 18:50   \n",
       "4   5           화장실에 몰카 설치해 딸 친구 '찰칵' 목사 입건  2017.08.01. 07:45   \n",
       "\n",
       "                                                body  \\\n",
       "0  \"벌금과 단속 걱정하던 아들, 장사 준비하던 현수막으로 목 메 숨져\"결혼까지 미루고...   \n",
       "1  #1. 20대 여성 A씨는 지난해 7월 서해 한 해수욕장에 놀러갔다가 우연히 30대...   \n",
       "2  (하노이=연합뉴스) 김문성 특파원 = 필리핀에서 30대 한국인 관광객이 숨진 채 발...   \n",
       "3  \\n(서울=연합뉴스) 김귀근 이영재 기자 = 공관병에 대한 부인의 '갑질' 의혹을 ...   \n",
       "4  (청주=연합뉴스) 이승민 기자 = 청주 흥덕경찰서는 화장실에 '몰래카메라'를 설치해...   \n",
       "\n",
       "                                             summary  \\\n",
       "0  26살 황승우씨는 지난 30일 오전 경기 남양주시 조안면 막국수집 주방에서 목을 메...   \n",
       "1  본격적인 여름 휴가철을 맞아 해수욕장, 계곡과 같은 피서지에 인파가 몰리면서 성범죄...   \n",
       "2  필리핀에서 30대 한국인 관광객이 숨진 채 발견됐다.\\n현지 경찰은 이 한국인이 카...   \n",
       "3  공관병에 대한 부인의 '갑질' 의혹을 받고 있는 박찬주 육군 2작전사령관(대장)이 ...   \n",
       "4  경찰에 따르면 A씨는 지난달 29일 오후 3시 25분께 흥덕구의 자신의 집 화장실 ...   \n",
       "\n",
       "                                     link  \n",
       "0  https://v.daum.net/v/20170801090037914  \n",
       "1  https://v.daum.net/v/20170801155924346  \n",
       "2  https://v.daum.net/v/20170801184128126  \n",
       "3  https://v.daum.net/v/20170801185020317  \n",
       "4  https://v.daum.net/v/20170801074552385  "
      ]
     },
     "execution_count": 6,
     "metadata": {},
     "output_type": "execute_result"
    }
   ],
   "source": [
    "daum.head()"
   ]
  },
  {
   "cell_type": "code",
   "execution_count": 7,
   "metadata": {},
   "outputs": [
    {
     "data": {
      "text/plain": [
       "(109419, 6)"
      ]
     },
     "execution_count": 7,
     "metadata": {},
     "output_type": "execute_result"
    }
   ],
   "source": [
    "daum.shape"
   ]
  },
  {
   "cell_type": "code",
   "execution_count": 8,
   "metadata": {},
   "outputs": [],
   "source": [
    "cur.close()\n",
    "conn.close()"
   ]
  },
  {
   "cell_type": "markdown",
   "metadata": {},
   "source": [
    "# Data Cleaning"
   ]
  },
  {
   "cell_type": "markdown",
   "metadata": {},
   "source": [
    "## body"
   ]
  },
  {
   "cell_type": "code",
   "execution_count": 213,
   "metadata": {},
   "outputs": [],
   "source": [
    "daum_copy = daum.copy()"
   ]
  },
  {
   "cell_type": "code",
   "execution_count": 214,
   "metadata": {},
   "outputs": [],
   "source": [
    "def cleaning_body(row):\n",
    "    '''\n",
    "    1. 언론사명, 기자명 제거\n",
    "    2. 기자이메일 제거\n",
    "    3. 일부 특수 문자, 띄어쓰기, 영어, 한글 등을 제외하고 모두 제거 (ex. 한자)\n",
    "    4. 음성정보 제공용 텍스트 안내문구 제거\n",
    "    '''\n",
    "    # 1. 언론사명, 기자명\n",
    "        # = 이 있는 경우\n",
    "    result = re.sub(r'[\\[\\(【][가-힣A-Za-z0-9\\s,\\(\\)/·]+=[가-힣A-Za-z0-9\\s,\\(\\)/·]+[\\]\\)】]\\s?([가-힣A-Za-z\\s]+=)*',\n",
    "                   '', row).strip()\n",
    "        # = 이 없는 경우 본문의 중요 정보가 사라지지 않도록 ()는 match에서 제외\n",
    "    result = re.sub(r'[\\[【][가-힣A-Za-z0-9\\s,\\(\\)/·:|]+[\\]】]\\s?([가-힣A-Za-z\\s]+=)*',\n",
    "                   '', result).strip()\n",
    "    result = re.sub(r'\\(베스트 일레븐\\)',\n",
    "                   '', result).strip()\n",
    "    \n",
    "    # 2. 기자이메일, 각종 계정 제거\n",
    "    result = re.sub(r'([A-Za-z가-힣]+\\s?기자)?\\s?[A-Za-z0-9]+@([A-Za-z0-9.]+\\s*[A-Za-z가-힣 ]*)?',\n",
    "                   '', result).strip()\n",
    "    \n",
    "    # 3. 일부 특수문자(.,?!/@$%~％·∼(), 띄어쓰기, ASCII 문자(\\x00-\\x7F), 한글(가-힣)\n",
    "    result = re.sub(r'[^ .,?!/@$%~％·∼()\\x00-\\x7F가-힣]+',\n",
    "                   '', result).strip()\n",
    "    \n",
    "    # 4. 음성정보 제공용 텍스트 안내문구\n",
    "    result = re.sub(r'<<[가-힣A-Za-z0-9 ]+>>',\n",
    "                    '', result).strip()\n",
    "    return result"
   ]
  },
  {
   "cell_type": "code",
   "execution_count": 215,
   "metadata": {},
   "outputs": [
    {
     "data": {
      "text/plain": [
       "0         \"벌금과 단속 걱정하던 아들, 장사 준비하던 현수막으로 목 메 숨져\"결혼까지 미루고...\n",
       "1         #1. 20대 여성 A씨는 지난해 7월 서해 한 해수욕장에 놀러갔다가 우연히 30대...\n",
       "2         (하노이=연합뉴스) 김문성 특파원 = 필리핀에서 30대 한국인 관광객이 숨진 채 발...\n",
       "3         \\n(서울=연합뉴스) 김귀근 이영재 기자 = 공관병에 대한 부인의 '갑질' 의혹을 ...\n",
       "4         (청주=연합뉴스) 이승민 기자 = 청주 흥덕경찰서는 화장실에 '몰래카메라'를 설치해...\n",
       "                                ...                        \n",
       "109414    \\n[부산=스포츠조선 박상경 기자] 롯데 자이언츠 허문회 감독은 전준우의 재치 있는...\n",
       "109415    \\n[스포츠조선 선수민 기자] 이 정도면 새 외국인 타자 에디슨 러셀(키움 히어로즈...\n",
       "109416    \\n[OSEN=한용섭 기자] 세인트루이스 카디널스 구단에 코로나19 확진자가 추가로...\n",
       "109417    \\n[스포티비뉴스=부산, 고봉준 기자] 롯데 자이언츠가 8월 첫 주말을 연승으로 장...\n",
       "109418    \\n[스포탈코리아] 곽힘찬 기자= 웨인 루니(더비 카운티)가 과거 맨체스터 유나이티...\n",
       "Name: body, Length: 109419, dtype: object"
      ]
     },
     "execution_count": 215,
     "metadata": {},
     "output_type": "execute_result"
    }
   ],
   "source": [
    "daum_copy.body"
   ]
  },
  {
   "cell_type": "code",
   "execution_count": 216,
   "metadata": {},
   "outputs": [],
   "source": [
    "pp = daum_copy.body.apply(cleaning_body)"
   ]
  },
  {
   "cell_type": "code",
   "execution_count": 217,
   "metadata": {},
   "outputs": [],
   "source": [
    "pp = pp.apply(cleaning_body)"
   ]
  },
  {
   "cell_type": "code",
   "execution_count": 218,
   "metadata": {},
   "outputs": [],
   "source": [
    "daum_copy.body = pp"
   ]
  },
  {
   "cell_type": "markdown",
   "metadata": {},
   "source": [
    "body 없는 행 제거"
   ]
  },
  {
   "cell_type": "code",
   "execution_count": 219,
   "metadata": {},
   "outputs": [],
   "source": [
    "blank_idx = []\n",
    "for i in range(len(daum_copy)):\n",
    "    if daum_copy.loc[i, 'body'] == '':\n",
    "        blank_idx.append(i)"
   ]
  },
  {
   "cell_type": "code",
   "execution_count": 220,
   "metadata": {},
   "outputs": [
    {
     "data": {
      "text/plain": [
       "216"
      ]
     },
     "execution_count": 220,
     "metadata": {},
     "output_type": "execute_result"
    }
   ],
   "source": [
    "len(blank_idx)"
   ]
  },
  {
   "cell_type": "code",
   "execution_count": 221,
   "metadata": {},
   "outputs": [
    {
     "name": "stdout",
     "output_type": "stream",
     "text": [
      "(109419, 6)\n",
      "(109203, 6)\n"
     ]
    }
   ],
   "source": [
    "print(daum_copy.shape)\n",
    "daum_copy.drop(index=blank_idx, inplace=True)\n",
    "print(daum_copy.shape)"
   ]
  },
  {
   "cell_type": "markdown",
   "metadata": {},
   "source": [
    "## summary"
   ]
  },
  {
   "cell_type": "code",
   "execution_count": 222,
   "metadata": {},
   "outputs": [],
   "source": [
    "def cleaning_summary(row):\n",
    "    '''\n",
    "    일부 특수 문자, 띄어쓰기, 영어, 한글 등을 제외하고 모두 제거 (ex. 한자)\n",
    "    '''\n",
    "    # 일부 특수문자(.,?!/@$%~％·∼(), 띄어쓰기, ASCII 문자(\\x00-\\x7F), 한글(가-힣)\n",
    "    result = re.sub(r'[^ .,?!/@$%~％·∼()\\x00-\\x7F가-힣]+',\n",
    "                   '', row).strip()\n",
    "    return result    "
   ]
  },
  {
   "cell_type": "code",
   "execution_count": 223,
   "metadata": {},
   "outputs": [],
   "source": [
    "pp2 = daum_copy.summary.apply(cleaning_summary)"
   ]
  },
  {
   "cell_type": "code",
   "execution_count": 224,
   "metadata": {},
   "outputs": [],
   "source": [
    "daum_copy.summary = pp2"
   ]
  },
  {
   "cell_type": "markdown",
   "metadata": {},
   "source": [
    "## DB에 저장"
   ]
  },
  {
   "cell_type": "code",
   "execution_count": 225,
   "metadata": {},
   "outputs": [],
   "source": [
    "conn = sqlite3.connect('../data/news_cleaned.db')\n",
    "cur = conn.cursor()"
   ]
  },
  {
   "cell_type": "code",
   "execution_count": 226,
   "metadata": {},
   "outputs": [],
   "source": [
    "daum_copy.to_sql('daumnews', conn)"
   ]
  },
  {
   "cell_type": "code",
   "execution_count": 227,
   "metadata": {},
   "outputs": [],
   "source": [
    "cur.close()\n",
    "conn.close()"
   ]
  },
  {
   "cell_type": "markdown",
   "metadata": {},
   "source": [
    "# Tokeninzing"
   ]
  },
  {
   "cell_type": "code",
   "execution_count": null,
   "metadata": {},
   "outputs": [],
   "source": []
  }
 ],
 "metadata": {
  "kernelspec": {
   "display_name": "Python 3",
   "language": "python",
   "name": "python3"
  },
  "language_info": {
   "codemirror_mode": {
    "name": "ipython",
    "version": 3
   },
   "file_extension": ".py",
   "mimetype": "text/x-python",
   "name": "python",
   "nbconvert_exporter": "python",
   "pygments_lexer": "ipython3",
   "version": "3.8.3"
  },
  "toc": {
   "base_numbering": 1,
   "nav_menu": {},
   "number_sections": true,
   "sideBar": true,
   "skip_h1_title": false,
   "title_cell": "Table of Contents",
   "title_sidebar": "Contents",
   "toc_cell": false,
   "toc_position": {
    "height": "calc(100% - 180px)",
    "left": "10px",
    "top": "150px",
    "width": "256px"
   },
   "toc_section_display": true,
   "toc_window_display": true
  },
  "varInspector": {
   "cols": {
    "lenName": 16,
    "lenType": 16,
    "lenVar": 40
   },
   "kernels_config": {
    "python": {
     "delete_cmd_postfix": "",
     "delete_cmd_prefix": "del ",
     "library": "var_list.py",
     "varRefreshCmd": "print(var_dic_list())"
    },
    "r": {
     "delete_cmd_postfix": ") ",
     "delete_cmd_prefix": "rm(",
     "library": "var_list.r",
     "varRefreshCmd": "cat(var_dic_list()) "
    }
   },
   "position": {
    "height": "144.667px",
    "left": "909px",
    "right": "20px",
    "top": "119px",
    "width": "350px"
   },
   "types_to_exclude": [
    "module",
    "function",
    "builtin_function_or_method",
    "instance",
    "_Feature"
   ],
   "window_display": false
  }
 },
 "nbformat": 4,
 "nbformat_minor": 4
}
