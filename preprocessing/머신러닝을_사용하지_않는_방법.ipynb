{
 "cells": [
  {
   "cell_type": "markdown",
   "metadata": {},
   "source": [
    "# 머신러닝을 사용하지 않는 방법\n",
    "\n",
    "### 머신러닝을 사용할때와 동일하게 텍스트의 전처리 진행\n",
    "\n",
    " + 전처리 과정\n",
    "\n",
    "1단계. 네이버, 다음, 유튜브에서 수집한 자료에서 사용할 기사의 본문만 남긴다.\n",
    "\n",
    "2단계. 불용어, 특수문자 등 필요없는 문자열을 제거한다.\n",
    "\n",
    "3단계. KoNLPy에서 제공하는 tokenizing을 사용하여 문자열을 단어별로 분리한다. 또는 필요에 따라 sentence tokenizing을 사용하여 문자열을 문장별로 분리한다.\n",
    "\n",
    "### 키워드 추출\n",
    "\n",
    "Count 기반의 word embedding을 수행한다. 단순하게 단어의 frequency를 단어의 score로 사용하는 방법 또는 특정한 규칙에 따라 가중치를 적용하여 score를 계산하는 방법을 고려해 볼 수 있을 것이다. (ex. tf-idf)\n",
    "\n",
    "그 후 score가 높은 단어를 그 문서의 중요한 단어로 출력한다.\n",
    "\n",
    "### 주요 문장 추출\n",
    "\n",
    "1번 방법 : 주요 문장의 위치가 고정적이라고 가정\n",
    "\n",
    "문서의 문장 개수에 따라서 중요한 문장의 위치가 일정하다고 가정했을 경우, 학습 데이터를 이용하여 요약문의 문장이 문서의 몇 번째 문장인지 살펴본다. 그 후 요약문으로 몇 개의 문장을 출력할 지 입력받으면 요약문에 많이 등장한 문장 위치 순서대로 문장을 출력하여 요약문을 완성한다.\n",
    "\n",
    "2번 방법 : Bigram 또는 Trigram을 이용하여 단어의 출현에 따른 다음 단어의 확률을 계산한다. 그 후 첫 문장을 주요 문장으로 입력 받았을 때 예측되는 다음 2개 또는 3개의 문장을 주요 문장으로 사용하여 요약문을 완성한다."
   ]
  }
 ],
 "metadata": {
  "kernelspec": {
   "display_name": "Python 3",
   "language": "python",
   "name": "python3"
  },
  "language_info": {
   "codemirror_mode": {
    "name": "ipython",
    "version": 3
   },
   "file_extension": ".py",
   "mimetype": "text/x-python",
   "name": "python",
   "nbconvert_exporter": "python",
   "pygments_lexer": "ipython3",
   "version": "3.7.7"
  },
  "varInspector": {
   "cols": {
    "lenName": 16,
    "lenType": 16,
    "lenVar": 40
   },
   "kernels_config": {
    "python": {
     "delete_cmd_postfix": "",
     "delete_cmd_prefix": "del ",
     "library": "var_list.py",
     "varRefreshCmd": "print(var_dic_list())"
    },
    "r": {
     "delete_cmd_postfix": ") ",
     "delete_cmd_prefix": "rm(",
     "library": "var_list.r",
     "varRefreshCmd": "cat(var_dic_list()) "
    }
   },
   "types_to_exclude": [
    "module",
    "function",
    "builtin_function_or_method",
    "instance",
    "_Feature"
   ],
   "window_display": false
  }
 },
 "nbformat": 4,
 "nbformat_minor": 4
}
