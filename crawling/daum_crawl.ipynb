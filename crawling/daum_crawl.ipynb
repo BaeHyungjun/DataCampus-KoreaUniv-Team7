{
 "cells": [
  {
   "cell_type": "markdown",
   "metadata": {},
   "source": [
    "# 필요 library import"
   ]
  },
  {
   "cell_type": "code",
   "execution_count": 1,
   "metadata": {},
   "outputs": [],
   "source": [
    "from bs4 import BeautifulSoup\n",
    "import requests\n",
    "import pandas as pd"
   ]
  },
  {
   "cell_type": "markdown",
   "metadata": {},
   "source": [
    "# 입력일시, 제목, 기사내용, summary crawling 함수"
   ]
  },
  {
   "cell_type": "markdown",
   "metadata": {},
   "source": [
    "- 기사 입력일시: 수정일시는 없는 기사도 많았으므로 입력일시를 사용\n",
    "- 기사 자동요약이 없는 경우에는 기사는 데이터 수집하지 않도록 구현"
   ]
  },
  {
   "cell_type": "code",
   "execution_count": 74,
   "metadata": {},
   "outputs": [],
   "source": [
    "def daum_crawl(url):\n",
    "    # url 받아서 DOM 객체 만들기\n",
    "    html = requests.get(url).text\n",
    "    bs = BeautifulSoup(html, 'html.parser')\n",
    "    \n",
    "    # summary 유무 확인하고 있으면 data 가져오기\n",
    "    if not bs.select('.btn_summary + div p'):\n",
    "        return None\n",
    "    else:\n",
    "        # 입력일시, 제목\n",
    "        date = bs.select_one('.info_view > span + span > span').text.strip()\n",
    "        title = bs.select_one('em + h3').text.strip()  \n",
    "\n",
    "        # 기사내용\n",
    "        article_list = []\n",
    "        for _ in bs.select('.article_view > section > p'):\n",
    "            article_list.append(_.text.strip())\n",
    "        article_list.pop() # 기자 이메일 제거\n",
    "        article = '\\n'.join(article_list)\n",
    "        \n",
    "        # summary\n",
    "        summary_list = []\n",
    "        for _ in bs.select('.btn_summary + div p'):\n",
    "            summary_list.append(_.text.strip())\n",
    "        summary = '\\n'.join(summary_list)\n",
    "\n",
    "        row = [date, title, article, summary]\n",
    "\n",
    "    return row\n",
    "\n",
    "def make_crawed_df(url_list):\n",
    "    col_names = ['date', 'title', 'article', 'summary']\n",
    "    rows = []\n",
    "    \n",
    "    for _ in url_list:\n",
    "        if daum_crawl(_) != None:\n",
    "            rows.append(daum_crawl(_))\n",
    "        \n",
    "    df = pd.DataFrame(rows, columns=col_names)\n",
    "    \n",
    "    return df"
   ]
  },
  {
   "cell_type": "code",
   "execution_count": 75,
   "metadata": {},
   "outputs": [
    {
     "data": {
      "text/html": [
       "<div>\n",
       "<style scoped>\n",
       "    .dataframe tbody tr th:only-of-type {\n",
       "        vertical-align: middle;\n",
       "    }\n",
       "\n",
       "    .dataframe tbody tr th {\n",
       "        vertical-align: top;\n",
       "    }\n",
       "\n",
       "    .dataframe thead th {\n",
       "        text-align: right;\n",
       "    }\n",
       "</style>\n",
       "<table border=\"1\" class=\"dataframe\">\n",
       "  <thead>\n",
       "    <tr style=\"text-align: right;\">\n",
       "      <th></th>\n",
       "      <th>date</th>\n",
       "      <th>title</th>\n",
       "      <th>article</th>\n",
       "      <th>summary</th>\n",
       "    </tr>\n",
       "  </thead>\n",
       "  <tbody>\n",
       "    <tr>\n",
       "      <th>0</th>\n",
       "      <td>2020.07.28. 06:41</td>\n",
       "      <td>천정부지 금값 온스당 2000달러 향해..달러 2년래 최저</td>\n",
       "      <td>(서울=뉴스1) 신기림 기자 = 금값이 뉴욕 거래에서 온스당 2000달러를 향해 돌...</td>\n",
       "      <td>금값이 뉴욕 거래에서 온스당 2000달러를 향해 돌진하며 사상 최고를 다시 갈아 치...</td>\n",
       "    </tr>\n",
       "    <tr>\n",
       "      <th>1</th>\n",
       "      <td>2020.07.28. 17:17</td>\n",
       "      <td>파우치 \"백신개발 이르면 10월 가능..안전성 우려 안해\"</td>\n",
       "      <td>미국 전염병 최고 권위자인 앤서니 파우치 국립알레르기·전염병연구소(NIAID) 소장...</td>\n",
       "      <td>미국 전염병 최고 권위자인 앤서니 파우치 국립알레르기·전염병연구소(NIAID) 소장...</td>\n",
       "    </tr>\n",
       "    <tr>\n",
       "      <th>2</th>\n",
       "      <td>2020.07.28. 19:40</td>\n",
       "      <td>뉴질랜드 총리 \"WTO사무총장 선출 관심\" 문대통령 \"유명희 적임\"</td>\n",
       "      <td>(서울=연합뉴스) 박경준 기자 = 문재인 대통령이 28일 오후 저신다 아던 뉴질랜드...</td>\n",
       "      <td>문재인 대통령이 28일 오후 저신다 아던 뉴질랜드 총리와 정상통화를 하고 세계무역기...</td>\n",
       "    </tr>\n",
       "  </tbody>\n",
       "</table>\n",
       "</div>"
      ],
      "text/plain": [
       "                date                                  title  \\\n",
       "0  2020.07.28. 06:41       천정부지 금값 온스당 2000달러 향해..달러 2년래 최저   \n",
       "1  2020.07.28. 17:17       파우치 \"백신개발 이르면 10월 가능..안전성 우려 안해\"   \n",
       "2  2020.07.28. 19:40  뉴질랜드 총리 \"WTO사무총장 선출 관심\" 문대통령 \"유명희 적임\"   \n",
       "\n",
       "                                             article  \\\n",
       "0  (서울=뉴스1) 신기림 기자 = 금값이 뉴욕 거래에서 온스당 2000달러를 향해 돌...   \n",
       "1  미국 전염병 최고 권위자인 앤서니 파우치 국립알레르기·전염병연구소(NIAID) 소장...   \n",
       "2  (서울=연합뉴스) 박경준 기자 = 문재인 대통령이 28일 오후 저신다 아던 뉴질랜드...   \n",
       "\n",
       "                                             summary  \n",
       "0  금값이 뉴욕 거래에서 온스당 2000달러를 향해 돌진하며 사상 최고를 다시 갈아 치...  \n",
       "1  미국 전염병 최고 권위자인 앤서니 파우치 국립알레르기·전염병연구소(NIAID) 소장...  \n",
       "2  문재인 대통령이 28일 오후 저신다 아던 뉴질랜드 총리와 정상통화를 하고 세계무역기...  "
      ]
     },
     "execution_count": 75,
     "metadata": {},
     "output_type": "execute_result"
    }
   ],
   "source": [
    "url_list = ['https://news.v.daum.net/v/20200728064119204', 'https://news.v.daum.net/v/20200728171755863',\n",
    "           'https://news.v.daum.net/v/20200728194024562', 'https://news.v.daum.net/v/20200728214416635']\n",
    "make_crawed_df(url_list)"
   ]
  },
  {
   "cell_type": "markdown",
   "metadata": {},
   "source": [
    "# 기사 링크 크롤링 -> url_list에 저장"
   ]
  },
  {
   "cell_type": "code",
   "execution_count": null,
   "metadata": {},
   "outputs": [],
   "source": []
  }
 ],
 "metadata": {
  "kernelspec": {
   "display_name": "Python 3",
   "language": "python",
   "name": "python3"
  },
  "language_info": {
   "codemirror_mode": {
    "name": "ipython",
    "version": 3
   },
   "file_extension": ".py",
   "mimetype": "text/x-python",
   "name": "python",
   "nbconvert_exporter": "python",
   "pygments_lexer": "ipython3",
   "version": "3.7.1"
  },
  "toc": {
   "base_numbering": 1,
   "nav_menu": {},
   "number_sections": true,
   "sideBar": true,
   "skip_h1_title": false,
   "title_cell": "Table of Contents",
   "title_sidebar": "Contents",
   "toc_cell": false,
   "toc_position": {},
   "toc_section_display": true,
   "toc_window_display": false
  },
  "varInspector": {
   "cols": {
    "lenName": 16,
    "lenType": 16,
    "lenVar": 40
   },
   "kernels_config": {
    "python": {
     "delete_cmd_postfix": "",
     "delete_cmd_prefix": "del ",
     "library": "var_list.py",
     "varRefreshCmd": "print(var_dic_list())"
    },
    "r": {
     "delete_cmd_postfix": ") ",
     "delete_cmd_prefix": "rm(",
     "library": "var_list.r",
     "varRefreshCmd": "cat(var_dic_list()) "
    }
   },
   "types_to_exclude": [
    "module",
    "function",
    "builtin_function_or_method",
    "instance",
    "_Feature"
   ],
   "window_display": false
  }
 },
 "nbformat": 4,
 "nbformat_minor": 4
}
