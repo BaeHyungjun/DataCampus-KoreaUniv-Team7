{
 "cells": [
  {
   "cell_type": "code",
   "execution_count": 1,
   "metadata": {
    "ExecuteTime": {
     "end_time": "2020-07-29T04:58:08.102920Z",
     "start_time": "2020-07-29T04:58:06.861686Z"
    }
   },
   "outputs": [],
   "source": [
    "from selenium import webdriver\n",
    "from selenium.webdriver.common.keys import Keys\n",
    "\n",
    "import requests\n",
    "from bs4 import BeautifulSoup\n",
    "\n",
    "import time\n",
    "from datetime import datetime\n",
    "\n",
    "import pandas as pd"
   ]
  },
  {
   "cell_type": "code",
   "execution_count": 2,
   "metadata": {
    "ExecuteTime": {
     "end_time": "2020-07-29T04:58:08.124905Z",
     "start_time": "2020-07-29T04:58:08.105915Z"
    }
   },
   "outputs": [],
   "source": [
    "def crawling_youtuber_video_link(path, youtuber, num_end=10):\n",
    "    \"\"\"해당 유튜버의 영상 링크들을 가져오기\n",
    "    \n",
    "    path : 크롬드라이버 주소\n",
    "    youtuber : 유튜버의 홈 링크\n",
    "    num_end : 동영상 탭에서 end 키를 누르는 횟수 => 비디오 링크를 얼마나 가져올 것인가\n",
    "    \n",
    "    가져오는 변수를 좀 추가해야되나??\n",
    "    여기서 더 안가져오고 동영상 링크 들어가면 거기서 많이 가져오면 될 것 같기도 하고\n",
    "    \"\"\"\n",
    "    driver = webdriver.Chrome(path)\n",
    "    driver.maximize_window() # 창 크기 최대화\n",
    "    \n",
    "    driver.get(youtuber) # 해당 링크로 이동\n",
    "    time.sleep(5)\n",
    "    driver.find_element_by_xpath('//*[@id=\"tabsContent\"]/paper-tab[2]/div').click() # 버튼 클릭\n",
    "    \n",
    "    # end 키를 눌러 페이지 맨 밑으로 이동\n",
    "    for i in range(num_end):\n",
    "        driver.find_element_by_tag_name('body').send_keys(Keys.END)\n",
    "        time.sleep(5)\n",
    "        \n",
    "    dom = driver.page_source\n",
    "    soup = BeautifulSoup(dom, 'html.parser')\n",
    "    link_source = soup.select(\"div#details\") # 영상들이 있는 부분의 소스 추출\n",
    "    \n",
    "    video_link_list = []\n",
    "    \n",
    "    for link in link_source:\n",
    "        title = link.find('a')['title']\n",
    "        href = link.find('a')['href']\n",
    "        video_link_list.append([datetime.now().strftime(\"%Y/%m/%d %H:%M:%S\"), title, href])\n",
    "    \n",
    "    driver.close()\n",
    "    \n",
    "    youtuber_video_link = pd.DataFrame(video_link_list, columns=['datetime', 'title', 'url'])\n",
    "    \n",
    "    return youtuber_video_link"
   ]
  },
  {
   "cell_type": "code",
   "execution_count": 3,
   "metadata": {
    "ExecuteTime": {
     "end_time": "2020-07-29T05:00:09.729468Z",
     "start_time": "2020-07-29T04:58:08.128904Z"
    }
   },
   "outputs": [
    {
     "name": "stdout",
     "output_type": "stream",
     "text": [
      "돌아가는데 걸린 시간 : 2분 1초\n"
     ]
    }
   ],
   "source": [
    "start = time.time()\n",
    "\n",
    "ytn_video_list = crawling_youtuber_video_link(path='chromedriver.exe',\n",
    "                                              youtuber='https://www.youtube.com/user/ytnnews24/featured',\n",
    "                                              num_end=20)\n",
    "\n",
    "print('돌아가는데 걸린 시간 : {}분 {}초'.format(round((time.time() - start) // 60), round((time.time() - start) % 60)))"
   ]
  },
  {
   "cell_type": "code",
   "execution_count": 4,
   "metadata": {
    "ExecuteTime": {
     "end_time": "2020-07-29T05:00:09.757451Z",
     "start_time": "2020-07-29T05:00:09.734464Z"
    }
   },
   "outputs": [
    {
     "data": {
      "text/plain": [
       "595"
      ]
     },
     "execution_count": 4,
     "metadata": {},
     "output_type": "execute_result"
    }
   ],
   "source": [
    "len(ytn_video_list)"
   ]
  },
  {
   "cell_type": "code",
   "execution_count": 5,
   "metadata": {
    "ExecuteTime": {
     "end_time": "2020-07-29T05:00:09.985310Z",
     "start_time": "2020-07-29T05:00:09.764447Z"
    }
   },
   "outputs": [
    {
     "data": {
      "text/html": [
       "<div>\n",
       "<style scoped>\n",
       "    .dataframe tbody tr th:only-of-type {\n",
       "        vertical-align: middle;\n",
       "    }\n",
       "\n",
       "    .dataframe tbody tr th {\n",
       "        vertical-align: top;\n",
       "    }\n",
       "\n",
       "    .dataframe thead th {\n",
       "        text-align: right;\n",
       "    }\n",
       "</style>\n",
       "<table border=\"1\" class=\"dataframe\">\n",
       "  <thead>\n",
       "    <tr style=\"text-align: right;\">\n",
       "      <th></th>\n",
       "      <th>datetime</th>\n",
       "      <th>title</th>\n",
       "      <th>url</th>\n",
       "    </tr>\n",
       "  </thead>\n",
       "  <tbody>\n",
       "    <tr>\n",
       "      <th>0</th>\n",
       "      <td>2020/07/29 14:00:09</td>\n",
       "      <td>[날씨] 광주· 대전 호우경보 ...내일까지 국지성 호우 / YTN</td>\n",
       "      <td>/watch?v=djMlBTqgoSk</td>\n",
       "    </tr>\n",
       "    <tr>\n",
       "      <th>1</th>\n",
       "      <td>2020/07/29 14:00:09</td>\n",
       "      <td>부동산 입법 속도내지만...시장은 여전히 '?' / YTN</td>\n",
       "      <td>/watch?v=MB5mHk2a1LI</td>\n",
       "    </tr>\n",
       "    <tr>\n",
       "      <th>2</th>\n",
       "      <td>2020/07/29 14:00:09</td>\n",
       "      <td>[뉴스앤이슈] 與, 부동산법안 '속전속결'...통합, 반발 속 '속수무책' / YTN</td>\n",
       "      <td>/watch?v=M0OeJIvakMQ</td>\n",
       "    </tr>\n",
       "    <tr>\n",
       "      <th>3</th>\n",
       "      <td>2020/07/29 14:00:09</td>\n",
       "      <td>美 '반중 연대' 강화...中 '사법 공조' 중단 / YTN</td>\n",
       "      <td>/watch?v=uzMjwfMDdns</td>\n",
       "    </tr>\n",
       "    <tr>\n",
       "      <th>4</th>\n",
       "      <td>2020/07/29 14:00:09</td>\n",
       "      <td>[취재N팩트] 한미 미사일지침 개정...민·군에 어떤 효과? / YTN</td>\n",
       "      <td>/watch?v=K3k0WqujRdo</td>\n",
       "    </tr>\n",
       "  </tbody>\n",
       "</table>\n",
       "</div>"
      ],
      "text/plain": [
       "              datetime                                            title  \\\n",
       "0  2020/07/29 14:00:09            [날씨] 광주· 대전 호우경보 ...내일까지 국지성 호우 / YTN   \n",
       "1  2020/07/29 14:00:09                 부동산 입법 속도내지만...시장은 여전히 '?' / YTN   \n",
       "2  2020/07/29 14:00:09  [뉴스앤이슈] 與, 부동산법안 '속전속결'...통합, 반발 속 '속수무책' / YTN   \n",
       "3  2020/07/29 14:00:09                美 '반중 연대' 강화...中 '사법 공조' 중단 / YTN   \n",
       "4  2020/07/29 14:00:09          [취재N팩트] 한미 미사일지침 개정...민·군에 어떤 효과? / YTN   \n",
       "\n",
       "                    url  \n",
       "0  /watch?v=djMlBTqgoSk  \n",
       "1  /watch?v=MB5mHk2a1LI  \n",
       "2  /watch?v=M0OeJIvakMQ  \n",
       "3  /watch?v=uzMjwfMDdns  \n",
       "4  /watch?v=K3k0WqujRdo  "
      ]
     },
     "execution_count": 5,
     "metadata": {},
     "output_type": "execute_result"
    }
   ],
   "source": [
    "ytn_video_list.head(5)"
   ]
  },
  {
   "cell_type": "code",
   "execution_count": 6,
   "metadata": {
    "ExecuteTime": {
     "end_time": "2020-07-29T05:00:10.192645Z",
     "start_time": "2020-07-29T05:00:09.992306Z"
    }
   },
   "outputs": [
    {
     "data": {
      "text/html": [
       "<div>\n",
       "<style scoped>\n",
       "    .dataframe tbody tr th:only-of-type {\n",
       "        vertical-align: middle;\n",
       "    }\n",
       "\n",
       "    .dataframe tbody tr th {\n",
       "        vertical-align: top;\n",
       "    }\n",
       "\n",
       "    .dataframe thead th {\n",
       "        text-align: right;\n",
       "    }\n",
       "</style>\n",
       "<table border=\"1\" class=\"dataframe\">\n",
       "  <thead>\n",
       "    <tr style=\"text-align: right;\">\n",
       "      <th></th>\n",
       "      <th>datetime</th>\n",
       "      <th>title</th>\n",
       "      <th>url</th>\n",
       "    </tr>\n",
       "  </thead>\n",
       "  <tbody>\n",
       "    <tr>\n",
       "      <th>590</th>\n",
       "      <td>2020/07/29 14:00:09</td>\n",
       "      <td>'불기소 권고' 한 달 지났지만...'이재용 기소 여부' 결론 이달 넘길 듯 / YTN</td>\n",
       "      <td>/watch?v=fZa1qVD-voI</td>\n",
       "    </tr>\n",
       "    <tr>\n",
       "      <th>591</th>\n",
       "      <td>2020/07/29 14:00:09</td>\n",
       "      <td>빌 게이츠 \"SK바이오사이언스, 백신 성공하면 내년 6월부터 연간 2억 개 생산 가...</td>\n",
       "      <td>/watch?v=OWEZcGJ48mk</td>\n",
       "    </tr>\n",
       "    <tr>\n",
       "      <th>592</th>\n",
       "      <td>2020/07/29 14:00:09</td>\n",
       "      <td>중앙재난안전대책본부 브리핑 (7월 25일) / YTN</td>\n",
       "      <td>/watch?v=ldibnLo6ynU</td>\n",
       "    </tr>\n",
       "    <tr>\n",
       "      <th>593</th>\n",
       "      <td>2020/07/29 14:00:09</td>\n",
       "      <td>시민단체, 중복 맞아 개 식용·도살 금지법 제정 촉구 / YTN</td>\n",
       "      <td>/watch?v=EO6654EHc1M</td>\n",
       "    </tr>\n",
       "    <tr>\n",
       "      <th>594</th>\n",
       "      <td>2020/07/29 14:00:09</td>\n",
       "      <td>울산 앞바다에 승용차 추락, 운전자 구조 / YTN</td>\n",
       "      <td>/watch?v=cgSxSx8MZyA</td>\n",
       "    </tr>\n",
       "  </tbody>\n",
       "</table>\n",
       "</div>"
      ],
      "text/plain": [
       "                datetime                                              title  \\\n",
       "590  2020/07/29 14:00:09   '불기소 권고' 한 달 지났지만...'이재용 기소 여부' 결론 이달 넘길 듯 / YTN   \n",
       "591  2020/07/29 14:00:09  빌 게이츠 \"SK바이오사이언스, 백신 성공하면 내년 6월부터 연간 2억 개 생산 가...   \n",
       "592  2020/07/29 14:00:09                      중앙재난안전대책본부 브리핑 (7월 25일) / YTN   \n",
       "593  2020/07/29 14:00:09                시민단체, 중복 맞아 개 식용·도살 금지법 제정 촉구 / YTN   \n",
       "594  2020/07/29 14:00:09                       울산 앞바다에 승용차 추락, 운전자 구조 / YTN   \n",
       "\n",
       "                      url  \n",
       "590  /watch?v=fZa1qVD-voI  \n",
       "591  /watch?v=OWEZcGJ48mk  \n",
       "592  /watch?v=ldibnLo6ynU  \n",
       "593  /watch?v=EO6654EHc1M  \n",
       "594  /watch?v=cgSxSx8MZyA  "
      ]
     },
     "execution_count": 6,
     "metadata": {},
     "output_type": "execute_result"
    }
   ],
   "source": [
    "ytn_video_list.tail(5)"
   ]
  },
  {
   "cell_type": "markdown",
   "metadata": {},
   "source": [
    "동영상의 링크를 이런식으로 가져와봤어요.\n",
    "\n",
    "이제 해당 링크를 들어가서 필요한 정보들을 긁어오는 함수를 추가할 예정 => 셀레니움을 이용해서 하는 방법은 page_source에서 찾는건 다 했는데 아직 깔끔하게 만들지를 못함\n",
    "\n",
    "필요한 정보 : 영상 제목, 링크, 유튜버, 게시 날짜, 좋아요 수, 싫어요 수, 영상 정보, 영상의 자동 생성 스크립트, 댓글의 정렬 기준을 인기 댓글 순으로 했을 때 상위 댓글 10개\n",
    "\n",
    "그리고 만약에 유튜브에서 데이터를 10만 개를 가져온다고 했을 때 selenium을 가지고 하기엔 힘들다고 생각이 돼서 안쓰고 하는 방법을 더 찾아보도록 하겠습니다.\n",
    "\n",
    "셀레니움을 사용한 이유는 유튜버 사이트 특성 상 버튼을 누른다거나, 스크롤을 움직여야 html page source가 추가되기 때문이었는데 다른 라이브러리 사용했을때에도 그렇게 되는지 아닌지 잘 모르겠네요. 시도해보겠습니다."
   ]
  },
  {
   "cell_type": "code",
   "execution_count": null,
   "metadata": {
    "ExecuteTime": {
     "end_time": "2020-07-29T04:55:29.434330Z",
     "start_time": "2020-07-29T04:55:26.844928Z"
    }
   },
   "outputs": [],
   "source": []
  }
 ],
 "metadata": {
  "kernelspec": {
   "display_name": "Python 3",
   "language": "python",
   "name": "python3"
  },
  "language_info": {
   "codemirror_mode": {
    "name": "ipython",
    "version": 3
   },
   "file_extension": ".py",
   "mimetype": "text/x-python",
   "name": "python",
   "nbconvert_exporter": "python",
   "pygments_lexer": "ipython3",
   "version": "3.7.7"
  },
  "varInspector": {
   "cols": {
    "lenName": 16,
    "lenType": 16,
    "lenVar": 40
   },
   "kernels_config": {
    "python": {
     "delete_cmd_postfix": "",
     "delete_cmd_prefix": "del ",
     "library": "var_list.py",
     "varRefreshCmd": "print(var_dic_list())"
    },
    "r": {
     "delete_cmd_postfix": ") ",
     "delete_cmd_prefix": "rm(",
     "library": "var_list.r",
     "varRefreshCmd": "cat(var_dic_list()) "
    }
   },
   "types_to_exclude": [
    "module",
    "function",
    "builtin_function_or_method",
    "instance",
    "_Feature"
   ],
   "window_display": false
  }
 },
 "nbformat": 4,
 "nbformat_minor": 4
}
