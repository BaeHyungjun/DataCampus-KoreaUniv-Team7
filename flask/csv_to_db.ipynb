{
 "cells": [
  {
   "cell_type": "markdown",
   "metadata": {},
   "source": [
    "# 추후 키워드 + 요약문도 추가"
   ]
  },
  {
   "cell_type": "code",
   "execution_count": 1,
   "metadata": {},
   "outputs": [],
   "source": [
    "import sqlite3\n",
    "\n",
    "conn = sqlite3.connect('youtubenews.db')\n",
    "cur = conn.cursor()"
   ]
  },
  {
   "cell_type": "code",
   "execution_count": 26,
   "metadata": {},
   "outputs": [],
   "source": [
    "import pandas as pd\n",
    "sbs = pd.read_csv('sbs.csv')\n",
    "channela = pd.read_csv('channela.csv')\n",
    "jtbc = pd.read_csv('jtbc.csv')\n",
    "kbs = pd.read_csv('kbs.csv')\n",
    "mbc = pd.read_csv('mbc.csv')\n",
    "yonhab = pd.read_csv('yonhab.csv')\n",
    "ytn = pd.read_csv('ytn.csv')\n",
    "mbn = pd.read_csv('mbn.csv')"
   ]
  },
  {
   "cell_type": "code",
   "execution_count": 28,
   "metadata": {},
   "outputs": [],
   "source": [
    "def functionn(df):\n",
    "    df = df.iloc[:,1:]\n",
    "    df = df[['published_time','video_url','author','title','thumbnail_url','comments_sentiment_result']]\n",
    "    df.columns = ['date','link','host','title','thumbnail','comment_sentiment']\n",
    "    df['keywords'] = str(['키워드1','키워드2','키워드3','키워드4'])\n",
    "    df['summary'] = '영상 요약이 문장 형태로 잘 나오게 된다면 이렇게 키워드 밑에다가 적어도 좋을 것 같아요.'\n",
    "    return df"
   ]
  },
  {
   "cell_type": "code",
   "execution_count": 34,
   "metadata": {},
   "outputs": [],
   "source": [
    "youtubenews = functionn(sbs)\n",
    "youtubenews = youtubenews.append(functionn(channela),ignore_index=True)\n",
    "youtubenews = youtubenews.append(functionn(jtbc),ignore_index=True)\n",
    "youtubenews = youtubenews.append(functionn(kbs),ignore_index=True)\n",
    "youtubenews = youtubenews.append(functionn(mbc),ignore_index=True)\n",
    "youtubenews = youtubenews.append(functionn(yonhab),ignore_index=True)\n",
    "youtubenews = youtubenews.append(functionn(ytn),ignore_index=True)\n",
    "youtubenews = youtubenews.append(functionn(mbn),ignore_index=True)"
   ]
  },
  {
   "cell_type": "code",
   "execution_count": 35,
   "metadata": {},
   "outputs": [
    {
     "data": {
      "text/plain": [
       "(2362, 8)"
      ]
     },
     "execution_count": 35,
     "metadata": {},
     "output_type": "execute_result"
    }
   ],
   "source": [
    "youtubenews.shape"
   ]
  },
  {
   "cell_type": "code",
   "execution_count": 25,
   "metadata": {},
   "outputs": [],
   "source": [
    "# cur.execute('DROP TABLE IF EXISTS news')\n",
    "# conn.commit()"
   ]
  },
  {
   "cell_type": "code",
   "execution_count": 36,
   "metadata": {},
   "outputs": [],
   "source": [
    "youtubenews.to_sql('youtubenews', con=conn, if_exists='append')"
   ]
  }
 ],
 "metadata": {
  "kernelspec": {
   "display_name": "Python 3",
   "language": "python",
   "name": "python3"
  },
  "language_info": {
   "codemirror_mode": {
    "name": "ipython",
    "version": 3
   },
   "file_extension": ".py",
   "mimetype": "text/x-python",
   "name": "python",
   "nbconvert_exporter": "python",
   "pygments_lexer": "ipython3",
   "version": "3.7.1"
  }
 },
 "nbformat": 4,
 "nbformat_minor": 2
}
