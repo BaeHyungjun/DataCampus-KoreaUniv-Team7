{
 "cells": [
  {
   "cell_type": "code",
   "execution_count": 1,
   "metadata": {
    "colab": {
     "base_uri": "https://localhost:8080/",
     "height": 34
    },
    "colab_type": "code",
    "id": "YbZpxcZfN8oE",
    "outputId": "f413d42f-fca3-4a26-a2a7-457ff3092292"
   },
   "outputs": [],
   "source": [
    "import pandas as pd\n",
    "import numpy as np\n",
    "import string\n",
    "import pickle\n",
    "import torch\n",
    "import tensorflow as tf\n",
    "from kobert_transformers import get_kobert_model\n",
    "import numpy as np\n",
    "import pandas as pd\n",
    "from keras.preprocessing.text import Tokenizer\n",
    "import datetime"
   ]
  },
  {
   "cell_type": "code",
   "execution_count": 2,
   "metadata": {
    "colab": {
     "base_uri": "https://localhost:8080/",
     "height": 51
    },
    "colab_type": "code",
    "id": "ATqji5eL4W4U",
    "outputId": "507f45a5-22c9-4119-9100-bc0ba0780958"
   },
   "outputs": [],
   "source": [
    "lines= pd.read_pickle('hi.pkl')"
   ]
  },
  {
   "cell_type": "code",
   "execution_count": 4,
   "metadata": {
    "colab": {},
    "colab_type": "code",
    "id": "F_qXu5VX4XIp"
   },
   "outputs": [
    {
     "name": "stdout",
     "output_type": "stream",
     "text": [
      "                                          body_nouns  \\\n",
      "0  중증 폐질환 유발 가능성 미국서 건 의심환자 발생 사망국내 상황 악화 판매 금지 고...   \n",
      "1  제주 최대 밀리미터 물폭탄 제호 태풍 타파 한반도 접근 부산 앞바다 전망 예상 기상...   \n",
      "2  비바람 행인 우산 토요일 제호 태풍 타파 영향 전국 비 예상 강수량 제주 ∼밀리미터...   \n",
      "\n",
      "                                       summary_nouns  \n",
      "0  외국 에디슨 러셀 타격 질주 위 위 러셀 외국 경기 타선 외국 경기 박병호 러셀 러...  \n",
      "1  세인트루이스 카디널스 구단 코로나 확진자 추가 발생 총 미국 매체 세인트루이스 포스...  \n",
      "2  롯데 롯데 무실점 노경은 타수 안타 타점 호 - 이날 노경은 이날 노경 안타 볼넷 ...  \n",
      "                                              body_nouns  \\\n",
      "49997  신종 육식공룡 루소베나토르 산토시 복원 이미 포르투갈 스페인 고생물학자들 신종 육식...   \n",
      "49998  LGU+ 국내 최대 전략적 제휴유료방송 가입자 잠재고객 흡수 독보적 글로벌 공룡기업...   \n",
      "49999  공개 삼성전자 갤럭시노트 제품 언팩 티저 광고 강남구 코엑스 광고판 표출 연합뉴스삼...   \n",
      "\n",
      "                                           summary_nouns  \n",
      "49997  국내 시장 호령 플랫폼 네이버 카카오 비판 내수 시장 전용 딱지 구글 애플 세계적 ...  \n",
      "49998  포르투갈 스페인 고생물학자들 신종 육식공룡 발견 포르투갈 리스본대 스페 국립통신대 ...  \n",
      "49999  글로벌 미디어 공룡 넷플릭스 국내 최대 유료방송 사업자 전략적 제휴 국내 시장 시장...  \n"
     ]
    }
   ],
   "source": [
    "lines = lines[:50000]\n",
    "print(lines.head(3))\n",
    "print(lines.tail(3))"
   ]
  },
  {
   "cell_type": "code",
   "execution_count": 5,
   "metadata": {},
   "outputs": [],
   "source": [
    "lines.columns = ['body','summ']"
   ]
  },
  {
   "cell_type": "code",
   "execution_count": 6,
   "metadata": {
    "colab": {},
    "colab_type": "code",
    "id": "NkdgGL404XGc"
   },
   "outputs": [],
   "source": [
    "lines['body']=lines['body'].apply(lambda x: x.lower())\n",
    "lines['summ']=lines['summ'].apply(lambda x: x.lower())"
   ]
  },
  {
   "cell_type": "code",
   "execution_count": 7,
   "metadata": {
    "colab": {},
    "colab_type": "code",
    "id": "gOkzFxTe4fhL"
   },
   "outputs": [],
   "source": [
    "exclude = set(string.punctuation)\n",
    "lines.body=lines.body.apply(lambda x: ''.join(ch for ch in x if ch not in exclude))\n",
    "lines.summ=lines.summ.apply(lambda x: ''.join(ch for ch in x if ch not in exclude))"
   ]
  },
  {
   "cell_type": "code",
   "execution_count": 8,
   "metadata": {
    "colab": {
     "base_uri": "https://localhost:8080/",
     "height": 204
    },
    "colab_type": "code",
    "id": "tzfDq12jOeZD",
    "outputId": "ff9515af-b9c5-4ebe-a62d-26bab4e83e6d"
   },
   "outputs": [
    {
     "name": "stdout",
     "output_type": "stream",
     "text": [
      "                                                body  \\\n",
      "0  중증 폐질환 유발 가능성 미국서 건 의심환자 발생 사망국내 상황 악화 판매 금지 고...   \n",
      "1  제주 최대 밀리미터 물폭탄 제호 태풍 타파 한반도 접근 부산 앞바다 전망 예상 기상...   \n",
      "2  비바람 행인 우산 토요일 제호 태풍 타파 영향 전국 비 예상 강수량 제주 ∼밀리미터...   \n",
      "\n",
      "                                                summ  \n",
      "0  외국 에디슨 러셀 타격 질주 위 위 러셀 외국 경기 타선 외국 경기 박병호 러셀 러...  \n",
      "1  세인트루이스 카디널스 구단 코로나 확진자 추가 발생 총 미국 매체 세인트루이스 포스...  \n",
      "2  롯데 롯데 무실점 노경은 타수 안타 타점 호  이날 노경은 이날 노경 안타 볼넷 삼...  \n",
      "                                                    body  \\\n",
      "49997  신종 육식공룡 루소베나토르 산토시 복원 이미 포르투갈 스페인 고생물학자들 신종 육식...   \n",
      "49998  lgu 국내 최대 전략적 제휴유료방송 가입자 잠재고객 흡수 독보적 글로벌 공룡기업 ...   \n",
      "49999  공개 삼성전자 갤럭시노트 제품 언팩 티저 광고 강남구 코엑스 광고판 표출 연합뉴스삼...   \n",
      "\n",
      "                                                    summ  \n",
      "49997  국내 시장 호령 플랫폼 네이버 카카오 비판 내수 시장 전용 딱지 구글 애플 세계적 ...  \n",
      "49998  포르투갈 스페인 고생물학자들 신종 육식공룡 발견 포르투갈 리스본대 스페 국립통신대 ...  \n",
      "49999  글로벌 미디어 공룡 넷플릭스 국내 최대 유료방송 사업자 전략적 제휴 국내 시장 시장...  \n"
     ]
    }
   ],
   "source": [
    "print(lines.head(3))\n",
    "print(lines.tail(3))"
   ]
  },
  {
   "cell_type": "code",
   "execution_count": 9,
   "metadata": {
    "colab": {},
    "colab_type": "code",
    "id": "2tVHM-oR4fpm"
   },
   "outputs": [],
   "source": [
    "lines.summ = lines.summ.apply(lambda x : 'sofs '+ x + ' eofs')"
   ]
  },
  {
   "cell_type": "code",
   "execution_count": 10,
   "metadata": {
    "colab": {
     "base_uri": "https://localhost:8080/",
     "height": 204
    },
    "colab_type": "code",
    "id": "2D_AMqsdndne",
    "outputId": "cb4eacbf-03ca-4005-8461-9766e39b19e6"
   },
   "outputs": [
    {
     "name": "stdout",
     "output_type": "stream",
     "text": [
      "                                                body  \\\n",
      "0  중증 폐질환 유발 가능성 미국서 건 의심환자 발생 사망국내 상황 악화 판매 금지 고...   \n",
      "1  제주 최대 밀리미터 물폭탄 제호 태풍 타파 한반도 접근 부산 앞바다 전망 예상 기상...   \n",
      "2  비바람 행인 우산 토요일 제호 태풍 타파 영향 전국 비 예상 강수량 제주 ∼밀리미터...   \n",
      "\n",
      "                                                summ  \n",
      "0  sofs 외국 에디슨 러셀 타격 질주 위 위 러셀 외국 경기 타선 외국 경기 박병호...  \n",
      "1  sofs 세인트루이스 카디널스 구단 코로나 확진자 추가 발생 총 미국 매체 세인트루...  \n",
      "2  sofs 롯데 롯데 무실점 노경은 타수 안타 타점 호  이날 노경은 이날 노경 안타...  \n",
      "                                                    body  \\\n",
      "49997  신종 육식공룡 루소베나토르 산토시 복원 이미 포르투갈 스페인 고생물학자들 신종 육식...   \n",
      "49998  lgu 국내 최대 전략적 제휴유료방송 가입자 잠재고객 흡수 독보적 글로벌 공룡기업 ...   \n",
      "49999  공개 삼성전자 갤럭시노트 제품 언팩 티저 광고 강남구 코엑스 광고판 표출 연합뉴스삼...   \n",
      "\n",
      "                                                    summ  \n",
      "49997  sofs 국내 시장 호령 플랫폼 네이버 카카오 비판 내수 시장 전용 딱지 구글 애플...  \n",
      "49998  sofs 포르투갈 스페인 고생물학자들 신종 육식공룡 발견 포르투갈 리스본대 스페 국...  \n",
      "49999  sofs 글로벌 미디어 공룡 넷플릭스 국내 최대 유료방송 사업자 전략적 제휴 국내 ...  \n"
     ]
    }
   ],
   "source": [
    "print(lines.head(3))\n",
    "print(lines.tail(3))"
   ]
  },
  {
   "cell_type": "code",
   "execution_count": 11,
   "metadata": {
    "colab": {
     "base_uri": "https://localhost:8080/",
     "height": 34
    },
    "colab_type": "code",
    "id": "BByeGbi6rx89",
    "outputId": "736ce137-d57a-468b-cb3b-d8b724db8bf1"
   },
   "outputs": [
    {
     "data": {
      "text/plain": [
       "(50000, 2)"
      ]
     },
     "execution_count": 11,
     "metadata": {},
     "output_type": "execute_result"
    }
   ],
   "source": [
    "lines.shape"
   ]
  },
  {
   "cell_type": "code",
   "execution_count": 12,
   "metadata": {
    "colab": {},
    "colab_type": "code",
    "id": "gCXv8Y7G_szR"
   },
   "outputs": [],
   "source": [
    "# fit a tokenizer\n",
    "from keras.preprocessing.text import Tokenizer\n",
    "def create_tokenizer(lines):\n",
    "\ttokenizer = Tokenizer()\n",
    "\ttokenizer.fit_on_texts(lines)\n",
    "\treturn tokenizer"
   ]
  },
  {
   "cell_type": "code",
   "execution_count": 13,
   "metadata": {
    "colab": {},
    "colab_type": "code",
    "id": "4y854XLW_swc"
   },
   "outputs": [],
   "source": [
    "import json\n",
    "body_tokenizer = create_tokenizer(lines['body'])\n",
    "body_dict=json.loads(json.dumps(body_tokenizer.word_counts))\n",
    "df =pd.DataFrame([body_dict.keys(), body_dict.values()]).T\n",
    "df.columns = ['word','count']\n",
    "df = df.sort_values(by='count',ascending = False)\n",
    "df['cum_count']=df['count'].cumsum()\n",
    "df['cum_perc'] = df['cum_count']/df['cum_count'].max()\n",
    "final_body_words = df[df['cum_perc']<0.8]['word'].values"
   ]
  },
  {
   "cell_type": "code",
   "execution_count": 14,
   "metadata": {
    "colab": {},
    "colab_type": "code",
    "id": "I3OrR4k0AfTX"
   },
   "outputs": [],
   "source": [
    "summ_tokenizer = create_tokenizer(lines['summ'])\n",
    "summ_dict = json.loads(json.dumps(summ_tokenizer.word_counts))\n",
    "df =pd.DataFrame([summ_dict.keys(), summ_dict.values()]).T\n",
    "df.columns = ['word','count']\n",
    "df = df.sort_values(by='count',ascending = False)\n",
    "df['cum_count']=df['count'].cumsum()\n",
    "df['cum_perc'] = df['cum_count']/df['cum_count'].max()\n",
    "final_summ_words = df[df['cum_perc']<0.8]['word'].values"
   ]
  },
  {
   "cell_type": "code",
   "execution_count": 15,
   "metadata": {
    "colab": {
     "base_uri": "https://localhost:8080/",
     "height": 34
    },
    "colab_type": "code",
    "id": "m4jrbgIjAfPd",
    "outputId": "ecd98af9-bb9c-4a93-a864-1eeb6c086e32"
   },
   "outputs": [
    {
     "name": "stdout",
     "output_type": "stream",
     "text": [
      "9170 4879\n"
     ]
    }
   ],
   "source": [
    "print(len(final_body_words),len(final_summ_words))"
   ]
  },
  {
   "cell_type": "code",
   "execution_count": 16,
   "metadata": {
    "colab": {},
    "colab_type": "code",
    "id": "mTOesHOq_ss0"
   },
   "outputs": [],
   "source": [
    "def filter_body_words(x):\n",
    "  t = []\n",
    "  x = x.split()\n",
    "  for i in range(len(x)):\n",
    "    if x[i] in final_body_words:\n",
    "      t.append(x[i])\n",
    "    else:\n",
    "      t.append('unk')\n",
    "  x3 = ''\n",
    "  for i in range(len(t)):\n",
    "    x3 = x3+t[i]+' '\n",
    "  return x3"
   ]
  },
  {
   "cell_type": "code",
   "execution_count": 17,
   "metadata": {
    "colab": {
     "base_uri": "https://localhost:8080/",
     "height": 34
    },
    "colab_type": "code",
    "id": "djQPLFAml-A3",
    "outputId": "02237d1c-4b04-425e-c2a6-b7fba61183aa"
   },
   "outputs": [
    {
     "data": {
      "text/plain": [
       "'우한 중국 대통령 '"
      ]
     },
     "execution_count": 17,
     "metadata": {},
     "output_type": "execute_result"
    }
   ],
   "source": [
    "filter_body_words('우한 중국 대통령')"
   ]
  },
  {
   "cell_type": "code",
   "execution_count": 18,
   "metadata": {
    "colab": {},
    "colab_type": "code",
    "id": "e7sUkiqGBDJd"
   },
   "outputs": [],
   "source": [
    "def filter_summ_words(x):\n",
    "  t = []\n",
    "  x = x.split()\n",
    "  for i in range(len(x)):\n",
    "    if x[i] in final_summ_words:\n",
    "      t.append(x[i])\n",
    "    else:\n",
    "      t.append('unk')\n",
    "  x3 = ''\n",
    "  for i in range(len(t)):\n",
    "    x3 = x3+t[i]+' '\n",
    "  return x3"
   ]
  },
  {
   "cell_type": "code",
   "execution_count": 20,
   "metadata": {},
   "outputs": [
    {
     "name": "stderr",
     "output_type": "stream",
     "text": [
      "100%|██████████| 50000/50000 [1:00:42<00:00, 13.73it/s]\n"
     ]
    }
   ],
   "source": [
    "from tqdm import tqdm\n",
    "\n",
    "for i in tqdm(range(len(lines['body']))):\n",
    "    lines['body'][i] = filter_body_words(lines['body'][i])    "
   ]
  },
  {
   "cell_type": "code",
   "execution_count": 21,
   "metadata": {
    "colab": {},
    "colab_type": "code",
    "id": "xVKqcPqvCxd-"
   },
   "outputs": [
    {
     "name": "stderr",
     "output_type": "stream",
     "text": [
      "100%|██████████| 50000/50000 [03:13<00:00, 257.87it/s]\n"
     ]
    }
   ],
   "source": [
    "for i in tqdm(range(len(lines['summ']))):\n",
    "    lines['summ'][i] = filter_summ_words(lines['summ'][i])    "
   ]
  },
  {
   "cell_type": "code",
   "execution_count": 22,
   "metadata": {},
   "outputs": [],
   "source": [
    "lines.to_pickle('lines.pkl')"
   ]
  },
  {
   "cell_type": "code",
   "execution_count": 23,
   "metadata": {},
   "outputs": [],
   "source": [
    "lines=pd.read_pickle('lines.pkl')"
   ]
  },
  {
   "cell_type": "code",
   "execution_count": 24,
   "metadata": {
    "colab": {},
    "colab_type": "code",
    "id": "iCO5WTo84fnn"
   },
   "outputs": [],
   "source": [
    "all_body_words=set()\n",
    "for body in lines.body:\n",
    "    for word in body.split():\n",
    "        if word not in all_body_words:\n",
    "            all_body_words.add(word)\n",
    "    \n",
    "all_summ_words=set()\n",
    "for summ in lines.summ:\n",
    "    for word in summ.split():\n",
    "        if word not in all_summ_words:\n",
    "            all_summ_words.add(word)"
   ]
  },
  {
   "cell_type": "code",
   "execution_count": 25,
   "metadata": {
    "colab": {},
    "colab_type": "code",
    "id": "UCaP87KP4W_S"
   },
   "outputs": [],
   "source": [
    "input_words = sorted(list(all_body_words))\n",
    "target_words = sorted(list(all_summ_words))\n",
    "num_encoder_tokens = len(all_body_words)\n",
    "num_decoder_tokens = len(all_summ_words)"
   ]
  },
  {
   "cell_type": "code",
   "execution_count": 26,
   "metadata": {
    "colab": {
     "base_uri": "https://localhost:8080/",
     "height": 34
    },
    "colab_type": "code",
    "id": "B5eKtS1hnMob",
    "outputId": "c5bc5dea-7f1e-4802-b8ff-55fe28eb69d6"
   },
   "outputs": [
    {
     "data": {
      "text/plain": [
       "{'unk'}"
      ]
     },
     "execution_count": 26,
     "metadata": {},
     "output_type": "execute_result"
    }
   ],
   "source": [
    "set(all_summ_words) - set(final_summ_words) "
   ]
  },
  {
   "cell_type": "code",
   "execution_count": 27,
   "metadata": {
    "colab": {
     "base_uri": "https://localhost:8080/",
     "height": 34
    },
    "colab_type": "code",
    "id": "7-S77pDvkBp1",
    "outputId": "47ae17e6-8d21-43b5-ba3a-d3e04c7c7e97"
   },
   "outputs": [
    {
     "data": {
      "text/plain": [
       "9171"
      ]
     },
     "execution_count": 27,
     "metadata": {},
     "output_type": "execute_result"
    }
   ],
   "source": [
    "len(all_body_words)"
   ]
  },
  {
   "cell_type": "code",
   "execution_count": 28,
   "metadata": {
    "colab": {
     "base_uri": "https://localhost:8080/",
     "height": 34
    },
    "colab_type": "code",
    "id": "3IUuEVNm-z6N",
    "outputId": "e1581fe3-39ec-414c-b667-9fb400d821c6"
   },
   "outputs": [
    {
     "data": {
      "text/plain": [
       "4880"
      ]
     },
     "execution_count": 28,
     "metadata": {},
     "output_type": "execute_result"
    }
   ],
   "source": [
    "len(target_words)"
   ]
  },
  {
   "cell_type": "code",
   "execution_count": 29,
   "metadata": {
    "colab": {},
    "colab_type": "code",
    "id": "YZQegvje4W8w"
   },
   "outputs": [],
   "source": [
    "input_token_index = dict(\n",
    "    [(word, i+1) for i, word in enumerate(input_words)])\n",
    "target_token_index = dict(\n",
    "    [(word, i+1) for i, word in enumerate(target_words)])"
   ]
  },
  {
   "cell_type": "code",
   "execution_count": 30,
   "metadata": {
    "colab": {
     "base_uri": "https://localhost:8080/",
     "height": 34
    },
    "colab_type": "code",
    "id": "haKpA4AJhDnV",
    "outputId": "52dc1bfb-8806-4832-d722-ba1e4cd3f8d4"
   },
   "outputs": [
    {
     "data": {
      "text/plain": [
       "4880"
      ]
     },
     "execution_count": 30,
     "metadata": {},
     "output_type": "execute_result"
    }
   ],
   "source": [
    "num_decoder_tokens"
   ]
  },
  {
   "cell_type": "code",
   "execution_count": 42,
   "metadata": {},
   "outputs": [
    {
     "name": "stdout",
     "output_type": "stream",
     "text": [
      "26\n",
      "8\n",
      "1\n",
      "who\n",
      "sofs\n",
      "eofe\n"
     ]
    }
   ],
   "source": [
    "print(input_token_index['unk'])\n",
    "print(target_token_index['sofs'])\n",
    "print(target_token_index['eofs'])\n",
    "print(list(input_token_index.keys())[27])\n",
    "print(list(target_token_index.keys())[7])\n",
    "print(list(target_token_index.keys())[0])"
   ]
  },
  {
   "cell_type": "code",
   "execution_count": 31,
   "metadata": {},
   "outputs": [],
   "source": [
    "length_list=[]\n",
    "for l in lines.summ:\n",
    "    length_list.append(len(l.split(' ')))\n",
    "summ_max_length = np.max(length_list)"
   ]
  },
  {
   "cell_type": "code",
   "execution_count": 32,
   "metadata": {},
   "outputs": [],
   "source": [
    "length_list=[]\n",
    "for l in lines.body:\n",
    "    length_list.append(len(l.split(' ')))\n",
    "body_max_length = np.max(length_list)"
   ]
  },
  {
   "cell_type": "code",
   "execution_count": 33,
   "metadata": {},
   "outputs": [
    {
     "name": "stdout",
     "output_type": "stream",
     "text": [
      "7028\n",
      "84\n"
     ]
    }
   ],
   "source": [
    "print(body_max_length)\n",
    "print(summ_max_length)"
   ]
  },
  {
   "cell_type": "code",
   "execution_count": 34,
   "metadata": {},
   "outputs": [
    {
     "data": {
      "text/plain": [
       "{'whiskers': [<matplotlib.lines.Line2D at 0x7ff50fe174f0>,\n",
       "  <matplotlib.lines.Line2D at 0x7ff50fe17850>],\n",
       " 'caps': [<matplotlib.lines.Line2D at 0x7ff50fe17bb0>,\n",
       "  <matplotlib.lines.Line2D at 0x7ff50fe17f10>],\n",
       " 'boxes': [<matplotlib.lines.Line2D at 0x7ff50fe17190>],\n",
       " 'medians': [<matplotlib.lines.Line2D at 0x7ff50fda92b0>],\n",
       " 'fliers': [<matplotlib.lines.Line2D at 0x7ff50fda9610>],\n",
       " 'means': []}"
      ]
     },
     "execution_count": 34,
     "metadata": {},
     "output_type": "execute_result"
    },
    {
     "data": {
      "image/png": "[encoded data removed]",
      "text/plain": [
       "<Figure size 432x288 with 1 Axes>"
      ]
     },
     "metadata": {
      "needs_background": "light"
     },
     "output_type": "display_data"
    }
   ],
   "source": [
    "import matplotlib.pyplot as plt\n",
    "plt.boxplot(length_list)"
   ]
  },
  {
   "cell_type": "code",
   "execution_count": 35,
   "metadata": {},
   "outputs": [],
   "source": [
    "body_max_length = 300\n",
    "summ_max_length = 50"
   ]
  },
  {
   "cell_type": "code",
   "execution_count": 36,
   "metadata": {
    "colab": {},
    "colab_type": "code",
    "id": "r5_mrLkj45gt"
   },
   "outputs": [],
   "source": [
    "encoder_input_data = np.zeros(\n",
    "    (len(lines['body']), body_max_length),\n",
    "    dtype='float32')\n",
    "decoder_input_data = np.zeros(\n",
    "    (len(lines['summ']), summ_max_length),\n",
    "    dtype='float32')\n",
    "decoder_target_data = np.zeros(\n",
    "    (len(lines['summ']), summ_max_length, num_decoder_tokens+1),\n",
    "    dtype='float32')"
   ]
  },
  {
   "cell_type": "code",
   "execution_count": 37,
   "metadata": {
    "colab": {
     "base_uri": "https://localhost:8080/",
     "height": 34
    },
    "colab_type": "code",
    "id": "wrURv1JXrBDF",
    "outputId": "69d72c5b-81f8-4791-e3aa-c7cda60223e7"
   },
   "outputs": [
    {
     "data": {
      "text/plain": [
       "(50000, 50, 4881)"
      ]
     },
     "execution_count": 37,
     "metadata": {},
     "output_type": "execute_result"
    }
   ],
   "source": [
    "decoder_target_data.shape"
   ]
  },
  {
   "cell_type": "code",
   "execution_count": 38,
   "metadata": {},
   "outputs": [
    {
     "data": {
      "text/plain": [
       "0        sofs 외국 unk unk 타격 unk 위 위 unk 외국 경기 unk 외국 경기...\n",
       "1        sofs unk unk unk 코로나 확진자 추가 발생 총 미국 매체 unk unk...\n",
       "2        sofs 롯데 롯데 unk unk unk unk unk 호 이날 unk 이날 unk...\n",
       "3        sofs unk unk unk unk 과거 unk unk unk unk 주장 unk...\n",
       "4        sofs 정부 액상형 전자담배 사용 자제 권고 복지부 미국 사례 unk 액상형 전자...\n",
       "                               ...                        \n",
       "49995    sofs 삼성전자 갤럭시 언팩 unk unk 삼성전자 행사 갤럭시노트 시리즈 unk...\n",
       "49996    sofs 삼성전자 중국 unk unk unk 생산 공장 폐쇄 삼성전자 회사 설립 u...\n",
       "49997    sofs 국내 시장 unk 플랫폼 네이버 카카오 비판 내수 시장 전용 unk 구글 ...\n",
       "49998    sofs unk 스페인 unk 신종 unk 발견 unk unk 스페 unk unk ...\n",
       "49999    sofs 글로벌 미디어 공룡 넷플릭스 국내 최대 유료방송 사업자 전략적 제휴 국내 ...\n",
       "Name: summ, Length: 50000, dtype: object"
      ]
     },
     "execution_count": 38,
     "metadata": {},
     "output_type": "execute_result"
    }
   ],
   "source": [
    "lines['summ']"
   ]
  },
  {
   "cell_type": "code",
   "execution_count": 39,
   "metadata": {
    "colab": {},
    "colab_type": "code",
    "id": "km2HiJ0G45oB"
   },
   "outputs": [],
   "source": [
    "for i, (input_text, target_text) in enumerate(zip(lines['body'], lines['summ'])):\n",
    "    for t, word in enumerate(input_text.split()):\n",
    "        if t==300:\n",
    "            break\n",
    "        encoder_input_data[i, t] = input_token_index[word]\n",
    "        \n",
    "    for t, word in enumerate(target_text.split()):\n",
    "        \n",
    "        if t==50:\n",
    "            break\n",
    "            \n",
    "        if t==49:\n",
    "            word='eofs'\n",
    "        decoder_input_data[i, t] = target_token_index[word]\n",
    "        if t>0:\n",
    "            decoder_target_data[i, t - 1, target_token_index[word]] = 1.\n",
    "            if t== len(target_text.split())-1 or t==49:\n",
    "                decoder_target_data[i, t:, target_token_index['eofs']] = 1 #eos\n"
   ]
  },
  {
   "cell_type": "code",
   "execution_count": 40,
   "metadata": {
    "colab": {
     "base_uri": "https://localhost:8080/",
     "height": 34
    },
    "colab_type": "code",
    "id": "DFwjmRUe-EC5",
    "outputId": "f80ec275-439b-438d-931d-ff846a39c7ed"
   },
   "outputs": [
    {
     "name": "stdout",
     "output_type": "stream",
     "text": [
      "(50000, 50) (50000, 300) (50000, 50, 4881)\n"
     ]
    }
   ],
   "source": [
    "print(decoder_input_data.shape,encoder_input_data.shape,decoder_target_data.shape)"
   ]
  },
  {
   "cell_type": "code",
   "execution_count": 41,
   "metadata": {},
   "outputs": [
    {
     "data": {
      "text/plain": [
       "array([  21., 1045., 4360., 1017., 4769., 1460., 2378.,  454., 4769.,\n",
       "       1776., 1232., 4360., 1017., 2352., 3708., 4769., 2860.,  579.,\n",
       "       1240., 1578., 4351., 2352., 3708., 1386., 4734., 4360., 1017.,\n",
       "       2352., 3708., 1386., 4734.,    5.,    0.,    0.,    0.,    0.,\n",
       "          0.,    0.,    0.,    0.,    0.,    0.,    0.,    0.,    0.,\n",
       "          0.,    0.,    0.,    0.,    0.], dtype=float32)"
      ]
     },
     "execution_count": 41,
     "metadata": {},
     "output_type": "execute_result"
    }
   ],
   "source": [
    "decoder_input_data[10000]"
   ]
  },
  {
   "cell_type": "code",
   "execution_count": 42,
   "metadata": {},
   "outputs": [
    {
     "data": {
      "text/plain": [
       "array([0., 0., 0., ..., 0., 0., 0.], dtype=float32)"
      ]
     },
     "execution_count": 42,
     "metadata": {},
     "output_type": "execute_result"
    }
   ],
   "source": [
    "decoder_target_data[10000][40]"
   ]
  },
  {
   "cell_type": "code",
   "execution_count": 43,
   "metadata": {
    "colab": {},
    "colab_type": "code",
    "id": "bd_TzFXztDBQ"
   },
   "outputs": [],
   "source": [
    "for i in range(decoder_input_data.shape[0]):\n",
    "    for j in range(decoder_input_data.shape[1]):\n",
    "        if(decoder_input_data[i][j]==0):\n",
    "            decoder_input_data[i][j] = target_token_index['eofs'] #eos"
   ]
  },
  {
   "cell_type": "code",
   "execution_count": 44,
   "metadata": {},
   "outputs": [
    {
     "data": {
      "text/plain": [
       "40000"
      ]
     },
     "execution_count": 44,
     "metadata": {},
     "output_type": "execute_result"
    }
   ],
   "source": [
    "split_ratio = 0.8\n",
    "cut = int(len(decoder_input_data)*split_ratio)\n",
    "cut"
   ]
  },
  {
   "cell_type": "code",
   "execution_count": 45,
   "metadata": {},
   "outputs": [],
   "source": [
    "#8/2\n",
    "enc_train = encoder_input_data[:cut]\n",
    "enc_val = encoder_input_data[cut:]\n",
    "\n",
    "dec_in_train = decoder_input_data[:cut]\n",
    "dec_in_val = decoder_input_data[cut:]\n",
    "\n",
    "dec_out_train = decoder_target_data[:cut]\n",
    "dec_out_val = decoder_target_data[cut:]"
   ]
  },
  {
   "cell_type": "code",
   "execution_count": 50,
   "metadata": {},
   "outputs": [],
   "source": [
    "from keras import Model\n",
    "from keras.layers import Embedding, LSTM, Dropout, Input, Dense, dot, concatenate, Activation, Bidirectional\n",
    "from keras.optimizers import Adam\n",
    "from keras.layers import Embedding\n",
    "from keras import regularizers\n",
    "\n",
    "class Seq2Seq_Attention():\n",
    "    def __init__(self):\n",
    "        self.max_length = 300\n",
    "        self.body_VECTOR_SIZE = 128\n",
    "        self.sum_VECTOR_SIZE = 128\n",
    "        self.max_summary_length = 50\n",
    "        self.num_words = num_decoder_tokens\n",
    "        self.optimizer = Adam(learning_rate=0.001)\n",
    "        self.body_num_words = num_encoder_tokens\n",
    "        \n",
    "        self.att = self.build_att()\n",
    "\n",
    "        self.att.compile(loss='categorical_crossentropy', metrics=['accuracy'], optimizer=self.optimizer)\n",
    "        print(self.att.summary())\n",
    "        \n",
    "        \n",
    "    def build_att(self):\n",
    "        #encoder\n",
    "        encoder_inputs = Input(shape=(self.max_length,))\n",
    "        embedded_e = Embedding(self.body_num_words+1,self.body_VECTOR_SIZE)(encoder_inputs)\n",
    "        encoder_outputs, h, c = LSTM(128, dropout=0.4, return_state=True, return_sequences=True, kernel_regularizer=regularizers.l2(0.01))(embedded_e)\n",
    "        init_states = [h,c]\n",
    "        \n",
    "        #decoder\n",
    "        decoder_inputs = Input(shape=(self.max_summary_length,))\n",
    "        embedded_d = Embedding(self.num_words+1,self.sum_VECTOR_SIZE)(decoder_inputs) #embedding이 다르니깐 vector size다르게 해도 괜찮.\n",
    "        decoder_outputs = LSTM(128, return_sequences=True)(embedded_d, initial_state=init_states) #Discard encoder outputs\n",
    "        \n",
    "        #attention\n",
    "        value = Dense(5000, activation='tanh')(encoder_outputs)\n",
    "        query = Dense(5000, activation='tanh')(decoder_outputs)\n",
    "        print(value, query) #300x5000 두개\n",
    "        \n",
    "        attention = dot([query, value],axes=[2,2])\n",
    "        print(attention) #300x300\n",
    "        \n",
    "        attention = Dense(self.max_length, activation='tanh')(attention)\n",
    "        attention_softmaxed = Activation('softmax')(attention)\n",
    "        \n",
    "        weighted = dot([attention_softmaxed, encoder_outputs], axes=[2,1]) #give weights to encoder outputs(=각 토큰)\n",
    "        \n",
    "        #combine attention & decoder output\n",
    "        decoder_for_final = concatenate([weighted, decoder_outputs]) #weighted token(2064x256) + decoder output(2064x256)\n",
    "        \n",
    "        #estimate summary\n",
    "        decoder_for_final = Dense(5000, activation='tanh')(decoder_for_final)\n",
    "        decoder_final = Dense(self.num_words+1, activation='softmax')(decoder_for_final)\n",
    "        \n",
    "        mod = Model(inputs=[encoder_inputs, decoder_inputs], outputs=[decoder_final]) \n",
    "        return mod\n",
    "    \n",
    "    \n",
    "\n",
    "    #Get train/val data of batch size\n",
    "    def load_batch(self, batch_size=64):\n",
    "        \n",
    "        self.n_batches = int(cut/batch_size)\n",
    "        val_size = int(batch_size*(1-split_ratio))\n",
    "        \n",
    "        for i in range(self.n_batches):\n",
    "            #train data\n",
    "            batch_e = enc_train[i*batch_size:(i+1)*batch_size]\n",
    "            batch_d = dec_in_train[i*batch_size:(i+1)*batch_size]\n",
    "            batch_d_o = dec_out_train[i*batch_size:(i+1)*batch_size]\n",
    "                        \n",
    "            #val data\n",
    "            val_e = enc_val[i*val_size:(i+1)*val_size]\n",
    "            val_d = dec_in_val[i*val_size:(i+1)*val_size]\n",
    "            val_d_o = dec_out_val[i*val_size:(i+1)*val_size]    \n",
    "\n",
    "            yield batch_e, batch_d, batch_d_o, val_e, val_d, val_d_o\n",
    "    \n",
    "    \n",
    "    #train model\n",
    "    def train(self, epochs, batch_size = 64):\n",
    "        train_losses = []\n",
    "        train_acc = []\n",
    "        \n",
    "        val_losses = []\n",
    "        val_acc = []\n",
    "        \n",
    "        start_time = datetime.datetime.now()\n",
    "        \n",
    "        for epoch in range(epochs):\n",
    "            for batch_i, (enc_batch, dec_batch, dec_out_batch, enc_val, dec_val, dec_out_val) in enumerate(self.load_batch(batch_size)):\n",
    "                \n",
    "                enc_batch = np.array(enc_batch)\n",
    "                dec_batch = np.array(dec_batch)\n",
    "                dec_out_batch = np.array(dec_out_batch)\n",
    "                \n",
    "                enc_val = np.array(enc_val)\n",
    "                dec_val = np.array(dec_val)\n",
    "                dec_out_val = np.array(dec_out_val)\n",
    "                \n",
    "                if batch_i==0:\n",
    "                    print(enc_batch.shape, dec_batch.shape, dec_out_batch.shape, enc_val.shape, dec_val.shape, dec_out_val.shape)\n",
    "                \n",
    "                \n",
    "                hist = self.att.train_on_batch([enc_batch, dec_batch], dec_out_batch)\n",
    "                valhist = self.att.test_on_batch([enc_val, dec_val], dec_out_val)\n",
    "                \n",
    "                train_losses.append(hist[0])\n",
    "                train_acc.append(hist[1])\n",
    "                \n",
    "                val_losses.append(valhist[0])\n",
    "                val_acc.append(valhist[1])            \n",
    "            \n",
    "                elapsed_time = datetime.datetime.now() - start_time\n",
    "                \n",
    "                if batch_i%1000==0:\n",
    "                    print(\"Time Elapsed %s [Epoch %d/%d] [Batch %d/%d] Train Loss: %04f Train Acc:%04f Valid Loss: %04f Valid Acc:%04f\"\\\n",
    "                          %(elapsed_time, epoch, epochs, batch_i, self.n_batches, hist[0], hist[1], valhist[0], valhist[1]))\n",
    "                    \n",
    "        return train_losses, train_acc, val_losses, val_acc"
   ]
  },
  {
   "cell_type": "code",
   "execution_count": 51,
   "metadata": {},
   "outputs": [
    {
     "name": "stdout",
     "output_type": "stream",
     "text": [
      "Tensor(\"dense/Identity:0\", shape=(None, 300, 5000), dtype=float32) Tensor(\"dense_1/Identity:0\", shape=(None, 50, 5000), dtype=float32)\n",
      "Tensor(\"dot/Identity:0\", shape=(None, 50, 300), dtype=float32)\n",
      "Model: \"model\"\n",
      "__________________________________________________________________________________________________\n",
      "Layer (type)                    Output Shape         Param #     Connected to                     \n",
      "==================================================================================================\n",
      "input_5 (InputLayer)            [(None, 300)]        0                                            \n",
      "__________________________________________________________________________________________________\n",
      "input_6 (InputLayer)            [(None, 50)]         0                                            \n",
      "__________________________________________________________________________________________________\n",
      "embedding_4 (Embedding)         (None, 300, 128)     1174016     input_5[0][0]                    \n",
      "__________________________________________________________________________________________________\n",
      "embedding_5 (Embedding)         (None, 50, 128)      624768      input_6[0][0]                    \n",
      "__________________________________________________________________________________________________\n",
      "lstm_4 (LSTM)                   [(None, 300, 128), ( 131584      embedding_4[0][0]                \n",
      "__________________________________________________________________________________________________\n",
      "lstm_5 (LSTM)                   (None, 50, 128)      131584      embedding_5[0][0]                \n",
      "                                                                 lstm_4[0][1]                     \n",
      "                                                                 lstm_4[0][2]                     \n",
      "__________________________________________________________________________________________________\n",
      "dense_1 (Dense)                 (None, 50, 5000)     645000      lstm_5[0][0]                     \n",
      "__________________________________________________________________________________________________\n",
      "dense (Dense)                   (None, 300, 5000)    645000      lstm_4[0][0]                     \n",
      "__________________________________________________________________________________________________\n",
      "dot (Dot)                       (None, 50, 300)      0           dense_1[0][0]                    \n",
      "                                                                 dense[0][0]                      \n",
      "__________________________________________________________________________________________________\n",
      "dense_2 (Dense)                 (None, 50, 300)      90300       dot[0][0]                        \n",
      "__________________________________________________________________________________________________\n",
      "activation_10 (Activation)      (None, 50, 300)      0           dense_2[0][0]                    \n",
      "__________________________________________________________________________________________________\n",
      "dot_1 (Dot)                     (None, 50, 128)      0           activation_10[0][0]              \n",
      "                                                                 lstm_4[0][0]                     \n",
      "__________________________________________________________________________________________________\n",
      "concatenate (Concatenate)       (None, 50, 256)      0           dot_1[0][0]                      \n",
      "                                                                 lstm_5[0][0]                     \n",
      "__________________________________________________________________________________________________\n",
      "dense_3 (Dense)                 (None, 50, 5000)     1285000     concatenate[0][0]                \n",
      "__________________________________________________________________________________________________\n",
      "dense_4 (Dense)                 (None, 50, 4881)     24409881    dense_3[0][0]                    \n",
      "==================================================================================================\n",
      "Total params: 29,137,133\n",
      "Trainable params: 29,137,133\n",
      "Non-trainable params: 0\n",
      "__________________________________________________________________________________________________\n",
      "None\n"
     ]
    }
   ],
   "source": [
    "model = Seq2Seq_Attention()"
   ]
  },
  {
   "cell_type": "code",
   "execution_count": null,
   "metadata": {},
   "outputs": [
    {
     "name": "stdout",
     "output_type": "stream",
     "text": [
      "(32, 300) (32, 50) (32, 50, 4881) (6, 300) (6, 50) (6, 50, 4881)\n",
      "Time Elapsed 0:00:06.978871 [Epoch 0/200] [Batch 0/1250] Train Loss: 10.547372 Train Acc:0.000000 Valid Loss: 10.386836 Valid Acc:0.460000\n",
      "Time Elapsed 0:02:05.064220 [Epoch 0/200] [Batch 1000/1250] Train Loss: 2.660691 Train Acc:0.620625 Valid Loss: 2.957438 Valid Acc:0.560000\n",
      "(32, 300) (32, 50) (32, 50, 4881) (6, 300) (6, 50) (6, 50, 4881)\n",
      "Time Elapsed 0:02:34.475365 [Epoch 1/200] [Batch 0/1250] Train Loss: 2.860932 Train Acc:0.619375 Valid Loss: 2.757629 Valid Acc:0.576667\n",
      "Time Elapsed 0:04:22.565882 [Epoch 1/200] [Batch 1000/1250] Train Loss: 2.389834 Train Acc:0.627500 Valid Loss: 2.754402 Valid Acc:0.573333\n",
      "(32, 300) (32, 50) (32, 50, 4881) (6, 300) (6, 50) (6, 50, 4881)\n",
      "Time Elapsed 0:04:49.580674 [Epoch 2/200] [Batch 0/1250] Train Loss: 2.579387 Train Acc:0.635625 Valid Loss: 2.541826 Valid Acc:0.583333\n",
      "Time Elapsed 0:06:37.546202 [Epoch 2/200] [Batch 1000/1250] Train Loss: 2.231022 Train Acc:0.631875 Valid Loss: 2.672908 Valid Acc:0.580000\n",
      "(32, 300) (32, 50) (32, 50, 4881) (6, 300) (6, 50) (6, 50, 4881)\n",
      "Time Elapsed 0:07:04.427177 [Epoch 3/200] [Batch 0/1250] Train Loss: 2.442401 Train Acc:0.638125 Valid Loss: 2.473485 Valid Acc:0.590000\n",
      "Time Elapsed 0:08:53.226252 [Epoch 3/200] [Batch 1000/1250] Train Loss: 2.133031 Train Acc:0.638750 Valid Loss: 2.651788 Valid Acc:0.580000\n",
      "(32, 300) (32, 50) (32, 50, 4881) (6, 300) (6, 50) (6, 50, 4881)\n",
      "Time Elapsed 0:09:20.014546 [Epoch 4/200] [Batch 0/1250] Train Loss: 2.360887 Train Acc:0.640625 Valid Loss: 2.427098 Valid Acc:0.573333\n",
      "Time Elapsed 0:11:08.157355 [Epoch 4/200] [Batch 1000/1250] Train Loss: 2.055099 Train Acc:0.644375 Valid Loss: 2.631677 Valid Acc:0.583333\n",
      "(32, 300) (32, 50) (32, 50, 4881) (6, 300) (6, 50) (6, 50, 4881)\n",
      "Time Elapsed 0:11:35.397125 [Epoch 5/200] [Batch 0/1250] Train Loss: 2.297673 Train Acc:0.646875 Valid Loss: 2.376637 Valid Acc:0.573333\n",
      "Time Elapsed 0:13:23.480305 [Epoch 5/200] [Batch 1000/1250] Train Loss: 1.993943 Train Acc:0.652500 Valid Loss: 2.668810 Valid Acc:0.586667\n",
      "(32, 300) (32, 50) (32, 50, 4881) (6, 300) (6, 50) (6, 50, 4881)\n",
      "Time Elapsed 0:13:50.419822 [Epoch 6/200] [Batch 0/1250] Train Loss: 2.241797 Train Acc:0.648750 Valid Loss: 2.345321 Valid Acc:0.583333\n",
      "Time Elapsed 0:15:39.014362 [Epoch 6/200] [Batch 1000/1250] Train Loss: 1.945292 Train Acc:0.646250 Valid Loss: 2.684953 Valid Acc:0.586667\n",
      "(32, 300) (32, 50) (32, 50, 4881) (6, 300) (6, 50) (6, 50, 4881)\n",
      "Time Elapsed 0:16:05.985695 [Epoch 7/200] [Batch 0/1250] Train Loss: 2.194318 Train Acc:0.646250 Valid Loss: 2.358287 Valid Acc:0.580000\n",
      "Time Elapsed 0:17:54.302795 [Epoch 7/200] [Batch 1000/1250] Train Loss: 1.889226 Train Acc:0.652500 Valid Loss: 2.710599 Valid Acc:0.576667\n",
      "(32, 300) (32, 50) (32, 50, 4881) (6, 300) (6, 50) (6, 50, 4881)\n",
      "Time Elapsed 0:18:21.242574 [Epoch 8/200] [Batch 0/1250] Train Loss: 2.159756 Train Acc:0.650625 Valid Loss: 2.369748 Valid Acc:0.583333\n",
      "Time Elapsed 0:20:09.282487 [Epoch 8/200] [Batch 1000/1250] Train Loss: 1.851712 Train Acc:0.653750 Valid Loss: 2.758741 Valid Acc:0.580000\n",
      "(32, 300) (32, 50) (32, 50, 4881) (6, 300) (6, 50) (6, 50, 4881)\n",
      "Time Elapsed 0:20:36.343993 [Epoch 9/200] [Batch 0/1250] Train Loss: 2.113962 Train Acc:0.652500 Valid Loss: 2.341538 Valid Acc:0.596667\n",
      "Time Elapsed 0:22:24.793148 [Epoch 9/200] [Batch 1000/1250] Train Loss: 1.814820 Train Acc:0.657500 Valid Loss: 2.808171 Valid Acc:0.583333\n",
      "(32, 300) (32, 50) (32, 50, 4881) (6, 300) (6, 50) (6, 50, 4881)\n",
      "Time Elapsed 0:22:51.738623 [Epoch 10/200] [Batch 0/1250] Train Loss: 2.083033 Train Acc:0.645000 Valid Loss: 2.364208 Valid Acc:0.576667\n",
      "Time Elapsed 0:24:39.655016 [Epoch 10/200] [Batch 1000/1250] Train Loss: 1.783060 Train Acc:0.663750 Valid Loss: 2.878734 Valid Acc:0.593333\n",
      "(32, 300) (32, 50) (32, 50, 4881) (6, 300) (6, 50) (6, 50, 4881)\n",
      "Time Elapsed 0:25:06.497861 [Epoch 11/200] [Batch 0/1250] Train Loss: 2.044785 Train Acc:0.648125 Valid Loss: 2.365124 Valid Acc:0.573333\n",
      "Time Elapsed 0:26:54.793502 [Epoch 11/200] [Batch 1000/1250] Train Loss: 1.745961 Train Acc:0.662500 Valid Loss: 2.936526 Valid Acc:0.576667\n",
      "(32, 300) (32, 50) (32, 50, 4881) (6, 300) (6, 50) (6, 50, 4881)\n",
      "Time Elapsed 0:27:21.728008 [Epoch 12/200] [Batch 0/1250] Train Loss: 2.020893 Train Acc:0.651250 Valid Loss: 2.383681 Valid Acc:0.573333\n",
      "Time Elapsed 0:29:09.370152 [Epoch 12/200] [Batch 1000/1250] Train Loss: 1.732104 Train Acc:0.668750 Valid Loss: 2.995585 Valid Acc:0.580000\n",
      "(32, 300) (32, 50) (32, 50, 4881) (6, 300) (6, 50) (6, 50, 4881)\n",
      "Time Elapsed 0:29:36.486430 [Epoch 13/200] [Batch 0/1250] Train Loss: 1.980648 Train Acc:0.656875 Valid Loss: 2.406027 Valid Acc:0.570000\n",
      "Time Elapsed 0:31:24.886893 [Epoch 13/200] [Batch 1000/1250] Train Loss: 1.696859 Train Acc:0.671250 Valid Loss: 3.018766 Valid Acc:0.573333\n",
      "(32, 300) (32, 50) (32, 50, 4881) (6, 300) (6, 50) (6, 50, 4881)\n",
      "Time Elapsed 0:31:51.814327 [Epoch 14/200] [Batch 0/1250] Train Loss: 1.956568 Train Acc:0.660000 Valid Loss: 2.399110 Valid Acc:0.566667\n",
      "Time Elapsed 0:33:40.177460 [Epoch 14/200] [Batch 1000/1250] Train Loss: 1.675780 Train Acc:0.676875 Valid Loss: 3.104667 Valid Acc:0.573333\n",
      "(32, 300) (32, 50) (32, 50, 4881) (6, 300) (6, 50) (6, 50, 4881)\n",
      "Time Elapsed 0:34:07.251686 [Epoch 15/200] [Batch 0/1250] Train Loss: 1.922503 Train Acc:0.666250 Valid Loss: 2.422842 Valid Acc:0.590000\n",
      "Time Elapsed 0:35:56.009238 [Epoch 15/200] [Batch 1000/1250] Train Loss: 1.644972 Train Acc:0.678125 Valid Loss: 3.206423 Valid Acc:0.553333\n",
      "(32, 300) (32, 50) (32, 50, 4881) (6, 300) (6, 50) (6, 50, 4881)\n",
      "Time Elapsed 0:36:22.895278 [Epoch 16/200] [Batch 0/1250] Train Loss: 1.908754 Train Acc:0.654375 Valid Loss: 2.448690 Valid Acc:0.583333\n",
      "Time Elapsed 0:38:11.211027 [Epoch 16/200] [Batch 1000/1250] Train Loss: 1.623066 Train Acc:0.685625 Valid Loss: 3.299250 Valid Acc:0.570000\n",
      "(32, 300) (32, 50) (32, 50, 4881) (6, 300) (6, 50) (6, 50, 4881)\n",
      "Time Elapsed 0:38:38.265798 [Epoch 17/200] [Batch 0/1250] Train Loss: 1.872937 Train Acc:0.662500 Valid Loss: 2.433146 Valid Acc:0.600000\n",
      "Time Elapsed 0:40:26.746891 [Epoch 17/200] [Batch 1000/1250] Train Loss: 1.606293 Train Acc:0.687500 Valid Loss: 3.377630 Valid Acc:0.556667\n",
      "(32, 300) (32, 50) (32, 50, 4881) (6, 300) (6, 50) (6, 50, 4881)\n",
      "Time Elapsed 0:40:53.821620 [Epoch 18/200] [Batch 0/1250] Train Loss: 1.859177 Train Acc:0.663125 Valid Loss: 2.475290 Valid Acc:0.596667\n",
      "Time Elapsed 0:42:41.976761 [Epoch 18/200] [Batch 1000/1250] Train Loss: 1.585647 Train Acc:0.691875 Valid Loss: 3.411511 Valid Acc:0.560000\n",
      "(32, 300) (32, 50) (32, 50, 4881) (6, 300) (6, 50) (6, 50, 4881)\n",
      "Time Elapsed 0:43:08.991897 [Epoch 19/200] [Batch 0/1250] Train Loss: 1.844514 Train Acc:0.674375 Valid Loss: 2.473158 Valid Acc:0.586667\n",
      "Time Elapsed 0:44:57.339810 [Epoch 19/200] [Batch 1000/1250] Train Loss: 1.567957 Train Acc:0.698125 Valid Loss: 3.430183 Valid Acc:0.553333\n",
      "(32, 300) (32, 50) (32, 50, 4881) (6, 300) (6, 50) (6, 50, 4881)\n",
      "Time Elapsed 0:45:24.461303 [Epoch 20/200] [Batch 0/1250] Train Loss: 1.833358 Train Acc:0.665625 Valid Loss: 2.530041 Valid Acc:0.576667\n",
      "Time Elapsed 0:47:12.201103 [Epoch 20/200] [Batch 1000/1250] Train Loss: 1.569144 Train Acc:0.695000 Valid Loss: 3.471687 Valid Acc:0.560000\n",
      "(32, 300) (32, 50) (32, 50, 4881) (6, 300) (6, 50) (6, 50, 4881)\n",
      "Time Elapsed 0:47:39.086111 [Epoch 21/200] [Batch 0/1250] Train Loss: 1.829898 Train Acc:0.668125 Valid Loss: 2.577707 Valid Acc:0.576667\n",
      "Time Elapsed 0:49:27.105184 [Epoch 21/200] [Batch 1000/1250] Train Loss: 1.546370 Train Acc:0.695625 Valid Loss: 3.507742 Valid Acc:0.550000\n",
      "(32, 300) (32, 50) (32, 50, 4881) (6, 300) (6, 50) (6, 50, 4881)\n",
      "Time Elapsed 0:49:53.912892 [Epoch 22/200] [Batch 0/1250] Train Loss: 1.795058 Train Acc:0.676875 Valid Loss: 2.655124 Valid Acc:0.566667\n",
      "Time Elapsed 0:51:42.423054 [Epoch 22/200] [Batch 1000/1250] Train Loss: 1.547449 Train Acc:0.695625 Valid Loss: 3.613235 Valid Acc:0.550000\n",
      "(32, 300) (32, 50) (32, 50, 4881) (6, 300) (6, 50) (6, 50, 4881)\n",
      "Time Elapsed 0:52:09.444427 [Epoch 23/200] [Batch 0/1250] Train Loss: 1.773695 Train Acc:0.669375 Valid Loss: 2.686389 Valid Acc:0.570000\n",
      "Time Elapsed 0:53:57.342833 [Epoch 23/200] [Batch 1000/1250] Train Loss: 1.520833 Train Acc:0.703125 Valid Loss: 3.671361 Valid Acc:0.546667\n",
      "(32, 300) (32, 50) (32, 50, 4881) (6, 300) (6, 50) (6, 50, 4881)\n",
      "Time Elapsed 0:54:24.846285 [Epoch 24/200] [Batch 0/1250] Train Loss: 1.762064 Train Acc:0.680000 Valid Loss: 2.739446 Valid Acc:0.566667\n",
      "Time Elapsed 0:56:13.336568 [Epoch 24/200] [Batch 1000/1250] Train Loss: 1.516986 Train Acc:0.696250 Valid Loss: 3.688169 Valid Acc:0.546667\n",
      "(32, 300) (32, 50) (32, 50, 4881) (6, 300) (6, 50) (6, 50, 4881)\n",
      "Time Elapsed 0:56:40.542230 [Epoch 25/200] [Batch 0/1250] Train Loss: 1.753474 Train Acc:0.680000 Valid Loss: 2.715047 Valid Acc:0.573333\n",
      "Time Elapsed 0:58:28.320047 [Epoch 25/200] [Batch 1000/1250] Train Loss: 1.487642 Train Acc:0.707500 Valid Loss: 3.698233 Valid Acc:0.550000\n",
      "(32, 300) (32, 50) (32, 50, 4881) (6, 300) (6, 50) (6, 50, 4881)\n",
      "Time Elapsed 0:58:55.397988 [Epoch 26/200] [Batch 0/1250] Train Loss: 1.740393 Train Acc:0.687500 Valid Loss: 2.758800 Valid Acc:0.566667\n",
      "Time Elapsed 1:00:43.771339 [Epoch 26/200] [Batch 1000/1250] Train Loss: 1.505709 Train Acc:0.704375 Valid Loss: 3.820853 Valid Acc:0.536667\n",
      "(32, 300) (32, 50) (32, 50, 4881) (6, 300) (6, 50) (6, 50, 4881)\n",
      "Time Elapsed 1:01:10.787827 [Epoch 27/200] [Batch 0/1250] Train Loss: 1.737330 Train Acc:0.683125 Valid Loss: 2.792127 Valid Acc:0.563333\n",
      "Time Elapsed 1:02:58.795432 [Epoch 27/200] [Batch 1000/1250] Train Loss: 1.477755 Train Acc:0.709375 Valid Loss: 3.856421 Valid Acc:0.543333\n",
      "(32, 300) (32, 50) (32, 50, 4881) (6, 300) (6, 50) (6, 50, 4881)\n",
      "Time Elapsed 1:03:25.842099 [Epoch 28/200] [Batch 0/1250] Train Loss: 1.719431 Train Acc:0.686875 Valid Loss: 2.788939 Valid Acc:0.570000\n",
      "Time Elapsed 1:05:13.882896 [Epoch 28/200] [Batch 1000/1250] Train Loss: 1.479218 Train Acc:0.710000 Valid Loss: 3.930391 Valid Acc:0.530000\n",
      "(32, 300) (32, 50) (32, 50, 4881) (6, 300) (6, 50) (6, 50, 4881)\n",
      "Time Elapsed 1:05:40.992823 [Epoch 29/200] [Batch 0/1250] Train Loss: 1.707657 Train Acc:0.689375 Valid Loss: 2.825082 Valid Acc:0.570000\n",
      "Time Elapsed 1:07:29.615449 [Epoch 29/200] [Batch 1000/1250] Train Loss: 1.454298 Train Acc:0.711875 Valid Loss: 3.927336 Valid Acc:0.540000\n",
      "(32, 300) (32, 50) (32, 50, 4881) (6, 300) (6, 50) (6, 50, 4881)\n",
      "Time Elapsed 1:07:56.466229 [Epoch 30/200] [Batch 0/1250] Train Loss: 1.695970 Train Acc:0.688750 Valid Loss: 2.835953 Valid Acc:0.556667\n",
      "Time Elapsed 1:09:45.075867 [Epoch 30/200] [Batch 1000/1250] Train Loss: 1.444668 Train Acc:0.714375 Valid Loss: 4.071051 Valid Acc:0.526667\n",
      "(32, 300) (32, 50) (32, 50, 4881) (6, 300) (6, 50) (6, 50, 4881)\n",
      "Time Elapsed 1:10:12.305632 [Epoch 31/200] [Batch 0/1250] Train Loss: 1.694195 Train Acc:0.689375 Valid Loss: 2.838107 Valid Acc:0.573333\n",
      "Time Elapsed 1:12:00.803203 [Epoch 31/200] [Batch 1000/1250] Train Loss: 1.432144 Train Acc:0.715625 Valid Loss: 3.972308 Valid Acc:0.543333\n",
      "(32, 300) (32, 50) (32, 50, 4881) (6, 300) (6, 50) (6, 50, 4881)\n",
      "Time Elapsed 1:12:28.002136 [Epoch 32/200] [Batch 0/1250] Train Loss: 1.682920 Train Acc:0.683125 Valid Loss: 2.871099 Valid Acc:0.560000\n",
      "Time Elapsed 1:14:16.042339 [Epoch 32/200] [Batch 1000/1250] Train Loss: 1.428832 Train Acc:0.712500 Valid Loss: 3.969925 Valid Acc:0.530000\n",
      "(32, 300) (32, 50) (32, 50, 4881) (6, 300) (6, 50) (6, 50, 4881)\n",
      "Time Elapsed 1:14:43.118666 [Epoch 33/200] [Batch 0/1250] Train Loss: 1.672460 Train Acc:0.690625 Valid Loss: 2.830486 Valid Acc:0.553333\n",
      "Time Elapsed 1:16:31.104538 [Epoch 33/200] [Batch 1000/1250] Train Loss: 1.429252 Train Acc:0.718125 Valid Loss: 3.952548 Valid Acc:0.546667\n",
      "(32, 300) (32, 50) (32, 50, 4881) (6, 300) (6, 50) (6, 50, 4881)\n",
      "Time Elapsed 1:16:58.116264 [Epoch 34/200] [Batch 0/1250] Train Loss: 1.689314 Train Acc:0.692500 Valid Loss: 2.908928 Valid Acc:0.546667\n",
      "Time Elapsed 1:18:45.751699 [Epoch 34/200] [Batch 1000/1250] Train Loss: 1.416906 Train Acc:0.720625 Valid Loss: 4.014606 Valid Acc:0.530000\n",
      "(32, 300) (32, 50) (32, 50, 4881) (6, 300) (6, 50) (6, 50, 4881)\n",
      "Time Elapsed 1:19:12.827045 [Epoch 35/200] [Batch 0/1250] Train Loss: 1.670645 Train Acc:0.696875 Valid Loss: 2.930012 Valid Acc:0.550000\n",
      "Time Elapsed 1:21:00.729442 [Epoch 35/200] [Batch 1000/1250] Train Loss: 1.400406 Train Acc:0.720000 Valid Loss: 4.000900 Valid Acc:0.540000\n",
      "(32, 300) (32, 50) (32, 50, 4881) (6, 300) (6, 50) (6, 50, 4881)\n",
      "Time Elapsed 1:21:27.621330 [Epoch 36/200] [Batch 0/1250] Train Loss: 1.664891 Train Acc:0.692500 Valid Loss: 2.902943 Valid Acc:0.556667\n",
      "Time Elapsed 1:23:15.876263 [Epoch 36/200] [Batch 1000/1250] Train Loss: 1.398335 Train Acc:0.710625 Valid Loss: 4.064996 Valid Acc:0.550000\n",
      "(32, 300) (32, 50) (32, 50, 4881) (6, 300) (6, 50) (6, 50, 4881)\n",
      "Time Elapsed 1:23:42.916551 [Epoch 37/200] [Batch 0/1250] Train Loss: 1.654360 Train Acc:0.693125 Valid Loss: 2.973820 Valid Acc:0.546667\n",
      "Time Elapsed 1:25:30.514357 [Epoch 37/200] [Batch 1000/1250] Train Loss: 1.385922 Train Acc:0.720000 Valid Loss: 4.088328 Valid Acc:0.536667\n",
      "(32, 300) (32, 50) (32, 50, 4881) (6, 300) (6, 50) (6, 50, 4881)\n",
      "Time Elapsed 1:25:57.551969 [Epoch 38/200] [Batch 0/1250] Train Loss: 1.626841 Train Acc:0.696875 Valid Loss: 2.901887 Valid Acc:0.550000\n",
      "Time Elapsed 1:27:45.539321 [Epoch 38/200] [Batch 1000/1250] Train Loss: 1.388349 Train Acc:0.721250 Valid Loss: 4.197002 Valid Acc:0.530000\n",
      "(32, 300) (32, 50) (32, 50, 4881) (6, 300) (6, 50) (6, 50, 4881)\n",
      "Time Elapsed 1:28:12.487716 [Epoch 39/200] [Batch 0/1250] Train Loss: 1.626198 Train Acc:0.692500 Valid Loss: 2.943193 Valid Acc:0.553333\n",
      "Time Elapsed 1:30:00.951980 [Epoch 39/200] [Batch 1000/1250] Train Loss: 1.371916 Train Acc:0.723750 Valid Loss: 4.258605 Valid Acc:0.543333\n",
      "(32, 300) (32, 50) (32, 50, 4881) (6, 300) (6, 50) (6, 50, 4881)\n",
      "Time Elapsed 1:30:28.128416 [Epoch 40/200] [Batch 0/1250] Train Loss: 1.612387 Train Acc:0.699375 Valid Loss: 2.908747 Valid Acc:0.550000\n",
      "Time Elapsed 1:32:15.769301 [Epoch 40/200] [Batch 1000/1250] Train Loss: 1.374642 Train Acc:0.718750 Valid Loss: 4.214817 Valid Acc:0.550000\n"
     ]
    }
   ],
   "source": [
    "train_losses, train_accs, val_losses, val_accs = model.train(epochs=200, batch_size=32)"
   ]
  },
  {
   "cell_type": "code",
   "execution_count": 86,
   "metadata": {},
   "outputs": [
    {
     "data": {
      "image/png": "[encoded data removed]",
      "text/plain": [
       "<Figure size 1440x720 with 1 Axes>"
      ]
     },
     "metadata": {
      "needs_background": "light"
     },
     "output_type": "display_data"
    },
    {
     "data": {
      "image/png": "[encoded data removed]",
      "text/plain": [
       "<Figure size 1440x720 with 1 Axes>"
      ]
     },
     "metadata": {
      "needs_background": "light"
     },
     "output_type": "display_data"
    }
   ],
   "source": [
    "import matplotlib.pyplot as plt\n",
    "batches = range(1,len(train_accs)+1)\n",
    "\n",
    "plt.figure(figsize=(20,10))\n",
    "plt.plot(batches,train_accs,label='train acc')\n",
    "plt.plot(batches,val_accs,label='validation acc')\n",
    "plt.title('train and validation accuracy at each batch')\n",
    "plt.legend()\n",
    "\n",
    "plt.figure(figsize=(20,10))\n",
    "plt.plot(batches,train_losses,label='train loss')\n",
    "plt.plot(batches,val_losses,label='validation loss')\n",
    "plt.title('train and validation loss at each batch')\n",
    "plt.legend()\n",
    "\n",
    "plt.show()"
   ]
  },
  {
   "cell_type": "code",
   "execution_count": 87,
   "metadata": {},
   "outputs": [],
   "source": [
    "model3 = model.att"
   ]
  },
  {
   "cell_type": "code",
   "execution_count": 89,
   "metadata": {
    "colab": {
     "base_uri": "https://localhost:8080/",
     "height": 1000
    },
    "colab_type": "code",
    "id": "a4uF1VoaFS5A",
    "outputId": "87ea269f-b111-4130-d464-3796fc48a5eb"
   },
   "outputs": [],
   "source": [
    "decoder_input_data_pred = np.zeros(\n",
    "    (len(lines.summ), summ_max_length),\n",
    "    dtype='float32')\n",
    "\n",
    "final_pred_att = []\n",
    "for i in range(1):\n",
    "  word = 11\n",
    "  for j in range(summ_max_length):\n",
    "    decoder_input_data_pred[i, j] = word\n",
    "    pred = model3.predict([encoder_input_data[i].reshape(1,body_max_length),decoder_input_data_pred[i].reshape(1,summ_max_length)])\n",
    "    t = np.argmax(pred[0][j])\n",
    "    word = t\n",
    "    if word==1:\n",
    "      break\n",
    "  final_pred_att.append(list(decoder_input_data_pred[i]))"
   ]
  },
  {
   "cell_type": "code",
   "execution_count": 90,
   "metadata": {},
   "outputs": [
    {
     "name": "stdout",
     "output_type": "stream",
     "text": [
      "[11.0, 9.0, 9.0, 9.0, 9.0, 9.0, 9.0, 9.0, 9.0, 9.0, 9.0, 9.0, 9.0, 9.0, 9.0, 9.0, 9.0, 9.0, 9.0, 9.0, 9.0, 9.0, 9.0, 9.0, 9.0, 9.0, 9.0, 9.0, 9.0, 9.0, 9.0, 9.0, 9.0, 9.0, 9.0, 9.0, 9.0, 9.0, 9.0, 9.0, 9.0, 9.0, 9.0, 9.0, 9.0, 9.0, 9.0, 9.0, 9.0, 9.0]\n"
     ]
    }
   ],
   "source": [
    "print(final_pred_att[0])"
   ]
  },
  {
   "cell_type": "code",
   "execution_count": 91,
   "metadata": {
    "colab": {
     "base_uri": "https://localhost:8080/",
     "height": 34
    },
    "colab_type": "code",
    "id": "a9etONejFS0L",
    "outputId": "91c7bc65-7f03-457c-eb7f-93a51d06c6fd"
   },
   "outputs": [
    {
     "data": {
      "text/plain": [
       "0.7346938775510204"
      ]
     },
     "execution_count": 91,
     "metadata": {},
     "output_type": "execute_result"
    }
   ],
   "source": [
    "final_pred2_att = np.array(final_pred_att)\n",
    "count = 0\n",
    "correct_count = 0\n",
    "\n",
    "for i in range(1):\n",
    "  correct_count += np.sum((decoder_input_data[i]==final_pred2_att[i]) & (decoder_input_data[i]!=1))\n",
    "  count += np.sum(decoder_input_data[i]!=1)\n",
    "correct_count/count  "
   ]
  },
  {
   "cell_type": "code",
   "execution_count": 92,
   "metadata": {
    "colab": {},
    "colab_type": "code",
    "id": "PLXsGitg1dfx"
   },
   "outputs": [],
   "source": [
    "k = 0"
   ]
  },
  {
   "cell_type": "code",
   "execution_count": 93,
   "metadata": {
    "colab": {},
    "colab_type": "code",
    "id": "9MErX47CMic9"
   },
   "outputs": [
    {
     "name": "stdout",
     "output_type": "stream",
     "text": [
      "['중증', 'unk', '유발', '가능성', 'unk', '건', 'unk', '발생', 'unk', '상황', '악화', '판매', '금지', '고려', '서울', '강남구', 'unk', '전자담배', 'unk', '판매점', '정부', 'unk', '전자담배', '사용', '자제', '권고', '미국', 'unk', '전자담배', '관련', '중증', 'unk', '발생', '사망자', '발생', '조치', '국내', 'unk', 'unk', '중증', 'unk', 'unk', '발생', '보건복지부', 'unk', 'unk', '위원장', 'unk', 'unk', '전자담배', '사용', '자제', '권고', '내용', '대책', '마련', '공개', '정부', '국내', '환자', '발생', '외국', '판매', '금지', '조치', '판매', '금지', '강력', '조치', 'unk', '미국', 'unk', 'unk', '별', '약', '건', 'unk', '발생', '미국', 'unk', 'unk', 'unk', '기준', '전자담배', '중증', 'unk', 'unk', '확실', '확률', '의심', 'unk', '약', '남성', 'unk', 'unk', 'unk', '사망자', '발생', '대부분', '호흡기', '증', '기침', 'unk', 'unk', '호소', '일부', 'unk', 'unk', 'unk', '증', 'unk', '발열', 'unk', 'unk', 'unk', '전자담배', 'unk', 'unk', '전용', 'unk', 'unk', 'unk', '미국', '정부', '중증', '폐', '질환', 'unk', '규명', '조사', '완료', 'unk', '전자담배', '사용', '자제', '권고', '상태', '청소년', 'unk', 'unk', '전자담배', '판매', '금지', '조치', '발표', '복지부', '미국', '사례', 'unk', 'unk', '전자담배', '사용', 'unk', '발생', '차단', '국내', '점검', '강화', '복지부', 'unk', '전자담배', '중증', 'unk', 'unk', 'unk', '전자담배', '사용', '자제', '권고', '담배', '사용', 'unk', 'unk', '기침', 'unk', 'unk', 'unk', '방문', '권고', '의사', 'unk', '전자담배', '연관성', '판단', '질병관리본부', '당부', '정부', 'unk', '확인', 'unk', '전자담배', '사용자', '건강보험', 'unk', '연계', 'unk', '전자담배', '사용', '중증', 'unk', '연관성', '확인', '예정', '병원', '응급실', '방문', '중증', 'unk', 'unk', '전자담배', '사용', 'unk', 'unk', 'unk', 'unk', '전자담배', '부작용', '사례', 'unk', '계획', '국내', '유통', 'unk', '전자담배', '대상', '중증', 'unk', 'unk', '의심', 'unk', 'unk', '성분', '분석', '시작', 'unk', '전자담배', '인체', 'unk', '연구', '실시', '계획', 'unk', '성분', 'unk', 'unk', 'unk', '담배', 'unk', '청소년', 'unk', '유발', 'unk', '악영향', '회수', '판매', '금지', '조치', 'unk', '근거', '마련', '국내', '중증', 'unk', '발생', '외국', '추', '조치', '현황', '종합적', '분석', '필요', '판매', '금지', '강력한', '추', '대책', '마련', '계획', '보건복지부', '중심', 'unk', '상황', 'unk', '운영', '국회', 'unk', 'unk', 'unk', '금지', '법안', '담배', 'unk', '제출', '공개', 'unk', '법안', '통과', '협조', '당부', '예정']\n",
      "['unk', 'unk', 'unk', 'unk', 'unk', 'unk', 'unk', 'unk', 'unk', 'unk', 'unk', 'unk', 'unk', 'unk', 'unk', 'unk', 'unk', 'unk', 'unk', 'unk', 'unk', 'unk', 'unk', 'unk', 'unk', 'unk', 'unk', 'unk', 'unk', 'unk', 'eofe', 'eofe', 'eofe', 'eofe', 'eofe', 'eofe', 'eofe', 'eofe', 'eofe', 'eofe', 'eofe', 'eofe', 'eofe', 'eofe', 'eofe', 'eofe', 'eofe', 'unk', 'eofe', 'eofe']\n",
      "\n",
      "['제주', '최대', '밀리미터', 'unk', '제호', '태풍', 'unk', '한반도', '접근', '부산', 'unk', '전망', '예상', '기상청', 'unk', '밤', '부산', 'unk', 'unk', '기상청', '태풍', 'unk', '토요일', '오후', '시', 'unk', 'unk', '약', '킬로미터', '해상', '접근', 'unk', '이동', '속도', 'unk', '세력', '설명', 'unk', '일요일', '오전', '시', '제주', 'unk', '남쪽', '약', '킬로미터', '해상', '제주', '동쪽', '바다', '통과', '뒤', '오후', '시', '부산', 'unk', '약', '킬로미터', '해상', '전망', '부산', 'unk', 'unk', '중간', '강도', 'unk', '태풍', '중심', 'unk', 'unk', 'unk', '중심', '부근', '최대', 'unk', '시속', '킬로미터', '초속', '미터', '달', '강풍', 'unk', '킬로미터', '예상', 'unk', '한반도', '접근', '밤', '제주', '시작', '비', 'unk', '예상', '제주', '이날', '오후', '시', 'unk', '비', '전망', '제주', '최대', '밀리미터', '폭탄', '예보', '강원', 'unk', 'unk', '남', 'unk', '독', '∼', '예상', 'unk', 'unk', '서울', '경기', '북부', '강원', '북부', '충남', '북부', 'unk', '비', '예상', 'unk', '제주', 'unk', 'unk', '지역', '최대', 'unk', '시속', 'unk', '초속', 'unk', '바람', '지역', '최대', 'unk', '시속', 'unk', '강풍', '예상', '기상청', 'unk', '관리', 'unk', 'unk', '해안', 'unk', '침수', 'unk', '해상', '바람', 'unk', '예상', 'unk', 'unk', '선박', '조심', '당부']\n",
      "['unk', 'unk', 'unk', 'unk', 'unk', 'unk', 'unk', 'unk', 'unk', 'unk', 'unk', 'unk', 'unk', 'unk', 'unk', 'unk', 'unk', 'unk', '확진자', '판정', 'eofe', 'unk', '확진', '판정', 'eofe', 'eofe', 'eofe', '판정', 'eofe', 'eofe', 'eofe', '확진', 'eofe', 'eofe', 'unk', 'unk', '확진', '판정', 'eofe', 'eofe', 'eofe', 'eofe', 'eofe', 'eofe', 'eofe', 'eofe', 'eofe', 'eofe', 'eofe', 'eofe']\n",
      "\n",
      "['unk', 'unk', 'unk', '토요일', '제호', '태풍', 'unk', '영향', '전국', '비', '예상', 'unk', '제주', 'unk', '곳', '밀리미터', '강원', 'unk', 'unk', '남', 'unk', '곳', '밀리미터', '경기', '남부', '강원', '남부', '충북', '충남', '남부', '북', 'unk', '곳', '밀리미터', '서울', '경기', '북부', '강원', '북부', '충남', '북부', 'unk', '기상청', '제주도', 'unk', 'unk', 'unk', '부근', '중심', '비', 'unk', '침수', 'unk', 'unk', 'unk', '당부', '전국', '예상', 'unk', '관리', '신경', '공항', '이용자들', '항공기', '운항', '차질', '사전', '운항', '정보', '확인', '필요', '아침', 'unk', 'unk', '낮', '최고', '기온', 'unk', '예보', '비', '미세먼지', '농도', '전국', '수준', '바다', 'unk', 'unk', 'unk', '∼', '미터', 'unk', '∼', '미터', 'unk', '동해', '∼', '미터', 'unk', '∼', '미터', '∼', '미터', 'unk', '예상', '지역별', '날씨', '전망', 'unk', '오전', '오후', 'unk', '확률', '서울', '∼', '인천', '∼', '수원', '∼', 'unk', '∼', 'unk', '∼', '청주', '∼', '대전', '∼', '세종', '∼', '전주', '∼', '광주', '∼', '대구', '∼', '부산', '∼', '울산', '∼', 'unk', '∼', '제주', '∼']\n",
      "['unk', 'unk', 'unk', 'unk', 'unk', 'unk', 'unk', 'unk', 'unk', 'unk', 'unk', 'unk', 'unk', 'unk', 'unk', 'unk', 'unk', 'unk', 'unk', 'unk', 'unk', 'unk', 'unk', 'unk', 'unk', 'unk', 'unk', 'unk', 'unk', 'unk', 'unk', 'unk', 'unk', 'unk', 'unk', 'unk', 'unk', 'unk', 'unk', 'unk', 'unk', 'unk', 'unk', 'unk', 'unk', 'unk', 'unk', 'unk', 'unk', 'eofe']\n",
      "\n",
      "['unk', 'unk', 'unk', '남편', '딸', '제주도', 'unk', '명절', '당일', '어머니', '죄송', '마감', 'unk', 'unk', 'unk', '연휴', '시작', '남편', 'unk', '비행기', '제작', 'unk', '명절', '당일', 'unk', '전화', '거', '연휴', '첫날', 'unk', '전날', 'unk', '음식', 'unk', '음식', '마련', 'unk', '이하', '집안', '여성', 'unk', 'unk', 'unk', '상', 'unk', 'unk', 'unk', '차례', '터', '준비', '거', '마음', '치', '제주', '명절', 'unk', 'unk', 'unk', '제주', '외', '지역', 'unk', '결혼', '초', 'unk', 'unk', '인사', '이해', 'unk', 'unk', '가족', '행사', '제주', '생활', '상태', '제주', 'unk', '간', '관계', '중요', 'unk', '제주', 'unk', 'unk', '문화', '이해', '제주', 'unk', '이해', '이야기', '생활', '의지', '중요', '집단', 'unk', '테', '당연', 'unk', '중요', '행사', '해', 'unk', 'unk', '음식', 'unk', '리', '가족', '인사', '자리', '지역', '모임', '규모', 'unk', '제주', 'unk', 'unk', 'unk', 'unk', 'unk', '차례', 'unk', 'unk', 'unk', '차이', '제주', 'unk', 'unk', 'unk', 'unk', 'unk', 'unk', '차례', 'unk', 'unk', 'unk', 'unk', '참석', 'unk', 'unk', '시선', '식', 'unk', 'unk', 'unk', 'unk', '남', 'unk', '거', 'unk', 'unk', 'unk', '남', '제주', 'unk', 'unk', '집안', '모습', '문화', '요즘', '제주', 'unk', '제주', 'unk', 'unk', 'unk', 'unk', 'unk', '이전', 'unk', '대', '업체', '고용', 'unk', 'unk', '제주', 'unk', 'unk', 'unk', '과정', '가족', 'unk', 'unk', '참가', 'unk', '벌금', 'unk', '정리', '상황', '차례', '가족', '숫자', 'unk', '형제', 'unk', 'unk', 'unk', '합', 'unk', 'unk', 'unk', '숫자', 'unk', '가족들', '무리', 'unk', 'unk', 'unk', '인사', '음식', 'unk', 'unk', '차례', '차', '가족', 'unk', '중요', '제주', '문화', '사례', '준비', '음식', '집안', '여성들', 'unk', 'unk', '거', '서울', '걱정', 'unk', '말씀', '죄송', '뿐', '서울', '걱정', 'unk', 'unk', '전화', '밥', '후', 'unk', '전화', 'unk', '전화', 'unk', '회사', '테', 'unk', '아침', '상황', 'unk', '오늘', '아침', '대', '밥', 'unk', '차례', 'unk', 'unk', 'unk', 'unk', 'unk', '채', '차례', '음식', '아침', '식사', '명절', '행사', '결혼', '이후', '대부분', 'unk', '집안', 'unk', '명절', '인사', '기회', 'unk', 'unk', '입', '사무실', '문자', '통', '도착', '엄마', '뭐', 'unk', 'unk', '할머니', '할아버지', '딸', '할머니', '할아버지', '엄마', '할', '제주도', '아빠', '명절', '엄마', '나중']\n",
      "['unk', 'unk', 'unk', 'unk', 'unk', 'unk', 'unk', 'unk', 'unk', 'unk', 'unk', 'unk', 'unk', 'unk', 'unk', 'unk', 'unk', 'unk', 'unk', 'unk', 'unk', 'unk', 'unk', 'unk', 'unk', 'unk', 'unk', 'unk', 'unk', 'unk', 'unk', 'unk', 'unk', 'unk', 'unk', 'unk', 'unk', 'unk', 'unk', 'eofe', 'eofe', 'eofe', 'eofe', 'eofe', 'eofe', 'eofe', 'eofe', 'eofe', 'eofe', 'eofe']\n",
      "\n",
      "['unk', '미국', 'unk', 'unk', '대통령의', '딸', 'unk', 'unk', '마련', '음식', '자료', '토대', 'unk', 'unk', 'unk', 'unk', 'unk', '제공', 'unk', 'unk', 'unk', 'unk', '채소', 'unk', 'unk', 'unk', 'unk', 'unk', 'unk', 'unk', 'unk', 'unk', 'unk', '색', 'unk', '음식', 'unk', 'unk', 'unk', 'unk', '방문', 'unk', 'unk', 'unk', 'unk', '오찬', 'unk', 'unk', 'unk', 'unk', '재', '딸', 'unk', 'unk', '미국', '아시아', 'unk', 'unk', '필리핀', 'unk', '방문', '도중', 'unk', '초청', '몇몇', '일행', '박', '일정', '서울', '방문', 'unk', 'unk', '미국', 'unk', 'unk', 'unk', 'unk', 'unk', 'unk', 'unk', 'unk', 'unk', 'unk', '오찬', '제공', 'unk', '이날', '오찬', 'unk', 'unk', 'unk', 'unk', 'unk', '전통', 'unk', 'unk', '음식', '선택', '뉴욕', 'unk', '소장', 'unk', '오찬', 'unk', '오찬', '거론', '음식', '외', 'unk', 'unk', 'unk', 'unk', 'unk', '과일', 'unk', '형태', '음식', '배', 'unk', '밤', 'unk', 'unk', 'unk', 'unk', '과일', 'unk', 'unk', 'unk', 'unk', 'unk', '음식', 'unk', 'unk', 'unk', '뒤', '물', 'unk', 'unk', 'unk', '음료', 'unk', '음식', 'unk', '제공', '이날', '오찬', 'unk', 'unk', '세', '기념', 'unk', 'unk', 'unk', '음식', '구성', '식단', 'unk', '외국인', 'unk', 'unk', '요리', 'unk', '기존', '견해', '식단', 'unk', 'unk', 'unk', 'unk', 'unk', '진행', 'unk', 'unk', 'unk', 'unk', '전시', '전시', 'unk', '지난해', '추진', 'unk', 'unk', 'unk', '행사', 'unk', 'unk', '대통령의', '가족', '뒤', 'unk', '이사', 'unk', 'unk', '결혼', 'unk', 'unk', '의원', '포함', 'unk', '가족', 'unk', 'unk', 'unk', 'unk', 'unk', 'unk', 'unk', 'unk', 'unk', 'unk', 'unk', '장식', '조선', 'unk', 'unk', '조선', 'unk', '사용', '물건', '선물', 'unk', '인사', 'unk', 'unk', '사진', 'unk', 'unk', 'unk', '여성', '공식적', '최초', '식사', '기록', '오찬', 'unk', 'unk', '운명', 'unk', '당시', '미국', 'unk', 'unk', '나라', 'unk', '제대', 'unk', 'unk', '미국은', '조선', '거리', 'unk', '침입', '미국은', 'unk', 'unk', '조선', 'unk', '덕', 'unk', '국가', 'unk', '존중', '터', 'unk', 'unk', '바', '믿음', '덕분', 'unk', 'unk', 'unk', '미국', 'unk', 'unk', '제조', '조선', 'unk', '임금', 'unk', 'unk', 'unk', 'unk', 'unk', 'unk', 'unk', 'unk', '쪽', '정부', '부당', 'unk', '행동', '쪽', '정부', 'unk', 'unk', 'unk', 'unk', '조항', 'unk', '나라']\n",
      "['unk', 'unk', 'unk', 'unk', 'unk', 'unk', 'unk', 'unk', 'unk', 'unk', 'unk', 'unk', 'unk', 'unk', 'unk', 'unk', 'unk', 'unk', 'unk', 'unk', 'unk', 'unk', 'unk', 'unk', 'unk', 'unk', 'unk', 'eofe', 'unk', 'eofe', 'eofe', 'eofe', 'eofe', 'eofe', 'eofe', 'eofe', 'eofe', 'eofe', 'eofe', 'eofe', 'eofe', 'eofe', 'eofe', 'eofe', 'eofe', 'eofe', 'eofe', 'eofe', 'eofe', 'eofe']\n",
      "\n",
      "['unk', 'unk', 'unk', '은퇴', 'unk', '여유', '마음', '여행', '영어', '실력', '부족', '인터넷', '검색', '자신감', 'unk', '끝', 'unk', '달', '일정', '동남아', '개국', 'unk', 'unk', 'unk', 'unk', '공유', 'unk', 'unk', '아침', 'unk', 'unk', 'unk', '위', 'unk', '해변', '일행', '아래', '시', '호텔', 'unk', '층', '식당', 'unk', 'unk', '첫', '아침', '식사', '베트남', '도착', '전망', '식당', '아침', '기분', 'unk', '식사', '후', '시', '층', '전화', 'unk', 'unk', 'unk', '통화', '노트북', '취소', 'unk', '만원', 'unk', 'unk', '대처', '텐데', 'unk', '관광', '시', '버스', 'unk', '출발', '호텔', '측', '일행', 'unk', '택시', '현대', 'unk', '택시', 'unk', '택시', '대부분', 'unk', 'unk', '한국산', '자동차', 'unk', '택시', '기사', '택시', '차', '기사', '자동차', 'unk', 'unk', '가방', 'unk', 'unk', '끼', 'unk', '현대', 'unk', 'unk', '택시', '위', 'unk', '거리', '일행', '아래', 'unk', '분', 'unk', '호텔', 'unk', '버스', 'unk', '우리나라', '돈', '동', '호텔', 'unk', '차', '곳', 'unk', '끝', '시', 'unk', '영업', '택시', 'unk', '출발', 'unk', 'unk', 'unk', 'unk', '배', '동', 'unk', '거듭', '버스', '한국', '사업', '베트남', 'unk', '택시', '한국어', '공부', '학생', 'unk', 'unk', '곳', '취소', 'unk', 'unk', '핵', '모습', '위', 'unk', 'unk', '사과', '구입', '아래', '일행', 'unk', '택시', '곳', '안내', '비용', 'unk', 'unk', '소개', 'unk', 'unk', '소개', '부탁', '자발적', '안내', 'unk', '황당', '한국', '화', '돈', '자발적', '안내', 'unk', 'unk', 'unk', '길', '일행', 'unk', '영업', '택시', 'unk', '고속도로', 'unk', '시내', '좌우', '판', '기사', 'unk', 'unk', '차', 'unk', 'unk', 'unk', 'unk', '사과', 'unk', '맛', '그동안', 'unk', 'unk', '신경', 'unk', '해소', '마음', 'unk', '분위기', 'unk', 'unk', '고속도로', '주변', '산', '판', '고속도로', '차량', 'unk', '킬로미터', '정', '주행', '베트남', 'unk', '모습', '기온', 'unk', 'unk', '위', 'unk', 'unk', '비용', '동', '날씨', 'unk', 'unk', 'unk', '어제', '새벽', '도착', '후', 'unk', 'unk', '도로', 'unk', '아파트', '공사', '모습', 'unk', '포장', '깨끗', '현대자동차', '마크', '버스', '트럭', '택시', 'unk', 'unk', '호텔', 'unk', '사람들', 'unk', '감독', '이야기', 'unk', 'unk', 'unk', '잠', 'unk', 'unk', 'unk', '모습', '위', 'unk', '차', 'unk', '휴식', '일행', '아래', 'unk', '중간', 'unk', '커피', 'unk', '휴식', 'unk']\n",
      "['unk', '태풍', 'unk', 'unk', 'unk', 'unk', 'unk', 'unk', '기상청', 'unk', 'unk', 'unk', 'unk', 'unk', 'unk', 'unk', 'unk', 'unk', 'unk', 'unk', 'unk', 'unk', 'unk', 'unk', 'unk', 'eofe', 'eofe', 'eofe', 'eofe', 'eofe', 'eofe', 'eofe', 'eofe', 'eofe', 'eofe', 'eofe', 'eofe', 'eofe', 'eofe', 'eofe', 'eofe', 'eofe', 'eofe', 'eofe', 'eofe', 'eofe', 'eofe', 'eofe', 'eofe', 'eofe']\n",
      "\n",
      "['unk', 'unk', 'unk', 'unk', '입', 'unk', '염증', 'unk', '증가', 'unk', 'unk', '환자', '만명', '만명', '증가', 'unk', '연령', '발생', '나이', '세', 'unk', '평생', '지속', 'unk', 'unk', 'unk', '교수', '세대', '중심', '가구', 'unk', 'unk', '섭취', '증가', 'unk', 'unk', '세', '이후', '발병', '증상', 'unk', '경', '편', '대', 'unk', '증상', '가능성', '설명', 'unk', 'unk', '영향', 'unk', 'unk', 'unk', 'unk', '염증', '질환', '일반적', 'unk', 'unk', 'unk', 'unk', '염증', 'unk', '입', 'unk', 'unk', 'unk', 'unk', '대장', 'unk', '발생', 'unk', 'unk', 'unk', 'unk', 'unk', '부위', 'unk', '영향', '추정', 'unk', '정확', '발병', '원인', 'unk', '일부', 'unk', '환자', '발생', '확률', '낮', 'unk', '도시', 'unk', 'unk', '유럽', '서구', 'unk', 'unk', 'unk', '영향', '몸', 'unk', '발생', 'unk', 'unk', '세균', '바이러스', '감염', '발병', '전염', 'unk', 'unk', 'unk', '장관', 'unk', '증상', '장', '이외', '전신', '병', 'unk', '증상', 'unk', '증상', 'unk', '눈', '피부', 'unk', '신장', '발생', '대부분', 'unk', '증상', 'unk', '염증', 'unk', 'unk', '대표적', '증상', 'unk', 'unk', '동반', 'unk', '부위', 'unk', '위치', '통증', '발생', '부위', 'unk', '초', 'unk', 'unk', 'unk', '부위', 'unk', '듯', 'unk', '통증', 'unk', 'unk', '발생', 'unk', '자극', '지속적', '통증', '발생', 'unk', 'unk', '체중', '감소', 'unk', '병', '초', '통증', '진단', 'unk', 'unk', '우리나라', 'unk', '환자', '약', 'unk', 'unk', '주위', '병', '변화', '동반', '단순', 'unk', 'unk', 'unk', '검사', '발견', '초', '증상', 'unk', 'unk', 'unk', '진단', 'unk', 'unk', 'unk', 'unk', 'unk', 'unk', 'unk', 'unk', '지속', 'unk', 'unk', 'unk', '검사', 'unk', '염증', 'unk', '확인', '이후', '정확', '진단', 'unk', 'unk', '검사', '검사', '병행', 'unk', '진단', 'unk', '섭취', '리', 'unk', '유지', '원인', '정확', 'unk', '예방', '방법', 'unk', 'unk', '변화', '추정', 'unk', '음식', '영향', 'unk', 'unk', '발병', 'unk', '섭취', '줄', 'unk', '위주', '식사', 'unk', '섭취', '균형', '건강', 'unk', '유', '도움', '충분한', 'unk', '단백질', '섭취', 'unk', 'unk', 'unk', 'unk', '단백질', '식품', '섭취', 'unk', 'unk', 'unk', '위험', '별도', 'unk', 'unk', '주요', '증상', '유발', '음식', '우유', 'unk', 'unk', 'unk', '대체', 'unk', '음식', '섭취', '음식', '음식', 'unk', 'unk', '환자들', '식사', '식', '조금씩']\n",
      "['unk', 'unk', '태풍', 'unk', 'unk', 'unk', 'unk', 'unk', 'unk', 'unk', 'unk', 'unk', 'unk', 'unk', 'unk', 'unk', 'unk', 'unk', 'unk', 'unk', 'unk', 'eofe', 'eofe', 'eofe', 'eofe', 'eofe', 'eofe', 'eofe', 'eofe', 'eofe', 'eofe', 'eofe', 'eofe', 'eofe', 'eofe', 'eofe', 'eofe', 'eofe', 'eofe', 'eofe', 'eofe', 'eofe', 'eofe', 'eofe', 'eofe', 'eofe', 'eofe', 'eofe', 'eofe', 'eofe']\n",
      "\n",
      "['unk', '미투', '논란', '이후', '개월', '만', 'unk', '방송', '시작', 'unk', 'unk', '미투', 'unk', '운동', '당시', '성폭력', '가해자', '지목', '방송', '하차', '개그맨', 'unk', 'unk', '방송', '시작', 'unk', '복귀', 'unk', '개월', '만', 'unk', 'unk', '영화', 'unk', '프로그램', '금요일', '자정', '신규', '방송', 'unk', '계획', 'unk', '첫', '방송', '분', 'unk', '영화', 'unk', '영화', '소개', '마음', '준비', '방송', '소개', '동네', 'unk', 'unk', '외', '의미', 'unk', '그걸', '밖', '얘기', '필요', '복귀', '심정', '소속사', 'cc', 'unk', '운영', 'unk', '공식적', '방송', '복귀', '의미', '선', 'unk', '오픈', '만큼', '시작', '초', '조심', '콘텐츠', '영화', '사랑', '관련', '종사', '개인', '사적', '활동', '감사', 'cc', 'unk', 'unk', '마음', '생활', '고개', 'unk', 'unk', 'unk', '후', 'unk', '자리', '여성', 'unk', '성추행', '지난해', '피해자', '폭로', '활동', '중단', 'unk', '여파', 'unk', 'unk', '폐', 'unk', '안팎', '고정', '출연', 'unk', 'unk', '출발', 'unk', 'unk', '하차']\n",
      "['unk', 'unk', 'unk', 'unk', 'unk', 'unk', 'unk', 'unk', 'unk', 'unk', 'unk', 'unk', 'unk', 'unk', 'unk', 'unk', 'unk', 'unk', 'unk', 'unk', 'unk', 'eofe', 'eofe', 'eofe', 'eofe', 'eofe', 'eofe', 'eofe', 'eofe', 'eofe', 'eofe', 'eofe', 'eofe', 'eofe', 'eofe', 'eofe', 'eofe', 'eofe', 'eofe', 'eofe', 'eofe', 'eofe', 'eofe', 'eofe', 'eofe', 'eofe', 'eofe', 'eofe', 'eofe', 'eofe']\n",
      "\n",
      "['unk', '다행', '삼성전자', '소재', '조달', '일본', '업계', 'unk', '자세', '기본적', 'unk', 'unk', '일본', '정부', 'unk', '소재', '수출규제', '강화', '한·', '관계', 'unk', '이후', '일본', 'unk', '업계', '거대', '고객', '한국', '반도체', '업계', '고민', '고민', '거듭', '관련', '한·', '관계', '악화', '이후', '삼성전자', '기존', 'unk', '일본', 'unk', 'unk', '한숨', '가슴', '모습', 'unk', '삼성전자', '소재', 'unk', 'unk', '가능성', '대책', '마련', 'unk', '모습', 'unk', '삼성전자', 'unk', 'unk', '주요', 'unk', '명단', '분석', '결과', 'unk', '기업', '한국', '기업', '소재', 'unk', '일본', '기업', '배제', '모습', '삼성전자', '소재', '공급', '주요', 'unk', '소재', '공급', '주요', 'unk', 'unk', 'unk', 'unk', 'unk', 'unk', 'unk', 'unk', 'unk', 'unk', '이름', '일본', 'unk', '업계', '삼성', '기존', '일본', 'unk', '관계', 'unk', '배경', 'unk', 'unk', '리스크', '삼성', '반도체', '생산', '수천', '정밀', '공정', '소재', '제조업체', 'unk', '차이', 'unk', '변경', 'unk', '악화', '가능성', 'unk', 'unk', '조달', '전환', 'unk', '임원', '일본', 'unk', '한숨', '이유', '첨단', '소재', '자체', '개발', '외부', '조달', '비용', '면', '유리', '일본', '업계', '기대', '부분', 'unk', 'unk', '한국', 'unk', '특성상', '단위', 'unk', '연구', '진행', '일본', 'unk', '업계', '경쟁력', '일본', '기업들', 'unk', 'unk', '일본', 'unk', '성장', '거듭', 'unk', '불안', '삼성', 'unk', 'unk', '일본', '기업들', '밀접', 'unk', '인연', '강조', '삼성', '마음', '모습', '뚜렷', '삼성', 'unk', 'unk', 'unk', '생산', 'unk', 'unk', '소', 'unk', '협력', '관계', '구축', '전력', '강조', '세계', '최대', 'unk', '기업', '성장', '삼성전자', '일본', '소재', '기업', 'unk', '고객', '일본', '소재', '업체들', '삼성', 'unk', '이유', '일본', '업계', '삼성전자', 'unk', 'unk', 'unk', '길', '고', '모습', 'unk', 'unk', '분야', '대립', '지속', '소재', '분야', 'unk', 'unk', '중국', 'unk', '발생', '가능성', '삼성전자', '중국', 'unk', '업체들', '대규모', '인력', '출장', '상담', '진행', '모습', 'unk', '모습', '뚜렷', '글로벌', '기업', '성장', '삼성', 'unk', '전체', '일본', 'unk', '업계', '시선', '집중', '삼성전자', '소재', '조달', '전략', '미래', '결과', '주목', 'unk', '특파원']\n",
      "['unk', 'unk', 'unk', 'unk', 'unk', 'unk', 'unk', 'unk', 'unk', 'unk', 'unk', 'unk', 'unk', 'unk', 'unk', 'unk', 'unk', 'unk', 'unk', 'unk', 'unk', 'unk', 'eofe', 'unk', 'unk', 'unk', 'unk', 'eofe', 'eofe', 'eofe', 'eofe', 'eofe', 'eofe', 'eofe', 'eofe', 'eofe', 'eofe', 'eofe', 'eofe', 'eofe', 'eofe', 'eofe', 'eofe', 'eofe', 'eofe', 'eofe', 'eofe', 'eofe', 'eofe', 'eofe']\n",
      "\n",
      "['일본', '도쿄', '개최', 'unk', 'unk', 'unk', 'unk', '둔화', '조짐', '일본', '오늘', '도쿄', 'unk', '개최', '도쿄올림픽', '개최', '대형', '스포츠', '이벤트', '일본', 'unk', '경제', '효과', '극대화', '기대감', '도쿄', 'unk', 'unk', 'unk', '처음', '만큼', 'unk', '기대', '이날', '일본', '대', 'unk', '시작', 'unk', 'unk', '기', '전세계', '팀', '북부', 'unk', 'unk', 'unk', '일본', '전역', 'unk', '경기', '벌', 'unk', 'unk', 'unk', '대회', '경제적', '효과', 'unk', '약', '조억원', 'unk', 'unk', 'unk', 'unk', '회장', '기', 'unk', '만원', '목표', '실현', '가능', 'unk', '전체', '관람', 'unk', '만장', '판매', '일본', 'unk', '설치', '도쿄', 'unk', '홍보', 'unk', 'unk', '이중', '약', '만장', '해외', 'unk', '일본', 'unk', '유럽', '호주', '관광객', '전국', '각지', '경기', 'unk', 'unk', '경기', 'unk', '관광객', 'unk', '약', '조억원', '소비', '전망', 'unk', 'unk', '기', '포함', 'unk', '열리', 'unk', '기대', '경기', '날짜', '인근', 'unk', '예약', 'unk', '측은', '경기', '객실', '만', 'unk', 'unk', '지역', 'unk', 'unk', '효과', 'unk', '위치한', 'unk', 'unk', '중간', 'unk', 'unk', 'unk', '매출', '호주', '뉴질랜드', '포함', 'unk', 'unk', '일본', 'unk', '경기', '관람', 'unk', '결합', 'unk', '인당', 'unk', '독점', '판매', '매진', '상태', '기간', '맥주', 'unk', 'unk', '해외', 'unk', '맥주', '면', '일본', '맥주', 'unk', 'unk', '불만', '일본', '이미지', '설명', 'unk', 'unk', '맥주', 'unk', '소비', 'unk', '맥주', 'unk', '고용', 'unk', '경기', '맥주', 'unk', 'unk', 'unk', 'unk', '맥주', '생산', '리', '맥주', 'unk', 'unk', '맥주', '생산량', '이달', '지난해', '달', '배', '다음달', '배', '계획', 'unk', '다음달', '생산', '리', '아사히', '주력', '맥주', '슈퍼', 'unk', '생산', '확대', '한국의', 'unk', '불매운동', '일본', 'unk', 'unk', '판매', '위축', '가운데', 'unk', 'unk', 'unk', '지난달', '일본', '한국인', '관광객', 'unk', '전체', 'unk', '관광객', '전년', 'unk', '대비', '감소', '만명', '기록', 'unk', '통계', '방', '외국인', '지진', '영향', '지난해', '이후', '개월', '만', '일본', '도쿄올림픽', '내년', '관광객', '만명', '목표', '일본', '도쿄올림픽', '성공적', '개최', 'unk', 'unk', '분위기', '일본', 'unk', 'unk', '지점', '킬로미터', '곳', 'unk', '캠프', 'unk', 'unk', '노출', '위험', '안전', '회복', '아베', '신조', '일본', '총리', '밤', 'unk', 'unk', '선수들', '힘', '모습', '지역', 'unk', 'unk', '확신', 'unk', '일본', '전세계', 'unk', 'unk']\n",
      "['unk', 'unk', 'unk', 'unk', 'unk', 'unk', 'unk', 'unk', 'unk', 'unk', 'unk', 'unk', 'unk', 'unk', 'unk', 'unk', 'unk', 'unk', 'unk', 'unk', 'unk', 'eofe', 'eofe', 'eofe', 'eofe', 'eofe', 'eofe', 'eofe', 'eofe', 'eofe', 'eofe', 'eofe', 'eofe', 'eofe', 'eofe', 'eofe', 'eofe', 'eofe', 'eofe', 'eofe', 'eofe', 'eofe', 'eofe', 'eofe', 'eofe', 'eofe', 'eofe', 'eofe', 'eofe', 'eofe']\n",
      "\n"
     ]
    }
   ],
   "source": [
    "for k in range(0,10):\n",
    "    t = model3.predict([encoder_input_data[k].reshape(1,encoder_input_data.shape[1]),decoder_input_data[k].reshape(1,decoder_input_data.shape[1])]).reshape(decoder_input_data.shape[1], num_decoder_tokens+1)\n",
    "    \n",
    "    #답\n",
    "    tmp=[]\n",
    "    for i in range(len(encoder_input_data[k])):\n",
    "      if int(encoder_input_data[k][i])!=0:\n",
    "        tmp.append(list(input_token_index.keys())[int(encoder_input_data[k][i]-1)])\n",
    "    print(tmp)\n",
    "    \n",
    "    tmp = []\n",
    "    t2 = np.argmax(t,axis=1)\n",
    "    for i in range(len(t2)):\n",
    "      if int(t2[i])!=0:\n",
    "        tmp.append(list(target_token_index.keys())[int(t2[i]-1)])\n",
    "    print(tmp)\n",
    "    print()"
   ]
  },
  {
   "cell_type": "code",
   "execution_count": 124,
   "metadata": {
    "colab": {
     "base_uri": "https://localhost:8080/",
     "height": 85
    },
    "colab_type": "code",
    "id": "L-m9Oo_t1pdr",
    "outputId": "a6f586c4-f5ae-43f6-bc62-c30b4cb342ab"
   },
   "outputs": [
    {
     "name": "stdout",
     "output_type": "stream",
     "text": [
      "unk\n",
      "unk\n",
      "유발\n",
      "가능성\n",
      "unk\n",
      "건\n",
      "unk\n",
      "발생\n",
      "unk\n",
      "상황\n",
      "악화\n",
      "판매\n",
      "금지\n",
      "고려\n",
      "서울\n",
      "강남구\n",
      "액상형\n",
      "전자담배\n",
      "unk\n",
      "unk\n",
      "정부\n",
      "액상형\n",
      "전자담배\n",
      "사용\n",
      "자제\n",
      "권고\n",
      "미국\n",
      "액상형\n",
      "전자담배\n",
      "관련\n",
      "unk\n",
      "unk\n",
      "발생\n",
      "사망자\n",
      "발생\n",
      "조치\n",
      "국내\n",
      "액상형\n",
      "unk\n",
      "unk\n",
      "unk\n",
      "unk\n",
      "발생\n",
      "보건복지부\n",
      "unk\n",
      "unk\n",
      "위원장\n",
      "unk\n",
      "액상형\n",
      "전자담배\n",
      "사용\n",
      "자제\n",
      "권고\n",
      "내용\n",
      "대책\n",
      "마련\n",
      "공개\n",
      "정부\n",
      "국내\n",
      "환자\n",
      "발생\n",
      "외국\n",
      "판매\n",
      "금지\n",
      "조치\n",
      "판매\n",
      "금지\n",
      "강력\n",
      "조치\n",
      "unk\n",
      "미국\n",
      "unk\n",
      "unk\n",
      "별\n",
      "약\n",
      "건\n",
      "unk\n",
      "발생\n",
      "미국\n",
      "unk\n",
      "unk\n",
      "unk\n",
      "기준\n",
      "전자담배\n",
      "unk\n",
      "unk\n",
      "unk\n",
      "확실\n",
      "확률\n",
      "의심\n",
      "unk\n",
      "약\n",
      "남성\n",
      "unk\n",
      "unk\n",
      "unk\n",
      "사망자\n",
      "발생\n",
      "대부분\n",
      "unk\n",
      "증\n",
      "unk\n",
      "unk\n",
      "unk\n",
      "호소\n",
      "일부\n",
      "unk\n",
      "unk\n",
      "unk\n",
      "증\n",
      "unk\n",
      "unk\n",
      "unk\n",
      "unk\n",
      "액상형\n",
      "전자담배\n",
      "unk\n",
      "unk\n",
      "전용\n",
      "unk\n",
      "unk\n",
      "unk\n",
      "미국\n",
      "정부\n",
      "unk\n",
      "폐\n",
      "질환\n",
      "unk\n",
      "규명\n",
      "조사\n",
      "완료\n",
      "액상형\n",
      "전자담배\n",
      "사용\n",
      "자제\n",
      "권고\n",
      "상태\n",
      "청소년\n",
      "unk\n",
      "액상형\n",
      "전자담배\n",
      "판매\n",
      "금지\n",
      "조치\n",
      "발표\n",
      "unk\n",
      "미국\n",
      "사례\n",
      "참조\n",
      "액상형\n",
      "전자담배\n",
      "사용\n",
      "unk\n",
      "발생\n",
      "차단\n",
      "국내\n",
      "점검\n",
      "강화\n",
      "unk\n",
      "액상형\n",
      "전자담배\n",
      "unk\n",
      "unk\n",
      "unk\n",
      "액상형\n",
      "전자담배\n",
      "사용\n",
      "자제\n",
      "권고\n",
      "담배\n",
      "사용\n",
      "unk\n",
      "unk\n",
      "unk\n",
      "unk\n",
      "unk\n",
      "unk\n",
      "방문\n",
      "권고\n",
      "의사\n",
      "액상형\n",
      "전자담배\n",
      "unk\n",
      "판단\n",
      "unk\n",
      "당부\n",
      "정부\n",
      "unk\n",
      "확인\n",
      "액상형\n",
      "전자담배\n",
      "사용자\n",
      "건강보험\n",
      "unk\n",
      "연계\n",
      "액상형\n",
      "전자담배\n",
      "사용\n",
      "unk\n",
      "unk\n",
      "unk\n",
      "확인\n",
      "예정\n",
      "병원\n",
      "unk\n",
      "방문\n",
      "unk\n",
      "unk\n",
      "액상형\n",
      "전자담배\n",
      "사용\n",
      "unk\n",
      "unk\n",
      "unk\n",
      "액상형\n",
      "전자담배\n",
      "부작용\n",
      "사례\n",
      "unk\n",
      "계획\n",
      "국내\n",
      "유통\n",
      "액상형\n",
      "전자담배\n",
      "대상\n",
      "unk\n",
      "unk\n",
      "unk\n",
      "의심\n",
      "비타민\n",
      "unk\n",
      "성분\n",
      "분석\n",
      "시작\n",
      "액상형\n",
      "전자담배\n",
      "인체\n",
      "unk\n",
      "연구\n",
      "실시\n",
      "계획\n",
      "unk\n",
      "성분\n",
      "unk\n",
      "unk\n",
      "unk\n",
      "담배\n",
      "unk\n",
      "청소년\n",
      "흡연\n",
      "유발\n",
      "unk\n",
      "악영향\n",
      "회수\n",
      "판매\n",
      "금지\n",
      "조치\n",
      "unk\n",
      "근거\n",
      "마련\n",
      "국내\n",
      "unk\n",
      "unk\n",
      "발생\n",
      "외국\n",
      "추\n",
      "조치\n",
      "현황\n",
      "종합적\n",
      "분석\n",
      "필요\n",
      "판매\n",
      "금지\n",
      "강력한\n",
      "추\n",
      "대책\n",
      "마련\n",
      "계획\n",
      "보건복지부\n",
      "중심\n",
      "unk\n",
      "상황\n",
      "unk\n",
      "운영\n",
      "국회\n",
      "unk\n",
      "unk\n",
      "unk\n",
      "금지\n",
      "법안\n",
      "담배\n",
      "unk\n",
      "제출\n",
      "공개\n",
      "unk\n",
      "법안\n",
      "통과\n",
      "협조\n",
      "당부\n",
      "예정\n",
      "보건복지부\n",
      "unk\n",
      "unk\n",
      "unk\n",
      "중심\n",
      "unk\n",
      "전자담배\n",
      "액상형\n",
      "전자담배\n",
      "unk\n",
      "사용\n",
      "증가\n",
      "상황\n",
      "적극적\n",
      "대응\n",
      "필요\n",
      "국내\n",
      "상황\n",
      "체크\n",
      "필요\n",
      "unk\n",
      "마련\n",
      "unk\n"
     ]
    }
   ],
   "source": [
    "for i in range(len(encoder_input_data[k])):\n",
    "  if int(encoder_input_data[k][i])!=0:\n",
    "    print(list(input_token_index.keys())[int(encoder_input_data[k][i]-1)])"
   ]
  },
  {
   "cell_type": "code",
   "execution_count": 125,
   "metadata": {
    "colab": {
     "base_uri": "https://localhost:8080/",
     "height": 306
    },
    "colab_type": "code",
    "id": "GolIEG_D1pnz",
    "outputId": "264a6480-2ba7-4c72-fa8b-88e8baa9d7a1"
   },
   "outputs": [
    {
     "name": "stdout",
     "output_type": "stream",
     "text": [
      "unk\n",
      "unk\n",
      "unk\n",
      "unk\n",
      "unk\n",
      "unk\n",
      "unk\n",
      "unk\n",
      "unk\n",
      "unk\n",
      "unk\n",
      "unk\n",
      "unk\n",
      "unk\n",
      "unk\n",
      "unk\n",
      "unk\n",
      "unk\n",
      "unk\n",
      "unk\n",
      "unk\n",
      "unk\n",
      "unk\n",
      "unk\n",
      "unk\n",
      "unk\n",
      "unk\n",
      "unk\n",
      "unk\n",
      "unk\n",
      "unk\n",
      "unk\n",
      "unk\n",
      "unk\n",
      "unk\n",
      "unk\n",
      "unk\n",
      "unk\n",
      "unk\n",
      "unk\n",
      "unk\n",
      "unk\n",
      "unk\n",
      "unk\n",
      "unk\n",
      "unk\n",
      "unk\n",
      "unk\n",
      "unk\n",
      "unk\n",
      "unk\n",
      "unk\n",
      "unk\n",
      "unk\n",
      "unk\n",
      "unk\n",
      "unk\n",
      "unk\n",
      "unk\n",
      "unk\n",
      "unk\n",
      "unk\n",
      "unk\n",
      "unk\n",
      "unk\n",
      "unk\n",
      "unk\n",
      "unk\n",
      "unk\n",
      "unk\n",
      "unk\n",
      "unk\n",
      "unk\n",
      "unk\n",
      "unk\n",
      "unk\n",
      "unk\n",
      "unk\n",
      "unk\n",
      "unk\n",
      "unk\n",
      "unk\n",
      "unk\n",
      "unk\n",
      "unk\n",
      "unk\n",
      "unk\n",
      "unk\n",
      "unk\n",
      "unk\n",
      "unk\n",
      "unk\n",
      "unk\n",
      "unk\n",
      "unk\n",
      "unk\n",
      "unk\n",
      "unk\n",
      "unk\n",
      "unk\n",
      "unk\n",
      "unk\n",
      "unk\n",
      "unk\n",
      "unk\n",
      "unk\n",
      "unk\n",
      "unk\n",
      "unk\n",
      "unk\n",
      "unk\n",
      "unk\n",
      "unk\n",
      "unk\n",
      "unk\n",
      "unk\n",
      "unk\n",
      "unk\n",
      "unk\n",
      "unk\n",
      "unk\n",
      "unk\n",
      "unk\n",
      "unk\n",
      "unk\n",
      "unk\n",
      "unk\n",
      "unk\n",
      "unk\n",
      "end\n",
      "end\n",
      "end\n",
      "end\n",
      "end\n",
      "end\n",
      "end\n",
      "end\n",
      "end\n",
      "end\n",
      "end\n",
      "end\n",
      "end\n",
      "end\n",
      "end\n",
      "end\n",
      "end\n",
      "end\n",
      "end\n",
      "end\n",
      "end\n",
      "end\n",
      "end\n",
      "end\n",
      "end\n",
      "end\n",
      "end\n",
      "end\n",
      "end\n",
      "end\n",
      "end\n",
      "end\n",
      "end\n",
      "end\n",
      "end\n",
      "end\n",
      "end\n",
      "end\n",
      "end\n",
      "end\n",
      "end\n",
      "end\n",
      "end\n",
      "end\n",
      "end\n",
      "end\n",
      "end\n",
      "end\n",
      "end\n",
      "end\n",
      "end\n",
      "end\n",
      "end\n",
      "end\n",
      "end\n",
      "end\n",
      "end\n",
      "end\n",
      "end\n",
      "end\n",
      "end\n",
      "end\n",
      "end\n",
      "end\n",
      "end\n",
      "end\n",
      "end\n",
      "end\n",
      "end\n",
      "end\n",
      "end\n",
      "end\n"
     ]
    }
   ],
   "source": [
    "t2 = np.argmax(t,axis=1)\n",
    "for i in range(len(t2)):\n",
    "  if int(t2[i])!=0:\n",
    "    print(list(target_token_index.keys())[int(t2[i]-1)])"
   ]
  },
  {
   "cell_type": "code",
   "execution_count": 59,
   "metadata": {
    "colab": {
     "base_uri": "https://localhost:8080/",
     "height": 306
    },
    "colab_type": "code",
    "id": "HH8mQ11E1v2Z",
    "outputId": "4362cdee-d632-44e5-e053-69c34ba2c113",
    "scrolled": true
   },
   "outputs": [
    {
     "name": "stdout",
     "output_type": "stream",
     "text": [
      "start\n",
      "je\n",
      "ne\n",
      "peux\n",
      "pas\n",
      "te\n",
      "le\n",
      "unk\n",
      "end\n",
      "end\n",
      "end\n",
      "end\n",
      "end\n"
     ]
    }
   ],
   "source": [
    "t2 = decoder_input_data[k]\n",
    "for i in range(len(t2)):\n",
    "  if int(t2[i])!=0:\n",
    "    print(list(target_token_index.keys())[int(t2[i]-1)])"
   ]
  },
  {
   "cell_type": "code",
   "execution_count": null,
   "metadata": {
    "colab": {},
    "colab_type": "code",
    "id": "srk85_SD1v_l"
   },
   "outputs": [],
   "source": []
  },
  {
   "cell_type": "code",
   "execution_count": null,
   "metadata": {
    "colab": {},
    "colab_type": "code",
    "id": "E-eXix35Qal8"
   },
   "outputs": [],
   "source": []
  }
 ],
 "metadata": {
  "accelerator": "GPU",
  "colab": {
   "collapsed_sections": [],
   "name": "Machine_translation.ipynb",
   "provenance": []
  },
  "kernelspec": {
   "display_name": "Python 3",
   "language": "python",
   "name": "python3"
  },
  "language_info": {
   "codemirror_mode": {
    "name": "ipython",
    "version": 3
   },
   "file_extension": ".py",
   "mimetype": "text/x-python",
   "name": "python",
   "nbconvert_exporter": "python",
   "pygments_lexer": "ipython3",
   "version": "3.7.1"
  }
 },
 "nbformat": 4,
 "nbformat_minor": 4
}
