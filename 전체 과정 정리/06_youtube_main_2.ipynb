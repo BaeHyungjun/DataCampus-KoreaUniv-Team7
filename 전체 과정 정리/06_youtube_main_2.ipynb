{
 "cells": [
  {
   "cell_type": "markdown",
   "metadata": {},
   "source": [
    "main_0에서 데이터 크롤링 및 정제\n",
    "\n",
    "comment_sentiment_analysis에서 댓글 감성 분석\n",
    "\n",
    "main_1에서 요약 모델에 들어갈 수 있도록 naver, daum 데이터와 같은 처리 해주기 (stemming, normalizing), model.predict를 할 수 있게끔 convert_token_to_id 해주기\n",
    "\n",
    "normalizing에서 stopwords_list, least_list 이렇게 두 개를 사용했는데 least_list가 따로 저장되어 있지 않은 것 같아서 stopwords_concat.csv만 사용해 전처리하겠습니다."
   ]
  },
  {
   "cell_type": "code",
   "execution_count": 74,
   "metadata": {
    "ExecuteTime": {
     "end_time": "2020-08-26T06:35:39.971757Z",
     "start_time": "2020-08-26T06:34:30.070162Z"
    }
   },
   "outputs": [],
   "source": [
    "import numpy as np\n",
    "import pandas as pd\n",
    "import ast\n",
    "\n",
    "from konlpy.tag import Hannanum\n",
    "from kobert_transformers import get_tokenizer"
   ]
  },
  {
   "cell_type": "code",
   "execution_count": 2,
   "metadata": {
    "ExecuteTime": {
     "end_time": "2020-08-26T05:39:42.692141Z",
     "start_time": "2020-08-26T05:39:42.147479Z"
    }
   },
   "outputs": [],
   "source": [
    "channel_a = pd.read_csv('youtube_0816_0822/add_comment_sentiment_data/cs_channel_a_0816_0822.csv')\n",
    "jtbc = pd.read_csv('youtube_0816_0822/add_comment_sentiment_data/cs_jtbc_0816_0822.csv')\n",
    "kbs = pd.read_csv('youtube_0816_0822/add_comment_sentiment_data/cs_kbs_0816_0822.csv')\n",
    "mbc = pd.read_csv('youtube_0816_0822/add_comment_sentiment_data/cs_mbc_0816_0822.csv')\n",
    "mbn = pd.read_csv('youtube_0816_0822/add_comment_sentiment_data/cs_mbn_0816_0822.csv')\n",
    "sbs = pd.read_csv('youtube_0816_0822/add_comment_sentiment_data/cs_sbs_0816_0822.csv')\n",
    "yonhab = pd.read_csv('youtube_0816_0822/add_comment_sentiment_data/cs_yonhab_0816_0822.csv')\n",
    "ytn = pd.read_csv('youtube_0816_0822/add_comment_sentiment_data/cs_ytn_0816_0822.csv')"
   ]
  },
  {
   "cell_type": "code",
   "execution_count": 119,
   "metadata": {
    "ExecuteTime": {
     "end_time": "2020-08-26T07:00:28.451918Z",
     "start_time": "2020-08-26T07:00:28.445923Z"
    }
   },
   "outputs": [
    {
     "data": {
      "text/plain": [
       "(71, 20)"
      ]
     },
     "execution_count": 119,
     "metadata": {},
     "output_type": "execute_result"
    }
   ],
   "source": [
    "channel_a.shape"
   ]
  },
  {
   "cell_type": "code",
   "execution_count": 120,
   "metadata": {
    "ExecuteTime": {
     "end_time": "2020-08-26T07:00:32.391474Z",
     "start_time": "2020-08-26T07:00:32.384477Z"
    }
   },
   "outputs": [
    {
     "data": {
      "text/plain": [
       "(188, 21)"
      ]
     },
     "execution_count": 120,
     "metadata": {},
     "output_type": "execute_result"
    }
   ],
   "source": [
    "jtbc.shape"
   ]
  },
  {
   "cell_type": "code",
   "execution_count": 121,
   "metadata": {
    "ExecuteTime": {
     "end_time": "2020-08-26T07:00:35.032293Z",
     "start_time": "2020-08-26T07:00:35.026295Z"
    }
   },
   "outputs": [
    {
     "data": {
      "text/plain": [
       "(140, 20)"
      ]
     },
     "execution_count": 121,
     "metadata": {},
     "output_type": "execute_result"
    }
   ],
   "source": [
    "kbs.shape"
   ]
  },
  {
   "cell_type": "code",
   "execution_count": 122,
   "metadata": {
    "ExecuteTime": {
     "end_time": "2020-08-26T07:00:37.854543Z",
     "start_time": "2020-08-26T07:00:37.847546Z"
    }
   },
   "outputs": [
    {
     "data": {
      "text/plain": [
       "(405, 21)"
      ]
     },
     "execution_count": 122,
     "metadata": {},
     "output_type": "execute_result"
    }
   ],
   "source": [
    "mbc.shape"
   ]
  },
  {
   "cell_type": "code",
   "execution_count": 123,
   "metadata": {
    "ExecuteTime": {
     "end_time": "2020-08-26T07:00:40.191386Z",
     "start_time": "2020-08-26T07:00:40.184390Z"
    }
   },
   "outputs": [
    {
     "data": {
      "text/plain": [
       "(165, 20)"
      ]
     },
     "execution_count": 123,
     "metadata": {},
     "output_type": "execute_result"
    }
   ],
   "source": [
    "mbn.shape"
   ]
  },
  {
   "cell_type": "code",
   "execution_count": 124,
   "metadata": {
    "ExecuteTime": {
     "end_time": "2020-08-26T07:00:42.653858Z",
     "start_time": "2020-08-26T07:00:42.646862Z"
    }
   },
   "outputs": [
    {
     "data": {
      "text/plain": [
       "(174, 21)"
      ]
     },
     "execution_count": 124,
     "metadata": {},
     "output_type": "execute_result"
    }
   ],
   "source": [
    "sbs.shape"
   ]
  },
  {
   "cell_type": "code",
   "execution_count": 125,
   "metadata": {
    "ExecuteTime": {
     "end_time": "2020-08-26T07:00:45.297056Z",
     "start_time": "2020-08-26T07:00:45.289061Z"
    }
   },
   "outputs": [
    {
     "data": {
      "text/plain": [
       "(495, 20)"
      ]
     },
     "execution_count": 125,
     "metadata": {},
     "output_type": "execute_result"
    }
   ],
   "source": [
    "yonhab.shape"
   ]
  },
  {
   "cell_type": "code",
   "execution_count": 126,
   "metadata": {
    "ExecuteTime": {
     "end_time": "2020-08-26T07:00:48.764906Z",
     "start_time": "2020-08-26T07:00:48.758908Z"
    }
   },
   "outputs": [
    {
     "data": {
      "text/plain": [
       "(724, 20)"
      ]
     },
     "execution_count": 126,
     "metadata": {},
     "output_type": "execute_result"
    }
   ],
   "source": [
    "ytn.shape"
   ]
  },
  {
   "cell_type": "code",
   "execution_count": 17,
   "metadata": {
    "ExecuteTime": {
     "end_time": "2020-08-26T05:50:13.703085Z",
     "start_time": "2020-08-26T05:50:13.690093Z"
    }
   },
   "outputs": [],
   "source": [
    "stopwords_df = pd.read_csv('stopwords_concat.csv')\n",
    "stopwords_list = stopwords_df.stopwords"
   ]
  },
  {
   "cell_type": "code",
   "execution_count": 19,
   "metadata": {
    "ExecuteTime": {
     "end_time": "2020-08-26T05:50:30.856443Z",
     "start_time": "2020-08-26T05:50:30.843450Z"
    }
   },
   "outputs": [
    {
     "data": {
      "text/plain": [
       "(0    이\n",
       " 1    있\n",
       " 2    하\n",
       " 3    것\n",
       " 4    들\n",
       " 5    그\n",
       " 6    되\n",
       " 7    수\n",
       " 8    이\n",
       " 9    보\n",
       " Name: stopwords, dtype: object,\n",
       " 765     둘\n",
       " 766     셋\n",
       " 767     넷\n",
       " 768    다섯\n",
       " 769    여섯\n",
       " 770    일곱\n",
       " 771    여덟\n",
       " 772    아홉\n",
       " 773     령\n",
       " 774     영\n",
       " Name: stopwords, dtype: object)"
      ]
     },
     "execution_count": 19,
     "metadata": {},
     "output_type": "execute_result"
    }
   ],
   "source": [
    "stopwords_list[:10], stopwords_list[-10:]"
   ]
  },
  {
   "cell_type": "markdown",
   "metadata": {},
   "source": [
    "# Stemming and Remove stopwords"
   ]
  },
  {
   "cell_type": "markdown",
   "metadata": {},
   "source": [
    "+ stemming에서 제거하는 품사\n",
    "\n",
    "{'E': '어미',\n",
    " 'EC': '연결 어미',\n",
    " 'EF': '종결 어미',\n",
    " 'EP': '선어말어미',\n",
    " 'ET': '전성 어미', \n",
    " 'S': '기호'}\n",
    "\n",
    "+ stemming에서 제거하지 않는 품사\n",
    "\n",
    "{'F': '외국어',\n",
    " 'I': '독립언',\n",
    " 'II': '감탄사',\n",
    " 'J': '관계언',\n",
    " 'JC': '격조사',\n",
    " 'JP': '서술격 조사',\n",
    " 'JX': '보조사',\n",
    " 'M': '수식언',\n",
    " 'MA': '부사',\n",
    " 'MM': '관형사',\n",
    " 'N': '체언',\n",
    " 'NB': '의존명사',\n",
    " 'NC': '보통명사',\n",
    " 'NN': '수사',\n",
    " 'NP': '대명사',\n",
    " 'NQ': '고유명사',\n",
    " 'P': '용언',\n",
    " 'PA': '형용사',\n",
    " 'PV': '동사',\n",
    " 'PX': '보조 용언',\n",
    " 'X': '접사',\n",
    " 'XP': '접두사',\n",
    " 'XS': '접미사'}"
   ]
  },
  {
   "cell_type": "code",
   "execution_count": 41,
   "metadata": {
    "ExecuteTime": {
     "end_time": "2020-08-26T06:16:40.879478Z",
     "start_time": "2020-08-26T06:16:40.867487Z"
    }
   },
   "outputs": [],
   "source": [
    "def stemming_and_remove_stopwords(row, tagging_method, stopwords):\n",
    "    '''기사 본문 품사태깅 후 어미가 아닌 형태소들만 추출한 뒤 불용어 제거'''\n",
    "    \n",
    "    stem_list = []\n",
    "    tagged = tagging_method.pos(row)\n",
    "    \n",
    "    for element in tagged:\n",
    "        # {'E': '어미', 'EC': '연결 어미', 'EF': '종결 어미', 'EP': '선어말어미', 'ET': '전성 어미', 'S': '기호'} 제거\n",
    "        # 불용어 제거\n",
    "        if element[1] not in ['E', 'EC', 'EF', 'EP', 'ET', 'S'] and element[0] not in stopwords:\n",
    "            stem_list.append(element[0])\n",
    "    \n",
    "    return stem_list\n",
    "\n",
    "def df_stemming_and_remove_stopwords(DataFrame, stopwords):\n",
    "    '''stemming_and_remove_stopwords을 DataFrame에 적용'''\n",
    "    \n",
    "    copy = DataFrame.copy()\n",
    "    \n",
    "    han = Hannanum() # tagging_method\n",
    "    cleaned_description = copy.cleaned_description\n",
    "    stemmed = []\n",
    "    \n",
    "    for element in cleaned_description:\n",
    "        stem = stemming_and_remove_stopwords(row=element,\n",
    "                                             tagging_method=han,\n",
    "                                             stopwords=stopwords)\n",
    "        stemmed.append(stem)\n",
    "    \n",
    "    copy['stemmed'] = stemmed\n",
    "    \n",
    "    return copy"
   ]
  },
  {
   "cell_type": "code",
   "execution_count": 53,
   "metadata": {
    "ExecuteTime": {
     "end_time": "2020-08-26T06:24:51.259296Z",
     "start_time": "2020-08-26T06:24:44.346580Z"
    }
   },
   "outputs": [],
   "source": [
    "stemmed_channel_a = df_stemming_and_remove_stopwords(DataFrame=channel_a,\n",
    "                                                     stopwords=stopwords_list)"
   ]
  },
  {
   "cell_type": "code",
   "execution_count": 55,
   "metadata": {
    "ExecuteTime": {
     "end_time": "2020-08-26T06:27:08.381679Z",
     "start_time": "2020-08-26T06:26:51.081412Z"
    }
   },
   "outputs": [],
   "source": [
    "stemmed_jtbc = df_stemming_and_remove_stopwords(DataFrame=jtbc,\n",
    "                                                stopwords=stopwords_list)"
   ]
  },
  {
   "cell_type": "code",
   "execution_count": 56,
   "metadata": {
    "ExecuteTime": {
     "end_time": "2020-08-26T06:27:20.278307Z",
     "start_time": "2020-08-26T06:27:08.813408Z"
    }
   },
   "outputs": [],
   "source": [
    "stemmed_kbs = df_stemming_and_remove_stopwords(DataFrame=kbs,\n",
    "                                               stopwords=stopwords_list)"
   ]
  },
  {
   "cell_type": "code",
   "execution_count": 57,
   "metadata": {
    "ExecuteTime": {
     "end_time": "2020-08-26T06:27:49.928900Z",
     "start_time": "2020-08-26T06:27:20.650064Z"
    }
   },
   "outputs": [],
   "source": [
    "stemmed_mbc = df_stemming_and_remove_stopwords(DataFrame=mbc,\n",
    "                                               stopwords=stopwords_list)"
   ]
  },
  {
   "cell_type": "code",
   "execution_count": 58,
   "metadata": {
    "ExecuteTime": {
     "end_time": "2020-08-26T06:28:01.902469Z",
     "start_time": "2020-08-26T06:27:50.403606Z"
    }
   },
   "outputs": [],
   "source": [
    "stemmed_mbn = df_stemming_and_remove_stopwords(DataFrame=mbn,\n",
    "                                               stopwords=stopwords_list)"
   ]
  },
  {
   "cell_type": "code",
   "execution_count": 59,
   "metadata": {
    "ExecuteTime": {
     "end_time": "2020-08-26T06:28:12.553879Z",
     "start_time": "2020-08-26T06:28:01.907467Z"
    }
   },
   "outputs": [],
   "source": [
    "stemmed_sbs = df_stemming_and_remove_stopwords(DataFrame=sbs,\n",
    "                                               stopwords=stopwords_list)"
   ]
  },
  {
   "cell_type": "code",
   "execution_count": 60,
   "metadata": {
    "ExecuteTime": {
     "end_time": "2020-08-26T06:28:43.161868Z",
     "start_time": "2020-08-26T06:28:13.501271Z"
    }
   },
   "outputs": [],
   "source": [
    "stemmed_yonhab = df_stemming_and_remove_stopwords(DataFrame=yonhab,\n",
    "                                                  stopwords=stopwords_list)"
   ]
  },
  {
   "cell_type": "code",
   "execution_count": 61,
   "metadata": {
    "ExecuteTime": {
     "end_time": "2020-08-26T06:29:32.430299Z",
     "start_time": "2020-08-26T06:28:43.740508Z"
    }
   },
   "outputs": [],
   "source": [
    "stemmed_ytn = df_stemming_and_remove_stopwords(DataFrame=ytn,\n",
    "                                               stopwords=stopwords_list)"
   ]
  },
  {
   "cell_type": "markdown",
   "metadata": {},
   "source": [
    "pandas에서 DataFrame의 원소로 list가 들어가는데 csv파일로 내렸다가 다시 불러왔을 때 string이 되는거고 그때 string에 ast.literal_eval를 써주면 다시 list로 변환해서 사용 가능"
   ]
  },
  {
   "cell_type": "code",
   "execution_count": 76,
   "metadata": {
    "ExecuteTime": {
     "end_time": "2020-08-26T06:36:26.085818Z",
     "start_time": "2020-08-26T06:36:26.058834Z"
    }
   },
   "outputs": [
    {
     "name": "stdout",
     "output_type": "stream",
     "text": [
      "<class 'pandas.core.frame.DataFrame'>\n",
      "RangeIndex: 724 entries, 0 to 723\n",
      "Data columns (total 21 columns):\n",
      " #   Column                      Non-Null Count  Dtype  \n",
      "---  ------                      --------------  -----  \n",
      " 0   Unnamed: 0                  724 non-null    int64  \n",
      " 1   Unnamed: 0.1                724 non-null    int64  \n",
      " 2   published_time              724 non-null    object \n",
      " 3   video_id                    724 non-null    object \n",
      " 4   video_url                   724 non-null    object \n",
      " 5   crawling_time               724 non-null    object \n",
      " 6   author                      724 non-null    object \n",
      " 7   title                       724 non-null    object \n",
      " 8   length                      724 non-null    float64\n",
      " 9   rating                      724 non-null    float64\n",
      " 10  views                       724 non-null    float64\n",
      " 11  thumbnail_url               724 non-null    object \n",
      " 12  captions                    724 non-null    object \n",
      " 13  description                 724 non-null    object \n",
      " 14  comments                    724 non-null    object \n",
      " 15  cleaned_description         724 non-null    object \n",
      " 16  each_comments_sentiment     724 non-null    object \n",
      " 17  average_comments_sentiment  724 non-null    float64\n",
      " 18  comments_sentiment_label    724 non-null    object \n",
      " 19  comments_sentiment_result   724 non-null    object \n",
      " 20  stemmed                     724 non-null    object \n",
      "dtypes: float64(4), int64(2), object(15)\n",
      "memory usage: 118.9+ KB\n"
     ]
    }
   ],
   "source": [
    "stemmed_ytn.info()"
   ]
  },
  {
   "cell_type": "markdown",
   "metadata": {},
   "source": [
    "# Convert token to id"
   ]
  },
  {
   "cell_type": "code",
   "execution_count": 77,
   "metadata": {
    "ExecuteTime": {
     "end_time": "2020-08-26T06:43:57.977239Z",
     "start_time": "2020-08-26T06:43:57.968246Z"
    }
   },
   "outputs": [],
   "source": [
    "def token_to_id_and_padding(DataFrame):\n",
    "    '''stemmed를 id로 바꾼 뒤 길이에 맞게 padding'''\n",
    "    \n",
    "    copy = DataFrame.copy()\n",
    "    \n",
    "    # kobert tokenizer 생성\n",
    "    tokenizer = get_tokenizer()\n",
    "    pad = tokenizer.pad_token_id\n",
    "\n",
    "    id_list = []\n",
    "    for element in copy.stemmed:\n",
    "        # token을 id로 변환, 최대 길이에 맞게 512번째 token까지만 사용하고 나머진 버림\n",
    "        element_id = tokenizer.convert_tokens_to_ids(element[:512])\n",
    "        # 512보다 길이가 짧을 때 pad id인 1로 padding, 모델에 predict할 때 학습할 때 설정한 길이까지만 잘라서 사용\n",
    "        if len(element_id) < 512:\n",
    "            element_id = element_id + [pad] * (512 - len(element_id))\n",
    "        \n",
    "        id_list.append(element_id)\n",
    "    \n",
    "    copy['token_ids'] = id_list\n",
    "    \n",
    "    return copy        "
   ]
  },
  {
   "cell_type": "code",
   "execution_count": 92,
   "metadata": {
    "ExecuteTime": {
     "end_time": "2020-08-26T06:48:00.214832Z",
     "start_time": "2020-08-26T06:47:41.382733Z"
    }
   },
   "outputs": [],
   "source": [
    "id_channel_a = token_to_id_and_padding(stemmed_channel_a)\n",
    "id_jtbc = token_to_id_and_padding(stemmed_jtbc)\n",
    "id_kbs = token_to_id_and_padding(stemmed_kbs)\n",
    "id_mbc = token_to_id_and_padding(stemmed_mbc)\n",
    "id_mbn = token_to_id_and_padding(stemmed_mbn)\n",
    "id_sbs = token_to_id_and_padding(stemmed_sbs)\n",
    "id_yonhab = token_to_id_and_padding(stemmed_yonhab)\n",
    "id_ytn = token_to_id_and_padding(stemmed_ytn)"
   ]
  },
  {
   "cell_type": "code",
   "execution_count": 93,
   "metadata": {
    "ExecuteTime": {
     "end_time": "2020-08-26T06:48:02.887089Z",
     "start_time": "2020-08-26T06:48:02.865101Z"
    }
   },
   "outputs": [
    {
     "name": "stdout",
     "output_type": "stream",
     "text": [
      "<class 'pandas.core.frame.DataFrame'>\n",
      "RangeIndex: 724 entries, 0 to 723\n",
      "Data columns (total 22 columns):\n",
      " #   Column                      Non-Null Count  Dtype  \n",
      "---  ------                      --------------  -----  \n",
      " 0   Unnamed: 0                  724 non-null    int64  \n",
      " 1   Unnamed: 0.1                724 non-null    int64  \n",
      " 2   published_time              724 non-null    object \n",
      " 3   video_id                    724 non-null    object \n",
      " 4   video_url                   724 non-null    object \n",
      " 5   crawling_time               724 non-null    object \n",
      " 6   author                      724 non-null    object \n",
      " 7   title                       724 non-null    object \n",
      " 8   length                      724 non-null    float64\n",
      " 9   rating                      724 non-null    float64\n",
      " 10  views                       724 non-null    float64\n",
      " 11  thumbnail_url               724 non-null    object \n",
      " 12  captions                    724 non-null    object \n",
      " 13  description                 724 non-null    object \n",
      " 14  comments                    724 non-null    object \n",
      " 15  cleaned_description         724 non-null    object \n",
      " 16  each_comments_sentiment     724 non-null    object \n",
      " 17  average_comments_sentiment  724 non-null    float64\n",
      " 18  comments_sentiment_label    724 non-null    object \n",
      " 19  comments_sentiment_result   724 non-null    object \n",
      " 20  stemmed                     724 non-null    object \n",
      " 21  token_ids                   724 non-null    object \n",
      "dtypes: float64(4), int64(2), object(16)\n",
      "memory usage: 124.6+ KB\n"
     ]
    }
   ],
   "source": [
    "id_ytn.info()"
   ]
  },
  {
   "cell_type": "code",
   "execution_count": 98,
   "metadata": {
    "ExecuteTime": {
     "end_time": "2020-08-26T06:48:44.576295Z",
     "start_time": "2020-08-26T06:48:44.569299Z"
    }
   },
   "outputs": [
    {
     "name": "stdout",
     "output_type": "stream",
     "text": [
      "[5585, 0, 5330, 0, 0, 5859, 0, 0, 7905, 7078, 0, 5330, 0, 0, 0, 0, 7078, 5868, 5330, 0, 6116, 7782, 7141, 0, 7086, 6964, 141, 7096, 0, 6116, 0, 6966, 0, 5468, 0, 0, 6116, 6940, 0, 7086, 0, 7171, 7095, 0, 7096, 5886, 6536, 0, 7088, 7404, 7141, 5511, 0, 0, 7782, 0, 5561, 7096, 0, 0, 0, 6916, 7096, 0, 0, 0, 7905, 6903, 0, 0, 7096, 6999, 6265, 7086, 0, 0, 0, 7088, 0, 7782, 6999, 6265, 7086, 6966, 6410, 5804, 5822, 6983, 0, 0, 7095, 0, 6116, 0, 7782, 0, 0, 0, 6903, 0, 0, 6116, 7096, 7096, 0, 0, 6286, 6900, 0, 0, 6903, 0, 0, 6116, 6940, 6999, 0, 6903, 6821, 6629, 7141, 6972, 7078, 0, 5886, 0, 7096, 0, 7096, 6265, 7086, 0, 0, 0, 5468, 234, 7096, 0, 7207, 5666, 5468, 7207, 6412, 7337, 7088, 7404, 0, 6116, 0, 7782, 0, 7096, 7096, 7337, 0, 6534, 7096, 0, 7782, 0, 7088, 0, 0, 7788, 0, 7171, 0, 6896, 0, 7782, 6999, 0, 7171, 7096, 0, 0, 7295, 7096, 5850, 7096, 0, 5592, 0, 0, 6116, 6374, 0, 7096, 6307, 7078, 0, 0, 7088, 7140, 5330, 5377, 0, 7095, 0, 7088, 7404, 5398, 7096, 6150, 0, 0, 6896, 0, 7782, 0, 0, 6904, 0, 0, 6534, 7096, 5804, 5859, 0, 7782, 0, 7966, 6116, 0, 7096, 0, 5886, 0, 0, 0, 7096, 6265, 0, 7088, 0, 0, 6116, 0, 7095, 0, 6079, 6521, 7782, 0, 7086, 5837, 7565, 7318, 0, 7323, 5859, 0, 0, 0, 7086, 0, 7782, 0, 0, 0, 5822, 5760, 0, 0, 5416, 5330, 5655, 6964, 0, 7595, 6896, 0, 0, 7096, 0, 5760, 7724, 0, 7141, 6999, 0, 0, 7389, 7096, 0, 7096, 0, 0, 6903, 0, 0, 5330, 0, 6079, 0, 5398, 7096, 7096, 7969, 7095, 0, 6896, 0, 7088, 7276, 6629, 7141, 7318, 5330, 0, 0, 7731, 5330, 5886, 0, 7086, 0, 6536, 0, 7231, 7088, 5678, 5737, 0, 0, 0, 5859, 0, 0, 0, 0, 7902, 7088, 0, 0, 7171, 7086, 0, 0, 7782, 5398, 7417, 0, 0, 0, 6904, 0, 0, 7096, 7131, 7095, 0, 5468, 0, 6116, 0, 7782, 0, 7088, 7404, 5330, 7131, 7095, 0, 7088, 0, 7782, 0, 7318, 0, 7095, 0, 7088, 6374, 5439, 0, 0, 7096, 5354, 0, 7171, 7095, 0, 7096, 5886, 6536, 0, 7088, 0, 0, 6410, 0, 7788, 7141, 0, 6657, 0, 7782, 7271, 0, 0, 6629, 7141, 0, 0, 5592, 0, 7096, 0, 7088, 7276, 0, 7088, 7404, 7141, 7323, 5592, 0, 5377, 7086, 0, 0, 5886, 5439, 7782, 0, 6300, 7782, 6536, 0, 6900, 0, 7088, 7430, 6328, 7369, 0, 6896, 5701, 0, 0, 7096, 0, 6116, 0, 7782, 0, 6983, 7902, 7095, 0, 6116, 5798, 7420, 7078, 6265, 0, 7088, 0, 0, 5330, 5655, 6983, 0, 0, 6265, 6896, 7276, 7292, 7096, 0, 7088, 5678, 7276, 0, 0, 0, 6901, 0, 5330, 0, 6999, 5678, 7096, 0, 5454, 5886, 0, 0, 5330, 0, 0, 6896, 5980, 0, 6730, 7078, 0, 7088, 0, 0, 0, 7096, 0, 0, 7141, 7323, 5592, 5511, 6903, 0, 5924]\n"
     ]
    }
   ],
   "source": [
    "print(id_ytn.token_ids[0])"
   ]
  },
  {
   "cell_type": "markdown",
   "metadata": {},
   "source": [
    "# 필요없는 부분 제거"
   ]
  },
  {
   "cell_type": "code",
   "execution_count": 102,
   "metadata": {
    "ExecuteTime": {
     "end_time": "2020-08-26T06:52:30.431851Z",
     "start_time": "2020-08-26T06:52:30.421858Z"
    }
   },
   "outputs": [],
   "source": [
    "id_channel_a.drop(['Unnamed: 0', 'Unnamed: 0.1'], axis=1, inplace=True)"
   ]
  },
  {
   "cell_type": "code",
   "execution_count": 103,
   "metadata": {
    "ExecuteTime": {
     "end_time": "2020-08-26T06:52:31.505186Z",
     "start_time": "2020-08-26T06:52:31.494192Z"
    }
   },
   "outputs": [],
   "source": [
    "id_jtbc.drop(['Unnamed: 0', 'Unnamed: 0.1'], axis=1, inplace=True)"
   ]
  },
  {
   "cell_type": "code",
   "execution_count": 104,
   "metadata": {
    "ExecuteTime": {
     "end_time": "2020-08-26T06:52:32.883333Z",
     "start_time": "2020-08-26T06:52:32.871339Z"
    }
   },
   "outputs": [],
   "source": [
    "id_kbs.drop(['Unnamed: 0', 'Unnamed: 0.1'], axis=1, inplace=True)"
   ]
  },
  {
   "cell_type": "code",
   "execution_count": 105,
   "metadata": {
    "ExecuteTime": {
     "end_time": "2020-08-26T06:52:34.251481Z",
     "start_time": "2020-08-26T06:52:34.233494Z"
    }
   },
   "outputs": [],
   "source": [
    "id_mbc.drop(['Unnamed: 0', 'Unnamed: 0.1'], axis=1, inplace=True)"
   ]
  },
  {
   "cell_type": "code",
   "execution_count": 106,
   "metadata": {
    "ExecuteTime": {
     "end_time": "2020-08-26T06:52:35.554673Z",
     "start_time": "2020-08-26T06:52:35.542680Z"
    }
   },
   "outputs": [],
   "source": [
    "id_mbn.drop(['Unnamed: 0', 'Unnamed: 0.1'], axis=1, inplace=True)"
   ]
  },
  {
   "cell_type": "code",
   "execution_count": 107,
   "metadata": {
    "ExecuteTime": {
     "end_time": "2020-08-26T06:52:36.807895Z",
     "start_time": "2020-08-26T06:52:36.797902Z"
    }
   },
   "outputs": [],
   "source": [
    "id_sbs.drop(['Unnamed: 0', 'Unnamed: 0.1'], axis=1, inplace=True)"
   ]
  },
  {
   "cell_type": "code",
   "execution_count": 108,
   "metadata": {
    "ExecuteTime": {
     "end_time": "2020-08-26T06:52:38.005155Z",
     "start_time": "2020-08-26T06:52:37.992160Z"
    }
   },
   "outputs": [],
   "source": [
    "id_yonhab.drop(['Unnamed: 0', 'Unnamed: 0.1'], axis=1, inplace=True)"
   ]
  },
  {
   "cell_type": "code",
   "execution_count": 100,
   "metadata": {
    "ExecuteTime": {
     "end_time": "2020-08-26T06:51:07.741423Z",
     "start_time": "2020-08-26T06:51:07.702449Z"
    }
   },
   "outputs": [],
   "source": [
    "id_ytn.drop(['Unnamed: 0', 'Unnamed: 0.1'], axis=1, inplace=True)"
   ]
  },
  {
   "cell_type": "code",
   "execution_count": 109,
   "metadata": {
    "ExecuteTime": {
     "end_time": "2020-08-26T06:52:43.100991Z",
     "start_time": "2020-08-26T06:52:43.079003Z"
    }
   },
   "outputs": [
    {
     "name": "stdout",
     "output_type": "stream",
     "text": [
      "<class 'pandas.core.frame.DataFrame'>\n",
      "RangeIndex: 188 entries, 0 to 187\n",
      "Data columns (total 21 columns):\n",
      " #   Column                      Non-Null Count  Dtype  \n",
      "---  ------                      --------------  -----  \n",
      " 0   published_time              188 non-null    object \n",
      " 1   video_id                    188 non-null    object \n",
      " 2   video_url                   188 non-null    object \n",
      " 3   crawling_time               188 non-null    object \n",
      " 4   author                      188 non-null    object \n",
      " 5   title                       188 non-null    object \n",
      " 6   length                      188 non-null    float64\n",
      " 7   rating                      188 non-null    float64\n",
      " 8   views                       188 non-null    float64\n",
      " 9   thumbnail_url               188 non-null    object \n",
      " 10  captions                    188 non-null    object \n",
      " 11  description                 188 non-null    object \n",
      " 12  comments                    188 non-null    object \n",
      " 13  article_url                 188 non-null    object \n",
      " 14  cleaned_description         188 non-null    object \n",
      " 15  each_comments_sentiment     188 non-null    object \n",
      " 16  average_comments_sentiment  188 non-null    float64\n",
      " 17  comments_sentiment_label    188 non-null    object \n",
      " 18  comments_sentiment_result   188 non-null    object \n",
      " 19  stemmed                     188 non-null    object \n",
      " 20  token_ids                   188 non-null    object \n",
      "dtypes: float64(4), object(17)\n",
      "memory usage: 31.0+ KB\n"
     ]
    }
   ],
   "source": [
    "id_jtbc.info()"
   ]
  },
  {
   "cell_type": "code",
   "execution_count": 110,
   "metadata": {
    "ExecuteTime": {
     "end_time": "2020-08-26T06:52:51.376857Z",
     "start_time": "2020-08-26T06:52:51.353869Z"
    }
   },
   "outputs": [
    {
     "name": "stdout",
     "output_type": "stream",
     "text": [
      "<class 'pandas.core.frame.DataFrame'>\n",
      "RangeIndex: 724 entries, 0 to 723\n",
      "Data columns (total 20 columns):\n",
      " #   Column                      Non-Null Count  Dtype  \n",
      "---  ------                      --------------  -----  \n",
      " 0   published_time              724 non-null    object \n",
      " 1   video_id                    724 non-null    object \n",
      " 2   video_url                   724 non-null    object \n",
      " 3   crawling_time               724 non-null    object \n",
      " 4   author                      724 non-null    object \n",
      " 5   title                       724 non-null    object \n",
      " 6   length                      724 non-null    float64\n",
      " 7   rating                      724 non-null    float64\n",
      " 8   views                       724 non-null    float64\n",
      " 9   thumbnail_url               724 non-null    object \n",
      " 10  captions                    724 non-null    object \n",
      " 11  description                 724 non-null    object \n",
      " 12  comments                    724 non-null    object \n",
      " 13  cleaned_description         724 non-null    object \n",
      " 14  each_comments_sentiment     724 non-null    object \n",
      " 15  average_comments_sentiment  724 non-null    float64\n",
      " 16  comments_sentiment_label    724 non-null    object \n",
      " 17  comments_sentiment_result   724 non-null    object \n",
      " 18  stemmed                     724 non-null    object \n",
      " 19  token_ids                   724 non-null    object \n",
      "dtypes: float64(4), object(16)\n",
      "memory usage: 113.2+ KB\n"
     ]
    }
   ],
   "source": [
    "id_ytn.info()"
   ]
  },
  {
   "cell_type": "code",
   "execution_count": 117,
   "metadata": {
    "ExecuteTime": {
     "end_time": "2020-08-26T06:59:38.261342Z",
     "start_time": "2020-08-26T06:59:36.884197Z"
    }
   },
   "outputs": [],
   "source": [
    "id_channel_a.to_csv('youtube_0816_0822/convert_token_to_id/id_channel_a_0816_0822.csv')\n",
    "id_jtbc.to_csv('youtube_0816_0822/convert_token_to_id/id_jtbc_0816_0822.csv')\n",
    "id_kbs.to_csv('youtube_0816_0822/convert_token_to_id/id_kbs_0816_0822.csv')\n",
    "id_mbc.to_csv('youtube_0816_0822/convert_token_to_id/id_mbc_0816_0822.csv')\n",
    "id_mbn.to_csv('youtube_0816_0822/convert_token_to_id/id_mbn_0816_0822.csv')\n",
    "id_sbs.to_csv('youtube_0816_0822/convert_token_to_id/id_sbs_0816_0822.csv')\n",
    "id_yonhab.to_csv('youtube_0816_0822/convert_token_to_id/id_yonhab_0816_0822.csv')\n",
    "id_ytn.to_csv('youtube_0816_0822/convert_token_to_id/id_ytn_0816_0822.csv')"
   ]
  },
  {
   "cell_type": "markdown",
   "metadata": {},
   "source": [
    "#불러올 때 index_col=0 옵션 사용\n",
    "\n",
    "#a = pd.read_csv('youtube_0816_0822/convert_token_to_id/id_channel_a_0816_0822.csv', index_col=0)\n",
    "\n",
    "DataFrame 불러온 다음에 token_ids 열을 model.predict에 사용한 뒤 tokenizer.convert_ids_to_tokens()으로 다시 token으로 변환"
   ]
  },
  {
   "cell_type": "code",
   "execution_count": null,
   "metadata": {},
   "outputs": [],
   "source": []
  }
 ],
 "metadata": {
  "kernelspec": {
   "display_name": "Python 3",
   "language": "python",
   "name": "python3"
  },
  "language_info": {
   "codemirror_mode": {
    "name": "ipython",
    "version": 3
   },
   "file_extension": ".py",
   "mimetype": "text/x-python",
   "name": "python",
   "nbconvert_exporter": "python",
   "pygments_lexer": "ipython3",
   "version": "3.7.7"
  },
  "varInspector": {
   "cols": {
    "lenName": 16,
    "lenType": 16,
    "lenVar": 40
   },
   "kernels_config": {
    "python": {
     "delete_cmd_postfix": "",
     "delete_cmd_prefix": "del ",
     "library": "var_list.py",
     "varRefreshCmd": "print(var_dic_list())"
    },
    "r": {
     "delete_cmd_postfix": ") ",
     "delete_cmd_prefix": "rm(",
     "library": "var_list.r",
     "varRefreshCmd": "cat(var_dic_list()) "
    }
   },
   "types_to_exclude": [
    "module",
    "function",
    "builtin_function_or_method",
    "instance",
    "_Feature"
   ],
   "window_display": false
  }
 },
 "nbformat": 4,
 "nbformat_minor": 4
}
