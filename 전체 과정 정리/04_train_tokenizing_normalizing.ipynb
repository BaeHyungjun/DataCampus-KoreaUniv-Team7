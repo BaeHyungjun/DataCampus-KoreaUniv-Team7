{
 "cells": [
  {
   "cell_type": "markdown",
   "metadata": {},
   "source": [
    "전처리 중간과정을 진행할 때는 import, 한글깨짐 부분 실행하고 바로 해당 전처리 부분으로 넘어가서 db 가져오면 됨"
   ]
  },
  {
   "cell_type": "code",
   "execution_count": 1,
   "metadata": {},
   "outputs": [],
   "source": [
    "# 시간 관리 및 데이터 정제\n",
    "import datetime\n",
    "import re\n",
    "\n",
    "# 데이터 관리\n",
    "import sqlite3\n",
    "import pandas as pd\n",
    "import numpy as np\n",
    "\n",
    "# 텍스트 처리\n",
    "from konlpy.tag import Hannanum\n",
    "from nltk import Text\n",
    "from nltk.tokenize import sent_tokenize, regexp_tokenize\n",
    "\n",
    "# 시각화\n",
    "import matplotlib.pyplot as plt\n",
    "import matplotlib as mpl\n",
    "import seaborn as sns\n",
    "\n",
    "# 기타\n",
    "from collections import Counter\n",
    "import ast\n",
    "import pickle"
   ]
  },
  {
   "cell_type": "code",
   "execution_count": 2,
   "metadata": {},
   "outputs": [],
   "source": [
    "# 한글깨짐 해결\n",
    "plt.rcParams[\"font.family\"] = \"Malgun Gothic\"\n",
    "plt.rcParams[\"font.size\"] = 12\n",
    "plt.rcParams[\"figure.figsize\"] = (14,4)\n",
    "\n",
    "# 마이너스 깨짐 해결\n",
    "mpl.rcParams['axes.unicode_minus'] = False"
   ]
  },
  {
   "cell_type": "markdown",
   "metadata": {},
   "source": [
    "# Tokenizing & Get Nouns"
   ]
  },
  {
   "cell_type": "markdown",
   "metadata": {},
   "source": [
    "## Data Load (cleaned)"
   ]
  },
  {
   "cell_type": "code",
   "execution_count": 3,
   "metadata": {},
   "outputs": [],
   "source": [
    "conn = sqlite3.connect('../../data/news_cleaned.db')\n",
    "cur = conn.cursor()"
   ]
  },
  {
   "cell_type": "code",
   "execution_count": 4,
   "metadata": {},
   "outputs": [
    {
     "data": {
      "text/plain": [
       "(100000, 7)"
      ]
     },
     "execution_count": 4,
     "metadata": {},
     "output_type": "execute_result"
    }
   ],
   "source": [
    "query = cur.execute('SELECT * FROM news')\n",
    "cols = [column[0] for column in query.description]\n",
    "news_cleaned = pd.DataFrame.from_records(data=query.fetchall(), columns=cols)\n",
    "news_cleaned.shape"
   ]
  },
  {
   "cell_type": "code",
   "execution_count": 5,
   "metadata": {},
   "outputs": [],
   "source": [
    "cur.close()\n",
    "conn.close()"
   ]
  },
  {
   "cell_type": "markdown",
   "metadata": {},
   "source": [
    "## 형태소분석 - 명사 추출"
   ]
  },
  {
   "cell_type": "code",
   "execution_count": 5,
   "metadata": {},
   "outputs": [],
   "source": [
    "han = Hannanum()"
   ]
  },
  {
   "cell_type": "code",
   "execution_count": 6,
   "metadata": {},
   "outputs": [],
   "source": [
    "def get_nouns(row, col_name='body'):\n",
    "    nouns_list = han.nouns(row[col_name])\n",
    "    if row['id'] % 10000 == 0:\n",
    "        print('{0} id {1} is processed'.format(datetime.datetime.now(), row['id']))\n",
    "    return nouns_list"
   ]
  },
  {
   "cell_type": "code",
   "execution_count": 9,
   "metadata": {
    "scrolled": false
   },
   "outputs": [
    {
     "name": "stdout",
     "output_type": "stream",
     "text": [
      "2020-08-27 23:39:40.032654 id 0 is processed\n",
      "2020-08-27 23:57:19.599290 id 10000 is processed\n",
      "2020-08-28 00:14:28.932532 id 20000 is processed\n",
      "2020-08-28 00:31:53.345109 id 30000 is processed\n",
      "2020-08-28 00:51:47.546000 id 40000 is processed\n",
      "2020-08-28 01:11:45.657429 id 50000 is processed\n",
      "2020-08-28 01:22:49.533267 id 60000 is processed\n",
      "2020-08-28 01:35:06.314902 id 70000 is processed\n",
      "2020-08-28 01:47:34.390007 id 80000 is processed\n",
      "2020-08-28 01:59:49.244506 id 90000 is processed\n"
     ]
    }
   ],
   "source": [
    "news_cleaned['body_nouns'] = news_cleaned.apply(get_nouns, col_name='body', axis=1)"
   ]
  },
  {
   "cell_type": "code",
   "execution_count": 10,
   "metadata": {
    "scrolled": true
   },
   "outputs": [
    {
     "name": "stdout",
     "output_type": "stream",
     "text": [
      "2020-08-28 02:12:41.542850 id 0 is processed\n",
      "2020-08-28 02:15:59.426611 id 10000 is processed\n",
      "2020-08-28 02:19:16.208246 id 20000 is processed\n",
      "2020-08-28 02:22:38.990867 id 30000 is processed\n",
      "2020-08-28 02:26:02.996218 id 40000 is processed\n",
      "2020-08-28 02:29:25.954369 id 50000 is processed\n",
      "2020-08-28 02:32:28.847219 id 60000 is processed\n",
      "2020-08-28 02:35:38.092017 id 70000 is processed\n",
      "2020-08-28 02:38:46.339516 id 80000 is processed\n",
      "2020-08-28 02:42:00.917081 id 90000 is processed\n"
     ]
    }
   ],
   "source": [
    "news_cleaned['summary_nouns'] = news_cleaned.apply(get_nouns, col_name='summary', axis=1)"
   ]
  },
  {
   "cell_type": "code",
   "execution_count": 14,
   "metadata": {},
   "outputs": [],
   "source": [
    "news_cleaned.to_pickle('../../data/news_nouns.pickle')"
   ]
  },
  {
   "cell_type": "markdown",
   "metadata": {},
   "source": [
    "summary 부분 다시 실행"
   ]
  },
  {
   "cell_type": "code",
   "execution_count": 3,
   "metadata": {},
   "outputs": [],
   "source": [
    "news_tokenized = pd.read_pickle('../../data/news_nouns.pickle')"
   ]
  },
  {
   "cell_type": "code",
   "execution_count": 8,
   "metadata": {},
   "outputs": [
    {
     "name": "stdout",
     "output_type": "stream",
     "text": [
      "2020-08-31 02:40:29.434352 id 0 is processed\n",
      "2020-08-31 02:44:45.103518 id 10000 is processed\n",
      "2020-08-31 02:48:55.614482 id 20000 is processed\n",
      "2020-08-31 02:53:20.017287 id 30000 is processed\n",
      "2020-08-31 02:57:38.553787 id 40000 is processed\n",
      "2020-08-31 03:02:10.436584 id 50000 is processed\n",
      "2020-08-31 03:06:11.673352 id 60000 is processed\n",
      "2020-08-31 03:10:53.546880 id 70000 is processed\n",
      "2020-08-31 03:15:10.360832 id 80000 is processed\n",
      "2020-08-31 03:19:53.909429 id 90000 is processed\n"
     ]
    }
   ],
   "source": [
    "news_tokenized['summary_nouns'] = news_tokenized.apply(get_nouns, col_name='summary', axis=1)"
   ]
  },
  {
   "cell_type": "code",
   "execution_count": 81,
   "metadata": {},
   "outputs": [
    {
     "data": {
      "text/html": [
       "<div>\n",
       "<style scoped>\n",
       "    .dataframe tbody tr th:only-of-type {\n",
       "        vertical-align: middle;\n",
       "    }\n",
       "\n",
       "    .dataframe tbody tr th {\n",
       "        vertical-align: top;\n",
       "    }\n",
       "\n",
       "    .dataframe thead th {\n",
       "        text-align: right;\n",
       "    }\n",
       "</style>\n",
       "<table border=\"1\" class=\"dataframe\">\n",
       "  <thead>\n",
       "    <tr style=\"text-align: right;\">\n",
       "      <th></th>\n",
       "      <th>id</th>\n",
       "      <th>title</th>\n",
       "      <th>date</th>\n",
       "      <th>body</th>\n",
       "      <th>summary</th>\n",
       "      <th>link</th>\n",
       "      <th>site</th>\n",
       "      <th>body_nouns</th>\n",
       "      <th>summary_nouns</th>\n",
       "    </tr>\n",
       "  </thead>\n",
       "  <tbody>\n",
       "    <tr>\n",
       "      <th>7222</th>\n",
       "      <td>7222</td>\n",
       "      <td>넷플릭스 대항마라던 '애플tv+' 한국선 못 본다…또 '홀대 논란'</td>\n",
       "      <td>2019.11.05. 오후 1:54</td>\n",
       "      <td>애플tv+, 100여개 국가서 서비스넷플릭스보다 저렴한 가격이 경쟁력국내선 그림의 ...</td>\n",
       "      <td>애플이 출시한 온라인동영상서비스 애플tv+ 가 서비스 국가에서 한국을 제외해 또 한...</td>\n",
       "      <td>https://news.naver.com/main/ranking/read.nhn?r...</td>\n",
       "      <td>naver</td>\n",
       "      <td>[애플tv+,, 100, 개, 국가, 서비스넷플릭스보다, 저렴한, 가격, 경쟁력국내...</td>\n",
       "      <td>[애플, 출시, 온라인동영상서비스, 애플tv+, 서비스, 국가, 한국, 제외, 번,...</td>\n",
       "    </tr>\n",
       "    <tr>\n",
       "      <th>7223</th>\n",
       "      <td>7223</td>\n",
       "      <td>세상이 환호하는 타다의 혁신, ‘불법파견’에서 나왔나</td>\n",
       "      <td>2019.11.05. 오후 3:36</td>\n",
       "      <td>타다선 플랫폼노동자라 주장하지만프리랜서 인력공급 업체 자료·증언검찰 공소장 적시 사...</td>\n",
       "      <td>기사 포함 렌터카 실시간 호출서비스 타다 가 10월28일 서울중앙지검에서 무면허 여...</td>\n",
       "      <td>https://news.naver.com/main/ranking/read.nhn?r...</td>\n",
       "      <td>naver</td>\n",
       "      <td>[]</td>\n",
       "      <td>[기사, 포함, 렌터카, 실시간, 호출서비스, 10월28, 서울중앙지검, 무면허, ...</td>\n",
       "    </tr>\n",
       "    <tr>\n",
       "      <th>7224</th>\n",
       "      <td>7224</td>\n",
       "      <td>분화구까지 똑같이…NASA도 탐내는 한국의 '달 실험실'</td>\n",
       "      <td>2019.11.05. 오후 2:11</td>\n",
       "      <td>5일 한국건설기술연구원 미래융합관에 설치된 지반열 진공챔버 에서 로버를 테스트하고 ...</td>\n",
       "      <td>25톤 규모의 인공월면토가 쌓여 있는 쏘일카트 위로 주행 테스트 중인 로버의 우측 ...</td>\n",
       "      <td>https://news.naver.com/main/ranking/read.nhn?r...</td>\n",
       "      <td>naver</td>\n",
       "      <td>[]</td>\n",
       "      <td>[25톤, 규모, 인공월면토, 쏘일카트, 위, 주행, 테스트, 중, 로버, 우측, ...</td>\n",
       "    </tr>\n",
       "    <tr>\n",
       "      <th>7225</th>\n",
       "      <td>7225</td>\n",
       "      <td>표적항암제 `리보세라닙`…내년 4분기 FDA 허가 기대</td>\n",
       "      <td>2019.11.04. 오후 5:15</td>\n",
       "      <td>진양곤 에이치엘비 회장내년 4월 허가신청서 제출일본으로 기술수출 협의중중동에 합작사...</td>\n",
       "      <td>위암치료제 리보세라닙 임상 3상을 마무리하고 미국 품목허가를 준비 중인 진양곤 에이...</td>\n",
       "      <td>https://news.naver.com/main/ranking/read.nhn?r...</td>\n",
       "      <td>naver</td>\n",
       "      <td>[플랫폼노동자, 주장하지만프리랜서, 인력공급, 업체, 자료·증언검찰, 공소장, 적시...</td>\n",
       "      <td>[위암치료제, 리보세라닙, 임상, 3상, 마무리, 미국, 품목허가, 준비, 중, 진...</td>\n",
       "    </tr>\n",
       "  </tbody>\n",
       "</table>\n",
       "</div>"
      ],
      "text/plain": [
       "        id                                  title                 date  \\\n",
       "7222  7222  넷플릭스 대항마라던 '애플tv+' 한국선 못 본다…또 '홀대 논란'  2019.11.05. 오후 1:54   \n",
       "7223  7223          세상이 환호하는 타다의 혁신, ‘불법파견’에서 나왔나  2019.11.05. 오후 3:36   \n",
       "7224  7224        분화구까지 똑같이…NASA도 탐내는 한국의 '달 실험실'  2019.11.05. 오후 2:11   \n",
       "7225  7225         표적항암제 `리보세라닙`…내년 4분기 FDA 허가 기대  2019.11.04. 오후 5:15   \n",
       "\n",
       "                                                   body  \\\n",
       "7222  애플tv+, 100여개 국가서 서비스넷플릭스보다 저렴한 가격이 경쟁력국내선 그림의 ...   \n",
       "7223  타다선 플랫폼노동자라 주장하지만프리랜서 인력공급 업체 자료·증언검찰 공소장 적시 사...   \n",
       "7224  5일 한국건설기술연구원 미래융합관에 설치된 지반열 진공챔버 에서 로버를 테스트하고 ...   \n",
       "7225  진양곤 에이치엘비 회장내년 4월 허가신청서 제출일본으로 기술수출 협의중중동에 합작사...   \n",
       "\n",
       "                                                summary  \\\n",
       "7222  애플이 출시한 온라인동영상서비스 애플tv+ 가 서비스 국가에서 한국을 제외해 또 한...   \n",
       "7223  기사 포함 렌터카 실시간 호출서비스 타다 가 10월28일 서울중앙지검에서 무면허 여...   \n",
       "7224  25톤 규모의 인공월면토가 쌓여 있는 쏘일카트 위로 주행 테스트 중인 로버의 우측 ...   \n",
       "7225  위암치료제 리보세라닙 임상 3상을 마무리하고 미국 품목허가를 준비 중인 진양곤 에이...   \n",
       "\n",
       "                                                   link   site  \\\n",
       "7222  https://news.naver.com/main/ranking/read.nhn?r...  naver   \n",
       "7223  https://news.naver.com/main/ranking/read.nhn?r...  naver   \n",
       "7224  https://news.naver.com/main/ranking/read.nhn?r...  naver   \n",
       "7225  https://news.naver.com/main/ranking/read.nhn?r...  naver   \n",
       "\n",
       "                                             body_nouns  \\\n",
       "7222  [애플tv+,, 100, 개, 국가, 서비스넷플릭스보다, 저렴한, 가격, 경쟁력국내...   \n",
       "7223                                                 []   \n",
       "7224                                                 []   \n",
       "7225  [플랫폼노동자, 주장하지만프리랜서, 인력공급, 업체, 자료·증언검찰, 공소장, 적시...   \n",
       "\n",
       "                                          summary_nouns  \n",
       "7222  [애플, 출시, 온라인동영상서비스, 애플tv+, 서비스, 국가, 한국, 제외, 번,...  \n",
       "7223  [기사, 포함, 렌터카, 실시간, 호출서비스, 10월28, 서울중앙지검, 무면허, ...  \n",
       "7224  [25톤, 규모, 인공월면토, 쏘일카트, 위, 주행, 테스트, 중, 로버, 우측, ...  \n",
       "7225  [위암치료제, 리보세라닙, 임상, 3상, 마무리, 미국, 품목허가, 준비, 중, 진...  "
      ]
     },
     "execution_count": 81,
     "metadata": {},
     "output_type": "execute_result"
    }
   ],
   "source": [
    "news_tokenized.iloc[7222:7226]"
   ]
  },
  {
   "cell_type": "code",
   "execution_count": 83,
   "metadata": {},
   "outputs": [],
   "source": [
    "body_nouns = news_tokenized[['body_nouns']].copy()"
   ]
  },
  {
   "cell_type": "code",
   "execution_count": 84,
   "metadata": {},
   "outputs": [
    {
     "name": "stdout",
     "output_type": "stream",
     "text": [
      "(100000, 1)\n",
      "(99998, 1)\n"
     ]
    }
   ],
   "source": [
    "print(body_nouns.shape)\n",
    "body_nouns.drop(index=[7223, 7224], inplace=True)\n",
    "body_nouns.reset_index(inplace=True, drop=True)\n",
    "print(body_nouns.shape)"
   ]
  },
  {
   "cell_type": "code",
   "execution_count": 90,
   "metadata": {},
   "outputs": [],
   "source": [
    "news_tokenized['body_nouns'] = body_nouns"
   ]
  },
  {
   "cell_type": "code",
   "execution_count": 116,
   "metadata": {
    "scrolled": true
   },
   "outputs": [
    {
     "data": {
      "text/html": [
       "<div>\n",
       "<style scoped>\n",
       "    .dataframe tbody tr th:only-of-type {\n",
       "        vertical-align: middle;\n",
       "    }\n",
       "\n",
       "    .dataframe tbody tr th {\n",
       "        vertical-align: top;\n",
       "    }\n",
       "\n",
       "    .dataframe thead th {\n",
       "        text-align: right;\n",
       "    }\n",
       "</style>\n",
       "<table border=\"1\" class=\"dataframe\">\n",
       "  <thead>\n",
       "    <tr style=\"text-align: right;\">\n",
       "      <th></th>\n",
       "      <th>id</th>\n",
       "      <th>title</th>\n",
       "      <th>date</th>\n",
       "      <th>body</th>\n",
       "      <th>summary</th>\n",
       "      <th>link</th>\n",
       "      <th>site</th>\n",
       "      <th>body_nouns</th>\n",
       "      <th>summary_nouns</th>\n",
       "    </tr>\n",
       "  </thead>\n",
       "  <tbody>\n",
       "    <tr>\n",
       "      <th>13657</th>\n",
       "      <td>13657</td>\n",
       "      <td>[핫클립]포르쉐가 만든 스타워즈 전투기 '페가수스'</td>\n",
       "      <td>2019.12.16. 오후 5:14</td>\n",
       "      <td>스타워즈9 개봉관서 공개 152c미터 초정밀 축소 모형슈퍼카 제조사 포르쉐가 이번에...</td>\n",
       "      <td>슈퍼카 제조사 포르쉐가 이번에 영화사 루카스필름과 손잡고 스타워즈에 등장하는 우주 ...</td>\n",
       "      <td>https://news.naver.com/main/ranking/read.nhn?r...</td>\n",
       "      <td>naver</td>\n",
       "      <td>[스타워즈9, 개봉관, 공개, 152c미터, 초정밀, 축소, 모형슈퍼카, 조사, 포...</td>\n",
       "      <td>[슈퍼카, 조사, 포르쉐, 이번, 영화사, 루카스필름, 스타워즈, 등장, 우주, 비...</td>\n",
       "    </tr>\n",
       "    <tr>\n",
       "      <th>13658</th>\n",
       "      <td>13658</td>\n",
       "      <td>공부 잘하려면 IQ보다 EQ</td>\n",
       "      <td>2019.12.15. 오후 3:21</td>\n",
       "      <td>감성지능 높아야 학교성적도 우수 - 감성지능이 높아야 학교성적도 우수하다는 연구결과...</td>\n",
       "      <td>공부를 잘하는 데 필요한 것이 무엇일지에 대해 질문을 던지면 높은 지능, 꾸준한 노...</td>\n",
       "      <td>https://news.naver.com/main/ranking/read.nhn?r...</td>\n",
       "      <td>naver</td>\n",
       "      <td>[]</td>\n",
       "      <td>[공부, 데, 필요, 것, 무엇, 지, 질문, 지능, 한, 노력, 인내심, 등, 사...</td>\n",
       "    </tr>\n",
       "    <tr>\n",
       "      <th>13659</th>\n",
       "      <td>13659</td>\n",
       "      <td>타임이 선정한 2010년대 최고의 애플 기기</td>\n",
       "      <td>2019.12.16. 오후 5:47</td>\n",
       "      <td>&lt;타임&gt;지는 12월14일(현지시간) 2010년부터 올해까지 10년 동안 출시된 사람...</td>\n",
       "      <td>&lt;타임&gt;지는 12월14일 2010년부터 올해까지 10년 동안 출시된 사람들의 일상과...</td>\n",
       "      <td>https://news.naver.com/main/ranking/read.nhn?r...</td>\n",
       "      <td>naver</td>\n",
       "      <td>[감성지능, 학교성적, 우수, 감성지능, 학교성적, 우수, 연구결과, 픽사베, 제공...</td>\n",
       "      <td>[타, 지, 12월14, 2010년, 올해, 10년, 동안, 출시, 사람, 일상, ...</td>\n",
       "    </tr>\n",
       "  </tbody>\n",
       "</table>\n",
       "</div>"
      ],
      "text/plain": [
       "          id                         title                 date  \\\n",
       "13657  13657  [핫클립]포르쉐가 만든 스타워즈 전투기 '페가수스'  2019.12.16. 오후 5:14   \n",
       "13658  13658               공부 잘하려면 IQ보다 EQ  2019.12.15. 오후 3:21   \n",
       "13659  13659      타임이 선정한 2010년대 최고의 애플 기기  2019.12.16. 오후 5:47   \n",
       "\n",
       "                                                    body  \\\n",
       "13657  스타워즈9 개봉관서 공개 152c미터 초정밀 축소 모형슈퍼카 제조사 포르쉐가 이번에...   \n",
       "13658  감성지능 높아야 학교성적도 우수 - 감성지능이 높아야 학교성적도 우수하다는 연구결과...   \n",
       "13659  <타임>지는 12월14일(현지시간) 2010년부터 올해까지 10년 동안 출시된 사람...   \n",
       "\n",
       "                                                 summary  \\\n",
       "13657  슈퍼카 제조사 포르쉐가 이번에 영화사 루카스필름과 손잡고 스타워즈에 등장하는 우주 ...   \n",
       "13658  공부를 잘하는 데 필요한 것이 무엇일지에 대해 질문을 던지면 높은 지능, 꾸준한 노...   \n",
       "13659  <타임>지는 12월14일 2010년부터 올해까지 10년 동안 출시된 사람들의 일상과...   \n",
       "\n",
       "                                                    link   site  \\\n",
       "13657  https://news.naver.com/main/ranking/read.nhn?r...  naver   \n",
       "13658  https://news.naver.com/main/ranking/read.nhn?r...  naver   \n",
       "13659  https://news.naver.com/main/ranking/read.nhn?r...  naver   \n",
       "\n",
       "                                              body_nouns  \\\n",
       "13657  [스타워즈9, 개봉관, 공개, 152c미터, 초정밀, 축소, 모형슈퍼카, 조사, 포...   \n",
       "13658                                                 []   \n",
       "13659  [감성지능, 학교성적, 우수, 감성지능, 학교성적, 우수, 연구결과, 픽사베, 제공...   \n",
       "\n",
       "                                           summary_nouns  \n",
       "13657  [슈퍼카, 조사, 포르쉐, 이번, 영화사, 루카스필름, 스타워즈, 등장, 우주, 비...  \n",
       "13658  [공부, 데, 필요, 것, 무엇, 지, 질문, 지능, 한, 노력, 인내심, 등, 사...  \n",
       "13659  [타, 지, 12월14, 2010년, 올해, 10년, 동안, 출시, 사람, 일상, ...  "
      ]
     },
     "execution_count": 116,
     "metadata": {},
     "output_type": "execute_result"
    }
   ],
   "source": [
    "news_tokenized.iloc[13657:13660]"
   ]
  },
  {
   "cell_type": "code",
   "execution_count": 117,
   "metadata": {},
   "outputs": [],
   "source": [
    "body_nouns = news_tokenized[['body_nouns']].copy()"
   ]
  },
  {
   "cell_type": "code",
   "execution_count": 118,
   "metadata": {},
   "outputs": [
    {
     "name": "stdout",
     "output_type": "stream",
     "text": [
      "(100000, 1)\n",
      "(99999, 1)\n"
     ]
    }
   ],
   "source": [
    "print(body_nouns.shape)\n",
    "body_nouns.drop(index=[13658], inplace=True)\n",
    "body_nouns.reset_index(inplace=True, drop=True)\n",
    "print(body_nouns.shape)"
   ]
  },
  {
   "cell_type": "code",
   "execution_count": 119,
   "metadata": {
    "scrolled": true
   },
   "outputs": [
    {
     "data": {
      "text/html": [
       "<div>\n",
       "<style scoped>\n",
       "    .dataframe tbody tr th:only-of-type {\n",
       "        vertical-align: middle;\n",
       "    }\n",
       "\n",
       "    .dataframe tbody tr th {\n",
       "        vertical-align: top;\n",
       "    }\n",
       "\n",
       "    .dataframe thead th {\n",
       "        text-align: right;\n",
       "    }\n",
       "</style>\n",
       "<table border=\"1\" class=\"dataframe\">\n",
       "  <thead>\n",
       "    <tr style=\"text-align: right;\">\n",
       "      <th></th>\n",
       "      <th>body_nouns</th>\n",
       "    </tr>\n",
       "  </thead>\n",
       "  <tbody>\n",
       "    <tr>\n",
       "      <th>0</th>\n",
       "      <td>[중증, 폐질환, 유발, 가능성, 미국서, 530건, 의심환자, 발생, 8명, 사망...</td>\n",
       "    </tr>\n",
       "    <tr>\n",
       "      <th>1</th>\n",
       "      <td>[23일, 제주, 최대, 600밀리미터, 물폭탄, 제17호, 태풍, 타파, 한반도,...</td>\n",
       "    </tr>\n",
       "    <tr>\n",
       "      <th>2</th>\n",
       "      <td>[비바람, 때문, 행인, 우산, 토요일, 21일, 제17호, 태풍, 타파, 영향, ...</td>\n",
       "    </tr>\n",
       "    <tr>\n",
       "      <th>3</th>\n",
       "      <td>[김현주, 갱년기(22), 추석연휴, 남편, 딸, 제주도, 나, 일정상, 명절, 당...</td>\n",
       "    </tr>\n",
       "    <tr>\n",
       "      <th>4</th>\n",
       "      <td>[1905년, 9월20, 고종, 미국, 시어도, 루즈벨트, 대통령의, 딸, 앨리스와...</td>\n",
       "    </tr>\n",
       "    <tr>\n",
       "      <th>...</th>\n",
       "      <td>...</td>\n",
       "    </tr>\n",
       "    <tr>\n",
       "      <th>99994</th>\n",
       "      <td>[마무리, 투수, 붕괴, 결과, 치열, 접전, 두산, 1일, 창원, 파크, 2020...</td>\n",
       "    </tr>\n",
       "    <tr>\n",
       "      <th>99995</th>\n",
       "      <td>[토트넘, 홋스퍼, 공격진, 보강, 성공, 데, 리, 메일, 2일(한국시간), 토트...</td>\n",
       "    </tr>\n",
       "    <tr>\n",
       "      <th>99996</th>\n",
       "      <td>[롯데, 자이언츠, 허문회, 감독, 전준우, 재치, 주루, 플레이, 생각, 전준우,...</td>\n",
       "    </tr>\n",
       "    <tr>\n",
       "      <th>99997</th>\n",
       "      <td>NaN</td>\n",
       "    </tr>\n",
       "    <tr>\n",
       "      <th>99998</th>\n",
       "      <td>NaN</td>\n",
       "    </tr>\n",
       "  </tbody>\n",
       "</table>\n",
       "<p>99999 rows × 1 columns</p>\n",
       "</div>"
      ],
      "text/plain": [
       "                                              body_nouns\n",
       "0      [중증, 폐질환, 유발, 가능성, 미국서, 530건, 의심환자, 발생, 8명, 사망...\n",
       "1      [23일, 제주, 최대, 600밀리미터, 물폭탄, 제17호, 태풍, 타파, 한반도,...\n",
       "2      [비바람, 때문, 행인, 우산, 토요일, 21일, 제17호, 태풍, 타파, 영향, ...\n",
       "3      [김현주, 갱년기(22), 추석연휴, 남편, 딸, 제주도, 나, 일정상, 명절, 당...\n",
       "4      [1905년, 9월20, 고종, 미국, 시어도, 루즈벨트, 대통령의, 딸, 앨리스와...\n",
       "...                                                  ...\n",
       "99994  [마무리, 투수, 붕괴, 결과, 치열, 접전, 두산, 1일, 창원, 파크, 2020...\n",
       "99995  [토트넘, 홋스퍼, 공격진, 보강, 성공, 데, 리, 메일, 2일(한국시간), 토트...\n",
       "99996  [롯데, 자이언츠, 허문회, 감독, 전준우, 재치, 주루, 플레이, 생각, 전준우,...\n",
       "99997                                                NaN\n",
       "99998                                                NaN\n",
       "\n",
       "[99999 rows x 1 columns]"
      ]
     },
     "execution_count": 119,
     "metadata": {},
     "output_type": "execute_result"
    }
   ],
   "source": [
    "body_nouns"
   ]
  },
  {
   "cell_type": "code",
   "execution_count": 120,
   "metadata": {},
   "outputs": [],
   "source": [
    "news_tokenized['body_nouns'] = body_nouns"
   ]
  },
  {
   "cell_type": "code",
   "execution_count": 137,
   "metadata": {
    "scrolled": true
   },
   "outputs": [
    {
     "data": {
      "text/html": [
       "<div>\n",
       "<style scoped>\n",
       "    .dataframe tbody tr th:only-of-type {\n",
       "        vertical-align: middle;\n",
       "    }\n",
       "\n",
       "    .dataframe tbody tr th {\n",
       "        vertical-align: top;\n",
       "    }\n",
       "\n",
       "    .dataframe thead th {\n",
       "        text-align: right;\n",
       "    }\n",
       "</style>\n",
       "<table border=\"1\" class=\"dataframe\">\n",
       "  <thead>\n",
       "    <tr style=\"text-align: right;\">\n",
       "      <th></th>\n",
       "      <th>id</th>\n",
       "      <th>title</th>\n",
       "      <th>date</th>\n",
       "      <th>body</th>\n",
       "      <th>summary</th>\n",
       "      <th>link</th>\n",
       "      <th>site</th>\n",
       "      <th>body_nouns</th>\n",
       "      <th>summary_nouns</th>\n",
       "    </tr>\n",
       "  </thead>\n",
       "  <tbody>\n",
       "    <tr>\n",
       "      <th>69471</th>\n",
       "      <td>69471</td>\n",
       "      <td>다이나믹 듀오, 故설리 비보에 컴백 일정 연기..\"당분간 일정 불참\" [전문]</td>\n",
       "      <td>2019.10.17. 07:55</td>\n",
       "      <td>오는 10월 말 컴백할 계획이었던 그룹 다이나믹 듀오가 설리(25·최진리)의 갑작스...</td>\n",
       "      <td>오는 10월 말 컴백할 계획이었던 그룹 다이나믹 듀오가 설리(25·최진리)의 갑작스...</td>\n",
       "      <td>https://v.daum.net/v/20191017075514285</td>\n",
       "      <td>daum</td>\n",
       "      <td>[10월, 말, 컴백, 계획, 그룹, 다이나믹, 듀오, 설리(25·최진리), 갑작,...</td>\n",
       "      <td>[10월, 말, 컴백, 계획, 그룹, 다이나믹, 듀오, 설리(25·최진리), 갑작,...</td>\n",
       "    </tr>\n",
       "    <tr>\n",
       "      <th>69472</th>\n",
       "      <td>69472</td>\n",
       "      <td>'우아한가' 이규한, 15년 전 박혜나 살인사건 진범이었다 '충격 반전'</td>\n",
       "      <td>2019.10.17. 10:50</td>\n",
       "      <td>배우이규한이15년 전 살인 사건의 진범으로 밝혀져 시청자들에게 충격을 안겼다. MB...</td>\n",
       "      <td>배우이규한이15년 전 살인 사건의 진범으로 밝혀져 시청자들에게 충격을 안겼다. MB...</td>\n",
       "      <td>https://v.daum.net/v/20191017105037247</td>\n",
       "      <td>daum</td>\n",
       "      <td>[]</td>\n",
       "      <td>[배우이규한이15년, 전, 살, 사건, 진범, 시청자들, 충격, MBN-드라맥스, ...</td>\n",
       "    </tr>\n",
       "    <tr>\n",
       "      <th>69473</th>\n",
       "      <td>69473</td>\n",
       "      <td>'골목식당' PD \"초밥집? 이사 어렵고 절박..가격경쟁력 유일한 돌파구\"(인터뷰)...</td>\n",
       "      <td>2019.10.17. 10:03</td>\n",
       "      <td>SBS 백종원의 골목식당 을 연출한 정우진 PD가 초밥집의 단일메뉴의 가격과 상황에...</td>\n",
       "      <td>SBS 백종원의 골목식당 을 연출한 정우진 PD가 초밥집의 단일메뉴의 가격과 상황에...</td>\n",
       "      <td>https://v.daum.net/v/20191017100307139</td>\n",
       "      <td>daum</td>\n",
       "      <td>[배우이규한이15년, 전, 살, 사건, 진범, 시청자들, 충격, MBN-드라맥스, ...</td>\n",
       "      <td>[백종원, 골목식당, 을, 연출, 정우진, 초밥집, 단일메뉴, 가격, 상황, 대해서...</td>\n",
       "    </tr>\n",
       "  </tbody>\n",
       "</table>\n",
       "</div>"
      ],
      "text/plain": [
       "          id                                              title  \\\n",
       "69471  69471        다이나믹 듀오, 故설리 비보에 컴백 일정 연기..\"당분간 일정 불참\" [전문]   \n",
       "69472  69472           '우아한가' 이규한, 15년 전 박혜나 살인사건 진범이었다 '충격 반전'   \n",
       "69473  69473  '골목식당' PD \"초밥집? 이사 어렵고 절박..가격경쟁력 유일한 돌파구\"(인터뷰)...   \n",
       "\n",
       "                    date                                               body  \\\n",
       "69471  2019.10.17. 07:55  오는 10월 말 컴백할 계획이었던 그룹 다이나믹 듀오가 설리(25·최진리)의 갑작스...   \n",
       "69472  2019.10.17. 10:50  배우이규한이15년 전 살인 사건의 진범으로 밝혀져 시청자들에게 충격을 안겼다. MB...   \n",
       "69473  2019.10.17. 10:03  SBS 백종원의 골목식당 을 연출한 정우진 PD가 초밥집의 단일메뉴의 가격과 상황에...   \n",
       "\n",
       "                                                 summary  \\\n",
       "69471  오는 10월 말 컴백할 계획이었던 그룹 다이나믹 듀오가 설리(25·최진리)의 갑작스...   \n",
       "69472  배우이규한이15년 전 살인 사건의 진범으로 밝혀져 시청자들에게 충격을 안겼다. MB...   \n",
       "69473  SBS 백종원의 골목식당 을 연출한 정우진 PD가 초밥집의 단일메뉴의 가격과 상황에...   \n",
       "\n",
       "                                         link  site  \\\n",
       "69471  https://v.daum.net/v/20191017075514285  daum   \n",
       "69472  https://v.daum.net/v/20191017105037247  daum   \n",
       "69473  https://v.daum.net/v/20191017100307139  daum   \n",
       "\n",
       "                                              body_nouns  \\\n",
       "69471  [10월, 말, 컴백, 계획, 그룹, 다이나믹, 듀오, 설리(25·최진리), 갑작,...   \n",
       "69472                                                 []   \n",
       "69473  [배우이규한이15년, 전, 살, 사건, 진범, 시청자들, 충격, MBN-드라맥스, ...   \n",
       "\n",
       "                                           summary_nouns  \n",
       "69471  [10월, 말, 컴백, 계획, 그룹, 다이나믹, 듀오, 설리(25·최진리), 갑작,...  \n",
       "69472  [배우이규한이15년, 전, 살, 사건, 진범, 시청자들, 충격, MBN-드라맥스, ...  \n",
       "69473  [백종원, 골목식당, 을, 연출, 정우진, 초밥집, 단일메뉴, 가격, 상황, 대해서...  "
      ]
     },
     "execution_count": 137,
     "metadata": {},
     "output_type": "execute_result"
    }
   ],
   "source": [
    "news_tokenized.iloc[69471:69474]"
   ]
  },
  {
   "cell_type": "code",
   "execution_count": 153,
   "metadata": {},
   "outputs": [],
   "source": [
    "body_nouns = news_tokenized[['body_nouns']].copy()"
   ]
  },
  {
   "cell_type": "code",
   "execution_count": 154,
   "metadata": {},
   "outputs": [
    {
     "name": "stdout",
     "output_type": "stream",
     "text": [
      "(100000, 1)\n",
      "(99999, 1)\n"
     ]
    }
   ],
   "source": [
    "print(body_nouns.shape)\n",
    "body_nouns.drop(index=[69472], inplace=True)\n",
    "body_nouns.reset_index(inplace=True, drop=True)\n",
    "print(body_nouns.shape)"
   ]
  },
  {
   "cell_type": "code",
   "execution_count": 155,
   "metadata": {
    "scrolled": true
   },
   "outputs": [
    {
     "data": {
      "text/plain": [
       "(99996, 1)"
      ]
     },
     "execution_count": 155,
     "metadata": {},
     "output_type": "execute_result"
    }
   ],
   "source": [
    "body_nouns = body_nouns[:-3]\n",
    "body_nouns.shape"
   ]
  },
  {
   "cell_type": "code",
   "execution_count": 156,
   "metadata": {},
   "outputs": [
    {
     "data": {
      "text/html": [
       "<div>\n",
       "<style scoped>\n",
       "    .dataframe tbody tr th:only-of-type {\n",
       "        vertical-align: middle;\n",
       "    }\n",
       "\n",
       "    .dataframe tbody tr th {\n",
       "        vertical-align: top;\n",
       "    }\n",
       "\n",
       "    .dataframe thead th {\n",
       "        text-align: right;\n",
       "    }\n",
       "</style>\n",
       "<table border=\"1\" class=\"dataframe\">\n",
       "  <thead>\n",
       "    <tr style=\"text-align: right;\">\n",
       "      <th></th>\n",
       "      <th>body_nouns</th>\n",
       "    </tr>\n",
       "  </thead>\n",
       "  <tbody>\n",
       "    <tr>\n",
       "      <th>0</th>\n",
       "      <td>[중증, 폐질환, 유발, 가능성, 미국서, 530건, 의심환자, 발생, 8명, 사망...</td>\n",
       "    </tr>\n",
       "    <tr>\n",
       "      <th>1</th>\n",
       "      <td>[23일, 제주, 최대, 600밀리미터, 물폭탄, 제17호, 태풍, 타파, 한반도,...</td>\n",
       "    </tr>\n",
       "    <tr>\n",
       "      <th>2</th>\n",
       "      <td>[비바람, 때문, 행인, 우산, 토요일, 21일, 제17호, 태풍, 타파, 영향, ...</td>\n",
       "    </tr>\n",
       "    <tr>\n",
       "      <th>3</th>\n",
       "      <td>[김현주, 갱년기(22), 추석연휴, 남편, 딸, 제주도, 나, 일정상, 명절, 당...</td>\n",
       "    </tr>\n",
       "    <tr>\n",
       "      <th>4</th>\n",
       "      <td>[1905년, 9월20, 고종, 미국, 시어도, 루즈벨트, 대통령의, 딸, 앨리스와...</td>\n",
       "    </tr>\n",
       "    <tr>\n",
       "      <th>...</th>\n",
       "      <td>...</td>\n",
       "    </tr>\n",
       "    <tr>\n",
       "      <th>99991</th>\n",
       "      <td>[히어로즈, 시리즈, 스윕, 달성, 2일, 대구, 삼성라이온즈파크, 삼성, 라이온즈...</td>\n",
       "    </tr>\n",
       "    <tr>\n",
       "      <th>99992</th>\n",
       "      <td>[잉글리시, 프리미어리그(EPL), 승격, 리즈, 유나이티드, 폭풍, 영입, 예고,...</td>\n",
       "    </tr>\n",
       "    <tr>\n",
       "      <th>99993</th>\n",
       "      <td>[마무리, 투수, 붕괴, 결과, 치열, 접전, 두산, 1일, 창원, 파크, 2020...</td>\n",
       "    </tr>\n",
       "    <tr>\n",
       "      <th>99994</th>\n",
       "      <td>[토트넘, 홋스퍼, 공격진, 보강, 성공, 데, 리, 메일, 2일(한국시간), 토트...</td>\n",
       "    </tr>\n",
       "    <tr>\n",
       "      <th>99995</th>\n",
       "      <td>[롯데, 자이언츠, 허문회, 감독, 전준우, 재치, 주루, 플레이, 생각, 전준우,...</td>\n",
       "    </tr>\n",
       "  </tbody>\n",
       "</table>\n",
       "<p>99996 rows × 1 columns</p>\n",
       "</div>"
      ],
      "text/plain": [
       "                                              body_nouns\n",
       "0      [중증, 폐질환, 유발, 가능성, 미국서, 530건, 의심환자, 발생, 8명, 사망...\n",
       "1      [23일, 제주, 최대, 600밀리미터, 물폭탄, 제17호, 태풍, 타파, 한반도,...\n",
       "2      [비바람, 때문, 행인, 우산, 토요일, 21일, 제17호, 태풍, 타파, 영향, ...\n",
       "3      [김현주, 갱년기(22), 추석연휴, 남편, 딸, 제주도, 나, 일정상, 명절, 당...\n",
       "4      [1905년, 9월20, 고종, 미국, 시어도, 루즈벨트, 대통령의, 딸, 앨리스와...\n",
       "...                                                  ...\n",
       "99991  [히어로즈, 시리즈, 스윕, 달성, 2일, 대구, 삼성라이온즈파크, 삼성, 라이온즈...\n",
       "99992  [잉글리시, 프리미어리그(EPL), 승격, 리즈, 유나이티드, 폭풍, 영입, 예고,...\n",
       "99993  [마무리, 투수, 붕괴, 결과, 치열, 접전, 두산, 1일, 창원, 파크, 2020...\n",
       "99994  [토트넘, 홋스퍼, 공격진, 보강, 성공, 데, 리, 메일, 2일(한국시간), 토트...\n",
       "99995  [롯데, 자이언츠, 허문회, 감독, 전준우, 재치, 주루, 플레이, 생각, 전준우,...\n",
       "\n",
       "[99996 rows x 1 columns]"
      ]
     },
     "execution_count": 156,
     "metadata": {},
     "output_type": "execute_result"
    }
   ],
   "source": [
    "body_nouns"
   ]
  },
  {
   "cell_type": "code",
   "execution_count": 160,
   "metadata": {},
   "outputs": [
    {
     "data": {
      "text/plain": [
       "99996    [정도, 외국, 에디슨, 러셀(키움, 히어로즈), 복덩, 험난, 7월, 반등, 성공...\n",
       "99997    [세인트루이스, 카디널스, 구단, 코로나19, 확진자, 추가, 발생, 총, 6명, ...\n",
       "99998    [롯데, 자이언츠, 8월, 첫, 주말, 연승, 장식, 롯데, 2, 사직구장, 타이거...\n",
       "99999    [웨, 루니(더비, 카운티, 과거, 맨체스터, 유나이티드, 시절, 알렉스, 퍼거슨,...\n",
       "dtype: object"
      ]
     },
     "execution_count": 160,
     "metadata": {},
     "output_type": "execute_result"
    }
   ],
   "source": [
    "body_nouns_plus = news_tokenized.iloc[-4:].apply(get_nouns, col_name='body', axis=1)\n",
    "body_nouns_plus"
   ]
  },
  {
   "cell_type": "code",
   "execution_count": 161,
   "metadata": {},
   "outputs": [],
   "source": [
    "body_nouns_plus = pd.DataFrame(body_nouns_plus, columns=['body_nouns']).reset_index(drop=True)"
   ]
  },
  {
   "cell_type": "code",
   "execution_count": 162,
   "metadata": {},
   "outputs": [
    {
     "data": {
      "text/html": [
       "<div>\n",
       "<style scoped>\n",
       "    .dataframe tbody tr th:only-of-type {\n",
       "        vertical-align: middle;\n",
       "    }\n",
       "\n",
       "    .dataframe tbody tr th {\n",
       "        vertical-align: top;\n",
       "    }\n",
       "\n",
       "    .dataframe thead th {\n",
       "        text-align: right;\n",
       "    }\n",
       "</style>\n",
       "<table border=\"1\" class=\"dataframe\">\n",
       "  <thead>\n",
       "    <tr style=\"text-align: right;\">\n",
       "      <th></th>\n",
       "      <th>body_nouns</th>\n",
       "    </tr>\n",
       "  </thead>\n",
       "  <tbody>\n",
       "    <tr>\n",
       "      <th>0</th>\n",
       "      <td>[정도, 외국, 에디슨, 러셀(키움, 히어로즈), 복덩, 험난, 7월, 반등, 성공...</td>\n",
       "    </tr>\n",
       "    <tr>\n",
       "      <th>1</th>\n",
       "      <td>[세인트루이스, 카디널스, 구단, 코로나19, 확진자, 추가, 발생, 총, 6명, ...</td>\n",
       "    </tr>\n",
       "    <tr>\n",
       "      <th>2</th>\n",
       "      <td>[롯데, 자이언츠, 8월, 첫, 주말, 연승, 장식, 롯데, 2, 사직구장, 타이거...</td>\n",
       "    </tr>\n",
       "    <tr>\n",
       "      <th>3</th>\n",
       "      <td>[웨, 루니(더비, 카운티, 과거, 맨체스터, 유나이티드, 시절, 알렉스, 퍼거슨,...</td>\n",
       "    </tr>\n",
       "  </tbody>\n",
       "</table>\n",
       "</div>"
      ],
      "text/plain": [
       "                                          body_nouns\n",
       "0  [정도, 외국, 에디슨, 러셀(키움, 히어로즈), 복덩, 험난, 7월, 반등, 성공...\n",
       "1  [세인트루이스, 카디널스, 구단, 코로나19, 확진자, 추가, 발생, 총, 6명, ...\n",
       "2  [롯데, 자이언츠, 8월, 첫, 주말, 연승, 장식, 롯데, 2, 사직구장, 타이거...\n",
       "3  [웨, 루니(더비, 카운티, 과거, 맨체스터, 유나이티드, 시절, 알렉스, 퍼거슨,..."
      ]
     },
     "execution_count": 162,
     "metadata": {},
     "output_type": "execute_result"
    }
   ],
   "source": [
    "body_nouns_plus"
   ]
  },
  {
   "cell_type": "code",
   "execution_count": 163,
   "metadata": {},
   "outputs": [
    {
     "data": {
      "text/html": [
       "<div>\n",
       "<style scoped>\n",
       "    .dataframe tbody tr th:only-of-type {\n",
       "        vertical-align: middle;\n",
       "    }\n",
       "\n",
       "    .dataframe tbody tr th {\n",
       "        vertical-align: top;\n",
       "    }\n",
       "\n",
       "    .dataframe thead th {\n",
       "        text-align: right;\n",
       "    }\n",
       "</style>\n",
       "<table border=\"1\" class=\"dataframe\">\n",
       "  <thead>\n",
       "    <tr style=\"text-align: right;\">\n",
       "      <th></th>\n",
       "      <th>body_nouns</th>\n",
       "    </tr>\n",
       "  </thead>\n",
       "  <tbody>\n",
       "    <tr>\n",
       "      <th>0</th>\n",
       "      <td>[중증, 폐질환, 유발, 가능성, 미국서, 530건, 의심환자, 발생, 8명, 사망...</td>\n",
       "    </tr>\n",
       "    <tr>\n",
       "      <th>1</th>\n",
       "      <td>[23일, 제주, 최대, 600밀리미터, 물폭탄, 제17호, 태풍, 타파, 한반도,...</td>\n",
       "    </tr>\n",
       "    <tr>\n",
       "      <th>2</th>\n",
       "      <td>[비바람, 때문, 행인, 우산, 토요일, 21일, 제17호, 태풍, 타파, 영향, ...</td>\n",
       "    </tr>\n",
       "    <tr>\n",
       "      <th>3</th>\n",
       "      <td>[김현주, 갱년기(22), 추석연휴, 남편, 딸, 제주도, 나, 일정상, 명절, 당...</td>\n",
       "    </tr>\n",
       "    <tr>\n",
       "      <th>4</th>\n",
       "      <td>[1905년, 9월20, 고종, 미국, 시어도, 루즈벨트, 대통령의, 딸, 앨리스와...</td>\n",
       "    </tr>\n",
       "    <tr>\n",
       "      <th>...</th>\n",
       "      <td>...</td>\n",
       "    </tr>\n",
       "    <tr>\n",
       "      <th>99995</th>\n",
       "      <td>[롯데, 자이언츠, 허문회, 감독, 전준우, 재치, 주루, 플레이, 생각, 전준우,...</td>\n",
       "    </tr>\n",
       "    <tr>\n",
       "      <th>99996</th>\n",
       "      <td>[정도, 외국, 에디슨, 러셀(키움, 히어로즈), 복덩, 험난, 7월, 반등, 성공...</td>\n",
       "    </tr>\n",
       "    <tr>\n",
       "      <th>99997</th>\n",
       "      <td>[세인트루이스, 카디널스, 구단, 코로나19, 확진자, 추가, 발생, 총, 6명, ...</td>\n",
       "    </tr>\n",
       "    <tr>\n",
       "      <th>99998</th>\n",
       "      <td>[롯데, 자이언츠, 8월, 첫, 주말, 연승, 장식, 롯데, 2, 사직구장, 타이거...</td>\n",
       "    </tr>\n",
       "    <tr>\n",
       "      <th>99999</th>\n",
       "      <td>[웨, 루니(더비, 카운티, 과거, 맨체스터, 유나이티드, 시절, 알렉스, 퍼거슨,...</td>\n",
       "    </tr>\n",
       "  </tbody>\n",
       "</table>\n",
       "<p>100000 rows × 1 columns</p>\n",
       "</div>"
      ],
      "text/plain": [
       "                                              body_nouns\n",
       "0      [중증, 폐질환, 유발, 가능성, 미국서, 530건, 의심환자, 발생, 8명, 사망...\n",
       "1      [23일, 제주, 최대, 600밀리미터, 물폭탄, 제17호, 태풍, 타파, 한반도,...\n",
       "2      [비바람, 때문, 행인, 우산, 토요일, 21일, 제17호, 태풍, 타파, 영향, ...\n",
       "3      [김현주, 갱년기(22), 추석연휴, 남편, 딸, 제주도, 나, 일정상, 명절, 당...\n",
       "4      [1905년, 9월20, 고종, 미국, 시어도, 루즈벨트, 대통령의, 딸, 앨리스와...\n",
       "...                                                  ...\n",
       "99995  [롯데, 자이언츠, 허문회, 감독, 전준우, 재치, 주루, 플레이, 생각, 전준우,...\n",
       "99996  [정도, 외국, 에디슨, 러셀(키움, 히어로즈), 복덩, 험난, 7월, 반등, 성공...\n",
       "99997  [세인트루이스, 카디널스, 구단, 코로나19, 확진자, 추가, 발생, 총, 6명, ...\n",
       "99998  [롯데, 자이언츠, 8월, 첫, 주말, 연승, 장식, 롯데, 2, 사직구장, 타이거...\n",
       "99999  [웨, 루니(더비, 카운티, 과거, 맨체스터, 유나이티드, 시절, 알렉스, 퍼거슨,...\n",
       "\n",
       "[100000 rows x 1 columns]"
      ]
     },
     "execution_count": 163,
     "metadata": {},
     "output_type": "execute_result"
    }
   ],
   "source": [
    "body_nouns = pd.concat([body_nouns, body_nouns_plus], ignore_index=True)\n",
    "body_nouns"
   ]
  },
  {
   "cell_type": "code",
   "execution_count": 165,
   "metadata": {},
   "outputs": [],
   "source": [
    "news_tokenized['body_nouns'] = body_nouns"
   ]
  },
  {
   "cell_type": "code",
   "execution_count": 167,
   "metadata": {},
   "outputs": [
    {
     "data": {
      "text/html": [
       "<div>\n",
       "<style scoped>\n",
       "    .dataframe tbody tr th:only-of-type {\n",
       "        vertical-align: middle;\n",
       "    }\n",
       "\n",
       "    .dataframe tbody tr th {\n",
       "        vertical-align: top;\n",
       "    }\n",
       "\n",
       "    .dataframe thead th {\n",
       "        text-align: right;\n",
       "    }\n",
       "</style>\n",
       "<table border=\"1\" class=\"dataframe\">\n",
       "  <thead>\n",
       "    <tr style=\"text-align: right;\">\n",
       "      <th></th>\n",
       "      <th>id</th>\n",
       "      <th>title</th>\n",
       "      <th>date</th>\n",
       "      <th>body</th>\n",
       "      <th>summary</th>\n",
       "      <th>link</th>\n",
       "      <th>site</th>\n",
       "      <th>body_nouns</th>\n",
       "      <th>summary_nouns</th>\n",
       "    </tr>\n",
       "  </thead>\n",
       "  <tbody>\n",
       "    <tr>\n",
       "      <th>99997</th>\n",
       "      <td>99997</td>\n",
       "      <td>STL, 코로나19 확진 4명 추가..선수 총 3명</td>\n",
       "      <td>2020.08.02. 01:16</td>\n",
       "      <td>세인트루이스 카디널스 구단에 코로나19 확진자가 추가로 발생,총 6명으로 늘어났다....</td>\n",
       "      <td>세인트루이스 카디널스 구단에 코로나19 확진자가 추가로 발생,총 6명으로 늘어났다....</td>\n",
       "      <td>https://v.daum.net/v/20200802011623768</td>\n",
       "      <td>daum</td>\n",
       "      <td>[세인트루이스, 카디널스, 구단, 코로나19, 확진자, 추가, 발생, 총, 6명, ...</td>\n",
       "      <td>[세인트루이스, 카디널스, 구단, 코로나19, 확진자, 추가, 발생, 총, 6명, ...</td>\n",
       "    </tr>\n",
       "    <tr>\n",
       "      <th>99998</th>\n",
       "      <td>99998</td>\n",
       "      <td>[사직 게임노트]'노경은 완벽투' 롯데, KIA 8-0 꺾고 '8월 2연승' 신바람</td>\n",
       "      <td>2020.08.02. 19:49</td>\n",
       "      <td>롯데 자이언츠가 8월 첫 주말을 연승으로 장식했다. 롯데는 2일 사직구장에서 열린 ...</td>\n",
       "      <td>롯데 자이언츠가 8월 첫 주말을 연승으로 장식했다. 롯데는 2일 사직구장에서 열린 ...</td>\n",
       "      <td>https://v.daum.net/v/20200802194902874</td>\n",
       "      <td>daum</td>\n",
       "      <td>[롯데, 자이언츠, 8월, 첫, 주말, 연승, 장식, 롯데, 2, 사직구장, 타이거...</td>\n",
       "      <td>[롯데, 자이언츠, 8월, 첫, 주말, 연승, 장식, 롯데, 2, 사직구장, 타이거...</td>\n",
       "    </tr>\n",
       "    <tr>\n",
       "      <th>99999</th>\n",
       "      <td>99999</td>\n",
       "      <td>루니의 퍼거슨 비판..\"UCL 결승전 당시 전술은 잘못되었어\"</td>\n",
       "      <td>2020.08.02. 21:33</td>\n",
       "      <td>웨인 루니(더비 카운티)가 과거 맨체스터 유나이티드에서 뛰던 시절 알렉스 퍼거슨 감...</td>\n",
       "      <td>웨인 루니(더비 카운티)가 과거 맨체스터 유나이티드에서 뛰던 시절 알렉스 퍼거슨 감...</td>\n",
       "      <td>https://v.daum.net/v/20200802213338082</td>\n",
       "      <td>daum</td>\n",
       "      <td>[웨, 루니(더비, 카운티, 과거, 맨체스터, 유나이티드, 시절, 알렉스, 퍼거슨,...</td>\n",
       "      <td>[웨, 루니(더비, 카운티, 과거, 맨체스터, 유나이티드, 시절, 알렉스, 퍼거슨,...</td>\n",
       "    </tr>\n",
       "  </tbody>\n",
       "</table>\n",
       "</div>"
      ],
      "text/plain": [
       "          id                                           title  \\\n",
       "99997  99997                    STL, 코로나19 확진 4명 추가..선수 총 3명   \n",
       "99998  99998  [사직 게임노트]'노경은 완벽투' 롯데, KIA 8-0 꺾고 '8월 2연승' 신바람   \n",
       "99999  99999              루니의 퍼거슨 비판..\"UCL 결승전 당시 전술은 잘못되었어\"   \n",
       "\n",
       "                    date                                               body  \\\n",
       "99997  2020.08.02. 01:16  세인트루이스 카디널스 구단에 코로나19 확진자가 추가로 발생,총 6명으로 늘어났다....   \n",
       "99998  2020.08.02. 19:49  롯데 자이언츠가 8월 첫 주말을 연승으로 장식했다. 롯데는 2일 사직구장에서 열린 ...   \n",
       "99999  2020.08.02. 21:33  웨인 루니(더비 카운티)가 과거 맨체스터 유나이티드에서 뛰던 시절 알렉스 퍼거슨 감...   \n",
       "\n",
       "                                                 summary  \\\n",
       "99997  세인트루이스 카디널스 구단에 코로나19 확진자가 추가로 발생,총 6명으로 늘어났다....   \n",
       "99998  롯데 자이언츠가 8월 첫 주말을 연승으로 장식했다. 롯데는 2일 사직구장에서 열린 ...   \n",
       "99999  웨인 루니(더비 카운티)가 과거 맨체스터 유나이티드에서 뛰던 시절 알렉스 퍼거슨 감...   \n",
       "\n",
       "                                         link  site  \\\n",
       "99997  https://v.daum.net/v/20200802011623768  daum   \n",
       "99998  https://v.daum.net/v/20200802194902874  daum   \n",
       "99999  https://v.daum.net/v/20200802213338082  daum   \n",
       "\n",
       "                                              body_nouns  \\\n",
       "99997  [세인트루이스, 카디널스, 구단, 코로나19, 확진자, 추가, 발생, 총, 6명, ...   \n",
       "99998  [롯데, 자이언츠, 8월, 첫, 주말, 연승, 장식, 롯데, 2, 사직구장, 타이거...   \n",
       "99999  [웨, 루니(더비, 카운티, 과거, 맨체스터, 유나이티드, 시절, 알렉스, 퍼거슨,...   \n",
       "\n",
       "                                           summary_nouns  \n",
       "99997  [세인트루이스, 카디널스, 구단, 코로나19, 확진자, 추가, 발생, 총, 6명, ...  \n",
       "99998  [롯데, 자이언츠, 8월, 첫, 주말, 연승, 장식, 롯데, 2, 사직구장, 타이거...  \n",
       "99999  [웨, 루니(더비, 카운티, 과거, 맨체스터, 유나이티드, 시절, 알렉스, 퍼거슨,...  "
      ]
     },
     "execution_count": 167,
     "metadata": {},
     "output_type": "execute_result"
    }
   ],
   "source": [
    "news_tokenized.tail(3)"
   ]
  },
  {
   "cell_type": "markdown",
   "metadata": {},
   "source": [
    "## pickle로 저장 (tokenized)\n",
    "- 리스트 데이터가 string으로 변환되는 상황을 방지하고자 pickle로 저장함"
   ]
  },
  {
   "cell_type": "code",
   "execution_count": 168,
   "metadata": {},
   "outputs": [],
   "source": [
    "news_tokenized.to_pickle('../../data/news_nouns.pickle')"
   ]
  },
  {
   "cell_type": "markdown",
   "metadata": {},
   "source": [
    "# Normalization"
   ]
  },
  {
   "cell_type": "markdown",
   "metadata": {},
   "source": [
    "## Data Load (tokenized)"
   ]
  },
  {
   "cell_type": "code",
   "execution_count": 3,
   "metadata": {},
   "outputs": [
    {
     "data": {
      "text/plain": [
       "(100000, 9)"
      ]
     },
     "execution_count": 3,
     "metadata": {},
     "output_type": "execute_result"
    }
   ],
   "source": [
    "news_tokenized = pd.read_pickle('../../data/news_nouns.pickle')\n",
    "news_tokenized.shape"
   ]
  },
  {
   "cell_type": "code",
   "execution_count": 4,
   "metadata": {
    "scrolled": true
   },
   "outputs": [
    {
     "data": {
      "text/html": [
       "<div>\n",
       "<style scoped>\n",
       "    .dataframe tbody tr th:only-of-type {\n",
       "        vertical-align: middle;\n",
       "    }\n",
       "\n",
       "    .dataframe tbody tr th {\n",
       "        vertical-align: top;\n",
       "    }\n",
       "\n",
       "    .dataframe thead th {\n",
       "        text-align: right;\n",
       "    }\n",
       "</style>\n",
       "<table border=\"1\" class=\"dataframe\">\n",
       "  <thead>\n",
       "    <tr style=\"text-align: right;\">\n",
       "      <th></th>\n",
       "      <th>id</th>\n",
       "      <th>title</th>\n",
       "      <th>date</th>\n",
       "      <th>body</th>\n",
       "      <th>summary</th>\n",
       "      <th>link</th>\n",
       "      <th>site</th>\n",
       "      <th>body_nouns</th>\n",
       "      <th>summary_nouns</th>\n",
       "    </tr>\n",
       "  </thead>\n",
       "  <tbody>\n",
       "    <tr>\n",
       "      <th>0</th>\n",
       "      <td>0</td>\n",
       "      <td>액상담배 美흡연자 8명 숨졌다, 복지부 \"한국 판매 금지 검토\"</td>\n",
       "      <td>2019.09.20. 오후 6:38</td>\n",
       "      <td>중증 폐질환 유발 가능성 있다 미국서 530건 의심환자 발생, 8명 사망국내 상황 ...</td>\n",
       "      <td>정부가 액상형 전자담배 사용 자제를 권고하고 나섰다.복지부는 미국 사례를 참조해 액...</td>\n",
       "      <td>https://news.naver.com/main/ranking/read.nhn?r...</td>\n",
       "      <td>naver</td>\n",
       "      <td>[중증, 폐질환, 유발, 가능성, 미국서, 530건, 의심환자, 발생, 8명, 사망...</td>\n",
       "      <td>[정부, 액상형, 전자담배, 사용, 자제, 권고, 복지부, 미국, 사례, 참조, 액...</td>\n",
       "    </tr>\n",
       "    <tr>\n",
       "      <th>1</th>\n",
       "      <td>1</td>\n",
       "      <td>세력 키우는 태풍 '타파'…22일 밤 부산 앞바다 통과</td>\n",
       "      <td>2019.09.20. 오후 5:19</td>\n",
       "      <td>23일까지 강하고 많은 비제주에 최대 600밀리미터 물폭탄 제17호 태풍 타파가 한...</td>\n",
       "      <td>제17호 태풍 타파 가 한반도에 접근할수록 점점 강해지고 있는 데다 부산 앞바다를 ...</td>\n",
       "      <td>https://news.naver.com/main/ranking/read.nhn?r...</td>\n",
       "      <td>naver</td>\n",
       "      <td>[23일, 제주, 최대, 600밀리미터, 물폭탄, 제17호, 태풍, 타파, 한반도,...</td>\n",
       "      <td>[제17호, 태풍, 타파, 한반도, 접근, 데, 부산, 앞바다, 전망, 예상, 중심...</td>\n",
       "    </tr>\n",
       "    <tr>\n",
       "      <th>2</th>\n",
       "      <td>2</td>\n",
       "      <td>[내일날씨] 태풍 '타파' 북상…전국에 강한 비바람</td>\n",
       "      <td>2019.09.20. 오전 9:00</td>\n",
       "      <td>강한 비바람 때문에 행인이 우산을 꽉 붙잡고 지나가고 있다. 토요일인 21일 제17...</td>\n",
       "      <td>토요일인 21일 제17호 태풍 타파 영향으로 전국이 흐리고 비가 내리겠다.기상청은 ...</td>\n",
       "      <td>https://news.naver.com/main/ranking/read.nhn?r...</td>\n",
       "      <td>naver</td>\n",
       "      <td>[비바람, 때문, 행인, 우산, 토요일, 21일, 제17호, 태풍, 타파, 영향, ...</td>\n",
       "      <td>[토요일, 21일, 제17호, 태풍, 타파, 영향, 전국, 비, 기상청, 제주도, ...</td>\n",
       "    </tr>\n",
       "  </tbody>\n",
       "</table>\n",
       "</div>"
      ],
      "text/plain": [
       "   id                                title                 date  \\\n",
       "0   0  액상담배 美흡연자 8명 숨졌다, 복지부 \"한국 판매 금지 검토\"  2019.09.20. 오후 6:38   \n",
       "1   1       세력 키우는 태풍 '타파'…22일 밤 부산 앞바다 통과  2019.09.20. 오후 5:19   \n",
       "2   2         [내일날씨] 태풍 '타파' 북상…전국에 강한 비바람  2019.09.20. 오전 9:00   \n",
       "\n",
       "                                                body  \\\n",
       "0  중증 폐질환 유발 가능성 있다 미국서 530건 의심환자 발생, 8명 사망국내 상황 ...   \n",
       "1  23일까지 강하고 많은 비제주에 최대 600밀리미터 물폭탄 제17호 태풍 타파가 한...   \n",
       "2  강한 비바람 때문에 행인이 우산을 꽉 붙잡고 지나가고 있다. 토요일인 21일 제17...   \n",
       "\n",
       "                                             summary  \\\n",
       "0  정부가 액상형 전자담배 사용 자제를 권고하고 나섰다.복지부는 미국 사례를 참조해 액...   \n",
       "1  제17호 태풍 타파 가 한반도에 접근할수록 점점 강해지고 있는 데다 부산 앞바다를 ...   \n",
       "2  토요일인 21일 제17호 태풍 타파 영향으로 전국이 흐리고 비가 내리겠다.기상청은 ...   \n",
       "\n",
       "                                                link   site  \\\n",
       "0  https://news.naver.com/main/ranking/read.nhn?r...  naver   \n",
       "1  https://news.naver.com/main/ranking/read.nhn?r...  naver   \n",
       "2  https://news.naver.com/main/ranking/read.nhn?r...  naver   \n",
       "\n",
       "                                          body_nouns  \\\n",
       "0  [중증, 폐질환, 유발, 가능성, 미국서, 530건, 의심환자, 발생, 8명, 사망...   \n",
       "1  [23일, 제주, 최대, 600밀리미터, 물폭탄, 제17호, 태풍, 타파, 한반도,...   \n",
       "2  [비바람, 때문, 행인, 우산, 토요일, 21일, 제17호, 태풍, 타파, 영향, ...   \n",
       "\n",
       "                                       summary_nouns  \n",
       "0  [정부, 액상형, 전자담배, 사용, 자제, 권고, 복지부, 미국, 사례, 참조, 액...  \n",
       "1  [제17호, 태풍, 타파, 한반도, 접근, 데, 부산, 앞바다, 전망, 예상, 중심...  \n",
       "2  [토요일, 21일, 제17호, 태풍, 타파, 영향, 전국, 비, 기상청, 제주도, ...  "
      ]
     },
     "execution_count": 4,
     "metadata": {},
     "output_type": "execute_result"
    }
   ],
   "source": [
    "news_tokenized.head(3)"
   ]
  },
  {
   "cell_type": "code",
   "execution_count": 5,
   "metadata": {},
   "outputs": [
    {
     "name": "stdout",
     "output_type": "stream",
     "text": [
      "<class 'list'>\n"
     ]
    },
    {
     "data": {
      "text/plain": [
       "['정부', '액상형', '전자담배', '사용', '자제', '권고', '복지부', '미국', '사례', '참조']"
      ]
     },
     "execution_count": 5,
     "metadata": {},
     "output_type": "execute_result"
    }
   ],
   "source": [
    "print(type(news_tokenized.loc[0, 'summary_nouns']))\n",
    "news_tokenized.loc[0, 'summary_nouns'][:10]"
   ]
  },
  {
   "cell_type": "markdown",
   "metadata": {},
   "source": [
    "##  (, ) 제거"
   ]
  },
  {
   "cell_type": "code",
   "execution_count": 6,
   "metadata": {},
   "outputs": [],
   "source": [
    "def remove_parentheses(nouns_list):\n",
    "    new_list = []\n",
    "    for _ in nouns_list:\n",
    "        new_list += re.split(r'[\\(\\)]', _)\n",
    "    return [x for x in new_list if x != '']"
   ]
  },
  {
   "cell_type": "code",
   "execution_count": 7,
   "metadata": {},
   "outputs": [],
   "source": [
    "news_tokenized['body_nouns'] = news_tokenized['body_nouns'].apply(remove_parentheses)"
   ]
  },
  {
   "cell_type": "code",
   "execution_count": 8,
   "metadata": {},
   "outputs": [],
   "source": [
    "news_tokenized['summary_nouns'] = news_tokenized['summary_nouns'].apply(remove_parentheses)"
   ]
  },
  {
   "cell_type": "markdown",
   "metadata": {},
   "source": [
    "## 숫자 제거"
   ]
  },
  {
   "cell_type": "code",
   "execution_count": 9,
   "metadata": {},
   "outputs": [],
   "source": [
    "def remove_nums(nouns_list):\n",
    "    '''명사 리스트 데이터를 받아 숫자를 제거하는 함수'''\n",
    "    new_list = [re.sub(r'[0-9]+', '', x) for x in nouns_list]\n",
    "    return [x for x in new_list if x != '']"
   ]
  },
  {
   "cell_type": "code",
   "execution_count": 10,
   "metadata": {},
   "outputs": [
    {
     "data": {
      "text/plain": [
       "0        [정부, 액상형, 전자담배, 사용, 자제, 권고, 복지부, 미국, 사례, 참조, 액...\n",
       "1        [제17호, 태풍, 타파, 한반도, 접근, 데, 부산, 앞바다, 전망, 예상, 중심...\n",
       "2        [토요일, 21일, 제17호, 태풍, 타파, 영향, 전국, 비, 기상청, 제주도, ...\n",
       "3        [추석, 연휴, 시작, 전, 남편, 아이, 주도행, 비행기, 제작, 일정상, 명절,...\n",
       "4        [1905년, 9월20, 고종, 황제, 국빈자격, 대한제국, 방문, 앨리스, 루즈벨...\n",
       "                               ...                        \n",
       "99995    [롯데, 자이언츠, 허문회, 감독, 전준우, 재치, 주루, 플레이, 생각, 2, 3...\n",
       "99996    [정도, 외국, 에디슨, 러셀, 키움, 히어로즈, 복덩, 5월, 테일러, 모터, 방...\n",
       "99997    [세인트루이스, 카디널스, 구단, 코로나19, 확진자, 추가, 발생, 총, 6명, ...\n",
       "99998    [롯데, 자이언츠, 8월, 첫, 주말, 연승, 장식, 롯데, 2, 사직구장, 타이거...\n",
       "99999    [웨, 루니, 더비, 카운티, 과거, 맨체스터, 유나이티드, 시절, 알렉스, 퍼거슨...\n",
       "Name: summary_nouns, Length: 100000, dtype: object"
      ]
     },
     "execution_count": 10,
     "metadata": {},
     "output_type": "execute_result"
    }
   ],
   "source": [
    "news_tokenized.summary_nouns"
   ]
  },
  {
   "cell_type": "code",
   "execution_count": 11,
   "metadata": {
    "scrolled": true
   },
   "outputs": [
    {
     "data": {
      "text/plain": [
       "['토요일', '일', '제호', '태풍', '타파', '영향', '전국', '비', '기상청', '제주도']"
      ]
     },
     "execution_count": 11,
     "metadata": {},
     "output_type": "execute_result"
    }
   ],
   "source": [
    "remove_nums(news_tokenized.loc[2, 'summary_nouns'])[:10]"
   ]
  },
  {
   "cell_type": "code",
   "execution_count": 12,
   "metadata": {},
   "outputs": [],
   "source": [
    "news_tokenized['body_nouns'] = news_tokenized['body_nouns'].apply(remove_nums)"
   ]
  },
  {
   "cell_type": "code",
   "execution_count": 13,
   "metadata": {},
   "outputs": [],
   "source": [
    "news_tokenized['summary_nouns'] = news_tokenized['summary_nouns'].apply(remove_nums)"
   ]
  },
  {
   "cell_type": "code",
   "execution_count": 14,
   "metadata": {},
   "outputs": [
    {
     "data": {
      "text/plain": [
       "0        [정부, 액상형, 전자담배, 사용, 자제, 권고, 복지부, 미국, 사례, 참조, 액...\n",
       "1        [제호, 태풍, 타파, 한반도, 접근, 데, 부산, 앞바다, 전망, 예상, 중심, ...\n",
       "2        [토요일, 일, 제호, 태풍, 타파, 영향, 전국, 비, 기상청, 제주도, 동해안,...\n",
       "3        [추석, 연휴, 시작, 전, 남편, 아이, 주도행, 비행기, 제작, 일정상, 명절,...\n",
       "4        [년, 월, 고종, 황제, 국빈자격, 대한제국, 방문, 앨리스, 루즈벨트, 덕수궁,...\n",
       "                               ...                        \n",
       "99995    [롯데, 자이언츠, 허문회, 감독, 전준우, 재치, 주루, 플레이, 생각, 루, 사...\n",
       "99996    [정도, 외국, 에디슨, 러셀, 키움, 히어로즈, 복덩, 월, 테일러, 모터, 방출...\n",
       "99997    [세인트루이스, 카디널스, 구단, 코로나, 확진자, 추가, 발생, 총, 명, 일, ...\n",
       "99998    [롯데, 자이언츠, 월, 첫, 주말, 연승, 장식, 롯데, 사직구장, 타이거즈전, ...\n",
       "99999    [웨, 루니, 더비, 카운티, 과거, 맨체스터, 유나이티드, 시절, 알렉스, 퍼거슨...\n",
       "Name: summary_nouns, Length: 100000, dtype: object"
      ]
     },
     "execution_count": 14,
     "metadata": {},
     "output_type": "execute_result"
    }
   ],
   "source": [
    "news_tokenized.summary_nouns"
   ]
  },
  {
   "cell_type": "markdown",
   "metadata": {},
   "source": [
    "## 불용어 처리"
   ]
  },
  {
   "cell_type": "markdown",
   "metadata": {},
   "source": [
    "Zipf's Law"
   ]
  },
  {
   "cell_type": "code",
   "execution_count": 15,
   "metadata": {},
   "outputs": [],
   "source": [
    "body_nouns = []\n",
    "for _ in news_tokenized['body_nouns']:\n",
    "    body_nouns += _"
   ]
  },
  {
   "cell_type": "code",
   "execution_count": 16,
   "metadata": {},
   "outputs": [],
   "source": [
    "summary_nouns = []\n",
    "for _ in news_tokenized['summary_nouns']:\n",
    "    summary_nouns += _"
   ]
  },
  {
   "cell_type": "code",
   "execution_count": 17,
   "metadata": {},
   "outputs": [],
   "source": [
    "vocabs_body = Text(body_nouns).vocab()"
   ]
  },
  {
   "cell_type": "code",
   "execution_count": 18,
   "metadata": {},
   "outputs": [],
   "source": [
    "vocabs_summary = Text(summary_nouns).vocab()"
   ]
  },
  {
   "cell_type": "code",
   "execution_count": 19,
   "metadata": {},
   "outputs": [
    {
     "data": {
      "image/png": "[encoded data removed]",
      "text/plain": [
       "<Figure size 1008x288 with 1 Axes>"
      ]
     },
     "metadata": {
      "needs_background": "light"
     },
     "output_type": "display_data"
    },
    {
     "data": {
      "text/plain": [
       "<matplotlib.axes._subplots.AxesSubplot at 0x234224fe2b0>"
      ]
     },
     "execution_count": 19,
     "metadata": {},
     "output_type": "execute_result"
    }
   ],
   "source": [
    "vocabs_body.plot(20)"
   ]
  },
  {
   "cell_type": "code",
   "execution_count": 20,
   "metadata": {},
   "outputs": [
    {
     "data": {
      "image/png": "[encoded data removed]",
      "text/plain": [
       "<Figure size 1008x288 with 1 Axes>"
      ]
     },
     "metadata": {
      "needs_background": "light"
     },
     "output_type": "display_data"
    },
    {
     "data": {
      "text/plain": [
       "<matplotlib.axes._subplots.AxesSubplot at 0x2342097ceb0>"
      ]
     },
     "execution_count": 20,
     "metadata": {},
     "output_type": "execute_result"
    }
   ],
   "source": [
    "vocabs_summary.plot(20)"
   ]
  },
  {
   "cell_type": "code",
   "execution_count": 21,
   "metadata": {},
   "outputs": [],
   "source": [
    "stopwords_list1 = []\n",
    "for _ in vocabs_body.most_common(17):\n",
    "    stopwords_list1.append(_[0])\n",
    "for _ in vocabs_summary.most_common(13):\n",
    "    stopwords_list1.append(_[0])"
   ]
  },
  {
   "cell_type": "code",
   "execution_count": 22,
   "metadata": {},
   "outputs": [
    {
     "data": {
      "text/plain": [
       "775"
      ]
     },
     "execution_count": 22,
     "metadata": {},
     "output_type": "execute_result"
    }
   ],
   "source": [
    "stopwords2 = pd.read_csv('../stopwords/stopwords_concat.csv')\n",
    "stopwords_list2 = list(stopwords2['stopwords'].values)\n",
    "len(stopwords_list2)"
   ]
  },
  {
   "cell_type": "code",
   "execution_count": 23,
   "metadata": {
    "scrolled": true
   },
   "outputs": [
    {
     "name": "stdout",
     "output_type": "stream",
     "text": [
      "805\n",
      "668\n"
     ]
    }
   ],
   "source": [
    "stopwords_list = stopwords_list1 + stopwords_list2\n",
    "print(len(stopwords_list))\n",
    "stopwords_list = list(set(stopwords_list))\n",
    "print(len(stopwords_list))"
   ]
  },
  {
   "cell_type": "code",
   "execution_count": 24,
   "metadata": {},
   "outputs": [],
   "source": [
    "def remove_stopwords(nouns_list, stopwords_list):\n",
    "    '''명사 리스트 데이터를 받아 불용어를 처리하는 함수'''\n",
    "    new_list = [x for x in nouns_list if x not in stopwords_list]\n",
    "    return new_list"
   ]
  },
  {
   "cell_type": "code",
   "execution_count": 25,
   "metadata": {},
   "outputs": [],
   "source": [
    "news_tokenized['body_nouns'] = news_tokenized['body_nouns'].apply(remove_stopwords, stopwords_list=stopwords_list)"
   ]
  },
  {
   "cell_type": "code",
   "execution_count": 26,
   "metadata": {},
   "outputs": [],
   "source": [
    "news_tokenized['summary_nouns'] = news_tokenized['summary_nouns'].apply(remove_stopwords, stopwords_list=stopwords_list)"
   ]
  },
  {
   "cell_type": "code",
   "execution_count": 27,
   "metadata": {
    "scrolled": false
   },
   "outputs": [
    {
     "data": {
      "text/plain": [
       "0        [정부, 액상형, 전자담배, 사용, 자제, 권고, 복지부, 미국, 사례, 참조, 액...\n",
       "1        [제호, 태풍, 타파, 한반도, 접근, 부산, 앞바다, 전망, 예상, 중심, 기압,...\n",
       "2        [토요일, 제호, 태풍, 타파, 영향, 전국, 비, 기상청, 제주도, 동해안, 남해...\n",
       "3        [추석, 연휴, 시작, 남편, 주도행, 비행기, 제작, 일정상, 명절, 당일, 아버...\n",
       "4        [고종, 황제, 국빈자격, 대한제국, 방문, 앨리스, 루즈벨트, 덕수궁, 중명전, ...\n",
       "                               ...                        \n",
       "99995    [롯데, 자이언츠, 허문회, 감독, 전준우, 재치, 주루, 플레이, 루, 사이, 전...\n",
       "99996    [외국, 에디슨, 러셀, 키움, 히어로즈, 복덩, 테일러, 모터, 방출, 이후, 달...\n",
       "99997    [세인트루이스, 카디널스, 구단, 코로나, 확진자, 추가, 발생, 총, 세인트루이스...\n",
       "99998    [롯데, 자이언츠, 첫, 주말, 연승, 장식, 롯데, 사직구장, 타이거즈전, 이닝,...\n",
       "99999    [웨, 루니, 더비, 카운티, 과거, 맨체스터, 유나이티드, 시절, 알렉스, 퍼거슨...\n",
       "Name: summary_nouns, Length: 100000, dtype: object"
      ]
     },
     "execution_count": 27,
     "metadata": {},
     "output_type": "execute_result"
    }
   ],
   "source": [
    "news_tokenized['summary_nouns']"
   ]
  },
  {
   "cell_type": "markdown",
   "metadata": {},
   "source": [
    "## pickle로 저장 (normalized)"
   ]
  },
  {
   "cell_type": "code",
   "execution_count": 28,
   "metadata": {},
   "outputs": [],
   "source": [
    "news_tokenized.to_pickle('../../data/news_normalized_final.pickle')"
   ]
  },
  {
   "cell_type": "code",
   "execution_count": 29,
   "metadata": {},
   "outputs": [
    {
     "data": {
      "text/html": [
       "<div>\n",
       "<style scoped>\n",
       "    .dataframe tbody tr th:only-of-type {\n",
       "        vertical-align: middle;\n",
       "    }\n",
       "\n",
       "    .dataframe tbody tr th {\n",
       "        vertical-align: top;\n",
       "    }\n",
       "\n",
       "    .dataframe thead th {\n",
       "        text-align: right;\n",
       "    }\n",
       "</style>\n",
       "<table border=\"1\" class=\"dataframe\">\n",
       "  <thead>\n",
       "    <tr style=\"text-align: right;\">\n",
       "      <th></th>\n",
       "      <th>id</th>\n",
       "      <th>title</th>\n",
       "      <th>date</th>\n",
       "      <th>body</th>\n",
       "      <th>summary</th>\n",
       "      <th>link</th>\n",
       "      <th>site</th>\n",
       "      <th>body_nouns</th>\n",
       "      <th>summary_nouns</th>\n",
       "    </tr>\n",
       "  </thead>\n",
       "  <tbody>\n",
       "    <tr>\n",
       "      <th>0</th>\n",
       "      <td>0</td>\n",
       "      <td>액상담배 美흡연자 8명 숨졌다, 복지부 \"한국 판매 금지 검토\"</td>\n",
       "      <td>2019.09.20. 오후 6:38</td>\n",
       "      <td>중증 폐질환 유발 가능성 있다 미국서 530건 의심환자 발생, 8명 사망국내 상황 ...</td>\n",
       "      <td>정부가 액상형 전자담배 사용 자제를 권고하고 나섰다.복지부는 미국 사례를 참조해 액...</td>\n",
       "      <td>https://news.naver.com/main/ranking/read.nhn?r...</td>\n",
       "      <td>naver</td>\n",
       "      <td>[중증, 폐질환, 유발, 가능성, 미국서, 건, 의심환자, 발생, 사망국내, 상황,...</td>\n",
       "      <td>[정부, 액상형, 전자담배, 사용, 자제, 권고, 복지부, 미국, 사례, 참조, 액...</td>\n",
       "    </tr>\n",
       "    <tr>\n",
       "      <th>1</th>\n",
       "      <td>1</td>\n",
       "      <td>세력 키우는 태풍 '타파'…22일 밤 부산 앞바다 통과</td>\n",
       "      <td>2019.09.20. 오후 5:19</td>\n",
       "      <td>23일까지 강하고 많은 비제주에 최대 600밀리미터 물폭탄 제17호 태풍 타파가 한...</td>\n",
       "      <td>제17호 태풍 타파 가 한반도에 접근할수록 점점 강해지고 있는 데다 부산 앞바다를 ...</td>\n",
       "      <td>https://news.naver.com/main/ranking/read.nhn?r...</td>\n",
       "      <td>naver</td>\n",
       "      <td>[제주, 최대, 밀리미터, 물폭탄, 제호, 태풍, 타파, 한반도, 접근, 부산, 앞...</td>\n",
       "      <td>[제호, 태풍, 타파, 한반도, 접근, 부산, 앞바다, 전망, 예상, 중심, 기압,...</td>\n",
       "    </tr>\n",
       "    <tr>\n",
       "      <th>2</th>\n",
       "      <td>2</td>\n",
       "      <td>[내일날씨] 태풍 '타파' 북상…전국에 강한 비바람</td>\n",
       "      <td>2019.09.20. 오전 9:00</td>\n",
       "      <td>강한 비바람 때문에 행인이 우산을 꽉 붙잡고 지나가고 있다. 토요일인 21일 제17...</td>\n",
       "      <td>토요일인 21일 제17호 태풍 타파 영향으로 전국이 흐리고 비가 내리겠다.기상청은 ...</td>\n",
       "      <td>https://news.naver.com/main/ranking/read.nhn?r...</td>\n",
       "      <td>naver</td>\n",
       "      <td>[비바람, 행인, 우산, 토요일, 제호, 태풍, 타파, 영향, 전국, 비, 예상, ...</td>\n",
       "      <td>[토요일, 제호, 태풍, 타파, 영향, 전국, 비, 기상청, 제주도, 동해안, 남해...</td>\n",
       "    </tr>\n",
       "    <tr>\n",
       "      <th>3</th>\n",
       "      <td>3</td>\n",
       "      <td>30년 만에…친정에서 차례 지낸 며느리의 특별한 추석</td>\n",
       "      <td>2019.09.19. 오후 3:01</td>\n",
       "      <td>김현주의 즐거운 갱년기(22) 추석연휴를 맞아 남편과 딸은 제주도로 향했다. 나는 ...</td>\n",
       "      <td>추석 연휴가 시작되기 전 남편과 딸 아이는 제주도행 비행기를 탔고, 잡지 제작 일정...</td>\n",
       "      <td>https://news.naver.com/main/ranking/read.nhn?r...</td>\n",
       "      <td>naver</td>\n",
       "      <td>[김현주, 갱년기, 추석연휴, 남편, 딸, 제주도, 일정상, 명절, 당일, 어머니,...</td>\n",
       "      <td>[추석, 연휴, 시작, 남편, 주도행, 비행기, 제작, 일정상, 명절, 당일, 아버...</td>\n",
       "    </tr>\n",
       "    <tr>\n",
       "      <th>4</th>\n",
       "      <td>4</td>\n",
       "      <td>미국 '앨리스 공주'에게 베푼 고종의 오찬…황제의 식탁에 서린 슬픈 역사</td>\n",
       "      <td>2019.09.20. 오후 1:20</td>\n",
       "      <td>1905년 9월20일 고종이 미국 시어도어 루즈벨트 대통령의 딸인 앨리스와의 공식오...</td>\n",
       "      <td>1905년 9월20일 고종 황제는 국빈자격으로 대한제국을 방문한 앨리스 루즈벨트를 ...</td>\n",
       "      <td>https://news.naver.com/main/ranking/read.nhn?r...</td>\n",
       "      <td>naver</td>\n",
       "      <td>[고종, 미국, 시어도, 루즈벨트, 대통령의, 딸, 앨리스와, 공식오찬, 마련, 음...</td>\n",
       "      <td>[고종, 황제, 국빈자격, 대한제국, 방문, 앨리스, 루즈벨트, 덕수궁, 중명전, ...</td>\n",
       "    </tr>\n",
       "    <tr>\n",
       "      <th>...</th>\n",
       "      <td>...</td>\n",
       "      <td>...</td>\n",
       "      <td>...</td>\n",
       "      <td>...</td>\n",
       "      <td>...</td>\n",
       "      <td>...</td>\n",
       "      <td>...</td>\n",
       "      <td>...</td>\n",
       "      <td>...</td>\n",
       "    </tr>\n",
       "    <tr>\n",
       "      <th>99995</th>\n",
       "      <td>99995</td>\n",
       "      <td>[부산 프리토크]롯데 허문회 감독 \"전준우 주루 미스라 생각, 마음가짐 좋았다\"</td>\n",
       "      <td>2020.08.02. 14:51</td>\n",
       "      <td>롯데 자이언츠 허문회 감독은 전준우의 재치 있는 주루 플레이에 대한 생각을 밝혔다....</td>\n",
       "      <td>롯데 자이언츠 허문회 감독은 전준우의 재치 있는 주루 플레이에 대한 생각을 밝혔다....</td>\n",
       "      <td>https://v.daum.net/v/20200802145136484</td>\n",
       "      <td>daum</td>\n",
       "      <td>[롯데, 자이언츠, 허문회, 감독, 전준우, 재치, 주루, 플레이, 전준우, 부산,...</td>\n",
       "      <td>[롯데, 자이언츠, 허문회, 감독, 전준우, 재치, 주루, 플레이, 루, 사이, 전...</td>\n",
       "    </tr>\n",
       "    <tr>\n",
       "      <th>99996</th>\n",
       "      <td>99996</td>\n",
       "      <td>[SC핫피플] 매일 타점 생산하는 러셀, 그가 오자 키움이 살아났다</td>\n",
       "      <td>2020.08.02. 09:28</td>\n",
       "      <td>이 정도면 새 외국인 타자 에디슨 러셀(키움 히어로즈)은 복덩이다. 험난한 7월을 ...</td>\n",
       "      <td>이 정도면 새 외국인 타자 에디슨 러셀(키움 히어로즈)은 복덩이다. 키움은 5월 말...</td>\n",
       "      <td>https://v.daum.net/v/20200802092856893</td>\n",
       "      <td>daum</td>\n",
       "      <td>[외국, 에디슨, 러셀, 키움, 히어로즈, 복덩, 험난, 반등, 성공, 타격, 마운...</td>\n",
       "      <td>[외국, 에디슨, 러셀, 키움, 히어로즈, 복덩, 테일러, 모터, 방출, 이후, 달...</td>\n",
       "    </tr>\n",
       "    <tr>\n",
       "      <th>99997</th>\n",
       "      <td>99997</td>\n",
       "      <td>STL, 코로나19 확진 4명 추가..선수 총 3명</td>\n",
       "      <td>2020.08.02. 01:16</td>\n",
       "      <td>세인트루이스 카디널스 구단에 코로나19 확진자가 추가로 발생,총 6명으로 늘어났다....</td>\n",
       "      <td>세인트루이스 카디널스 구단에 코로나19 확진자가 추가로 발생,총 6명으로 늘어났다....</td>\n",
       "      <td>https://v.daum.net/v/20200802011623768</td>\n",
       "      <td>daum</td>\n",
       "      <td>[세인트루이스, 카디널스, 구단, 코로나, 확진자, 추가, 발생, 총, 미국, 매체...</td>\n",
       "      <td>[세인트루이스, 카디널스, 구단, 코로나, 확진자, 추가, 발생, 총, 세인트루이스...</td>\n",
       "    </tr>\n",
       "    <tr>\n",
       "      <th>99998</th>\n",
       "      <td>99998</td>\n",
       "      <td>[사직 게임노트]'노경은 완벽투' 롯데, KIA 8-0 꺾고 '8월 2연승' 신바람</td>\n",
       "      <td>2020.08.02. 19:49</td>\n",
       "      <td>롯데 자이언츠가 8월 첫 주말을 연승으로 장식했다. 롯데는 2일 사직구장에서 열린 ...</td>\n",
       "      <td>롯데 자이언츠가 8월 첫 주말을 연승으로 장식했다. 롯데는 2일 사직구장에서 열린 ...</td>\n",
       "      <td>https://v.daum.net/v/20200802194902874</td>\n",
       "      <td>daum</td>\n",
       "      <td>[롯데, 자이언츠, 첫, 주말, 연승, 장식, 롯데, 사직구장, 타이거즈전, 이닝,...</td>\n",
       "      <td>[롯데, 자이언츠, 첫, 주말, 연승, 장식, 롯데, 사직구장, 타이거즈전, 이닝,...</td>\n",
       "    </tr>\n",
       "    <tr>\n",
       "      <th>99999</th>\n",
       "      <td>99999</td>\n",
       "      <td>루니의 퍼거슨 비판..\"UCL 결승전 당시 전술은 잘못되었어\"</td>\n",
       "      <td>2020.08.02. 21:33</td>\n",
       "      <td>웨인 루니(더비 카운티)가 과거 맨체스터 유나이티드에서 뛰던 시절 알렉스 퍼거슨 감...</td>\n",
       "      <td>웨인 루니(더비 카운티)가 과거 맨체스터 유나이티드에서 뛰던 시절 알렉스 퍼거슨 감...</td>\n",
       "      <td>https://v.daum.net/v/20200802213338082</td>\n",
       "      <td>daum</td>\n",
       "      <td>[웨, 루니, 더비, 카운티, 과거, 맨체스터, 유나이티드, 시절, 알렉스, 퍼거슨...</td>\n",
       "      <td>[웨, 루니, 더비, 카운티, 과거, 맨체스터, 유나이티드, 시절, 알렉스, 퍼거슨...</td>\n",
       "    </tr>\n",
       "  </tbody>\n",
       "</table>\n",
       "<p>100000 rows × 9 columns</p>\n",
       "</div>"
      ],
      "text/plain": [
       "          id                                           title  \\\n",
       "0          0             액상담배 美흡연자 8명 숨졌다, 복지부 \"한국 판매 금지 검토\"   \n",
       "1          1                  세력 키우는 태풍 '타파'…22일 밤 부산 앞바다 통과   \n",
       "2          2                    [내일날씨] 태풍 '타파' 북상…전국에 강한 비바람   \n",
       "3          3                   30년 만에…친정에서 차례 지낸 며느리의 특별한 추석   \n",
       "4          4        미국 '앨리스 공주'에게 베푼 고종의 오찬…황제의 식탁에 서린 슬픈 역사   \n",
       "...      ...                                             ...   \n",
       "99995  99995    [부산 프리토크]롯데 허문회 감독 \"전준우 주루 미스라 생각, 마음가짐 좋았다\"   \n",
       "99996  99996           [SC핫피플] 매일 타점 생산하는 러셀, 그가 오자 키움이 살아났다   \n",
       "99997  99997                    STL, 코로나19 확진 4명 추가..선수 총 3명   \n",
       "99998  99998  [사직 게임노트]'노경은 완벽투' 롯데, KIA 8-0 꺾고 '8월 2연승' 신바람   \n",
       "99999  99999              루니의 퍼거슨 비판..\"UCL 결승전 당시 전술은 잘못되었어\"   \n",
       "\n",
       "                      date                                               body  \\\n",
       "0      2019.09.20. 오후 6:38  중증 폐질환 유발 가능성 있다 미국서 530건 의심환자 발생, 8명 사망국내 상황 ...   \n",
       "1      2019.09.20. 오후 5:19  23일까지 강하고 많은 비제주에 최대 600밀리미터 물폭탄 제17호 태풍 타파가 한...   \n",
       "2      2019.09.20. 오전 9:00  강한 비바람 때문에 행인이 우산을 꽉 붙잡고 지나가고 있다. 토요일인 21일 제17...   \n",
       "3      2019.09.19. 오후 3:01  김현주의 즐거운 갱년기(22) 추석연휴를 맞아 남편과 딸은 제주도로 향했다. 나는 ...   \n",
       "4      2019.09.20. 오후 1:20  1905년 9월20일 고종이 미국 시어도어 루즈벨트 대통령의 딸인 앨리스와의 공식오...   \n",
       "...                    ...                                                ...   \n",
       "99995    2020.08.02. 14:51  롯데 자이언츠 허문회 감독은 전준우의 재치 있는 주루 플레이에 대한 생각을 밝혔다....   \n",
       "99996    2020.08.02. 09:28  이 정도면 새 외국인 타자 에디슨 러셀(키움 히어로즈)은 복덩이다. 험난한 7월을 ...   \n",
       "99997    2020.08.02. 01:16  세인트루이스 카디널스 구단에 코로나19 확진자가 추가로 발생,총 6명으로 늘어났다....   \n",
       "99998    2020.08.02. 19:49  롯데 자이언츠가 8월 첫 주말을 연승으로 장식했다. 롯데는 2일 사직구장에서 열린 ...   \n",
       "99999    2020.08.02. 21:33  웨인 루니(더비 카운티)가 과거 맨체스터 유나이티드에서 뛰던 시절 알렉스 퍼거슨 감...   \n",
       "\n",
       "                                                 summary  \\\n",
       "0      정부가 액상형 전자담배 사용 자제를 권고하고 나섰다.복지부는 미국 사례를 참조해 액...   \n",
       "1      제17호 태풍 타파 가 한반도에 접근할수록 점점 강해지고 있는 데다 부산 앞바다를 ...   \n",
       "2      토요일인 21일 제17호 태풍 타파 영향으로 전국이 흐리고 비가 내리겠다.기상청은 ...   \n",
       "3      추석 연휴가 시작되기 전 남편과 딸 아이는 제주도행 비행기를 탔고, 잡지 제작 일정...   \n",
       "4      1905년 9월20일 고종 황제는 국빈자격으로 대한제국을 방문한 앨리스 루즈벨트를 ...   \n",
       "...                                                  ...   \n",
       "99995  롯데 자이언츠 허문회 감독은 전준우의 재치 있는 주루 플레이에 대한 생각을 밝혔다....   \n",
       "99996  이 정도면 새 외국인 타자 에디슨 러셀(키움 히어로즈)은 복덩이다. 키움은 5월 말...   \n",
       "99997  세인트루이스 카디널스 구단에 코로나19 확진자가 추가로 발생,총 6명으로 늘어났다....   \n",
       "99998  롯데 자이언츠가 8월 첫 주말을 연승으로 장식했다. 롯데는 2일 사직구장에서 열린 ...   \n",
       "99999  웨인 루니(더비 카운티)가 과거 맨체스터 유나이티드에서 뛰던 시절 알렉스 퍼거슨 감...   \n",
       "\n",
       "                                                    link   site  \\\n",
       "0      https://news.naver.com/main/ranking/read.nhn?r...  naver   \n",
       "1      https://news.naver.com/main/ranking/read.nhn?r...  naver   \n",
       "2      https://news.naver.com/main/ranking/read.nhn?r...  naver   \n",
       "3      https://news.naver.com/main/ranking/read.nhn?r...  naver   \n",
       "4      https://news.naver.com/main/ranking/read.nhn?r...  naver   \n",
       "...                                                  ...    ...   \n",
       "99995             https://v.daum.net/v/20200802145136484   daum   \n",
       "99996             https://v.daum.net/v/20200802092856893   daum   \n",
       "99997             https://v.daum.net/v/20200802011623768   daum   \n",
       "99998             https://v.daum.net/v/20200802194902874   daum   \n",
       "99999             https://v.daum.net/v/20200802213338082   daum   \n",
       "\n",
       "                                              body_nouns  \\\n",
       "0      [중증, 폐질환, 유발, 가능성, 미국서, 건, 의심환자, 발생, 사망국내, 상황,...   \n",
       "1      [제주, 최대, 밀리미터, 물폭탄, 제호, 태풍, 타파, 한반도, 접근, 부산, 앞...   \n",
       "2      [비바람, 행인, 우산, 토요일, 제호, 태풍, 타파, 영향, 전국, 비, 예상, ...   \n",
       "3      [김현주, 갱년기, 추석연휴, 남편, 딸, 제주도, 일정상, 명절, 당일, 어머니,...   \n",
       "4      [고종, 미국, 시어도, 루즈벨트, 대통령의, 딸, 앨리스와, 공식오찬, 마련, 음...   \n",
       "...                                                  ...   \n",
       "99995  [롯데, 자이언츠, 허문회, 감독, 전준우, 재치, 주루, 플레이, 전준우, 부산,...   \n",
       "99996  [외국, 에디슨, 러셀, 키움, 히어로즈, 복덩, 험난, 반등, 성공, 타격, 마운...   \n",
       "99997  [세인트루이스, 카디널스, 구단, 코로나, 확진자, 추가, 발생, 총, 미국, 매체...   \n",
       "99998  [롯데, 자이언츠, 첫, 주말, 연승, 장식, 롯데, 사직구장, 타이거즈전, 이닝,...   \n",
       "99999  [웨, 루니, 더비, 카운티, 과거, 맨체스터, 유나이티드, 시절, 알렉스, 퍼거슨...   \n",
       "\n",
       "                                           summary_nouns  \n",
       "0      [정부, 액상형, 전자담배, 사용, 자제, 권고, 복지부, 미국, 사례, 참조, 액...  \n",
       "1      [제호, 태풍, 타파, 한반도, 접근, 부산, 앞바다, 전망, 예상, 중심, 기압,...  \n",
       "2      [토요일, 제호, 태풍, 타파, 영향, 전국, 비, 기상청, 제주도, 동해안, 남해...  \n",
       "3      [추석, 연휴, 시작, 남편, 주도행, 비행기, 제작, 일정상, 명절, 당일, 아버...  \n",
       "4      [고종, 황제, 국빈자격, 대한제국, 방문, 앨리스, 루즈벨트, 덕수궁, 중명전, ...  \n",
       "...                                                  ...  \n",
       "99995  [롯데, 자이언츠, 허문회, 감독, 전준우, 재치, 주루, 플레이, 루, 사이, 전...  \n",
       "99996  [외국, 에디슨, 러셀, 키움, 히어로즈, 복덩, 테일러, 모터, 방출, 이후, 달...  \n",
       "99997  [세인트루이스, 카디널스, 구단, 코로나, 확진자, 추가, 발생, 총, 세인트루이스...  \n",
       "99998  [롯데, 자이언츠, 첫, 주말, 연승, 장식, 롯데, 사직구장, 타이거즈전, 이닝,...  \n",
       "99999  [웨, 루니, 더비, 카운티, 과거, 맨체스터, 유나이티드, 시절, 알렉스, 퍼거슨...  \n",
       "\n",
       "[100000 rows x 9 columns]"
      ]
     },
     "execution_count": 29,
     "metadata": {},
     "output_type": "execute_result"
    }
   ],
   "source": [
    "news_tokenized"
   ]
  },
  {
   "cell_type": "code",
   "execution_count": null,
   "metadata": {},
   "outputs": [],
   "source": []
  }
 ],
 "metadata": {
  "kernelspec": {
   "display_name": "Python 3",
   "language": "python",
   "name": "python3"
  },
  "language_info": {
   "codemirror_mode": {
    "name": "ipython",
    "version": 3
   },
   "file_extension": ".py",
   "mimetype": "text/x-python",
   "name": "python",
   "nbconvert_exporter": "python",
   "pygments_lexer": "ipython3",
   "version": "3.8.3"
  },
  "toc": {
   "base_numbering": 1,
   "nav_menu": {},
   "number_sections": true,
   "sideBar": true,
   "skip_h1_title": false,
   "title_cell": "Table of Contents",
   "title_sidebar": "Contents",
   "toc_cell": false,
   "toc_position": {
    "height": "398px",
    "left": "105px",
    "top": "110px",
    "width": "256px"
   },
   "toc_section_display": true,
   "toc_window_display": false
  },
  "varInspector": {
   "cols": {
    "lenName": 16,
    "lenType": 16,
    "lenVar": 40
   },
   "kernels_config": {
    "python": {
     "delete_cmd_postfix": "",
     "delete_cmd_prefix": "del ",
     "library": "var_list.py",
     "varRefreshCmd": "print(var_dic_list())"
    },
    "r": {
     "delete_cmd_postfix": ") ",
     "delete_cmd_prefix": "rm(",
     "library": "var_list.r",
     "varRefreshCmd": "cat(var_dic_list()) "
    }
   },
   "position": {
    "height": "257.667px",
    "left": "906px",
    "right": "20px",
    "top": "99px",
    "width": "350px"
   },
   "types_to_exclude": [
    "module",
    "function",
    "builtin_function_or_method",
    "instance",
    "_Feature"
   ],
   "window_display": false
  }
 },
 "nbformat": 4,
 "nbformat_minor": 4
}
