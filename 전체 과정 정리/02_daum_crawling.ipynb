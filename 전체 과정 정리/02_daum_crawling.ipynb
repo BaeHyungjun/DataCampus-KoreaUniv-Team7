{
 "cells": [
  {
   "cell_type": "markdown",
   "metadata": {},
   "source": [
    "# 다음 뉴스 크롤링\n",
    "- 최근 3년(2017.08.01 ~ 2020.08.02)간 분야별 상위랭킹 50개 기사의 {게시날짜, 제목, 본문, 요약본, 링크} 스크래핑\n",
    "- news.db 데이터베이스 내 daumnews 테이블에 삽입\n",
    "- 총 **109,419**건 수집"
   ]
  },
  {
   "cell_type": "code",
   "execution_count": 29,
   "metadata": {},
   "outputs": [],
   "source": [
    "import requests\n",
    "from requests import request\n",
    "from requests.compat import urljoin, urlparse\n",
    "from requests.exceptions import HTTPError\n",
    "from bs4 import BeautifulSoup\n",
    "import time\n",
    "import re\n",
    "import random\n",
    "import pandas as pd\n",
    "from datetime import datetime, timedelta "
   ]
  },
  {
   "cell_type": "markdown",
   "metadata": {},
   "source": [
    "## 함수"
   ]
  },
  {
   "cell_type": "markdown",
   "metadata": {},
   "source": [
    "### download()"
   ]
  },
  {
   "cell_type": "code",
   "execution_count": 2,
   "metadata": {},
   "outputs": [],
   "source": [
    "def download(url, params={}, headers={}, method='GET', limit=3):\n",
    "    try:\n",
    "        resp = request(method, url,\n",
    "               params=params if method=='GET' else {},\n",
    "               data=params if method=='POST' else {},\n",
    "               headers=headers)\n",
    "        resp.raise_for_status()\n",
    "    except HTTPError as e:\n",
    "        if limit > 0 and e.response.status_code >= 500:\n",
    "            print(limit)\n",
    "            time.sleep(random.random()*5) # => random\n",
    "            resp = download(url, params, headers, method, limit-1)\n",
    "        else:\n",
    "            print('[{}] '.format(e.response.status_code) + url)\n",
    "            print(e.response.status_code)\n",
    "            print(e.response.reason)\n",
    "            print(e.response.headers)\n",
    "    return resp"
   ]
  },
  {
   "cell_type": "markdown",
   "metadata": {},
   "source": [
    "### get_dateslist()"
   ]
  },
  {
   "cell_type": "code",
   "execution_count": 3,
   "metadata": {},
   "outputs": [],
   "source": [
    "def get_dateslist(start_str, end_str):\n",
    "    start = datetime.strptime(start_str, '%Y%m%d') \n",
    "    end = datetime.strptime(end_str, '%Y%m%d')\n",
    "    end += timedelta(days=1)\n",
    "\n",
    "    datelst = [] \n",
    "    while start.strftime('%Y%m%d') != end.strftime('%Y%m%d'): \n",
    "        datelst.append(start.strftime('%Y%m%d')) \n",
    "        start += timedelta(days=1)\n",
    "    \n",
    "    return datelst"
   ]
  },
  {
   "cell_type": "markdown",
   "metadata": {},
   "source": [
    "### get_newslink()"
   ]
  },
  {
   "cell_type": "code",
   "execution_count": 4,
   "metadata": {},
   "outputs": [],
   "source": [
    "def get_newslink(url_base, params, headers, datelst):\n",
    "    kind = ['news', 'entertain', 'sports']\n",
    "    newslink = []\n",
    "    \n",
    "    for i in datelst:\n",
    "        for j in kind:\n",
    "            \n",
    "            params['regDate']=i\n",
    "            url = url_base + '/' + j\n",
    "            \n",
    "            resp = download(url, params=params, headers=headers)\n",
    "            if resp.status_code!=200:\n",
    "                continue\n",
    "            dom = BeautifulSoup(resp.content, 'lxml')\n",
    "\n",
    "            for _ in dom.select('.list_news2 .cont_thumb > strong > a'):\n",
    "                if _['href'] not in newslink:\n",
    "                    newslink.append(_['href'])\n",
    "    return newslink"
   ]
  },
  {
   "cell_type": "markdown",
   "metadata": {},
   "source": [
    "### get_newstext()\n",
    "- 제목, 기사작성일, 본문, 요약 crawling\n",
    "- 기사작성일: 수정일시는 없는 기사도 많았으므로 입력일시를 사용\n",
    "- 기사 자동요약이 없는 경우에는 기사는 데이터 수집하지 않도록 구현"
   ]
  },
  {
   "cell_type": "code",
   "execution_count": 5,
   "metadata": {},
   "outputs": [],
   "source": [
    "def get_newstext(url):\n",
    "    # url 받아서 DOM 객체 만들기\n",
    "    html = requests.get(url).text\n",
    "    dom = BeautifulSoup(html, 'html.parser')\n",
    "    \n",
    "    # summary 버튼 유무 확인하고 있으면 data 가져오기\n",
    "    if not dom.select('.btn_summary + div p'):\n",
    "        return None\n",
    "    else:\n",
    "        # 제목\n",
    "        title = dom.select_one('em + h3').text.strip()  \n",
    "\n",
    "        # 기사작성일\n",
    "        date = dom.select_one('.info_view .num_date').text.strip()\n",
    "        \n",
    "        # 본문\n",
    "        body_list = []\n",
    "        for _ in dom.select('.article_view > section p'):\n",
    "            body_list.append(_.text.strip())\n",
    "        if len(body_list) > 1:\n",
    "            body_list.pop() # 기자 이메일 제거\n",
    "        body = '\\n'.join(body_list)\n",
    "        \n",
    "        if body == '':\n",
    "            return None\n",
    "        \n",
    "        # 요약\n",
    "        summary_list = []\n",
    "        for _ in dom.select('.btn_summary + div p'):\n",
    "            summary_list.append(_.text.strip())\n",
    "        summary = '\\n'.join(summary_list)\n",
    "\n",
    "    return title, date, body, summary"
   ]
  },
  {
   "cell_type": "markdown",
   "metadata": {},
   "source": [
    "## DB 생성"
   ]
  },
  {
   "cell_type": "markdown",
   "metadata": {},
   "source": [
    "news.db는 data 디렉터리 안에 위치"
   ]
  },
  {
   "cell_type": "code",
   "execution_count": 40,
   "metadata": {},
   "outputs": [],
   "source": [
    "import sqlite3\n",
    "\n",
    "conn = sqlite3.connect('../data/news.db')\n",
    "cur = conn.cursor()"
   ]
  },
  {
   "cell_type": "code",
   "execution_count": 7,
   "metadata": {
    "scrolled": true
   },
   "outputs": [],
   "source": [
    "# cur.executescript('''\n",
    "#     DROP TABLE IF EXISTS daumnews;\n",
    "#     CREATE TABLE daumnews(\n",
    "#         id INTEGER PRIMARY KEY AUTOINCREMENT NOT NULL,\n",
    "#         title TEXT NOT NULL,\n",
    "#         date TEXT,\n",
    "#         body TEXT,\n",
    "#         summary TEXT,\n",
    "#         link TEXT NOT NULL\n",
    "#     );\n",
    "# ''')"
   ]
  },
  {
   "cell_type": "markdown",
   "metadata": {},
   "source": [
    "## INSERT TO DB (뉴스링크, 내용)\n",
    "20170801 ~ 20200802\n",
    "### 20170801 - 20180731(총 365일)\n",
    "- 2017년 03월 23일부터만 랭킹뉴스 데이터 존재"
   ]
  },
  {
   "cell_type": "code",
   "execution_count": 8,
   "metadata": {},
   "outputs": [],
   "source": [
    "url_base = 'https://news.daum.net/ranking/popular'\n",
    "params = {}\n",
    "headers = {\n",
    "            'user-agent': 'Mozilla/5.0 (Windows NT 10.0; Win64; x64) AppleWebKit/537.36 (KHTML, like Gecko) Chrome/84.0.4147.105 Safari/537.36'\n",
    "        }\n",
    "\n",
    "datelst = get_dateslist('20170801', '20180731')\n",
    "newslink = get_newslink(url_base, params, headers, datelst)"
   ]
  },
  {
   "cell_type": "code",
   "execution_count": 9,
   "metadata": {},
   "outputs": [],
   "source": [
    "for _ in newslink:\n",
    "    if get_newstext(_) != None:\n",
    "        title, date, body, summary = get_newstext(_)\n",
    "\n",
    "        # INSERT TO DB\n",
    "        cur.execute('INSERT INTO daumnews VALUES(NULL,?,?,?,?,?)',[title, date, body, summary, _])\n",
    "        conn.commit()"
   ]
  },
  {
   "cell_type": "markdown",
   "metadata": {},
   "source": [
    "### 20180801 - 20190731(총 365일)"
   ]
  },
  {
   "cell_type": "code",
   "execution_count": 20,
   "metadata": {},
   "outputs": [],
   "source": [
    "url_base = 'https://news.daum.net/ranking/popular'\n",
    "params = {}\n",
    "headers = {\n",
    "            'user-agent': 'Mozilla/5.0 (Windows NT 10.0; Win64; x64) AppleWebKit/537.36 (KHTML, like Gecko) Chrome/84.0.4147.105 Safari/537.36'\n",
    "        }\n",
    "\n",
    "datelst = get_dateslist('20180801', '20190731')\n",
    "newslink = get_newslink(url_base, params, headers, datelst)"
   ]
  },
  {
   "cell_type": "code",
   "execution_count": 21,
   "metadata": {},
   "outputs": [],
   "source": [
    "for _ in newslink:\n",
    "    if get_newstext(_) != None:\n",
    "        title, date, body, summary = get_newstext(_)\n",
    "\n",
    "        # INSERT TO DB\n",
    "        cur.execute('INSERT INTO daumnews VALUES(NULL,?,?,?,?,?)',[title, date, body, summary, _])\n",
    "        conn.commit()"
   ]
  },
  {
   "cell_type": "markdown",
   "metadata": {},
   "source": [
    "### 20190801 - 20200802(총 368일)"
   ]
  },
  {
   "cell_type": "code",
   "execution_count": 37,
   "metadata": {},
   "outputs": [],
   "source": [
    "url_base = 'https://news.daum.net/ranking/popular'\n",
    "params = {}\n",
    "headers = {\n",
    "            'user-agent': 'Mozilla/5.0 (Windows NT 10.0; Win64; x64) AppleWebKit/537.36 (KHTML, like Gecko) Chrome/84.0.4147.105 Safari/537.36'\n",
    "        }\n",
    "\n",
    "datelst = get_dateslist('20190801', '20200802')\n",
    "newslink = get_newslink(url_base, params, headers, datelst)"
   ]
  },
  {
   "cell_type": "code",
   "execution_count": 41,
   "metadata": {},
   "outputs": [],
   "source": [
    "for _ in newslink:\n",
    "    if get_newstext(_) != None:\n",
    "        title, date, body, summary = get_newstext(_)\n",
    "\n",
    "        # INSERT TO DB\n",
    "        cur.execute('INSERT INTO daumnews VALUES(NULL,?,?,?,?,?)',[title, date, body, summary, _])\n",
    "        conn.commit()"
   ]
  },
  {
   "cell_type": "code",
   "execution_count": 42,
   "metadata": {},
   "outputs": [],
   "source": [
    "cur.close()\n",
    "conn.close()"
   ]
  },
  {
   "cell_type": "markdown",
   "metadata": {},
   "source": [
    "navernews 테이블이 있던 news.db에 daumnews 테이블 데이터를 추가한 후 db 이름 변경  \n",
    "-> **news_raw.db**"
   ]
  },
  {
   "cell_type": "code",
   "execution_count": null,
   "metadata": {},
   "outputs": [],
   "source": []
  },
  {
   "cell_type": "code",
   "execution_count": null,
   "metadata": {},
   "outputs": [],
   "source": []
  },
  {
   "cell_type": "code",
   "execution_count": null,
   "metadata": {},
   "outputs": [],
   "source": []
  },
  {
   "cell_type": "markdown",
   "metadata": {},
   "source": [
    "## 데이터프레임으로 바꿀 때"
   ]
  },
  {
   "cell_type": "code",
   "execution_count": null,
   "metadata": {},
   "outputs": [],
   "source": [
    "def make_crawed_df(url_list):\n",
    "    col_names = ['title', 'date', 'body', 'summary', 'link']\n",
    "    rows = []\n",
    "    \n",
    "    for _ in url_list:\n",
    "        if get_newstext(_) != None:\n",
    "            rows.append(get_newstext(_) + [_])\n",
    "        \n",
    "    df = pd.DataFrame(rows, columns=col_names)\n",
    "    \n",
    "    return df"
   ]
  },
  {
   "cell_type": "code",
   "execution_count": null,
   "metadata": {},
   "outputs": [],
   "source": [
    "url_list = ['https://news.v.daum.net/v/20200728064119204', 'https://news.v.daum.net/v/20200728171755863',\n",
    "           'https://news.v.daum.net/v/20200728194024562', 'https://news.v.daum.net/v/20200728214416635']\n",
    "make_crawed_df(url_list)"
   ]
  },
  {
   "cell_type": "code",
   "execution_count": null,
   "metadata": {},
   "outputs": [],
   "source": []
  }
 ],
 "metadata": {
  "kernelspec": {
   "display_name": "Python 3",
   "language": "python",
   "name": "python3"
  },
  "language_info": {
   "codemirror_mode": {
    "name": "ipython",
    "version": 3
   },
   "file_extension": ".py",
   "mimetype": "text/x-python",
   "name": "python",
   "nbconvert_exporter": "python",
   "pygments_lexer": "ipython3",
   "version": "3.8.3"
  },
  "toc": {
   "base_numbering": 1,
   "nav_menu": {},
   "number_sections": true,
   "sideBar": true,
   "skip_h1_title": false,
   "title_cell": "Table of Contents",
   "title_sidebar": "Contents",
   "toc_cell": false,
   "toc_position": {
    "height": "calc(100% - 180px)",
    "left": "10px",
    "top": "150px",
    "width": "232.708px"
   },
   "toc_section_display": true,
   "toc_window_display": true
  },
  "varInspector": {
   "cols": {
    "lenName": 16,
    "lenType": 16,
    "lenVar": 40
   },
   "kernels_config": {
    "python": {
     "delete_cmd_postfix": "",
     "delete_cmd_prefix": "del ",
     "library": "var_list.py",
     "varRefreshCmd": "print(var_dic_list())"
    },
    "r": {
     "delete_cmd_postfix": ") ",
     "delete_cmd_prefix": "rm(",
     "library": "var_list.r",
     "varRefreshCmd": "cat(var_dic_list()) "
    }
   },
   "types_to_exclude": [
    "module",
    "function",
    "builtin_function_or_method",
    "instance",
    "_Feature"
   ],
   "window_display": false
  }
 },
 "nbformat": 4,
 "nbformat_minor": 4
}
