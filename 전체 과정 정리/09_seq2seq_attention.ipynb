{
 "cells": [
  {
   "cell_type": "code",
   "execution_count": 1,
   "metadata": {
    "colab": {
     "base_uri": "https://localhost:8080/",
     "height": 34
    },
    "colab_type": "code",
    "id": "YbZpxcZfN8oE",
    "outputId": "f413d42f-fca3-4a26-a2a7-457ff3092292"
   },
   "outputs": [],
   "source": [
    "import pandas as pd\n",
    "import numpy as np\n",
    "import string\n",
    "import pickle\n",
    "import tensorflow as tf\n",
    "from keras.preprocessing.text import Tokenizer\n",
    "import datetime\n",
    "import json"
   ]
  },
  {
   "cell_type": "markdown",
   "metadata": {},
   "source": [
    "## 뉴스 본문-서머리 파일 읽어오기"
   ]
  },
  {
   "cell_type": "code",
   "execution_count": 66,
   "metadata": {
    "colab": {
     "base_uri": "https://localhost:8080/",
     "height": 51
    },
    "colab_type": "code",
    "id": "ATqji5eL4W4U",
    "outputId": "507f45a5-22c9-4119-9100-bc0ba0780958"
   },
   "outputs": [],
   "source": [
    "df= pd.read_pickle('hi.pkl')"
   ]
  },
  {
   "cell_type": "code",
   "execution_count": 67,
   "metadata": {},
   "outputs": [
    {
     "data": {
      "text/plain": [
       "(100000, 2)"
      ]
     },
     "execution_count": 67,
     "metadata": {},
     "output_type": "execute_result"
    }
   ],
   "source": [
    "df.shape"
   ]
  },
  {
   "cell_type": "code",
   "execution_count": 68,
   "metadata": {
    "colab": {},
    "colab_type": "code",
    "id": "F_qXu5VX4XIp"
   },
   "outputs": [
    {
     "name": "stdout",
     "output_type": "stream",
     "text": [
      "                                          body_nouns  \\\n",
      "0  중증 폐질환 유발 가능성 미국서 건 의심환자 발생 사망국내 상황 악화 판매 금지 고...   \n",
      "1  제주 최대 밀리미터 물폭탄 제호 태풍 타파 한반도 접근 부산 앞바다 전망 예상 기상...   \n",
      "2  비바람 행인 우산 토요일 제호 태풍 타파 영향 전국 비 예상 강수량 제주 ∼밀리미터...   \n",
      "\n",
      "                                       summary_nouns  \n",
      "0  정부 액상형 전자담배 사용 자제 권고 복지부 미국 사례 참조 액상형 전자담배 사용 ...  \n",
      "1  제호 태풍 타파 한반도 접근 부산 앞바다 전망 예상 중심 기압 hPa, 중심 부근 ...  \n",
      "2  토요일 제호 태풍 타파 영향 전국 비 기상청 제주도 동해안 남해안 지리산 부근 중심...  \n",
      "                                              body_nouns  \\\n",
      "99997  세인트루이스 카디널스 구단 코로나 확진자 추가 발생 총 미국 매체 세인트루이스 포스...   \n",
      "99998  롯데 자이언츠 첫 주말 연승 장식 롯데 사직구장 타이거즈전 이닝 무실점 호투한 노경...   \n",
      "99999  웨 루니 더비 카운티 과거 맨체스터 유나이티드 시절 알렉스 퍼거슨 감독 전술 비판 ...   \n",
      "\n",
      "                                           summary_nouns  \n",
      "99997  세인트루이스 카디널스 구단 코로나 확진자 추가 발생 총 세인트루이스 코로나 확진 판...  \n",
      "99998  롯데 자이언츠 첫 주말 연승 장식 롯데 사직구장 타이거즈전 이닝 무실점 호투한 노경...  \n",
      "99999  웨 루니 더비 카운티 과거 맨체스터 유나이티드 시절 알렉스 퍼거슨 감독 전술 비판 ...  \n"
     ]
    }
   ],
   "source": [
    "lines = df.copy()\n",
    "print(lines.head(3))\n",
    "print(lines.tail(3))"
   ]
  },
  {
   "cell_type": "code",
   "execution_count": 69,
   "metadata": {},
   "outputs": [],
   "source": [
    "lines.columns = ['body','summ']"
   ]
  },
  {
   "cell_type": "code",
   "execution_count": 70,
   "metadata": {
    "colab": {},
    "colab_type": "code",
    "id": "NkdgGL404XGc"
   },
   "outputs": [],
   "source": [
    "#대문자-> 소문자 변경\n",
    "lines['body']=lines['body'].apply(lambda x: x.lower())\n",
    "lines['summ']=lines['summ'].apply(lambda x: x.lower())"
   ]
  },
  {
   "cell_type": "code",
   "execution_count": 71,
   "metadata": {
    "colab": {},
    "colab_type": "code",
    "id": "gOkzFxTe4fhL"
   },
   "outputs": [],
   "source": [
    "#특수문자 제거\n",
    "exclude = set(string.punctuation)\n",
    "lines.body=lines.body.apply(lambda x: ''.join(ch for ch in x if ch not in exclude))\n",
    "lines.summ=lines.summ.apply(lambda x: ''.join(ch for ch in x if ch not in exclude))"
   ]
  },
  {
   "cell_type": "code",
   "execution_count": 72,
   "metadata": {
    "colab": {
     "base_uri": "https://localhost:8080/",
     "height": 204
    },
    "colab_type": "code",
    "id": "tzfDq12jOeZD",
    "outputId": "ff9515af-b9c5-4ebe-a62d-26bab4e83e6d"
   },
   "outputs": [
    {
     "name": "stdout",
     "output_type": "stream",
     "text": [
      "                                                body  \\\n",
      "0  중증 폐질환 유발 가능성 미국서 건 의심환자 발생 사망국내 상황 악화 판매 금지 고...   \n",
      "1  제주 최대 밀리미터 물폭탄 제호 태풍 타파 한반도 접근 부산 앞바다 전망 예상 기상...   \n",
      "2  비바람 행인 우산 토요일 제호 태풍 타파 영향 전국 비 예상 강수량 제주 ∼밀리미터...   \n",
      "\n",
      "                                                summ  \n",
      "0  정부 액상형 전자담배 사용 자제 권고 복지부 미국 사례 참조 액상형 전자담배 사용 ...  \n",
      "1  제호 태풍 타파 한반도 접근 부산 앞바다 전망 예상 중심 기압 hpa 중심 부근 최...  \n",
      "2  토요일 제호 태풍 타파 영향 전국 비 기상청 제주도 동해안 남해안 지리산 부근 중심...  \n",
      "                                                    body  \\\n",
      "99997  세인트루이스 카디널스 구단 코로나 확진자 추가 발생 총 미국 매체 세인트루이스 포스...   \n",
      "99998  롯데 자이언츠 첫 주말 연승 장식 롯데 사직구장 타이거즈전 이닝 무실점 호투한 노경...   \n",
      "99999  웨 루니 더비 카운티 과거 맨체스터 유나이티드 시절 알렉스 퍼거슨 감독 전술 비판 ...   \n",
      "\n",
      "                                                    summ  \n",
      "99997  세인트루이스 카디널스 구단 코로나 확진자 추가 발생 총 세인트루이스 코로나 확진 판...  \n",
      "99998  롯데 자이언츠 첫 주말 연승 장식 롯데 사직구장 타이거즈전 이닝 무실점 호투한 노경...  \n",
      "99999  웨 루니 더비 카운티 과거 맨체스터 유나이티드 시절 알렉스 퍼거슨 감독 전술 비판 ...  \n"
     ]
    }
   ],
   "source": [
    "print(lines.head(3))\n",
    "print(lines.tail(3))"
   ]
  },
  {
   "cell_type": "code",
   "execution_count": 73,
   "metadata": {
    "colab": {},
    "colab_type": "code",
    "id": "2tVHM-oR4fpm"
   },
   "outputs": [],
   "source": [
    "#summary 문자 앞뒤에 'start of sentence', 'end of sentence' 집어넣기\n",
    "lines.summ = lines.summ.apply(lambda x : 'sofs '+ x + ' eofs')"
   ]
  },
  {
   "cell_type": "code",
   "execution_count": 10,
   "metadata": {
    "colab": {
     "base_uri": "https://localhost:8080/",
     "height": 204
    },
    "colab_type": "code",
    "id": "2D_AMqsdndne",
    "outputId": "cb4eacbf-03ca-4005-8461-9766e39b19e6"
   },
   "outputs": [
    {
     "name": "stdout",
     "output_type": "stream",
     "text": [
      "                                                body  \\\n",
      "0  중증 폐질환 유발 가능성 미국서 건 의심환자 발생 사망국내 상황 악화 판매 금지 고...   \n",
      "1  제주 최대 밀리미터 물폭탄 제호 태풍 타파 한반도 접근 부산 앞바다 전망 예상 기상...   \n",
      "2  비바람 행인 우산 토요일 제호 태풍 타파 영향 전국 비 예상 강수량 제주 ∼밀리미터...   \n",
      "\n",
      "                                                summ  \n",
      "0  sofs 정부 액상형 전자담배 사용 자제 권고 복지부 미국 사례 참조 액상형 전자담...  \n",
      "1  sofs 제호 태풍 타파 한반도 접근 부산 앞바다 전망 예상 중심 기압 hPa, 중...  \n",
      "2  sofs 토요일 제호 태풍 타파 영향 전국 비 기상청 제주도 동해안 남해안 지리산 ...  \n",
      "                                                    body  \\\n",
      "99997  세인트루이스 카디널스 구단 코로나 확진자 추가 발생 총 미국 매체 세인트루이스 포스...   \n",
      "99998  롯데 자이언츠 첫 주말 연승 장식 롯데 사직구장 타이거즈전 이닝 무실점 호투한 노경...   \n",
      "99999  웨 루니 더비 카운티 과거 맨체스터 유나이티드 시절 알렉스 퍼거슨 감독 전술 비판 ...   \n",
      "\n",
      "                                                    summ  \n",
      "99997  sofs 세인트루이스 카디널스 구단 코로나 확진자 추가 발생 총 세인트루이스 코로나...  \n",
      "99998  sofs 롯데 자이언츠 첫 주말 연승 장식 롯데 사직구장 타이거즈전 이닝 무실점 호...  \n",
      "99999  sofs 웨 루니 더비 카운티 과거 맨체스터 유나이티드 시절 알렉스 퍼거슨 감독 전...  \n"
     ]
    }
   ],
   "source": [
    "print(lines.head(3))\n",
    "print(lines.tail(3))"
   ]
  },
  {
   "cell_type": "code",
   "execution_count": 11,
   "metadata": {
    "colab": {
     "base_uri": "https://localhost:8080/",
     "height": 34
    },
    "colab_type": "code",
    "id": "BByeGbi6rx89",
    "outputId": "736ce137-d57a-468b-cb3b-d8b724db8bf1"
   },
   "outputs": [
    {
     "data": {
      "text/plain": [
       "(100000, 2)"
      ]
     },
     "execution_count": 11,
     "metadata": {},
     "output_type": "execute_result"
    }
   ],
   "source": [
    "lines.shape"
   ]
  },
  {
   "cell_type": "code",
   "execution_count": 30,
   "metadata": {
    "colab": {},
    "colab_type": "code",
    "id": "gCXv8Y7G_szR"
   },
   "outputs": [],
   "source": [
    "# fit a tokenizer\n",
    "def create_tokenizer(lines):\n",
    "    tokenizer = Tokenizer()\n",
    "    tokenizer.fit_on_texts(lines)\n",
    "    return tokenizer"
   ]
  },
  {
   "cell_type": "markdown",
   "metadata": {},
   "source": [
    "## word count 빈도수 80%까지만 남겨두기"
   ]
  },
  {
   "cell_type": "code",
   "execution_count": 31,
   "metadata": {
    "colab": {},
    "colab_type": "code",
    "id": "4y854XLW_swc"
   },
   "outputs": [],
   "source": [
    "#tokenize\n",
    "body_tokenizer = create_tokenizer(lines['body'])\n",
    "\n",
    "#(word, count)형태 추출\n",
    "body_dict=json.loads(json.dumps(body_tokenizer.word_counts))\n",
    "df =pd.DataFrame([body_dict.keys(), body_dict.values()]).T\n",
    "df.columns = ['word','count']\n",
    "\n",
    "#count순으로 \n",
    "df = df.sort_values(by='count',ascending = False)\n",
    "\n",
    "#누적 percentage 구하기\n",
    "df['cum_count']=df['count'].cumsum()\n",
    "df['cum_perc'] = df['cum_count']/df['cum_count'].max()\n",
    "\n",
    "#80%만 남겨두기\n",
    "final_body_words = df[df['cum_perc']<0.8]['word'].values"
   ]
  },
  {
   "cell_type": "code",
   "execution_count": 32,
   "metadata": {
    "colab": {},
    "colab_type": "code",
    "id": "I3OrR4k0AfTX"
   },
   "outputs": [],
   "source": [
    "#tokenize\n",
    "summ_tokenizer = create_tokenizer(lines['summ'])\n",
    "\n",
    "#(word, count)형태 추출\n",
    "summ_dict = json.loads(json.dumps(summ_tokenizer.word_counts))\n",
    "df =pd.DataFrame([summ_dict.keys(), summ_dict.values()]).T\n",
    "df.columns = ['word','count']\n",
    "\n",
    "#count순으로 \n",
    "df = df.sort_values(by='count',ascending = False)\n",
    "\n",
    "#누적 percentage 구하기\n",
    "df['cum_count']=df['count'].cumsum()\n",
    "df['cum_perc'] = df['cum_count']/df['cum_count'].max()\n",
    "\n",
    "#80%만 남겨두기\n",
    "final_summ_words = df[df['cum_perc']<0.8]['word'].values"
   ]
  },
  {
   "cell_type": "code",
   "execution_count": 35,
   "metadata": {
    "colab": {
     "base_uri": "https://localhost:8080/",
     "height": 34
    },
    "colab_type": "code",
    "id": "m4jrbgIjAfPd",
    "outputId": "ecd98af9-bb9c-4a93-a864-1eeb6c086e32"
   },
   "outputs": [
    {
     "name": "stdout",
     "output_type": "stream",
     "text": [
      "9170 4877\n"
     ]
    }
   ],
   "source": [
    "print(len(final_body_words),len(final_summ_words))"
   ]
  },
  {
   "cell_type": "markdown",
   "metadata": {},
   "source": [
    "## Replace the rest with 'unk'"
   ]
  },
  {
   "cell_type": "code",
   "execution_count": 15,
   "metadata": {
    "colab": {},
    "colab_type": "code",
    "id": "mTOesHOq_ss0"
   },
   "outputs": [],
   "source": [
    "def filterit_body(x):\n",
    "    t = []\n",
    "    x = x.split()\n",
    "    for i in range(len(x)):\n",
    "        if x[i] in final_body_words:\n",
    "            t.append(x[i])\n",
    "    else:\n",
    "        t.append('unk') \n",
    "    x3 = ''\n",
    "    for i in range(len(t)):\n",
    "        x3 = x3+t[i]+' '\n",
    "    return x3"
   ]
  },
  {
   "cell_type": "code",
   "execution_count": 18,
   "metadata": {
    "colab": {
     "base_uri": "https://localhost:8080/",
     "height": 34
    },
    "colab_type": "code",
    "id": "djQPLFAml-A3",
    "outputId": "02237d1c-4b04-425e-c2a6-b7fba61183aa"
   },
   "outputs": [
    {
     "data": {
      "text/plain": [
       "'우한 중국 대통령 unk '"
      ]
     },
     "execution_count": 18,
     "metadata": {},
     "output_type": "execute_result"
    }
   ],
   "source": [
    "filterit_body('우한 중국 대통령')"
   ]
  },
  {
   "cell_type": "code",
   "execution_count": 19,
   "metadata": {
    "colab": {},
    "colab_type": "code",
    "id": "e7sUkiqGBDJd"
   },
   "outputs": [],
   "source": [
    "def filterit_summ(x):\n",
    "    t = []\n",
    "    x = x.split()\n",
    "    for i in range(len(x)):\n",
    "        if x[i] in final_summ_words:\n",
    "            t.append(x[i])\n",
    "    else:\n",
    "        t.append('unk')\n",
    "    x3 = ''\n",
    "    for i in range(len(t)):\n",
    "        x3 = x3+t[i]+' '\n",
    "    return x3"
   ]
  },
  {
   "cell_type": "code",
   "execution_count": 20,
   "metadata": {},
   "outputs": [
    {
     "name": "stderr",
     "output_type": "stream",
     "text": [
      "100%|██████████| 100000/100000 [1:51:18<00:00, 14.97it/s] \n"
     ]
    }
   ],
   "source": [
    "from tqdm import tqdm\n",
    "\n",
    "for i in tqdm(range(len(lines['body']))):\n",
    "    lines['body'][i] = filterit_body(lines['body'][i])    "
   ]
  },
  {
   "cell_type": "code",
   "execution_count": 21,
   "metadata": {
    "colab": {},
    "colab_type": "code",
    "id": "xVKqcPqvCxd-"
   },
   "outputs": [
    {
     "name": "stderr",
     "output_type": "stream",
     "text": [
      "100%|██████████| 100000/100000 [09:44<00:00, 171.10it/s]\n"
     ]
    }
   ],
   "source": [
    "for i in tqdm(range(len(lines['summ']))):\n",
    "    lines['summ'][i] = filterit_summ(lines['summ'][i])    "
   ]
  },
  {
   "cell_type": "code",
   "execution_count": 41,
   "metadata": {},
   "outputs": [],
   "source": [
    "#별도 파일에 저장\n",
    "lines.to_pickle('lines.pkl')"
   ]
  },
  {
   "cell_type": "code",
   "execution_count": 48,
   "metadata": {},
   "outputs": [],
   "source": [
    "lines=pd.read_pickle('lines.pkl')"
   ]
  },
  {
   "cell_type": "markdown",
   "metadata": {},
   "source": [
    "## Get dictionary including 'unk'"
   ]
  },
  {
   "cell_type": "code",
   "execution_count": 49,
   "metadata": {
    "colab": {},
    "colab_type": "code",
    "id": "iCO5WTo84fnn"
   },
   "outputs": [],
   "source": [
    "all_body_words=set()\n",
    "for body in lines.body:\n",
    "    for word in body.split():\n",
    "        if word not in all_body_words:\n",
    "            all_body_words.add(word)\n",
    "    \n",
    "all_summ_words=set()\n",
    "for summ in lines.summ:\n",
    "    for word in summ.split():\n",
    "        if word not in all_summ_words:\n",
    "            all_summ_words.add(word)"
   ]
  },
  {
   "cell_type": "code",
   "execution_count": 50,
   "metadata": {
    "colab": {},
    "colab_type": "code",
    "id": "UCaP87KP4W_S"
   },
   "outputs": [],
   "source": [
    "input_words = sorted(list(all_body_words))\n",
    "target_words = sorted(list(all_summ_words))\n",
    "num_encoder_tokens = len(all_body_words)\n",
    "num_decoder_tokens = len(all_summ_words)"
   ]
  },
  {
   "cell_type": "code",
   "execution_count": 51,
   "metadata": {
    "colab": {
     "base_uri": "https://localhost:8080/",
     "height": 34
    },
    "colab_type": "code",
    "id": "7-S77pDvkBp1",
    "outputId": "47ae17e6-8d21-43b5-ba3a-d3e04c7c7e97"
   },
   "outputs": [
    {
     "data": {
      "text/plain": [
       "9171"
      ]
     },
     "execution_count": 51,
     "metadata": {},
     "output_type": "execute_result"
    }
   ],
   "source": [
    "#body부분 전체 빈도수\n",
    "len(all_body_words)"
   ]
  },
  {
   "cell_type": "code",
   "execution_count": 52,
   "metadata": {
    "colab": {
     "base_uri": "https://localhost:8080/",
     "height": 34
    },
    "colab_type": "code",
    "id": "3IUuEVNm-z6N",
    "outputId": "e1581fe3-39ec-414c-b667-9fb400d821c6"
   },
   "outputs": [
    {
     "data": {
      "text/plain": [
       "4878"
      ]
     },
     "execution_count": 52,
     "metadata": {},
     "output_type": "execute_result"
    }
   ],
   "source": [
    "#summary부분 전체 빈도수\n",
    "len(target_words)"
   ]
  },
  {
   "cell_type": "code",
   "execution_count": 53,
   "metadata": {
    "colab": {},
    "colab_type": "code",
    "id": "YZQegvje4W8w"
   },
   "outputs": [],
   "source": [
    "#용어 사전 구축\n",
    "input_token_index = dict(\n",
    "    [(word, i+1) for i, word in enumerate(input_words)])\n",
    "target_token_index = dict(\n",
    "    [(word, i+1) for i, word in enumerate(target_words)])"
   ]
  },
  {
   "cell_type": "code",
   "execution_count": 54,
   "metadata": {
    "colab": {
     "base_uri": "https://localhost:8080/",
     "height": 34
    },
    "colab_type": "code",
    "id": "haKpA4AJhDnV",
    "outputId": "52dc1bfb-8806-4832-d722-ba1e4cd3f8d4"
   },
   "outputs": [
    {
     "data": {
      "text/plain": [
       "4878"
      ]
     },
     "execution_count": 54,
     "metadata": {},
     "output_type": "execute_result"
    }
   ],
   "source": [
    "num_decoder_tokens"
   ]
  },
  {
   "cell_type": "code",
   "execution_count": 65,
   "metadata": {},
   "outputs": [
    {
     "name": "stdout",
     "output_type": "stream",
     "text": [
      "90\n",
      "21\n",
      "5\n",
      "unk\n",
      "sofs\n",
      "eofs\n"
     ]
    }
   ],
   "source": [
    "print(input_token_index['unk'])\n",
    "print(target_token_index['sofs'])\n",
    "print(target_token_index['eofs'])\n",
    "print(list(input_token_index.keys())[89])\n",
    "print(list(target_token_index.keys())[20])\n",
    "print(list(target_token_index.keys())[4])"
   ]
  },
  {
   "cell_type": "markdown",
   "metadata": {},
   "source": [
    "## 일정한 row 길이 유지 => limit 넘는건 cut, 남는건 padding 필요"
   ]
  },
  {
   "cell_type": "code",
   "execution_count": 66,
   "metadata": {},
   "outputs": [],
   "source": [
    "length_list=[]\n",
    "for l in lines.summ:\n",
    "    length_list.append(len(l.split(' ')))\n",
    "summ_max_length = np.max(length_list)"
   ]
  },
  {
   "cell_type": "code",
   "execution_count": 67,
   "metadata": {},
   "outputs": [],
   "source": [
    "length_list=[]\n",
    "for l in lines.body:\n",
    "    length_list.append(len(l.split(' ')))\n",
    "body_max_length = np.max(length_list)"
   ]
  },
  {
   "cell_type": "code",
   "execution_count": 68,
   "metadata": {},
   "outputs": [
    {
     "name": "stdout",
     "output_type": "stream",
     "text": [
      "7028\n",
      "65\n"
     ]
    }
   ],
   "source": [
    "print(body_max_length)\n",
    "print(summ_max_length)"
   ]
  },
  {
   "cell_type": "code",
   "execution_count": 69,
   "metadata": {},
   "outputs": [
    {
     "data": {
      "text/plain": [
       "{'whiskers': [<matplotlib.lines.Line2D at 0x7f23bcbecd00>,\n",
       "  <matplotlib.lines.Line2D at 0x7f23bcbd90a0>],\n",
       " 'caps': [<matplotlib.lines.Line2D at 0x7f23bcbd9400>,\n",
       "  <matplotlib.lines.Line2D at 0x7f23bcbd9760>],\n",
       " 'boxes': [<matplotlib.lines.Line2D at 0x7f23bcbec9a0>],\n",
       " 'medians': [<matplotlib.lines.Line2D at 0x7f23bcbd9ac0>],\n",
       " 'fliers': [<matplotlib.lines.Line2D at 0x7f23bcbd9e20>],\n",
       " 'means': []}"
      ]
     },
     "execution_count": 69,
     "metadata": {},
     "output_type": "execute_result"
    },
    {
     "data": {
      "image/png": "[encoded data removed]",
      "text/plain": [
       "<Figure size 432x288 with 1 Axes>"
      ]
     },
     "metadata": {
      "needs_background": "light"
     },
     "output_type": "display_data"
    }
   ],
   "source": [
    "import matplotlib.pyplot as plt\n",
    "plt.boxplot(length_list)"
   ]
  },
  {
   "cell_type": "markdown",
   "metadata": {},
   "source": [
    "적절한 본문문길이=300, 요약문길이=50으로 정함"
   ]
  },
  {
   "cell_type": "code",
   "execution_count": 70,
   "metadata": {},
   "outputs": [],
   "source": [
    "body_max_length = 300\n",
    "summ_max_length = 50"
   ]
  },
  {
   "cell_type": "markdown",
   "metadata": {},
   "source": [
    "## Build data for inputs & outputs"
   ]
  },
  {
   "cell_type": "markdown",
   "metadata": {},
   "source": [
    "**encoder_input_data**\n",
    "- 인코더 RNN에 삽입될 데이터\n",
    "- (100000, 300)\n",
    "- 추후 embedded될 예정\n",
    "  \n",
    "**decoder_input_data**\n",
    "- 디코더 RNN에 삽입될 데이터\n",
    "- (100000, 50)\n",
    "- 추후 embedded될 예정\n",
    "  \n",
    "**decoder_target_data**\n",
    "- 디코더 output 실제값\n",
    "- 각 RNN cell에 대해 FC layer가 붙기 때문에 shape은 3D tensor인 (100000, 50, 4879)"
   ]
  },
  {
   "cell_type": "code",
   "execution_count": 74,
   "metadata": {
    "colab": {},
    "colab_type": "code",
    "id": "r5_mrLkj45gt"
   },
   "outputs": [],
   "source": [
    "encoder_input_data = np.zeros(\n",
    "    (len(lines['body']), body_max_length),\n",
    "    dtype='float32')\n",
    "decoder_input_data = np.zeros(\n",
    "    (len(lines['summ']), summ_max_length),\n",
    "    dtype='float32')\n",
    "decoder_target_data = np.zeros(\n",
    "    (len(lines['summ']), summ_max_length, num_decoder_tokens+1),\n",
    "    dtype='float32')"
   ]
  },
  {
   "cell_type": "code",
   "execution_count": 75,
   "metadata": {
    "colab": {
     "base_uri": "https://localhost:8080/",
     "height": 34
    },
    "colab_type": "code",
    "id": "wrURv1JXrBDF",
    "outputId": "69d72c5b-81f8-4791-e3aa-c7cda60223e7"
   },
   "outputs": [
    {
     "data": {
      "text/plain": [
       "(100000, 50, 4879)"
      ]
     },
     "execution_count": 75,
     "metadata": {},
     "output_type": "execute_result"
    }
   ],
   "source": [
    "decoder_target_data.shape"
   ]
  },
  {
   "cell_type": "code",
   "execution_count": null,
   "metadata": {},
   "outputs": [],
   "source": [
    "lines['summ']"
   ]
  },
  {
   "cell_type": "code",
   "execution_count": 74,
   "metadata": {},
   "outputs": [
    {
     "data": {
      "text/plain": [
       "5"
      ]
     },
     "execution_count": 74,
     "metadata": {},
     "output_type": "execute_result"
    }
   ],
   "source": [
    "target_token_index['eofs']"
   ]
  },
  {
   "cell_type": "code",
   "execution_count": 75,
   "metadata": {
    "colab": {},
    "colab_type": "code",
    "id": "km2HiJ0G45oB"
   },
   "outputs": [],
   "source": [
    "for i, (input_text, target_text) in enumerate(zip(lines['body'], lines['summ'])):\n",
    "    \n",
    "    #encoder_input\n",
    "    for t, word in enumerate(input_text.split()):\n",
    "        if t==300:\n",
    "            break\n",
    "        encoder_input_data[i, t] = input_token_index[word] #dictionary에서 해당하는 index 가져오기\n",
    "    \n",
    "    #decoder_input & decoder_output\n",
    "    for t, word in enumerate(target_text.split()):\n",
    "        if t==50:\n",
    "            break\n",
    "        if t==49:\n",
    "            word='eofs' #본문길이 50이 넘어가면 끊고 end of sentence 붙인다.\n",
    "        decoder_input_data[i, t] = target_token_index[word] #dictionary에서 해당하는 index 가져오기\n",
    "        \n",
    "        if t>0:\n",
    "            decoder_target_data[i, t - 1, target_token_index[word]] = 1.\n",
    "            if t== len(target_text.split())-1 or t==49:\n",
    "                decoder_target_data[i, t:, target_token_index['eofs']] = 1 #뒷부분 padded 부분은 end of sentence로\n"
   ]
  },
  {
   "cell_type": "code",
   "execution_count": null,
   "metadata": {
    "colab": {
     "base_uri": "https://localhost:8080/",
     "height": 34
    },
    "colab_type": "code",
    "id": "DFwjmRUe-EC5",
    "outputId": "f80ec275-439b-438d-931d-ff846a39c7ed"
   },
   "outputs": [],
   "source": [
    "print(decoder_input_data.shape,encoder_input_data.shape,decoder_target_data.shape)"
   ]
  },
  {
   "cell_type": "code",
   "execution_count": 77,
   "metadata": {},
   "outputs": [
    {
     "data": {
      "text/plain": [
       "array([  21., 1418.,  544., 4579., 3549.,   24., 3033.,  245., 4807.,\n",
       "        544., 3115., 1421., 3834.,  172., 4591.,  245., 4807.,  245.,\n",
       "       1081., 1790.,  658., 1284.,  544.,   24., 1421.,    5.,    0.,\n",
       "          0.,    0.,    0.,    0.,    0.,    0.,    0.,    0.,    0.,\n",
       "          0.,    0.,    0.,    0.,    0.,    0.,    0.,    0.,    0.,\n",
       "          0.,    0.,    0.,    0.,    0.], dtype=float32)"
      ]
     },
     "execution_count": 77,
     "metadata": {},
     "output_type": "execute_result"
    }
   ],
   "source": [
    "decoder_input_data[10000]"
   ]
  },
  {
   "cell_type": "code",
   "execution_count": 82,
   "metadata": {},
   "outputs": [
    {
     "data": {
      "text/plain": [
       "array([0., 0., 0., 0., 0., 1., 0., 0., 0., 0.], dtype=float32)"
      ]
     },
     "execution_count": 82,
     "metadata": {},
     "output_type": "execute_result"
    }
   ],
   "source": [
    "decoder_target_data[10000][48][:10]"
   ]
  },
  {
   "cell_type": "code",
   "execution_count": 79,
   "metadata": {
    "colab": {},
    "colab_type": "code",
    "id": "bd_TzFXztDBQ"
   },
   "outputs": [],
   "source": [
    "#decoder input에도 뒤에 padded 부분은 end of sentence로\n",
    "for i in range(decoder_input_data.shape[0]):\n",
    "    for j in range(decoder_input_data.shape[1]):\n",
    "        if(decoder_input_data[i][j]==0):\n",
    "            decoder_input_data[i][j] = target_token_index['eofs'] "
   ]
  },
  {
   "cell_type": "code",
   "execution_count": 87,
   "metadata": {},
   "outputs": [
    {
     "data": {
      "text/plain": [
       "array([  21., 1418.,  544., 4579., 3549.,   24., 3033.,  245., 4807.,\n",
       "        544., 3115., 1421., 3834.,  172., 4591.,  245., 4807.,  245.,\n",
       "       1081., 1790.,  658., 1284.,  544.,   24., 1421.,    5.,    5.,\n",
       "          5.,    5.,    5.,    5.,    5.,    5.,    5.,    5.,    5.,\n",
       "          5.,    5.,    5.,    5.,    5.,    5.,    5.,    5.,    5.,\n",
       "          5.,    5.,    5.,    5.,    5.], dtype=float32)"
      ]
     },
     "execution_count": 87,
     "metadata": {},
     "output_type": "execute_result"
    }
   ],
   "source": [
    "decoder_input_data[10000]"
   ]
  },
  {
   "cell_type": "markdown",
   "metadata": {},
   "source": [
    "## Train / Validation Split"
   ]
  },
  {
   "cell_type": "code",
   "execution_count": 76,
   "metadata": {},
   "outputs": [
    {
     "data": {
      "text/plain": [
       "80000"
      ]
     },
     "execution_count": 76,
     "metadata": {},
     "output_type": "execute_result"
    }
   ],
   "source": [
    "split_ratio = 0.8\n",
    "cut = int(len(decoder_input_data)*split_ratio)\n",
    "cut"
   ]
  },
  {
   "cell_type": "code",
   "execution_count": 77,
   "metadata": {},
   "outputs": [],
   "source": [
    "#8/2\n",
    "enc_train = encoder_input_data[:cut]\n",
    "enc_val = encoder_input_data[cut:]\n",
    "\n",
    "dec_in_train = decoder_input_data[:cut]\n",
    "dec_in_val = decoder_input_data[cut:]\n",
    "\n",
    "dec_out_train = decoder_target_data[:cut]\n",
    "dec_out_val = decoder_target_data[cut:]"
   ]
  },
  {
   "cell_type": "code",
   "execution_count": 78,
   "metadata": {},
   "outputs": [
    {
     "name": "stdout",
     "output_type": "stream",
     "text": [
      "(80000, 300) (20000, 300)\n",
      "(80000, 50) (20000, 50)\n",
      "(80000, 50, 4879) (20000, 50, 4879)\n"
     ]
    }
   ],
   "source": [
    "print(enc_train.shape, enc_val.shape)\n",
    "print(dec_in_train.shape, dec_in_val.shape)\n",
    "print(dec_out_train.shape, dec_out_val.shape)"
   ]
  },
  {
   "cell_type": "code",
   "execution_count": 96,
   "metadata": {},
   "outputs": [],
   "source": [
    "from keras import Model\n",
    "from keras.layers import Embedding, LSTM, Dropout, Input, Dense, dot, concatenate, Activation, Bidirectional\n",
    "from keras.optimizers import Adam\n",
    "from keras.layers import Embedding\n",
    "from keras import regularizers\n",
    "\n",
    "class Seq2Seq_Attention():\n",
    "    def __init__(self):\n",
    "        self.max_length = 300\n",
    "        self.body_VECTOR_SIZE = 128\n",
    "        self.sum_VECTOR_SIZE = 128\n",
    "        self.max_summary_length = 50\n",
    "        self.num_words = num_decoder_tokens\n",
    "        self.optimizer = Adam(learning_rate=0.001)\n",
    "        self.body_num_words = num_encoder_tokens\n",
    "        \n",
    "        self.att = self.build_att()\n",
    "\n",
    "        self.att.compile(loss='categorical_crossentropy', metrics=['accuracy'], optimizer=self.optimizer)\n",
    "        print(self.att.summary())\n",
    "        \n",
    "        \n",
    "    def build_att(self):\n",
    "        #encoder\n",
    "        encoder_inputs = Input(shape=(self.max_length,))\n",
    "        embedded_e = Embedding(self.body_num_words+1,self.body_VECTOR_SIZE)(encoder_inputs) #+1하는이유 => 0은 dict에 포함 안했기때문\n",
    "        encoder_outputs, h, c = LSTM(128, dropout=0.4, return_state=True, return_sequences=True, kernel_regularizer=regularizers.l2(0.01))(embedded_e)\n",
    "        init_states = [h,c]\n",
    "        \n",
    "        #decoder\n",
    "        decoder_inputs = Input(shape=(self.max_summary_length,))\n",
    "        embedded_d = Embedding(self.num_words+1,self.sum_VECTOR_SIZE)(decoder_inputs) #embedding params가 다르니깐 vector size다르게 해도 괜찮.\n",
    "        decoder_outputs = LSTM(128, return_sequences=True)(embedded_d, initial_state=init_states)\n",
    "        \n",
    "        #attention\n",
    "        value = Dense(5000, activation='tanh')(encoder_outputs)\n",
    "        query = Dense(5000, activation='tanh')(decoder_outputs)\n",
    "        print(value, query) #300x5000 두개\n",
    "        \n",
    "        attention = dot([query, value],axes=[2,2])\n",
    "        print(attention) #300x300\n",
    "        \n",
    "        attention = Dense(self.max_length, activation='tanh')(attention)\n",
    "        attention_softmaxed = Activation('softmax')(attention)\n",
    "        \n",
    "        weighted = dot([attention_softmaxed, encoder_outputs], axes=[2,1]) #give weights to encoder outputs(=각 토큰)\n",
    "        \n",
    "        #combine attention & decoder output\n",
    "        decoder_for_final = concatenate([weighted, decoder_outputs]) #weighted token(2064x256) + decoder output(2064x256)\n",
    "        \n",
    "        #estimate summary\n",
    "        decoder_for_final = Dense(5000, activation='tanh')(decoder_for_final)\n",
    "        decoder_final = Dense(self.num_words+1, activation='softmax')(decoder_for_final)\n",
    "        \n",
    "        mod = Model(inputs=[encoder_inputs, decoder_inputs], outputs=[decoder_final]) \n",
    "        return mod\n",
    "    \n",
    "    \n",
    "\n",
    "    #Get train/val data of batch size\n",
    "    def load_batch(self, batch_size=64):\n",
    "        \n",
    "        self.n_batches = int(cut/batch_size)\n",
    "        val_size = int(batch_size*(1-split_ratio))\n",
    "        \n",
    "        for i in range(self.n_batches):\n",
    "            #train data\n",
    "            batch_e = enc_train[i*batch_size:(i+1)*batch_size]\n",
    "            batch_d = dec_in_train[i*batch_size:(i+1)*batch_size]\n",
    "            batch_d_o = dec_out_train[i*batch_size:(i+1)*batch_size]\n",
    "                        \n",
    "            #val data\n",
    "            val_e = enc_val[i*val_size:(i+1)*val_size]\n",
    "            val_d = dec_in_val[i*val_size:(i+1)*val_size]\n",
    "            val_d_o = dec_out_val[i*val_size:(i+1)*val_size]    \n",
    "\n",
    "            yield batch_e, batch_d, batch_d_o, val_e, val_d, val_d_o\n",
    "    \n",
    "    \n",
    "    #train model\n",
    "    def train(self, epochs, batch_size = 64):\n",
    "        train_losses = []\n",
    "        train_acc = []\n",
    "        \n",
    "        val_losses = []\n",
    "        val_acc = []\n",
    "        \n",
    "        start_time = datetime.datetime.now()\n",
    "        \n",
    "        for epoch in range(epochs):\n",
    "            for batch_i, (enc_batch, dec_batch, dec_out_batch, enc_val, dec_val, dec_out_val) in enumerate(self.load_batch(batch_size)):\n",
    "                \n",
    "                enc_batch = np.array(enc_batch)\n",
    "                dec_batch = np.array(dec_batch)\n",
    "                dec_out_batch = np.array(dec_out_batch)\n",
    "                \n",
    "                enc_val = np.array(enc_val)\n",
    "                dec_val = np.array(dec_val)\n",
    "                dec_out_val = np.array(dec_out_val)\n",
    "                \n",
    "                if batch_i==0:\n",
    "                    print(enc_batch.shape, dec_batch.shape, dec_out_batch.shape, enc_val.shape, dec_val.shape, dec_out_val.shape)\n",
    "                \n",
    "                #train\n",
    "                hist = self.att.train_on_batch([enc_batch, dec_batch], dec_out_batch)\n",
    "                #validate\n",
    "                valhist = self.att.test_on_batch([enc_val, dec_val], dec_out_val)\n",
    "                \n",
    "                #loss/acc기록\n",
    "                train_losses.append(hist[0])\n",
    "                train_acc.append(hist[1])\n",
    "                \n",
    "                val_losses.append(valhist[0])\n",
    "                val_acc.append(valhist[1])            \n",
    "                \n",
    "                #시간 기록\n",
    "                elapsed_time = datetime.datetime.now() - start_time\n",
    "                \n",
    "                #batch 1000단위마다 출력\n",
    "                if batch_i%1000==0:\n",
    "                    print(\"Time Elapsed %s [Epoch %d/%d] [Batch %d/%d] Train Loss: %04f Train Acc:%04f Valid Loss: %04f Valid Acc:%04f\"\\\n",
    "                          %(elapsed_time, epoch, epochs, batch_i, self.n_batches, hist[0], hist[1], valhist[0], valhist[1]))\n",
    "                    \n",
    "        return train_losses, train_acc, val_losses, val_acc"
   ]
  },
  {
   "cell_type": "code",
   "execution_count": 140,
   "metadata": {},
   "outputs": [
    {
     "name": "stdout",
     "output_type": "stream",
     "text": [
      "Tensor(\"dense_10/Identity:0\", shape=(None, 300, 5000), dtype=float32) Tensor(\"dense_11/Identity:0\", shape=(None, 50, 5000), dtype=float32)\n",
      "Tensor(\"dot_4/Identity:0\", shape=(None, 50, 300), dtype=float32)\n",
      "Model: \"model_2\"\n",
      "__________________________________________________________________________________________________\n",
      "Layer (type)                    Output Shape         Param #     Connected to                     \n",
      "==================================================================================================\n",
      "input_5 (InputLayer)            [(None, 300)]        0                                            \n",
      "__________________________________________________________________________________________________\n",
      "input_6 (InputLayer)            [(None, 50)]         0                                            \n",
      "__________________________________________________________________________________________________\n",
      "embedding_4 (Embedding)         (None, 300, 128)     1174016     input_5[0][0]                    \n",
      "__________________________________________________________________________________________________\n",
      "embedding_5 (Embedding)         (None, 50, 128)      624512      input_6[0][0]                    \n",
      "__________________________________________________________________________________________________\n",
      "lstm_4 (LSTM)                   [(None, 300, 128), ( 131584      embedding_4[0][0]                \n",
      "__________________________________________________________________________________________________\n",
      "lstm_5 (LSTM)                   (None, 50, 128)      131584      embedding_5[0][0]                \n",
      "                                                                 lstm_4[0][1]                     \n",
      "                                                                 lstm_4[0][2]                     \n",
      "__________________________________________________________________________________________________\n",
      "dense_11 (Dense)                (None, 50, 5000)     645000      lstm_5[0][0]                     \n",
      "__________________________________________________________________________________________________\n",
      "dense_10 (Dense)                (None, 300, 5000)    645000      lstm_4[0][0]                     \n",
      "__________________________________________________________________________________________________\n",
      "dot_4 (Dot)                     (None, 50, 300)      0           dense_11[0][0]                   \n",
      "                                                                 dense_10[0][0]                   \n",
      "__________________________________________________________________________________________________\n",
      "dense_12 (Dense)                (None, 50, 300)      90300       dot_4[0][0]                      \n",
      "__________________________________________________________________________________________________\n",
      "activation_12 (Activation)      (None, 50, 300)      0           dense_12[0][0]                   \n",
      "__________________________________________________________________________________________________\n",
      "dot_5 (Dot)                     (None, 50, 128)      0           activation_12[0][0]              \n",
      "                                                                 lstm_4[0][0]                     \n",
      "__________________________________________________________________________________________________\n",
      "concatenate_2 (Concatenate)     (None, 50, 256)      0           dot_5[0][0]                      \n",
      "                                                                 lstm_5[0][0]                     \n",
      "__________________________________________________________________________________________________\n",
      "dense_13 (Dense)                (None, 50, 5000)     1285000     concatenate_2[0][0]              \n",
      "__________________________________________________________________________________________________\n",
      "dense_14 (Dense)                (None, 50, 4879)     24399879    dense_13[0][0]                   \n",
      "==================================================================================================\n",
      "Total params: 29,126,875\n",
      "Trainable params: 29,126,875\n",
      "Non-trainable params: 0\n",
      "__________________________________________________________________________________________________\n",
      "None\n"
     ]
    }
   ],
   "source": [
    "model = Seq2Seq_Attention()"
   ]
  },
  {
   "cell_type": "code",
   "execution_count": 141,
   "metadata": {},
   "outputs": [
    {
     "name": "stdout",
     "output_type": "stream",
     "text": [
      "(128, 300) (128, 50) (128, 50, 4879) (25, 300) (25, 50) (25, 50, 4879)\n",
      "Time Elapsed 0:00:06.074256 [Epoch 0/100] [Batch 0/312] Train Loss: 10.535960 Train Acc:0.000000 Valid Loss: 10.367254 Valid Acc:0.490400\n",
      "(128, 300) (128, 50) (128, 50, 4879) (25, 300) (25, 50) (25, 50, 4879)\n",
      "Time Elapsed 0:03:06.440084 [Epoch 1/100] [Batch 0/312] Train Loss: 3.359085 Train Acc:0.579375 Valid Loss: 3.234039 Valid Acc:0.568000\n",
      "(128, 300) (128, 50) (128, 50, 4879) (25, 300) (25, 50) (25, 50, 4879)\n",
      "Time Elapsed 0:06:03.981020 [Epoch 2/100] [Batch 0/312] Train Loss: 3.098694 Train Acc:0.582500 Valid Loss: 2.969602 Valid Acc:0.568800\n",
      "(128, 300) (128, 50) (128, 50, 4879) (25, 300) (25, 50) (25, 50, 4879)\n",
      "Time Elapsed 0:09:01.701232 [Epoch 3/100] [Batch 0/312] Train Loss: 2.876235 Train Acc:0.590312 Valid Loss: 2.819643 Valid Acc:0.569600\n",
      "(128, 300) (128, 50) (128, 50, 4879) (25, 300) (25, 50) (25, 50, 4879)\n",
      "Time Elapsed 0:12:00.164844 [Epoch 4/100] [Batch 0/312] Train Loss: 2.710030 Train Acc:0.597031 Valid Loss: 2.723294 Valid Acc:0.572800\n",
      "(128, 300) (128, 50) (128, 50, 4879) (25, 300) (25, 50) (25, 50, 4879)\n",
      "Time Elapsed 0:14:57.565109 [Epoch 5/100] [Batch 0/312] Train Loss: 2.599389 Train Acc:0.600000 Valid Loss: 2.672881 Valid Acc:0.566400\n",
      "(128, 300) (128, 50) (128, 50, 4879) (25, 300) (25, 50) (25, 50, 4879)\n",
      "Time Elapsed 0:17:54.764154 [Epoch 6/100] [Batch 0/312] Train Loss: 2.490041 Train Acc:0.602969 Valid Loss: 2.597313 Valid Acc:0.572800\n",
      "(128, 300) (128, 50) (128, 50, 4879) (25, 300) (25, 50) (25, 50, 4879)\n",
      "Time Elapsed 0:20:52.413477 [Epoch 7/100] [Batch 0/312] Train Loss: 2.401660 Train Acc:0.607813 Valid Loss: 2.551867 Valid Acc:0.568800\n",
      "(128, 300) (128, 50) (128, 50, 4879) (25, 300) (25, 50) (25, 50, 4879)\n",
      "Time Elapsed 0:23:48.974722 [Epoch 8/100] [Batch 0/312] Train Loss: 2.333123 Train Acc:0.608906 Valid Loss: 2.532256 Valid Acc:0.572000\n",
      "(128, 300) (128, 50) (128, 50, 4879) (25, 300) (25, 50) (25, 50, 4879)\n",
      "Time Elapsed 0:26:46.640923 [Epoch 9/100] [Batch 0/312] Train Loss: 2.272662 Train Acc:0.613594 Valid Loss: 2.531852 Valid Acc:0.580000\n",
      "(128, 300) (128, 50) (128, 50, 4879) (25, 300) (25, 50) (25, 50, 4879)\n",
      "Time Elapsed 0:29:43.274250 [Epoch 10/100] [Batch 0/312] Train Loss: 2.202912 Train Acc:0.618125 Valid Loss: 2.533327 Valid Acc:0.580000\n",
      "(128, 300) (128, 50) (128, 50, 4879) (25, 300) (25, 50) (25, 50, 4879)\n",
      "Time Elapsed 0:32:39.557754 [Epoch 11/100] [Batch 0/312] Train Loss: 2.158881 Train Acc:0.621406 Valid Loss: 2.552935 Valid Acc:0.580800\n",
      "(128, 300) (128, 50) (128, 50, 4879) (25, 300) (25, 50) (25, 50, 4879)\n",
      "Time Elapsed 0:35:36.157500 [Epoch 12/100] [Batch 0/312] Train Loss: 2.116325 Train Acc:0.624375 Valid Loss: 2.569896 Valid Acc:0.582400\n",
      "(128, 300) (128, 50) (128, 50, 4879) (25, 300) (25, 50) (25, 50, 4879)\n",
      "Time Elapsed 0:38:33.107988 [Epoch 13/100] [Batch 0/312] Train Loss: 2.091746 Train Acc:0.621250 Valid Loss: 2.577229 Valid Acc:0.586400\n",
      "(128, 300) (128, 50) (128, 50, 4879) (25, 300) (25, 50) (25, 50, 4879)\n",
      "Time Elapsed 0:41:29.900500 [Epoch 14/100] [Batch 0/312] Train Loss: 2.053256 Train Acc:0.623906 Valid Loss: 2.587253 Valid Acc:0.587200\n",
      "(128, 300) (128, 50) (128, 50, 4879) (25, 300) (25, 50) (25, 50, 4879)\n",
      "Time Elapsed 0:44:27.747119 [Epoch 15/100] [Batch 0/312] Train Loss: 2.014242 Train Acc:0.625625 Valid Loss: 2.576136 Valid Acc:0.592800\n",
      "(128, 300) (128, 50) (128, 50, 4879) (25, 300) (25, 50) (25, 50, 4879)\n",
      "Time Elapsed 0:47:24.441763 [Epoch 16/100] [Batch 0/312] Train Loss: 1.978431 Train Acc:0.627813 Valid Loss: 2.605733 Valid Acc:0.592000\n",
      "(128, 300) (128, 50) (128, 50, 4879) (25, 300) (25, 50) (25, 50, 4879)\n",
      "Time Elapsed 0:50:28.405886 [Epoch 17/100] [Batch 0/312] Train Loss: 1.975526 Train Acc:0.628594 Valid Loss: 2.609178 Valid Acc:0.585600\n",
      "(128, 300) (128, 50) (128, 50, 4879) (25, 300) (25, 50) (25, 50, 4879)\n",
      "Time Elapsed 0:53:24.816391 [Epoch 18/100] [Batch 0/312] Train Loss: 1.936825 Train Acc:0.632656 Valid Loss: 2.637162 Valid Acc:0.589600\n",
      "(128, 300) (128, 50) (128, 50, 4879) (25, 300) (25, 50) (25, 50, 4879)\n",
      "Time Elapsed 0:56:21.787060 [Epoch 19/100] [Batch 0/312] Train Loss: 1.926167 Train Acc:0.630469 Valid Loss: 2.636326 Valid Acc:0.586400\n",
      "(128, 300) (128, 50) (128, 50, 4879) (25, 300) (25, 50) (25, 50, 4879)\n",
      "Time Elapsed 0:59:19.426255 [Epoch 20/100] [Batch 0/312] Train Loss: 1.891173 Train Acc:0.634531 Valid Loss: 2.646212 Valid Acc:0.583200\n",
      "(128, 300) (128, 50) (128, 50, 4879) (25, 300) (25, 50) (25, 50, 4879)\n",
      "Time Elapsed 1:02:15.871761 [Epoch 21/100] [Batch 0/312] Train Loss: 1.878396 Train Acc:0.637500 Valid Loss: 2.672047 Valid Acc:0.585600\n",
      "(128, 300) (128, 50) (128, 50, 4879) (25, 300) (25, 50) (25, 50, 4879)\n",
      "Time Elapsed 1:05:12.691480 [Epoch 22/100] [Batch 0/312] Train Loss: 1.864078 Train Acc:0.637969 Valid Loss: 2.692107 Valid Acc:0.596800\n",
      "(128, 300) (128, 50) (128, 50, 4879) (25, 300) (25, 50) (25, 50, 4879)\n",
      "Time Elapsed 1:08:09.129317 [Epoch 23/100] [Batch 0/312] Train Loss: 1.824104 Train Acc:0.641719 Valid Loss: 2.714126 Valid Acc:0.592800\n",
      "(128, 300) (128, 50) (128, 50, 4879) (25, 300) (25, 50) (25, 50, 4879)\n",
      "Time Elapsed 1:11:06.120196 [Epoch 24/100] [Batch 0/312] Train Loss: 1.801873 Train Acc:0.646406 Valid Loss: 2.730572 Valid Acc:0.596000\n",
      "(128, 300) (128, 50) (128, 50, 4879) (25, 300) (25, 50) (25, 50, 4879)\n",
      "Time Elapsed 1:14:03.038389 [Epoch 25/100] [Batch 0/312] Train Loss: 1.778825 Train Acc:0.650156 Valid Loss: 2.742932 Valid Acc:0.589600\n",
      "(128, 300) (128, 50) (128, 50, 4879) (25, 300) (25, 50) (25, 50, 4879)\n",
      "Time Elapsed 1:17:00.091477 [Epoch 26/100] [Batch 0/312] Train Loss: 1.766094 Train Acc:0.649375 Valid Loss: 2.745698 Valid Acc:0.585600\n",
      "(128, 300) (128, 50) (128, 50, 4879) (25, 300) (25, 50) (25, 50, 4879)\n",
      "Time Elapsed 1:19:56.193893 [Epoch 27/100] [Batch 0/312] Train Loss: 1.738273 Train Acc:0.654844 Valid Loss: 2.734499 Valid Acc:0.588000\n",
      "(128, 300) (128, 50) (128, 50, 4879) (25, 300) (25, 50) (25, 50, 4879)\n",
      "Time Elapsed 1:22:52.367451 [Epoch 28/100] [Batch 0/312] Train Loss: 1.716926 Train Acc:0.658281 Valid Loss: 2.774325 Valid Acc:0.589600\n",
      "(128, 300) (128, 50) (128, 50, 4879) (25, 300) (25, 50) (25, 50, 4879)\n",
      "Time Elapsed 1:25:48.841666 [Epoch 29/100] [Batch 0/312] Train Loss: 1.710798 Train Acc:0.661250 Valid Loss: 2.792856 Valid Acc:0.592000\n",
      "(128, 300) (128, 50) (128, 50, 4879) (25, 300) (25, 50) (25, 50, 4879)\n",
      "Time Elapsed 1:28:45.488355 [Epoch 30/100] [Batch 0/312] Train Loss: 1.690884 Train Acc:0.660156 Valid Loss: 2.797669 Valid Acc:0.596800\n",
      "(128, 300) (128, 50) (128, 50, 4879) (25, 300) (25, 50) (25, 50, 4879)\n",
      "Time Elapsed 1:31:41.706919 [Epoch 31/100] [Batch 0/312] Train Loss: 1.685501 Train Acc:0.664219 Valid Loss: 2.800814 Valid Acc:0.592800\n",
      "(128, 300) (128, 50) (128, 50, 4879) (25, 300) (25, 50) (25, 50, 4879)\n",
      "Time Elapsed 1:34:37.791052 [Epoch 32/100] [Batch 0/312] Train Loss: 1.659408 Train Acc:0.662344 Valid Loss: 2.845829 Valid Acc:0.589600\n",
      "(128, 300) (128, 50) (128, 50, 4879) (25, 300) (25, 50) (25, 50, 4879)\n",
      "Time Elapsed 1:37:35.312715 [Epoch 33/100] [Batch 0/312] Train Loss: 1.642025 Train Acc:0.667344 Valid Loss: 2.821092 Valid Acc:0.596800\n",
      "(128, 300) (128, 50) (128, 50, 4879) (25, 300) (25, 50) (25, 50, 4879)\n",
      "Time Elapsed 1:40:32.069439 [Epoch 34/100] [Batch 0/312] Train Loss: 1.627148 Train Acc:0.668750 Valid Loss: 2.826458 Valid Acc:0.595200\n",
      "(128, 300) (128, 50) (128, 50, 4879) (25, 300) (25, 50) (25, 50, 4879)\n",
      "Time Elapsed 1:43:28.760654 [Epoch 35/100] [Batch 0/312] Train Loss: 1.622880 Train Acc:0.669375 Valid Loss: 2.858190 Valid Acc:0.596800\n",
      "(128, 300) (128, 50) (128, 50, 4879) (25, 300) (25, 50) (25, 50, 4879)\n",
      "Time Elapsed 1:46:25.594507 [Epoch 36/100] [Batch 0/312] Train Loss: 1.619897 Train Acc:0.666250 Valid Loss: 2.864211 Valid Acc:0.600800\n",
      "(128, 300) (128, 50) (128, 50, 4879) (25, 300) (25, 50) (25, 50, 4879)\n",
      "Time Elapsed 1:49:22.092095 [Epoch 37/100] [Batch 0/312] Train Loss: 1.609978 Train Acc:0.667344 Valid Loss: 2.889977 Valid Acc:0.592800\n",
      "(128, 300) (128, 50) (128, 50, 4879) (25, 300) (25, 50) (25, 50, 4879)\n",
      "Time Elapsed 1:52:18.509167 [Epoch 38/100] [Batch 0/312] Train Loss: 1.595754 Train Acc:0.671250 Valid Loss: 2.899645 Valid Acc:0.600800\n",
      "(128, 300) (128, 50) (128, 50, 4879) (25, 300) (25, 50) (25, 50, 4879)\n",
      "Time Elapsed 1:55:16.851863 [Epoch 39/100] [Batch 0/312] Train Loss: 1.576411 Train Acc:0.677188 Valid Loss: 2.906905 Valid Acc:0.600000\n",
      "(128, 300) (128, 50) (128, 50, 4879) (25, 300) (25, 50) (25, 50, 4879)\n",
      "Time Elapsed 1:58:13.413013 [Epoch 40/100] [Batch 0/312] Train Loss: 1.578374 Train Acc:0.675781 Valid Loss: 2.910765 Valid Acc:0.596000\n",
      "(128, 300) (128, 50) (128, 50, 4879) (25, 300) (25, 50) (25, 50, 4879)\n",
      "Time Elapsed 2:01:12.895383 [Epoch 41/100] [Batch 0/312] Train Loss: 1.561255 Train Acc:0.675000 Valid Loss: 2.940315 Valid Acc:0.600000\n",
      "(128, 300) (128, 50) (128, 50, 4879) (25, 300) (25, 50) (25, 50, 4879)\n",
      "Time Elapsed 2:04:11.273208 [Epoch 42/100] [Batch 0/312] Train Loss: 1.565578 Train Acc:0.677500 Valid Loss: 2.919673 Valid Acc:0.588800\n",
      "(128, 300) (128, 50) (128, 50, 4879) (25, 300) (25, 50) (25, 50, 4879)\n",
      "Time Elapsed 2:07:08.408742 [Epoch 43/100] [Batch 0/312] Train Loss: 1.561381 Train Acc:0.676719 Valid Loss: 2.938788 Valid Acc:0.591200\n",
      "(128, 300) (128, 50) (128, 50, 4879) (25, 300) (25, 50) (25, 50, 4879)\n",
      "Time Elapsed 2:10:05.599600 [Epoch 44/100] [Batch 0/312] Train Loss: 1.565287 Train Acc:0.680156 Valid Loss: 2.953863 Valid Acc:0.580000\n",
      "(128, 300) (128, 50) (128, 50, 4879) (25, 300) (25, 50) (25, 50, 4879)\n",
      "Time Elapsed 2:13:02.595932 [Epoch 45/100] [Batch 0/312] Train Loss: 1.554649 Train Acc:0.679844 Valid Loss: 2.959406 Valid Acc:0.586400\n",
      "(128, 300) (128, 50) (128, 50, 4879) (25, 300) (25, 50) (25, 50, 4879)\n",
      "Time Elapsed 2:16:04.094837 [Epoch 46/100] [Batch 0/312] Train Loss: 1.534628 Train Acc:0.681094 Valid Loss: 2.987296 Valid Acc:0.589600\n",
      "(128, 300) (128, 50) (128, 50, 4879) (25, 300) (25, 50) (25, 50, 4879)\n",
      "Time Elapsed 2:19:02.399944 [Epoch 47/100] [Batch 0/312] Train Loss: 1.516918 Train Acc:0.685313 Valid Loss: 2.964103 Valid Acc:0.589600\n",
      "(128, 300) (128, 50) (128, 50, 4879) (25, 300) (25, 50) (25, 50, 4879)\n",
      "Time Elapsed 2:21:58.062785 [Epoch 48/100] [Batch 0/312] Train Loss: 1.512809 Train Acc:0.689219 Valid Loss: 3.002655 Valid Acc:0.596000\n",
      "(128, 300) (128, 50) (128, 50, 4879) (25, 300) (25, 50) (25, 50, 4879)\n",
      "Time Elapsed 2:24:55.486502 [Epoch 49/100] [Batch 0/312] Train Loss: 1.501108 Train Acc:0.687969 Valid Loss: 3.017305 Valid Acc:0.596000\n",
      "(128, 300) (128, 50) (128, 50, 4879) (25, 300) (25, 50) (25, 50, 4879)\n",
      "Time Elapsed 2:27:52.131268 [Epoch 50/100] [Batch 0/312] Train Loss: 1.505688 Train Acc:0.686406 Valid Loss: 2.992981 Valid Acc:0.592000\n",
      "(128, 300) (128, 50) (128, 50, 4879) (25, 300) (25, 50) (25, 50, 4879)\n",
      "Time Elapsed 2:30:48.183861 [Epoch 51/100] [Batch 0/312] Train Loss: 1.496357 Train Acc:0.686094 Valid Loss: 3.027585 Valid Acc:0.593600\n",
      "(128, 300) (128, 50) (128, 50, 4879) (25, 300) (25, 50) (25, 50, 4879)\n",
      "Time Elapsed 2:33:44.400812 [Epoch 52/100] [Batch 0/312] Train Loss: 1.515591 Train Acc:0.682031 Valid Loss: 3.044327 Valid Acc:0.592000\n",
      "(128, 300) (128, 50) (128, 50, 4879) (25, 300) (25, 50) (25, 50, 4879)\n",
      "Time Elapsed 2:36:42.272479 [Epoch 53/100] [Batch 0/312] Train Loss: 1.491561 Train Acc:0.685781 Valid Loss: 3.044253 Valid Acc:0.597600\n",
      "(128, 300) (128, 50) (128, 50, 4879) (25, 300) (25, 50) (25, 50, 4879)\n",
      "Time Elapsed 2:39:39.074594 [Epoch 54/100] [Batch 0/312] Train Loss: 1.503510 Train Acc:0.686406 Valid Loss: 3.058722 Valid Acc:0.606400\n",
      "(128, 300) (128, 50) (128, 50, 4879) (25, 300) (25, 50) (25, 50, 4879)\n",
      "Time Elapsed 2:42:35.926787 [Epoch 55/100] [Batch 0/312] Train Loss: 1.484621 Train Acc:0.684531 Valid Loss: 3.055286 Valid Acc:0.606400\n",
      "(128, 300) (128, 50) (128, 50, 4879) (25, 300) (25, 50) (25, 50, 4879)\n",
      "Time Elapsed 2:45:39.267289 [Epoch 56/100] [Batch 0/312] Train Loss: 1.477687 Train Acc:0.691406 Valid Loss: 3.067640 Valid Acc:0.603200\n",
      "(128, 300) (128, 50) (128, 50, 4879) (25, 300) (25, 50) (25, 50, 4879)\n",
      "Time Elapsed 2:48:36.273337 [Epoch 57/100] [Batch 0/312] Train Loss: 1.468847 Train Acc:0.690625 Valid Loss: 3.067051 Valid Acc:0.607200\n",
      "(128, 300) (128, 50) (128, 50, 4879) (25, 300) (25, 50) (25, 50, 4879)\n",
      "Time Elapsed 2:51:33.838041 [Epoch 58/100] [Batch 0/312] Train Loss: 1.457262 Train Acc:0.696250 Valid Loss: 3.096618 Valid Acc:0.604800\n",
      "(128, 300) (128, 50) (128, 50, 4879) (25, 300) (25, 50) (25, 50, 4879)\n",
      "Time Elapsed 2:54:31.807993 [Epoch 59/100] [Batch 0/312] Train Loss: 1.447405 Train Acc:0.697656 Valid Loss: 3.078653 Valid Acc:0.600800\n",
      "(128, 300) (128, 50) (128, 50, 4879) (25, 300) (25, 50) (25, 50, 4879)\n",
      "Time Elapsed 2:57:25.707489 [Epoch 60/100] [Batch 0/312] Train Loss: 1.456679 Train Acc:0.692813 Valid Loss: 3.112037 Valid Acc:0.604000\n",
      "(128, 300) (128, 50) (128, 50, 4879) (25, 300) (25, 50) (25, 50, 4879)\n",
      "Time Elapsed 3:00:19.017778 [Epoch 61/100] [Batch 0/312] Train Loss: 1.453907 Train Acc:0.695938 Valid Loss: 3.108638 Valid Acc:0.609600\n",
      "(128, 300) (128, 50) (128, 50, 4879) (25, 300) (25, 50) (25, 50, 4879)\n",
      "Time Elapsed 3:03:17.319578 [Epoch 62/100] [Batch 0/312] Train Loss: 1.436066 Train Acc:0.699219 Valid Loss: 3.122785 Valid Acc:0.608800\n",
      "(128, 300) (128, 50) (128, 50, 4879) (25, 300) (25, 50) (25, 50, 4879)\n",
      "Time Elapsed 3:06:13.397307 [Epoch 63/100] [Batch 0/312] Train Loss: 1.437148 Train Acc:0.699219 Valid Loss: 3.122094 Valid Acc:0.602400\n",
      "(128, 300) (128, 50) (128, 50, 4879) (25, 300) (25, 50) (25, 50, 4879)\n",
      "Time Elapsed 3:09:11.369615 [Epoch 64/100] [Batch 0/312] Train Loss: 1.439693 Train Acc:0.698125 Valid Loss: 3.125860 Valid Acc:0.608000\n",
      "(128, 300) (128, 50) (128, 50, 4879) (25, 300) (25, 50) (25, 50, 4879)\n",
      "Time Elapsed 3:12:07.801346 [Epoch 65/100] [Batch 0/312] Train Loss: 1.437100 Train Acc:0.697969 Valid Loss: 3.119890 Valid Acc:0.603200\n",
      "(128, 300) (128, 50) (128, 50, 4879) (25, 300) (25, 50) (25, 50, 4879)\n",
      "Time Elapsed 3:15:04.121970 [Epoch 66/100] [Batch 0/312] Train Loss: 1.441215 Train Acc:0.696875 Valid Loss: 3.122756 Valid Acc:0.606400\n",
      "(128, 300) (128, 50) (128, 50, 4879) (25, 300) (25, 50) (25, 50, 4879)\n",
      "Time Elapsed 3:18:00.617898 [Epoch 67/100] [Batch 0/312] Train Loss: 1.426316 Train Acc:0.699375 Valid Loss: 3.144446 Valid Acc:0.604800\n",
      "(128, 300) (128, 50) (128, 50, 4879) (25, 300) (25, 50) (25, 50, 4879)\n",
      "Time Elapsed 3:20:56.549784 [Epoch 68/100] [Batch 0/312] Train Loss: 1.416198 Train Acc:0.700781 Valid Loss: 3.166187 Valid Acc:0.601600\n",
      "(128, 300) (128, 50) (128, 50, 4879) (25, 300) (25, 50) (25, 50, 4879)\n",
      "Time Elapsed 3:23:52.105023 [Epoch 69/100] [Batch 0/312] Train Loss: 1.403940 Train Acc:0.703906 Valid Loss: 3.151354 Valid Acc:0.605600\n",
      "(128, 300) (128, 50) (128, 50, 4879) (25, 300) (25, 50) (25, 50, 4879)\n",
      "Time Elapsed 3:26:47.617851 [Epoch 70/100] [Batch 0/312] Train Loss: 1.403180 Train Acc:0.700938 Valid Loss: 3.151669 Valid Acc:0.607200\n",
      "(128, 300) (128, 50) (128, 50, 4879) (25, 300) (25, 50) (25, 50, 4879)\n",
      "Time Elapsed 3:29:44.305012 [Epoch 71/100] [Batch 0/312] Train Loss: 1.406787 Train Acc:0.702656 Valid Loss: 3.165562 Valid Acc:0.610400\n",
      "(128, 300) (128, 50) (128, 50, 4879) (25, 300) (25, 50) (25, 50, 4879)\n",
      "Time Elapsed 3:32:39.980017 [Epoch 72/100] [Batch 0/312] Train Loss: 1.394482 Train Acc:0.702344 Valid Loss: 3.160452 Valid Acc:0.604000\n",
      "(128, 300) (128, 50) (128, 50, 4879) (25, 300) (25, 50) (25, 50, 4879)\n",
      "Time Elapsed 3:35:36.679376 [Epoch 73/100] [Batch 0/312] Train Loss: 1.417324 Train Acc:0.696250 Valid Loss: 3.169550 Valid Acc:0.607200\n",
      "(128, 300) (128, 50) (128, 50, 4879) (25, 300) (25, 50) (25, 50, 4879)\n",
      "Time Elapsed 3:38:34.608985 [Epoch 74/100] [Batch 0/312] Train Loss: 1.400540 Train Acc:0.703750 Valid Loss: 3.170854 Valid Acc:0.593600\n",
      "(128, 300) (128, 50) (128, 50, 4879) (25, 300) (25, 50) (25, 50, 4879)\n",
      "Time Elapsed 3:41:30.391188 [Epoch 75/100] [Batch 0/312] Train Loss: 1.398544 Train Acc:0.699063 Valid Loss: 3.183245 Valid Acc:0.601600\n",
      "(128, 300) (128, 50) (128, 50, 4879) (25, 300) (25, 50) (25, 50, 4879)\n",
      "Time Elapsed 3:44:26.328553 [Epoch 76/100] [Batch 0/312] Train Loss: 1.387545 Train Acc:0.704531 Valid Loss: 3.168889 Valid Acc:0.609600\n",
      "(128, 300) (128, 50) (128, 50, 4879) (25, 300) (25, 50) (25, 50, 4879)\n",
      "Time Elapsed 3:47:21.938316 [Epoch 77/100] [Batch 0/312] Train Loss: 1.379637 Train Acc:0.704375 Valid Loss: 3.158568 Valid Acc:0.612800\n",
      "(128, 300) (128, 50) (128, 50, 4879) (25, 300) (25, 50) (25, 50, 4879)\n",
      "Time Elapsed 3:50:17.551867 [Epoch 78/100] [Batch 0/312] Train Loss: 1.370109 Train Acc:0.703750 Valid Loss: 3.233462 Valid Acc:0.608800\n",
      "(128, 300) (128, 50) (128, 50, 4879) (25, 300) (25, 50) (25, 50, 4879)\n",
      "Time Elapsed 3:53:13.254977 [Epoch 79/100] [Batch 0/312] Train Loss: 1.374137 Train Acc:0.703906 Valid Loss: 3.183640 Valid Acc:0.612800\n",
      "(128, 300) (128, 50) (128, 50, 4879) (25, 300) (25, 50) (25, 50, 4879)\n",
      "Time Elapsed 3:56:08.861428 [Epoch 80/100] [Batch 0/312] Train Loss: 1.371011 Train Acc:0.708125 Valid Loss: 3.201679 Valid Acc:0.612000\n",
      "(128, 300) (128, 50) (128, 50, 4879) (25, 300) (25, 50) (25, 50, 4879)\n",
      "Time Elapsed 3:59:04.374023 [Epoch 81/100] [Batch 0/312] Train Loss: 1.359459 Train Acc:0.709219 Valid Loss: 3.185452 Valid Acc:0.614400\n",
      "(128, 300) (128, 50) (128, 50, 4879) (25, 300) (25, 50) (25, 50, 4879)\n",
      "Time Elapsed 4:02:02.682411 [Epoch 82/100] [Batch 0/312] Train Loss: 1.362551 Train Acc:0.708906 Valid Loss: 3.181465 Valid Acc:0.609600\n",
      "(128, 300) (128, 50) (128, 50, 4879) (25, 300) (25, 50) (25, 50, 4879)\n",
      "Time Elapsed 4:05:01.324019 [Epoch 83/100] [Batch 0/312] Train Loss: 1.366590 Train Acc:0.705938 Valid Loss: 3.204969 Valid Acc:0.604800\n",
      "(128, 300) (128, 50) (128, 50, 4879) (25, 300) (25, 50) (25, 50, 4879)\n",
      "Time Elapsed 4:08:00.247562 [Epoch 84/100] [Batch 0/312] Train Loss: 1.371191 Train Acc:0.706094 Valid Loss: 3.206697 Valid Acc:0.603200\n",
      "(128, 300) (128, 50) (128, 50, 4879) (25, 300) (25, 50) (25, 50, 4879)\n",
      "Time Elapsed 4:10:57.289374 [Epoch 85/100] [Batch 0/312] Train Loss: 1.353888 Train Acc:0.703750 Valid Loss: 3.217360 Valid Acc:0.614400\n",
      "(128, 300) (128, 50) (128, 50, 4879) (25, 300) (25, 50) (25, 50, 4879)\n",
      "Time Elapsed 4:13:54.056983 [Epoch 86/100] [Batch 0/312] Train Loss: 1.349461 Train Acc:0.710625 Valid Loss: 3.202542 Valid Acc:0.611200\n",
      "(128, 300) (128, 50) (128, 50, 4879) (25, 300) (25, 50) (25, 50, 4879)\n",
      "Time Elapsed 4:16:49.690325 [Epoch 87/100] [Batch 0/312] Train Loss: 1.350406 Train Acc:0.709219 Valid Loss: 3.215272 Valid Acc:0.611200\n",
      "(128, 300) (128, 50) (128, 50, 4879) (25, 300) (25, 50) (25, 50, 4879)\n",
      "Time Elapsed 4:19:46.068575 [Epoch 88/100] [Batch 0/312] Train Loss: 1.342806 Train Acc:0.713906 Valid Loss: 3.235954 Valid Acc:0.612800\n",
      "(128, 300) (128, 50) (128, 50, 4879) (25, 300) (25, 50) (25, 50, 4879)\n",
      "Time Elapsed 4:22:42.044644 [Epoch 89/100] [Batch 0/312] Train Loss: 1.347117 Train Acc:0.712188 Valid Loss: 3.218942 Valid Acc:0.616800\n",
      "(128, 300) (128, 50) (128, 50, 4879) (25, 300) (25, 50) (25, 50, 4879)\n",
      "Time Elapsed 4:25:41.705998 [Epoch 90/100] [Batch 0/312] Train Loss: 1.341855 Train Acc:0.710156 Valid Loss: 3.244899 Valid Acc:0.604800\n",
      "(128, 300) (128, 50) (128, 50, 4879) (25, 300) (25, 50) (25, 50, 4879)\n",
      "Time Elapsed 4:28:38.188237 [Epoch 91/100] [Batch 0/312] Train Loss: 1.339410 Train Acc:0.709687 Valid Loss: 3.234766 Valid Acc:0.610400\n",
      "(128, 300) (128, 50) (128, 50, 4879) (25, 300) (25, 50) (25, 50, 4879)\n",
      "Time Elapsed 4:31:37.189698 [Epoch 92/100] [Batch 0/312] Train Loss: 1.338205 Train Acc:0.713281 Valid Loss: 3.241632 Valid Acc:0.607200\n",
      "(128, 300) (128, 50) (128, 50, 4879) (25, 300) (25, 50) (25, 50, 4879)\n",
      "Time Elapsed 4:34:34.114008 [Epoch 93/100] [Batch 0/312] Train Loss: 1.324388 Train Acc:0.713125 Valid Loss: 3.257484 Valid Acc:0.612000\n",
      "(128, 300) (128, 50) (128, 50, 4879) (25, 300) (25, 50) (25, 50, 4879)\n",
      "Time Elapsed 4:37:29.647319 [Epoch 94/100] [Batch 0/312] Train Loss: 1.335831 Train Acc:0.710312 Valid Loss: 3.259932 Valid Acc:0.607200\n",
      "(128, 300) (128, 50) (128, 50, 4879) (25, 300) (25, 50) (25, 50, 4879)\n",
      "Time Elapsed 4:40:25.425264 [Epoch 95/100] [Batch 0/312] Train Loss: 1.322222 Train Acc:0.711719 Valid Loss: 3.270729 Valid Acc:0.604800\n",
      "(128, 300) (128, 50) (128, 50, 4879) (25, 300) (25, 50) (25, 50, 4879)\n",
      "Time Elapsed 4:43:26.507652 [Epoch 96/100] [Batch 0/312] Train Loss: 1.334301 Train Acc:0.714219 Valid Loss: 3.300726 Valid Acc:0.602400\n",
      "(128, 300) (128, 50) (128, 50, 4879) (25, 300) (25, 50) (25, 50, 4879)\n",
      "Time Elapsed 4:46:24.363722 [Epoch 97/100] [Batch 0/312] Train Loss: 1.311911 Train Acc:0.714219 Valid Loss: 3.245837 Valid Acc:0.603200\n",
      "(128, 300) (128, 50) (128, 50, 4879) (25, 300) (25, 50) (25, 50, 4879)\n",
      "Time Elapsed 4:49:18.289958 [Epoch 98/100] [Batch 0/312] Train Loss: 1.313512 Train Acc:0.720469 Valid Loss: 3.311233 Valid Acc:0.599200\n",
      "(128, 300) (128, 50) (128, 50, 4879) (25, 300) (25, 50) (25, 50, 4879)\n",
      "Time Elapsed 4:52:12.845327 [Epoch 99/100] [Batch 0/312] Train Loss: 1.314143 Train Acc:0.716563 Valid Loss: 3.266664 Valid Acc:0.609600\n"
     ]
    }
   ],
   "source": [
    "train_losses, train_accs, val_losses, val_accs = model.train(epochs=100, batch_size=128)"
   ]
  },
  {
   "cell_type": "code",
   "execution_count": 197,
   "metadata": {},
   "outputs": [],
   "source": [
    "M_json = model.att.to_json()\n",
    "with open(\"attention.json\",\"w\") as file:\n",
    "    file.write(M_json)\n",
    "model.att.save_weights(\"attention_weights.h5\")"
   ]
  },
  {
   "cell_type": "code",
   "execution_count": 57,
   "metadata": {},
   "outputs": [],
   "source": [
    "from keras.models import model_from_json\n",
    "file = open('attention.json','r')\n",
    "model = file.read()\n",
    "file.close()\n",
    "attention = model_from_json(model)\n",
    "attention.load_weights(\"attention_weights.h5\")"
   ]
  },
  {
   "cell_type": "code",
   "execution_count": 160,
   "metadata": {},
   "outputs": [
    {
     "data": {
      "text/plain": [
       "<matplotlib.legend.Legend at 0x7f23c17cb7c0>"
      ]
     },
     "execution_count": 160,
     "metadata": {},
     "output_type": "execute_result"
    },
    {
     "data": {
      "image/png": "[encoded data removed]",
      "text/plain": [
       "<Figure size 720x360 with 1 Axes>"
      ]
     },
     "metadata": {
      "needs_background": "light"
     },
     "output_type": "display_data"
    },
    {
     "data": {
      "image/png": "[encoded data removed]",
      "text/plain": [
       "<Figure size 720x360 with 1 Axes>"
      ]
     },
     "metadata": {
      "needs_background": "light"
     },
     "output_type": "display_data"
    }
   ],
   "source": [
    "tmp1=[]\n",
    "for _ in [i*312 for i in range(100)]:\n",
    "    tmp1.append(train_accs[_])\n",
    "\n",
    "tmp2=[]\n",
    "for _ in [i*312 for i in range(100)]:\n",
    "    tmp2.append(val_accs[_])\n",
    "    \n",
    "batches = range(1,len(tmp1)+1)\n",
    "\n",
    "plt.figure(figsize=(10,5))\n",
    "plt.plot(batches,tmp1,label='train acc')\n",
    "plt.plot(batches,tmp2,label='validation acc')\n",
    "plt.title('train and validation accuracy at each epoch')\n",
    "plt.legend()\n",
    "\n",
    "\n",
    "tmp1=[]\n",
    "for _ in [i*312 for i in range(100)]:\n",
    "    tmp1.append(train_losses[_])\n",
    "\n",
    "tmp2=[]\n",
    "for _ in [i*312 for i in range(100)]:\n",
    "    tmp2.append(val_losses[_])\n",
    "    \n",
    "batches = range(1,len(tmp1)+1)\n",
    "\n",
    "plt.figure(figsize=(10,5))\n",
    "plt.plot(batches,tmp1,label='train loss')\n",
    "plt.plot(batches,tmp2,label='validation loss')\n",
    "plt.title('train and validation loss at each epoch')\n",
    "plt.legend()"
   ]
  },
  {
   "cell_type": "markdown",
   "metadata": {},
   "source": [
    "## Test Model"
   ]
  },
  {
   "cell_type": "code",
   "execution_count": 196,
   "metadata": {
    "colab": {
     "base_uri": "https://localhost:8080/",
     "height": 1000
    },
    "colab_type": "code",
    "id": "a4uF1VoaFS5A",
    "outputId": "87ea269f-b111-4130-d464-3796fc48a5eb"
   },
   "outputs": [
    {
     "name": "stdout",
     "output_type": "stream",
     "text": [
      "40000\n",
      "['외교부', 'unk', 'unk', '미국', '미네소타주', '경찰', '현지', '시위', '현장', 'unk', '모습', '연합뉴스', '미국', '미네소타주', '경찰', '과잉', '진압', '흑', '남성', '사건', '시작', '항의', '시위', '미', '전역', '가운데', 'unk', '한국', 'unk', '피해', '입', '확인', '외교부', '당국자', '이날', '미', '전역', '시위', '전국적', '확산', '현재', '미네소타주', '일부', 'unk', '발생', '파악', '구체적', '내용', '확인', '현지', '사건', '발생', '뒤', '인종차별', '반대', '시위', '미네소타주', '미니애폴리스', '인근', '지역', '상점', '약탈', 'unk', '화재', '발생', '외교부', 'unk', '포함', '미국', '지역', '총영사관', '웹사이트', 'unk', 'sns', 'unk', 'unk', '접근', '자제', '신변', '유의', '권고', '현지시각', '미국', '뉴욕', '흑', '남성', '조', '플로이드', '백', '경찰', '가혹', '행위', '사건', '항의', '시위', '가운데', '시위', '참가자', '경찰', '체포', '연합뉴스', '외교부', '인종차별', '시위', '격화', '관련', 'unk', '시위', '미니애폴리스', 'unk', '포함', '뉴욕', 'unk', '지역', '격화', 'unk', '주지사', '미니애폴리스', 'unk', 'unk', 'unk', '상태', '지역', '체류', '방문', '국민들', '유의', '시위', '지역', '접근', 'unk', '당부', '외교부', '당국자', '지역', 'unk', '비상', 'unk', '유', '국민', '상황', '파악', '예방', '한편', 'unk', '필요', 'unk', 'unk', '제공', '예정']\n",
      "\n",
      "[21.0, 1418.0, 24.0, 24.0, 24.0, 24.0, 24.0, 24.0, 24.0, 24.0, 24.0, 24.0, 24.0, 24.0, 24.0, 24.0, 24.0, 24.0, 24.0, 1418.0, 4865.0, 446.0, 4024.0, 1418.0, 895.0, 0.0, 0.0, 0.0, 0.0, 0.0, 0.0, 0.0, 0.0, 0.0, 0.0, 0.0, 0.0, 0.0, 0.0, 0.0, 0.0, 0.0, 0.0, 0.0, 0.0, 0.0, 0.0, 0.0, 0.0, 0.0]\n",
      "['sofs', '미국', 'unk', 'unk', 'unk', 'unk', 'unk', 'unk', 'unk', 'unk', 'unk', 'unk', 'unk', 'unk', 'unk', 'unk', 'unk', 'unk', 'unk', '미국', '흑', '관광객', '체포', '미국', '뉴욕타임스']\n",
      "\n",
      "\n",
      "40001\n",
      "['국회의장', '경호', 'unk', '식사', '자리', 'unk', '검사', '대', '국회', 'unk', '태영호', '미래통합당', '의원', '경호', '정치권', '탈북민', '최초', '지역구', 'unk', '의원', 'unk', '활동', '시작', '최고', '수준', '경호', 'unk', '의원', '전날', '보좌진', '서울', '여의', '국회', '의원회관', 'unk', '이사', '과정', '경찰', '경호', '인력', '투입', '태영호', '오른쪽', '의원', '오전', '국회', '미래통합당', '당선', '워크숍', 'unk', '임현동', '기', '국회', '경찰', '의원', '동선', 'unk', '소속', '경찰관', '경호', '무기', '소', 'unk', '국회', 'unk', '시스템', '등록', '근접', '경호', '지장', '경찰', '경호', '대상', 'unk', 'unk', '분류', '의원', 'unk', 'unk', 'unk', '인사', '고위', 'unk', 'unk', '공사', '출신', '국회', '관계자', 'unk', '경호', '일반적', 'unk', '경호', '조', '진행', '야간', '당직', '형태', '의원', '경호', '인력', '통상적', '의원실', '관계자', '경호', '경찰관', '경찰', '지원', 'unk', '의원실', '총기', '무장한', '경찰들', '순환', '근무', '식', '상주', '국회', '본회의', '상임위', 'unk', '회의장', '밖', 'unk', '회의장', '국회', 'unk', '대', '경호', '업무', '경찰', '포함', '경호', '인력', '의원', '경호', '인력', '규모', '국', '보안', '사항', '의원', '이동', '대', '차량', '식', '의원', '차량', '의원실', '관계자', '신변', '위협', '의원', '식사', '자리', 'unk', '별', '검사', '경호', '신경', '지난달', '북한', '의원', 'unk', 'unk', '비난', 'unk', '의원', '망명', '북한', 'unk', '폭로', 'unk', '분당', '자택', '엘리베이터', 'unk', '직후', '망명', 'unk', '노동당', '비', '한국', 'unk', 'unk', '위협', '서울', 'unk', '출마', 'unk', '태영호', '미래통합당', '의원', '서울', '강남구', 'unk', '방송사', 'unk', '결과', '후보', '승리', '예측', '지지자들', '환호', '황', '비', '이후', 'unk', '탈북자', '주목', '의원', '총선', '통합당', '후보', '출마', '당선', '김정', '북한', '국무위원장', '형', 'unk', '런던', '가수', 'unk', 'unk', '공연', '박', '수행', '한국', '망명', '의원', '소속', '상임위', 'unk', '순위', 'unk', '순위', '지원', '종합부동산세', '완화', '골자', '법안', '예정', 'unk', '기']\n",
      "\n",
      "[21.0, 24.0, 24.0, 24.0, 24.0, 24.0, 24.0, 24.0, 24.0, 24.0, 24.0, 24.0, 24.0, 24.0, 24.0, 24.0, 24.0, 24.0, 24.0, 24.0, 24.0, 24.0, 24.0, 24.0, 24.0, 24.0, 24.0, 24.0, 24.0, 24.0, 4185.0, 24.0, 24.0, 24.0, 4185.0, 24.0, 24.0, 24.0, 3917.0, 426.0, 24.0, 4323.0, 24.0, 3787.0, 1360.0, 24.0, 24.0, 24.0, 24.0, 3410.0]\n",
      "['sofs', 'unk', 'unk', 'unk', 'unk', 'unk', 'unk', 'unk', 'unk', 'unk', 'unk', 'unk', 'unk', 'unk', 'unk', 'unk', 'unk', 'unk', 'unk', 'unk', 'unk', 'unk', 'unk', 'unk', 'unk', 'unk', 'unk', 'unk', 'unk', 'unk', '침해', 'unk', 'unk', 'unk', '침해', 'unk', 'unk', 'unk', '징계', '과세', 'unk', '통보', 'unk', '중지', '몽골', 'unk', 'unk', 'unk', 'unk', '재개']\n",
      "\n",
      "\n",
      "40002\n",
      "['윤미향', '면담', 'unk', '결론', '열흘', 'unk', 'unk', '월일', '은', '다음날', '취', 'unk', '부득이', 'unk', 'unk', '액수', '사전', 'unk', '전담', '변호사', '이용수', '할머니', '윤미향', '더불어민주당', '의원', 'unk', '더불어민주당', '의원', '한일', '위안부', '합', '내용', '면담', '기록', '외교부', '부득이', '사유', 'unk', '결정', '시한', '열흘', '연장', '일각', '외교부', 'unk', '결정', '다음날', '윤', '의원', '공식적', '국회의원', '만큼', '외교부', 'unk', '판단', '의혹', '보수', '성향', '변호사', '단체', '한반', '인권', '통일', 'unk', '외교부', '위안부', '합의', '관련한', '윤', '의원', '면담', '기록', 'unk', '결정', '시한', '연장', 'unk', 'unk', '청구', '시점', '지난달', '만큼', '당초', '외교부', '공개', '결정해', 'unk', '지난달', '윤', '의원', '다음날', '공식적', '국회의원', '공공기관', 'unk', '법률', '제조', 'unk', 'unk', '청구', '날', '휴일', '제외', '공개', '결정해', '규정', '부득이', '사유', '기간', '결정', '기간', '열흘', '연장', '외교부', '입장', 'unk', '결정', '시한', '만큼', '셈', '외교부', '기간', '연장', 'unk', '측', '통보', '부득이', '사유', '내부', '검토', '처리', 'unk', '확인', '윤', '의원', '의혹', '지난달', '일본군', '위안부', '피해자', '이용수', '할머니', '기자회견', '촉발', '직후', '면담', '기록', '공개', '각계', '요청', '감안', '내부', '검토', '이례적', '지적', '외교부', '위안부', '합', '당시', '일본', '정부', 'unk', '억엔', '액수', '윤', '의원', '정의연', '구체적', '동의', '내용', '위안부', '합', '검토', '태스크포스', 'tf', '결과', '보고서', '참조', '입장', '고수', '윤', '의원', '면담', '문건', '존재', '검찰', '수사', '제출', '입장', 'unk', 'unk', '회장', '외교부', '이유', 'unk', '결정', '강경화', '외교부', '장관', '연합뉴스', '논란', '애초', '한일', '합', '당시', '억엔', '일본', '윤미향', '당시', 'unk', '대표', '할머니', '주장', '비롯', '윤', '의원', '전날', '연락', '액수', '핵심', '내용', '채', '반박', '외교부', '윤', '의원', '주장', '힘', 'unk', '지난달', '외교부', '윤', '의원', '면담', '기록', 'unk', '청구', '국민', '위안부', '단체', '대표', '윤미향', '당시', '위안부', '합', '내용', '의견', '제시', '반영', 'unk', '권리', '국', '협의', '시민단체', '면담', '내용', '공개', '이유', '주장', '달', '전담', '변호사', '할머니', '명예훼손', 'unk', '불법행위', '방어', '선언']\n",
      "\n",
      "[21.0, 3567.0, 3142.0, 4127.0, 3058.0, 1035.0, 576.0, 947.0, 24.0, 4821.0, 4344.0, 862.0, 1046.0, 1409.0, 576.0, 4127.0, 576.0, 576.0, 947.0, 4850.0, 1309.0, 3110.0, 3799.0, 3102.0, 1940.0, 3102.0, 3102.0, 698.0, 0.0, 0.0, 0.0, 0.0, 0.0, 0.0, 0.0, 0.0, 0.0, 0.0, 0.0, 0.0, 0.0, 0.0, 0.0, 0.0, 0.0, 0.0, 0.0, 0.0, 0.0, 0.0]\n",
      "['sofs', '정의기억연대', '이사장', '출신', '윤미향', '더불어민주당', '국회의원', '당선인', 'unk', '회계', '투명', '논란', '도마', '물의', '국회의원', '출신', '국회의원', '국회의원', '당선인', '후원금', '명령', '의혹', '증거', '의원', '사항', '의원', '의원', '기자회견']\n",
      "\n",
      "\n",
      "40003\n",
      "['통합당', '주호영', 'unk', '협상', 'unk', '통합당', '태도', '충격', '대', '국회', '개원', 'unk', 'unk', '대', 'unk', '위원장', '곳', '통합당', '민주당', '석', '종로구', 'unk', 'unk', 'unk', '김태년', '더불어민주당', '원내대표', '오른쪽', '주호영', '미래통합당', '원내대표', '대화', '연합뉴스', '국회', '개원', '협상', '연계', '미래통합당', '태도', '충격', '석', 'unk', '원내', 'unk', '김태년', '더불어민주당', '대표', '주호영', '미래통합당', 'unk', '사흘', '연속', '후', '공개적', '발언', '원내대표', '원내대표', '소주', '저녁', '회동', '원내대표', '국회', '기자간담회', 'unk', '토로', '주장', '국회의장', '의장', '상임위원회', 'unk', '막', '방법', '원내대표', '개원', '민주당', '국회', '과반', '석', 'unk', '의석수', '비례', '배분', '상임위원장', 'unk', '포함', 'unk', '원내대표', '국회', '신경전', '지속', '이날', '민주당', '발언', '통합당', '대', '국회', '민주당', '석', 'unk', '반박', '국회의장', '국회', '개원', '국회의장', '마찬가지', '법안', '심사', '상임위원', '배분', '여야', 'unk', '신종', '코로나바이러스감염증', '코로', '시급한', '법안', '심사', '요원', '국회의장', '선출', '국회', 'unk', '지연', '원내대표', '충격', '이유', '통합당', '반대', '국회의장', '선출', '대통령', '국', 'unk', '위', '국회의장', '중요', '자리', '국회의장', '국회법', '제조', 'unk', '투표', 'unk', 'unk', '득표', '선출', '국회', '국회의장', '선출', '첫', 'unk', '개원', '날', '국회의장', 'unk', '합의', '상임위원회', '위원장', '소속', '의원', '배정', '국회의장', '선출', '상임위', '구성', '정부', '국무회의', '의원', '찬성', '법안', '국회', '심사', '법안', '제출', '입법', '상임위', '법제사법위원회', '전체회의', '본회', '순', '심사', '국회법', '올해', '개원', '일정', '임시회', '집회', '공고', '임시회', '집회', 'unk', '선출', '상임위원회', '위원장', '선출', '순', '통합당', '국회의장', '선출', '협상', '테이블', '제대', '국회', '개원', '원내대표', '주장', '국회의장', '상임위', '배분', '법안', '심사', '구조', '국회의장', '석', '민주당', '참석', '선출', '야당', '채', '선출', 'unk', '국회의장', 'unk', '선택지', 'unk', '대', '국회', 'unk', '대', '국회', '여야', '만', 'unk', '특이한', 'unk', '국회', '임기', '시작', '후', 'unk', '평균', '대', 'unk', '기준', '대', '대', '원내대표', '사흘', '연속', '회동', '충격', '발언', '거론', '시나리오', '대', '대', '국회', '총선', '후', '시작', '국회', 'unk', '개원', '가운데', '국회의장', '선출', '상임위원장', '선출', 'unk', '완료', '당시', '여야', '한미', 'unk', 'unk', '체결', '총선', '후', '국회', '개원', '달', '법안', '심사', 'unk', 'unk', '지연', '국민들', '개원', '국회', '이미지', '국회', '신뢰', '저하', '코로나', '각국', '정책', '대응', '상황', '대', '국회']\n",
      "\n",
      "[21.0, 24.0, 24.0, 24.0, 24.0, 24.0, 24.0, 24.0, 24.0, 24.0, 24.0, 24.0, 24.0, 24.0, 24.0, 24.0, 24.0, 24.0, 24.0, 24.0, 24.0, 24.0, 24.0, 24.0, 24.0, 0.0, 0.0, 0.0, 0.0, 0.0, 0.0, 0.0, 0.0, 0.0, 0.0, 0.0, 0.0, 0.0, 0.0, 0.0, 0.0, 0.0, 0.0, 0.0, 0.0, 0.0, 0.0, 0.0, 0.0, 0.0]\n",
      "['sofs', 'unk', 'unk', 'unk', 'unk', 'unk', 'unk', 'unk', 'unk', 'unk', 'unk', 'unk', 'unk', 'unk', 'unk', 'unk', 'unk', 'unk', 'unk', 'unk', 'unk', 'unk', 'unk', 'unk', 'unk']\n",
      "\n",
      "\n",
      "40004\n",
      "['unk', '기용', '대', '총선', 'unk', 'unk', 'unk', 'unk', '대통령', '청와대', 'unk', 'unk', '더불어민주당', '의원', 'unk', 'unk', '대통령', 'unk', 'unk', '기용', '청와대', '비서관', '인선', '서울대', 'unk', '출신', '박', '비서관', '미', 'unk', 'unk', '학위', '뒤', 'unk', 'unk', '교수', '대', '총선', '민주당', '비례대표', '영입', '강민석', '청와대', '대변인', 'unk', '코로나', '이후', '변화', 'unk', '수립', '시행', '신', '청와대', '비서관', '지난달', '총선', '서울', 'unk', '출마', '낙선', '당초', '유력', '인사', 'unk', '이날', '박', '비서관', '국회의원', '임기', '종료', 'unk', '박', '비서관', '지난해', '유튜브', '채널', 'unk', '피아노', 'unk', 'unk', 'unk', '연주', 'unk', '대통령의', 'unk', '문재', '정부', 'unk', 'unk', 'unk', '화', 'unk', '감동', '화제', '공식', '발표', '대', 'unk', '청', 'unk', '비서관', 'unk', 'unk', '출신', '대선', '대통령', '캠프', '토크', '콘서트', '행사', '주도', 'unk', '전문가', '국제', '행사', '외교', '약점', '지적', '청와대', '핵심', '관계자', '의전', '쪽', '외교관', '출신', 'unk', '보완', '역할', '여성', '논란', '여전', '관련해', '청와대', '비서관', '본인', '수차례', '해명', '유감', '뜻', '표명', '입장', 'unk', '비서관', '지난해', '유튜브', 'unk', 'unk', 'unk', '연주', '영상', 'unk', '비서관', '지난해', '유튜브', 'unk', 'unk', 'unk', '연주', '영상', 'unk', 'unk', '연세대', 'unk', '미국', 'unk', '뉴욕주', '변호사', '대선', '대통령', 'unk', 'unk', 'unk', 'unk', 'unk', 'unk', 'unk', '출신', '정부', '출범', '직후', 'unk', 'unk', '부대변인', 'unk', '일해', '홍보', 'unk', '관계', 'unk', 'unk', 'unk', 'unk', 'unk', 'unk', 'unk', '민정비서관실', 'unk', 'unk', 'unk', 'unk', 'unk', '승진', '발탁', '청와대', '핵심', '관계자', '대통령', '보좌', 'unk', 'unk', '다양', '분야', '경험', 'unk', '청와대', '이날', 'unk', '육군', 'unk', 'unk', 'unk', '임명', '발표', '국방부', 'unk', '출신', '파견', '인사', '업무', '특성상', '공식', '발표', '이유', 'unk', '자리', '급', 'unk', 'unk', '기용', '안팎', '논란']\n",
      "\n",
      "[21.0, 1394.0, 1016.0, 24.0, 24.0, 24.0, 24.0, 24.0, 24.0, 24.0, 24.0, 24.0, 1016.0, 24.0, 24.0, 24.0, 24.0, 1016.0, 24.0, 24.0, 1016.0, 24.0, 24.0, 1016.0, 24.0, 24.0, 24.0, 1016.0, 24.0, 24.0, 24.0, 1016.0, 24.0, 24.0, 24.0, 24.0, 1016.0, 24.0, 24.0, 24.0, 24.0, 1016.0, 24.0, 24.0, 24.0, 1016.0, 24.0, 24.0, 24.0, 1016.0]\n",
      "['sofs', '문재', '대통령', 'unk', 'unk', 'unk', 'unk', 'unk', 'unk', 'unk', 'unk', 'unk', '대통령', 'unk', 'unk', 'unk', 'unk', '대통령', 'unk', 'unk', '대통령', 'unk', 'unk', '대통령', 'unk', 'unk', 'unk', '대통령', 'unk', 'unk', 'unk', '대통령', 'unk', 'unk', 'unk', 'unk', '대통령', 'unk', 'unk', 'unk', 'unk', '대통령', 'unk', 'unk', 'unk', '대통령', 'unk', 'unk', 'unk', '대통령']\n",
      "\n",
      "\n",
      "40005\n",
      "['미래통합당', '소속', 'unk', '국회', 'unk', '국회', '의원회관', '경향신문', 'unk', '여의도', '소회', 'unk', '인생', '출발', '기대', 'unk', '대', '국회', 'unk', '위원장', '대', '총선', '당선', '직후', '지역구', '자동차', '사고', 'unk', '뼈', 'unk', '상처', 'unk', '만성', '통증', '예견', '사고', '무리한', '지역구', '일정', '소화', 'unk', 'unk', 'unk', '위원장', '지역구', '의원들', '행사', '국회', '중단', '국회의원', '본연', '업무', 'unk', '국회', 'unk', '위원장', '정치적', '소신', '대', '국회의원들', '강조', '정치적', '소신', '대', '초선', 'unk', '지역', '현안', '해결', 'unk', 'unk', '평', '여권', 'unk', '비판', '야당', 'unk', '지적', '회의', '진행', '욕설', '논란', '위원장', '국민들', '죄송', '효율적', '진행', '위원장', 'unk', '법사위', '배제', '패스트트랙', '정치', 'unk', '결심', '정치권', '소회', 'unk', '야권', '의원들', '정치', '걱정', '결심', 'unk', '선거법', '연동형', 'unk', '공수처법', 'unk', '반대', '패스트트랙', '신속처리안건', '지정', '제도', '법사위', '완전', '배제', '정치', '결심', 'unk', '이유', '대', '총선', '직후', '자동차', '사고', '운전기사', '현장', 'unk', '중상', '후', '의사', '권유', 'unk', 'unk', 'unk', '작업', '몰두', '통증', '지역구', '행사', '의원', '본연', '업무', '뒤', '교통사고', 'unk', '농사', '지역구', '행사', '교통사고', 'unk', 'unk', '행사', '참석', '교통사고', '대', '국회', 'unk', 'unk', 'unk', '지역', '행사', '위험', '현실', 'unk', '지역', '행사', '집중', '국회의원', '국정', '논', '소신', '전념', '지역구', '의원들', '지역', '무시', 'unk', 'unk', '비판', 'unk', 'unk', '법안', '처리', '법사위', 'unk', '회의', '지연', 'unk', '얘', 'unk', '중립', '여권', '법사위', 'unk', '심사', '권한', '줄', '주장', '찬성', '법', 'unk', '잘못', '법', '체계', '잘못', '국민들', '권리', '보호', '악영향', '의원들', '정치적', '소', 'unk', 'unk', '법안', '발목', '용도', '지적', '이의', '제기', '의원', '분', '회부', '관행', 'unk', 'unk', '열리', '여야', 'unk', '회', '상시', '합의', '대', '국회의원들', '정치적', '소신', '뚜렷', '소신', '정치', 'unk', 'unk', '정치']\n",
      "\n",
      "[21.0, 24.0, 24.0, 24.0, 24.0, 24.0, 24.0, 24.0, 24.0, 1046.0, 2969.0, 477.0, 24.0, 1927.0, 3781.0, 2359.0, 2897.0, 2133.0, 4795.0, 3822.0, 24.0, 24.0, 4352.0, 4352.0, 4352.0, 4352.0, 2481.0, 936.0, 0.0, 0.0, 0.0, 0.0, 0.0, 0.0, 0.0, 0.0, 0.0, 0.0, 0.0, 0.0, 0.0, 0.0, 0.0, 0.0, 0.0, 0.0, 0.0, 0.0, 0.0, 0.0]\n",
      "['sofs', 'unk', 'unk', 'unk', 'unk', 'unk', 'unk', 'unk', 'unk', '도마', '위', '교도소', 'unk', '사적', '중앙정부', '시민', '우리공화당', '성폭력', '확정', '지도부', 'unk', 'unk', '투쟁', '투쟁', '투쟁', '투쟁', '실행', '당']\n",
      "\n",
      "\n",
      "40006\n",
      "['개월', '가족', 'unk', '탈', '조국', '법무부장관', '아침', '윤미향', '더불어민주당', '의원', '페이스북', '글', '대목', '한·', '위안부', '피해자', '합의', '출발', '관련', '의혹', '후원금', '유용', '의혹', 'unk', '고', '매입', '의혹', '모양새', '지난해', '조국', '법무부장관', '후보', '지명', '이후', '비슷', '윤미향', '사태', '조국', '사태', '거', 'unk', 'unk', '이후', '윤미향', '더불어민주당', '당선인', '오후', '국회', '소통관', '정의기억연대', '정의연', '활동', '기간', '부정', '의혹', '입장', '발표', '뒤', '기자들', '질문', '답변', '윤', '의원', '기자회견', '지난해', '조', '장관', '셀프', '청문회', '기자회견', '장소', '당', '통보', '재산', '형성', '자녀', '관련', '의혹', '대부분', '검찰', 'unk', '이유', '답', '모습', '꼴', '민주당', 'unk', '조율', '회견', '준비해', '비슷', '취재', '결과', '윤', '의원', '민주당', '사이', 'unk', 'unk', 'unk', '최고위원', '파악', '최고위원', '윤', '당선인', '계좌', '내역', '이해찬', '대표', '사전', '조', '장관', '인사청문회', '준비', '과정', '당시', '청와대', '총선', 'unk', '의원', '조', '장관', '여권', '사이', '메신저', '역할', '비슷', '조', '장관', '청문회', 'unk', '정치권', '인사', '의원', '사실상', '조', '후보자', 'unk', '참모', '기능', '거', 'unk', '비밀', '조국', '법무부', '장관', '후보자', '지난해', '오후', '서울', '여의', '국회', '기자간담회', '조', '후보자', '가족들', '사모펀드', '투', '의혹', '실수', '면', '불법', '주장', '검찰', '개편', 'unk', '장관', '후보자', '비례대표', '의원', '무게', '단순', 'unk', '조', '장관', 'unk', '친문', '지지', 'unk', '윤', '의원', '조', '장관', 'unk', '문재', '대통령', '윤', '의원', '공천', '최종', '승', '대표', '사태', 'unk', 'unk', '조', '장관', 'unk', '한창', '지난해', '대표', '계기', '정권', '언론', '당내', '언론', '대응', '태스크포스', 'tf', '신상', 'unk', '의혹', 'unk', '당', '기조', '윤미향', 'unk', '대표', 'unk', 'unk', '당내', '주류', '목소리', '사퇴', '주장', '귀', '수도권', '재선', '의원', '당내', '의견', '상황', '조국', '사태', '이면', '언론', '불신', 'unk', '논리', '작동', 'unk', '민주당', '중진', '의원', '윤미향', '부부', '후원금', '사적', '유용', '검찰', 'unk', '판단', 'unk', '기', 'unk', '검찰', '정치', '비난', '민주당', '검찰', '정치', '한복판', 'unk', '반복', '핵심적', '요인', '윤미향', '사태', '내부', '검증', 'unk', '의혹', 'unk', '강행', '사퇴', 'unk', '수사', '조국', '사태', '재연', '검찰', 'unk', '민주당', 'unk', '검찰', '개혁', 'unk', '수순', '지난해', '조', '장관', '청문회', '다음날', '검찰', '기소', '홍익표', '당시', '민주당', '수석대변인', 'unk']\n",
      "\n",
      "[21.0, 1035.0, 24.0, 3102.0, 24.0, 1454.0, 3102.0, 24.0, 1454.0, 24.0, 3102.0, 1454.0, 24.0, 1454.0, 24.0, 3102.0, 1454.0, 24.0, 3102.0, 1454.0, 24.0, 3102.0, 1454.0, 24.0, 3102.0, 1454.0, 24.0, 3102.0, 1454.0, 0.0, 0.0, 0.0, 0.0, 0.0, 0.0, 0.0, 0.0, 0.0, 0.0, 0.0, 0.0, 0.0, 0.0, 0.0, 0.0, 0.0, 0.0, 0.0, 0.0, 0.0]\n",
      "['sofs', '더불어민주당', 'unk', '의원', 'unk', '민주당', '의원', 'unk', '민주당', 'unk', '의원', '민주당', 'unk', '민주당', 'unk', '의원', '민주당', 'unk', '의원', '민주당', 'unk', '의원', '민주당', 'unk', '의원', '민주당', 'unk', '의원', '민주당']\n",
      "\n",
      "\n",
      "40007\n",
      "['의원회관', 'unk', '송구', 'unk', '보좌관', 'unk', '오전', '국회', '의원회관', '호', '출근', '윤미향', '의원', '사무실', '미소', '모습', '포착', '사무', '밖', '복도', '블라인드', '틈새', '촬영', '윤미향', '더불어민주당', '의원', '대', '국회의원', '신분', '국회', '출근', '해소', '의혹', '침묵', '일관', '당', '의원들', '당', '부담', '사과', '윤', '의원', '이날', '오전', '시', '사무실', '국회', '의원회관', '호', '출근', '윤', '의원', '위안부', '운동', '상징', 'unk', 'unk', '재킷', 'unk', '채', '오전', '사무', 'unk', '취재진', '질문', '윤', '의원', '대답', '사무실', '이후', '종', '사무', '밖', '모습', '오후', '시', '분', '퇴근', '의원회관', '후원금', '계좌', '모금', '경매', '아파트', '취득', '관련', '의혹', '설명', '순', '입장', '답', '이날', '퇴근', '직전', '민주당', '의원들', 'unk', '장', '분량', '희망', '기', 'unk', '대', '국회', 'unk', 'unk', '활동', '본', '국민들', '당', 'unk', '심려', '진심', '송구', '사과', '기자회견', '의혹', 'unk', '소명', 'unk', '당', 'unk', '논란', '불구', '옹호', '당', '지도부', '감사', '막막', 'unk', 'unk', '이해찬', '당', '대표', '김태년', 'unk', '비롯', '의원님', 'unk', '응원', '가능', '윤', '의원', '종', '사무실', 'unk', '비례대표', '의원', '포함', '몇몇', '민주당', '관계자', 'unk', '허용', '윤', '의원', '뒤', '의원', '위', '말씀', '의원', '윤', '의원', '공부', '국민', '여성', '인권', '훌륭', '역할', '당', '지도부', '검찰', '조사', '기조', '유지', '가운데', '당', '일각', '윤', '의원', '공직자', '태도', '비판', '한편', '곽', '미래통합당', '의원', '이날', '정의기억연대', '회계', '의혹', '보좌진', '채용', '지적', '치', '보좌관', 'unk', '자리', '치', '벌', '비판', 'unk', 'unk', 'unk', '관계', 'unk', '기', '윤', '의원', 'unk', '민주당', '의원실', '보좌관', '채용', '주장']\n",
      "\n",
      "[21.0, 1035.0, 3058.0, 3102.0, 3279.0, 3056.0, 2261.0, 575.0, 24.0, 3056.0, 2261.0, 4850.0, 1946.0, 394.0, 217.0, 3056.0, 3102.0, 3056.0, 2261.0, 3102.0, 3056.0, 2261.0, 268.0, 3268.0, 2942.0, 3056.0, 2261.0, 268.0, 3268.0, 2942.0, 1413.0, 0.0, 0.0, 0.0, 0.0, 0.0, 0.0, 0.0, 0.0, 0.0, 0.0, 0.0, 0.0, 0.0, 0.0, 0.0, 0.0, 0.0, 0.0, 0.0]\n",
      "['sofs', '더불어민주당', '윤미향', '의원', '임기', '윤', '수석', '국회', 'unk', '윤', '수석', '후원금', '삭감', '공약', '검토', '윤', '의원', '윤', '수석', '의원', '윤', '수석', '경선', '일왕', '원내대표', '윤', '수석', '경선', '일왕', '원내대표', '뭐']\n",
      "\n",
      "\n",
      "40008\n",
      "['제주도', '단체', '여행', '경기', 'unk', '지역', '교회', '목사', '신', '가족', '코로나', '확진된', '가운데', 'unk', 'unk', '도내', '동선', '공개', '지사', '지난달', '밤', '페이스북', '제주', '여행', '경기', '확진자', 'unk', '제주', '동', '조사결과', '공개', '현재', '확인', '접촉자', '방문', '곳', '소독', '확진자들', 'unk', 'unk', 'unk', 'unk', 'unk', '오후', '시', '반', '시', '분', '특정', '세부', '동선', '방문', '장소', '보건소', '방문', '무료', '검사', '제주도', '단체', '여행', '경기', 'unk', '지역', '교회', '목사', '신', '가족', '코로나', '확진된', '가운데', 'unk', 'unk', '도내', '동선', '공개', '이날', 'unk', '안양시', '전날', '교회', '신', '코로나', '확진된', '제주', '여행', '교회', '목사', '부부', '양성', '판정', '목사', '확진자', '초등학생', 'unk', '포함', '일가족', '추', 'unk', '감염', '목사', 'unk', '양', '초등학교', 'unk', '등교', '확인', '안양시', '해당', '학교', '등교', '중지', '조치', '접촉자', '대상', '진단검사', '감염', '우려', '일부', '교회', '집합금지', '명령', '교회', '신', '전수조사', '진행', '지사', '여행객', '확진자들', '증상', '발현', '시', '도내', '감염', '가능성', '낮', '확진자', '발생', 'unk', '접촉자', '중심', '지역사회', '전파', '우려', '상황', '확진자들', '시간대', '해당', '장소', '방문', 'unk', '무료', '검사', '지원', '제주', '방역', '비상', '가운데', 'unk', '일행', '여행', '기간', '접촉', 'unk', '파악', '역학조사', '진행', '박지혜', '네이버', '이데일리', '구독하기']\n",
      "\n",
      "[21.0, 257.0, 1753.0, 494.0, 450.0, 4799.0, 1087.0, 356.0, 257.0, 2272.0, 841.0, 4799.0, 24.0, 24.0, 24.0, 24.0, 3849.0, 4799.0, 3849.0, 1087.0, 4799.0, 3849.0, 1087.0, 1087.0, 0.0, 0.0, 0.0, 0.0, 0.0, 0.0, 0.0, 0.0, 0.0, 0.0, 0.0, 0.0, 0.0, 0.0, 0.0, 0.0, 0.0, 0.0, 0.0, 0.0, 0.0, 0.0, 0.0, 0.0, 0.0, 0.0]\n",
      "['sofs', '경기', '부천', '교회', '관련', '확진자', '동선', '공개', '경기', '수원', '노래방', '확진자', 'unk', 'unk', 'unk', 'unk', '지자체', '확진자', '지자체', '동선', '확진자', '지자체', '동선', '동선']\n",
      "\n",
      "\n",
      "40009\n",
      "['더불어민주당', '윤미향', '의원', '오후', '서울', '여의', '국회', '의원회관', '사무실', '보좌진', '대화', '왼쪽', '윤미향', '의원', '의원실', '응원', 'unk', 'unk', '더불어민주당', '의원', '제대', '국회', '개원', '이틀', '만', '국회', '의원회관', '마련', '의원실', '첫', '출근', '지난달', '기자회견', '해명', '미흡', '지적', '가운데', '윤', '의원', '사무실', '응원', '문구', '취', 'unk', '분위기', '윤', '의원', '지난달', '더불어민주당', '소속', '국회의원', '임기', '시작', '이날', '의원실', '의원회관', '호', '출근', '윤', '의원', '정장', '마스크', '채', '목', 'unk', 'unk', 'unk', '모습', '상', '왼쪽', '정의기억연대', '정의연', '활동', '상징', '빨간색', '문양', 'unk', '출근', '후', '의원실', '방문', '의원실', '밖', '창문', '블라인드', '언론', '접촉', '커피', 'unk', 'unk', '의원실', '보좌진', '모습', '포착', '블라인드', '사이', '안경', '채', '컴퓨터', '업무', '윤', '의원', '모습', '확인', '사무실', '응원', '취', '축하', '메시지', 'unk', '도착', '윤', '의원', '전화', '환', '보좌진', '대화', '표정', '반면', '민주당', '일각', '윤', '의원', '추', '의혹', '소명', '요구', '목소리', '민주당', '윤', '의원', '기자회견', '기점', '여론', '반전', '해명', '미흡', '지적', '여론', '부정적', '더불어민주당', '이해찬', '대표', '김태년', '원내대표', '오전', '서울', '여의', '국회', '최고위원회의', '입장', 'unk', 'unk', '윤', '의원', '김복동', '장학금', '딸', '대학교', 'unk', '추', '의혹', '제기', '검찰', '수사', '뒤', '당내', '입장', '정리', '민주당', '기조', '반발', '목소리', '야당', '시민단체', '중심', '해당', '장학금', '할머니', '용돈', '윤', '의원', '해명', 'unk', '비판', 'unk', '민주당', '최고위원', '이날', '국회', '최고위원회의', '금요일', '윤', '의원', '기자회견', '제기', '의혹', '해소', 'unk', '윤', '의원', '검찰', '수사', '시작', '기자회견', '근거', '자료', '공개', '어려움', '최소한', 'unk', '지출', '내역', '투명', '공개', '공직', '책', '자세', 'unk', '의원', '민주당', '윤', '당선인', '쪽', '이야기', '회계', '실수', '의혹', '쪽', '이야기', '실제', '신빙성', '윤', '의원', '국회의원', '신분', 'unk', '거', '명백한', '해명', '소신', '민주당', '지도부', '윤', '의원', '언론', '보도', '우', '입장', 'unk', '최고위원', '회의', '후', '기자들', '윤', '의원', '질문', '얘', '관심', '일축', '이해찬', '대표', '최고위', '모두발언', '언론보도', '우려', '표명', '언급']\n",
      "\n",
      "[21.0, 1035.0, 3058.0, 3102.0, 3279.0, 2214.0, 3056.0, 2261.0, 3056.0, 2261.0, 1670.0, 797.0, 1976.0, 3056.0, 3102.0, 4654.0, 3056.0, 3056.0, 4654.0, 4654.0, 3056.0, 4654.0, 4654.0, 0.0, 0.0, 0.0, 0.0, 0.0, 0.0, 0.0, 0.0, 0.0, 0.0, 0.0, 0.0, 0.0, 0.0, 0.0, 0.0, 0.0, 0.0, 0.0, 0.0, 0.0, 0.0, 0.0, 0.0, 0.0, 0.0, 0.0]\n",
      "['sofs', '더불어민주당', '윤미향', '의원', '임기', '소회', '윤', '수석', '윤', '수석', '보좌관', '납품', '상관', '윤', '의원', '해명', '윤', '윤', '해명', '해명', '윤', '해명', '해명']\n",
      "\n",
      "\n"
     ]
    }
   ],
   "source": [
    "#Test on train data\n",
    "decoder_input_data_pred = np.zeros((len(lines.summ), summ_max_length),dtype='float32')\n",
    "\n",
    "\n",
    "for i in range(40000,40010):\n",
    "    final_pred_att = []\n",
    "    print(i)\n",
    "    word = 21\n",
    "    for j in range(summ_max_length):\n",
    "        decoder_input_data_pred[i, j] = word\n",
    "        pred = model.att.predict([encoder_input_data[i].reshape(1,body_max_length),decoder_input_data_pred[i].reshape(1,summ_max_length)])\n",
    "        t = np.argmax(pred[0][j])\n",
    "        word = t\n",
    "        if word==5:\n",
    "            break\n",
    "    final_pred_att.append(list(decoder_input_data_pred[i]))\n",
    "    \n",
    "    \n",
    "    #실제 본문\n",
    "    b = []\n",
    "    for j in range(len(encoder_input_data[i])):\n",
    "        if int(encoder_input_data[i][j])!=0:\n",
    "            b.append(list(input_token_index.keys())[int(encoder_input_data[i][j]-1)])\n",
    "    print(b)\n",
    "    print()\n",
    "\n",
    "    #키워드 예측\n",
    "    print(final_pred_att[0])\n",
    "    tmp=[]\n",
    "    for _ in range(len(final_pred_att[0])):\n",
    "        if int(final_pred_att[0][_])!=0:\n",
    "            tmp.append(list(target_token_index.keys())[int(final_pred_att[0][_]-1)])\n",
    "    print(tmp)\n",
    "    print()\n",
    "    print()"
   ]
  },
  {
   "cell_type": "code",
   "execution_count": 41,
   "metadata": {
    "colab": {},
    "colab_type": "code",
    "id": "E-eXix35Qal8"
   },
   "outputs": [],
   "source": [
    "#Test on Youtube data\n",
    "kbs = pd.read_csv('kbs_nouns.csv')"
   ]
  },
  {
   "cell_type": "code",
   "execution_count": 42,
   "metadata": {},
   "outputs": [],
   "source": [
    "import ast\n",
    "kmorphs = kbs.body_nouns.copy()\n",
    "kmorphs = kmorphs.apply(ast.literal_eval)"
   ]
  },
  {
   "cell_type": "code",
   "execution_count": 61,
   "metadata": {},
   "outputs": [
    {
     "name": "stdout",
     "output_type": "stream",
     "text": [
      "0\n",
      "['전세', '물건', '목소리', '임대차', '시행', '이후', '전세', '월세', '전환', '우려', '정부', '월세', '기자', '설명', '리포트', '부동산', '관계', '아파트', '세대', '전세', '매물', '물량', '눈', '표시', '서울', '아파트', '전세', '물건', '시장', '통계', '전세', '아파트', '수요', '공급', '수급', '지수', '달', '기준', '서울', '전국', '공급', '수요', '뜻', '이후', '공급', '부족', '가격', '밖', '임대차', '시행', '전세', '월세', '거란', '전망', '세입자', '불안감', '정부', '월세', '손', '거', '원', '전세', '보증금', '원', '월세', '약', '원', '월세', '줄', '집주인', '월세', '감소', '전세', '월세', '전환', '가능성', '이걸', '세입자', '주택', '구제', '조정', '소송', '전문가들', '조치', '전세', '월세', '전환', '속도', '월세', '전환', '추세', '자체', '거란', '전망', '은행', '예금', '비교', '수익률', '중요', '월세', '기존', '전세', '월세', '적용', '거', '월세', '월세', '재계약', '월세', '계약', '적용', '월세', '전세', '한국감정원', '발표', '토대', '당사자', '협의', '뉴스', 'unk']\n",
      "\n",
      "[21.0, 3485.0, 540.0, 1015.0, 14.0, 621.0, 1979.0, 24.0, 2154.0, 3817.0, 3589.0, 2487.0, 992.0, 1611.0, 1531.0, 24.0, 24.0, 24.0, 333.0, 2568.0, 3549.0, 1678.0, 2278.0, 2010.0, 0.0, 0.0, 0.0, 0.0, 0.0, 0.0, 0.0, 0.0, 0.0, 0.0, 0.0, 0.0, 0.0, 0.0, 0.0, 0.0, 0.0, 0.0, 0.0, 0.0, 0.0, 0.0, 0.0, 0.0, 0.0, 0.0]\n",
      "['sofs', '전세', '국내', '대치동', 'lg유플러스', '근로자', '상당수', 'unk', '세입자', '지급', '제도', '심각', '대비해', '법인', '방문', 'unk', 'unk', 'unk', '고용', '안전', '정부', '보호', '수입차', '상황']\n",
      "\n",
      "\n",
      "1\n",
      "['김정', '북한', '국무위원장', '여동생', '김여정', '노동당', '중앙위원회', '국정', '운영', '일부', '국회', '위원장', '후계자', '결정한', '건강', '역할', '결정', '통치', '스트레스', '경감', '정책', '실패', '책', '분산', '차원', '단행', '국정원', '예측', '국정원', '북한', '권력', '구조', '상당한', '변화', '발생', '의미', '위원장', '중대한', '건강', '유', '상태', '김여정', '국정', '중간', '총괄', '권력', '용납', '지배', '북한', '체제', '변화', '가시화', '연계', '분석', '김정', '위원장', '건강', '관련한', '억측', '건강', '발생', '만큼', '대비한', '포석', '북한', '노동당', '중앙위원회', '전원회의', '실패', '이례적', '바', '건강', '유의', '필요', '위원장', '대북제재', '경제위', '코', '확산', '극복', '과정', '통치', '권력', '분산', '집중', '부담', '줄', '필요', '중요', '업무', '최종', '결정', '권한', '위원장', '위', '통치', '과거', '김', '성', '김정', '시대', '모습', '만큼', '북한', '행보', '관심', '고조', '예상', 'unk']\n",
      "\n",
      "[21.0, 738.0, 1770.0, 545.0, 24.0, 3410.0, 24.0, 427.0, 1770.0, 836.0, 2979.0, 1767.0, 4657.0, 1784.0, 76.0, 2944.0, 4330.0, 2784.0, 256.0, 1770.0, 1501.0, 24.0, 1501.0, 0.0, 0.0, 0.0, 0.0, 0.0, 0.0, 0.0, 0.0, 0.0, 0.0, 0.0, 0.0, 0.0, 0.0, 0.0, 0.0, 0.0, 0.0, 0.0, 0.0, 0.0, 0.0, 0.0, 0.0, 0.0, 0.0, 0.0]\n",
      "['sofs', '김정', '북한', '국무위원장', 'unk', '재개', 'unk', '과시', '북한', '노동신문', '위원장', '북부', '해석', '분양', '간부들', '원산', '통제', '영향', '경고', '북한', '반영', 'unk', '반영']\n",
      "\n",
      "\n",
      "2\n",
      "['민주당', '코', '위', '대책', '재난지원금', '한번', '지급', '방안', '검토', '추석', '지급', '시점', '거론', '정부', '신중', '입장', '기자', '보도', '리포트', '민주당', '재난지원금', '검토', '거', '확실', '코', '대책', '판단', '경기', '침체', '와중', '증가', '만큼', '재난지원금', '효과', '입증', '코', '확산세가', '계속', '취약계층', '피해', '검토', '배경', '대변인', '코', '확산', '대응', '체계', '계획', '검토', '상황', '민주당', '사회적', '거리', '상향', '재난지원금', '지급', '불가피하', '당내', '추석', '지급', '거론', '재난지원금', '국민들', '정부', '빚', '예산안', '추진', '거', '부담', '재난지원금', '중앙정부', '지방정부', '예산', '원', '정부', '재정', '부담', '이유', '신중', '입장', '효과', '정책', '비용', '거기', '막대한', '비용', '부담', '재난지원금', '정부', '국민', '지급', '방안', '반대', '정치권', '요구', '민주당', '정부', '청와대', '일요일', '정례', '회의', '재난지원금', '조율', '계획', '미래통합당', '코', '추경', '찬성', '입장', '뉴스', 'unk']\n",
      "\n",
      "[21.0, 3549.0, 3417.0, 3817.0, 24.0, 24.0, 3417.0, 1910.0, 37.0, 4821.0, 4344.0, 3452.0, 3519.0, 24.0, 1204.0, 3077.0, 3417.0, 1914.0, 24.0, 87.0, 3417.0, 3417.0, 1914.0, 24.0, 3379.0, 0.0, 0.0, 0.0, 0.0, 0.0, 0.0, 0.0, 0.0, 0.0, 0.0, 0.0, 0.0, 0.0, 0.0, 0.0, 0.0, 0.0, 0.0, 0.0, 0.0, 0.0, 0.0, 0.0, 0.0, 0.0]\n",
      "['sofs', '정부', '재난지원금', '지급', 'unk', 'unk', '재난지원금', '사용', '가능', '회계', '투명', '적절', '절차', 'unk', '마무리', '응답', '재난지원금', '사용처', 'unk', '감안', '재난지원금', '재난지원금', '사용처', 'unk', '잘못된']\n",
      "\n",
      "\n",
      "3\n",
      "['러시아', '대표적', '야권', '운동', '상태', '병원', '중환자실', '입원', '대변인', '대변인', '비행기', '직전', '공항', '카페', '차', '이후', '기내', '의식', '설명', '모스크바', '특파원', '보도', '리포트', '러시아', '대표적', '야권', '차', '뒤', '상태', '보도', '어제', '시베리아', '모스크바', '비행기', '기내', '의식', '비행기', '비상', '착륙', '대변인', '노출', '환자', '치료', '중환자실', '병원', '의사', '혈액', '상태', '테스트', '대변인', '비행기', '직전', '공항', '카페', '차', '차', '무언가', '중독', '의심', '대변인', '공항', '카페', '잔', '중독', '차', '수십', '차례', '바', '러시아', '대표적', '야권', '푸틴', '대통령의', '길', '개헌', '쿠데타', '비판', '바', '대변인', '중독', '확인', '중독', '확인', '조사', '대변인', '실험실', '중독', '확인', '검사', '결과', '한편', '마크롱', '프랑스', '대통령', '메르켈', '독', '총리', '정상회담', '후', '병원', '치료', '망명', '보호', '조치', '도움', '제안', '모스크바', '뉴스', 'unk']\n",
      "\n",
      "[21.0, 3756.0, 24.0, 24.0, 24.0, 24.0, 24.0, 24.0, 24.0, 24.0, 2042.0, 2117.0, 4535.0, 3031.0, 4795.0, 24.0, 24.0, 24.0, 24.0, 4865.0, 2692.0, 3619.0, 4865.0, 2692.0, 92.0, 1916.0, 0.0, 0.0, 0.0, 0.0, 0.0, 0.0, 0.0, 0.0, 0.0, 0.0, 0.0, 0.0, 0.0, 0.0, 0.0, 0.0, 0.0, 0.0, 0.0, 0.0, 0.0, 0.0, 0.0, 0.0]\n",
      "['sofs', '중국', 'unk', 'unk', 'unk', 'unk', 'unk', 'unk', 'unk', 'unk', '서구', '성범죄', '피해자', '유죄', '확정', 'unk', 'unk', 'unk', 'unk', '흑', '여성', '조', '흑', '여성', '감염자', '사우스차이나모닝포스트']\n",
      "\n",
      "\n",
      "4\n",
      "['서울에서', '성북구', '사랑제일교회', '관련', '확진자', '입시', '준비', '시설', '고교생', '집단', '감염', '확인', '서울시', '오늘', '집회', '금지', '강화', '대책', '기자', '보도', '리포트', '오늘', '서울', '전역', '집회', '전면', '금지', '사회적', '거리', '시행', '집회', '금지', '집회', '금지', '방역', '한층', '강화', '거', '서울시', '감염', '확산', '대책', '선제적', '결정', '설명', '서울', '유동인구', '추', '감염', '우려', '이유', '조치', '감염병예방법', '원', '이하', '벌금', '서울시', '확진자', '어제', '성북구', '사랑제일교회', '관련', '확진자', '어제', '서울에서', '사랑제일교회', '관련', '감염', '확진', '사례', '확인', '방역', '당국', '역학조사', '서울', '성북구', '입시', '시설', '집단', '감염', '서울', '고등학교', '입시', '시설', '고등학교', '확진자', '얘', '전체', '검사', '서울시', '교육청', '강사', '검사', '검사', '결과', '설명', '서울시청', '본청', '근무', '직원', '확진된', '관련해', '서울시', '층', '근무', '검사', '안내', '경증', '환자', '수용', '생활치료센터', '추가', '운영', '서울', '병상', '가동률', '서울시', '병상', '비롯', '병상', '추가', '운영', '계획', '뉴스', 'unk']\n",
      "\n",
      "[21.0, 3184.0, 4254.0, 1504.0, 4696.0, 3609.0, 313.0, 4567.0, 479.0, 1944.0, 2006.0, 2439.0, 4225.0, 93.0, 3314.0, 24.0, 1120.0, 4839.0, 4224.0, 4796.0, 4407.0, 0.0, 0.0, 0.0, 0.0, 0.0, 0.0, 0.0, 0.0, 0.0, 0.0, 0.0, 0.0, 0.0, 0.0, 0.0, 0.0, 0.0, 0.0, 0.0, 0.0, 0.0, 0.0, 0.0, 0.0, 0.0, 0.0, 0.0, 0.0, 0.0]\n",
      "['sofs', '이태원', '클럽', '발', '헬스장', '제주', '고등학교', '학년', '교류', '사흘', '상태', '신종', '코로나바이러스', '감염증', '입원', 'unk', '등교', '후', '코로나', '확진', '판정']\n",
      "\n",
      "\n",
      "5\n",
      "['어제', '김종', '통합당', '비대위원장', '무릎', '민주당', '왜곡', '처벌', '적극', '협조', '진정한', '사과', '민주당', '의원', '전원', '명의', '발의', '법안', '내용', '기자', '보도', '리포트', '핵심', '부인', '비방', '왜곡', '최대', '징역', '처벌', '내용', '예술', '표현', '자유', '정부', '공식', '발표', '명백한', '왜곡', '처벌', '명시', '통합당', '제기', '위헌', '논란', '최고위원', '자유', '보장하', '정부', '공', '내용', '표현', '자유', '충돌', '부분', '이걸', '위반', '처벌', '보완', '권한', '강화', '위원회', '규모', '활동', '기간', '강화', '기존', '가족', '관련', '유전자', '검사', '조항', '추가', '어제', '통합당', '김종', '비대위원장', '가해자', '표현', '통합당', '과거', '사과', '비상대책위원장', '표현', '자유', '명목', '역사적', '부정', '오늘', '실천', '이야기', '신뢰', '노력', '행동', '실천', '민주당', '특별법', '통과', '약속', '무릎', '사과', '진정성', '압박', '국민들', '김종', '비상대책위원장', '사과', '차원', '사과', '쇼', '불과', '어제', '자리', '김종', '비대위원장', '특별법', '피해자', '언급', '걸', '구체적', '변화', '동반', '진정성', '평가', '통합당', '적극적', '협력', '뉴스', 'unk']\n",
      "\n",
      "[21.0, 24.0, 24.0, 24.0, 24.0, 24.0, 24.0, 24.0, 24.0, 24.0, 24.0, 24.0, 24.0, 24.0, 24.0, 24.0, 24.0, 24.0, 24.0, 24.0, 24.0, 24.0, 24.0, 24.0, 24.0, 0.0, 0.0, 0.0, 0.0, 0.0, 0.0, 0.0, 0.0, 0.0, 0.0, 0.0, 0.0, 0.0, 0.0, 0.0, 0.0, 0.0, 0.0, 0.0, 0.0, 0.0, 0.0, 0.0, 0.0, 0.0]\n",
      "['sofs', 'unk', 'unk', 'unk', 'unk', 'unk', 'unk', 'unk', 'unk', 'unk', 'unk', 'unk', 'unk', 'unk', 'unk', 'unk', 'unk', 'unk', 'unk', 'unk', 'unk', 'unk', 'unk', 'unk', 'unk']\n",
      "\n",
      "\n",
      "6\n",
      "['올해', '북한', '김정', '위원장', '경제', '발전', '계획', '마지막', '위원장', '당', '주요', '간부들', '기간', '경제', '성과', '내년', '경제', '계획', '경제', '실패', '인정', '거', '이례적', '분석', '배경', '기자', '보도', '리포트', '김정은', '국무위원장', '주재', '만', '북한', '노동당', '전원회의', '핵심', '의제', '경제', '당', '대회', '제시', '전략', '평가', '목표', '달성', '전원회의', '명시', '공개', '시인', '계획', '국', '경제', '목표', '인민', '생활', '뚜렷', '향상', '결과', '원인', '혹독', '예상치', '표현', '등장', '대북제재', '코', '대규모', '홍수', '의미', '풀이', '내년', '당', '대회', '계획', '제시', '전략', '목표', '수치', '제시', '구체적', '계획', '뜻', '당', '대회', '북한', '중요', '이후', '만', '분야', '발표', '자리', '만큼', '미국', '행정부', '출범', '대외', '메시지', '대미', '발언', '사실상', '전략', '노선', '이름', '대미', '압박', '자세', '태도', '전체적', '윤곽', '가능성', '위원장', '당', '대회', '정기적', '소집', '당', '기관', '정비', '보강', '당', '중심', '체계적', '국정운영', '강조', '해석', '뉴스', 'unk']\n",
      "\n",
      "[21.0, 738.0, 1770.0, 545.0, 24.0, 24.0, 24.0, 24.0, 24.0, 2979.0, 24.0, 24.0, 2979.0, 24.0, 1734.0, 4324.0, 2979.0, 4324.0, 2979.0, 24.0, 3743.0, 3953.0, 2979.0, 2979.0, 4324.0, 1653.0, 835.0, 1734.0, 1734.0, 0.0, 0.0, 0.0, 0.0, 0.0, 0.0, 0.0, 0.0, 0.0, 0.0, 0.0, 0.0, 0.0, 0.0, 0.0, 0.0, 0.0, 0.0, 0.0, 0.0, 0.0]\n",
      "['sofs', '김정', '북한', '국무위원장', 'unk', 'unk', 'unk', 'unk', 'unk', '위원장', 'unk', 'unk', '위원장', 'unk', '부위원장', '통신', '위원장', '통신', '위원장', 'unk', '준공식', '참석', '위원장', '위원장', '통신', '보도', '노동당', '부위원장', '부위원장']\n",
      "\n",
      "\n",
      "7\n",
      "['확산', '거', '우리나라', '뿐', '유럽', '세계', '각국', '느슨', '방역', '각국', '경제', '봉쇄', '방역', '죄', '기자', '리포트', '프랑스', '유명', '관광지', '식당', '술집', '관광객들', '사람들', '사회적', '거리', '프랑스', '전역', '마스크', '착용', '의무화', '여름', '한창', '유럽', '확산', '현실화', '하루', '신규', '확진자', '육박', '프랑스', '확산세', '조짐', '재확산', '진원지', '스페인', '며칠', '주춤', '신규', '확진자', '느슨', '방역', '파티', '모임', '확산', '주범', '확산', '재확산', '가속', '발', '바이러스', '각국', '정부', '경제활동', '봉쇄', '확산', '차단', '방역', '죄', '이탈리아', '스페인', '영업', '중단', '그리스', '자정', '이후', '식당', '모임', '금지', '방역', '독', '이후', '하루', '감염자', '경각심', '촉구', '총리', '사이', '신규', '확진자', '배', '확산세', '명', '응시', '강행', '누적', '사망자', '명', '브라질', '명', '인도', '명', '세계', '각국', '신규', '확진', '기록', '경신', '정점', '가늠', '확산세가', '지속', '뉴스', 'unk']\n",
      "\n",
      "[21.0, 4507.0, 1767.0, 24.0, 3839.0, 24.0, 24.0, 3839.0, 491.0, 4330.0, 4220.0, 1467.0, 1546.0, 2371.0, 24.0, 2371.0, 4330.0, 2371.0, 4220.0, 491.0, 4330.0, 1547.0, 4220.0, 4184.0, 0.0, 0.0, 0.0, 0.0, 0.0, 0.0, 0.0, 0.0, 0.0, 0.0, 0.0, 0.0, 0.0, 0.0, 0.0, 0.0, 0.0, 0.0, 0.0, 0.0, 0.0, 0.0, 0.0, 0.0, 0.0, 0.0]\n",
      "['sofs', '프랑스', '북부', 'unk', '지역', 'unk', 'unk', '지역', '교통', '통제', '코', '바이러스', '방역', '시스템', 'unk', '시스템', '통제', '시스템', '코', '교통', '통제', '방역당국', '코', '침투']\n",
      "\n",
      "\n",
      "8\n",
      "['대구', '서울', '사랑제일교회', '광화문', '집회', '관련', '첫', '감염', '사례', '방역', '당국', '긴장', '대구', '연결', '기', '서울', '비롯', '감염', '경로', '파악', '기자', '감염자', '명', '요양원', '명', '여성', '서울', '사랑제일교회', '광화문', '집회', '뒤', '확진', '판정', '대구', '서구', '거주', '남성', '접촉자', '광화문', '집회', '관련한', '대구', '경북', '지역', '첫', '감염', '사례', '지역', '감염', '시작', '거', '해당', '요양원', '나머지', '입소', '직원', '전원', '음성', '판정', '대구시', '해당', '요양원', '코호트', '격리조치', '요양원', '남성', '감염병예방법', '위반', '혐의', '고발', '질본', '공식', '집계', '포함', '대구시', '오늘', '집회', '관련', '확진', '판정', '가운데', '집회', '참석', '뒤', '어제', '확진', '판정', '남편', '감염', '신속한', '검진', '필요', '행정명령', '상태', '진행', '기자', '대구시', '내일', '전원', '검사', '행정', '명령', '대구경북', '광화문', '집회', '참가', '명', '추산', '가운데', '검사', '명', '확진자', '검사', '결과', '검사', '천', '명', '만큼', '추', '확진자', '가능성', '주최', '측', '탑승자', '명단', '공개', '거부', '소재', '파악', '개별적', '명', '대구시', '버스', '명단', '공개', '거부', '형사', '고발', '강력', '조치', '방침', '뉴스', 'unk']\n",
      "\n",
      "[21.0, 3184.0, 4254.0, 1531.0, 1532.0, 4254.0, 3530.0, 1532.0, 4254.0, 3530.0, 3070.0, 1532.0, 3530.0, 3530.0, 507.0, 588.0, 588.0, 588.0, 588.0, 588.0, 588.0, 588.0, 588.0, 2378.0, 4225.0, 4225.0, 3524.0, 0.0, 0.0, 0.0, 0.0, 0.0, 0.0, 0.0, 0.0, 0.0, 0.0, 0.0, 0.0, 0.0, 0.0, 0.0, 0.0, 0.0, 0.0, 0.0, 0.0, 0.0, 0.0, 0.0]\n",
      "['sofs', '이태원', '클럽', '방문', '방문자', '클럽', '접촉자', '방문자', '클럽', '접촉자', '음식점', '방문자', '접촉자', '접촉자', '구분', '권', '권', '권', '권', '권', '권', '권', '권', '시장', '코로나바이러스', '코로나바이러스', '접근']\n",
      "\n",
      "\n",
      "9\n",
      "['부산', '가운데', '서울', '광화문', '집회', '관련', '감염자', '파악', '부산', '연결', '기', '광화문', '집회', '관련', '확진자', '외', '경로', '지역사회', '감염', '계속', '거', '기자', '부산', '선박', '관련', '확진자', '어제', '확진된', '고등학생', '학생', '확진', '판정', '해당', '학교', '학생', '교사', '진단검사', '진행', '선박', '관련', '최초', '확진자', '감염', '경로', '불분명', '거', '부산시', '감염경로', '파악', '역학조사', '주력', '상황', '광화문', '집회', '관련', '확진자', '집회', '참석자', '명단', '파악', '부산시', '집회', '대', '명', '참석', '추정', '명', '검사', '가운데', '부산시', '강화', '사회적', '거리두', '내일', '시행', '기자', '해운대', '지역', '해수욕장', '오늘', '자정', '긴급', '해수욕장', '조', '편', '지원', '중단', '발길', '거', '부산', '처음', '클럽', '사실상', '운영', '중단', '수업', '중단', '교회', '예배', '비대', '방식', '허용', '시행', '부산시', '확진', '추이', '뒤', '연장', '뉴스', 'unk']\n",
      "\n",
      "[21.0, 2049.0, 3184.0, 4254.0, 1531.0, 1111.0, 4224.0, 3874.0, 24.0, 3068.0, 4407.0, 24.0, 24.0, 24.0, 3874.0, 3068.0, 4407.0, 24.0, 24.0, 24.0, 3068.0, 4407.0, 24.0, 3807.0, 24.0, 3068.0, 4407.0, 24.0, 3807.0, 0.0, 0.0, 0.0, 0.0, 0.0, 0.0, 0.0, 0.0, 0.0, 0.0, 0.0, 0.0, 0.0, 0.0, 0.0, 0.0, 0.0, 0.0, 0.0, 0.0, 0.0]\n",
      "['sofs', '서울', '이태원', '클럽', '방문', '뒤', '코로나', '진단검사', 'unk', '음성', '판정', 'unk', 'unk', 'unk', '진단검사', '음성', '판정', 'unk', 'unk', 'unk', '음성', '판정', 'unk', '증세', 'unk', '음성', '판정', 'unk', '증세']\n",
      "\n",
      "\n",
      "10\n",
      "['기업들', '상황', '포스코', '오늘', '확진자', '소독', '재택근무', '긴급', '대응', '여력', '나름', '고민', '리포트', '직원', '확진된', '입', '건물', '소독', '사옥', '보안', '관계', '소독', '직원', '출근', '상태', '주말', '서울', '강남', '건물', '방역', '직원', '재택근무', '확진', '판정', '직원', '휴가', '출근', '상황', '대비한', '서울', '주재', '직원', '명', '근무', '재택근무', '이천', '확진자', '층', '폐쇄', '동선', '격리', '조치', '수도권', '사업장', '확진자', '기업들', '비상', '삼성', '한화', '대기업들', '교육', '회의', '여럿', '거', '제한', '휴가', '권장', '재택근무', '실시', '적극적', '조치', '여력', '남', '이야기', '눈', '매출도', '재택근무', '인근', '입주', '업체', '뭐', '대기업', '중소기업', '걸', '인근', '입주', '업체', '걱정', '중소기업', '탄탄', '회사들', '초', '매출', '대기업', '대기업', '중소기업', '중소기업', '뉴스', 'unk']\n",
      "\n",
      "[21.0, 257.0, 2894.0, 4224.0, 4799.0, 1517.0, 24.0, 24.0, 24.0, 24.0, 24.0, 24.0, 3865.0, 24.0, 24.0, 24.0, 24.0, 3417.0, 24.0, 24.0, 24.0, 3865.0, 3417.0, 0.0, 0.0, 0.0, 0.0, 0.0, 0.0, 0.0, 0.0, 0.0, 0.0, 0.0, 0.0, 0.0, 0.0, 0.0, 0.0, 0.0, 0.0, 0.0, 0.0, 0.0, 0.0, 0.0, 0.0, 0.0, 0.0, 0.0]\n",
      "['sofs', '경기', '용인시', '코로나', '확진자', '발생', 'unk', 'unk', 'unk', 'unk', 'unk', 'unk', '직원', 'unk', 'unk', 'unk', 'unk', '재난지원금', 'unk', 'unk', 'unk', '직원', '재난지원금']\n",
      "\n",
      "\n",
      "11\n",
      "['확산', '정치권', '상태', '확진자', '간접', '접촉', '민주당', '이낙연', '의원', '어제', '오전', '음성', '판정', '자가격리', '민주당', '전당대회', '선거운동', '일정', '차질', '기자', '보도', '리포트', '라디오', '프로그램', '출연', '확진자', '간접', '접촉', '민주당', '이낙연', '의원', '어제', '오전', '음성', '판정', '보건소', '정오', '자가격리', '당권', '주자', '의원', '격리', '열리', '전당대회', '선거운동', '일정', '차질', '빚', '가능성', '당초', '어제', '예정', '토론회', '취소', '가운데', '경기도', '서울', '일정', '변경', '의원', '당대표', '선거', '출마', '선거', '일정', '차질', '송구', '면', '중요', '민주당', '전당대회', '규모', '축소', '온라인', '진행', '결론', '대변인', '완전', '온라인', '방식', '상황', '코', '재확산', '여파', '국회', '전반적', '비상', '체제', '돌입', '후보', '인사청문회', '참석', '인원', '채', '진행', '위원장', '오전', '회의', '부득이', '사정', '의원', '확진자', '접촉', '가능성', '청문회', '도중', '자리', '임시국회', '일정', '비대면', '축소', '연기', '조정', '뉴스', 'unk']\n",
      "\n",
      "[21.0, 1394.0, 1016.0, 24.0, 24.0, 24.0, 24.0, 24.0, 24.0, 969.0, 2205.0, 131.0, 24.0, 969.0, 1016.0, 24.0, 969.0, 3500.0, 2205.0, 3189.0, 873.0, 3762.0, 4769.0, 24.0, 4159.0, 24.0, 4159.0, 0.0, 0.0, 0.0, 0.0, 0.0, 0.0, 0.0, 0.0, 0.0, 0.0, 0.0, 0.0, 0.0, 0.0, 0.0, 0.0, 0.0, 0.0, 0.0, 0.0, 0.0, 0.0, 0.0]\n",
      "['sofs', '문재', '대통령', 'unk', 'unk', 'unk', 'unk', 'unk', 'unk', '대국민', '소통', '강화', 'unk', '대국민', '대통령', 'unk', '대국민', '전용', '소통', '이하', '높이', '중국인들', '화', 'unk', '측면', 'unk', '측면']\n",
      "\n",
      "\n",
      "12\n",
      "['유럽연합', '회원국', '정상들', '관련해', '어제', '긴급', '화상회의', '대선', '결과', '인정', '부정', '시위', '탄압', '책', '제재', '부과', '소련', '독립', '국', '대선', '결과', '불복', '시위', '열흘', '계속', '모스크바', '특파원', '보도', '리포트', '유럽연합', '회원국', '정상들', '긴급', '화상회의', '대선', '결과', '인정', '총리', '공정', '자유', '선거', '결과', '인정', '유럽연합', '부정선거', '시위', '탄압', '책', '제재', '부과', '정상회의', '폭력', '탄압', '부정선거', '책', '상당한', '인원', '개인', '제재', '부과', '대통령', '선거', '집권', '대통령', '압승', '결과', '시작', '시위', '어제', '하루', '계속', '외', '시위', '과정', '사망', '야권', '정권', '촉진', '구성', '야권', '대선', '후보', '국제', '공정', '민주적', '대선', '실시', '제안', '개헌', '언급', '바', '대통령', '강경', '대응', '방침', '시사', '대통령', '칼', '사람들', '해외', '심각', '저항', '직면', '한편', '러시아', '조약', '지원', '필요성', '현재', '외부', '개입', '입장', '모스크바', '뉴스', 'unk']\n",
      "\n",
      "[21.0, 1044.0, 4357.0, 1418.0, 1016.0, 738.0, 1770.0, 545.0, 4176.0, 3591.0, 4357.0, 1016.0, 2979.0, 24.0, 24.0, 24.0, 24.0, 4357.0, 1016.0, 4176.0, 2857.0, 4357.0, 1016.0, 3900.0, 4357.0, 1016.0, 2857.0, 0.0, 0.0, 0.0, 0.0, 0.0, 0.0, 0.0, 0.0, 0.0, 0.0, 0.0, 0.0, 0.0, 0.0, 0.0, 0.0, 0.0, 0.0, 0.0, 0.0, 0.0, 0.0, 0.0]\n",
      "['sofs', '도널드', '트럼프', '미국', '대통령', '김정', '북한', '국무위원장', '친서', '제목', '트럼프', '대통령', '위원장', 'unk', 'unk', 'unk', 'unk', '트럼프', '대통령', '친서', '외교', '트럼프', '대통령', '질의', '트럼프', '대통령', '외교']\n",
      "\n",
      "\n",
      "13\n",
      "['사회적', '거리두', '강화', '대중교통', '이용', '마스크', '운전기사', '승객들', '마스크', '얘기', '폭력적', '반응', '사람들', '경찰', '엄정', '대응', '기자', '보도', '리포트', '중년', '남성', '마스크', '채', '운전기사', '마스크', '착용', '요구', '차', '욕설', '폭행', '당시', '폭행', '벨트', '폭행', '버스', '운행', '불가능', '승객들', '버스', '폭력', '행사', '버스', '마스크', '착용', '요구', '불구', '욕설', '거', '마스크', '새벽', '택시기사', '마스크', '착용', '요구', '차량', '물건', '폭행', '마스크', '지하철', '몸', '문', '운행', '방해', '달', '마스크', '착용', '폭력', '경찰', '경기', '남부', '하루', '평균', '명', '꼴', '발생', '피의자', '평소', '주변', '유사', '행위', '확인', '대중교통', '마스크', '착용', '권고', '뒤', '버스', '택시', '전철', '대중교통', '발생', '상해', '절반', '경찰', '대중교통', '폭력적', '방역', '수칙', '위반', '은', '형사', '전담', '수사', '발생', '사건', '원칙', '엄정', '대응', '방침', '뉴스', 'unk']\n",
      "\n",
      "[21.0, 4293.0, 841.0, 3865.0, 4483.0, 1874.0, 24.0, 24.0, 4483.0, 1874.0, 1517.0, 24.0, 24.0, 4483.0, 1874.0, 1517.0, 24.0, 1874.0, 4535.0, 4211.0, 1472.0, 3780.0, 3934.0, 1033.0, 4128.0, 4012.0, 4476.0, 4483.0, 0.0, 0.0, 0.0, 0.0, 0.0, 0.0, 0.0, 0.0, 0.0, 0.0, 0.0, 0.0, 0.0, 0.0, 0.0, 0.0, 0.0, 0.0, 0.0, 0.0, 0.0, 0.0]\n",
      "['sofs', '택시기사', '노래방', '직원', '폭행', '사건', 'unk', 'unk', '폭행', '사건', '발생', 'unk', 'unk', '폭행', '사건', '발생', 'unk', '사건', '피해자', '커뮤니티', '박능후', '중앙재난안전대책본부', '차장', '댓글', '출연', '청원', '폭언', '폭행']\n",
      "\n",
      "\n",
      "14\n",
      "['미국', '민주당', '온라인', '전당대회', '대선', '출마', '민주당', '대통령', '후보', '조', '바', '부통령', '공식', '지명', '미', '대선', '워싱턴', '특파원', '보도', '리포트', '온라인', '진행', '민주당', '전당대회', '조', '바', '부통령', '투표', '절차', '당', '대선', '후보', '공식', '지명', '민주당', '조', '바', '부통령', '민주당', '대통령', '후보', '공식', '지명', '발표', '가족', '바', '후보', '민주당', '대통령', '후보', '감사', '마음', '바', '미국', '목요일', '밤', '공식', '수락', '연설', '후보', '지명', '당일', '부인', '바이든', '질', '후보', '부인', '나라', '합당', '리더십', '뿐', '합당', '리더십', '정직', '리더십', '상원의원', '전염병', '미국', '사망자', '명', '상황', '뿐', '트럼프', '대통령', '발언', '정면', '민주당', '상원의원', '수백만', '명', '일자리', '명', '미국인', '도널드', '트럼프', '뿐', '대통령', '뿐', '공화당', '부시', '행정부', '국무장관', '민주당', '후보', '바이든', '이유', '리더십', '미국', '국무장관', '미국', '대통령', '조', '바이든', '추구', '가치', '대변', '백악관', '회복', '클린턴', '대통령', '현', '백악관', '혼란', '트럼프', '대통령', '비난', '민주당', '대통령', '후보', '공식', '지명', '가운데', '사실상', '공화당', '후보', '결정', '트럼프', '대통령', '백악관', '후보', '지명', '수락', '연설', '예정', '워싱턴', '뉴스', 'unk']\n",
      "\n",
      "[21.0, 1394.0, 1016.0, 997.0, 4843.0, 2088.0, 1894.0, 2088.0, 3904.0, 997.0, 2591.0, 4847.0, 1571.0, 3571.0, 1194.0, 1194.0, 2687.0, 2761.0, 2342.0, 24.0, 1194.0, 2687.0, 1525.0, 238.0, 1525.0, 238.0, 318.0, 976.0, 174.0, 24.0, 1095.0, 1095.0, 1095.0, 1095.0, 2687.0, 238.0, 3634.0, 238.0, 3634.0, 238.0, 0.0, 0.0, 0.0, 0.0, 0.0, 0.0, 0.0, 0.0, 0.0, 0.0]\n",
      "['sofs', '문재', '대통령', '대선', '후보', '선출', '사무총장', '선출', '집계', '대선', '압승', '후보자', '배정', '정점', '리얼미터', '리얼미터', '여론조사', '열린민주당', '승리', 'unk', '리얼미터', '여론조사', '발표', '결과', '발표', '결과', '고민정', '대답', '거기', 'unk', '동작', '동작', '동작', '동작', '여론조사', '결과', '조사', '결과', '조사', '결과']\n",
      "\n",
      "\n",
      "15\n",
      "['수도권', '교회', '광화문', '집회', '중심', '지역', '확산세가', '심상치', '어제', '대전', '광화문', '집회', '참가자', '확진', '판정', '추', '확산', '참가자들', '자발적', '검사', '상황', '기자', '리포트', '서울', '확진자', '대전', '충남', '현재', '대전', '남녀', '여성', '부', '여성', '광화문', '집회', '참가자', '의무적', '검사', '행정명령', '상황', '확진자', '포함', '대전', '세종', '충남', '명', '검사', '명', '음성', '판정', '해당', '명', '검사', '결과', '검사', '집회', '참가자', '대전', '집회', '참가', '인원', '최소', '명', '파악', '이용자', '추산', '충남', '명', '세종', '명', '참가', '파악', '명단', '정확', '참가자', '파악', '당', '운행', '버스', '기사', '파악', '숫자', '외', '단체', '소유', '버스', '이동', '참석', '추정', '경찰', '협조', '기지국', '참가자', '파악', '가족', '건강', '이웃', '검사', '대', '접촉', '금지', '집회', '참가자들', '검사', '참여', '지역', '감염', '재확산', '변수', '가능성', '뉴스', 'unk']\n",
      "\n",
      "[21.0, 2439.0, 4225.0, 93.0, 1521.0, 3756.0, 4842.0, 2913.0, 597.0, 480.0, 62.0, 3514.0, 2895.0, 246.0, 1876.0, 3811.0, 286.0, 3449.0, 2880.0, 1888.0, 2407.0, 2407.0, 2407.0, 3731.0, 480.0, 62.0, 62.0, 0.0, 0.0, 0.0, 0.0, 0.0, 0.0, 0.0, 0.0, 0.0, 0.0, 0.0, 0.0, 0.0, 0.0, 0.0, 0.0, 0.0, 0.0, 0.0, 0.0, 0.0, 0.0, 0.0]\n",
      "['sofs', '신종', '코로나바이러스', '감염증', '발원지', '중국', '후베이성', '우한', '귀국한', '교민', '가족', '전파', '우', '결정적', '사고', '증언', '경찰', '적발', '요양원', '사망', '신고', '신고', '신고', '주택', '교민', '가족', '가족']\n",
      "\n",
      "\n",
      "16\n",
      "['전세', '물건', '목소리', '임대차', '시행', '이후', '전세', '월세', '전환', '우려', '정부', '월세', '기자', '설명', '리포트', '부동산', '관계', '아파트', '세대', '전세', '매물', '물량', '눈', '표시', '서울', '아파트', '전세', '물건', '시장', '통계', '전세', '아파트', '수요', '공급', '수급', '지수', '달', '기준', '서울', '전국', '공급', '수요', '뜻', '이후', '공급', '부족', '가격', '밖', '임대차', '시행', '전세', '월세', '거란', '전망', '세입자', '불안감', '정부', '월세', '손', '거', '원', '전세', '보증금', '원', '월세', '약', '원', '월세', '줄', '집주인', '월세', '감소', '전세', '월세', '전환', '가능성', '이걸', '세입자', '주택', '구제', '조정', '소송', '전문가들', '조치', '전세', '월세', '전환', '속도', '월세', '전환', '추세', '자체', '거란', '전망', '은행', '예금', '비교', '수익률', '중요', '월세', '기존', '전세', '월세', '적용', '거', '월세', '월세', '재계약', '월세', '계약', '적용', '월세', '전세', '한국감정원', '발표', '토대', '당사자', '협의', '뉴스', 'unk']\n",
      "\n",
      "[21.0, 3485.0, 540.0, 1015.0, 14.0, 621.0, 1979.0, 24.0, 2154.0, 3817.0, 3589.0, 2487.0, 992.0, 1611.0, 1531.0, 24.0, 24.0, 24.0, 333.0, 2568.0, 3549.0, 1678.0, 2278.0, 2010.0, 0.0, 0.0, 0.0, 0.0, 0.0, 0.0, 0.0, 0.0, 0.0, 0.0, 0.0, 0.0, 0.0, 0.0, 0.0, 0.0, 0.0, 0.0, 0.0, 0.0, 0.0, 0.0, 0.0, 0.0, 0.0, 0.0]\n",
      "['sofs', '전세', '국내', '대치동', 'lg유플러스', '근로자', '상당수', 'unk', '세입자', '지급', '제도', '심각', '대비해', '법인', '방문', 'unk', 'unk', 'unk', '고용', '안전', '정부', '보호', '수입차', '상황']\n",
      "\n",
      "\n",
      "17\n",
      "['발생', '확진자', '대부분', '보건당국', '역학조사', '파악', '서울', '사랑제일교회', '방문자', '대규모', '집회', '참가자', '기간', '오늘', '대상자', '확보', '기자', '보도', '리포트', '이틀', '확진', '판정', '북', '확진자', '서울', '주소', '최근', '사랑제일교회', '교회', '폐쇄', '명령', '군산', '보건당국', '애초', '신도', '분류', '휴대전화', '명단', '확보', '북', '확진자', '접촉', '뒤', '양성', '판정', '전주', '남성', '명', '신고', '검사', '사례', '역학조사', '당시', '확진자', '술', '접촉자', '분류', '거', '전국적', '확진자', '속출', '사랑제일교회', '방문자', '서울', '광화문', '집회', '참가자', '명단', '확보', '한계', '보건당국', '종교', '활동', '소모', '자제', '권고', '서울', '집회', '참가자', '대상', '검사', '의무', '행정명령', '경로', '확실', '파악', '격리조치', '진단검사', '확진', '지역', '감염', '확산', '조짐', '가운데', '보건당국', '조사', '대응', '필요', '뉴스', 'unk']\n",
      "\n",
      "[21.0, 4224.0, 4799.0, 1517.0, 24.0, 24.0, 24.0, 24.0, 24.0, 24.0, 24.0, 24.0, 24.0, 24.0, 24.0, 4224.0, 4799.0, 3184.0, 4254.0, 1532.0, 4254.0, 1532.0, 3275.0, 2202.0, 24.0, 24.0, 4254.0, 0.0, 0.0, 0.0, 0.0, 0.0, 0.0, 0.0, 0.0, 0.0, 0.0, 0.0, 0.0, 0.0, 0.0, 0.0, 0.0, 0.0, 0.0, 0.0, 0.0, 0.0, 0.0, 0.0]\n",
      "['sofs', '코로나', '확진자', '발생', 'unk', 'unk', 'unk', 'unk', 'unk', 'unk', 'unk', 'unk', 'unk', 'unk', 'unk', '코로나', '확진자', '이태원', '클럽', '방문자', '클럽', '방문자', '일행', '소재', 'unk', 'unk', '클럽']\n",
      "\n",
      "\n",
      "18\n",
      "['확산', '사랑제일교회', '교인', '접촉자', '검사', '격리', '교회', '측이', '제출', '명단', '전화번호', '교회', '무관', '명단', '포함', '사랑제일교회', '측은', '방역', '당국', '명단', '요청', '반박', '기자', '취재', '리포트', '서울', '제보자', '박', '아내', '주말', '검사', '문자', '사랑제일교회', '근처', '제보자', '박', '교회', '연관', '문자', '사용', '분', '교회', '불교', '신자', '사랑제일교회', '제출', '명단', '포함', '불교', '집안', '식', '문자', '검사', '분', '검사', '문자', '번호', '성북구', '약', '천', '통', '항의', '전화', '얘기', '교인', '방문', '검사', '얘기', '교회', '측이', '제출', '명단', '옛날', '번호', '명단', '정확', '검사', '자가격리', '조처', '뿐', '낭비', '지적', '검사', '당사자들', '전화', '관련', '생명', '사랑제일교회', '측은', '명단', '당국', '명단', '과잉', '요청', '며', '교회', '집회', '참여자', '검사', '강요', '반발', '확진', '판정', '교회', '전광훈', '목사', '구급차', '마스크', '전화', '통화', '모습', '포착', '이송', '담당', '직원', '휴일', '방호복', '착용', '출동', '상태', '이송', '직원', '분', '일', '반성', '모습', '거란', '전국', '확산', '교', '입장', '질문', '교회', '측은', '답', '뉴스', 'unk']\n",
      "\n",
      "[21.0, 3624.0, 1608.0, 3363.0, 2589.0, 2260.0, 728.0, 551.0, 3619.0, 3384.0, 3631.0, 3631.0, 24.0, 1309.0, 3239.0, 24.0, 24.0, 24.0, 1309.0, 1933.0, 3944.0, 24.0, 3082.0, 3082.0, 4629.0, 24.0, 24.0, 24.0, 24.0, 24.0, 3363.0, 547.0, 3363.0, 2590.0, 4323.0, 2590.0, 705.0, 2590.0, 2781.0, 661.0, 2430.0, 2289.0, 645.0, 3627.0, 1352.0, 24.0, 24.0, 24.0, 0.0, 0.0]\n",
      "['sofs', '조국', '법무장관', '자택', '압수', '수색', '김모', '국민연금', '조', '장관', '조모씨', '조모씨', 'unk', '명령', '인턴', 'unk', 'unk', 'unk', '명령', '사죄', '착취물', 'unk', '의대', '의대', '합격', 'unk', 'unk', 'unk', 'unk', 'unk', '자택', '국무총리', '자택', '압수수색', '통보', '압수수색', '기증', '압수수색', '영장', '기각', '신속', '수칙', '금지', '조롱', '목적', 'unk', 'unk', 'unk']\n",
      "\n",
      "\n",
      "19\n",
      "['미', '대통령', '선거', '선거', '민주당', '전당대회', '막', '현지시간', '월요일', '목요일', '나흘', '진행', '전례', '화상', '행사', '방식', '조', '바', '부통령', '대선', '후보', '공식', '선출', '자리', '만큼', '인사들', '지원', '사격', '첫', '날', '어제', '미셸', '오바마', '트럼프', '대통령', '거세', '비판', '바', '후보', '공감', '리더십', '강조', '미국', '대통령', '부인', '경제', '우리나라', '필요', '조', '바', '국민들', '귀', '진실', '과학', '거', '경선', '조', '바', '부통령', '샌더스', '상원의원', '연설', '민주당', '상원의원', '전례', '위', '전례', '대응', '필요', '민주주의', '대통령', '조', '바이든', '필요', '바', '부통령', '대선', '후보', '공식', '지명', '예정', '셋째', '날', '해리스', '상원의원', '부통령', '후보', '지명', '마지막', '바', '부통령', '정치적', '고향', '수락', '연설', '한편', '트럼프', '대통령', '시작', '집중', '견제', '격전지', '일자리', '창출', '약속', '연설', '대통령', '중국', '공장', '미국', '기업', '세제', '혜택', '신설', '해외', '이전', '미국', '기업', '관세', '부과', '예정', '상대', '당', '전당대회', '기간', '방문', '주목', '만', '언행', '미', '트럼프', '대통령', '줄', '방문', '바이든', '인기', '상승', '차단', '거', '공화당', '전당대회', '예정', '최근', '지지율', '플로리다', '격전지', '트럼프', '바이든', '양상', 'unk']\n",
      "\n",
      "[21.0, 1044.0, 4357.0, 1418.0, 1016.0, 997.0, 3016.0, 4396.0, 3619.0, 24.0, 1454.0, 4843.0, 1454.0, 4843.0, 1454.0, 4843.0, 2603.0, 24.0, 24.0, 1276.0, 4357.0, 1016.0, 24.0, 24.0, 24.0, 24.0, 24.0, 1454.0, 2065.0, 4357.0, 1016.0, 0.0, 0.0, 0.0, 0.0, 0.0, 0.0, 0.0, 0.0, 0.0, 0.0, 0.0, 0.0, 0.0, 0.0, 0.0, 0.0, 0.0, 0.0, 0.0]\n",
      "['sofs', '도널드', '트럼프', '미국', '대통령', '대선', '유세', '판', '조', 'unk', '민주당', '후보', '민주당', '후보', '민주당', '후보', '앤드루', 'unk', 'unk', '메', '트럼프', '대통령', 'unk', 'unk', 'unk', 'unk', 'unk', '민주당', '석', '트럼프', '대통령']\n",
      "\n",
      "\n"
     ]
    }
   ],
   "source": [
    "for i in range(20):\n",
    "    #preprocess according to dictionary\n",
    "    tmp = kmorphs[i].copy()\n",
    "    tmp = ' '.join(tmp)\n",
    "    tmp = filterit_body(tmp)\n",
    "    \n",
    "    test_en_inp = np.zeros((1, body_max_length),dtype='float32')\n",
    "    \n",
    "    #pad\n",
    "    for t, word in enumerate(tmp.split()):\n",
    "        if t==300:\n",
    "            break\n",
    "        test_en_inp[0, t] = input_token_index[word]\n",
    "\n",
    "        \n",
    "    #Predict\n",
    "    decoder_input_data_pred = np.zeros((len(kmorphs), summ_max_length),dtype='float32')\n",
    "    \n",
    "    final_pred_att = []\n",
    "    print(i)\n",
    "    word = 21\n",
    "    for j in range(summ_max_length):\n",
    "        decoder_input_data_pred[i, j] = word\n",
    "        pred =attention.predict([test_en_inp[0].reshape(1,body_max_length),decoder_input_data_pred[i].reshape(1,summ_max_length)])\n",
    "        t = np.argmax(pred[0][j])\n",
    "        word = t\n",
    "        if word==5:\n",
    "            break\n",
    "    final_pred_att.append(list(decoder_input_data_pred[i]))\n",
    "    \n",
    "    \n",
    "    #실제 본문\n",
    "    b = []\n",
    "    for j in range(len(test_en_inp[0])):\n",
    "        if int(test_en_inp[0][j])!=0:\n",
    "            b.append(list(input_token_index.keys())[int(test_en_inp[0][j]-1)])\n",
    "    print(b)\n",
    "    print()\n",
    "\n",
    "    #키워드 예측\n",
    "    print(final_pred_att[0])\n",
    "    tmp=[]\n",
    "    for _ in range(len(final_pred_att[0])):\n",
    "        if int(final_pred_att[0][_])!=0:\n",
    "            tmp.append(list(target_token_index.keys())[int(final_pred_att[0][_]-1)])\n",
    "    print(tmp)\n",
    "    print()\n",
    "    print()"
   ]
  },
  {
   "cell_type": "code",
   "execution_count": null,
   "metadata": {},
   "outputs": [],
   "source": []
  }
 ],
 "metadata": {
  "accelerator": "GPU",
  "colab": {
   "collapsed_sections": [],
   "name": "Machine_translation.ipynb",
   "provenance": []
  },
  "kernelspec": {
   "display_name": "Python 3",
   "language": "python",
   "name": "python3"
  },
  "language_info": {
   "codemirror_mode": {
    "name": "ipython",
    "version": 3
   },
   "file_extension": ".py",
   "mimetype": "text/x-python",
   "name": "python",
   "nbconvert_exporter": "python",
   "pygments_lexer": "ipython3",
   "version": "3.8.5"
  }
 },
 "nbformat": 4,
 "nbformat_minor": 4
}
